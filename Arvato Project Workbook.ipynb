{
 "cells": [
  {
   "cell_type": "markdown",
   "metadata": {},
   "source": [
    "# Capstone Project: Create a Customer Segmentation Report for Arvato Financial Services\n",
    "\n",
    "In this project, you will analyze demographics data for customers of a mail-order sales company in Germany, comparing it against demographics information for the general population. You'll use unsupervised learning techniques to perform customer segmentation, identifying the parts of the population that best describe the core customer base of the company. Then, you'll apply what you've learned on a third dataset with demographics information for targets of a marketing campaign for the company, and use a model to predict which individuals are most likely to convert into becoming customers for the company. The data that you will use has been provided by our partners at Bertelsmann Arvato Analytics, and represents a real-life data science task.\n",
    "\n",
    "If you completed the first term of this program, you will be familiar with the first part of this project, from the unsupervised learning project. The versions of those two datasets used in this project will include many more features and has not been pre-cleaned. You are also free to choose whatever approach you'd like to analyzing the data rather than follow pre-determined steps. In your work on this project, make sure that you carefully document your steps and decisions, since your main deliverable for this project will be a blog post reporting your findings."
   ]
  },
  {
   "cell_type": "code",
   "execution_count": 1,
   "metadata": {},
   "outputs": [],
   "source": [
    "# import libraries here; add more as necessary\n",
    "import numpy as np\n",
    "import pandas as pd\n",
    "import matplotlib.pyplot as plt\n",
    "import seaborn as sns\n",
    "\n",
    "# magic word for producing visualizations in notebook\n",
    "%matplotlib inline"
   ]
  },
  {
   "cell_type": "markdown",
   "metadata": {},
   "source": [
    "## Part 0: Get to Know the Data\n",
    "\n",
    "There are four data files associated with this project:\n",
    "\n",
    "- `Udacity_AZDIAS_052018.csv`: Demographics data for the general population of Germany; 891 211 persons (rows) x 366 features (columns).\n",
    "- `Udacity_CUSTOMERS_052018.csv`: Demographics data for customers of a mail-order company; 191 652 persons (rows) x 369 features (columns).\n",
    "- `Udacity_MAILOUT_052018_TRAIN.csv`: Demographics data for individuals who were targets of a marketing campaign; 42 982 persons (rows) x 367 (columns).\n",
    "- `Udacity_MAILOUT_052018_TEST.csv`: Demographics data for individuals who were targets of a marketing campaign; 42 833 persons (rows) x 366 (columns).\n",
    "\n",
    "Each row of the demographics files represents a single person, but also includes information outside of individuals, including information about their household, building, and neighborhood. Use the information from the first two files to figure out how customers (\"CUSTOMERS\") are similar to or differ from the general population at large (\"AZDIAS\"), then use your analysis to make predictions on the other two files (\"MAILOUT\"), predicting which recipients are most likely to become a customer for the mail-order company.\n",
    "\n",
    "The \"CUSTOMERS\" file contains three extra columns ('CUSTOMER_GROUP', 'ONLINE_PURCHASE', and 'PRODUCT_GROUP'), which provide broad information about the customers depicted in the file. The original \"MAILOUT\" file included one additional column, \"RESPONSE\", which indicated whether or not each recipient became a customer of the company. For the \"TRAIN\" subset, this column has been retained, but in the \"TEST\" subset it has been removed; it is against that withheld column that your final predictions will be assessed in the Kaggle competition.\n",
    "\n",
    "Otherwise, all of the remaining columns are the same between the three data files. For more information about the columns depicted in the files, you can refer to two Excel spreadsheets provided in the workspace. [One of them](./DIAS Information Levels - Attributes 2017.xlsx) is a top-level list of attributes and descriptions, organized by informational category. [The other](./DIAS Attributes - Values 2017.xlsx) is a detailed mapping of data values for each feature in alphabetical order.\n",
    "\n",
    "In the below cell, we've provided some initial code to load in the first two datasets. Note for all of the `.csv` data files in this project that they're semicolon (`;`) delimited, so an additional argument in the [`read_csv()`](https://pandas.pydata.org/pandas-docs/stable/generated/pandas.read_csv.html) call has been included to read in the data properly. Also, considering the size of the datasets, it may take some time for them to load completely.\n",
    "\n",
    "You'll notice when the data is loaded in that a warning message will immediately pop up. Before you really start digging into the modeling and analysis, you're going to need to perform some cleaning. Take some time to browse the structure of the data and look over the informational spreadsheets to understand the data values. Make some decisions on which features to keep, which features to drop, and if any revisions need to be made on data formats. It'll be a good idea to create a function with pre-processing steps, since you'll need to clean all of the datasets before you work with them."
   ]
  },
  {
   "cell_type": "markdown",
   "metadata": {},
   "source": [
    "### Data Exploration - general population vs. customers\n",
    "\n",
    "#### Load general population and customers dataset"
   ]
  },
  {
   "cell_type": "code",
   "execution_count": 2,
   "metadata": {},
   "outputs": [
    {
     "name": "stderr",
     "output_type": "stream",
     "text": [
      "/Users/fc/anaconda3/lib/python3.6/site-packages/IPython/core/interactiveshell.py:2698: DtypeWarning: Columns (18,19) have mixed types. Specify dtype option on import or set low_memory=False.\n",
      "  interactivity=interactivity, compiler=compiler, result=result)\n"
     ]
    }
   ],
   "source": [
    "# load in the data\n",
    "# general population dataset\n",
    "azdias_df = pd.read_csv('arvato_data/Udacity_AZDIAS_052018.csv', sep=';')\n",
    "\n",
    "# customers dataset\n",
    "customers_df = pd.read_csv('arvato_data/Udacity_CUSTOMERS_052018.csv', sep=';')"
   ]
  },
  {
   "cell_type": "code",
   "execution_count": 3,
   "metadata": {},
   "outputs": [
    {
     "name": "stdout",
     "output_type": "stream",
     "text": [
      "<class 'pandas.core.frame.DataFrame'>\n",
      "RangeIndex: 891221 entries, 0 to 891220\n",
      "Columns: 366 entries, LNR to ALTERSKATEGORIE_GROB\n",
      "dtypes: float64(267), int64(93), object(6)\n",
      "memory usage: 2.4+ GB\n"
     ]
    }
   ],
   "source": [
    "azdias_df.info()"
   ]
  },
  {
   "cell_type": "code",
   "execution_count": 4,
   "metadata": {},
   "outputs": [
    {
     "data": {
      "text/html": [
       "<div>\n",
       "<style scoped>\n",
       "    .dataframe tbody tr th:only-of-type {\n",
       "        vertical-align: middle;\n",
       "    }\n",
       "\n",
       "    .dataframe tbody tr th {\n",
       "        vertical-align: top;\n",
       "    }\n",
       "\n",
       "    .dataframe thead th {\n",
       "        text-align: right;\n",
       "    }\n",
       "</style>\n",
       "<table border=\"1\" class=\"dataframe\">\n",
       "  <thead>\n",
       "    <tr style=\"text-align: right;\">\n",
       "      <th></th>\n",
       "      <th>LNR</th>\n",
       "      <th>AGER_TYP</th>\n",
       "      <th>AKT_DAT_KL</th>\n",
       "      <th>ALTER_HH</th>\n",
       "      <th>ALTER_KIND1</th>\n",
       "      <th>ALTER_KIND2</th>\n",
       "      <th>ALTER_KIND3</th>\n",
       "      <th>ALTER_KIND4</th>\n",
       "      <th>ALTERSKATEGORIE_FEIN</th>\n",
       "      <th>ANZ_HAUSHALTE_AKTIV</th>\n",
       "      <th>...</th>\n",
       "      <th>VHN</th>\n",
       "      <th>VK_DHT4A</th>\n",
       "      <th>VK_DISTANZ</th>\n",
       "      <th>VK_ZG11</th>\n",
       "      <th>W_KEIT_KIND_HH</th>\n",
       "      <th>WOHNDAUER_2008</th>\n",
       "      <th>WOHNLAGE</th>\n",
       "      <th>ZABEOTYP</th>\n",
       "      <th>ANREDE_KZ</th>\n",
       "      <th>ALTERSKATEGORIE_GROB</th>\n",
       "    </tr>\n",
       "  </thead>\n",
       "  <tbody>\n",
       "    <tr>\n",
       "      <th>0</th>\n",
       "      <td>910215</td>\n",
       "      <td>-1</td>\n",
       "      <td>NaN</td>\n",
       "      <td>NaN</td>\n",
       "      <td>NaN</td>\n",
       "      <td>NaN</td>\n",
       "      <td>NaN</td>\n",
       "      <td>NaN</td>\n",
       "      <td>NaN</td>\n",
       "      <td>NaN</td>\n",
       "      <td>...</td>\n",
       "      <td>NaN</td>\n",
       "      <td>NaN</td>\n",
       "      <td>NaN</td>\n",
       "      <td>NaN</td>\n",
       "      <td>NaN</td>\n",
       "      <td>NaN</td>\n",
       "      <td>NaN</td>\n",
       "      <td>3</td>\n",
       "      <td>1</td>\n",
       "      <td>2</td>\n",
       "    </tr>\n",
       "    <tr>\n",
       "      <th>1</th>\n",
       "      <td>910220</td>\n",
       "      <td>-1</td>\n",
       "      <td>9.0</td>\n",
       "      <td>0.0</td>\n",
       "      <td>NaN</td>\n",
       "      <td>NaN</td>\n",
       "      <td>NaN</td>\n",
       "      <td>NaN</td>\n",
       "      <td>21.0</td>\n",
       "      <td>11.0</td>\n",
       "      <td>...</td>\n",
       "      <td>4.0</td>\n",
       "      <td>8.0</td>\n",
       "      <td>11.0</td>\n",
       "      <td>10.0</td>\n",
       "      <td>3.0</td>\n",
       "      <td>9.0</td>\n",
       "      <td>4.0</td>\n",
       "      <td>5</td>\n",
       "      <td>2</td>\n",
       "      <td>1</td>\n",
       "    </tr>\n",
       "    <tr>\n",
       "      <th>2</th>\n",
       "      <td>910225</td>\n",
       "      <td>-1</td>\n",
       "      <td>9.0</td>\n",
       "      <td>17.0</td>\n",
       "      <td>NaN</td>\n",
       "      <td>NaN</td>\n",
       "      <td>NaN</td>\n",
       "      <td>NaN</td>\n",
       "      <td>17.0</td>\n",
       "      <td>10.0</td>\n",
       "      <td>...</td>\n",
       "      <td>2.0</td>\n",
       "      <td>9.0</td>\n",
       "      <td>9.0</td>\n",
       "      <td>6.0</td>\n",
       "      <td>3.0</td>\n",
       "      <td>9.0</td>\n",
       "      <td>2.0</td>\n",
       "      <td>5</td>\n",
       "      <td>2</td>\n",
       "      <td>3</td>\n",
       "    </tr>\n",
       "    <tr>\n",
       "      <th>3</th>\n",
       "      <td>910226</td>\n",
       "      <td>2</td>\n",
       "      <td>1.0</td>\n",
       "      <td>13.0</td>\n",
       "      <td>NaN</td>\n",
       "      <td>NaN</td>\n",
       "      <td>NaN</td>\n",
       "      <td>NaN</td>\n",
       "      <td>13.0</td>\n",
       "      <td>1.0</td>\n",
       "      <td>...</td>\n",
       "      <td>0.0</td>\n",
       "      <td>7.0</td>\n",
       "      <td>10.0</td>\n",
       "      <td>11.0</td>\n",
       "      <td>NaN</td>\n",
       "      <td>9.0</td>\n",
       "      <td>7.0</td>\n",
       "      <td>3</td>\n",
       "      <td>2</td>\n",
       "      <td>4</td>\n",
       "    </tr>\n",
       "    <tr>\n",
       "      <th>4</th>\n",
       "      <td>910241</td>\n",
       "      <td>-1</td>\n",
       "      <td>1.0</td>\n",
       "      <td>20.0</td>\n",
       "      <td>NaN</td>\n",
       "      <td>NaN</td>\n",
       "      <td>NaN</td>\n",
       "      <td>NaN</td>\n",
       "      <td>14.0</td>\n",
       "      <td>3.0</td>\n",
       "      <td>...</td>\n",
       "      <td>2.0</td>\n",
       "      <td>3.0</td>\n",
       "      <td>5.0</td>\n",
       "      <td>4.0</td>\n",
       "      <td>2.0</td>\n",
       "      <td>9.0</td>\n",
       "      <td>3.0</td>\n",
       "      <td>4</td>\n",
       "      <td>1</td>\n",
       "      <td>3</td>\n",
       "    </tr>\n",
       "  </tbody>\n",
       "</table>\n",
       "<p>5 rows × 366 columns</p>\n",
       "</div>"
      ],
      "text/plain": [
       "      LNR  AGER_TYP  AKT_DAT_KL  ALTER_HH  ALTER_KIND1  ALTER_KIND2  \\\n",
       "0  910215        -1         NaN       NaN          NaN          NaN   \n",
       "1  910220        -1         9.0       0.0          NaN          NaN   \n",
       "2  910225        -1         9.0      17.0          NaN          NaN   \n",
       "3  910226         2         1.0      13.0          NaN          NaN   \n",
       "4  910241        -1         1.0      20.0          NaN          NaN   \n",
       "\n",
       "   ALTER_KIND3  ALTER_KIND4  ALTERSKATEGORIE_FEIN  ANZ_HAUSHALTE_AKTIV  ...  \\\n",
       "0          NaN          NaN                   NaN                  NaN  ...   \n",
       "1          NaN          NaN                  21.0                 11.0  ...   \n",
       "2          NaN          NaN                  17.0                 10.0  ...   \n",
       "3          NaN          NaN                  13.0                  1.0  ...   \n",
       "4          NaN          NaN                  14.0                  3.0  ...   \n",
       "\n",
       "   VHN  VK_DHT4A  VK_DISTANZ  VK_ZG11  W_KEIT_KIND_HH  WOHNDAUER_2008  \\\n",
       "0  NaN       NaN         NaN      NaN             NaN             NaN   \n",
       "1  4.0       8.0        11.0     10.0             3.0             9.0   \n",
       "2  2.0       9.0         9.0      6.0             3.0             9.0   \n",
       "3  0.0       7.0        10.0     11.0             NaN             9.0   \n",
       "4  2.0       3.0         5.0      4.0             2.0             9.0   \n",
       "\n",
       "   WOHNLAGE ZABEOTYP ANREDE_KZ ALTERSKATEGORIE_GROB  \n",
       "0       NaN        3         1                    2  \n",
       "1       4.0        5         2                    1  \n",
       "2       2.0        5         2                    3  \n",
       "3       7.0        3         2                    4  \n",
       "4       3.0        4         1                    3  \n",
       "\n",
       "[5 rows x 366 columns]"
      ]
     },
     "execution_count": 4,
     "metadata": {},
     "output_type": "execute_result"
    }
   ],
   "source": [
    "# Be sure to add in a lot more cells (both markdown and code) to document your\n",
    "# approach and findings!\n",
    "azdias_df.head()"
   ]
  },
  {
   "cell_type": "code",
   "execution_count": 5,
   "metadata": {},
   "outputs": [
    {
     "name": "stdout",
     "output_type": "stream",
     "text": [
      "<class 'pandas.core.frame.DataFrame'>\n",
      "RangeIndex: 191652 entries, 0 to 191651\n",
      "Columns: 369 entries, LNR to ALTERSKATEGORIE_GROB\n",
      "dtypes: float64(267), int64(94), object(8)\n",
      "memory usage: 539.5+ MB\n"
     ]
    }
   ],
   "source": [
    "customers_df.info()"
   ]
  },
  {
   "cell_type": "code",
   "execution_count": 6,
   "metadata": {},
   "outputs": [
    {
     "data": {
      "text/html": [
       "<div>\n",
       "<style scoped>\n",
       "    .dataframe tbody tr th:only-of-type {\n",
       "        vertical-align: middle;\n",
       "    }\n",
       "\n",
       "    .dataframe tbody tr th {\n",
       "        vertical-align: top;\n",
       "    }\n",
       "\n",
       "    .dataframe thead th {\n",
       "        text-align: right;\n",
       "    }\n",
       "</style>\n",
       "<table border=\"1\" class=\"dataframe\">\n",
       "  <thead>\n",
       "    <tr style=\"text-align: right;\">\n",
       "      <th></th>\n",
       "      <th>LNR</th>\n",
       "      <th>AGER_TYP</th>\n",
       "      <th>AKT_DAT_KL</th>\n",
       "      <th>ALTER_HH</th>\n",
       "      <th>ALTER_KIND1</th>\n",
       "      <th>ALTER_KIND2</th>\n",
       "      <th>ALTER_KIND3</th>\n",
       "      <th>ALTER_KIND4</th>\n",
       "      <th>ALTERSKATEGORIE_FEIN</th>\n",
       "      <th>ANZ_HAUSHALTE_AKTIV</th>\n",
       "      <th>...</th>\n",
       "      <th>VK_ZG11</th>\n",
       "      <th>W_KEIT_KIND_HH</th>\n",
       "      <th>WOHNDAUER_2008</th>\n",
       "      <th>WOHNLAGE</th>\n",
       "      <th>ZABEOTYP</th>\n",
       "      <th>PRODUCT_GROUP</th>\n",
       "      <th>CUSTOMER_GROUP</th>\n",
       "      <th>ONLINE_PURCHASE</th>\n",
       "      <th>ANREDE_KZ</th>\n",
       "      <th>ALTERSKATEGORIE_GROB</th>\n",
       "    </tr>\n",
       "  </thead>\n",
       "  <tbody>\n",
       "    <tr>\n",
       "      <th>0</th>\n",
       "      <td>9626</td>\n",
       "      <td>2</td>\n",
       "      <td>1.0</td>\n",
       "      <td>10.0</td>\n",
       "      <td>NaN</td>\n",
       "      <td>NaN</td>\n",
       "      <td>NaN</td>\n",
       "      <td>NaN</td>\n",
       "      <td>10.0</td>\n",
       "      <td>1.0</td>\n",
       "      <td>...</td>\n",
       "      <td>2.0</td>\n",
       "      <td>6.0</td>\n",
       "      <td>9.0</td>\n",
       "      <td>7.0</td>\n",
       "      <td>3</td>\n",
       "      <td>COSMETIC_AND_FOOD</td>\n",
       "      <td>MULTI_BUYER</td>\n",
       "      <td>0</td>\n",
       "      <td>1</td>\n",
       "      <td>4</td>\n",
       "    </tr>\n",
       "    <tr>\n",
       "      <th>1</th>\n",
       "      <td>9628</td>\n",
       "      <td>-1</td>\n",
       "      <td>9.0</td>\n",
       "      <td>11.0</td>\n",
       "      <td>NaN</td>\n",
       "      <td>NaN</td>\n",
       "      <td>NaN</td>\n",
       "      <td>NaN</td>\n",
       "      <td>NaN</td>\n",
       "      <td>NaN</td>\n",
       "      <td>...</td>\n",
       "      <td>3.0</td>\n",
       "      <td>0.0</td>\n",
       "      <td>9.0</td>\n",
       "      <td>NaN</td>\n",
       "      <td>3</td>\n",
       "      <td>FOOD</td>\n",
       "      <td>SINGLE_BUYER</td>\n",
       "      <td>0</td>\n",
       "      <td>1</td>\n",
       "      <td>4</td>\n",
       "    </tr>\n",
       "    <tr>\n",
       "      <th>2</th>\n",
       "      <td>143872</td>\n",
       "      <td>-1</td>\n",
       "      <td>1.0</td>\n",
       "      <td>6.0</td>\n",
       "      <td>NaN</td>\n",
       "      <td>NaN</td>\n",
       "      <td>NaN</td>\n",
       "      <td>NaN</td>\n",
       "      <td>0.0</td>\n",
       "      <td>1.0</td>\n",
       "      <td>...</td>\n",
       "      <td>11.0</td>\n",
       "      <td>6.0</td>\n",
       "      <td>9.0</td>\n",
       "      <td>2.0</td>\n",
       "      <td>3</td>\n",
       "      <td>COSMETIC_AND_FOOD</td>\n",
       "      <td>MULTI_BUYER</td>\n",
       "      <td>0</td>\n",
       "      <td>2</td>\n",
       "      <td>4</td>\n",
       "    </tr>\n",
       "    <tr>\n",
       "      <th>3</th>\n",
       "      <td>143873</td>\n",
       "      <td>1</td>\n",
       "      <td>1.0</td>\n",
       "      <td>8.0</td>\n",
       "      <td>NaN</td>\n",
       "      <td>NaN</td>\n",
       "      <td>NaN</td>\n",
       "      <td>NaN</td>\n",
       "      <td>8.0</td>\n",
       "      <td>0.0</td>\n",
       "      <td>...</td>\n",
       "      <td>2.0</td>\n",
       "      <td>NaN</td>\n",
       "      <td>9.0</td>\n",
       "      <td>7.0</td>\n",
       "      <td>1</td>\n",
       "      <td>COSMETIC</td>\n",
       "      <td>MULTI_BUYER</td>\n",
       "      <td>0</td>\n",
       "      <td>1</td>\n",
       "      <td>4</td>\n",
       "    </tr>\n",
       "    <tr>\n",
       "      <th>4</th>\n",
       "      <td>143874</td>\n",
       "      <td>-1</td>\n",
       "      <td>1.0</td>\n",
       "      <td>20.0</td>\n",
       "      <td>NaN</td>\n",
       "      <td>NaN</td>\n",
       "      <td>NaN</td>\n",
       "      <td>NaN</td>\n",
       "      <td>14.0</td>\n",
       "      <td>7.0</td>\n",
       "      <td>...</td>\n",
       "      <td>4.0</td>\n",
       "      <td>2.0</td>\n",
       "      <td>9.0</td>\n",
       "      <td>3.0</td>\n",
       "      <td>1</td>\n",
       "      <td>FOOD</td>\n",
       "      <td>MULTI_BUYER</td>\n",
       "      <td>0</td>\n",
       "      <td>1</td>\n",
       "      <td>3</td>\n",
       "    </tr>\n",
       "  </tbody>\n",
       "</table>\n",
       "<p>5 rows × 369 columns</p>\n",
       "</div>"
      ],
      "text/plain": [
       "      LNR  AGER_TYP  AKT_DAT_KL  ALTER_HH  ALTER_KIND1  ALTER_KIND2  \\\n",
       "0    9626         2         1.0      10.0          NaN          NaN   \n",
       "1    9628        -1         9.0      11.0          NaN          NaN   \n",
       "2  143872        -1         1.0       6.0          NaN          NaN   \n",
       "3  143873         1         1.0       8.0          NaN          NaN   \n",
       "4  143874        -1         1.0      20.0          NaN          NaN   \n",
       "\n",
       "   ALTER_KIND3  ALTER_KIND4  ALTERSKATEGORIE_FEIN  ANZ_HAUSHALTE_AKTIV  ...  \\\n",
       "0          NaN          NaN                  10.0                  1.0  ...   \n",
       "1          NaN          NaN                   NaN                  NaN  ...   \n",
       "2          NaN          NaN                   0.0                  1.0  ...   \n",
       "3          NaN          NaN                   8.0                  0.0  ...   \n",
       "4          NaN          NaN                  14.0                  7.0  ...   \n",
       "\n",
       "   VK_ZG11  W_KEIT_KIND_HH  WOHNDAUER_2008  WOHNLAGE  ZABEOTYP  \\\n",
       "0      2.0             6.0             9.0       7.0         3   \n",
       "1      3.0             0.0             9.0       NaN         3   \n",
       "2     11.0             6.0             9.0       2.0         3   \n",
       "3      2.0             NaN             9.0       7.0         1   \n",
       "4      4.0             2.0             9.0       3.0         1   \n",
       "\n",
       "       PRODUCT_GROUP  CUSTOMER_GROUP ONLINE_PURCHASE ANREDE_KZ  \\\n",
       "0  COSMETIC_AND_FOOD     MULTI_BUYER               0         1   \n",
       "1               FOOD    SINGLE_BUYER               0         1   \n",
       "2  COSMETIC_AND_FOOD     MULTI_BUYER               0         2   \n",
       "3           COSMETIC     MULTI_BUYER               0         1   \n",
       "4               FOOD     MULTI_BUYER               0         1   \n",
       "\n",
       "  ALTERSKATEGORIE_GROB  \n",
       "0                    4  \n",
       "1                    4  \n",
       "2                    4  \n",
       "3                    4  \n",
       "4                    3  \n",
       "\n",
       "[5 rows x 369 columns]"
      ]
     },
     "execution_count": 6,
     "metadata": {},
     "output_type": "execute_result"
    }
   ],
   "source": [
    "customers_df.head()"
   ]
  },
  {
   "cell_type": "markdown",
   "metadata": {},
   "source": [
    "`azdias_df` and `customers_df` have 366 common features, which is the same as `azdias_df` features."
   ]
  },
  {
   "cell_type": "code",
   "execution_count": 7,
   "metadata": {},
   "outputs": [
    {
     "data": {
      "text/plain": [
       "(366,)"
      ]
     },
     "execution_count": 7,
     "metadata": {},
     "output_type": "execute_result"
    }
   ],
   "source": [
    "np.intersect1d(azdias_df.columns.values, customers_df.columns.values).shape"
   ]
  },
  {
   "cell_type": "markdown",
   "metadata": {},
   "source": [
    "create `only_attr_customers` to hold `customer_df` only features"
   ]
  },
  {
   "cell_type": "code",
   "execution_count": 8,
   "metadata": {},
   "outputs": [
    {
     "data": {
      "text/plain": [
       "array(['CUSTOMER_GROUP', 'ONLINE_PURCHASE', 'PRODUCT_GROUP'], dtype=object)"
      ]
     },
     "execution_count": 8,
     "metadata": {},
     "output_type": "execute_result"
    }
   ],
   "source": [
    "only_attr_customers = np.setdiff1d(customers_df.columns.values, azdias_df.columns.values)\n",
    "only_attr_customers"
   ]
  },
  {
   "cell_type": "markdown",
   "metadata": {},
   "source": [
    "CUSTOMER_GROUP distribution"
   ]
  },
  {
   "cell_type": "code",
   "execution_count": 9,
   "metadata": {},
   "outputs": [
    {
     "data": {
      "image/png": "[encoded data removed]",
      "text/plain": [
       "<Figure size 864x360 with 2 Axes>"
      ]
     },
     "metadata": {},
     "output_type": "display_data"
    }
   ],
   "source": [
    "plt.subplots(1, 2, figsize = [12, 5])\n",
    "\n",
    "plt.subplot(1, 2, 1)\n",
    "customers_df.CUSTOMER_GROUP.value_counts().plot.bar(rot=0)\n",
    "\n",
    "plt.subplot(1, 2, 2)\n",
    "customers_df.CUSTOMER_GROUP.value_counts().plot.pie(autopct='%1.f%%', startangle = 90, counterclock = False).set_ylabel('')\n",
    "\n",
    "plt.suptitle('CUSTOMER_GROUP Distribution', fontsize=16)\n",
    "plt.show()"
   ]
  },
  {
   "cell_type": "markdown",
   "metadata": {},
   "source": [
    "ONLINE_PURCHASE distribution"
   ]
  },
  {
   "cell_type": "code",
   "execution_count": 10,
   "metadata": {},
   "outputs": [
    {
     "data": {
      "image/png": "[encoded data removed]",
      "text/plain": [
       "<Figure size 864x360 with 2 Axes>"
      ]
     },
     "metadata": {},
     "output_type": "display_data"
    }
   ],
   "source": [
    "plt.subplots(1, 2, figsize = [12, 5])\n",
    "\n",
    "plt.subplot(1, 2, 1)\n",
    "customers_df.ONLINE_PURCHASE.value_counts().plot.bar(rot=0)\n",
    "\n",
    "plt.subplot(1, 2, 2)\n",
    "customers_df.ONLINE_PURCHASE.value_counts().plot.pie(autopct='%1.f%%', startangle = 90, counterclock = False).set_ylabel('')\n",
    "\n",
    "plt.suptitle('ONLINE_PURCHASE Distribution', fontsize=16)\n",
    "plt.show()"
   ]
  },
  {
   "cell_type": "markdown",
   "metadata": {},
   "source": [
    "PRODUCT_GROUP distribution"
   ]
  },
  {
   "cell_type": "code",
   "execution_count": 11,
   "metadata": {},
   "outputs": [
    {
     "data": {
      "image/png": "[encoded data removed]",
      "text/plain": [
       "<Figure size 864x360 with 2 Axes>"
      ]
     },
     "metadata": {},
     "output_type": "display_data"
    }
   ],
   "source": [
    "plt.subplots(1, 2, figsize = [12, 5])\n",
    "\n",
    "plt.subplot(1, 2, 1)\n",
    "customers_df.PRODUCT_GROUP.value_counts().plot.bar(rot=0)\n",
    "\n",
    "plt.subplot(1, 2, 2)\n",
    "customers_df.PRODUCT_GROUP.value_counts().plot.pie(autopct='%1.f%%', startangle = 90, counterclock = False).set_ylabel('')\n",
    "\n",
    "plt.suptitle('PRODUCT_GROUP Distribution', fontsize=16)\n",
    "plt.show()"
   ]
  },
  {
   "cell_type": "code",
   "execution_count": 12,
   "metadata": {},
   "outputs": [
    {
     "data": {
      "image/png": "[encoded data removed]",
      "text/plain": [
       "<Figure size 864x360 with 1 Axes>"
      ]
     },
     "metadata": {},
     "output_type": "display_data"
    },
    {
     "data": {
      "image/png": "[encoded data removed]",
      "text/plain": [
       "<Figure size 864x360 with 2 Axes>"
      ]
     },
     "metadata": {},
     "output_type": "display_data"
    }
   ],
   "source": [
    "customers_df.groupby(['CUSTOMER_GROUP'])['PRODUCT_GROUP'].value_counts().unstack().plot.bar(figsize = [12, 5], rot=0).set_title('CUSTOMER_GROUP vs. PRODUCT_GROUP')\n",
    "\n",
    "customers_df.groupby(['CUSTOMER_GROUP'])['PRODUCT_GROUP'].value_counts().unstack().T.plot.pie(subplots=True, autopct='%1.f%%', figsize=[12,5], legend=False, startangle = 90, counterclock = False)\n",
    "\n",
    "plt.tight_layout()\n",
    "plt.show()"
   ]
  },
  {
   "cell_type": "code",
   "execution_count": 13,
   "metadata": {},
   "outputs": [
    {
     "data": {
      "image/png": "[encoded data removed]",
      "text/plain": [
       "<Figure size 864x360 with 1 Axes>"
      ]
     },
     "metadata": {},
     "output_type": "display_data"
    },
    {
     "data": {
      "image/png": "[encoded data removed]",
      "text/plain": [
       "<Figure size 864x360 with 2 Axes>"
      ]
     },
     "metadata": {},
     "output_type": "display_data"
    }
   ],
   "source": [
    "customers_df.groupby(['ONLINE_PURCHASE'])['PRODUCT_GROUP'].value_counts().unstack().plot.bar(figsize = [12, 5], rot=0).set_title('ONLINE_PURCHASE vs. PRODUCT_GROUP')\n",
    "\n",
    "customers_df.groupby(['ONLINE_PURCHASE'])['PRODUCT_GROUP'].value_counts().unstack().T.plot.pie(subplots=True, autopct='%1.f%%', figsize=[12,5], legend=False, startangle = 90, counterclock = False)\n",
    "\n",
    "plt.tight_layout()\n",
    "plt.show()"
   ]
  },
  {
   "cell_type": "code",
   "execution_count": 14,
   "metadata": {},
   "outputs": [
    {
     "data": {
      "image/png": "[encoded data removed]",
      "text/plain": [
       "<Figure size 864x360 with 1 Axes>"
      ]
     },
     "metadata": {},
     "output_type": "display_data"
    },
    {
     "data": {
      "image/png": "[encoded data removed]",
      "text/plain": [
       "<Figure size 864x360 with 2 Axes>"
      ]
     },
     "metadata": {},
     "output_type": "display_data"
    }
   ],
   "source": [
    "customers_df.groupby(['CUSTOMER_GROUP'])['ONLINE_PURCHASE'].value_counts().unstack().plot.bar(figsize = [12, 5], rot=0).set_title('CUSTOMER_GROUP vs. ONLINE_PURCHASE')\n",
    "\n",
    "customers_df.groupby(['CUSTOMER_GROUP'])['ONLINE_PURCHASE'].value_counts().unstack().T.plot.pie(subplots=True, autopct='%1.f%%', figsize=[12,5], legend=False, startangle = 90, counterclock = False)\n",
    "\n",
    "plt.tight_layout()\n",
    "plt.show()"
   ]
  },
  {
   "cell_type": "markdown",
   "metadata": {},
   "source": [
    "### Data Exploration - Attributes vs. Values\n",
    "\n",
    "#### Load attributes dataset"
   ]
  },
  {
   "cell_type": "code",
   "execution_count": 15,
   "metadata": {},
   "outputs": [
    {
     "data": {
      "text/html": [
       "<div>\n",
       "<style scoped>\n",
       "    .dataframe tbody tr th:only-of-type {\n",
       "        vertical-align: middle;\n",
       "    }\n",
       "\n",
       "    .dataframe tbody tr th {\n",
       "        vertical-align: top;\n",
       "    }\n",
       "\n",
       "    .dataframe thead th {\n",
       "        text-align: right;\n",
       "    }\n",
       "</style>\n",
       "<table border=\"1\" class=\"dataframe\">\n",
       "  <thead>\n",
       "    <tr style=\"text-align: right;\">\n",
       "      <th></th>\n",
       "      <th>Information level</th>\n",
       "      <th>Attribute</th>\n",
       "      <th>Description</th>\n",
       "      <th>Additional notes</th>\n",
       "    </tr>\n",
       "  </thead>\n",
       "  <tbody>\n",
       "    <tr>\n",
       "      <th>0</th>\n",
       "      <td>NaN</td>\n",
       "      <td>AGER_TYP</td>\n",
       "      <td>best-ager typology</td>\n",
       "      <td>in cooperation with Kantar TNS; the informatio...</td>\n",
       "    </tr>\n",
       "    <tr>\n",
       "      <th>1</th>\n",
       "      <td>Person</td>\n",
       "      <td>ALTERSKATEGORIE_GROB</td>\n",
       "      <td>age through prename analysis</td>\n",
       "      <td>modelled on millions of first name-age-referen...</td>\n",
       "    </tr>\n",
       "    <tr>\n",
       "      <th>2</th>\n",
       "      <td>Person</td>\n",
       "      <td>ANREDE_KZ</td>\n",
       "      <td>gender</td>\n",
       "      <td>NaN</td>\n",
       "    </tr>\n",
       "    <tr>\n",
       "      <th>3</th>\n",
       "      <td>Person</td>\n",
       "      <td>CJT_GESAMTTYP</td>\n",
       "      <td>Customer-Journey-Typology relating to the pref...</td>\n",
       "      <td>relating to the preferred information, marketi...</td>\n",
       "    </tr>\n",
       "    <tr>\n",
       "      <th>4</th>\n",
       "      <td>Person</td>\n",
       "      <td>FINANZ_MINIMALIST</td>\n",
       "      <td>financial typology: low financial interest</td>\n",
       "      <td>Gfk-Typology based on a representative househo...</td>\n",
       "    </tr>\n",
       "  </tbody>\n",
       "</table>\n",
       "</div>"
      ],
      "text/plain": [
       "  Information level             Attribute  \\\n",
       "0               NaN              AGER_TYP   \n",
       "1            Person  ALTERSKATEGORIE_GROB   \n",
       "2            Person             ANREDE_KZ   \n",
       "3            Person         CJT_GESAMTTYP   \n",
       "4            Person     FINANZ_MINIMALIST   \n",
       "\n",
       "                                         Description  \\\n",
       "0                                 best-ager typology   \n",
       "1                      age through prename analysis    \n",
       "2                                             gender   \n",
       "3  Customer-Journey-Typology relating to the pref...   \n",
       "4         financial typology: low financial interest   \n",
       "\n",
       "                                    Additional notes  \n",
       "0  in cooperation with Kantar TNS; the informatio...  \n",
       "1  modelled on millions of first name-age-referen...  \n",
       "2                                                NaN  \n",
       "3  relating to the preferred information, marketi...  \n",
       "4  Gfk-Typology based on a representative househo...  "
      ]
     },
     "execution_count": 15,
     "metadata": {},
     "output_type": "execute_result"
    }
   ],
   "source": [
    "# attributes dataset\n",
    "attributes_df = pd.read_excel('DIAS Information Levels - Attributes 2017.xlsx', header=1, index_col=[1]).reset_index()\n",
    "del attributes_df['Unnamed: 0']\n",
    "attributes_df.head()"
   ]
  },
  {
   "cell_type": "code",
   "execution_count": 16,
   "metadata": {},
   "outputs": [
    {
     "name": "stdout",
     "output_type": "stream",
     "text": [
      "<class 'pandas.core.frame.DataFrame'>\n",
      "RangeIndex: 313 entries, 0 to 312\n",
      "Data columns (total 4 columns):\n",
      "Information level    312 non-null object\n",
      "Attribute            313 non-null object\n",
      "Description          313 non-null object\n",
      "Additional notes     20 non-null object\n",
      "dtypes: object(4)\n",
      "memory usage: 9.9+ KB\n"
     ]
    }
   ],
   "source": [
    "attributes_df.info()"
   ]
  },
  {
   "cell_type": "markdown",
   "metadata": {},
   "source": [
    "#### Load values dataset"
   ]
  },
  {
   "cell_type": "code",
   "execution_count": 17,
   "metadata": {},
   "outputs": [
    {
     "data": {
      "text/html": [
       "<div>\n",
       "<style scoped>\n",
       "    .dataframe tbody tr th:only-of-type {\n",
       "        vertical-align: middle;\n",
       "    }\n",
       "\n",
       "    .dataframe tbody tr th {\n",
       "        vertical-align: top;\n",
       "    }\n",
       "\n",
       "    .dataframe thead th {\n",
       "        text-align: right;\n",
       "    }\n",
       "</style>\n",
       "<table border=\"1\" class=\"dataframe\">\n",
       "  <thead>\n",
       "    <tr style=\"text-align: right;\">\n",
       "      <th></th>\n",
       "      <th>Attribute</th>\n",
       "      <th>Description</th>\n",
       "      <th>Value</th>\n",
       "      <th>Meaning</th>\n",
       "    </tr>\n",
       "  </thead>\n",
       "  <tbody>\n",
       "    <tr>\n",
       "      <th>0</th>\n",
       "      <td>AGER_TYP</td>\n",
       "      <td>best-ager typology</td>\n",
       "      <td>-1</td>\n",
       "      <td>unknown</td>\n",
       "    </tr>\n",
       "    <tr>\n",
       "      <th>1</th>\n",
       "      <td>AGER_TYP</td>\n",
       "      <td>best-ager typology</td>\n",
       "      <td>0</td>\n",
       "      <td>no classification possible</td>\n",
       "    </tr>\n",
       "    <tr>\n",
       "      <th>2</th>\n",
       "      <td>AGER_TYP</td>\n",
       "      <td>best-ager typology</td>\n",
       "      <td>1</td>\n",
       "      <td>passive elderly</td>\n",
       "    </tr>\n",
       "    <tr>\n",
       "      <th>3</th>\n",
       "      <td>AGER_TYP</td>\n",
       "      <td>best-ager typology</td>\n",
       "      <td>2</td>\n",
       "      <td>cultural elderly</td>\n",
       "    </tr>\n",
       "    <tr>\n",
       "      <th>4</th>\n",
       "      <td>AGER_TYP</td>\n",
       "      <td>best-ager typology</td>\n",
       "      <td>3</td>\n",
       "      <td>experience-driven elderly</td>\n",
       "    </tr>\n",
       "  </tbody>\n",
       "</table>\n",
       "</div>"
      ],
      "text/plain": [
       "  Attribute         Description Value                     Meaning\n",
       "0  AGER_TYP  best-ager typology    -1                     unknown\n",
       "1  AGER_TYP  best-ager typology     0  no classification possible\n",
       "2  AGER_TYP  best-ager typology     1             passive elderly\n",
       "3  AGER_TYP  best-ager typology     2            cultural elderly\n",
       "4  AGER_TYP  best-ager typology     3   experience-driven elderly"
      ]
     },
     "execution_count": 17,
     "metadata": {},
     "output_type": "execute_result"
    }
   ],
   "source": [
    "# values dataset\n",
    "values_df = pd.read_excel('DIAS Attributes - Values 2017.xlsx', header=1, index_col=[1,2]).reset_index()\n",
    "del values_df['Unnamed: 0']\n",
    "values_df.head()"
   ]
  },
  {
   "cell_type": "code",
   "execution_count": 18,
   "metadata": {},
   "outputs": [
    {
     "name": "stdout",
     "output_type": "stream",
     "text": [
      "<class 'pandas.core.frame.DataFrame'>\n",
      "RangeIndex: 2258 entries, 0 to 2257\n",
      "Data columns (total 4 columns):\n",
      "Attribute      2258 non-null object\n",
      "Description    2258 non-null object\n",
      "Value          2258 non-null object\n",
      "Meaning        2247 non-null object\n",
      "dtypes: object(4)\n",
      "memory usage: 70.6+ KB\n"
     ]
    }
   ],
   "source": [
    "values_df.info()"
   ]
  },
  {
   "cell_type": "code",
   "execution_count": 19,
   "metadata": {},
   "outputs": [
    {
     "data": {
      "text/plain": [
       "array(['BIP_FLAG', 'D19_BANKEN_ANZ_12', 'D19_BANKEN_ANZ_24',\n",
       "       'D19_GESAMT_ANZ_12', 'D19_GESAMT_ANZ_24', 'D19_LOTTO_RZ',\n",
       "       'D19_TELKO_ANZ_12', 'D19_TELKO_ANZ_24', 'D19_VERSAND_ANZ_12',\n",
       "       'D19_VERSAND_ANZ_24', 'D19_VERSI_ANZ_12', 'D19_VERSI_ANZ_24',\n",
       "       'KBA13_CCM_3000', 'KBA13_CCM_3001'], dtype=object)"
      ]
     },
     "execution_count": 19,
     "metadata": {},
     "output_type": "execute_result"
    }
   ],
   "source": [
    "# values_df only\n",
    "np.setdiff1d(values_df.Attribute.unique(), attributes_df.Attribute)"
   ]
  },
  {
   "cell_type": "code",
   "execution_count": 20,
   "metadata": {},
   "outputs": [
    {
     "data": {
      "text/plain": [
       "array(['ARBEIT', 'D19_BANKEN_ ANZ_12             D19_BANKEN_ ANZ_24',\n",
       "       'D19_GESAMT_ANZ_12                                    D19_GESAMT_ANZ_24',\n",
       "       'D19_TELKO_ ANZ_12                  D19_TELKO_ ANZ_24',\n",
       "       'D19_VERSAND_ ANZ_12          D19_VERSAND_ ANZ_24',\n",
       "       'D19_VERSI_ ANZ_12                                       D19_VERSI_ ANZ_24',\n",
       "       'D19_VERSI_DATUM', 'D19_VERSI_OFFLINE_DATUM',\n",
       "       'D19_VERSI_ONLINE_DATUM', 'EINWOHNER', 'GKZ', 'PLZ', 'PLZ8'],\n",
       "      dtype=object)"
      ]
     },
     "execution_count": 20,
     "metadata": {},
     "output_type": "execute_result"
    }
   ],
   "source": [
    "# attributes_df only\n",
    "np.setdiff1d(attributes_df.Attribute, values_df.Attribute.unique())"
   ]
  },
  {
   "cell_type": "markdown",
   "metadata": {},
   "source": [
    "From above, we can find attributes dataset features not normalized. We will use values dataset to query data, and merge attributes dataset feature to values.\n",
    "\n",
    "Create `attr_only_attributes_not_values` to hold features only in `attributes_df` and not in `values_df`."
   ]
  },
  {
   "cell_type": "code",
   "execution_count": 21,
   "metadata": {},
   "outputs": [],
   "source": [
    "attr_only_attributes_not_values = np.array(['ARBEIT', 'D19_VERSI_DATUM', 'D19_VERSI_OFFLINE_DATUM', 'D19_VERSI_ONLINE_DATUM', 'EINWOHNER', 'GKZ', 'PLZ', 'PLZ8'])"
   ]
  },
  {
   "cell_type": "markdown",
   "metadata": {},
   "source": [
    "creqte `annot_attribute` as combined features from `vlaues_df` and `attributes_df`."
   ]
  },
  {
   "cell_type": "code",
   "execution_count": 22,
   "metadata": {},
   "outputs": [],
   "source": [
    "annot_attribute = np.union1d(values_df.Attribute.unique(), attr_only_attributes_not_values)"
   ]
  },
  {
   "cell_type": "markdown",
   "metadata": {},
   "source": [
    "We found `only_attr_customers` not in `annot_attribute`"
   ]
  },
  {
   "cell_type": "code",
   "execution_count": 23,
   "metadata": {},
   "outputs": [
    {
     "data": {
      "text/plain": [
       "array([False, False, False])"
      ]
     },
     "execution_count": 23,
     "metadata": {},
     "output_type": "execute_result"
    }
   ],
   "source": [
    "np.isin(only_attr_customers, values_df.Attribute)"
   ]
  },
  {
   "cell_type": "markdown",
   "metadata": {},
   "source": [
    "#### Analyze feature type\n",
    "\n",
    "Fina all value of `values_df`"
   ]
  },
  {
   "cell_type": "markdown",
   "metadata": {},
   "source": [
    "##### Quantitative Attribute\n",
    "\n",
    "create `num_annot_attribute` to hold numeric features"
   ]
  },
  {
   "cell_type": "code",
   "execution_count": 24,
   "metadata": {},
   "outputs": [],
   "source": [
    "num_annot_attribute = values_df.Attribute.unique()[np.where(values_df.groupby(['Attribute'], sort=False)['Value'].count() == 1)]"
   ]
  },
  {
   "cell_type": "markdown",
   "metadata": {},
   "source": [
    "##### Categorical Attribute\n",
    "\n",
    "create `bin_cat_annot_attribute` to hold binary category features"
   ]
  },
  {
   "cell_type": "code",
   "execution_count": 25,
   "metadata": {},
   "outputs": [],
   "source": [
    "bin_cat_annot_attribute = np.array(values_df.Attribute.unique()[np.where(values_df.groupby(['Attribute'])['Value'].count() == 2)])"
   ]
  },
  {
   "cell_type": "markdown",
   "metadata": {},
   "source": [
    "create `str_cat_annot_attribute` to hold string category features"
   ]
  },
  {
   "cell_type": "code",
   "execution_count": 26,
   "metadata": {},
   "outputs": [],
   "source": [
    "str_cat_annot_attribute = np.array(['OST_WEST_KZ'])"
   ]
  },
  {
   "cell_type": "code",
   "execution_count": 27,
   "metadata": {},
   "outputs": [],
   "source": [
    "str_cat_annot_attribute = np.union1d(str_cat_annot_attribute, ['CAMEO_DEU_2015'])"
   ]
  },
  {
   "cell_type": "markdown",
   "metadata": {},
   "source": [
    "create `num_cat_annot_attribute` to hold numerical category features"
   ]
  },
  {
   "cell_type": "code",
   "execution_count": 28,
   "metadata": {},
   "outputs": [],
   "source": [
    "_ = np.setdiff1d(values_df.Attribute, bin_cat_annot_attribute)\n",
    "_ = np.setdiff1d(_, str_cat_annot_attribute)\n",
    "_ = np.setdiff1d(_, num_annot_attribute)\n",
    "num_cat_annot_attribute = values_df.loc[np.where(values_df.Attribute.isin(_))[0]].groupby(['Attribute'])['Value'].unique().index.values"
   ]
  },
  {
   "cell_type": "code",
   "execution_count": 29,
   "metadata": {},
   "outputs": [],
   "source": [
    "assert values_df.Attribute.unique().size == num_annot_attribute.size + bin_cat_annot_attribute.size + str_cat_annot_attribute.size + num_cat_annot_attribute.size"
   ]
  },
  {
   "cell_type": "code",
   "execution_count": 30,
   "metadata": {},
   "outputs": [],
   "source": [
    "num_cat_annot_attribute = np.union1d(num_cat_annot_attribute, ['D19_VERSI_OFFLINE_DATUM', 'D19_VERSI_ONLINE_DATUM', 'D19_VERSI_DATUM'])"
   ]
  },
  {
   "cell_type": "code",
   "execution_count": 31,
   "metadata": {},
   "outputs": [],
   "source": [
    "num_annot_attribute = np.union1d(num_annot_attribute, ['ARBEIT'])"
   ]
  },
  {
   "cell_type": "code",
   "execution_count": 32,
   "metadata": {},
   "outputs": [],
   "source": [
    "unused_annot_attribute = np.array(['PLZ', 'PLZ8', 'EINWOHNER', 'GKZ'])"
   ]
  },
  {
   "cell_type": "code",
   "execution_count": 33,
   "metadata": {},
   "outputs": [],
   "source": [
    "assert annot_attribute.size == num_annot_attribute.size + bin_cat_annot_attribute.size + str_cat_annot_attribute.size + num_cat_annot_attribute.size + unused_annot_attribute.size"
   ]
  },
  {
   "cell_type": "markdown",
   "metadata": {},
   "source": [
    "create `customers_bin_cat_not_annot_attribute` to hold binary category features not in `attributes_df` and `values_df`."
   ]
  },
  {
   "cell_type": "code",
   "execution_count": 34,
   "metadata": {},
   "outputs": [],
   "source": [
    "customers_bin_cat_not_annot_attribute = np.array('ONLINE_PURCHASE')"
   ]
  },
  {
   "cell_type": "markdown",
   "metadata": {},
   "source": [
    "create `customers_str_cat_not_annot_attribute` to hold string category features  not in `attributes_df` and `values_df`."
   ]
  },
  {
   "cell_type": "code",
   "execution_count": 35,
   "metadata": {},
   "outputs": [],
   "source": [
    "customers_str_cat_not_annot_attribute = np.array(['CUSTOMER_GROUP', 'PRODUCT_GROUP'])"
   ]
  },
  {
   "cell_type": "code",
   "execution_count": 36,
   "metadata": {},
   "outputs": [],
   "source": [
    "assert only_attr_customers.size == customers_bin_cat_not_annot_attribute.size + customers_str_cat_not_annot_attribute.size"
   ]
  },
  {
   "cell_type": "markdown",
   "metadata": {},
   "source": [
    "create `minus_1_0_unknown_annot_attribute` to hold '-1, 0' feature"
   ]
  },
  {
   "cell_type": "code",
   "execution_count": 37,
   "metadata": {},
   "outputs": [],
   "source": [
    "minus_1_0_unknown_annot_attribute = values_df.loc[np.where(np.isin(values_df.Value, '-1, 0'))].Attribute.values"
   ]
  },
  {
   "cell_type": "markdown",
   "metadata": {},
   "source": [
    "create `minus_1_9_unknown_annot_attribute` to hold '-1, 9' feature"
   ]
  },
  {
   "cell_type": "code",
   "execution_count": 38,
   "metadata": {},
   "outputs": [],
   "source": [
    "minus_1_9_unknown_annot_attribute = values_df.loc[np.where(np.isin(values_df.Value, '-1, 9'))].Attribute.values"
   ]
  },
  {
   "cell_type": "markdown",
   "metadata": {},
   "source": [
    "### Data Exploration - customers vs. values\n",
    "\n",
    "#### COLUMN Veiewpoint"
   ]
  },
  {
   "cell_type": "markdown",
   "metadata": {},
   "source": [
    "create `annot_attr_customers_values` to hold common features of `customer_df` and `annot_attribute`"
   ]
  },
  {
   "cell_type": "code",
   "execution_count": 39,
   "metadata": {},
   "outputs": [],
   "source": [
    "annot_attr_customers_values = np.intersect1d(customers_df.columns.values, annot_attribute)"
   ]
  },
  {
   "cell_type": "code",
   "execution_count": 40,
   "metadata": {},
   "outputs": [],
   "source": [
    "not_annot_attr_customers_values = np.setdiff1d(customers_df.columns.values, annot_attr_customers_values)"
   ]
  },
  {
   "cell_type": "code",
   "execution_count": 41,
   "metadata": {},
   "outputs": [],
   "source": [
    "assert customers_df.columns.values.size == annot_attr_customers_values.size + not_annot_attr_customers_values.size"
   ]
  },
  {
   "cell_type": "code",
   "execution_count": 42,
   "metadata": {},
   "outputs": [
    {
     "name": "stdout",
     "output_type": "stream",
     "text": [
      "<class 'pandas.core.frame.DataFrame'>\n",
      "RangeIndex: 191652 entries, 0 to 191651\n",
      "Columns: 276 entries, AGER_TYP to ZABEOTYP\n",
      "dtypes: float64(216), int64(57), object(3)\n",
      "memory usage: 403.6+ MB\n"
     ]
    }
   ],
   "source": [
    "customers_df[annot_attr_customers_values].info()"
   ]
  },
  {
   "cell_type": "markdown",
   "metadata": {},
   "source": [
    "#### Check null value"
   ]
  },
  {
   "cell_type": "code",
   "execution_count": 43,
   "metadata": {},
   "outputs": [
    {
     "data": {
      "image/png": "[encoded data removed]",
      "text/plain": [
       "<Figure size 432x288 with 1 Axes>"
      ]
     },
     "metadata": {},
     "output_type": "display_data"
    }
   ],
   "source": [
    "customers_df[annot_attr_customers_values].isnull().mean().hist()\n",
    "plt.xlabel('customer %')\n",
    "plt.ylabel('feature')\n",
    "plt.title('Annotated Features null value distributeion')\n",
    "plt.show()"
   ]
  },
  {
   "cell_type": "markdown",
   "metadata": {},
   "source": [
    "#### Check `bin_cat_annot_attribute`\n",
    "\n",
    "create `customers_bin_cat_annot_attribute` to hold `bin_cat_annot_attribute` in `customers_df`"
   ]
  },
  {
   "cell_type": "code",
   "execution_count": 44,
   "metadata": {},
   "outputs": [],
   "source": [
    "customers_bin_cat_annot_attribute = np.intersect1d(annot_attr_customers_values, bin_cat_annot_attribute)"
   ]
  },
  {
   "cell_type": "code",
   "execution_count": 45,
   "metadata": {},
   "outputs": [],
   "source": [
    "for col in customers_bin_cat_annot_attribute:\n",
    "    v1 = customers_df[col].unique()\n",
    "    v2 = values_df[values_df.Attribute == col]['Value'].values\n",
    "    v = np.setdiff1d(v1, v2)\n",
    "    if v.size > 0:\n",
    "        print('{} feature has un-documented value: {}'.format(col, v))"
   ]
  },
  {
   "cell_type": "markdown",
   "metadata": {},
   "source": [
    "#### Check `str_cat_annot_attribute`\n",
    "\n",
    "create `customers_str_cat_annot_attribute` to hold `str_cat_annot_attribute` in `customers_df`"
   ]
  },
  {
   "cell_type": "code",
   "execution_count": 46,
   "metadata": {},
   "outputs": [],
   "source": [
    "customers_str_cat_annot_attribute = np.intersect1d(annot_attr_customers_values, str_cat_annot_attribute)"
   ]
  },
  {
   "cell_type": "code",
   "execution_count": 47,
   "metadata": {},
   "outputs": [
    {
     "name": "stdout",
     "output_type": "stream",
     "text": [
      "CAMEO_DEU_2015 feature has un-documented value: ['XX']\n"
     ]
    }
   ],
   "source": [
    "for col in customers_str_cat_annot_attribute:\n",
    "    v1 = customers_df[col].unique()[~pd.isnull(customers_df[col].unique())]\n",
    "    v2 = values_df[values_df.Attribute == col]['Value'].values.astype(str)\n",
    "    v = np.setdiff1d(v1, v2)\n",
    "    if v.size > 0:\n",
    "        print('{} feature has un-documented value: {}'.format(col, v))"
   ]
  },
  {
   "cell_type": "markdown",
   "metadata": {},
   "source": [
    "#### Check `num_cat_annot_attribute`\n",
    "\n",
    "create `customers_num_cat_annot_attribute` to hold `num_cat_annot_attribute` in `customers_df`"
   ]
  },
  {
   "cell_type": "code",
   "execution_count": 48,
   "metadata": {},
   "outputs": [],
   "source": [
    "customers_num_cat_annot_attribute = np.intersect1d(annot_attr_customers_values, num_cat_annot_attribute)"
   ]
  },
  {
   "cell_type": "code",
   "execution_count": 49,
   "metadata": {},
   "outputs": [
    {
     "name": "stdout",
     "output_type": "stream",
     "text": [
      "CAMEO_DEUG_2015 feature has unknown value: ['1' '2' '3' '4' '5' '6' '7' '8' '9' 'X']\n",
      "KBA05_MODTEMP feature has un-documented value: [6.]\n",
      "LP_FAMILIE_FEIN feature has un-documented value: [0.]\n",
      "LP_FAMILIE_GROB feature has un-documented value: [0.]\n",
      "LP_LEBENSPHASE_FEIN feature has un-documented value: [0.]\n",
      "LP_LEBENSPHASE_GROB feature has un-documented value: [0.]\n"
     ]
    }
   ],
   "source": [
    "for col in customers_num_cat_annot_attribute:\n",
    "    \n",
    "    unknown_v = []\n",
    "    v1 = customers_df[col].dropna().apply(lambda x: unknown_v.append(x) if isinstance(x, str) else x).dropna().unique()\n",
    "    \n",
    "    # assue value of 'D19_VERSI_OFFLINE_DATUM', 'D19_VERSI_ONLINE_DATUM', 'D19_VERSI_DATUM' are as same as 'D19_BANKEN_DATUM'\n",
    "    if col in ['D19_VERSI_OFFLINE_DATUM', 'D19_VERSI_ONLINE_DATUM', 'D19_VERSI_DATUM']:\n",
    "        col = 'D19_BANKEN_DATUM'\n",
    "        \n",
    "    v2 = np.hstack(values_df[values_df.Attribute == col]['Value'].apply(lambda x: list(map(int, x.split(','))) if isinstance(x, str) else x).values)\n",
    "    \n",
    "    v = np.setdiff1d(v1, v2)\n",
    "    unknown_v = np.unique(np.array(unknown_v))\n",
    "    \n",
    "    if len(unknown_v) > 0:\n",
    "        print('{} feature has unknown value: {}'.format(col, unknown_v))\n",
    "    if v.size > 0:\n",
    "        print('{} feature has un-documented value: {}'.format(col, v))"
   ]
  },
  {
   "cell_type": "markdown",
   "metadata": {},
   "source": [
    "#### Check `num_annot_attribute`\n",
    "\n",
    "create `customers_num_annot_attribute` to hold `num_annot_attribute` in `customers_df`"
   ]
  },
  {
   "cell_type": "code",
   "execution_count": 50,
   "metadata": {},
   "outputs": [],
   "source": [
    "customers_num_annot_attribute = np.intersect1d(annot_attr_customers_values, num_annot_attribute)"
   ]
  },
  {
   "cell_type": "code",
   "execution_count": 51,
   "metadata": {},
   "outputs": [],
   "source": [
    "for col in customers_num_annot_attribute:\n",
    "    if not np.issubdtype(customers_df[col].dtype, np.number):\n",
    "        print('{} is not numberic type'.format(col))"
   ]
  },
  {
   "cell_type": "markdown",
   "metadata": {},
   "source": [
    "#### To fix the error, we will need to ...\n",
    "\n",
    "1. CAMEO_DEU_2015: **change '1A', '5D', '4C', '7B', '3B', '1D', '9E', '2D', '4A', '6B', '9D', '8B', '5C', '9C', '4E', '6C', '8C', '8A', '5B', '9B', '3D', '2A', '3C', '5F', '7A', '1E', '2C', '7C', '5A', '2B', '6D', '7E', '5E', '6E', '3A', '9A', '4B', '1C', '1B', '6A', '8D', '7D', '6F', '4D' to integer and 'XX' to NA**\n",
    "1. CAMEO_DEUG_2015: **change '1', '2', '3', '4', '5', '6', '7', '8', '9' to integer, and 'X' to NA**\n",
    "1. OST_WEST_KZ: **change 'O': 0, 'W': 1**\n",
    "1. KBA05_MODTEMP: **change 6 to 1 for unknown**\n",
    "1. LP_FAMILIE_FEIN: **chagne 0 to NA**\n",
    "1. LP_FAMILIE_GROB: **chagne 0 to NA**\n",
    "1. LP_LEBENSPHASE_FEIN: **chagne 0 to NA**\n",
    "1. LP_LEBENSPHASE_GROB: **chagne 0 to NA**\n",
    "1. All other attributes: **can convert to integer**"
   ]
  },
  {
   "cell_type": "code",
   "execution_count": 52,
   "metadata": {},
   "outputs": [],
   "source": [
    "assert annot_attr_customers_values.size == customers_bin_cat_annot_attribute.size + customers_str_cat_annot_attribute.size + customers_num_cat_annot_attribute.size + customers_num_annot_attribute.size"
   ]
  },
  {
   "cell_type": "markdown",
   "metadata": {},
   "source": [
    "create `customers_minus_1_0_unknown_annot_attribute` to hold `minus_1_0_unknown_annot_attribute` in `customers_df`"
   ]
  },
  {
   "cell_type": "code",
   "execution_count": 53,
   "metadata": {},
   "outputs": [],
   "source": [
    "customers_minus_1_0_unknown_annot_attribute = np.intersect1d(minus_1_0_unknown_annot_attribute, customers_df.columns)"
   ]
  },
  {
   "cell_type": "markdown",
   "metadata": {},
   "source": [
    "create `customers_minus_1_9_unknown_annot_attribute` to hold `minus_1_9_unknown_annot_attribute` in `customers_df`"
   ]
  },
  {
   "cell_type": "code",
   "execution_count": 54,
   "metadata": {},
   "outputs": [],
   "source": [
    "customers_minus_1_9_unknown_annot_attribute = np.intersect1d(minus_1_9_unknown_annot_attribute, customers_df.columns)"
   ]
  },
  {
   "cell_type": "markdown",
   "metadata": {},
   "source": [
    "#### To fix the error, we will need to ...\n",
    "\n",
    "1. ALTERSKATEGORIE_GROB, ANREDE_KZ, GEBAEUDETYP, HH_EINKOMMEN_SCORE, KBA05_BAUMAX, KBA05_GBZ, KKK, NATIONALITAET_KZ, PRAEGENDE_JUGENDJAHRE, REGIOTYP, TITEL_KZ, WOHNDAUER_2008, W_KEIT_KIND_HH: **'-1, 0': -1 == 0 (unknown)**\n",
    "1. KBA05_ALTER1, KBA05_ALTER2, KBA05_ALTER3, KBA05_ALTER4, KBA05_ANHANG, KBA05_AUTOQUOT, KBA05_CCM1, KBA05_CCM2, KBA05_CCM3, KBA05_CCM4, KBA05_DIESEL, KBA05_FRAU, KBA05_HERST1, KBA05_HERST2, KBA05_HERST3, KBA05_HERST4, KBA05_HERST5, KBA05_HERSTTEMP, KBA05_KRSAQUOT, KBA05_KRSHERST1, KBA05_KRSHERST2, KBA05_KRSHERST3, KBA05_KRSKLEIN, KBA05_KRSOBER, KBA05_KRSVAN, KBA05_KRSZUL, KBA05_KW1, KBA05_KW2, KBA05_KW3, KBA05_MAXAH, KBA05_MAXBJ, KBA05_MAXHERST, KBA05_MAXSEG, KBA05_MAXVORB, KBA05_MOD1, KBA05_MOD2, KBA05_MOD3, KBA05_MOD4, KBA05_MOD8, KBA05_MODTEMP, KBA05_MOTOR, KBA05_MOTRAD, KBA05_SEG1, KBA05_SEG10, KBA05_SEG2, KBA05_SEG3, KBA05_SEG4, KBA05_SEG5, KBA05_SEG6, KBA05_SEG7, KBA05_SEG8, KBA05_SEG9, KBA05_VORB0, KBA05_VORB1, KBA05_VORB2, KBA05_ZUL1, KBA05_ZUL2, KBA05_ZUL3, KBA05_ZUL4, RELAT_AB, SEMIO_DOM, SEMIO_ERL, SEMIO_FAM, SEMIO_KAEM, SEMIO_KRIT, SEMIO_KULT, SEMIO_LUST, SEMIO_MAT, SEMIO_PFLICHT, SEMIO_RAT, SEMIO_REL, SEMIO_SOZ, SEMIO_TRADV, SEMIO_VERT, ZABEOTYP: **'-1, 9': -1 == 9 (unknown)**"
   ]
  },
  {
   "cell_type": "markdown",
   "metadata": {},
   "source": [
    "##### check `not_annot_attr_customers_values`"
   ]
  },
  {
   "cell_type": "code",
   "execution_count": 55,
   "metadata": {},
   "outputs": [
    {
     "name": "stdout",
     "output_type": "stream",
     "text": [
      "<class 'pandas.core.frame.DataFrame'>\n",
      "RangeIndex: 191652 entries, 0 to 191651\n",
      "Data columns (total 93 columns):\n",
      "AKT_DAT_KL                    145056 non-null float64\n",
      "ALTERSKATEGORIE_FEIN          139810 non-null float64\n",
      "ALTER_KIND1                   11766 non-null float64\n",
      "ALTER_KIND2                   5100 non-null float64\n",
      "ALTER_KIND3                   1275 non-null float64\n",
      "ALTER_KIND4                   236 non-null float64\n",
      "ANZ_KINDER                    145056 non-null float64\n",
      "ANZ_STATISTISCHE_HAUSHALTE    141725 non-null float64\n",
      "CAMEO_INTL_2015               141224 non-null object\n",
      "CJT_KATALOGNUTZER             188439 non-null float64\n",
      "CJT_TYP_1                     188439 non-null float64\n",
      "CJT_TYP_2                     188439 non-null float64\n",
      "CJT_TYP_3                     188439 non-null float64\n",
      "CJT_TYP_4                     188439 non-null float64\n",
      "CJT_TYP_5                     188439 non-null float64\n",
      "CJT_TYP_6                     188439 non-null float64\n",
      "CUSTOMER_GROUP                191652 non-null object\n",
      "D19_BANKEN_DIREKT             191652 non-null int64\n",
      "D19_BANKEN_GROSS              191652 non-null int64\n",
      "D19_BANKEN_LOKAL              191652 non-null int64\n",
      "D19_BANKEN_REST               191652 non-null int64\n",
      "D19_BEKLEIDUNG_GEH            191652 non-null int64\n",
      "D19_BEKLEIDUNG_REST           191652 non-null int64\n",
      "D19_BILDUNG                   191652 non-null int64\n",
      "D19_BIO_OEKO                  191652 non-null int64\n",
      "D19_BUCH_CD                   191652 non-null int64\n",
      "D19_DIGIT_SERV                191652 non-null int64\n",
      "D19_DROGERIEARTIKEL           191652 non-null int64\n",
      "D19_ENERGIE                   191652 non-null int64\n",
      "D19_FREIZEIT                  191652 non-null int64\n",
      "D19_GARTEN                    191652 non-null int64\n",
      "D19_HANDWERK                  191652 non-null int64\n",
      "D19_HAUS_DEKO                 191652 non-null int64\n",
      "D19_KINDERARTIKEL             191652 non-null int64\n",
      "D19_KONSUMTYP_MAX             191652 non-null int64\n",
      "D19_KOSMETIK                  191652 non-null int64\n",
      "D19_LEBENSMITTEL              191652 non-null int64\n",
      "D19_LETZTER_KAUF_BRANCHE      143955 non-null object\n",
      "D19_LOTTO                     143955 non-null float64\n",
      "D19_NAHRUNGSERGAENZUNG        191652 non-null int64\n",
      "D19_RATGEBER                  191652 non-null int64\n",
      "D19_REISEN                    191652 non-null int64\n",
      "D19_SAMMELARTIKEL             191652 non-null int64\n",
      "D19_SCHUHE                    191652 non-null int64\n",
      "D19_SONSTIGE                  191652 non-null int64\n",
      "D19_SOZIALES                  143955 non-null float64\n",
      "D19_TECHNIK                   191652 non-null int64\n",
      "D19_TELKO_MOBILE              191652 non-null int64\n",
      "D19_TELKO_ONLINE_QUOTE_12     143955 non-null float64\n",
      "D19_TELKO_REST                191652 non-null int64\n",
      "D19_TIERARTIKEL               191652 non-null int64\n",
      "D19_VERSAND_REST              191652 non-null int64\n",
      "D19_VERSICHERUNGEN            191652 non-null int64\n",
      "D19_VERSI_ONLINE_QUOTE_12     143955 non-null float64\n",
      "D19_VOLLSORTIMENT             191652 non-null int64\n",
      "D19_WEIN_FEINKOST             191652 non-null int64\n",
      "DSL_FLAG                      141725 non-null float64\n",
      "EINGEFUEGT_AM                 141725 non-null object\n",
      "EINGEZOGENAM_HH_JAHR          145056 non-null float64\n",
      "EXTSEL992                     106369 non-null float64\n",
      "FIRMENDICHTE                  141725 non-null float64\n",
      "GEMEINDETYP                   141176 non-null float64\n",
      "HH_DELTA_FLAG                 137910 non-null float64\n",
      "KBA13_ANTG1                   140371 non-null float64\n",
      "KBA13_ANTG2                   140371 non-null float64\n",
      "KBA13_ANTG3                   140371 non-null float64\n",
      "KBA13_ANTG4                   140371 non-null float64\n",
      "KBA13_BAUMAX                  140371 non-null float64\n",
      "KBA13_CCM_1401_2500           140371 non-null float64\n",
      "KBA13_GBZ                     140371 non-null float64\n",
      "KBA13_HHZ                     140371 non-null float64\n",
      "KBA13_KMH_210                 140371 non-null float64\n",
      "KK_KUNDENTYP                  79715 non-null float64\n",
      "KOMBIALTER                    191652 non-null int64\n",
      "KONSUMZELLE                   141725 non-null float64\n",
      "LNR                           191652 non-null int64\n",
      "MOBI_RASTER                   141725 non-null float64\n",
      "ONLINE_PURCHASE               191652 non-null int64\n",
      "PRODUCT_GROUP                 191652 non-null object\n",
      "RT_KEIN_ANREIZ                188439 non-null float64\n",
      "RT_SCHNAEPPCHEN               188439 non-null float64\n",
      "RT_UEBERGROESSE               147460 non-null float64\n",
      "SOHO_KZ                       145056 non-null float64\n",
      "STRUKTURTYP                   141176 non-null float64\n",
      "UMFELD_ALT                    141204 non-null float64\n",
      "UMFELD_JUNG                   141204 non-null float64\n",
      "UNGLEICHENN_FLAG              145056 non-null float64\n",
      "VERDICHTUNGSRAUM              141176 non-null float64\n",
      "VHA                           145056 non-null float64\n",
      "VHN                           137392 non-null float64\n",
      "VK_DHT4A                      143781 non-null float64\n",
      "VK_DISTANZ                    143781 non-null float64\n",
      "VK_ZG11                       143781 non-null float64\n",
      "dtypes: float64(51), int64(37), object(5)\n",
      "memory usage: 136.0+ MB\n"
     ]
    }
   ],
   "source": [
    "customers_df[not_annot_attr_customers_values].info()"
   ]
  },
  {
   "cell_type": "markdown",
   "metadata": {},
   "source": [
    "#### Check null value"
   ]
  },
  {
   "cell_type": "code",
   "execution_count": 56,
   "metadata": {},
   "outputs": [
    {
     "data": {
      "image/png": "[encoded data removed]",
      "text/plain": [
       "<Figure size 432x288 with 1 Axes>"
      ]
     },
     "metadata": {},
     "output_type": "display_data"
    }
   ],
   "source": [
    "customers_df[not_annot_attr_customers_values].isnull().mean().hist()\n",
    "plt.xlabel('customer %')\n",
    "plt.ylabel('feature')\n",
    "plt.title('Not annotated Features null value distributeion')\n",
    "plt.show()"
   ]
  },
  {
   "cell_type": "markdown",
   "metadata": {},
   "source": [
    "create `customers_unused_not_annot_attribute` to hold droped attribute from `not_annot_attr_customers_values`\n",
    "\n",
    "CROP CRITERIA: __null value > 40%__"
   ]
  },
  {
   "cell_type": "code",
   "execution_count": 57,
   "metadata": {},
   "outputs": [],
   "source": [
    "FEATURE_DROP_RATIO=.4\n",
    "\n",
    "customers_unused_not_annot_attribute = not_annot_attr_customers_values[customers_df[not_annot_attr_customers_values].isnull().mean() > FEATURE_DROP_RATIO]"
   ]
  },
  {
   "cell_type": "markdown",
   "metadata": {},
   "source": [
    "#### Ananlyze EINGEFUEGT_AM\n",
    "\n",
    "convert datetime string to unix second integer"
   ]
  },
  {
   "cell_type": "code",
   "execution_count": 58,
   "metadata": {},
   "outputs": [],
   "source": [
    "_ = (pd.to_datetime(customers_df['EINGEFUEGT_AM']).astype(int)/ 10**9).head()\n",
    "\n",
    "if not np.issubdtype(_.dtype, np.number):\n",
    "    print('{} is not numberic type'.format(EINGEFUEGT_AM))"
   ]
  },
  {
   "cell_type": "code",
   "execution_count": 59,
   "metadata": {},
   "outputs": [],
   "source": [
    "customers_str_cat_not_annot_attribute = np.union1d(customers_str_cat_not_annot_attribute, ['EINGEFUEGT_AM'])"
   ]
  },
  {
   "cell_type": "markdown",
   "metadata": {},
   "source": [
    "#### Analyze D19_LETZTER_KAUF_BRANCH\n",
    "\n",
    "convert string to column index"
   ]
  },
  {
   "cell_type": "code",
   "execution_count": 60,
   "metadata": {},
   "outputs": [],
   "source": [
    "_ = customers_df['D19_LETZTER_KAUF_BRANCHE'].apply(lambda x: np.where(np.isin(customers_df.columns, x))[0][0] if np.where(np.isin(customers_df.columns, x))[0].size > 0 else -1)\n",
    "\n",
    "if not np.issubdtype(_.dtype, np.number):\n",
    "    print('{} is not numberic type'.format(D19_LETZTER_KAUF_BRANCHE))"
   ]
  },
  {
   "cell_type": "code",
   "execution_count": 61,
   "metadata": {},
   "outputs": [],
   "source": [
    "customers_str_cat_not_annot_attribute = np.union1d(customers_str_cat_not_annot_attribute, ['D19_LETZTER_KAUF_BRANCHE'])"
   ]
  },
  {
   "cell_type": "markdown",
   "metadata": {},
   "source": [
    "#### Analyze CAMEO_INTL_2015"
   ]
  },
  {
   "cell_type": "code",
   "execution_count": 62,
   "metadata": {},
   "outputs": [
    {
     "name": "stdout",
     "output_type": "stream",
     "text": [
      "CAMEO_INTL_2015 feature has float value: [12. 13. 14. 15. 22. 23. 24. 25. 31. 32. 33. 34. 35. 41. 43. 44. 45. 51.\n",
      " 52. 54. 55.]\n",
      "CAMEO_INTL_2015 feature has string value: ['12' '13' '14' '15' '22' '23' '24' '25' '31' '32' '33' '34' '35' '41'\n",
      " '43' '44' '45' '51' '52' '54' '55' 'XX']\n"
     ]
    }
   ],
   "source": [
    "int_v = []\n",
    "v1 = customers_df['CAMEO_INTL_2015'].dropna().apply(lambda x: int_v.append(x) if isinstance(x, int) else x).dropna().unique()\n",
    "\n",
    "float_v = []\n",
    "v1 = customers_df['CAMEO_INTL_2015'].dropna().apply(lambda x: float_v.append(x) if isinstance(x, float) else x).dropna().unique()\n",
    "\n",
    "str_v = []\n",
    "v1 = customers_df['CAMEO_INTL_2015'].dropna().apply(lambda x: str_v.append(x) if isinstance(x, str) else x).dropna().unique()\n",
    "\n",
    "int_v = np.unique(np.array(int_v))\n",
    "float_v = np.unique(np.array(float_v))\n",
    "str_v = np.unique(np.array(str_v))\n",
    "\n",
    "if len(int_v) > 0:\n",
    "    print('CAMEO_INTL_2015 feature has int value: {}'.format(int_v))\n",
    "if len(float_v) > 0:\n",
    "    print('CAMEO_INTL_2015 feature has float value: {}'.format(float_v))\n",
    "if len(str_v) > 0:\n",
    "    print('CAMEO_INTL_2015 feature has string value: {}'.format(str_v))"
   ]
  },
  {
   "cell_type": "code",
   "execution_count": 63,
   "metadata": {},
   "outputs": [],
   "source": [
    "customers_str_cat_not_annot_attribute = np.union1d(customers_str_cat_not_annot_attribute, ['CAMEO_INTL_2015'])"
   ]
  },
  {
   "cell_type": "markdown",
   "metadata": {},
   "source": [
    "create `customers_num_not_annot_attribute` to hold numeric attribute from `not_annot_attr_customers_values`"
   ]
  },
  {
   "cell_type": "code",
   "execution_count": 64,
   "metadata": {},
   "outputs": [],
   "source": [
    "customers_num_not_annot_attribute = np.array([])"
   ]
  },
  {
   "cell_type": "markdown",
   "metadata": {},
   "source": [
    "create `customers_num_cat_not_annot_attribute` to hold numeric categorical attribute from `not_annot_attr_customers_values`"
   ]
  },
  {
   "cell_type": "code",
   "execution_count": 65,
   "metadata": {},
   "outputs": [],
   "source": [
    "customers_num_cat_not_annot_attribute = np.array([])"
   ]
  },
  {
   "cell_type": "markdown",
   "metadata": {},
   "source": [
    "#### Analyze int64 dtype values"
   ]
  },
  {
   "cell_type": "code",
   "execution_count": 66,
   "metadata": {},
   "outputs": [
    {
     "data": {
      "text/plain": [
       "(36,)"
      ]
     },
     "execution_count": 66,
     "metadata": {},
     "output_type": "execute_result"
    }
   ],
   "source": [
    "customers_num_cat_not_annot_attribute = np.union1d(customers_num_cat_not_annot_attribute, customers_df[not_annot_attr_customers_values].select_dtypes(include=['int64']).columns)\n",
    "customers_num_cat_not_annot_attribute = np.setdiff1d(customers_num_cat_not_annot_attribute, customers_bin_cat_not_annot_attribute)\n",
    "customers_num_cat_not_annot_attribute = np.setdiff1d(customers_num_cat_not_annot_attribute, customers_unused_not_annot_attribute)\n",
    "customers_num_cat_not_annot_attribute.shape"
   ]
  },
  {
   "cell_type": "markdown",
   "metadata": {},
   "source": [
    "#### Analyze float64"
   ]
  },
  {
   "cell_type": "code",
   "execution_count": 67,
   "metadata": {},
   "outputs": [],
   "source": [
    "for col in customers_df[not_annot_attr_customers_values].select_dtypes(include=['float64']).columns:\n",
    "    _ = customers_df[col].dropna().unique()\n",
    "    if (_.size == 2):\n",
    "        customers_bin_cat_not_annot_attribute = np.setdiff1d(np.union1d(customers_bin_cat_not_annot_attribute, col), customers_unused_not_annot_attribute)\n",
    "    elif (_.min() < 5):\n",
    "        customers_num_cat_not_annot_attribute = np.setdiff1d(np.union1d(customers_num_cat_not_annot_attribute, col), customers_unused_not_annot_attribute)\n",
    "    else:\n",
    "        customers_num_not_annot_attribute = np.setdiff1d(np.union1d(customers_num_not_annot_attribute, col), customers_unused_not_annot_attribute)"
   ]
  },
  {
   "cell_type": "markdown",
   "metadata": {},
   "source": [
    "#### To fix the error, we will need to ...\n",
    "\n",
    "1. ALTER_KIND1, ALTER_KIND2, ALTER_KIND3, ALTER_KIND4, EXTSEL992, KK_KUNDENTYP: **drop (null value > 40%)**\n",
    "1. EINGEFUEGT_AM: **convert datetime string to number of seconds to the unix epoch start**\n",
    "1. D19_LETZTER_KAUF_BRANCH: **change feature string to column index**\n",
    "1. CAMEO_INTL_2015: **change '45', '25', '55', '51', '14', '54', '43', '22', '15', '24', '35', '23', '12', '44', '41', '52', '31', '13', '34', '32', '33' to integer, and 'XX' to NA**\n",
    "1. D19_LETZTER_KAUF_BRANCH: **change column string to column intex**\n",
    "1. CUSTOMER_GROUP: **change SINGLE_BUYER: 0, MULTI_BUYER: 0**\n",
    "1. PRODUCT_GROUP: **change 'COSMETIC_AND_FOOD': 0, 'FOOD':1, 'COSMETIC':2**\n",
    "1. All other attribute: **can convert to integer**"
   ]
  },
  {
   "cell_type": "code",
   "execution_count": 68,
   "metadata": {},
   "outputs": [],
   "source": [
    "assert not_annot_attr_customers_values.size == customers_bin_cat_not_annot_attribute.size + customers_str_cat_not_annot_attribute.size + customers_num_cat_not_annot_attribute.size + customers_num_not_annot_attribute.size + customers_unused_not_annot_attribute.size"
   ]
  },
  {
   "cell_type": "markdown",
   "metadata": {},
   "source": [
    "#### ROW Viewpoint"
   ]
  },
  {
   "cell_type": "code",
   "execution_count": 69,
   "metadata": {},
   "outputs": [
    {
     "data": {
      "image/png": "[encoded data removed]",
      "text/plain": [
       "<Figure size 432x288 with 1 Axes>"
      ]
     },
     "metadata": {},
     "output_type": "display_data"
    }
   ],
   "source": [
    "customers_df.isnull().mean(axis=1).hist()\n",
    "plt.xlabel('feature %')\n",
    "plt.ylabel('customer')\n",
    "plt.title('Customers null value distributeion')\n",
    "plt.show()"
   ]
  },
  {
   "cell_type": "markdown",
   "metadata": {},
   "source": [
    "#### To fix the error, we will need to ...\n",
    "\n",
    "1. Drop customers with **null value > 40%**"
   ]
  },
  {
   "cell_type": "markdown",
   "metadata": {},
   "source": [
    "### Data Preprocessing"
   ]
  },
  {
   "cell_type": "code",
   "execution_count": 117,
   "metadata": {},
   "outputs": [],
   "source": [
    "# dictionary to hold all type of annotated features\n",
    "annot_attr_customers_values_dict = {\n",
    "    'bin_cat': customers_bin_cat_annot_attribute,\n",
    "    'str_cat': customers_str_cat_annot_attribute,\n",
    "    'num_cat': customers_num_cat_annot_attribute,\n",
    "    'num': customers_num_annot_attribute\n",
    "}\n",
    "\n",
    "# dictionary to hold all type of un-annotated features\n",
    "not_annot_attr_customers_values_dict = {\n",
    "    'bin_cat': customers_bin_cat_not_annot_attribute,\n",
    "    'str_cat': customers_str_cat_not_annot_attribute,\n",
    "    'num_cat': customers_num_cat_not_annot_attribute,\n",
    "    'num': customers_num_not_annot_attribute,\n",
    "    'unused': customers_unused_not_annot_attribute\n",
    "}\n",
    "\n",
    "unknown_annot_attribute_dict = {\n",
    "    'minus_1_0': customers_minus_1_0_unknown_annot_attribute,\n",
    "    'minus_1_9': customers_minus_1_9_unknown_annot_attribute\n",
    "}\n",
    "\n",
    "CUSTOMER_DROP_RATIO = .4 ## customer drop ration"
   ]
  },
  {
   "cell_type": "code",
   "execution_count": 118,
   "metadata": {},
   "outputs": [],
   "source": [
    "def drop(df, customer_drop_ratio=CUSTOMER_DROP_RATIO, annot_dict=annot_attr_customers_values_dict, not_annot_dict=not_annot_attr_customers_values_dict):\n",
    "    '''\n",
    "    INPUT:\n",
    "    df - pandas dataframe\n",
    "    customer_drop_ratio - drop ratio for customer\n",
    "    annot_dict - dictionary to hold all type of annotated features\n",
    "    not_annot_dict - dictionary to hold all type of un-annotated features\n",
    "    \n",
    "    OUTPUT:\n",
    "    df - pandas dataframe\n",
    "    \n",
    "    Description: Drop customers with drop_ratio.\n",
    "    '''\n",
    "    ## drop customer\n",
    "    df = df.loc[df.isnull().mean(axis=1) < customer_drop_ratio]\n",
    "    \n",
    "    ## drop ferature\n",
    "    cols = [v for k in annot_dict.keys() for v in annot_dict[k]]\n",
    "    cols += [v for k in not_annot_dict.keys() for v in not_annot_dict[k]]\n",
    "    cols = np.setdiff1d(cols, not_annot_dict['unused'])\n",
    "    df = df[cols]\n",
    "    \n",
    "    return df"
   ]
  },
  {
   "cell_type": "code",
   "execution_count": 130,
   "metadata": {},
   "outputs": [],
   "source": [
    "def formatit(df, annot_dict=annot_attr_customers_values_dict, not_annto_dict=not_annot_attr_customers_values_dict, unknown_dict=unknown_annot_attribute_dict):\n",
    "    '''\n",
    "    INPUT:\n",
    "    df - pandas dataframe\n",
    "    annot_dict - dictionary to hold all type of annotated features\n",
    "    not_annto_dict - dictionary to hold all type of un-annotated features\n",
    "    \n",
    "    OUTPUT:\n",
    "    df - pandas dataframe\n",
    "    attr_dict - dictionary with feature type\n",
    "    \n",
    "    Description: Change un-documented value to NA. Try to match 'DIAS Attributes - Values 2017.xlsx' Value field.\n",
    "    '''\n",
    "    for k in annot_dict.keys():\n",
    "        print(k)\n",
    "        for v in annot_dict[k]:\n",
    "            print(v)\n",
    "            if v == 'OST_WEST_KZ':\n",
    "                ;\n",
    "            elif v == 'CAMEO_DEU_2015':\n",
    "                # change '1A', '5D', '4C', '7B', '3B', '1D', '9E', '2D', '4A', '6B', '9D', '8B', '5C', '9C', '4E', '6C', '8C', '8A', '5B', '9B', '3D', '2A', '3C', '5F', '7A', '1E', '2C', '7C', '5A', '2B', '6D', '7E', '5E', '6E', '3A', '9A', '4B', '1C', '1B', '6A', '8D', '7D', '6F', '4D' to integer and 'XX' to NA\n",
    "                ;\n",
    "            elif v == 'CAMEO_DEUG_2015':\n",
    "                ;\n",
    "            elif v == 'KBA05_MODTEMP':\n",
    "                ;\n",
    "            elif v == 'LP_FAMILIE_FEIN':\n",
    "                ;\n",
    "            elif v == 'LP_FAMILIE_GROB':\n",
    "                ;\n",
    "            elif v == 'LP_LEBENSPHASE_FEIN':\n",
    "                ;\n",
    "            elif v == 'LP_LEBENSPHASE_GROB':\n",
    "                ;\n",
    "            elif np.isin(v, [_ for k in unknown_dict.keys() for _ in unknown_dict[k]]):\n",
    "                ;\n",
    "            elif v == 'EINGEFUEGT_AM':\n",
    "                ;\n",
    "            elif v == 'D19_LETZTER_KAUF_BRANCH':\n",
    "                ;\n",
    "            elif v == 'CAMEO_INTL_2015':\n",
    "                ;\n",
    "            elif v == 'D19_LETZTER_KAUF_BRANCH':\n",
    "                ;\n",
    "            elif v == 'CUSTOMER_GROUP':\n",
    "                ;\n",
    "            elif v == 'PRODUCT_GROUP':\n",
    "                ;\n",
    "            else:\n",
    "                df[col].dropna().apply(lambda x: int(x));\n",
    "                \n",
    "    return df"
   ]
  },
  {
   "cell_type": "code",
   "execution_count": 133,
   "metadata": {},
   "outputs": [
    {
     "data": {
      "text/plain": [
       "array(['1A', nan, '5D', '4C', '7B', '3B', '1D', '9E', '2D', '4A', '6B',\n",
       "       '9D', '8B', '5C', '9C', '4E', '6C', '8C', '8A', '5B', '9B', '3D',\n",
       "       '2A', '3C', '5F', '7A', '1E', '2C', '7C', '5A', '2B', '6D', '7E',\n",
       "       '5E', '6E', '3A', '9A', '4B', '1C', '1B', '6A', '8D', '7D', '6F',\n",
       "       '4D', 'XX'], dtype=object)"
      ]
     },
     "execution_count": 133,
     "metadata": {},
     "output_type": "execute_result"
    }
   ],
   "source": [
    "customers_df['CAMEO_DEU_2015'].unique()"
   ]
  },
  {
   "cell_type": "code",
   "execution_count": 132,
   "metadata": {},
   "outputs": [
    {
     "name": "stdout",
     "output_type": "stream",
     "text": [
      "bin_cat\n",
      "GREEN_AVANTGARDE\n",
      "str_cat\n",
      "CAMEO_DEU_2015\n",
      "OST_WEST_KZ\n",
      "num_cat\n",
      "AGER_TYP\n",
      "ALTERSKATEGORIE_GROB\n",
      "ALTER_HH\n",
      "ANREDE_KZ\n",
      "BALLRAUM\n",
      "CAMEO_DEUG_2015\n",
      "CJT_GESAMTTYP\n",
      "D19_BANKEN_ANZ_12\n",
      "D19_BANKEN_ANZ_24\n",
      "D19_BANKEN_DATUM\n",
      "D19_BANKEN_OFFLINE_DATUM\n",
      "D19_BANKEN_ONLINE_DATUM\n",
      "D19_BANKEN_ONLINE_QUOTE_12\n",
      "D19_GESAMT_ANZ_12\n",
      "D19_GESAMT_ANZ_24\n",
      "D19_GESAMT_DATUM\n",
      "D19_GESAMT_OFFLINE_DATUM\n",
      "D19_GESAMT_ONLINE_DATUM\n",
      "D19_GESAMT_ONLINE_QUOTE_12\n",
      "D19_KONSUMTYP\n",
      "D19_TELKO_ANZ_12\n",
      "D19_TELKO_ANZ_24\n",
      "D19_TELKO_DATUM\n",
      "D19_TELKO_OFFLINE_DATUM\n",
      "D19_TELKO_ONLINE_DATUM\n",
      "D19_VERSAND_ANZ_12\n",
      "D19_VERSAND_ANZ_24\n",
      "D19_VERSAND_DATUM\n",
      "D19_VERSAND_OFFLINE_DATUM\n",
      "D19_VERSAND_ONLINE_DATUM\n",
      "D19_VERSAND_ONLINE_QUOTE_12\n",
      "D19_VERSI_ANZ_12\n",
      "D19_VERSI_ANZ_24\n",
      "D19_VERSI_DATUM\n",
      "D19_VERSI_OFFLINE_DATUM\n",
      "D19_VERSI_ONLINE_DATUM\n",
      "EWDICHTE\n",
      "FINANZTYP\n",
      "FINANZ_ANLEGER\n",
      "FINANZ_HAUSBAUER\n",
      "FINANZ_MINIMALIST\n",
      "FINANZ_SPARER\n",
      "FINANZ_UNAUFFAELLIGER\n",
      "FINANZ_VORSORGER\n",
      "GEBAEUDETYP\n",
      "GEBAEUDETYP_RASTER\n",
      "GFK_URLAUBERTYP\n",
      "HEALTH_TYP\n",
      "HH_EINKOMMEN_SCORE\n",
      "INNENSTADT\n",
      "KBA05_ALTER1\n",
      "KBA05_ALTER2\n",
      "KBA05_ALTER3\n",
      "KBA05_ALTER4\n",
      "KBA05_ANHANG\n",
      "KBA05_ANTG1\n",
      "KBA05_ANTG2\n",
      "KBA05_ANTG3\n",
      "KBA05_ANTG4\n",
      "KBA05_AUTOQUOT\n",
      "KBA05_BAUMAX\n",
      "KBA05_CCM1\n",
      "KBA05_CCM2\n",
      "KBA05_CCM3\n",
      "KBA05_CCM4\n",
      "KBA05_DIESEL\n",
      "KBA05_FRAU\n",
      "KBA05_GBZ\n",
      "KBA05_HERST1\n",
      "KBA05_HERST2\n",
      "KBA05_HERST3\n",
      "KBA05_HERST4\n",
      "KBA05_HERST5\n",
      "KBA05_HERSTTEMP\n",
      "KBA05_KRSAQUOT\n",
      "KBA05_KRSHERST1\n",
      "KBA05_KRSHERST2\n",
      "KBA05_KRSHERST3\n",
      "KBA05_KRSKLEIN\n",
      "KBA05_KRSOBER\n",
      "KBA05_KRSVAN\n",
      "KBA05_KRSZUL\n",
      "KBA05_KW1\n",
      "KBA05_KW2\n",
      "KBA05_KW3\n",
      "KBA05_MAXAH\n",
      "KBA05_MAXBJ\n",
      "KBA05_MAXHERST\n",
      "KBA05_MAXSEG\n",
      "KBA05_MAXVORB\n",
      "KBA05_MOD1\n",
      "KBA05_MOD2\n",
      "KBA05_MOD3\n",
      "KBA05_MOD4\n",
      "KBA05_MOD8\n",
      "KBA05_MODTEMP\n",
      "KBA05_MOTOR\n",
      "KBA05_MOTRAD\n",
      "KBA05_SEG1\n",
      "KBA05_SEG10\n",
      "KBA05_SEG2\n",
      "KBA05_SEG3\n",
      "KBA05_SEG4\n",
      "KBA05_SEG5\n",
      "KBA05_SEG6\n",
      "KBA05_SEG7\n",
      "KBA05_SEG8\n",
      "KBA05_SEG9\n",
      "KBA05_VORB0\n",
      "KBA05_VORB1\n",
      "KBA05_VORB2\n",
      "KBA05_ZUL1\n",
      "KBA05_ZUL2\n",
      "KBA05_ZUL3\n",
      "KBA05_ZUL4\n",
      "KBA13_ALTERHALTER_30\n",
      "KBA13_ALTERHALTER_45\n",
      "KBA13_ALTERHALTER_60\n",
      "KBA13_ALTERHALTER_61\n",
      "KBA13_AUDI\n",
      "KBA13_AUTOQUOTE\n",
      "KBA13_BJ_1999\n",
      "KBA13_BJ_2000\n",
      "KBA13_BJ_2004\n",
      "KBA13_BJ_2006\n",
      "KBA13_BJ_2008\n",
      "KBA13_BJ_2009\n",
      "KBA13_BMW\n",
      "KBA13_CCM_0_1400\n",
      "KBA13_CCM_1000\n",
      "KBA13_CCM_1200\n",
      "KBA13_CCM_1400\n",
      "KBA13_CCM_1500\n",
      "KBA13_CCM_1600\n",
      "KBA13_CCM_1800\n",
      "KBA13_CCM_2000\n",
      "KBA13_CCM_2500\n",
      "KBA13_CCM_2501\n",
      "KBA13_CCM_3000\n",
      "KBA13_CCM_3001\n",
      "KBA13_FAB_ASIEN\n",
      "KBA13_FAB_SONSTIGE\n",
      "KBA13_FIAT\n",
      "KBA13_FORD\n",
      "KBA13_HALTER_20\n",
      "KBA13_HALTER_25\n",
      "KBA13_HALTER_30\n",
      "KBA13_HALTER_35\n",
      "KBA13_HALTER_40\n",
      "KBA13_HALTER_45\n",
      "KBA13_HALTER_50\n",
      "KBA13_HALTER_55\n",
      "KBA13_HALTER_60\n",
      "KBA13_HALTER_65\n",
      "KBA13_HALTER_66\n",
      "KBA13_HERST_ASIEN\n",
      "KBA13_HERST_AUDI_VW\n",
      "KBA13_HERST_BMW_BENZ\n",
      "KBA13_HERST_EUROPA\n",
      "KBA13_HERST_FORD_OPEL\n",
      "KBA13_HERST_SONST\n",
      "KBA13_KMH_0_140\n",
      "KBA13_KMH_110\n",
      "KBA13_KMH_140\n",
      "KBA13_KMH_140_210\n",
      "KBA13_KMH_180\n",
      "KBA13_KMH_211\n",
      "KBA13_KMH_250\n",
      "KBA13_KMH_251\n",
      "KBA13_KRSAQUOT\n",
      "KBA13_KRSHERST_AUDI_VW\n",
      "KBA13_KRSHERST_BMW_BENZ\n",
      "KBA13_KRSHERST_FORD_OPEL\n",
      "KBA13_KRSSEG_KLEIN\n",
      "KBA13_KRSSEG_OBER\n",
      "KBA13_KRSSEG_VAN\n",
      "KBA13_KRSZUL_NEU\n",
      "KBA13_KW_0_60\n",
      "KBA13_KW_110\n",
      "KBA13_KW_120\n",
      "KBA13_KW_121\n",
      "KBA13_KW_30\n",
      "KBA13_KW_40\n",
      "KBA13_KW_50\n",
      "KBA13_KW_60\n",
      "KBA13_KW_61_120\n",
      "KBA13_KW_70\n",
      "KBA13_KW_80\n",
      "KBA13_KW_90\n",
      "KBA13_MAZDA\n",
      "KBA13_MERCEDES\n",
      "KBA13_MOTOR\n",
      "KBA13_NISSAN\n",
      "KBA13_OPEL\n",
      "KBA13_PEUGEOT\n",
      "KBA13_RENAULT\n",
      "KBA13_SEG_GELAENDEWAGEN\n",
      "KBA13_SEG_GROSSRAUMVANS\n",
      "KBA13_SEG_KLEINST\n",
      "KBA13_SEG_KLEINWAGEN\n",
      "KBA13_SEG_KOMPAKTKLASSE\n",
      "KBA13_SEG_MINIVANS\n",
      "KBA13_SEG_MINIWAGEN\n",
      "KBA13_SEG_MITTELKLASSE\n",
      "KBA13_SEG_OBEREMITTELKLASSE\n",
      "KBA13_SEG_OBERKLASSE\n",
      "KBA13_SEG_SONSTIGE\n",
      "KBA13_SEG_SPORTWAGEN\n",
      "KBA13_SEG_UTILITIES\n",
      "KBA13_SEG_VAN\n",
      "KBA13_SEG_WOHNMOBILE\n",
      "KBA13_SITZE_4\n",
      "KBA13_SITZE_5\n",
      "KBA13_SITZE_6\n",
      "KBA13_TOYOTA\n",
      "KBA13_VORB_0\n",
      "KBA13_VORB_1\n",
      "KBA13_VORB_1_2\n",
      "KBA13_VORB_2\n",
      "KBA13_VORB_3\n",
      "KBA13_VW\n",
      "KKK\n",
      "KONSUMNAEHE\n",
      "LP_FAMILIE_FEIN\n",
      "LP_FAMILIE_GROB\n",
      "LP_LEBENSPHASE_FEIN\n",
      "LP_LEBENSPHASE_GROB\n",
      "LP_STATUS_FEIN\n",
      "LP_STATUS_GROB\n",
      "MOBI_REGIO\n",
      "NATIONALITAET_KZ\n",
      "ONLINE_AFFINITAET\n",
      "ORTSGR_KLS9\n",
      "PLZ8_ANTG1\n",
      "PLZ8_ANTG2\n",
      "PLZ8_ANTG3\n",
      "PLZ8_ANTG4\n",
      "PLZ8_BAUMAX\n",
      "PLZ8_GBZ\n",
      "PLZ8_HHZ\n",
      "PRAEGENDE_JUGENDJAHRE\n",
      "REGIOTYP\n",
      "RELAT_AB\n",
      "RETOURTYP_BK_S\n",
      "SEMIO_DOM\n",
      "SEMIO_ERL\n",
      "SEMIO_FAM\n",
      "SEMIO_KAEM\n",
      "SEMIO_KRIT\n",
      "SEMIO_KULT\n",
      "SEMIO_LUST\n",
      "SEMIO_MAT\n",
      "SEMIO_PFLICHT\n",
      "SEMIO_RAT\n",
      "SEMIO_REL\n",
      "SEMIO_SOZ\n",
      "SEMIO_TRADV\n",
      "SEMIO_VERT\n",
      "SHOPPER_TYP\n",
      "TITEL_KZ\n",
      "VERS_TYP\n",
      "WOHNDAUER_2008\n",
      "WOHNLAGE\n",
      "W_KEIT_KIND_HH\n",
      "ZABEOTYP\n",
      "num\n",
      "ANZ_HAUSHALTE_AKTIV\n",
      "ANZ_HH_TITEL\n",
      "ANZ_PERSONEN\n",
      "ANZ_TITEL\n",
      "ARBEIT\n",
      "GEBURTSJAHR\n",
      "KBA13_ANZAHL_PKW\n",
      "MIN_GEBAEUDEJAHR\n"
     ]
    }
   ],
   "source": [
    "_ = drop(customers_df)\n",
    "_ = formatit(customers_df)"
   ]
  },
  {
   "cell_type": "code",
   "execution_count": null,
   "metadata": {},
   "outputs": [],
   "source": [
    "def fillna(df, attr_dict):\n",
    "    '''\n",
    "    INPUT:\n",
    "    df - pandas dataframe\n",
    "    annot_dict - dictionary to hold all type of annotated features\n",
    "    not_annto_dict - dictionary to hold all type of un-annotated features\n",
    "    \n",
    "    OUTPUT:\n",
    "    df - pandas dataframe\n",
    "    \n",
    "    Description: Fill every NA field a value.\n",
    "    '''\n",
    "    \n",
    "    return df"
   ]
  },
  {
   "cell_type": "code",
   "execution_count": null,
   "metadata": {},
   "outputs": [],
   "source": [
    "def remove_outlier(df, attr_dict):\n",
    "    '''\n",
    "    INPUT:\n",
    "    df - pandas dataframe\n",
    "    annot_dict - dictionary to hold all type of annotated features\n",
    "    not_annto_dict - dictionary to hold all type of un-annotated features\n",
    "    \n",
    "    OUTPUT:\n",
    "    df - pandas dataframe\n",
    "    \n",
    "    Description: Remove abnormal value\n",
    "    '''\n",
    "    \n",
    "    return df"
   ]
  },
  {
   "cell_type": "code",
   "execution_count": null,
   "metadata": {},
   "outputs": [],
   "source": [
    "def normalize(df, attr_dict):\n",
    "    '''\n",
    "    INPUT:\n",
    "    df - pandas dataframe\n",
    "    annot_dict - dictionary to hold all type of annotated features\n",
    "    not_annto_dict - dictionary to hold all type of un-annotated features\n",
    "    \n",
    "    OUTPUT:\n",
    "    df - pandas dataframe\n",
    "    \n",
    "    Description: Normalize numeric feature to a range.\n",
    "    '''\n",
    "    \n",
    "    return df"
   ]
  },
  {
   "cell_type": "code",
   "execution_count": null,
   "metadata": {},
   "outputs": [],
   "source": [
    "def preprocess(df, attr_dict):\n",
    "    \n",
    "    df = drop(df)\n",
    "    df = formatit(df)\n",
    "    df = fillna(df)\n",
    "    df = remove_outlier(df)\n",
    "    df = normalize(df)\n",
    "    \n",
    "    return df"
   ]
  },
  {
   "cell_type": "code",
   "execution_count": null,
   "metadata": {},
   "outputs": [],
   "source": [
    "_ = preprocess(customers_df, annot_attr_customers_values_dict)\n",
    "new_customers_df = preprocess(_, not_annot_attr_customers_values_dict)"
   ]
  },
  {
   "cell_type": "markdown",
   "metadata": {},
   "source": [
    "## Part 1: Customer Segmentation Report\n",
    "\n",
    "The main bulk of your analysis will come in this part of the project. Here, you should use unsupervised learning techniques to describe the relationship between the demographics of the company's existing customers and the general population of Germany. By the end of this part, you should be able to describe parts of the general population that are more likely to be part of the mail-order company's main customer base, and which parts of the general population are less so."
   ]
  },
  {
   "cell_type": "code",
   "execution_count": null,
   "metadata": {},
   "outputs": [],
   "source": []
  },
  {
   "cell_type": "markdown",
   "metadata": {},
   "source": [
    "### Feature Transformation"
   ]
  },
  {
   "cell_type": "code",
   "execution_count": null,
   "metadata": {},
   "outputs": [],
   "source": []
  },
  {
   "cell_type": "markdown",
   "metadata": {},
   "source": [
    "### Clustering"
   ]
  },
  {
   "cell_type": "code",
   "execution_count": null,
   "metadata": {},
   "outputs": [],
   "source": []
  },
  {
   "cell_type": "markdown",
   "metadata": {},
   "source": [
    "## Part 2: Supervised Learning Model\n",
    "\n",
    "Now that you've found which parts of the population are more likely to be customers of the mail-order company, it's time to build a prediction model. Each of the rows in the \"MAILOUT\" data files represents an individual that was targeted for a mailout campaign. Ideally, we should be able to use the demographic information from each individual to decide whether or not it will be worth it to include that person in the campaign.\n",
    "\n",
    "The \"MAILOUT\" data has been split into two approximately equal parts, each with almost 43 000 data rows. In this part, you can verify your model with the \"TRAIN\" partition, which includes a column, \"RESPONSE\", that states whether or not a person became a customer of the company following the campaign. In the next part, you'll need to create predictions on the \"TEST\" partition, where the \"RESPONSE\" column has been withheld."
   ]
  },
  {
   "cell_type": "code",
   "execution_count": null,
   "metadata": {},
   "outputs": [],
   "source": [
    "mailout_train = pd.read_csv('../../data/Term2/capstone/arvato_data/Udacity_MAILOUT_052018_TRAIN.csv', sep=';')"
   ]
  },
  {
   "cell_type": "code",
   "execution_count": null,
   "metadata": {},
   "outputs": [],
   "source": []
  },
  {
   "cell_type": "markdown",
   "metadata": {},
   "source": [
    "## Part 3: Kaggle Competition\n",
    "\n",
    "Now that you've created a model to predict which individuals are most likely to respond to a mailout campaign, it's time to test that model in competition through Kaggle. If you click on the link [here](http://www.kaggle.com/t/21e6d45d4c574c7fa2d868f0e8c83140), you'll be taken to the competition page where, if you have a Kaggle account, you can enter. If you're one of the top performers, you may have the chance to be contacted by a hiring manager from Arvato or Bertelsmann for an interview!\n",
    "\n",
    "Your entry to the competition should be a CSV file with two columns. The first column should be a copy of \"LNR\", which acts as an ID number for each individual in the \"TEST\" partition. The second column, \"RESPONSE\", should be some measure of how likely each individual became a customer – this might not be a straightforward probability. As you should have found in Part 2, there is a large output class imbalance, where most individuals did not respond to the mailout. Thus, predicting individual classes and using accuracy does not seem to be an appropriate performance evaluation method. Instead, the competition will be using AUC to evaluate performance. The exact values of the \"RESPONSE\" column do not matter as much: only that the higher values try to capture as many of the actual customers as possible, early in the ROC curve sweep."
   ]
  },
  {
   "cell_type": "code",
   "execution_count": null,
   "metadata": {},
   "outputs": [],
   "source": [
    "mailout_test = pd.read_csv('../../data/Term2/capstone/arvato_data/Udacity_MAILOUT_052018_TEST.csv', sep=';')"
   ]
  },
  {
   "cell_type": "code",
   "execution_count": null,
   "metadata": {},
   "outputs": [],
   "source": []
  }
 ],
 "metadata": {
  "kernelspec": {
   "display_name": "Python 3",
   "language": "python",
   "name": "python3"
  },
  "language_info": {
   "codemirror_mode": {
    "name": "ipython",
    "version": 3
   },
   "file_extension": ".py",
   "mimetype": "text/x-python",
   "name": "python",
   "nbconvert_exporter": "python",
   "pygments_lexer": "ipython3",
   "version": "3.6.8"
  }
 },
 "nbformat": 4,
 "nbformat_minor": 2
}
