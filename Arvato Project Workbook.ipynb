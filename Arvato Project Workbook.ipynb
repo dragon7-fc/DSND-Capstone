{
 "cells": [
  {
   "cell_type": "markdown",
   "metadata": {},
   "source": [
    "# Capstone Project: Create a Customer Segmentation Report for Arvato Financial Services\n",
    "\n",
    "In this project, you will analyze demographics data for customers of a mail-order sales company in Germany, comparing it against demographics information for the general population. You'll use unsupervised learning techniques to perform customer segmentation, identifying the parts of the population that best describe the core customer base of the company. Then, you'll apply what you've learned on a third dataset with demographics information for targets of a marketing campaign for the company, and use a model to predict which individuals are most likely to convert into becoming customers for the company. The data that you will use has been provided by our partners at Bertelsmann Arvato Analytics, and represents a real-life data science task.\n",
    "\n",
    "If you completed the first term of this program, you will be familiar with the first part of this project, from the unsupervised learning project. The versions of those two datasets used in this project will include many more features and has not been pre-cleaned. You are also free to choose whatever approach you'd like to analyzing the data rather than follow pre-determined steps. In your work on this project, make sure that you carefully document your steps and decisions, since your main deliverable for this project will be a blog post reporting your findings."
   ]
  },
  {
   "cell_type": "code",
   "execution_count": 1,
   "metadata": {
    "collapsed": true
   },
   "outputs": [],
   "source": [
    "# import libraries here; add more as necessary\n",
    "import numpy as np\n",
    "import pandas as pd\n",
    "import matplotlib.pyplot as plt\n",
    "import seaborn as sns\n",
    "from IPython.display import clear_output  # draw progress bar\n",
    "\n",
    "from sklearn.preprocessing import StandardScaler\n",
    "from sklearn.decomposition import PCA\n",
    "from sklearn.cluster import KMeans, MiniBatchKMeans  # KMeans\n",
    "\n",
    "from sklearn.model_selection import StratifiedShuffleSplit  # StratifiedShuffleSplit\n",
    "from sklearn.model_selection import learning_curve\n",
    "from sklearn.tree import DecisionTreeClassifier\n",
    "from sklearn.svm import LinearSVC\n",
    "from sklearn.ensemble import AdaBoostRegressor  # Adaptive Boosting\n",
    "from xgboost.sklearn import XGBRegressor  # Extreme Gradient Boosting\n",
    "from sklearn.metrics import roc_auc_score\n",
    "import xgboost as xgb\n",
    "from xgboost.sklearn import XGBClassifier\n",
    "from sklearn import metrics   #Additional scklearn functions\n",
    "from sklearn.model_selection import GridSearchCV  #Perforing grid search\n",
    "\n",
    "# magic word for producing visualizations in notebook\n",
    "%matplotlib inline"
   ]
  },
  {
   "cell_type": "code",
   "execution_count": 2,
   "metadata": {},
   "outputs": [],
   "source": [
    "N_JOBS = -1  # Number of parallel threads used to run xgboost and KMeans\n",
    "DEBUG = True  # debug flag"
   ]
  },
  {
   "cell_type": "markdown",
   "metadata": {},
   "source": [
    "## Part 0: Get to Know the Data\n",
    "\n",
    "There are four data files associated with this project:\n",
    "\n",
    "- `Udacity_AZDIAS_052018.csv`: Demographics data for the general population of Germany; 891 211 persons (rows) x 366 features (columns).\n",
    "- `Udacity_CUSTOMERS_052018.csv`: Demographics data for customers of a mail-order company; 191 652 persons (rows) x 369 features (columns).\n",
    "- `Udacity_MAILOUT_052018_TRAIN.csv`: Demographics data for individuals who were targets of a marketing campaign; 42 982 persons (rows) x 367 (columns).\n",
    "- `Udacity_MAILOUT_052018_TEST.csv`: Demographics data for individuals who were targets of a marketing campaign; 42 833 persons (rows) x 366 (columns).\n",
    "\n",
    "Each row of the demographics files represents a single person, but also includes information outside of individuals, including information about their household, building, and neighborhood. Use the information from the first two files to figure out how customers (\"CUSTOMERS\") are similar to or differ from the general population at large (\"AZDIAS\"), then use your analysis to make predictions on the other two files (\"MAILOUT\"), predicting which recipients are most likely to become a customer for the mail-order company.\n",
    "\n",
    "The \"CUSTOMERS\" file contains three extra columns ('CUSTOMER_GROUP', 'ONLINE_PURCHASE', and 'PRODUCT_GROUP'), which provide broad information about the customers depicted in the file. The original \"MAILOUT\" file included one additional column, \"RESPONSE\", which indicated whether or not each recipient became a customer of the company. For the \"TRAIN\" subset, this column has been retained, but in the \"TEST\" subset it has been removed; it is against that withheld column that your final predictions will be assessed in the Kaggle competition.\n",
    "\n",
    "Otherwise, all of the remaining columns are the same between the three data files. For more information about the columns depicted in the files, you can refer to two Excel spreadsheets provided in the workspace. [One of them](./DIAS Information Levels - Attributes 2017.xlsx) is a top-level list of attributes and descriptions, organized by informational category. [The other](./DIAS Attributes - Values 2017.xlsx) is a detailed mapping of data values for each feature in alphabetical order.\n",
    "\n",
    "In the below cell, we've provided some initial code to load in the first two datasets. Note for all of the `.csv` data files in this project that they're semicolon (`;`) delimited, so an additional argument in the [`read_csv()`](https://pandas.pydata.org/pandas-docs/stable/generated/pandas.read_csv.html) call has been included to read in the data properly. Also, considering the size of the datasets, it may take some time for them to load completely.\n",
    "\n",
    "You'll notice when the data is loaded in that a warning message will immediately pop up. Before you really start digging into the modeling and analysis, you're going to need to perform some cleaning. Take some time to browse the structure of the data and look over the informational spreadsheets to understand the data values. Make some decisions on which features to keep, which features to drop, and if any revisions need to be made on data formats. It'll be a good idea to create a function with pre-processing steps, since you'll need to clean all of the datasets before you work with them."
   ]
  },
  {
   "cell_type": "markdown",
   "metadata": {},
   "source": [
    "### What we want to do here ...\n",
    "In this section, we will firet explore `Udacity_AZDIAS_052018.csv`, `Udacity_CUSTOMERS_052018.csv`, `DIAS Information Levels - Attributes 2017.xlsx`, and `DIAS Attributes - Values 2017.xlsx`. Analyze their relationship and summarize feature types, including binary categorical, nominal categorical, ordinal categorical, mixed categorical, or quantitative. Create fundamential data structure. And find some input error, such as typo, undocumentd, unknown values.\n",
    "\n",
    "* Data Exploration - general population vs. customers\n",
    "    - Analyze `Udacity_AZDIAS_052018.csv` and `Udacity_CUSTOMERS_052018.csv`.\n",
    "* Data Exploration - attributes vs. values\n",
    "    - Analyze `DIAS Information Levels - Attributes 2017.xlsx`, `DIAS Attributes - Values 2017.xlsx` and create feature types data structure.\n",
    "* Data Exploration - customers vs. values\n",
    "    - Analyze feature difference between `Udacity_CUSTOMERS_052018.csv` and `DIAS Attributes - Values 2017.xlsx`.\n",
    "* Data Exploration - general population vs. customers (2nd)\n",
    "    - Analyze feature difference between `Udacity_AZDIAS_052018.csv` and `Udacity_CUSTOMERS_052018.csv`\n",
    "* Data Preprocessing\n",
    "    - Create a `clean_data` function for data cleaning.\n",
    "\n",
    "### Data Exploration - general population vs. customers\n",
    "Analyze `Udacity_AZDIAS_052018.csv` and `Udacity_CUSTOMERS_052018.csv`.\n",
    "\n",
    "#### Load general population and customers dataset"
   ]
  },
  {
   "cell_type": "code",
   "execution_count": 3,
   "metadata": {},
   "outputs": [
    {
     "name": "stderr",
     "output_type": "stream",
     "text": [
      "/home/fc/anaconda3/lib/python3.7/site-packages/IPython/core/interactiveshell.py:3049: DtypeWarning: Columns (18,19) have mixed types. Specify dtype option on import or set low_memory=False.\n",
      "  interactivity=interactivity, compiler=compiler, result=result)\n"
     ]
    }
   ],
   "source": [
    "# load in the data\n",
    "# general population dataset\n",
    "azdias_df = pd.read_csv('arvato_data/Udacity_AZDIAS_052018.csv', sep=';')\n",
    "\n",
    "# customers dataset\n",
    "customers_df = pd.read_csv('arvato_data/Udacity_CUSTOMERS_052018.csv', sep=';')"
   ]
  },
  {
   "cell_type": "code",
   "execution_count": 4,
   "metadata": {},
   "outputs": [
    {
     "name": "stdout",
     "output_type": "stream",
     "text": [
      "<class 'pandas.core.frame.DataFrame'>\n",
      "RangeIndex: 891221 entries, 0 to 891220\n",
      "Columns: 366 entries, LNR to ALTERSKATEGORIE_GROB\n",
      "dtypes: float64(267), int64(93), object(6)\n",
      "memory usage: 2.4+ GB\n"
     ]
    }
   ],
   "source": [
    "azdias_df.info()"
   ]
  },
  {
   "cell_type": "code",
   "execution_count": 5,
   "metadata": {},
   "outputs": [
    {
     "data": {
      "text/html": [
       "<div>\n",
       "<style scoped>\n",
       "    .dataframe tbody tr th:only-of-type {\n",
       "        vertical-align: middle;\n",
       "    }\n",
       "\n",
       "    .dataframe tbody tr th {\n",
       "        vertical-align: top;\n",
       "    }\n",
       "\n",
       "    .dataframe thead th {\n",
       "        text-align: right;\n",
       "    }\n",
       "</style>\n",
       "<table border=\"1\" class=\"dataframe\">\n",
       "  <thead>\n",
       "    <tr style=\"text-align: right;\">\n",
       "      <th></th>\n",
       "      <th>LNR</th>\n",
       "      <th>AGER_TYP</th>\n",
       "      <th>AKT_DAT_KL</th>\n",
       "      <th>ALTER_HH</th>\n",
       "      <th>ALTER_KIND1</th>\n",
       "      <th>ALTER_KIND2</th>\n",
       "      <th>ALTER_KIND3</th>\n",
       "      <th>ALTER_KIND4</th>\n",
       "      <th>ALTERSKATEGORIE_FEIN</th>\n",
       "      <th>ANZ_HAUSHALTE_AKTIV</th>\n",
       "      <th>...</th>\n",
       "      <th>VHN</th>\n",
       "      <th>VK_DHT4A</th>\n",
       "      <th>VK_DISTANZ</th>\n",
       "      <th>VK_ZG11</th>\n",
       "      <th>W_KEIT_KIND_HH</th>\n",
       "      <th>WOHNDAUER_2008</th>\n",
       "      <th>WOHNLAGE</th>\n",
       "      <th>ZABEOTYP</th>\n",
       "      <th>ANREDE_KZ</th>\n",
       "      <th>ALTERSKATEGORIE_GROB</th>\n",
       "    </tr>\n",
       "  </thead>\n",
       "  <tbody>\n",
       "    <tr>\n",
       "      <th>0</th>\n",
       "      <td>910215</td>\n",
       "      <td>-1</td>\n",
       "      <td>NaN</td>\n",
       "      <td>NaN</td>\n",
       "      <td>NaN</td>\n",
       "      <td>NaN</td>\n",
       "      <td>NaN</td>\n",
       "      <td>NaN</td>\n",
       "      <td>NaN</td>\n",
       "      <td>NaN</td>\n",
       "      <td>...</td>\n",
       "      <td>NaN</td>\n",
       "      <td>NaN</td>\n",
       "      <td>NaN</td>\n",
       "      <td>NaN</td>\n",
       "      <td>NaN</td>\n",
       "      <td>NaN</td>\n",
       "      <td>NaN</td>\n",
       "      <td>3</td>\n",
       "      <td>1</td>\n",
       "      <td>2</td>\n",
       "    </tr>\n",
       "    <tr>\n",
       "      <th>1</th>\n",
       "      <td>910220</td>\n",
       "      <td>-1</td>\n",
       "      <td>9.0</td>\n",
       "      <td>0.0</td>\n",
       "      <td>NaN</td>\n",
       "      <td>NaN</td>\n",
       "      <td>NaN</td>\n",
       "      <td>NaN</td>\n",
       "      <td>21.0</td>\n",
       "      <td>11.0</td>\n",
       "      <td>...</td>\n",
       "      <td>4.0</td>\n",
       "      <td>8.0</td>\n",
       "      <td>11.0</td>\n",
       "      <td>10.0</td>\n",
       "      <td>3.0</td>\n",
       "      <td>9.0</td>\n",
       "      <td>4.0</td>\n",
       "      <td>5</td>\n",
       "      <td>2</td>\n",
       "      <td>1</td>\n",
       "    </tr>\n",
       "    <tr>\n",
       "      <th>2</th>\n",
       "      <td>910225</td>\n",
       "      <td>-1</td>\n",
       "      <td>9.0</td>\n",
       "      <td>17.0</td>\n",
       "      <td>NaN</td>\n",
       "      <td>NaN</td>\n",
       "      <td>NaN</td>\n",
       "      <td>NaN</td>\n",
       "      <td>17.0</td>\n",
       "      <td>10.0</td>\n",
       "      <td>...</td>\n",
       "      <td>2.0</td>\n",
       "      <td>9.0</td>\n",
       "      <td>9.0</td>\n",
       "      <td>6.0</td>\n",
       "      <td>3.0</td>\n",
       "      <td>9.0</td>\n",
       "      <td>2.0</td>\n",
       "      <td>5</td>\n",
       "      <td>2</td>\n",
       "      <td>3</td>\n",
       "    </tr>\n",
       "    <tr>\n",
       "      <th>3</th>\n",
       "      <td>910226</td>\n",
       "      <td>2</td>\n",
       "      <td>1.0</td>\n",
       "      <td>13.0</td>\n",
       "      <td>NaN</td>\n",
       "      <td>NaN</td>\n",
       "      <td>NaN</td>\n",
       "      <td>NaN</td>\n",
       "      <td>13.0</td>\n",
       "      <td>1.0</td>\n",
       "      <td>...</td>\n",
       "      <td>0.0</td>\n",
       "      <td>7.0</td>\n",
       "      <td>10.0</td>\n",
       "      <td>11.0</td>\n",
       "      <td>NaN</td>\n",
       "      <td>9.0</td>\n",
       "      <td>7.0</td>\n",
       "      <td>3</td>\n",
       "      <td>2</td>\n",
       "      <td>4</td>\n",
       "    </tr>\n",
       "    <tr>\n",
       "      <th>4</th>\n",
       "      <td>910241</td>\n",
       "      <td>-1</td>\n",
       "      <td>1.0</td>\n",
       "      <td>20.0</td>\n",
       "      <td>NaN</td>\n",
       "      <td>NaN</td>\n",
       "      <td>NaN</td>\n",
       "      <td>NaN</td>\n",
       "      <td>14.0</td>\n",
       "      <td>3.0</td>\n",
       "      <td>...</td>\n",
       "      <td>2.0</td>\n",
       "      <td>3.0</td>\n",
       "      <td>5.0</td>\n",
       "      <td>4.0</td>\n",
       "      <td>2.0</td>\n",
       "      <td>9.0</td>\n",
       "      <td>3.0</td>\n",
       "      <td>4</td>\n",
       "      <td>1</td>\n",
       "      <td>3</td>\n",
       "    </tr>\n",
       "  </tbody>\n",
       "</table>\n",
       "<p>5 rows × 366 columns</p>\n",
       "</div>"
      ],
      "text/plain": [
       "      LNR  AGER_TYP  AKT_DAT_KL  ALTER_HH  ALTER_KIND1  ALTER_KIND2  \\\n",
       "0  910215        -1         NaN       NaN          NaN          NaN   \n",
       "1  910220        -1         9.0       0.0          NaN          NaN   \n",
       "2  910225        -1         9.0      17.0          NaN          NaN   \n",
       "3  910226         2         1.0      13.0          NaN          NaN   \n",
       "4  910241        -1         1.0      20.0          NaN          NaN   \n",
       "\n",
       "   ALTER_KIND3  ALTER_KIND4  ALTERSKATEGORIE_FEIN  ANZ_HAUSHALTE_AKTIV  ...  \\\n",
       "0          NaN          NaN                   NaN                  NaN  ...   \n",
       "1          NaN          NaN                  21.0                 11.0  ...   \n",
       "2          NaN          NaN                  17.0                 10.0  ...   \n",
       "3          NaN          NaN                  13.0                  1.0  ...   \n",
       "4          NaN          NaN                  14.0                  3.0  ...   \n",
       "\n",
       "   VHN  VK_DHT4A  VK_DISTANZ  VK_ZG11  W_KEIT_KIND_HH  WOHNDAUER_2008  \\\n",
       "0  NaN       NaN         NaN      NaN             NaN             NaN   \n",
       "1  4.0       8.0        11.0     10.0             3.0             9.0   \n",
       "2  2.0       9.0         9.0      6.0             3.0             9.0   \n",
       "3  0.0       7.0        10.0     11.0             NaN             9.0   \n",
       "4  2.0       3.0         5.0      4.0             2.0             9.0   \n",
       "\n",
       "   WOHNLAGE ZABEOTYP ANREDE_KZ ALTERSKATEGORIE_GROB  \n",
       "0       NaN        3         1                    2  \n",
       "1       4.0        5         2                    1  \n",
       "2       2.0        5         2                    3  \n",
       "3       7.0        3         2                    4  \n",
       "4       3.0        4         1                    3  \n",
       "\n",
       "[5 rows x 366 columns]"
      ]
     },
     "execution_count": 5,
     "metadata": {},
     "output_type": "execute_result"
    }
   ],
   "source": [
    "# Be sure to add in a lot more cells (both markdown and code) to document your\n",
    "# approach and findings!\n",
    "azdias_df.head()"
   ]
  },
  {
   "cell_type": "markdown",
   "metadata": {},
   "source": [
    "General population have 366 feature, and almost fall in the range between 0 and 200. Maybe have 6 mixed type columns"
   ]
  },
  {
   "cell_type": "code",
   "execution_count": 6,
   "metadata": {},
   "outputs": [
    {
     "data": {
      "text/html": [
       "<div>\n",
       "<style scoped>\n",
       "    .dataframe tbody tr th:only-of-type {\n",
       "        vertical-align: middle;\n",
       "    }\n",
       "\n",
       "    .dataframe tbody tr th {\n",
       "        vertical-align: top;\n",
       "    }\n",
       "\n",
       "    .dataframe thead th {\n",
       "        text-align: right;\n",
       "    }\n",
       "</style>\n",
       "<table border=\"1\" class=\"dataframe\">\n",
       "  <thead>\n",
       "    <tr style=\"text-align: right;\">\n",
       "      <th></th>\n",
       "      <th>LNR</th>\n",
       "      <th>AGER_TYP</th>\n",
       "      <th>AKT_DAT_KL</th>\n",
       "      <th>ALTER_HH</th>\n",
       "      <th>ALTER_KIND1</th>\n",
       "      <th>ALTER_KIND2</th>\n",
       "      <th>ALTER_KIND3</th>\n",
       "      <th>ALTER_KIND4</th>\n",
       "      <th>ALTERSKATEGORIE_FEIN</th>\n",
       "      <th>ANZ_HAUSHALTE_AKTIV</th>\n",
       "      <th>...</th>\n",
       "      <th>VHN</th>\n",
       "      <th>VK_DHT4A</th>\n",
       "      <th>VK_DISTANZ</th>\n",
       "      <th>VK_ZG11</th>\n",
       "      <th>W_KEIT_KIND_HH</th>\n",
       "      <th>WOHNDAUER_2008</th>\n",
       "      <th>WOHNLAGE</th>\n",
       "      <th>ZABEOTYP</th>\n",
       "      <th>ANREDE_KZ</th>\n",
       "      <th>ALTERSKATEGORIE_GROB</th>\n",
       "    </tr>\n",
       "  </thead>\n",
       "  <tbody>\n",
       "    <tr>\n",
       "      <th>count</th>\n",
       "      <td>8.912210e+05</td>\n",
       "      <td>891221.000000</td>\n",
       "      <td>817722.000000</td>\n",
       "      <td>817722.000000</td>\n",
       "      <td>81058.000000</td>\n",
       "      <td>29499.000000</td>\n",
       "      <td>6170.000000</td>\n",
       "      <td>1205.000000</td>\n",
       "      <td>628274.000000</td>\n",
       "      <td>798073.000000</td>\n",
       "      <td>...</td>\n",
       "      <td>770025.000000</td>\n",
       "      <td>815304.000000</td>\n",
       "      <td>815304.000000</td>\n",
       "      <td>815304.000000</td>\n",
       "      <td>783619.000000</td>\n",
       "      <td>817722.000000</td>\n",
       "      <td>798073.000000</td>\n",
       "      <td>891221.000000</td>\n",
       "      <td>891221.000000</td>\n",
       "      <td>891221.000000</td>\n",
       "    </tr>\n",
       "    <tr>\n",
       "      <th>mean</th>\n",
       "      <td>6.372630e+05</td>\n",
       "      <td>-0.358435</td>\n",
       "      <td>4.421928</td>\n",
       "      <td>10.864126</td>\n",
       "      <td>11.745392</td>\n",
       "      <td>13.402658</td>\n",
       "      <td>14.476013</td>\n",
       "      <td>15.089627</td>\n",
       "      <td>13.700717</td>\n",
       "      <td>8.287263</td>\n",
       "      <td>...</td>\n",
       "      <td>2.417322</td>\n",
       "      <td>6.001214</td>\n",
       "      <td>7.532130</td>\n",
       "      <td>5.945972</td>\n",
       "      <td>3.933406</td>\n",
       "      <td>7.908791</td>\n",
       "      <td>4.052836</td>\n",
       "      <td>3.362438</td>\n",
       "      <td>1.522098</td>\n",
       "      <td>2.777398</td>\n",
       "    </tr>\n",
       "    <tr>\n",
       "      <th>std</th>\n",
       "      <td>2.572735e+05</td>\n",
       "      <td>1.198724</td>\n",
       "      <td>3.638805</td>\n",
       "      <td>7.639683</td>\n",
       "      <td>4.097660</td>\n",
       "      <td>3.243300</td>\n",
       "      <td>2.712427</td>\n",
       "      <td>2.452932</td>\n",
       "      <td>5.079849</td>\n",
       "      <td>15.628087</td>\n",
       "      <td>...</td>\n",
       "      <td>1.166572</td>\n",
       "      <td>2.856091</td>\n",
       "      <td>3.247789</td>\n",
       "      <td>2.771464</td>\n",
       "      <td>1.964701</td>\n",
       "      <td>1.923137</td>\n",
       "      <td>1.949539</td>\n",
       "      <td>1.352704</td>\n",
       "      <td>0.499512</td>\n",
       "      <td>1.068775</td>\n",
       "    </tr>\n",
       "    <tr>\n",
       "      <th>min</th>\n",
       "      <td>1.916530e+05</td>\n",
       "      <td>-1.000000</td>\n",
       "      <td>1.000000</td>\n",
       "      <td>0.000000</td>\n",
       "      <td>2.000000</td>\n",
       "      <td>2.000000</td>\n",
       "      <td>4.000000</td>\n",
       "      <td>7.000000</td>\n",
       "      <td>0.000000</td>\n",
       "      <td>0.000000</td>\n",
       "      <td>...</td>\n",
       "      <td>0.000000</td>\n",
       "      <td>1.000000</td>\n",
       "      <td>1.000000</td>\n",
       "      <td>1.000000</td>\n",
       "      <td>0.000000</td>\n",
       "      <td>1.000000</td>\n",
       "      <td>0.000000</td>\n",
       "      <td>1.000000</td>\n",
       "      <td>1.000000</td>\n",
       "      <td>1.000000</td>\n",
       "    </tr>\n",
       "    <tr>\n",
       "      <th>25%</th>\n",
       "      <td>4.144580e+05</td>\n",
       "      <td>-1.000000</td>\n",
       "      <td>1.000000</td>\n",
       "      <td>0.000000</td>\n",
       "      <td>8.000000</td>\n",
       "      <td>11.000000</td>\n",
       "      <td>13.000000</td>\n",
       "      <td>14.000000</td>\n",
       "      <td>11.000000</td>\n",
       "      <td>1.000000</td>\n",
       "      <td>...</td>\n",
       "      <td>2.000000</td>\n",
       "      <td>3.000000</td>\n",
       "      <td>5.000000</td>\n",
       "      <td>4.000000</td>\n",
       "      <td>2.000000</td>\n",
       "      <td>8.000000</td>\n",
       "      <td>3.000000</td>\n",
       "      <td>3.000000</td>\n",
       "      <td>1.000000</td>\n",
       "      <td>2.000000</td>\n",
       "    </tr>\n",
       "    <tr>\n",
       "      <th>50%</th>\n",
       "      <td>6.372630e+05</td>\n",
       "      <td>-1.000000</td>\n",
       "      <td>3.000000</td>\n",
       "      <td>13.000000</td>\n",
       "      <td>12.000000</td>\n",
       "      <td>14.000000</td>\n",
       "      <td>15.000000</td>\n",
       "      <td>15.000000</td>\n",
       "      <td>14.000000</td>\n",
       "      <td>4.000000</td>\n",
       "      <td>...</td>\n",
       "      <td>2.000000</td>\n",
       "      <td>6.000000</td>\n",
       "      <td>8.000000</td>\n",
       "      <td>6.000000</td>\n",
       "      <td>4.000000</td>\n",
       "      <td>9.000000</td>\n",
       "      <td>3.000000</td>\n",
       "      <td>3.000000</td>\n",
       "      <td>2.000000</td>\n",
       "      <td>3.000000</td>\n",
       "    </tr>\n",
       "    <tr>\n",
       "      <th>75%</th>\n",
       "      <td>8.600680e+05</td>\n",
       "      <td>-1.000000</td>\n",
       "      <td>9.000000</td>\n",
       "      <td>17.000000</td>\n",
       "      <td>15.000000</td>\n",
       "      <td>16.000000</td>\n",
       "      <td>17.000000</td>\n",
       "      <td>17.000000</td>\n",
       "      <td>17.000000</td>\n",
       "      <td>9.000000</td>\n",
       "      <td>...</td>\n",
       "      <td>3.000000</td>\n",
       "      <td>9.000000</td>\n",
       "      <td>10.000000</td>\n",
       "      <td>8.000000</td>\n",
       "      <td>6.000000</td>\n",
       "      <td>9.000000</td>\n",
       "      <td>5.000000</td>\n",
       "      <td>4.000000</td>\n",
       "      <td>2.000000</td>\n",
       "      <td>4.000000</td>\n",
       "    </tr>\n",
       "    <tr>\n",
       "      <th>max</th>\n",
       "      <td>1.082873e+06</td>\n",
       "      <td>3.000000</td>\n",
       "      <td>9.000000</td>\n",
       "      <td>21.000000</td>\n",
       "      <td>18.000000</td>\n",
       "      <td>18.000000</td>\n",
       "      <td>18.000000</td>\n",
       "      <td>18.000000</td>\n",
       "      <td>25.000000</td>\n",
       "      <td>595.000000</td>\n",
       "      <td>...</td>\n",
       "      <td>4.000000</td>\n",
       "      <td>11.000000</td>\n",
       "      <td>13.000000</td>\n",
       "      <td>11.000000</td>\n",
       "      <td>6.000000</td>\n",
       "      <td>9.000000</td>\n",
       "      <td>8.000000</td>\n",
       "      <td>6.000000</td>\n",
       "      <td>2.000000</td>\n",
       "      <td>9.000000</td>\n",
       "    </tr>\n",
       "  </tbody>\n",
       "</table>\n",
       "<p>8 rows × 360 columns</p>\n",
       "</div>"
      ],
      "text/plain": [
       "                LNR       AGER_TYP     AKT_DAT_KL       ALTER_HH  \\\n",
       "count  8.912210e+05  891221.000000  817722.000000  817722.000000   \n",
       "mean   6.372630e+05      -0.358435       4.421928      10.864126   \n",
       "std    2.572735e+05       1.198724       3.638805       7.639683   \n",
       "min    1.916530e+05      -1.000000       1.000000       0.000000   \n",
       "25%    4.144580e+05      -1.000000       1.000000       0.000000   \n",
       "50%    6.372630e+05      -1.000000       3.000000      13.000000   \n",
       "75%    8.600680e+05      -1.000000       9.000000      17.000000   \n",
       "max    1.082873e+06       3.000000       9.000000      21.000000   \n",
       "\n",
       "        ALTER_KIND1   ALTER_KIND2  ALTER_KIND3  ALTER_KIND4  \\\n",
       "count  81058.000000  29499.000000  6170.000000  1205.000000   \n",
       "mean      11.745392     13.402658    14.476013    15.089627   \n",
       "std        4.097660      3.243300     2.712427     2.452932   \n",
       "min        2.000000      2.000000     4.000000     7.000000   \n",
       "25%        8.000000     11.000000    13.000000    14.000000   \n",
       "50%       12.000000     14.000000    15.000000    15.000000   \n",
       "75%       15.000000     16.000000    17.000000    17.000000   \n",
       "max       18.000000     18.000000    18.000000    18.000000   \n",
       "\n",
       "       ALTERSKATEGORIE_FEIN  ANZ_HAUSHALTE_AKTIV  ...            VHN  \\\n",
       "count         628274.000000        798073.000000  ...  770025.000000   \n",
       "mean              13.700717             8.287263  ...       2.417322   \n",
       "std                5.079849            15.628087  ...       1.166572   \n",
       "min                0.000000             0.000000  ...       0.000000   \n",
       "25%               11.000000             1.000000  ...       2.000000   \n",
       "50%               14.000000             4.000000  ...       2.000000   \n",
       "75%               17.000000             9.000000  ...       3.000000   \n",
       "max               25.000000           595.000000  ...       4.000000   \n",
       "\n",
       "            VK_DHT4A     VK_DISTANZ        VK_ZG11  W_KEIT_KIND_HH  \\\n",
       "count  815304.000000  815304.000000  815304.000000   783619.000000   \n",
       "mean        6.001214       7.532130       5.945972        3.933406   \n",
       "std         2.856091       3.247789       2.771464        1.964701   \n",
       "min         1.000000       1.000000       1.000000        0.000000   \n",
       "25%         3.000000       5.000000       4.000000        2.000000   \n",
       "50%         6.000000       8.000000       6.000000        4.000000   \n",
       "75%         9.000000      10.000000       8.000000        6.000000   \n",
       "max        11.000000      13.000000      11.000000        6.000000   \n",
       "\n",
       "       WOHNDAUER_2008       WOHNLAGE       ZABEOTYP      ANREDE_KZ  \\\n",
       "count   817722.000000  798073.000000  891221.000000  891221.000000   \n",
       "mean         7.908791       4.052836       3.362438       1.522098   \n",
       "std          1.923137       1.949539       1.352704       0.499512   \n",
       "min          1.000000       0.000000       1.000000       1.000000   \n",
       "25%          8.000000       3.000000       3.000000       1.000000   \n",
       "50%          9.000000       3.000000       3.000000       2.000000   \n",
       "75%          9.000000       5.000000       4.000000       2.000000   \n",
       "max          9.000000       8.000000       6.000000       2.000000   \n",
       "\n",
       "       ALTERSKATEGORIE_GROB  \n",
       "count         891221.000000  \n",
       "mean               2.777398  \n",
       "std                1.068775  \n",
       "min                1.000000  \n",
       "25%                2.000000  \n",
       "50%                3.000000  \n",
       "75%                4.000000  \n",
       "max                9.000000  \n",
       "\n",
       "[8 rows x 360 columns]"
      ]
     },
     "execution_count": 6,
     "metadata": {},
     "output_type": "execute_result"
    }
   ],
   "source": [
    "azdias_df.describe()"
   ]
  },
  {
   "cell_type": "code",
   "execution_count": 7,
   "metadata": {},
   "outputs": [
    {
     "data": {
      "image/png": "[encoded data removed]",
      "text/plain": [
       "<Figure size 432x288 with 1 Axes>"
      ]
     },
     "metadata": {
      "needs_background": "light"
     },
     "output_type": "display_data"
    }
   ],
   "source": [
    "# almost all data are in the range between 0 and 200\n",
    "azdias_df.drop('LNR', axis=1).describe().loc['mean'].hist()\n",
    "plt.title('General population mean value distribution')\n",
    "plt.show()"
   ]
  },
  {
   "cell_type": "markdown",
   "metadata": {},
   "source": [
    "Customer have 369 feature, and almost fall in the range between 0 and 200."
   ]
  },
  {
   "cell_type": "code",
   "execution_count": 8,
   "metadata": {},
   "outputs": [
    {
     "name": "stdout",
     "output_type": "stream",
     "text": [
      "<class 'pandas.core.frame.DataFrame'>\n",
      "RangeIndex: 191652 entries, 0 to 191651\n",
      "Columns: 369 entries, LNR to ALTERSKATEGORIE_GROB\n",
      "dtypes: float64(267), int64(94), object(8)\n",
      "memory usage: 539.5+ MB\n"
     ]
    }
   ],
   "source": [
    "customers_df.info()"
   ]
  },
  {
   "cell_type": "code",
   "execution_count": 9,
   "metadata": {},
   "outputs": [
    {
     "data": {
      "text/html": [
       "<div>\n",
       "<style scoped>\n",
       "    .dataframe tbody tr th:only-of-type {\n",
       "        vertical-align: middle;\n",
       "    }\n",
       "\n",
       "    .dataframe tbody tr th {\n",
       "        vertical-align: top;\n",
       "    }\n",
       "\n",
       "    .dataframe thead th {\n",
       "        text-align: right;\n",
       "    }\n",
       "</style>\n",
       "<table border=\"1\" class=\"dataframe\">\n",
       "  <thead>\n",
       "    <tr style=\"text-align: right;\">\n",
       "      <th></th>\n",
       "      <th>LNR</th>\n",
       "      <th>AGER_TYP</th>\n",
       "      <th>AKT_DAT_KL</th>\n",
       "      <th>ALTER_HH</th>\n",
       "      <th>ALTER_KIND1</th>\n",
       "      <th>ALTER_KIND2</th>\n",
       "      <th>ALTER_KIND3</th>\n",
       "      <th>ALTER_KIND4</th>\n",
       "      <th>ALTERSKATEGORIE_FEIN</th>\n",
       "      <th>ANZ_HAUSHALTE_AKTIV</th>\n",
       "      <th>...</th>\n",
       "      <th>VK_ZG11</th>\n",
       "      <th>W_KEIT_KIND_HH</th>\n",
       "      <th>WOHNDAUER_2008</th>\n",
       "      <th>WOHNLAGE</th>\n",
       "      <th>ZABEOTYP</th>\n",
       "      <th>PRODUCT_GROUP</th>\n",
       "      <th>CUSTOMER_GROUP</th>\n",
       "      <th>ONLINE_PURCHASE</th>\n",
       "      <th>ANREDE_KZ</th>\n",
       "      <th>ALTERSKATEGORIE_GROB</th>\n",
       "    </tr>\n",
       "  </thead>\n",
       "  <tbody>\n",
       "    <tr>\n",
       "      <th>0</th>\n",
       "      <td>9626</td>\n",
       "      <td>2</td>\n",
       "      <td>1.0</td>\n",
       "      <td>10.0</td>\n",
       "      <td>NaN</td>\n",
       "      <td>NaN</td>\n",
       "      <td>NaN</td>\n",
       "      <td>NaN</td>\n",
       "      <td>10.0</td>\n",
       "      <td>1.0</td>\n",
       "      <td>...</td>\n",
       "      <td>2.0</td>\n",
       "      <td>6.0</td>\n",
       "      <td>9.0</td>\n",
       "      <td>7.0</td>\n",
       "      <td>3</td>\n",
       "      <td>COSMETIC_AND_FOOD</td>\n",
       "      <td>MULTI_BUYER</td>\n",
       "      <td>0</td>\n",
       "      <td>1</td>\n",
       "      <td>4</td>\n",
       "    </tr>\n",
       "    <tr>\n",
       "      <th>1</th>\n",
       "      <td>9628</td>\n",
       "      <td>-1</td>\n",
       "      <td>9.0</td>\n",
       "      <td>11.0</td>\n",
       "      <td>NaN</td>\n",
       "      <td>NaN</td>\n",
       "      <td>NaN</td>\n",
       "      <td>NaN</td>\n",
       "      <td>NaN</td>\n",
       "      <td>NaN</td>\n",
       "      <td>...</td>\n",
       "      <td>3.0</td>\n",
       "      <td>0.0</td>\n",
       "      <td>9.0</td>\n",
       "      <td>NaN</td>\n",
       "      <td>3</td>\n",
       "      <td>FOOD</td>\n",
       "      <td>SINGLE_BUYER</td>\n",
       "      <td>0</td>\n",
       "      <td>1</td>\n",
       "      <td>4</td>\n",
       "    </tr>\n",
       "    <tr>\n",
       "      <th>2</th>\n",
       "      <td>143872</td>\n",
       "      <td>-1</td>\n",
       "      <td>1.0</td>\n",
       "      <td>6.0</td>\n",
       "      <td>NaN</td>\n",
       "      <td>NaN</td>\n",
       "      <td>NaN</td>\n",
       "      <td>NaN</td>\n",
       "      <td>0.0</td>\n",
       "      <td>1.0</td>\n",
       "      <td>...</td>\n",
       "      <td>11.0</td>\n",
       "      <td>6.0</td>\n",
       "      <td>9.0</td>\n",
       "      <td>2.0</td>\n",
       "      <td>3</td>\n",
       "      <td>COSMETIC_AND_FOOD</td>\n",
       "      <td>MULTI_BUYER</td>\n",
       "      <td>0</td>\n",
       "      <td>2</td>\n",
       "      <td>4</td>\n",
       "    </tr>\n",
       "    <tr>\n",
       "      <th>3</th>\n",
       "      <td>143873</td>\n",
       "      <td>1</td>\n",
       "      <td>1.0</td>\n",
       "      <td>8.0</td>\n",
       "      <td>NaN</td>\n",
       "      <td>NaN</td>\n",
       "      <td>NaN</td>\n",
       "      <td>NaN</td>\n",
       "      <td>8.0</td>\n",
       "      <td>0.0</td>\n",
       "      <td>...</td>\n",
       "      <td>2.0</td>\n",
       "      <td>NaN</td>\n",
       "      <td>9.0</td>\n",
       "      <td>7.0</td>\n",
       "      <td>1</td>\n",
       "      <td>COSMETIC</td>\n",
       "      <td>MULTI_BUYER</td>\n",
       "      <td>0</td>\n",
       "      <td>1</td>\n",
       "      <td>4</td>\n",
       "    </tr>\n",
       "    <tr>\n",
       "      <th>4</th>\n",
       "      <td>143874</td>\n",
       "      <td>-1</td>\n",
       "      <td>1.0</td>\n",
       "      <td>20.0</td>\n",
       "      <td>NaN</td>\n",
       "      <td>NaN</td>\n",
       "      <td>NaN</td>\n",
       "      <td>NaN</td>\n",
       "      <td>14.0</td>\n",
       "      <td>7.0</td>\n",
       "      <td>...</td>\n",
       "      <td>4.0</td>\n",
       "      <td>2.0</td>\n",
       "      <td>9.0</td>\n",
       "      <td>3.0</td>\n",
       "      <td>1</td>\n",
       "      <td>FOOD</td>\n",
       "      <td>MULTI_BUYER</td>\n",
       "      <td>0</td>\n",
       "      <td>1</td>\n",
       "      <td>3</td>\n",
       "    </tr>\n",
       "  </tbody>\n",
       "</table>\n",
       "<p>5 rows × 369 columns</p>\n",
       "</div>"
      ],
      "text/plain": [
       "      LNR  AGER_TYP  AKT_DAT_KL  ALTER_HH  ALTER_KIND1  ALTER_KIND2  \\\n",
       "0    9626         2         1.0      10.0          NaN          NaN   \n",
       "1    9628        -1         9.0      11.0          NaN          NaN   \n",
       "2  143872        -1         1.0       6.0          NaN          NaN   \n",
       "3  143873         1         1.0       8.0          NaN          NaN   \n",
       "4  143874        -1         1.0      20.0          NaN          NaN   \n",
       "\n",
       "   ALTER_KIND3  ALTER_KIND4  ALTERSKATEGORIE_FEIN  ANZ_HAUSHALTE_AKTIV  ...  \\\n",
       "0          NaN          NaN                  10.0                  1.0  ...   \n",
       "1          NaN          NaN                   NaN                  NaN  ...   \n",
       "2          NaN          NaN                   0.0                  1.0  ...   \n",
       "3          NaN          NaN                   8.0                  0.0  ...   \n",
       "4          NaN          NaN                  14.0                  7.0  ...   \n",
       "\n",
       "   VK_ZG11  W_KEIT_KIND_HH  WOHNDAUER_2008  WOHNLAGE  ZABEOTYP  \\\n",
       "0      2.0             6.0             9.0       7.0         3   \n",
       "1      3.0             0.0             9.0       NaN         3   \n",
       "2     11.0             6.0             9.0       2.0         3   \n",
       "3      2.0             NaN             9.0       7.0         1   \n",
       "4      4.0             2.0             9.0       3.0         1   \n",
       "\n",
       "       PRODUCT_GROUP  CUSTOMER_GROUP ONLINE_PURCHASE ANREDE_KZ  \\\n",
       "0  COSMETIC_AND_FOOD     MULTI_BUYER               0         1   \n",
       "1               FOOD    SINGLE_BUYER               0         1   \n",
       "2  COSMETIC_AND_FOOD     MULTI_BUYER               0         2   \n",
       "3           COSMETIC     MULTI_BUYER               0         1   \n",
       "4               FOOD     MULTI_BUYER               0         1   \n",
       "\n",
       "  ALTERSKATEGORIE_GROB  \n",
       "0                    4  \n",
       "1                    4  \n",
       "2                    4  \n",
       "3                    4  \n",
       "4                    3  \n",
       "\n",
       "[5 rows x 369 columns]"
      ]
     },
     "execution_count": 9,
     "metadata": {},
     "output_type": "execute_result"
    }
   ],
   "source": [
    "customers_df.head()"
   ]
  },
  {
   "cell_type": "code",
   "execution_count": 10,
   "metadata": {},
   "outputs": [
    {
     "data": {
      "text/html": [
       "<div>\n",
       "<style scoped>\n",
       "    .dataframe tbody tr th:only-of-type {\n",
       "        vertical-align: middle;\n",
       "    }\n",
       "\n",
       "    .dataframe tbody tr th {\n",
       "        vertical-align: top;\n",
       "    }\n",
       "\n",
       "    .dataframe thead th {\n",
       "        text-align: right;\n",
       "    }\n",
       "</style>\n",
       "<table border=\"1\" class=\"dataframe\">\n",
       "  <thead>\n",
       "    <tr style=\"text-align: right;\">\n",
       "      <th></th>\n",
       "      <th>LNR</th>\n",
       "      <th>AGER_TYP</th>\n",
       "      <th>AKT_DAT_KL</th>\n",
       "      <th>ALTER_HH</th>\n",
       "      <th>ALTER_KIND1</th>\n",
       "      <th>ALTER_KIND2</th>\n",
       "      <th>ALTER_KIND3</th>\n",
       "      <th>ALTER_KIND4</th>\n",
       "      <th>ALTERSKATEGORIE_FEIN</th>\n",
       "      <th>ANZ_HAUSHALTE_AKTIV</th>\n",
       "      <th>...</th>\n",
       "      <th>VK_DHT4A</th>\n",
       "      <th>VK_DISTANZ</th>\n",
       "      <th>VK_ZG11</th>\n",
       "      <th>W_KEIT_KIND_HH</th>\n",
       "      <th>WOHNDAUER_2008</th>\n",
       "      <th>WOHNLAGE</th>\n",
       "      <th>ZABEOTYP</th>\n",
       "      <th>ONLINE_PURCHASE</th>\n",
       "      <th>ANREDE_KZ</th>\n",
       "      <th>ALTERSKATEGORIE_GROB</th>\n",
       "    </tr>\n",
       "  </thead>\n",
       "  <tbody>\n",
       "    <tr>\n",
       "      <th>count</th>\n",
       "      <td>191652.000000</td>\n",
       "      <td>191652.000000</td>\n",
       "      <td>145056.000000</td>\n",
       "      <td>145056.000000</td>\n",
       "      <td>11766.000000</td>\n",
       "      <td>5100.000000</td>\n",
       "      <td>1275.000000</td>\n",
       "      <td>236.000000</td>\n",
       "      <td>139810.000000</td>\n",
       "      <td>141725.000000</td>\n",
       "      <td>...</td>\n",
       "      <td>143781.000000</td>\n",
       "      <td>143781.000000</td>\n",
       "      <td>143781.000000</td>\n",
       "      <td>137910.000000</td>\n",
       "      <td>145056.000000</td>\n",
       "      <td>141725.000000</td>\n",
       "      <td>191652.000000</td>\n",
       "      <td>191652.000000</td>\n",
       "      <td>191652.000000</td>\n",
       "      <td>191652.000000</td>\n",
       "    </tr>\n",
       "    <tr>\n",
       "      <th>mean</th>\n",
       "      <td>95826.500000</td>\n",
       "      <td>0.344359</td>\n",
       "      <td>1.747525</td>\n",
       "      <td>11.352009</td>\n",
       "      <td>12.337243</td>\n",
       "      <td>13.672353</td>\n",
       "      <td>14.647059</td>\n",
       "      <td>15.377119</td>\n",
       "      <td>10.331579</td>\n",
       "      <td>4.965863</td>\n",
       "      <td>...</td>\n",
       "      <td>4.374417</td>\n",
       "      <td>4.564769</td>\n",
       "      <td>3.168868</td>\n",
       "      <td>4.152716</td>\n",
       "      <td>8.646371</td>\n",
       "      <td>3.723133</td>\n",
       "      <td>2.576806</td>\n",
       "      <td>0.090247</td>\n",
       "      <td>1.376432</td>\n",
       "      <td>3.060907</td>\n",
       "    </tr>\n",
       "    <tr>\n",
       "      <th>std</th>\n",
       "      <td>55325.311233</td>\n",
       "      <td>1.391672</td>\n",
       "      <td>1.966334</td>\n",
       "      <td>6.275026</td>\n",
       "      <td>4.006050</td>\n",
       "      <td>3.243335</td>\n",
       "      <td>2.753787</td>\n",
       "      <td>2.307653</td>\n",
       "      <td>4.134828</td>\n",
       "      <td>14.309694</td>\n",
       "      <td>...</td>\n",
       "      <td>2.924355</td>\n",
       "      <td>2.887035</td>\n",
       "      <td>2.233516</td>\n",
       "      <td>1.974375</td>\n",
       "      <td>1.154001</td>\n",
       "      <td>2.095540</td>\n",
       "      <td>1.168486</td>\n",
       "      <td>0.286536</td>\n",
       "      <td>0.484492</td>\n",
       "      <td>1.086254</td>\n",
       "    </tr>\n",
       "    <tr>\n",
       "      <th>min</th>\n",
       "      <td>1.000000</td>\n",
       "      <td>-1.000000</td>\n",
       "      <td>1.000000</td>\n",
       "      <td>0.000000</td>\n",
       "      <td>2.000000</td>\n",
       "      <td>2.000000</td>\n",
       "      <td>5.000000</td>\n",
       "      <td>8.000000</td>\n",
       "      <td>0.000000</td>\n",
       "      <td>0.000000</td>\n",
       "      <td>...</td>\n",
       "      <td>1.000000</td>\n",
       "      <td>1.000000</td>\n",
       "      <td>1.000000</td>\n",
       "      <td>0.000000</td>\n",
       "      <td>1.000000</td>\n",
       "      <td>0.000000</td>\n",
       "      <td>1.000000</td>\n",
       "      <td>0.000000</td>\n",
       "      <td>1.000000</td>\n",
       "      <td>1.000000</td>\n",
       "    </tr>\n",
       "    <tr>\n",
       "      <th>25%</th>\n",
       "      <td>47913.750000</td>\n",
       "      <td>-1.000000</td>\n",
       "      <td>1.000000</td>\n",
       "      <td>8.000000</td>\n",
       "      <td>9.000000</td>\n",
       "      <td>11.000000</td>\n",
       "      <td>13.000000</td>\n",
       "      <td>14.000000</td>\n",
       "      <td>9.000000</td>\n",
       "      <td>1.000000</td>\n",
       "      <td>...</td>\n",
       "      <td>2.000000</td>\n",
       "      <td>2.000000</td>\n",
       "      <td>1.000000</td>\n",
       "      <td>2.000000</td>\n",
       "      <td>9.000000</td>\n",
       "      <td>2.000000</td>\n",
       "      <td>1.000000</td>\n",
       "      <td>0.000000</td>\n",
       "      <td>1.000000</td>\n",
       "      <td>3.000000</td>\n",
       "    </tr>\n",
       "    <tr>\n",
       "      <th>50%</th>\n",
       "      <td>95826.500000</td>\n",
       "      <td>0.000000</td>\n",
       "      <td>1.000000</td>\n",
       "      <td>11.000000</td>\n",
       "      <td>13.000000</td>\n",
       "      <td>14.000000</td>\n",
       "      <td>15.000000</td>\n",
       "      <td>16.000000</td>\n",
       "      <td>10.000000</td>\n",
       "      <td>1.000000</td>\n",
       "      <td>...</td>\n",
       "      <td>4.000000</td>\n",
       "      <td>4.000000</td>\n",
       "      <td>3.000000</td>\n",
       "      <td>5.000000</td>\n",
       "      <td>9.000000</td>\n",
       "      <td>3.000000</td>\n",
       "      <td>3.000000</td>\n",
       "      <td>0.000000</td>\n",
       "      <td>1.000000</td>\n",
       "      <td>3.000000</td>\n",
       "    </tr>\n",
       "    <tr>\n",
       "      <th>75%</th>\n",
       "      <td>143739.250000</td>\n",
       "      <td>2.000000</td>\n",
       "      <td>1.000000</td>\n",
       "      <td>16.000000</td>\n",
       "      <td>16.000000</td>\n",
       "      <td>16.000000</td>\n",
       "      <td>17.000000</td>\n",
       "      <td>17.000000</td>\n",
       "      <td>13.000000</td>\n",
       "      <td>4.000000</td>\n",
       "      <td>...</td>\n",
       "      <td>7.000000</td>\n",
       "      <td>7.000000</td>\n",
       "      <td>4.000000</td>\n",
       "      <td>6.000000</td>\n",
       "      <td>9.000000</td>\n",
       "      <td>5.000000</td>\n",
       "      <td>3.000000</td>\n",
       "      <td>0.000000</td>\n",
       "      <td>2.000000</td>\n",
       "      <td>4.000000</td>\n",
       "    </tr>\n",
       "    <tr>\n",
       "      <th>max</th>\n",
       "      <td>191652.000000</td>\n",
       "      <td>3.000000</td>\n",
       "      <td>9.000000</td>\n",
       "      <td>21.000000</td>\n",
       "      <td>18.000000</td>\n",
       "      <td>18.000000</td>\n",
       "      <td>18.000000</td>\n",
       "      <td>18.000000</td>\n",
       "      <td>25.000000</td>\n",
       "      <td>523.000000</td>\n",
       "      <td>...</td>\n",
       "      <td>11.000000</td>\n",
       "      <td>13.000000</td>\n",
       "      <td>11.000000</td>\n",
       "      <td>6.000000</td>\n",
       "      <td>9.000000</td>\n",
       "      <td>8.000000</td>\n",
       "      <td>6.000000</td>\n",
       "      <td>1.000000</td>\n",
       "      <td>2.000000</td>\n",
       "      <td>9.000000</td>\n",
       "    </tr>\n",
       "  </tbody>\n",
       "</table>\n",
       "<p>8 rows × 361 columns</p>\n",
       "</div>"
      ],
      "text/plain": [
       "                 LNR       AGER_TYP     AKT_DAT_KL       ALTER_HH  \\\n",
       "count  191652.000000  191652.000000  145056.000000  145056.000000   \n",
       "mean    95826.500000       0.344359       1.747525      11.352009   \n",
       "std     55325.311233       1.391672       1.966334       6.275026   \n",
       "min         1.000000      -1.000000       1.000000       0.000000   \n",
       "25%     47913.750000      -1.000000       1.000000       8.000000   \n",
       "50%     95826.500000       0.000000       1.000000      11.000000   \n",
       "75%    143739.250000       2.000000       1.000000      16.000000   \n",
       "max    191652.000000       3.000000       9.000000      21.000000   \n",
       "\n",
       "        ALTER_KIND1  ALTER_KIND2  ALTER_KIND3  ALTER_KIND4  \\\n",
       "count  11766.000000  5100.000000  1275.000000   236.000000   \n",
       "mean      12.337243    13.672353    14.647059    15.377119   \n",
       "std        4.006050     3.243335     2.753787     2.307653   \n",
       "min        2.000000     2.000000     5.000000     8.000000   \n",
       "25%        9.000000    11.000000    13.000000    14.000000   \n",
       "50%       13.000000    14.000000    15.000000    16.000000   \n",
       "75%       16.000000    16.000000    17.000000    17.000000   \n",
       "max       18.000000    18.000000    18.000000    18.000000   \n",
       "\n",
       "       ALTERSKATEGORIE_FEIN  ANZ_HAUSHALTE_AKTIV  ...       VK_DHT4A  \\\n",
       "count         139810.000000        141725.000000  ...  143781.000000   \n",
       "mean              10.331579             4.965863  ...       4.374417   \n",
       "std                4.134828            14.309694  ...       2.924355   \n",
       "min                0.000000             0.000000  ...       1.000000   \n",
       "25%                9.000000             1.000000  ...       2.000000   \n",
       "50%               10.000000             1.000000  ...       4.000000   \n",
       "75%               13.000000             4.000000  ...       7.000000   \n",
       "max               25.000000           523.000000  ...      11.000000   \n",
       "\n",
       "          VK_DISTANZ        VK_ZG11  W_KEIT_KIND_HH  WOHNDAUER_2008  \\\n",
       "count  143781.000000  143781.000000   137910.000000   145056.000000   \n",
       "mean        4.564769       3.168868        4.152716        8.646371   \n",
       "std         2.887035       2.233516        1.974375        1.154001   \n",
       "min         1.000000       1.000000        0.000000        1.000000   \n",
       "25%         2.000000       1.000000        2.000000        9.000000   \n",
       "50%         4.000000       3.000000        5.000000        9.000000   \n",
       "75%         7.000000       4.000000        6.000000        9.000000   \n",
       "max        13.000000      11.000000        6.000000        9.000000   \n",
       "\n",
       "            WOHNLAGE       ZABEOTYP  ONLINE_PURCHASE      ANREDE_KZ  \\\n",
       "count  141725.000000  191652.000000    191652.000000  191652.000000   \n",
       "mean        3.723133       2.576806         0.090247       1.376432   \n",
       "std         2.095540       1.168486         0.286536       0.484492   \n",
       "min         0.000000       1.000000         0.000000       1.000000   \n",
       "25%         2.000000       1.000000         0.000000       1.000000   \n",
       "50%         3.000000       3.000000         0.000000       1.000000   \n",
       "75%         5.000000       3.000000         0.000000       2.000000   \n",
       "max         8.000000       6.000000         1.000000       2.000000   \n",
       "\n",
       "       ALTERSKATEGORIE_GROB  \n",
       "count         191652.000000  \n",
       "mean               3.060907  \n",
       "std                1.086254  \n",
       "min                1.000000  \n",
       "25%                3.000000  \n",
       "50%                3.000000  \n",
       "75%                4.000000  \n",
       "max                9.000000  \n",
       "\n",
       "[8 rows x 361 columns]"
      ]
     },
     "execution_count": 10,
     "metadata": {},
     "output_type": "execute_result"
    }
   ],
   "source": [
    "customers_df.describe()"
   ]
  },
  {
   "cell_type": "code",
   "execution_count": 11,
   "metadata": {},
   "outputs": [
    {
     "data": {
      "image/png": "[encoded data removed]",
      "text/plain": [
       "<Figure size 432x288 with 1 Axes>"
      ]
     },
     "metadata": {
      "needs_background": "light"
     },
     "output_type": "display_data"
    }
   ],
   "source": [
    "# almost all data are in the range between 0 and 200\n",
    "customers_df.drop('LNR', axis=1).describe().loc['mean'].hist()\n",
    "plt.title('Customer mean value distribution')\n",
    "plt.show()"
   ]
  },
  {
   "cell_type": "markdown",
   "metadata": {},
   "source": [
    "General population and customer have 366 common features."
   ]
  },
  {
   "cell_type": "code",
   "execution_count": 12,
   "metadata": {},
   "outputs": [
    {
     "data": {
      "text/plain": [
       "(366,)"
      ]
     },
     "execution_count": 12,
     "metadata": {},
     "output_type": "execute_result"
    }
   ],
   "source": [
    "np.intersect1d(azdias_df.columns.values, customers_df.columns.values).shape"
   ]
  },
  {
   "cell_type": "markdown",
   "metadata": {},
   "source": [
    "create `only_attr_customers` to hold `customer_df` only features"
   ]
  },
  {
   "cell_type": "code",
   "execution_count": 13,
   "metadata": {
    "collapsed": true
   },
   "outputs": [
    {
     "data": {
      "text/plain": [
       "array(['CUSTOMER_GROUP', 'ONLINE_PURCHASE', 'PRODUCT_GROUP'], dtype=object)"
      ]
     },
     "execution_count": 13,
     "metadata": {},
     "output_type": "execute_result"
    }
   ],
   "source": [
    "only_attr_customers = np.setdiff1d(customers_df.columns.values, azdias_df.columns.values)\n",
    "only_attr_customers"
   ]
  },
  {
   "cell_type": "markdown",
   "metadata": {},
   "source": [
    "CUSTOMER_GROUP distribution"
   ]
  },
  {
   "cell_type": "code",
   "execution_count": 14,
   "metadata": {},
   "outputs": [
    {
     "data": {
      "image/png": "[encoded data removed]",
      "text/plain": [
       "<Figure size 864x360 with 2 Axes>"
      ]
     },
     "metadata": {
      "needs_background": "light"
     },
     "output_type": "display_data"
    }
   ],
   "source": [
    "plt.subplots(1, 2, figsize = [12, 5])\n",
    "\n",
    "plt.subplot(1, 2, 1)\n",
    "customers_df.CUSTOMER_GROUP.value_counts().plot.bar(rot=0)\n",
    "\n",
    "plt.subplot(1, 2, 2)\n",
    "customers_df.CUSTOMER_GROUP.value_counts().plot.pie(autopct='%1.f%%', startangle = 90, counterclock = False).set_ylabel('')\n",
    "\n",
    "plt.suptitle('CUSTOMER_GROUP Distribution', fontsize=16)\n",
    "plt.show()"
   ]
  },
  {
   "cell_type": "markdown",
   "metadata": {},
   "source": [
    "ONLINE_PURCHASE distribution"
   ]
  },
  {
   "cell_type": "code",
   "execution_count": 15,
   "metadata": {},
   "outputs": [
    {
     "data": {
      "image/png": "[encoded data removed]",
      "text/plain": [
       "<Figure size 864x360 with 2 Axes>"
      ]
     },
     "metadata": {
      "needs_background": "light"
     },
     "output_type": "display_data"
    }
   ],
   "source": [
    "plt.subplots(1, 2, figsize = [12, 5])\n",
    "\n",
    "plt.subplot(1, 2, 1)\n",
    "customers_df.ONLINE_PURCHASE.value_counts().plot.bar(rot=0)\n",
    "\n",
    "plt.subplot(1, 2, 2)\n",
    "customers_df.ONLINE_PURCHASE.value_counts().plot.pie(autopct='%1.f%%', startangle = 90, counterclock = False).set_ylabel('')\n",
    "\n",
    "plt.suptitle('ONLINE_PURCHASE Distribution', fontsize=16)\n",
    "plt.show()"
   ]
  },
  {
   "cell_type": "markdown",
   "metadata": {},
   "source": [
    "__NOTE__: customers don't like online purchase."
   ]
  },
  {
   "cell_type": "markdown",
   "metadata": {},
   "source": [
    "PRODUCT_GROUP distribution"
   ]
  },
  {
   "cell_type": "code",
   "execution_count": 16,
   "metadata": {},
   "outputs": [
    {
     "data": {
      "image/png": "[encoded data removed]",
      "text/plain": [
       "<Figure size 864x360 with 2 Axes>"
      ]
     },
     "metadata": {
      "needs_background": "light"
     },
     "output_type": "display_data"
    }
   ],
   "source": [
    "plt.subplots(1, 2, figsize = [12, 5])\n",
    "\n",
    "plt.subplot(1, 2, 1)\n",
    "customers_df.PRODUCT_GROUP.value_counts().plot.bar(rot=0)\n",
    "\n",
    "plt.subplot(1, 2, 2)\n",
    "customers_df.PRODUCT_GROUP.value_counts().plot.pie(autopct='%1.f%%', startangle = 90, counterclock = False).set_ylabel('')\n",
    "\n",
    "plt.suptitle('PRODUCT_GROUP Distribution', fontsize=16)\n",
    "plt.show()"
   ]
  },
  {
   "cell_type": "markdown",
   "metadata": {},
   "source": [
    "### Data Exploration - attributes vs. values\n",
    "Analyze `DIAS Information Levels - Attributes 2017.xlsx`, `DIAS Attributes - Values 2017.xlsx` and create feature types data structure.\n",
    "\n",
    "#### Load attributes dataset"
   ]
  },
  {
   "cell_type": "code",
   "execution_count": 17,
   "metadata": {},
   "outputs": [
    {
     "data": {
      "text/html": [
       "<div>\n",
       "<style scoped>\n",
       "    .dataframe tbody tr th:only-of-type {\n",
       "        vertical-align: middle;\n",
       "    }\n",
       "\n",
       "    .dataframe tbody tr th {\n",
       "        vertical-align: top;\n",
       "    }\n",
       "\n",
       "    .dataframe thead th {\n",
       "        text-align: right;\n",
       "    }\n",
       "</style>\n",
       "<table border=\"1\" class=\"dataframe\">\n",
       "  <thead>\n",
       "    <tr style=\"text-align: right;\">\n",
       "      <th></th>\n",
       "      <th>Information level</th>\n",
       "      <th>Attribute</th>\n",
       "      <th>Description</th>\n",
       "      <th>Additional notes</th>\n",
       "    </tr>\n",
       "  </thead>\n",
       "  <tbody>\n",
       "    <tr>\n",
       "      <th>0</th>\n",
       "      <td>NaN</td>\n",
       "      <td>AGER_TYP</td>\n",
       "      <td>best-ager typology</td>\n",
       "      <td>in cooperation with Kantar TNS; the informatio...</td>\n",
       "    </tr>\n",
       "    <tr>\n",
       "      <th>1</th>\n",
       "      <td>Person</td>\n",
       "      <td>ALTERSKATEGORIE_GROB</td>\n",
       "      <td>age through prename analysis</td>\n",
       "      <td>modelled on millions of first name-age-referen...</td>\n",
       "    </tr>\n",
       "    <tr>\n",
       "      <th>2</th>\n",
       "      <td>Person</td>\n",
       "      <td>ANREDE_KZ</td>\n",
       "      <td>gender</td>\n",
       "      <td>NaN</td>\n",
       "    </tr>\n",
       "    <tr>\n",
       "      <th>3</th>\n",
       "      <td>Person</td>\n",
       "      <td>CJT_GESAMTTYP</td>\n",
       "      <td>Customer-Journey-Typology relating to the pref...</td>\n",
       "      <td>relating to the preferred information, marketi...</td>\n",
       "    </tr>\n",
       "    <tr>\n",
       "      <th>4</th>\n",
       "      <td>Person</td>\n",
       "      <td>FINANZ_MINIMALIST</td>\n",
       "      <td>financial typology: low financial interest</td>\n",
       "      <td>Gfk-Typology based on a representative househo...</td>\n",
       "    </tr>\n",
       "  </tbody>\n",
       "</table>\n",
       "</div>"
      ],
      "text/plain": [
       "  Information level             Attribute  \\\n",
       "0               NaN              AGER_TYP   \n",
       "1            Person  ALTERSKATEGORIE_GROB   \n",
       "2            Person             ANREDE_KZ   \n",
       "3            Person         CJT_GESAMTTYP   \n",
       "4            Person     FINANZ_MINIMALIST   \n",
       "\n",
       "                                         Description  \\\n",
       "0                                 best-ager typology   \n",
       "1                      age through prename analysis    \n",
       "2                                             gender   \n",
       "3  Customer-Journey-Typology relating to the pref...   \n",
       "4         financial typology: low financial interest   \n",
       "\n",
       "                                    Additional notes  \n",
       "0  in cooperation with Kantar TNS; the informatio...  \n",
       "1  modelled on millions of first name-age-referen...  \n",
       "2                                                NaN  \n",
       "3  relating to the preferred information, marketi...  \n",
       "4  Gfk-Typology based on a representative househo...  "
      ]
     },
     "execution_count": 17,
     "metadata": {},
     "output_type": "execute_result"
    }
   ],
   "source": [
    "# attributes dataset\n",
    "attributes_df = pd.read_excel('DIAS Information Levels - Attributes 2017.xlsx', header=1, index_col=[1]).reset_index()\n",
    "del attributes_df['Unnamed: 0']\n",
    "attributes_df.head()"
   ]
  },
  {
   "cell_type": "code",
   "execution_count": 18,
   "metadata": {},
   "outputs": [
    {
     "name": "stdout",
     "output_type": "stream",
     "text": [
      "<class 'pandas.core.frame.DataFrame'>\n",
      "RangeIndex: 313 entries, 0 to 312\n",
      "Data columns (total 4 columns):\n",
      "Information level    312 non-null object\n",
      "Attribute            313 non-null object\n",
      "Description          313 non-null object\n",
      "Additional notes     20 non-null object\n",
      "dtypes: object(4)\n",
      "memory usage: 9.9+ KB\n"
     ]
    }
   ],
   "source": [
    "attributes_df.info()"
   ]
  },
  {
   "cell_type": "markdown",
   "metadata": {},
   "source": [
    "#### Load values dataset"
   ]
  },
  {
   "cell_type": "code",
   "execution_count": 19,
   "metadata": {},
   "outputs": [
    {
     "data": {
      "text/html": [
       "<div>\n",
       "<style scoped>\n",
       "    .dataframe tbody tr th:only-of-type {\n",
       "        vertical-align: middle;\n",
       "    }\n",
       "\n",
       "    .dataframe tbody tr th {\n",
       "        vertical-align: top;\n",
       "    }\n",
       "\n",
       "    .dataframe thead th {\n",
       "        text-align: right;\n",
       "    }\n",
       "</style>\n",
       "<table border=\"1\" class=\"dataframe\">\n",
       "  <thead>\n",
       "    <tr style=\"text-align: right;\">\n",
       "      <th></th>\n",
       "      <th>Attribute</th>\n",
       "      <th>Description</th>\n",
       "      <th>Value</th>\n",
       "      <th>Meaning</th>\n",
       "    </tr>\n",
       "  </thead>\n",
       "  <tbody>\n",
       "    <tr>\n",
       "      <th>0</th>\n",
       "      <td>AGER_TYP</td>\n",
       "      <td>best-ager typology</td>\n",
       "      <td>-1</td>\n",
       "      <td>unknown</td>\n",
       "    </tr>\n",
       "    <tr>\n",
       "      <th>1</th>\n",
       "      <td>AGER_TYP</td>\n",
       "      <td>best-ager typology</td>\n",
       "      <td>0</td>\n",
       "      <td>no classification possible</td>\n",
       "    </tr>\n",
       "    <tr>\n",
       "      <th>2</th>\n",
       "      <td>AGER_TYP</td>\n",
       "      <td>best-ager typology</td>\n",
       "      <td>1</td>\n",
       "      <td>passive elderly</td>\n",
       "    </tr>\n",
       "    <tr>\n",
       "      <th>3</th>\n",
       "      <td>AGER_TYP</td>\n",
       "      <td>best-ager typology</td>\n",
       "      <td>2</td>\n",
       "      <td>cultural elderly</td>\n",
       "    </tr>\n",
       "    <tr>\n",
       "      <th>4</th>\n",
       "      <td>AGER_TYP</td>\n",
       "      <td>best-ager typology</td>\n",
       "      <td>3</td>\n",
       "      <td>experience-driven elderly</td>\n",
       "    </tr>\n",
       "  </tbody>\n",
       "</table>\n",
       "</div>"
      ],
      "text/plain": [
       "  Attribute         Description Value                     Meaning\n",
       "0  AGER_TYP  best-ager typology    -1                     unknown\n",
       "1  AGER_TYP  best-ager typology     0  no classification possible\n",
       "2  AGER_TYP  best-ager typology     1             passive elderly\n",
       "3  AGER_TYP  best-ager typology     2            cultural elderly\n",
       "4  AGER_TYP  best-ager typology     3   experience-driven elderly"
      ]
     },
     "execution_count": 19,
     "metadata": {},
     "output_type": "execute_result"
    }
   ],
   "source": [
    "# values dataset\n",
    "values_df = pd.read_excel('DIAS Attributes - Values 2017.xlsx', header=1, index_col=[1,2]).reset_index()\n",
    "del values_df['Unnamed: 0']\n",
    "values_df.head()"
   ]
  },
  {
   "cell_type": "code",
   "execution_count": 20,
   "metadata": {},
   "outputs": [
    {
     "name": "stdout",
     "output_type": "stream",
     "text": [
      "<class 'pandas.core.frame.DataFrame'>\n",
      "RangeIndex: 2258 entries, 0 to 2257\n",
      "Data columns (total 4 columns):\n",
      "Attribute      2258 non-null object\n",
      "Description    2258 non-null object\n",
      "Value          2258 non-null object\n",
      "Meaning        2247 non-null object\n",
      "dtypes: object(4)\n",
      "memory usage: 70.6+ KB\n"
     ]
    }
   ],
   "source": [
    "values_df.info()"
   ]
  },
  {
   "cell_type": "code",
   "execution_count": 21,
   "metadata": {},
   "outputs": [
    {
     "data": {
      "text/plain": [
       "array(['BIP_FLAG', 'D19_BANKEN_ANZ_12', 'D19_BANKEN_ANZ_24',\n",
       "       'D19_GESAMT_ANZ_12', 'D19_GESAMT_ANZ_24', 'D19_LOTTO_RZ',\n",
       "       'D19_TELKO_ANZ_12', 'D19_TELKO_ANZ_24', 'D19_VERSAND_ANZ_12',\n",
       "       'D19_VERSAND_ANZ_24', 'D19_VERSI_ANZ_12', 'D19_VERSI_ANZ_24',\n",
       "       'KBA13_CCM_3000', 'KBA13_CCM_3001'], dtype=object)"
      ]
     },
     "execution_count": 21,
     "metadata": {},
     "output_type": "execute_result"
    }
   ],
   "source": [
    "# values_df only\n",
    "np.setdiff1d(values_df.Attribute.unique(), attributes_df.Attribute)"
   ]
  },
  {
   "cell_type": "code",
   "execution_count": 22,
   "metadata": {},
   "outputs": [
    {
     "data": {
      "text/plain": [
       "array(['ARBEIT', 'D19_BANKEN_ ANZ_12             D19_BANKEN_ ANZ_24',\n",
       "       'D19_GESAMT_ANZ_12                                    D19_GESAMT_ANZ_24',\n",
       "       'D19_TELKO_ ANZ_12                  D19_TELKO_ ANZ_24',\n",
       "       'D19_VERSAND_ ANZ_12          D19_VERSAND_ ANZ_24',\n",
       "       'D19_VERSI_ ANZ_12                                       D19_VERSI_ ANZ_24',\n",
       "       'D19_VERSI_DATUM', 'D19_VERSI_OFFLINE_DATUM',\n",
       "       'D19_VERSI_ONLINE_DATUM', 'EINWOHNER', 'GKZ', 'PLZ', 'PLZ8'],\n",
       "      dtype=object)"
      ]
     },
     "execution_count": 22,
     "metadata": {},
     "output_type": "execute_result"
    }
   ],
   "source": [
    "# attributes_df only\n",
    "np.setdiff1d(attributes_df.Attribute, values_df.Attribute.unique())"
   ]
  },
  {
   "cell_type": "markdown",
   "metadata": {},
   "source": [
    "From above, we can find attributes dataset features not normalized. We will use values dataset to query data, and merge attributes dataset feature to values.\n",
    "\n",
    "Create `attr_only_attributes_not_values` to hold features only in `attributes_df` and not in `values_df`."
   ]
  },
  {
   "cell_type": "code",
   "execution_count": 23,
   "metadata": {
    "collapsed": true
   },
   "outputs": [],
   "source": [
    "attr_only_attributes_not_values = np.array(['ARBEIT', 'D19_VERSI_DATUM', 'D19_VERSI_OFFLINE_DATUM', 'D19_VERSI_ONLINE_DATUM', 'EINWOHNER', 'GKZ', 'PLZ', 'PLZ8'])"
   ]
  },
  {
   "cell_type": "markdown",
   "metadata": {},
   "source": [
    "creqte `annot_attribute` as combined features from `vlaues_df` and `attributes_df`."
   ]
  },
  {
   "cell_type": "code",
   "execution_count": 24,
   "metadata": {
    "collapsed": true
   },
   "outputs": [],
   "source": [
    "annot_attribute = np.union1d(values_df.Attribute.unique(), attr_only_attributes_not_values)"
   ]
  },
  {
   "cell_type": "code",
   "execution_count": 25,
   "metadata": {},
   "outputs": [
    {
     "data": {
      "text/plain": [
       "322"
      ]
     },
     "execution_count": 25,
     "metadata": {},
     "output_type": "execute_result"
    }
   ],
   "source": [
    "annot_attribute.size"
   ]
  },
  {
   "cell_type": "markdown",
   "metadata": {},
   "source": [
    "We found `only_attr_customers` not in `annot_attribute`"
   ]
  },
  {
   "cell_type": "code",
   "execution_count": 26,
   "metadata": {},
   "outputs": [
    {
     "data": {
      "text/plain": [
       "array([False, False, False])"
      ]
     },
     "execution_count": 26,
     "metadata": {},
     "output_type": "execute_result"
    }
   ],
   "source": [
    "np.isin(only_attr_customers, values_df.Attribute)"
   ]
  },
  {
   "cell_type": "markdown",
   "metadata": {},
   "source": [
    "#### Analyze feature type\n",
    "\n",
    "After analyze 'DIAS Information Levels - Attributes 2017.xls' and 'DIAS Attributes - Values 2017.xlsx', xWe create below variable to hold different type of features.\n",
    "\n",
    "| variable                   | feature type                        |\n",
    "|----------------------------|-------------------------------------|\n",
    "| `bin_cat_annot_attribute`  | documented binary categor feature   |\n",
    "| `nom_cat_annot_attribute`  | documented nominal category feature |\n",
    "| `ord_cat_annot_attribute`  | documented ordinal category feature |\n",
    "| `mix_cat_annot_attribute`  | documented mixed caztegory feature  |\n",
    "| `num_annot_attribute`      | documented quantitative feature     |\n",
    "| `unused_annot_attribute`   | documented unused feature           |"
   ]
  },
  {
   "cell_type": "code",
   "execution_count": 27,
   "metadata": {
    "collapsed": true
   },
   "outputs": [],
   "source": [
    "# documented binary categor feature\n",
    "bin_cat_annot_attribute = np.array(['ANREDE_KZ', 'GREEN_AVANTGARDE', 'OST_WEST_KZ', 'VERS_TYP'])\n",
    "\n",
    "# documented nominal category feature\n",
    "nom_cat_annot_attribute = np.array(['CAMEO_DEUG_2015', 'CAMEO_DEU_2015', 'CJT_GESAMTTYP', 'FINANZTYP',\n",
    "       'GEBAEUDETYP', 'GFK_URLAUBERTYP', 'LP_FAMILIE_FEIN',\n",
    "       'LP_FAMILIE_GROB', 'NATIONALITAET_KZ', 'SHOPPER_TYP', 'TITEL_KZ',\n",
    "       'ZABEOTYP', 'AGER_TYP', 'D19_KONSUMTYP', 'HEALTH_TYP'])\n",
    "\n",
    "# documented ordinal category feature\n",
    "ord_cat_annot_attribute = np.array(['ALTERSKATEGORIE_GROB', 'ALTER_HH', 'ARBEIT',\n",
    "       'BALLRAUM', 'D19_BANKEN_ANZ_12', 'D19_BANKEN_ANZ_24',\n",
    "       'D19_BANKEN_DATUM', 'D19_BANKEN_OFFLINE_DATUM',\n",
    "       'D19_BANKEN_ONLINE_DATUM', 'D19_BANKEN_ONLINE_QUOTE_12',\n",
    "       'D19_GESAMT_ANZ_12', 'D19_GESAMT_ANZ_24', 'D19_GESAMT_DATUM',\n",
    "       'D19_GESAMT_OFFLINE_DATUM', 'D19_GESAMT_ONLINE_DATUM',\n",
    "       'D19_GESAMT_ONLINE_QUOTE_12', 'D19_TELKO_ANZ_12',\n",
    "       'D19_TELKO_ANZ_24', 'D19_TELKO_DATUM', 'D19_TELKO_OFFLINE_DATUM',\n",
    "       'D19_TELKO_ONLINE_DATUM', 'D19_VERSAND_ANZ_12',\n",
    "       'D19_VERSAND_ANZ_24', 'D19_VERSAND_DATUM',\n",
    "       'D19_VERSAND_OFFLINE_DATUM', 'D19_VERSAND_ONLINE_DATUM',\n",
    "       'D19_VERSAND_ONLINE_QUOTE_12', 'D19_VERSI_ANZ_12',\n",
    "       'D19_VERSI_ANZ_24', 'D19_VERSI_DATUM', 'D19_VERSI_OFFLINE_DATUM',\n",
    "       'D19_VERSI_ONLINE_DATUM', 'EWDICHTE', 'FINANZ_ANLEGER',\n",
    "       'FINANZ_HAUSBAUER', 'FINANZ_MINIMALIST', 'FINANZ_SPARER',\n",
    "       'FINANZ_UNAUFFAELLIGER', 'FINANZ_VORSORGER', 'GEBAEUDETYP_RASTER',\n",
    "       'HH_EINKOMMEN_SCORE', 'INNENSTADT', 'KBA05_ALTER1',\n",
    "       'KBA05_ALTER2', 'KBA05_ALTER3', 'KBA05_ALTER4', 'KBA05_ANHANG',\n",
    "       'KBA05_ANTG1', 'KBA05_ANTG2', 'KBA05_ANTG3', 'KBA05_ANTG4',\n",
    "       'KBA05_AUTOQUOT', 'KBA05_BAUMAX', 'KBA05_CCM1', 'KBA05_CCM2',\n",
    "       'KBA05_CCM3', 'KBA05_CCM4', 'KBA05_DIESEL', 'KBA05_FRAU',\n",
    "       'KBA05_GBZ', 'KBA05_HERST1', 'KBA05_HERST2', 'KBA05_HERST3',\n",
    "       'KBA05_HERST4', 'KBA05_HERST5', 'KBA05_HERSTTEMP',\n",
    "       'KBA05_KRSAQUOT', 'KBA05_KRSHERST1', 'KBA05_KRSHERST2',\n",
    "       'KBA05_KRSHERST3', 'KBA05_KRSKLEIN', 'KBA05_KRSOBER',\n",
    "       'KBA05_KRSVAN', 'KBA05_KRSZUL', 'KBA05_KW1', 'KBA05_KW2',\n",
    "       'KBA05_KW3', 'KBA05_MAXAH', 'KBA05_MAXBJ', 'KBA05_MAXHERST',\n",
    "       'KBA05_MAXSEG', 'KBA05_MAXVORB', 'KBA05_MOD1', 'KBA05_MOD2',\n",
    "       'KBA05_MOD3', 'KBA05_MOD4', 'KBA05_MOD8', 'KBA05_MODTEMP',\n",
    "       'KBA05_MOTOR', 'KBA05_MOTRAD', 'KBA05_SEG1', 'KBA05_SEG10',\n",
    "       'KBA05_SEG2', 'KBA05_SEG3', 'KBA05_SEG4', 'KBA05_SEG5',\n",
    "       'KBA05_SEG6', 'KBA05_SEG7', 'KBA05_SEG8', 'KBA05_SEG9',\n",
    "       'KBA05_VORB0', 'KBA05_VORB1', 'KBA05_VORB2', 'KBA05_ZUL1',\n",
    "       'KBA05_ZUL2', 'KBA05_ZUL3', 'KBA05_ZUL4', 'KBA13_ALTERHALTER_30',\n",
    "       'KBA13_ALTERHALTER_45', 'KBA13_ALTERHALTER_60',\n",
    "       'KBA13_ALTERHALTER_61', 'KBA13_AUDI', 'KBA13_AUTOQUOTE',\n",
    "       'KBA13_BJ_1999', 'KBA13_BJ_2000', 'KBA13_BJ_2004', 'KBA13_BJ_2006',\n",
    "       'KBA13_BJ_2008', 'KBA13_BJ_2009', 'KBA13_BMW', 'KBA13_CCM_0_1400',\n",
    "       'KBA13_CCM_1000', 'KBA13_CCM_1200', 'KBA13_CCM_1400',\n",
    "       'KBA13_CCM_1500', 'KBA13_CCM_1600', 'KBA13_CCM_1800',\n",
    "       'KBA13_CCM_2000', 'KBA13_CCM_2500', 'KBA13_CCM_2501',\n",
    "       'KBA13_CCM_3000', 'KBA13_CCM_3001', 'KBA13_FAB_ASIEN',\n",
    "       'KBA13_FAB_SONSTIGE', 'KBA13_FIAT', 'KBA13_FORD',\n",
    "       'KBA13_HALTER_20', 'KBA13_HALTER_25', 'KBA13_HALTER_30',\n",
    "       'KBA13_HALTER_35', 'KBA13_HALTER_40', 'KBA13_HALTER_45',\n",
    "       'KBA13_HALTER_50', 'KBA13_HALTER_55', 'KBA13_HALTER_60',\n",
    "       'KBA13_HALTER_65', 'KBA13_HALTER_66', 'KBA13_HERST_ASIEN',\n",
    "       'KBA13_HERST_AUDI_VW', 'KBA13_HERST_BMW_BENZ',\n",
    "       'KBA13_HERST_EUROPA', 'KBA13_HERST_FORD_OPEL', 'KBA13_HERST_SONST',\n",
    "       'KBA13_KMH_0_140', 'KBA13_KMH_110', 'KBA13_KMH_140',\n",
    "       'KBA13_KMH_140_210', 'KBA13_KMH_180', 'KBA13_KMH_211',\n",
    "       'KBA13_KMH_250', 'KBA13_KMH_251', 'KBA13_KRSAQUOT',\n",
    "       'KBA13_KRSHERST_AUDI_VW', 'KBA13_KRSHERST_BMW_BENZ',\n",
    "       'KBA13_KRSHERST_FORD_OPEL', 'KBA13_KRSSEG_KLEIN',\n",
    "       'KBA13_KRSSEG_OBER', 'KBA13_KRSSEG_VAN', 'KBA13_KRSZUL_NEU',\n",
    "       'KBA13_KW_0_60', 'KBA13_KW_110', 'KBA13_KW_120', 'KBA13_KW_121',\n",
    "       'KBA13_KW_30', 'KBA13_KW_40', 'KBA13_KW_50', 'KBA13_KW_60',\n",
    "       'KBA13_KW_61_120', 'KBA13_KW_70', 'KBA13_KW_80', 'KBA13_KW_90',\n",
    "       'KBA13_MAZDA', 'KBA13_MERCEDES', 'KBA13_MOTOR', 'KBA13_NISSAN',\n",
    "       'KBA13_OPEL', 'KBA13_PEUGEOT', 'KBA13_RENAULT',\n",
    "       'KBA13_SEG_GELAENDEWAGEN', 'KBA13_SEG_GROSSRAUMVANS',\n",
    "       'KBA13_SEG_KLEINST', 'KBA13_SEG_KLEINWAGEN',\n",
    "       'KBA13_SEG_KOMPAKTKLASSE', 'KBA13_SEG_MINIVANS',\n",
    "       'KBA13_SEG_MINIWAGEN', 'KBA13_SEG_MITTELKLASSE',\n",
    "       'KBA13_SEG_OBEREMITTELKLASSE', 'KBA13_SEG_OBERKLASSE',\n",
    "       'KBA13_SEG_SONSTIGE', 'KBA13_SEG_SPORTWAGEN',\n",
    "       'KBA13_SEG_UTILITIES', 'KBA13_SEG_VAN', 'KBA13_SEG_WOHNMOBILE',\n",
    "       'KBA13_SITZE_4', 'KBA13_SITZE_5', 'KBA13_SITZE_6', 'KBA13_TOYOTA',\n",
    "       'KBA13_VORB_0', 'KBA13_VORB_1', 'KBA13_VORB_1_2', 'KBA13_VORB_2',\n",
    "       'KBA13_VORB_3', 'KBA13_VW', 'KKK', 'KONSUMNAEHE', 'LP_STATUS_FEIN',\n",
    "       'LP_STATUS_GROB', 'MOBI_REGIO', 'ONLINE_AFFINITAET', 'ORTSGR_KLS9',\n",
    "       'PLZ8_ANTG1', 'PLZ8_ANTG2', 'PLZ8_ANTG3', 'PLZ8_ANTG4',\n",
    "       'PLZ8_BAUMAX', 'PLZ8_GBZ', 'PLZ8_HHZ', 'REGIOTYP', 'RELAT_AB',\n",
    "       'RETOURTYP_BK_S', 'SEMIO_DOM', 'SEMIO_ERL', 'SEMIO_FAM',\n",
    "       'SEMIO_KAEM', 'SEMIO_KRIT', 'SEMIO_KULT', 'SEMIO_LUST',\n",
    "       'SEMIO_MAT', 'SEMIO_PFLICHT', 'SEMIO_RAT', 'SEMIO_REL',\n",
    "       'SEMIO_SOZ', 'SEMIO_TRADV', 'SEMIO_VERT', 'WOHNDAUER_2008',\n",
    "       'W_KEIT_KIND_HH'])\n",
    "\n",
    "# documented mixed caztegory feature\n",
    "mix_cat_annot_attribute = np.array(['LP_LEBENSPHASE_FEIN', 'LP_LEBENSPHASE_GROB',\n",
    "       'PRAEGENDE_JUGENDJAHRE', 'WOHNLAGE'])\n",
    "\n",
    "# documented unused feature\n",
    "num_annot_attribute = np.array(['ANZ_HAUSHALTE_AKTIV', 'ANZ_HH_TITEL', 'ANZ_PERSONEN', 'ANZ_TITEL', 'GEBURTSJAHR', 'KBA13_ANZAHL_PKW', 'MIN_GEBAEUDEJAHR'])"
   ]
  },
  {
   "cell_type": "code",
   "execution_count": 28,
   "metadata": {},
   "outputs": [
    {
     "data": {
      "text/plain": [
       "276"
      ]
     },
     "execution_count": 28,
     "metadata": {},
     "output_type": "execute_result"
    }
   ],
   "source": [
    "num_annot_attribute.size + bin_cat_annot_attribute.size + nom_cat_annot_attribute.size + ord_cat_annot_attribute.size + mix_cat_annot_attribute.size"
   ]
  },
  {
   "cell_type": "code",
   "execution_count": 29,
   "metadata": {
    "collapsed": true
   },
   "outputs": [],
   "source": [
    "unused_annot_attribute = np.setdiff1d(annot_attribute, np.union1d(np.union1d(np.union1d(np.union1d(num_annot_attribute, bin_cat_annot_attribute), nom_cat_annot_attribute), ord_cat_annot_attribute), mix_cat_annot_attribute))"
   ]
  },
  {
   "cell_type": "code",
   "execution_count": 30,
   "metadata": {
    "collapsed": true
   },
   "outputs": [],
   "source": [
    "assert annot_attribute.size == num_annot_attribute.size + bin_cat_annot_attribute.size + nom_cat_annot_attribute.size + ord_cat_annot_attribute.size + mix_cat_annot_attribute.size + unused_annot_attribute.size"
   ]
  },
  {
   "cell_type": "markdown",
   "metadata": {},
   "source": [
    "#### Analyze unknown value"
   ]
  },
  {
   "cell_type": "markdown",
   "metadata": {},
   "source": [
    "list all possible unknown meaning string"
   ]
  },
  {
   "cell_type": "code",
   "execution_count": 31,
   "metadata": {},
   "outputs": [
    {
     "data": {
      "text/plain": [
       "array(['unknown', 'unknown / no main age detectable',\n",
       "       'no transactions known', 'no transaction known',\n",
       "       'residental building buildings without actually known household',\n",
       "       'mixed building without actually known household or comapny ',\n",
       "       'company building w/o known company ',\n",
       "       'mixed building without actually known household ',\n",
       "       'mixed building without actually known company ', nan],\n",
       "      dtype=object)"
      ]
     },
     "execution_count": 31,
     "metadata": {},
     "output_type": "execute_result"
    }
   ],
   "source": [
    "values_df.loc[np.where(values_df.Meaning.str.contains('know'))].Meaning.unique()"
   ]
  },
  {
   "cell_type": "markdown",
   "metadata": {},
   "source": [
    "We create below variable to hold different type of unknow value dataframe.\n",
    "\n",
    "| variable                         | meaning                          |\n",
    "|----------------------------------|----------------------------------|\n",
    "| `unknown_values_df`              | unknown                          |\n",
    "| `main_age_unknown_values_df`     | unknown / no main age detectable |\n",
    "| `transactions_unknown_values_df` | no transactions know             |\n",
    "| `transaction_unknown_values_df`  | no transaction known             |"
   ]
  },
  {
   "cell_type": "code",
   "execution_count": 32,
   "metadata": {
    "collapsed": true
   },
   "outputs": [],
   "source": [
    "# different type of unknow value dataframe\n",
    "unknown_values_df = values_df[values_df.Meaning == 'unknown']\n",
    "main_age_unknown_values_df = values_df[values_df.Meaning == 'unknown / no main age detectable']\n",
    "transactions_unknown_values_df = values_df[values_df.Meaning == 'no transactions known']\n",
    "transaction_unknown_values_df = values_df[values_df.Meaning == 'no transaction known']"
   ]
  },
  {
   "cell_type": "markdown",
   "metadata": {},
   "source": [
    "### Data Exploration - customers vs. values\n",
    "Analyze Udacity_CUSTOMERS_052018.csv and DIAS Attributes - Values 2017.xlsx.\n",
    "\n",
    "#### COLUMN Veiewpoint\n",
    "\n",
    "We create below variable to hold common features of `customers_df` and `annot_atribute`.\n",
    "\n",
    "| variable                          |                                                          |\n",
    "|-----------------------------------|----------------------------------------------------------|\n",
    "| `annot_attr_customers_values`     | common features of `customer_df` and `annot_attribute`   |\n",
    "| `not_annot_attr_customers_values` | distinct features of `customer_df` and `annot_attribute` |"
   ]
  },
  {
   "cell_type": "code",
   "execution_count": 33,
   "metadata": {
    "collapsed": true
   },
   "outputs": [],
   "source": [
    "annot_attr_customers_values = np.intersect1d(customers_df.columns.values, annot_attribute)\n",
    "not_annot_attr_customers_values = np.setdiff1d(customers_df.columns.values, annot_attr_customers_values)"
   ]
  },
  {
   "cell_type": "code",
   "execution_count": 34,
   "metadata": {
    "collapsed": true
   },
   "outputs": [],
   "source": [
    "assert customers_df.columns.values.size == annot_attr_customers_values.size + not_annot_attr_customers_values.size"
   ]
  },
  {
   "cell_type": "code",
   "execution_count": 35,
   "metadata": {},
   "outputs": [
    {
     "name": "stdout",
     "output_type": "stream",
     "text": [
      "<class 'pandas.core.frame.DataFrame'>\n",
      "RangeIndex: 191652 entries, 0 to 191651\n",
      "Columns: 276 entries, AGER_TYP to ZABEOTYP\n",
      "dtypes: float64(216), int64(57), object(3)\n",
      "memory usage: 403.6+ MB\n"
     ]
    }
   ],
   "source": [
    "customers_df[annot_attr_customers_values].info()"
   ]
  },
  {
   "cell_type": "markdown",
   "metadata": {},
   "source": [
    "#### Check missing value"
   ]
  },
  {
   "cell_type": "code",
   "execution_count": 36,
   "metadata": {},
   "outputs": [
    {
     "data": {
      "image/png": "[encoded data removed]",
      "text/plain": [
       "<Figure size 432x288 with 1 Axes>"
      ]
     },
     "metadata": {
      "needs_background": "light"
     },
     "output_type": "display_data"
    }
   ],
   "source": [
    "customers_df[annot_attr_customers_values].isnull().mean().hist()\n",
    "plt.xlabel('Missing value - customer %')\n",
    "plt.ylabel('feature')\n",
    "plt.show()"
   ]
  },
  {
   "cell_type": "markdown",
   "metadata": {},
   "source": [
    "We can find all customers have missing value among documented features are less than 30%."
   ]
  },
  {
   "cell_type": "markdown",
   "metadata": {},
   "source": [
    "__NOTE__: **We set `FEATURE_DROP_RATIO` as 70 % to drop feature.** (If missing value among feature over 70%, we will drop it.)"
   ]
  },
  {
   "cell_type": "code",
   "execution_count": 37,
   "metadata": {
    "collapsed": true
   },
   "outputs": [],
   "source": [
    "FEATURE_DROP_RATIO=.7"
   ]
  },
  {
   "cell_type": "markdown",
   "metadata": {},
   "source": [
    "We create below variable to hold diffent type of feature in `customers_df`\n",
    "\n",
    "| variable                            |                                                  |\n",
    "|-------------------------------------|--------------------------------------------------|\n",
    "| `customers_bin_cat_annot_attribute` | hold `bin_cat_annot_attribute` in `values_df`    |\n",
    "| `customers_nom_cat_annot_attribute` | hold `nom_cat_annot_attribute` in `values_df`    |\n",
    "| `customers_ord_cat_annot_attribute` | hold `ord_cat_annot_attribute` in `values_df`    |\n",
    "| `customers_mix_cat_annot_attribute` | hold `mix_cat_annot_attribute` in `values_df`    |\n",
    "| `customers_num_annot_attribute`     | hold `num_annot_attribute` in `values_df`        |\n",
    "| `customers_unused_annot_attribute`  | hold unused features in `values_df`              |"
   ]
  },
  {
   "cell_type": "code",
   "execution_count": 38,
   "metadata": {
    "collapsed": true
   },
   "outputs": [],
   "source": [
    "customers_unused_annot_attribute = annot_attr_customers_values[customers_df[annot_attr_customers_values].isnull().mean() > FEATURE_DROP_RATIO]"
   ]
  },
  {
   "cell_type": "code",
   "execution_count": 39,
   "metadata": {},
   "outputs": [
    {
     "data": {
      "text/plain": [
       "0"
      ]
     },
     "execution_count": 39,
     "metadata": {},
     "output_type": "execute_result"
    }
   ],
   "source": [
    "customers_unused_annot_attribute.size"
   ]
  },
  {
   "cell_type": "markdown",
   "metadata": {},
   "source": [
    "#### Check `customers_bin_cat_annot_attribute`"
   ]
  },
  {
   "cell_type": "code",
   "execution_count": 40,
   "metadata": {
    "collapsed": true
   },
   "outputs": [],
   "source": [
    "customers_bin_cat_annot_attribute = np.intersect1d(annot_attr_customers_values, bin_cat_annot_attribute)\n",
    "customers_bin_cat_annot_attribute = np.setdiff1d(customers_bin_cat_annot_attribute, customers_unused_annot_attribute)"
   ]
  },
  {
   "cell_type": "code",
   "execution_count": 41,
   "metadata": {},
   "outputs": [
    {
     "data": {
      "text/plain": [
       "array(['ANREDE_KZ', 'GREEN_AVANTGARDE', 'OST_WEST_KZ', 'VERS_TYP'],\n",
       "      dtype=object)"
      ]
     },
     "execution_count": 41,
     "metadata": {},
     "output_type": "execute_result"
    }
   ],
   "source": [
    "customers_bin_cat_annot_attribute"
   ]
  },
  {
   "cell_type": "code",
   "execution_count": 42,
   "metadata": {
    "collapsed": true
   },
   "outputs": [],
   "source": [
    "# scan undocumented value\n",
    "for col in customers_bin_cat_annot_attribute:\n",
    "    v1 = customers_df[col].dropna().unique()\n",
    "    if col == 'OST_WEST_KZ':\n",
    "        v2 = values_df[values_df.Attribute == col]['Value'].dropna().apply(lambda x: np.nan if x == -1 else x).dropna().values\n",
    "    else:\n",
    "        v2 = np.hstack(values_df[values_df.Attribute == col]['Value'].dropna().apply(lambda x: x if not isinstance(x, str) else x.split(','))).astype(int)\n",
    "    v = np.setdiff1d(v1, v2)\n",
    "    if v.size > 0:\n",
    "        print('{} feature has undocumented value: {}'.format(col, v))"
   ]
  },
  {
   "cell_type": "markdown",
   "metadata": {},
   "source": [
    "#### Check `customers_nom_cat_annot_attribute`"
   ]
  },
  {
   "cell_type": "code",
   "execution_count": 43,
   "metadata": {
    "collapsed": true
   },
   "outputs": [],
   "source": [
    "customers_nom_cat_annot_attribute = np.intersect1d(annot_attr_customers_values, nom_cat_annot_attribute)\n",
    "customers_nom_cat_annot_attribute = np.setdiff1d(customers_nom_cat_annot_attribute, customers_unused_annot_attribute)"
   ]
  },
  {
   "cell_type": "code",
   "execution_count": 44,
   "metadata": {},
   "outputs": [
    {
     "data": {
      "text/plain": [
       "array(['AGER_TYP', 'CAMEO_DEUG_2015', 'CAMEO_DEU_2015', 'CJT_GESAMTTYP',\n",
       "       'D19_KONSUMTYP', 'FINANZTYP', 'GEBAEUDETYP', 'GFK_URLAUBERTYP',\n",
       "       'HEALTH_TYP', 'LP_FAMILIE_FEIN', 'LP_FAMILIE_GROB',\n",
       "       'NATIONALITAET_KZ', 'SHOPPER_TYP', 'TITEL_KZ', 'ZABEOTYP'],\n",
       "      dtype=object)"
      ]
     },
     "execution_count": 44,
     "metadata": {},
     "output_type": "execute_result"
    }
   ],
   "source": [
    "customers_nom_cat_annot_attribute"
   ]
  },
  {
   "cell_type": "code",
   "execution_count": 45,
   "metadata": {},
   "outputs": [
    {
     "name": "stdout",
     "output_type": "stream",
     "text": [
      "CAMEO_DEUG_2015 feature has unknown value: ['1' '2' '3' '4' '5' '6' '7' '8' '9' 'X']\n",
      "CAMEO_DEU_2015 feature has undocumented value: ['XX']\n",
      "LP_FAMILIE_FEIN feature has undocumented value: [0.]\n",
      "LP_FAMILIE_GROB feature has undocumented value: [0.]\n"
     ]
    }
   ],
   "source": [
    "# scan undocumented value\n",
    "for col in customers_nom_cat_annot_attribute:\n",
    "    \n",
    "    unknown_v = []\n",
    "    if col == 'CAMEO_DEUG_2015':\n",
    "        v1 = customers_df[col].dropna().apply(lambda x: unknown_v.append(x) if isinstance(x, str) else int(x)).dropna().unique()\n",
    "    else:\n",
    "        v1 = customers_df[col].dropna().unique()\n",
    "\n",
    "    if col == 'CAMEO_DEUG_2015' or col == 'CAMEO_DEU_2015':\n",
    "        v2 = values_df[values_df.Attribute == col]['Value'].values\n",
    "    else:\n",
    "        v2 = np.hstack(values_df[values_df.Attribute == col]['Value'].dropna().apply(lambda x: x if not isinstance(x, str) else x.split(','))).astype(int)\n",
    "    \n",
    "    v = np.setdiff1d(v1, v2)\n",
    "    unknown_v = np.unique(np.array(unknown_v))\n",
    "    \n",
    "    if len(unknown_v) > 0:\n",
    "        print('{} feature has unknown value: {}'.format(col, unknown_v))\n",
    "    if v.size > 0:\n",
    "        print('{} feature has undocumented value: {}'.format(col, v))"
   ]
  },
  {
   "cell_type": "markdown",
   "metadata": {},
   "source": [
    "#### Check `ord_cat_annot_attribute`"
   ]
  },
  {
   "cell_type": "code",
   "execution_count": 46,
   "metadata": {
    "collapsed": true
   },
   "outputs": [],
   "source": [
    "customers_ord_cat_annot_attribute = np.intersect1d(annot_attr_customers_values, ord_cat_annot_attribute)\n",
    "customers_ord_cat_annot_attribute = np.setdiff1d(customers_ord_cat_annot_attribute, customers_unused_annot_attribute)"
   ]
  },
  {
   "cell_type": "code",
   "execution_count": 47,
   "metadata": {},
   "outputs": [
    {
     "data": {
      "text/plain": [
       "246"
      ]
     },
     "execution_count": 47,
     "metadata": {},
     "output_type": "execute_result"
    }
   ],
   "source": [
    "customers_ord_cat_annot_attribute.size"
   ]
  },
  {
   "cell_type": "code",
   "execution_count": 48,
   "metadata": {},
   "outputs": [
    {
     "name": "stdout",
     "output_type": "stream",
     "text": [
      "ARBEIT feature has undocumented value: [1. 2. 3. 4. 5. 9.]\n",
      "KBA05_MODTEMP feature has undocumented value: [6.]\n"
     ]
    }
   ],
   "source": [
    "# scan undocumented value\n",
    "for col in customers_ord_cat_annot_attribute:\n",
    "\n",
    "    unknown_v = []\n",
    "    v1 = customers_df[col].dropna().apply(lambda x: unknown_v.append(x) if isinstance(x, str) else x).dropna().unique()\n",
    "\n",
    "    # assue value of 'D19_VERSI_OFFLINE_DATUM', 'D19_VERSI_ONLINE_DATUM', 'D19_VERSI_DATUM' are as same as 'D19_BANKEN_DATUM'\n",
    "    if col in ['D19_VERSI_OFFLINE_DATUM', 'D19_VERSI_ONLINE_DATUM', 'D19_VERSI_DATUM']:\n",
    "        col = 'D19_BANKEN_DATUM'\n",
    "    \n",
    "    if values_df[values_df.Attribute == col].shape[0] > 0:\n",
    "        v2 = np.hstack(values_df[values_df.Attribute == col]['Value'].apply(lambda x: list(map(int, x.split(','))) if isinstance(x, str) else x).values)\n",
    "    else:\n",
    "        v2 = np.array([])\n",
    "\n",
    "    v = np.setdiff1d(v1, v2)\n",
    "    unknown_v = np.unique(np.array(unknown_v))\n",
    "    \n",
    "    if len(unknown_v) > 0:\n",
    "        print('{} feature has unknown value: {}'.format(col, unknown_v))\n",
    "    if v.size > 0:\n",
    "        print('{} feature has undocumented value: {}'.format(col, v))"
   ]
  },
  {
   "cell_type": "markdown",
   "metadata": {},
   "source": [
    "#### Check `customers_mix_cat_annot_attribute`"
   ]
  },
  {
   "cell_type": "code",
   "execution_count": 49,
   "metadata": {
    "collapsed": true
   },
   "outputs": [],
   "source": [
    "customers_mix_cat_annot_attribute = np.intersect1d(annot_attr_customers_values, mix_cat_annot_attribute)\n",
    "customers_mix_cat_annot_attribute = np.setdiff1d(customers_mix_cat_annot_attribute, customers_unused_annot_attribute)"
   ]
  },
  {
   "cell_type": "code",
   "execution_count": 50,
   "metadata": {},
   "outputs": [
    {
     "data": {
      "text/plain": [
       "array(['LP_LEBENSPHASE_FEIN', 'LP_LEBENSPHASE_GROB',\n",
       "       'PRAEGENDE_JUGENDJAHRE', 'WOHNLAGE'], dtype=object)"
      ]
     },
     "execution_count": 50,
     "metadata": {},
     "output_type": "execute_result"
    }
   ],
   "source": [
    "customers_mix_cat_annot_attribute"
   ]
  },
  {
   "cell_type": "code",
   "execution_count": 51,
   "metadata": {},
   "outputs": [
    {
     "name": "stdout",
     "output_type": "stream",
     "text": [
      "LP_LEBENSPHASE_FEIN feature has undocumented value: [0.]\n",
      "LP_LEBENSPHASE_GROB feature has undocumented value: [0.]\n"
     ]
    }
   ],
   "source": [
    "# scan undocumented value\n",
    "for col in customers_mix_cat_annot_attribute:\n",
    "    v1 = customers_df[col].dropna().unique()\n",
    "    v2 = np.hstack(values_df[values_df.Attribute == col]['Value'].dropna().apply(lambda x: x if not isinstance(x, str) else x.split(','))).astype(int)\n",
    "    v = np.setdiff1d(v1, v2)\n",
    "    if v.size > 0:\n",
    "        print('{} feature has undocumented value: {}'.format(col, v))"
   ]
  },
  {
   "cell_type": "markdown",
   "metadata": {},
   "source": [
    "#### Check `num_annot_attribute`"
   ]
  },
  {
   "cell_type": "code",
   "execution_count": 52,
   "metadata": {
    "collapsed": true
   },
   "outputs": [],
   "source": [
    "customers_num_annot_attribute = np.intersect1d(annot_attr_customers_values, num_annot_attribute)\n",
    "customers_num_annot_attribute = np.setdiff1d(customers_num_annot_attribute, customers_unused_annot_attribute)"
   ]
  },
  {
   "cell_type": "code",
   "execution_count": 53,
   "metadata": {},
   "outputs": [
    {
     "data": {
      "text/plain": [
       "array(['ANZ_HAUSHALTE_AKTIV', 'ANZ_HH_TITEL', 'ANZ_PERSONEN', 'ANZ_TITEL',\n",
       "       'GEBURTSJAHR', 'KBA13_ANZAHL_PKW', 'MIN_GEBAEUDEJAHR'],\n",
       "      dtype=object)"
      ]
     },
     "execution_count": 53,
     "metadata": {},
     "output_type": "execute_result"
    }
   ],
   "source": [
    "customers_num_annot_attribute"
   ]
  },
  {
   "cell_type": "code",
   "execution_count": 54,
   "metadata": {
    "collapsed": true
   },
   "outputs": [],
   "source": [
    "# scan numeric type\n",
    "for col in customers_num_annot_attribute:\n",
    "    if not np.issubdtype(customers_df[col].dtype, np.number):\n",
    "        print('{} is not numeric type'.format(col))"
   ]
  },
  {
   "cell_type": "markdown",
   "metadata": {},
   "source": [
    "#### To fix the error, we will need to ...\n",
    "\n",
    "1. CAMEO_DEUG_2015: **change '1', '2', '3', '4', '5', '6', '7', '8', '9' to integer, and 'X' to NA**\n",
    "1. CAMEO_DEU_2015: **change 'XX' to NA**\n",
    "1. KBA05_MODTEMP: **change 6 to NA**\n",
    "1. LP_FAMILIE_FEIN, LP_FAMILIE_GROB, LP_LEBENSPHASE_FEIN, LP_LEBENSPHASE_GROB: **chagne 0 to NA**\n",
    "1. All other attributes: **convert to integer**"
   ]
  },
  {
   "cell_type": "code",
   "execution_count": 55,
   "metadata": {
    "collapsed": true
   },
   "outputs": [],
   "source": [
    "assert annot_attr_customers_values.size == customers_bin_cat_annot_attribute.size \\\n",
    "                                            + customers_nom_cat_annot_attribute.size \\\n",
    "                                            + customers_ord_cat_annot_attribute.size \\\n",
    "                                            + customers_mix_cat_annot_attribute.size \\\n",
    "                                            + customers_num_annot_attribute.size \\\n",
    "                                            + customers_unused_annot_attribute.size"
   ]
  },
  {
   "cell_type": "markdown",
   "metadata": {},
   "source": [
    "#### Check unknown value"
   ]
  },
  {
   "cell_type": "markdown",
   "metadata": {},
   "source": [
    "We create below variable to hold diffent type of feature in unknown feature in `customers_df`\n",
    "\n",
    "| variable                                |                                                                           |\n",
    "|-----------------------------------------|---------------------------------------------------------------------------|\n",
    "| `customers_unknown_values_df`              | hold 'unknown' meaning feature in `customers_df`                          |\n",
    "| `customers_main_age_unknown_values_df`     | hold 'unknown / no main age detectable' meaning feature in `customers_df` |\n",
    "| `customers_transactions_unknown_values_df` | hold 'no transactions known' meaning feature in `customers_df`            |\n",
    "| `customers_transaction_unknown_values_df`  | hold 'no transaction known' meaning feature in `customers_df`             |"
   ]
  },
  {
   "cell_type": "code",
   "execution_count": 56,
   "metadata": {},
   "outputs": [
    {
     "name": "stderr",
     "output_type": "stream",
     "text": [
      "/home/fc/anaconda3/lib/python3.7/site-packages/pandas/core/generic.py:5096: SettingWithCopyWarning: \n",
      "A value is trying to be set on a copy of a slice from a DataFrame.\n",
      "Try using .loc[row_indexer,col_indexer] = value instead\n",
      "\n",
      "See the caveats in the documentation: http://pandas.pydata.org/pandas-docs/stable/indexing.html#indexing-view-versus-copy\n",
      "  self[name] = value\n"
     ]
    }
   ],
   "source": [
    "# create below dataframe to hold different type of unknown value\n",
    "customers_unknown_values_df = unknown_values_df[np.isin(unknown_values_df.Attribute, np.setdiff1d(customers_df.columns, customers_unused_annot_attribute))]\n",
    "customers_main_age_unknown_values_df = main_age_unknown_values_df[np.isin(main_age_unknown_values_df.Attribute, np.setdiff1d(customers_df.columns, customers_unused_annot_attribute))]\n",
    "customers_transactions_unknown_values_df = transactions_unknown_values_df[np.isin(transactions_unknown_values_df.Attribute, np.setdiff1d(customers_df.columns, customers_unused_annot_attribute))]\n",
    "customers_transaction_unknown_values_df = transaction_unknown_values_df[np.isin(transaction_unknown_values_df.Attribute.str[:-3], np.setdiff1d(customers_df.columns, customers_unused_annot_attribute))]\n",
    "customers_transaction_unknown_values_df.Attribute = customers_transaction_unknown_values_df.Attribute.str[:-3]"
   ]
  },
  {
   "cell_type": "markdown",
   "metadata": {},
   "source": [
    "##### check `not_annot_attr_customers_values`"
   ]
  },
  {
   "cell_type": "code",
   "execution_count": 57,
   "metadata": {},
   "outputs": [
    {
     "name": "stdout",
     "output_type": "stream",
     "text": [
      "<class 'pandas.core.frame.DataFrame'>\n",
      "RangeIndex: 191652 entries, 0 to 191651\n",
      "Data columns (total 93 columns):\n",
      "AKT_DAT_KL                    145056 non-null float64\n",
      "ALTERSKATEGORIE_FEIN          139810 non-null float64\n",
      "ALTER_KIND1                   11766 non-null float64\n",
      "ALTER_KIND2                   5100 non-null float64\n",
      "ALTER_KIND3                   1275 non-null float64\n",
      "ALTER_KIND4                   236 non-null float64\n",
      "ANZ_KINDER                    145056 non-null float64\n",
      "ANZ_STATISTISCHE_HAUSHALTE    141725 non-null float64\n",
      "CAMEO_INTL_2015               141224 non-null object\n",
      "CJT_KATALOGNUTZER             188439 non-null float64\n",
      "CJT_TYP_1                     188439 non-null float64\n",
      "CJT_TYP_2                     188439 non-null float64\n",
      "CJT_TYP_3                     188439 non-null float64\n",
      "CJT_TYP_4                     188439 non-null float64\n",
      "CJT_TYP_5                     188439 non-null float64\n",
      "CJT_TYP_6                     188439 non-null float64\n",
      "CUSTOMER_GROUP                191652 non-null object\n",
      "D19_BANKEN_DIREKT             191652 non-null int64\n",
      "D19_BANKEN_GROSS              191652 non-null int64\n",
      "D19_BANKEN_LOKAL              191652 non-null int64\n",
      "D19_BANKEN_REST               191652 non-null int64\n",
      "D19_BEKLEIDUNG_GEH            191652 non-null int64\n",
      "D19_BEKLEIDUNG_REST           191652 non-null int64\n",
      "D19_BILDUNG                   191652 non-null int64\n",
      "D19_BIO_OEKO                  191652 non-null int64\n",
      "D19_BUCH_CD                   191652 non-null int64\n",
      "D19_DIGIT_SERV                191652 non-null int64\n",
      "D19_DROGERIEARTIKEL           191652 non-null int64\n",
      "D19_ENERGIE                   191652 non-null int64\n",
      "D19_FREIZEIT                  191652 non-null int64\n",
      "D19_GARTEN                    191652 non-null int64\n",
      "D19_HANDWERK                  191652 non-null int64\n",
      "D19_HAUS_DEKO                 191652 non-null int64\n",
      "D19_KINDERARTIKEL             191652 non-null int64\n",
      "D19_KONSUMTYP_MAX             191652 non-null int64\n",
      "D19_KOSMETIK                  191652 non-null int64\n",
      "D19_LEBENSMITTEL              191652 non-null int64\n",
      "D19_LETZTER_KAUF_BRANCHE      143955 non-null object\n",
      "D19_LOTTO                     143955 non-null float64\n",
      "D19_NAHRUNGSERGAENZUNG        191652 non-null int64\n",
      "D19_RATGEBER                  191652 non-null int64\n",
      "D19_REISEN                    191652 non-null int64\n",
      "D19_SAMMELARTIKEL             191652 non-null int64\n",
      "D19_SCHUHE                    191652 non-null int64\n",
      "D19_SONSTIGE                  191652 non-null int64\n",
      "D19_SOZIALES                  143955 non-null float64\n",
      "D19_TECHNIK                   191652 non-null int64\n",
      "D19_TELKO_MOBILE              191652 non-null int64\n",
      "D19_TELKO_ONLINE_QUOTE_12     143955 non-null float64\n",
      "D19_TELKO_REST                191652 non-null int64\n",
      "D19_TIERARTIKEL               191652 non-null int64\n",
      "D19_VERSAND_REST              191652 non-null int64\n",
      "D19_VERSICHERUNGEN            191652 non-null int64\n",
      "D19_VERSI_ONLINE_QUOTE_12     143955 non-null float64\n",
      "D19_VOLLSORTIMENT             191652 non-null int64\n",
      "D19_WEIN_FEINKOST             191652 non-null int64\n",
      "DSL_FLAG                      141725 non-null float64\n",
      "EINGEFUEGT_AM                 141725 non-null object\n",
      "EINGEZOGENAM_HH_JAHR          145056 non-null float64\n",
      "EXTSEL992                     106369 non-null float64\n",
      "FIRMENDICHTE                  141725 non-null float64\n",
      "GEMEINDETYP                   141176 non-null float64\n",
      "HH_DELTA_FLAG                 137910 non-null float64\n",
      "KBA13_ANTG1                   140371 non-null float64\n",
      "KBA13_ANTG2                   140371 non-null float64\n",
      "KBA13_ANTG3                   140371 non-null float64\n",
      "KBA13_ANTG4                   140371 non-null float64\n",
      "KBA13_BAUMAX                  140371 non-null float64\n",
      "KBA13_CCM_1401_2500           140371 non-null float64\n",
      "KBA13_GBZ                     140371 non-null float64\n",
      "KBA13_HHZ                     140371 non-null float64\n",
      "KBA13_KMH_210                 140371 non-null float64\n",
      "KK_KUNDENTYP                  79715 non-null float64\n",
      "KOMBIALTER                    191652 non-null int64\n",
      "KONSUMZELLE                   141725 non-null float64\n",
      "LNR                           191652 non-null int64\n",
      "MOBI_RASTER                   141725 non-null float64\n",
      "ONLINE_PURCHASE               191652 non-null int64\n",
      "PRODUCT_GROUP                 191652 non-null object\n",
      "RT_KEIN_ANREIZ                188439 non-null float64\n",
      "RT_SCHNAEPPCHEN               188439 non-null float64\n",
      "RT_UEBERGROESSE               147460 non-null float64\n",
      "SOHO_KZ                       145056 non-null float64\n",
      "STRUKTURTYP                   141176 non-null float64\n",
      "UMFELD_ALT                    141204 non-null float64\n",
      "UMFELD_JUNG                   141204 non-null float64\n",
      "UNGLEICHENN_FLAG              145056 non-null float64\n",
      "VERDICHTUNGSRAUM              141176 non-null float64\n",
      "VHA                           145056 non-null float64\n",
      "VHN                           137392 non-null float64\n",
      "VK_DHT4A                      143781 non-null float64\n",
      "VK_DISTANZ                    143781 non-null float64\n",
      "VK_ZG11                       143781 non-null float64\n",
      "dtypes: float64(51), int64(37), object(5)\n",
      "memory usage: 136.0+ MB\n"
     ]
    }
   ],
   "source": [
    "customers_df[not_annot_attr_customers_values].info()"
   ]
  },
  {
   "cell_type": "markdown",
   "metadata": {},
   "source": [
    "We create below variable to hold differennt type of undocumented features in `customers_df`.\n",
    "\n",
    "| variable                                |                                                                   |\n",
    "|-----------------------------------------|-------------------------------------------------------------------|\n",
    "| `customers_bin_cat_not_annot_attribute` | hold undocumented binary category feature in `customers_df`       |\n",
    "| `customers_nom_cat_not_annot_attribute` | hold undocumented nominal category feature in `customers_df`      |\n",
    "| `customers_ord_cat_not_annot_attribute` | hold undocumented ordinal categroy feature in `customers_df`      |\n",
    "| `customers_mix_cat_not_annot_attribute` | hold undocumented mixed category feature in `customers_df`        |\n",
    "| `customers_num_not_annot_attribute`     | hold undocumented quantative feature in `customers_df`            |\n",
    "| `customers_unused_not_annot_attribute`  | hold undocumented unused feature in `customers_df`                |"
   ]
  },
  {
   "cell_type": "code",
   "execution_count": 58,
   "metadata": {
    "collapsed": true
   },
   "outputs": [],
   "source": [
    "# undocumented binary category feature\n",
    "customers_bin_cat_not_annot_attribute = np.array(['DSL_FLAG', 'HH_DELTA_FLAG', 'KONSUMZELLE', 'SOHO_KZ'])\n",
    "\n",
    "# undocumented nominal category feature\n",
    "customers_nom_cat_not_annot_attribute = np.array(['ALTER_KIND1', 'ALTER_KIND2', 'ALTER_KIND3', 'ALTER_KIND4',\n",
    "       'D19_LETZTER_KAUF_BRANCHE', 'EINGEFUEGT_AM', 'EXTSEL992',\n",
    "       'GEMEINDETYP', 'VERDICHTUNGSRAUM', 'VK_DHT4A'])\n",
    "\n",
    "# undocumented ordinal categroy feature\n",
    "customers_ord_cat_not_annot_attribute = np.array(['AKT_DAT_KL', 'ALTERSKATEGORIE_FEIN', 'CJT_KATALOGNUTZER',\n",
    "       'CJT_TYP_1', 'CJT_TYP_2', 'CJT_TYP_3', 'CJT_TYP_4', 'CJT_TYP_5',\n",
    "       'CJT_TYP_6', 'D19_BANKEN_DIREKT', 'D19_BANKEN_GROSS',\n",
    "       'D19_BANKEN_LOKAL', 'D19_BANKEN_REST', 'D19_BEKLEIDUNG_GEH',\n",
    "       'D19_BEKLEIDUNG_REST', 'D19_BILDUNG', 'D19_BIO_OEKO',\n",
    "       'D19_BUCH_CD', 'D19_DIGIT_SERV', 'D19_DROGERIEARTIKEL',\n",
    "       'D19_ENERGIE', 'D19_FREIZEIT', 'D19_GARTEN', 'D19_HANDWERK',\n",
    "       'D19_HAUS_DEKO', 'D19_KINDERARTIKEL', 'D19_KONSUMTYP_MAX',\n",
    "       'D19_KOSMETIK', 'D19_LEBENSMITTEL', 'D19_LOTTO',\n",
    "       'D19_NAHRUNGSERGAENZUNG', 'D19_RATGEBER', 'D19_REISEN',\n",
    "       'D19_SAMMELARTIKEL', 'D19_SCHUHE', 'D19_SONSTIGE', 'D19_SOZIALES',\n",
    "       'D19_TECHNIK', 'D19_TELKO_MOBILE', 'D19_TELKO_ONLINE_QUOTE_12',\n",
    "       'D19_TELKO_REST', 'D19_TIERARTIKEL', 'D19_VERSAND_REST',\n",
    "       'D19_VERSICHERUNGEN', 'D19_VERSI_ONLINE_QUOTE_12',\n",
    "       'D19_VOLLSORTIMENT', 'D19_WEIN_FEINKOST', 'EINGEZOGENAM_HH_JAHR',\n",
    "       'FIRMENDICHTE', 'KBA13_ANTG1', 'KBA13_ANTG2', 'KBA13_ANTG3',\n",
    "       'KBA13_ANTG4', 'KBA13_BAUMAX', 'KBA13_CCM_1401_2500', 'KBA13_GBZ',\n",
    "       'KBA13_HHZ', 'KBA13_KMH_210', 'KK_KUNDENTYP', 'KOMBIALTER', 'LNR',\n",
    "       'MOBI_RASTER', 'RT_KEIN_ANREIZ', 'RT_SCHNAEPPCHEN',\n",
    "       'RT_UEBERGROESSE', 'STRUKTURTYP', 'UMFELD_ALT', 'UMFELD_JUNG',\n",
    "       'UNGLEICHENN_FLAG', 'VHA', 'VHN', 'VK_DISTANZ', 'VK_ZG11', 'ANZ_KINDER'])\n",
    "\n",
    "# undocumented mixed category feature\n",
    "customers_mix_cat_not_annot_attribute = np.array(['CAMEO_INTL_2015'])\n",
    "\n",
    "# undocumented quantative feature\n",
    "customers_num_not_annot_attribute = np.array(['ANZ_STATISTISCHE_HAUSHALTE'])\n",
    "\n",
    "# undocumented unused feature\n",
    "customers_unused_not_annot_attribute = only_attr_customers"
   ]
  },
  {
   "cell_type": "code",
   "execution_count": 59,
   "metadata": {
    "collapsed": true
   },
   "outputs": [],
   "source": [
    "assert not_annot_attr_customers_values.size == customers_bin_cat_not_annot_attribute.size \\\n",
    "                                                + customers_nom_cat_not_annot_attribute.size \\\n",
    "                                                + customers_ord_cat_not_annot_attribute.size \\\n",
    "                                                + customers_mix_cat_not_annot_attribute.size \\\n",
    "                                                + customers_num_not_annot_attribute.size \\\n",
    "                                                + customers_unused_not_annot_attribute.size"
   ]
  },
  {
   "cell_type": "markdown",
   "metadata": {},
   "source": [
    "#### Check missing value"
   ]
  },
  {
   "cell_type": "code",
   "execution_count": 60,
   "metadata": {},
   "outputs": [
    {
     "data": {
      "image/png": "[encoded data removed]",
      "text/plain": [
       "<Figure size 432x288 with 1 Axes>"
      ]
     },
     "metadata": {
      "needs_background": "light"
     },
     "output_type": "display_data"
    }
   ],
   "source": [
    "customers_df[not_annot_attr_customers_values].isnull().mean().hist()\n",
    "plt.xlabel('Missing value - customers %')\n",
    "plt.ylabel('undocumented feature')\n",
    "plt.show()"
   ]
  },
  {
   "cell_type": "markdown",
   "metadata": {},
   "source": [
    "We can find over 70% csutomers still have missing value among about 4 undocumented features."
   ]
  },
  {
   "cell_type": "code",
   "execution_count": 61,
   "metadata": {},
   "outputs": [
    {
     "data": {
      "image/png": "[encoded data removed]",
      "text/plain": [
       "<Figure size 432x288 with 1 Axes>"
      ]
     },
     "metadata": {
      "needs_background": "light"
     },
     "output_type": "display_data"
    }
   ],
   "source": [
    "_ = not_annot_attr_customers_values[customers_df[not_annot_attr_customers_values].isnull().mean() > FEATURE_DROP_RATIO]\n",
    "customers_df[_].isnull().mean().plot.barh()\n",
    "plt.title('{} Undocumented features with missing value > {}%'.format(_.size, FEATURE_DROP_RATIO*100))\n",
    "plt.show()"
   ]
  },
  {
   "cell_type": "code",
   "execution_count": 62,
   "metadata": {
    "collapsed": true
   },
   "outputs": [],
   "source": [
    "customers_unused_not_annot_attribute = np.union1d(customers_unused_not_annot_attribute, not_annot_attr_customers_values[customers_df[not_annot_attr_customers_values].isnull().mean() > FEATURE_DROP_RATIO])"
   ]
  },
  {
   "cell_type": "code",
   "execution_count": 63,
   "metadata": {},
   "outputs": [
    {
     "data": {
      "text/plain": [
       "array(['ALTER_KIND1', 'ALTER_KIND2', 'ALTER_KIND3', 'ALTER_KIND4',\n",
       "       'CUSTOMER_GROUP', 'ONLINE_PURCHASE', 'PRODUCT_GROUP'], dtype=object)"
      ]
     },
     "execution_count": 63,
     "metadata": {},
     "output_type": "execute_result"
    }
   ],
   "source": [
    "customers_unused_not_annot_attribute"
   ]
  },
  {
   "cell_type": "markdown",
   "metadata": {},
   "source": [
    "#### Ananlyze EINGEFUEGT_AM\n",
    "\n",
    "convert datetime string to unix second integer"
   ]
  },
  {
   "cell_type": "code",
   "execution_count": 64,
   "metadata": {},
   "outputs": [
    {
     "data": {
      "text/plain": [
       "count                  141725\n",
       "unique                   3034\n",
       "top       1992-02-10 00:00:00\n",
       "freq                    64744\n",
       "first     1992-02-10 00:00:00\n",
       "last      2016-07-05 00:00:00\n",
       "Name: EINGEFUEGT_AM, dtype: object"
      ]
     },
     "execution_count": 64,
     "metadata": {},
     "output_type": "execute_result"
    }
   ],
   "source": [
    "pd.to_datetime(customers_df['EINGEFUEGT_AM']).describe()"
   ]
  },
  {
   "cell_type": "markdown",
   "metadata": {},
   "source": [
    "__NOTE__: We will convert datetime string to year based categorical feature"
   ]
  },
  {
   "cell_type": "markdown",
   "metadata": {},
   "source": [
    "#### Analyze D19_LETZTER_KAUF_BRANCHE\n",
    "\n",
    "convert string to column index"
   ]
  },
  {
   "cell_type": "code",
   "execution_count": 65,
   "metadata": {},
   "outputs": [
    {
     "data": {
      "text/plain": [
       "count            143955\n",
       "unique               35\n",
       "top       D19_UNBEKANNT\n",
       "freq              31910\n",
       "Name: D19_LETZTER_KAUF_BRANCHE, dtype: object"
      ]
     },
     "execution_count": 65,
     "metadata": {},
     "output_type": "execute_result"
    }
   ],
   "source": [
    "customers_df['D19_LETZTER_KAUF_BRANCHE'].describe()"
   ]
  },
  {
   "cell_type": "code",
   "execution_count": 66,
   "metadata": {},
   "outputs": [
    {
     "data": {
      "text/plain": [
       "array([ 0, 32, 63, 67, 42, 44, 68, 70, 93, 74, 94, 55, 45, 65, 33, 86, 39,\n",
       "       46, 38, 78, 66, 31, 56, 37, 60, 47, 54, 64, 43, 41, 40, 95, 79, 62,\n",
       "       59])"
      ]
     },
     "execution_count": 66,
     "metadata": {},
     "output_type": "execute_result"
    }
   ],
   "source": [
    "customers_df[customers_df['D19_LETZTER_KAUF_BRANCHE'].notna()]['D19_LETZTER_KAUF_BRANCHE'].apply(lambda x: np.where(customers_df.columns == x)[0][0] if x != 'D19_UNBEKANNT' else 0).unique()"
   ]
  },
  {
   "cell_type": "markdown",
   "metadata": {},
   "source": [
    "__NOTE__: We will change feature string to column index."
   ]
  },
  {
   "cell_type": "markdown",
   "metadata": {},
   "source": [
    "#### Analyze CAMEO_INTL_2015"
   ]
  },
  {
   "cell_type": "code",
   "execution_count": 67,
   "metadata": {},
   "outputs": [
    {
     "name": "stdout",
     "output_type": "stream",
     "text": [
      "CAMEO_INTL_2015 feature has float value: [12. 13. 14. 15. 22. 23. 24. 25. 31. 32. 33. 34. 35. 41. 43. 44. 45. 51.\n",
      " 52. 54. 55.]\n",
      "CAMEO_INTL_2015 feature has string value: ['12' '13' '14' '15' '22' '23' '24' '25' '31' '32' '33' '34' '35' '41'\n",
      " '43' '44' '45' '51' '52' '54' '55' 'XX']\n"
     ]
    }
   ],
   "source": [
    "# scan value distribution\n",
    "int_v = []\n",
    "v1 = customers_df['CAMEO_INTL_2015'].dropna().apply(lambda x: int_v.append(x) if isinstance(x, int) else x).dropna().unique()\n",
    "\n",
    "float_v = []\n",
    "v1 = customers_df['CAMEO_INTL_2015'].dropna().apply(lambda x: float_v.append(x) if isinstance(x, float) else x).dropna().unique()\n",
    "\n",
    "str_v = []\n",
    "v1 = customers_df['CAMEO_INTL_2015'].dropna().apply(lambda x: str_v.append(x) if isinstance(x, str) else x).dropna().unique()\n",
    "\n",
    "int_v = np.unique(np.array(int_v))\n",
    "float_v = np.unique(np.array(float_v))\n",
    "str_v = np.unique(np.array(str_v))\n",
    "\n",
    "if len(int_v) > 0:\n",
    "    print('CAMEO_INTL_2015 feature has int value: {}'.format(int_v))\n",
    "if len(float_v) > 0:\n",
    "    print('CAMEO_INTL_2015 feature has float value: {}'.format(float_v))\n",
    "if len(str_v) > 0:\n",
    "    print('CAMEO_INTL_2015 feature has string value: {}'.format(str_v))"
   ]
  },
  {
   "cell_type": "markdown",
   "metadata": {},
   "source": [
    "__NOTE__: CAMEO_INTL_2015 combines information on two axes: wealth and life stage. I will break up the two-digit codes by their 'tens'-place and 'ones'-place digits into two new ordinal variables."
   ]
  },
  {
   "cell_type": "markdown",
   "metadata": {},
   "source": [
    "LNR is like serial number"
   ]
  },
  {
   "cell_type": "code",
   "execution_count": 68,
   "metadata": {},
   "outputs": [
    {
     "data": {
      "text/plain": [
       "True"
      ]
     },
     "execution_count": 68,
     "metadata": {},
     "output_type": "execute_result"
    }
   ],
   "source": [
    "customers_df.shape[0] == customers_df['LNR'].unique().size"
   ]
  },
  {
   "cell_type": "code",
   "execution_count": 69,
   "metadata": {
    "collapsed": true
   },
   "outputs": [],
   "source": [
    "customers_unused_not_annot_attribute = np.union1d(customers_unused_not_annot_attribute, 'LNR')\n",
    "customers_ord_cat_not_annot_attribute = np.setdiff1d(customers_ord_cat_not_annot_attribute, 'LNR')"
   ]
  },
  {
   "cell_type": "markdown",
   "metadata": {},
   "source": [
    "#### To fix the error, we will need to ...\n",
    "\n",
    "1. ONLINE_PURCHASE, CUSTOMER_GROUP, PRODUCT_GROUP: **drop (not exist in general population)**\n",
    "1. ALTER_KIND1, ALTER_KIND2, ALTER_KIND3, ALTER_KIND4: **drop (missing value > 70%)**\n",
    "1. EINGEFUEGT_AM: **convert datetime string to year based categorical feature**\n",
    "1. D19_LETZTER_KAUF_BRANCHE: **change feature string to column index**\n",
    "1. CAMEO_INTL_2015: **change '45', '25', '55', '51', '14', '54', '43', '22', '15', '24', '35', '23', '12', '44', '41', '52', '31', '13', '34', '32', '33' to integer, and 'XX' to NA. Combines information on two axes: wealth and life stage. I will break up the two-digit codes by their 'tens'-place and 'ones'-place digits into two new ordinal variables.**\n",
    "1. LNR: **will move it as index to preserve information for segmentation and modeling usage**\n",
    "1. All other attribute: **convert to integer**"
   ]
  },
  {
   "cell_type": "code",
   "execution_count": 70,
   "metadata": {
    "collapsed": true
   },
   "outputs": [],
   "source": [
    "customers_bin_cat_not_annot_attribute = np.setdiff1d(customers_bin_cat_not_annot_attribute, customers_unused_not_annot_attribute)\n",
    "customers_nom_cat_not_annot_attribute = np.setdiff1d(customers_nom_cat_not_annot_attribute, customers_unused_not_annot_attribute)\n",
    "customers_ord_cat_not_annot_attribute = np.setdiff1d(customers_ord_cat_not_annot_attribute, customers_unused_not_annot_attribute)\n",
    "customers_mix_cat_not_annot_attribute = np.setdiff1d(customers_mix_cat_not_annot_attribute, customers_unused_not_annot_attribute)\n",
    "customers_num_not_annot_attribute = np.setdiff1d(customers_num_not_annot_attribute, customers_unused_not_annot_attribute)"
   ]
  },
  {
   "cell_type": "code",
   "execution_count": 71,
   "metadata": {
    "collapsed": true
   },
   "outputs": [],
   "source": [
    "assert not_annot_attr_customers_values.size == customers_bin_cat_not_annot_attribute.size \\\n",
    "                                                + customers_nom_cat_not_annot_attribute.size \\\n",
    "                                                + customers_ord_cat_not_annot_attribute.size \\\n",
    "                                                + customers_mix_cat_not_annot_attribute.size \\\n",
    "                                                + customers_num_not_annot_attribute.size \\\n",
    "                                                + customers_unused_not_annot_attribute.size"
   ]
  },
  {
   "cell_type": "code",
   "execution_count": 72,
   "metadata": {},
   "outputs": [
    {
     "data": {
      "text/plain": [
       "array(['ALTER_KIND1', 'ALTER_KIND2', 'ALTER_KIND3', 'ALTER_KIND4',\n",
       "       'CUSTOMER_GROUP', 'LNR', 'ONLINE_PURCHASE', 'PRODUCT_GROUP'],\n",
       "      dtype=object)"
      ]
     },
     "execution_count": 72,
     "metadata": {},
     "output_type": "execute_result"
    }
   ],
   "source": [
    "customers_unused_not_annot_attribute"
   ]
  },
  {
   "cell_type": "markdown",
   "metadata": {},
   "source": [
    "#### ROW Viewpoint"
   ]
  },
  {
   "cell_type": "markdown",
   "metadata": {},
   "source": [
    "#### Check missing value"
   ]
  },
  {
   "cell_type": "code",
   "execution_count": 73,
   "metadata": {},
   "outputs": [
    {
     "data": {
      "image/png": "[encoded data removed]",
      "text/plain": [
       "<Figure size 432x288 with 1 Axes>"
      ]
     },
     "metadata": {
      "needs_background": "light"
     },
     "output_type": "display_data"
    }
   ],
   "source": [
    "customers_df.isnull().mean(axis=1).hist()\n",
    "plt.xlabel('Missing value - feature %')\n",
    "plt.ylabel('customers')\n",
    "plt.show()"
   ]
  },
  {
   "cell_type": "markdown",
   "metadata": {},
   "source": [
    "### Data Exploration - general population vs. customers (2nd)\n",
    "Analyze feature difference between `Udacity_AZDIAS_052018.csv` and `Udacity_CUSTOMERS_052018.csv`"
   ]
  },
  {
   "cell_type": "code",
   "execution_count": 74,
   "metadata": {},
   "outputs": [
    {
     "name": "stdout",
     "output_type": "stream",
     "text": [
      "<class 'pandas.core.frame.DataFrame'>\n",
      "RangeIndex: 891221 entries, 0 to 891220\n",
      "Columns: 366 entries, LNR to ALTERSKATEGORIE_GROB\n",
      "dtypes: float64(267), int64(93), object(6)\n",
      "memory usage: 2.4+ GB\n"
     ]
    }
   ],
   "source": [
    "azdias_df.info()"
   ]
  },
  {
   "cell_type": "markdown",
   "metadata": {},
   "source": [
    "#### Check missing value"
   ]
  },
  {
   "cell_type": "code",
   "execution_count": 75,
   "metadata": {},
   "outputs": [
    {
     "data": {
      "image/png": "[encoded data removed]",
      "text/plain": [
       "<Figure size 432x288 with 1 Axes>"
      ]
     },
     "metadata": {
      "needs_background": "light"
     },
     "output_type": "display_data"
    }
   ],
   "source": [
    "azdias_df.isnull().mean().hist()\n",
    "plt.xlabel('Missing value - general population %')\n",
    "plt.ylabel('feature')\n",
    "plt.show()"
   ]
  },
  {
   "cell_type": "markdown",
   "metadata": {},
   "source": [
    "Over 70% general population have around 4 feature have missing value.\n"
   ]
  },
  {
   "cell_type": "markdown",
   "metadata": {},
   "source": [
    "We create below variable to hold differennt type of documented features in general population.\n",
    "\n",
    "| variable                         |                                                                |\n",
    "|----------------------------------|----------------------------------------------------------------|\n",
    "| `annot_attr_azdias_values`       | to hold below all documented features in general population    |\n",
    "| `azdias_bin_cat_annot_attribute` | hold `customers_bin_cat_annot_attribute` in general population |\n",
    "| `azdias_nom_cat_annot_attribute` | hold `customers_nom_cat_annot_attribute` in general population |\n",
    "| `azdias_ord_cat_annot_attribute` | hold `customers_ord_cat_annot_attribute` in general population |\n",
    "| `azdias_mix_cat_annot_attribute` | hold `customers_mix_cat_annot_attribute` in general population |\n",
    "| `azdias_num_annot_attribute`     | hold `customers_num_annot_attribute` in general population     |\n",
    "| `azdias_unused_annot_attribute`  | hold `customers_unused_annot_attribute` in general population  |\n",
    "\n",
    "We create below variable to hold differennt type of undocumented features in general population.\n",
    "\n",
    "| variable                             |                                                                    |\n",
    "|--------------------------------------|--------------------------------------------------------------------|\n",
    "| `not_annot_attr_azdias_values`       | hold below all undocumented features in general population         |\n",
    "| `azdias_bin_cat_not_annot_attribute` | hold `customers_bin_cat_not_annot_attribute` in general population |\n",
    "| `azdias_nom_cat_not_annot_attribute` | hold `customers_nom_cat_not_annot_attribute` in general population |\n",
    "| `azdias_ord_cat_not_annot_attribute` | hold `customers_ord_cat_not_annot_attribute` in general population |\n",
    "| `azdias_mix_cat_not_annot_attribute` | hold `customers_mix_cat_not_annot_attribute` in general population |\n",
    "| `azdias_num_not_annot_attribute`     | hold `customers_num_not_annot_attribute` in general population     |\n",
    "| `azdias_unused_not_annot_attribute`  | hold `customers_unused_not_annot_attribute` in general population  |"
   ]
  },
  {
   "cell_type": "code",
   "execution_count": 76,
   "metadata": {
    "collapsed": true
   },
   "outputs": [],
   "source": [
    "annot_attr_azdias_values = annot_attr_customers_values\n",
    "not_annot_attr_azdias_values = np.setdiff1d(not_annot_attr_customers_values, only_attr_customers)"
   ]
  },
  {
   "cell_type": "code",
   "execution_count": 77,
   "metadata": {
    "collapsed": true
   },
   "outputs": [],
   "source": [
    "assert annot_attr_azdias_values.size + not_annot_attr_azdias_values.size == customers_df.columns.size - only_attr_customers.size"
   ]
  },
  {
   "cell_type": "code",
   "execution_count": 78,
   "metadata": {},
   "outputs": [
    {
     "data": {
      "text/plain": [
       "array([], dtype=object)"
      ]
     },
     "execution_count": 78,
     "metadata": {},
     "output_type": "execute_result"
    }
   ],
   "source": [
    "# calculate all type of documented feature\n",
    "azdias_unused_annot_attribute = np.intersect1d(azdias_df.columns[azdias_df.isnull().mean() > FEATURE_DROP_RATIO].values, annot_attr_azdias_values)\n",
    "azdias_unused_annot_attribute = np.union1d(azdias_unused_annot_attribute, customers_unused_annot_attribute)\n",
    "azdias_bin_cat_annot_attribute = np.setdiff1d(customers_bin_cat_annot_attribute, azdias_unused_annot_attribute)\n",
    "azdias_nom_cat_annot_attribute = np.setdiff1d(customers_nom_cat_annot_attribute, azdias_unused_annot_attribute)\n",
    "azdias_ord_cat_annot_attribute = np.setdiff1d(customers_ord_cat_annot_attribute, azdias_unused_annot_attribute)\n",
    "azdias_mix_cat_annot_attribute = np.setdiff1d(customers_mix_cat_annot_attribute, azdias_unused_annot_attribute)\n",
    "azdias_num_annot_attribute = np.setdiff1d(customers_num_annot_attribute, azdias_unused_annot_attribute)\n",
    "azdias_unused_annot_attribute"
   ]
  },
  {
   "cell_type": "code",
   "execution_count": 79,
   "metadata": {
    "collapsed": true
   },
   "outputs": [],
   "source": [
    "assert annot_attr_azdias_values.size == azdias_bin_cat_annot_attribute.size \\\n",
    "                                        + azdias_nom_cat_annot_attribute.size \\\n",
    "                                        + azdias_ord_cat_annot_attribute.size \\\n",
    "                                        + azdias_mix_cat_annot_attribute.size \\\n",
    "                                        + azdias_num_annot_attribute.size \\\n",
    "                                        + azdias_unused_annot_attribute.size"
   ]
  },
  {
   "cell_type": "code",
   "execution_count": 80,
   "metadata": {},
   "outputs": [
    {
     "data": {
      "text/plain": [
       "array(['ALTER_KIND1', 'ALTER_KIND2', 'ALTER_KIND3', 'ALTER_KIND4',\n",
       "       'EXTSEL992', 'LNR'], dtype=object)"
      ]
     },
     "execution_count": 80,
     "metadata": {},
     "output_type": "execute_result"
    }
   ],
   "source": [
    "# calculate all type of undocumented feature\n",
    "azdias_unused_not_annot_attribute = np.intersect1d(azdias_df.columns[azdias_df.isnull().mean() > FEATURE_DROP_RATIO].values, not_annot_attr_azdias_values)\n",
    "azdias_unused_not_annot_attribute = np.union1d(azdias_unused_not_annot_attribute, customers_unused_not_annot_attribute)\n",
    "azdias_unused_not_annot_attribute = np.setdiff1d(azdias_unused_not_annot_attribute, only_attr_customers)\n",
    "azdias_bin_cat_not_annot_attribute = np.setdiff1d(customers_bin_cat_not_annot_attribute, azdias_unused_not_annot_attribute)\n",
    "azdias_nom_cat_not_annot_attribute = np.setdiff1d(customers_nom_cat_not_annot_attribute, azdias_unused_not_annot_attribute)\n",
    "azdias_ord_cat_not_annot_attribute = np.setdiff1d(customers_ord_cat_not_annot_attribute, azdias_unused_not_annot_attribute)\n",
    "azdias_mix_cat_not_annot_attribute = np.setdiff1d(customers_mix_cat_not_annot_attribute, azdias_unused_not_annot_attribute)\n",
    "azdias_num_not_annot_attribute = np.setdiff1d(customers_num_not_annot_attribute, azdias_unused_not_annot_attribute)\n",
    "azdias_unused_not_annot_attribute"
   ]
  },
  {
   "cell_type": "code",
   "execution_count": 81,
   "metadata": {
    "collapsed": true
   },
   "outputs": [],
   "source": [
    "assert not_annot_attr_azdias_values.size == azdias_bin_cat_not_annot_attribute.size \\\n",
    "                                            + azdias_nom_cat_not_annot_attribute.size \\\n",
    "                                            + azdias_ord_cat_not_annot_attribute.size \\\n",
    "                                            + azdias_mix_cat_not_annot_attribute.size \\\n",
    "                                            + azdias_num_not_annot_attribute.size \\\n",
    "                                            + azdias_unused_not_annot_attribute.size"
   ]
  },
  {
   "cell_type": "code",
   "execution_count": 82,
   "metadata": {},
   "outputs": [
    {
     "data": {
      "image/png": "[encoded data removed]",
      "text/plain": [
       "<Figure size 432x288 with 1 Axes>"
      ]
     },
     "metadata": {
      "needs_background": "light"
     },
     "output_type": "display_data"
    }
   ],
   "source": [
    "azdias_df.isnull().mean(axis=1).hist()\n",
    "plt.xlabel('Missing value - feature %')\n",
    "plt.ylabel('general population')\n",
    "plt.show()"
   ]
  },
  {
   "cell_type": "markdown",
   "metadata": {},
   "source": [
    "We need to **check general population value can cover customers**.\n",
    "\n",
    "#### Ananlyze `azdias_bin_cat_annot_attribute`\n",
    "\n",
    "Every category should exist in general population."
   ]
  },
  {
   "cell_type": "code",
   "execution_count": 83,
   "metadata": {
    "collapsed": true
   },
   "outputs": [],
   "source": [
    "# scan general population and customer value coverage\n",
    "for col in azdias_bin_cat_annot_attribute:\n",
    "    azdias_v = azdias_df[col].dropna().unique()\n",
    "    customers_v = customers_df[col].dropna().unique()\n",
    "    diff_azdias_v = np.setdiff1d(azdias_v, customers_v)\n",
    "    diff_customers_v = np.setdiff1d(customers_v, azdias_v)\n",
    "    \n",
    "    if diff_azdias_v.size > 0:\n",
    "        print('{} different only in azdias : {}'.format(col, diff_azdias_v))\n",
    "    if diff_customers_v.size > 0:\n",
    "        print('{} different only in customers_df : {}'.format(col, diff_customers_v))  "
   ]
  },
  {
   "cell_type": "markdown",
   "metadata": {},
   "source": [
    "#### Ananlyze `azdias_nom_cat_annot_attribute`\n",
    "\n",
    "Every category should exist in general population."
   ]
  },
  {
   "cell_type": "code",
   "execution_count": 84,
   "metadata": {},
   "outputs": [
    {
     "name": "stdout",
     "output_type": "stream",
     "text": [
      "GEBAEUDETYP only in gnneral population : [5.]\n",
      "TITEL_KZ only in gnneral population : [2.]\n"
     ]
    }
   ],
   "source": [
    "# scan general population and customer value coverage\n",
    "for col in azdias_nom_cat_annot_attribute:\n",
    "\n",
    "    str_azdias_v = []\n",
    "    str_customers_v = []\n",
    "    \n",
    "    if col == 'CAMEO_DEUG_2015':\n",
    "        \n",
    "        azdias_v = azdias_df[col].dropna().apply(lambda x: str_azdias_v.append(x) if isinstance(x, str) else int(x)).dropna().unique()\n",
    "        customers_v = customers_df[col].dropna().apply(lambda x: str_customers_v.append(x) if isinstance(x, str) else int(x)).dropna().unique()\n",
    "        diff_str_azdias_v = np.setdiff1d(str_azdias_v, str_customers_v)\n",
    "        diff_str_customers_v = np.setdiff1d(str_customers_v, str_azdias_v)\n",
    "        str_azdias_v = np.unique(str_azdias_v)\n",
    "        str_customers_v = np.unique(str_customers_v)\n",
    "        str_azdias_v = []\n",
    "        str_customers_v = []\n",
    "    else:\n",
    "        \n",
    "        azdias_v = azdias_df[col].dropna().unique()\n",
    "        customers_v = customers_df[col].dropna().unique()\n",
    "    \n",
    "    diff_azdias_v = np.setdiff1d(azdias_v, customers_v)\n",
    "    diff_customers_v = np.setdiff1d(customers_v, azdias_v)\n",
    "    \n",
    "    if diff_azdias_v.size > 0:\n",
    "        \n",
    "        true_v =  np.hstack(values_df[values_df.Attribute == col]['Value'].apply(lambda x: list(map(int, x.split(','))) if isinstance(x, str) else x).values)\n",
    "        diff_diff_azdias_v = np.setdiff1d(diff_azdias_v, true_v)\n",
    "        if diff_diff_azdias_v.size > 0:\n",
    "            print('{} only in gnneral population : {} <- undocumented'.format(col, diff_diff_azdias_v))\n",
    "        else:\n",
    "            print('{} only in gnneral population : {}'.format(col, diff_azdias_v))\n",
    "    if diff_customers_v.size > 0:\n",
    "        print('{} different only in customer : {}'.format(col, diff_customers_v))\n",
    "    if len(str_azdias_v) > 0:\n",
    "        print('{} only in general population : {}'.format(col, diff_str_azdias_v))\n",
    "    if len(str_customers_v) > 0:\n",
    "        print('{} only in customer : {}'.format(col, diff_str_customers_v))"
   ]
  },
  {
   "cell_type": "markdown",
   "metadata": {},
   "source": [
    "#### Ananlyze `azdias_ord_cat_annot_attribute`\n",
    "\n",
    "Every category should exist in general population."
   ]
  },
  {
   "cell_type": "code",
   "execution_count": 85,
   "metadata": {},
   "outputs": [
    {
     "name": "stdout",
     "output_type": "stream",
     "text": [
      "ALTER_HH only in gnneral population : [1.]\n",
      "D19_BANKEN_ONLINE_QUOTE_12 only in gnneral population : [1.]\n",
      "KBA05_GBZ only in customer : [0.]\n",
      "KBA13_AUTOQUOTE only in gnneral population : [0.]\n",
      "KBA13_KRSAQUOT only in gnneral population : [0.]\n",
      "KBA13_KRSHERST_AUDI_VW only in gnneral population : [0.]\n",
      "KBA13_KRSHERST_BMW_BENZ only in gnneral population : [0.]\n",
      "KBA13_KRSHERST_FORD_OPEL only in gnneral population : [0.]\n",
      "KBA13_KRSSEG_KLEIN only in gnneral population : [0.]\n",
      "ORTSGR_KLS9 only in gnneral population : [0.] <- undocumented\n"
     ]
    }
   ],
   "source": [
    "# scan general population and customer value coverage\n",
    "for col in azdias_ord_cat_annot_attribute:\n",
    "    \n",
    "    azdias_v = azdias_df[col].dropna().unique()\n",
    "    customers_v = customers_df[col].dropna().unique()\n",
    "    \n",
    "    diff_azdias_v = np.setdiff1d(azdias_v, customers_v)\n",
    "    diff_customers_v = np.setdiff1d(customers_v, azdias_v)\n",
    "    \n",
    "    if diff_azdias_v.size > 0:\n",
    "        \n",
    "        true_v =  np.hstack(values_df[values_df.Attribute == col]['Value'].apply(lambda x: list(map(int, x.split(','))) if isinstance(x, str) else x).values)\n",
    "        diff_diff_azdias_v = np.setdiff1d(diff_azdias_v, true_v)\n",
    "        if diff_diff_azdias_v.size > 0:\n",
    "            print('{} only in gnneral population : {} <- undocumented'.format(col, diff_diff_azdias_v))\n",
    "        else:\n",
    "            print('{} only in gnneral population : {}'.format(col, diff_azdias_v))\n",
    "    \n",
    "    if diff_customers_v.size > 0:\n",
    "        print('{} only in customer : {}'.format(col, diff_customers_v))"
   ]
  },
  {
   "cell_type": "markdown",
   "metadata": {},
   "source": [
    "__NOTE__: KBA05_GBZ = 0 is unknown, we will drop in data preprocessing stage. (We only care about **only in customer** value)"
   ]
  },
  {
   "cell_type": "markdown",
   "metadata": {},
   "source": [
    "#### Ananlyze `azdias_mix_cat_annot_attribute`\n",
    "\n",
    "Every category should exist in general population."
   ]
  },
  {
   "cell_type": "code",
   "execution_count": 86,
   "metadata": {
    "collapsed": true
   },
   "outputs": [],
   "source": [
    "# scan general population and customer value coverage\n",
    "for col in azdias_mix_cat_annot_attribute:\n",
    "    \n",
    "    azdias_v = azdias_df[col].dropna().unique()\n",
    "    customers_v = customers_df[col].dropna().unique()\n",
    "    \n",
    "    diff_azdias_v = np.setdiff1d(azdias_v, customers_v)\n",
    "    diff_customers_v = np.setdiff1d(customers_v, azdias_v)\n",
    "    \n",
    "    if diff_azdias_v.size > 0:\n",
    "        print('{} different only in azdias : {}'.format(col, diff_azdias_v))\n",
    "    if diff_customers_v.size > 0:\n",
    "        print('{} different only in customers_df : {}'.format(col, diff_customers_v))"
   ]
  },
  {
   "cell_type": "markdown",
   "metadata": {},
   "source": [
    "#### Ananlyze `azdias_num_annot_attribute`\n",
    "\n",
    "Gnneral population range should cover customer."
   ]
  },
  {
   "cell_type": "code",
   "execution_count": 87,
   "metadata": {
    "collapsed": true
   },
   "outputs": [],
   "source": [
    "# scan general population and customer value coverage\n",
    "for col in azdias_num_annot_attribute:\n",
    "\n",
    "    min_v1 = azdias_df[col].min()\n",
    "    max_v1 = azdias_df[col].max()\n",
    "    min_v2 = customers_df[col].min()\n",
    "    max_v2 = customers_df[col].max()\n",
    "    \n",
    "    if min_v1 > min_v2:\n",
    "        print('{} in azdias have min value: {} larger than customer: {}'.format(col, min_v1, min_v2))\n",
    "    if max_v1 < max_v2:\n",
    "        print('{} in azdias have max value: {} smaller than customer: {}'.format(col, min_v1, min_v2))"
   ]
  },
  {
   "cell_type": "markdown",
   "metadata": {},
   "source": [
    "#### Ananlyze `azdias_bin_cat_not_annot_attribute`\n",
    "\n",
    "Every category should exist in general population."
   ]
  },
  {
   "cell_type": "code",
   "execution_count": 88,
   "metadata": {
    "collapsed": true
   },
   "outputs": [],
   "source": [
    "# scan general population and customer value coverage\n",
    "for col in azdias_bin_cat_not_annot_attribute:\n",
    "    azdias_v = azdias_df[col].dropna().unique()\n",
    "    customers_v = customers_df[col].dropna().unique()\n",
    "    diff_azdias_v = np.setdiff1d(azdias_v, customers_v)\n",
    "    diff_customers_v = np.setdiff1d(customers_v, azdias_v)\n",
    "    \n",
    "    if diff_azdias_v.size > 0:\n",
    "        print('{} different only in azdias : {}'.format(col, diff_azdias_v))\n",
    "    if diff_customers_v.size > 0:\n",
    "        print('{} different only in customers_df : {}'.format(col, diff_customers_v))  "
   ]
  },
  {
   "cell_type": "markdown",
   "metadata": {},
   "source": [
    "#### Ananlyze `azdias_nom_cat_not_annot_attribute`\n",
    "\n",
    "Every category should exist in general population."
   ]
  },
  {
   "cell_type": "code",
   "execution_count": 89,
   "metadata": {},
   "outputs": [
    {
     "name": "stdout",
     "output_type": "stream",
     "text": [
      "EINGEFUEGT_AM different only in azdias : ['1991-06-17 00:00:00' '1991-08-30 00:00:00' '1992-12-17 00:00:00' ...\n",
      " '2016-04-20 00:00:00' '2016-05-02 00:00:00' '2016-05-09 00:00:00']\n",
      "EINGEFUEGT_AM different only in customers_df : ['1993-04-29 00:00:00' '1993-06-02 00:00:00' '1994-09-29 00:00:00'\n",
      " '1997-09-15 00:00:00' '1997-12-12 00:00:00' '1998-11-07 00:00:00'\n",
      " '1998-11-13 00:00:00' '1999-02-19 00:00:00' '1999-03-16 00:00:00'\n",
      " '1999-08-16 00:00:00' '1999-10-25 00:00:00' '2000-12-01 00:00:00'\n",
      " '2001-01-02 00:00:00' '2001-01-17 00:00:00' '2001-01-18 00:00:00'\n",
      " '2001-03-14 00:00:00' '2001-12-04 00:00:00' '2002-04-26 00:00:00'\n",
      " '2003-01-20 00:00:00' '2003-06-28 00:00:00' '2003-12-06 00:00:00'\n",
      " '2004-06-12 00:00:00' '2005-05-28 00:00:00' '2005-08-08 00:00:00'\n",
      " '2005-10-06 00:00:00' '2006-06-09 00:00:00' '2006-07-01 00:00:00'\n",
      " '2006-07-16 00:00:00' '2006-11-10 00:00:00' '2006-12-17 00:00:00'\n",
      " '2006-12-23 00:00:00' '2007-03-20 00:00:00' '2007-03-25 00:00:00'\n",
      " '2007-03-28 00:00:00' '2007-05-03 00:00:00' '2007-05-23 00:00:00'\n",
      " '2007-07-27 00:00:00' '2007-08-13 00:00:00' '2007-12-11 00:00:00'\n",
      " '2007-12-30 00:00:00' '2008-03-27 00:00:00' '2008-06-26 00:00:00'\n",
      " '2008-09-18 00:00:00' '2008-11-08 00:00:00' '2008-12-01 00:00:00'\n",
      " '2009-01-02 00:00:00' '2009-04-02 00:00:00' '2009-06-04 00:00:00'\n",
      " '2009-06-07 00:00:00' '2009-07-01 00:00:00' '2009-08-24 00:00:00'\n",
      " '2009-09-28 00:00:00' '2009-11-02 00:00:00' '2009-11-18 00:00:00'\n",
      " '2010-03-05 00:00:00' '2010-10-12 00:00:00' '2011-03-08 00:00:00'\n",
      " '2011-04-15 00:00:00' '2011-07-24 00:00:00' '2011-09-29 00:00:00'\n",
      " '2011-11-17 00:00:00' '2012-01-03 00:00:00' '2012-01-16 00:00:00'\n",
      " '2012-03-18 00:00:00' '2012-04-19 00:00:00' '2012-05-29 00:00:00'\n",
      " '2012-07-28 00:00:00' '2012-08-02 00:00:00' '2012-08-20 00:00:00'\n",
      " '2012-10-19 00:00:00' '2013-05-15 00:00:00' '2013-07-18 00:00:00'\n",
      " '2013-07-26 00:00:00' '2013-09-09 00:00:00' '2013-10-16 00:00:00'\n",
      " '2013-10-24 00:00:00' '2013-11-22 00:00:00' '2014-01-25 00:00:00'\n",
      " '2014-03-20 00:00:00' '2014-05-05 00:00:00' '2014-05-20 00:00:00'\n",
      " '2014-10-12 00:00:00' '2014-10-23 00:00:00' '2014-11-19 00:00:00'\n",
      " '2014-12-12 00:00:00' '2015-01-16 00:00:00' '2015-05-08 00:00:00'\n",
      " '2015-07-03 00:00:00' '2015-08-10 00:00:00' '2015-09-03 00:00:00'\n",
      " '2015-12-08 00:00:00' '2016-07-05 00:00:00']\n"
     ]
    }
   ],
   "source": [
    "# scan general population and customer value coverage\n",
    "for col in azdias_nom_cat_not_annot_attribute:\n",
    "        \n",
    "    azdias_v = azdias_df[col].dropna().unique()\n",
    "    customers_v = customers_df[col].dropna().unique()\n",
    "    \n",
    "    diff_azdias_v = np.setdiff1d(azdias_v, customers_v)\n",
    "    diff_customers_v = np.setdiff1d(customers_v, azdias_v)\n",
    "    \n",
    "    if diff_azdias_v.size > 0:\n",
    "        print('{} different only in azdias : {}'.format(col, diff_azdias_v))\n",
    "    if diff_customers_v.size > 0:\n",
    "        print('{} different only in customers_df : {}'.format(col, diff_customers_v))"
   ]
  },
  {
   "cell_type": "markdown",
   "metadata": {},
   "source": [
    "#### Ananlyze `azdias_ord_cat_not_annot_attribute`\n",
    "\n",
    "Every category should exist in general population."
   ]
  },
  {
   "cell_type": "code",
   "execution_count": 90,
   "metadata": {},
   "outputs": [
    {
     "name": "stdout",
     "output_type": "stream",
     "text": [
      "ALTERSKATEGORIE_FEIN only in azdias : [1.]\n",
      "ANZ_KINDER only in azdias : [ 9. 11.]\n",
      "D19_TELKO_ONLINE_QUOTE_12 only in azdias : [7.]\n",
      "D19_VERSI_ONLINE_QUOTE_12 only in azdias : [3. 6. 8. 9.]\n",
      "EINGEZOGENAM_HH_JAHR only in azdias : [1900. 1904. 1971. 1984.]\n"
     ]
    }
   ],
   "source": [
    "# scan general population and customer value coverage\n",
    "for col in azdias_ord_cat_not_annot_attribute:\n",
    "    azdias_v = azdias_df[col].dropna().unique()\n",
    "    customers_v = customers_df[col].dropna().unique()\n",
    "\n",
    "    diff_azdias_v = np.setdiff1d(azdias_v, customers_v)\n",
    "    diff_customers_v = np.setdiff1d(customers_v, azdias_v)\n",
    "    \n",
    "    if diff_azdias_v.size > 0:\n",
    "\n",
    "        print('{} only in azdias : {}'.format(col, diff_azdias_v))\n",
    "    if diff_customers_v.size > 0:\n",
    "        \n",
    "        print('{} only in customers_df : {}'.format(col, diff_customers_v))"
   ]
  },
  {
   "cell_type": "markdown",
   "metadata": {},
   "source": [
    "#### Ananlyze `azdias_mix_cat_not_annot_attribute`\n",
    "\n",
    "Every category should exist in general population."
   ]
  },
  {
   "cell_type": "code",
   "execution_count": 91,
   "metadata": {
    "collapsed": true
   },
   "outputs": [],
   "source": [
    "# scan general population and customer value coverage\n",
    "for col in azdias_mix_cat_not_annot_attribute:\n",
    "    \n",
    "    str_azdias_v = []\n",
    "    str_customers_v = []\n",
    "    \n",
    "    if col == 'CAMEO_INTL_2015':\n",
    "        \n",
    "        azdias_v = azdias_df[col].dropna().apply(lambda x: str_azdias_v.append(x) if isinstance(x, str) else int(x)).dropna().unique()\n",
    "        customers_v = customers_df[col].dropna().apply(lambda x: str_customers_v.append(x) if isinstance(x, str) else int(x)).dropna().unique()\n",
    "        diff_str_azdias_v = np.setdiff1d(str_azdias_v, str_customers_v)\n",
    "        diff_str_customers_v = np.setdiff1d(str_customers_v, str_azdias_v)\n",
    "        str_azdias_v = np.unique(str_azdias_v)\n",
    "        str_customers_v = np.unique(str_customers_v)\n",
    "        str_azdias_v = []\n",
    "        str_customers_v = []\n",
    "    else:\n",
    "        \n",
    "        azdias_v = azdias_df[col].dropna().unique()\n",
    "        customers_v = customers_df[col].dropna().unique()\n",
    "    \n",
    "    \n",
    "    diff_azdias_v = np.setdiff1d(azdias_v, customers_v)\n",
    "    diff_customers_v = np.setdiff1d(customers_v, azdias_v)\n",
    "    \n",
    "    if diff_azdias_v.size > 0:\n",
    "        print('{} different only in azdias : {}'.format(col, diff_azdias_v))\n",
    "    if diff_customers_v.size > 0:\n",
    "        print('{} different only in customers_df : {}'.format(col, diff_customers_v))\n",
    "    if len(str_azdias_v) > 0:\n",
    "        print('{} different only in azdias : {}'.format(attr, diff_str_azdias_v))\n",
    "    if len(str_customers_v) > 0:\n",
    "        print('{} different only in customers : {}'.format(attr, diff_str_customers_v))"
   ]
  },
  {
   "cell_type": "markdown",
   "metadata": {},
   "source": [
    "#### Ananlyze `azdias_num_not_annot_attribute`\n",
    "\n",
    "Gnneral population range should cover customer."
   ]
  },
  {
   "cell_type": "code",
   "execution_count": 92,
   "metadata": {
    "collapsed": true
   },
   "outputs": [],
   "source": [
    "# scan general population and customer value coverage\n",
    "for col in azdias_num_not_annot_attribute:\n",
    "\n",
    "    min_v1 = azdias_df[col].min()\n",
    "    max_v1 = azdias_df[col].max()\n",
    "    min_v2 = customers_df[col].min()\n",
    "    max_v2 = customers_df[col].max()\n",
    "    \n",
    "    if min_v1 > min_v2:\n",
    "        print('{} in azdias have min value: {} larger than customer: {}'.format(col, min_v1, min_v2))\n",
    "    if max_v1 < max_v2:\n",
    "        print('{} in azdias have max value: {} smaller than customer: {}'.format(col, min_v1, min_v2))"
   ]
  },
  {
   "cell_type": "markdown",
   "metadata": {},
   "source": [
    "#### To fix the error, we will need to ...\n",
    "\n",
    "1. ORTSGR_KLS9: **change 0 to NA (undocumented in values_df)**"
   ]
  },
  {
   "cell_type": "code",
   "execution_count": 93,
   "metadata": {},
   "outputs": [
    {
     "data": {
      "image/png": "[encoded data removed]",
      "text/plain": [
       "<Figure size 720x360 with 2 Axes>"
      ]
     },
     "metadata": {
      "needs_background": "light"
     },
     "output_type": "display_data"
    }
   ],
   "source": [
    "plt.figure(figsize = [10, 5])\n",
    "\n",
    "plt.subplot(1, 2, 1)\n",
    "plt.hist((customers_df.isnull().mean(), azdias_df.isnull().mean()), label=['customer', 'general population'])\n",
    "plt.xlabel('Missing value - sample %')\n",
    "plt.ylabel('feature')\n",
    "plt.legend()\n",
    "\n",
    "plt.subplot(1, 2, 2)\n",
    "plt.hist((customers_df.isnull().mean(axis=1), azdias_df.isnull().mean(axis=1)), label=['customer', 'general population'])\n",
    "plt.xlabel('Missing value - feature %')\n",
    "plt.ylabel('sample')\n",
    "plt.legend()\n",
    "\n",
    "plt.tight_layout()\n",
    "plt.show()"
   ]
  },
  {
   "cell_type": "markdown",
   "metadata": {},
   "source": [
    "### Data Preprocessing\n",
    "Create a `clean_data` function for data cleaning."
   ]
  },
  {
   "cell_type": "markdown",
   "metadata": {},
   "source": [
    "#### What we want to do here ...\n",
    "With previous knowledge of data exploration, in this section we would like to perfrom data cleaning. Our goal is to create a perform data cleaning, I will step by step go through below funcstions. Finally, we will combine this function in one single function `clean_data`.\n",
    "\n",
    "* `unknown2nd`: Convert all unknown value to NA.\n",
    "* `formatit`: Change undocumented value to NA. Try to match 'DIAS Attributes - Values 2017.xlsx' Value field.\n",
    "* Analyze categorical and quantitative feature.\n",
    "    - Category feature handling\n",
    "        - Binary: Do-nothing\n",
    "        - Nominal: Drop feature with more than 15 values\n",
    "        - Ordinal: Drop feature with more than 15 values\n",
    "        - Mixed: Convert to nominal or ordinal\n",
    "    - Quantative feature handling\n",
    "        - `log_transform` as below\n",
    "        - `cap_outlier` as below\n",
    "* `drop`: Drop unused features.\n",
    "    - Will drop missing value > 70% feature\n",
    "* `log_transform`: Normalize quantitative feature with log transfor.\n",
    "* `cap_outlier`: Capping the outlier rows with Percentiles\n",
    "* `cover`: Scan feature coverage with general population and customer.\n",
    "* `fillna`: Fill every NA field a value.\n",
    "    - Categorical feature: maximum occurred value, \n",
    "    - Quantitative feature: median\n",
    "* `onehot`: Apply one-hot encoding aming nominal categorical features.\n",
    "* `clean_data`: integrate above procedure to one function."
   ]
  },
  {
   "cell_type": "code",
   "execution_count": 133,
   "metadata": {
    "collapsed": true
   },
   "outputs": [],
   "source": [
    "# dictionary to hold all type of documented features\n",
    "annot_attr_azdias_values_dict = {\n",
    "    'bin_cat': azdias_bin_cat_annot_attribute,  # documented binary category feature\n",
    "    'nom_cat': azdias_nom_cat_annot_attribute,  # documented nominal category feature\n",
    "    'ord_cat': azdias_ord_cat_annot_attribute,  # documented ordinal category feature\n",
    "    'mix_cat': azdias_mix_cat_annot_attribute,  # documented mixed caztegory feature\n",
    "    'num': azdias_num_annot_attribute,  # documented quantitative feature\n",
    "    'unused': azdias_unused_annot_attribute  # documented unused feature\n",
    "}\n",
    "\n",
    "# dictionary to hold all type of undocumented features\n",
    "not_annot_attr_azdias_values_dict = {\n",
    "    'bin_cat': azdias_bin_cat_not_annot_attribute,  # unuhdocumented binary category feature\n",
    "    'nom_cat': azdias_nom_cat_not_annot_attribute,  # undocumented nominal category feature\n",
    "    'ord_cat': azdias_ord_cat_not_annot_attribute,  # undocumented ordinal category feature\n",
    "    'mix_cat': azdias_mix_cat_not_annot_attribute,  # undocumented mixed caztegory feature\n",
    "    'num': azdias_num_not_annot_attribute,  # undocumented quantitative feature\n",
    "    'unused': azdias_unused_not_annot_attribute  # undocumented unused feature\n",
    "}\n",
    "\n",
    "# dictionary to hold different type of unknow value\n",
    "unknown_annot_attribute_dict = {\n",
    "    'unknown': customers_unknown_values_df,  # 'unknown' meaning feature\n",
    "    'main_age_unknown': customers_main_age_unknown_values_df,  # 'unknown / no main age detectable' meaning feature\n",
    "    'transaction_unknown': customers_transaction_unknown_values_df,  # 'no transactions known' meaning feature \n",
    "    'transactions_unknown': customers_transactions_unknown_values_df,  # 'no transaction known' meaning feature \n",
    "}\n",
    "\n",
    "new_customers_df = customers_df.copy()\n",
    "new_azdias_df = azdias_df.copy()"
   ]
  },
  {
   "cell_type": "code",
   "execution_count": 134,
   "metadata": {
    "collapsed": true
   },
   "outputs": [],
   "source": [
    "annot_attr_azdias_values = annot_attr_customers_values\n",
    "assert annot_attr_azdias_values.size == annot_attr_azdias_values_dict['bin_cat'].size \\\n",
    "                                        + annot_attr_azdias_values_dict['nom_cat'].size \\\n",
    "                                        + annot_attr_azdias_values_dict['ord_cat'].size \\\n",
    "                                        + annot_attr_azdias_values_dict['mix_cat'].size \\\n",
    "                                        + annot_attr_azdias_values_dict['num'].size \\\n",
    "                                        + annot_attr_azdias_values_dict['unused'].size"
   ]
  },
  {
   "cell_type": "code",
   "execution_count": 135,
   "metadata": {
    "collapsed": true
   },
   "outputs": [],
   "source": [
    "not_annot_attr_azdias_values = np.setdiff1d(not_annot_attr_customers_values, only_attr_customers)\n",
    "assert not_annot_attr_azdias_values.size == not_annot_attr_azdias_values_dict['bin_cat'].size \\\n",
    "                                            + not_annot_attr_azdias_values_dict['nom_cat'].size \\\n",
    "                                            + not_annot_attr_azdias_values_dict['ord_cat'].size \\\n",
    "                                            + not_annot_attr_azdias_values_dict['mix_cat'].size \\\n",
    "                                            + not_annot_attr_azdias_values_dict['num'].size \\\n",
    "                                            + not_annot_attr_azdias_values_dict['unused'].size"
   ]
  },
  {
   "cell_type": "code",
   "execution_count": 97,
   "metadata": {},
   "outputs": [],
   "source": [
    "# draw progressbar\n",
    "def update_progress(progress):\n",
    "    '''\n",
    "    INPUT:\n",
    "    progress - %\n",
    "    \n",
    "    OUTPUT:\n",
    "    \n",
    "    \n",
    "    Description: Display a progress bar (https://www.mikulskibartosz.name/how-to-display-a-progress-bar-in-jupyter-notebook/)\n",
    "    '''\n",
    "    bar_length = 20\n",
    "    if isinstance(progress, int):\n",
    "        progress = float(progress)\n",
    "    if not isinstance(progress, float):\n",
    "        progress = 0\n",
    "    if progress < 0:\n",
    "        progress = 0\n",
    "    if progress >= 1:\n",
    "        progress = 1\n",
    "\n",
    "    block = int(round(bar_length * progress))\n",
    "\n",
    "    clear_output(wait = True)\n",
    "    text = \"Progress: [{0}] {1:.1f}%\".format( \"#\" * block + \"-\" * (bar_length - block), progress * 100)\n",
    "    print(text)"
   ]
  },
  {
   "cell_type": "markdown",
   "metadata": {},
   "source": [
    "__NOTE__: `update_progress` is the function used to draw progress bar. Which inspired by [How to display a progress bar in Jupyter Notebook](https://www.mikulskibartosz.name/how-to-display-a-progress-bar-in-jupyter-notebook/)."
   ]
  },
  {
   "cell_type": "code",
   "execution_count": 98,
   "metadata": {
    "collapsed": true
   },
   "outputs": [],
   "source": [
    "def unknown2na(df, unknown_dict=unknown_annot_attribute_dict):\n",
    "    '''\n",
    "    INPUT:\n",
    "    df - pandas dataframe\n",
    "    unknown_dict - dictionary to hold all type of unknown string features\n",
    "    \n",
    "    OUTPUT:\n",
    "    df - pandas dataframe\n",
    "    \n",
    "    Description: Convert all unknown value to NA.\n",
    "    '''\n",
    "    cnter = 0\n",
    "    n_iters = sum([unknown_dict[k].shape[0] for k in unknown_dict.keys()])\n",
    "    n_iters += 1\n",
    "\n",
    "    for k in unknown_dict:\n",
    "        v_df = unknown_dict[k]\n",
    "        attrs = v_df.Attribute\n",
    "\n",
    "        for attr in attrs:\n",
    "            v_unknown = v_df[v_df.Attribute == attr].Value.values[0]\n",
    "            \n",
    "            if isinstance(v_unknown, str):\n",
    "                v_unknown = list(map(int, v_unknown.split(',')))\n",
    "                df[attr] = df[attr].apply(lambda x: x if not x in v_unknown else np.nan)\n",
    "            else:\n",
    "                df[attr] = df[attr].apply(lambda x: x if not x == v_unknown else np.nan)\n",
    "            \n",
    "            # Update the progress bar\n",
    "            cnter+=1 \n",
    "            update_progress(cnter / n_iters)\n",
    "    \n",
    "    update_progress(1)\n",
    "            \n",
    "    return df"
   ]
  },
  {
   "cell_type": "code",
   "execution_count": 99,
   "metadata": {},
   "outputs": [
    {
     "name": "stdout",
     "output_type": "stream",
     "text": [
      "Progress: [####################] 100.0%\n"
     ]
    }
   ],
   "source": [
    "# Convert all unknown value to NA.\n",
    "new_azdias_df = unknown2na(new_azdias_df)"
   ]
  },
  {
   "cell_type": "code",
   "execution_count": 100,
   "metadata": {},
   "outputs": [
    {
     "name": "stdout",
     "output_type": "stream",
     "text": [
      "Progress: [####################] 100.0%\n"
     ]
    }
   ],
   "source": [
    "# Convert all unknown value to NA.\n",
    "new_customers_df = unknown2na(new_customers_df)"
   ]
  },
  {
   "cell_type": "code",
   "execution_count": 101,
   "metadata": {},
   "outputs": [],
   "source": [
    "if DEBUG:\n",
    "    new_azdias_df.to_pickle('new_azdias_df_unknown2na.pickle')\n",
    "    new_customers_df.to_pickle('new_customers_df_unknown2na.pickle')"
   ]
  },
  {
   "cell_type": "code",
   "execution_count": 102,
   "metadata": {},
   "outputs": [],
   "source": [
    "if DEBUG:\n",
    "    new_customers_df = pd.read_pickle(\"new_customers_df_unknown2na.pickle\")\n",
    "    new_azdias_df = pd.read_pickle(\"new_azdias_df_unknown2na.pickle\")"
   ]
  },
  {
   "cell_type": "code",
   "execution_count": 103,
   "metadata": {
    "collapsed": true
   },
   "outputs": [],
   "source": [
    "def formatit(df, annot_dict=annot_attr_azdias_values_dict, not_annot_dict=not_annot_attr_azdias_values_dict):\n",
    "    '''\n",
    "    INPUT:\n",
    "    df - pandas dataframe\n",
    "    annot_dict - dictionary to hold all type of annotated features\n",
    "    not_annot_dict - dictionary to hold all type of un-annotated features\n",
    "    \n",
    "    OUTPUT:\n",
    "    df - pandas dataframe\n",
    "    \n",
    "    Description: Change undocumented value to NA. Try to match 'DIAS Attributes - Values 2017.xlsx' Value field.\n",
    "    '''\n",
    "    cnter = 0\n",
    "    n_iters = len([v for k in annot_attr_azdias_values_dict.keys() for v in annot_attr_azdias_values_dict[k] if v in df])\n",
    "    n_iters += len([v for k in not_annot_attr_azdias_values_dict.keys() for v in not_annot_attr_azdias_values_dict[k] if v in df])\n",
    "    n_iters += 1\n",
    "\n",
    "    for k in annot_dict.keys():\n",
    "        for v in annot_dict[k]:\n",
    "            if v == 'OST_WEST_KZ':\n",
    "\n",
    "                # change 'O': 0, 'W': 1\n",
    "                df[v] = df[v].replace({'O':0, 'W':1})\n",
    "            elif v == 'CAMEO_DEU_2015':\n",
    "\n",
    "                # change 'XX' to NA\n",
    "                df[v] = df[v].replace('XX', np.nan)\n",
    "            elif v == 'CAMEO_DEUG_2015':\n",
    "\n",
    "                # change '1', '2', '3', '4', '5', '6', '7', '8', '9' to integer, and 'X' to NA\n",
    "                df[v] = df[v].replace('X', np.nan)\n",
    "                df[v] = df[df[v].notna()][v].apply(lambda x: (int(x)))\n",
    "            elif v == 'KBA05_MODTEMP':\n",
    "\n",
    "                # change 6 to NA\n",
    "                df[v] = df[v].replace(6, np.nan)\n",
    "            elif np.isin(v, ['LP_FAMILIE_FEIN',\n",
    "                            'LP_FAMILIE_GROB',\n",
    "                            'LP_LEBENSPHASE_FEIN',\n",
    "                            'LP_LEBENSPHASE_GROB']):\n",
    "\n",
    "                # change 0 to NA\n",
    "                df[v] = df[v].replace(0, np.nan)\n",
    "\n",
    "            elif v == 'ORTSGR_KLS9':\n",
    "\n",
    "                # change 0 to NA\n",
    "                df[v] = df[v].replace(0, np.nan)\n",
    "            else:\n",
    "\n",
    "                if v in df:\n",
    "                    # All other attribute: convert to integer\n",
    "                    df[v] = df[df[v].notna()][v].apply(lambda x: int(x))\n",
    "\n",
    "            # Update the progress bar\n",
    "            cnter+=1 \n",
    "            update_progress(cnter / n_iters)\n",
    "    \n",
    "    for k in not_annot_dict.keys():\n",
    "        for v in not_annot_dict[k]:\n",
    "            if v == 'EINGEFUEGT_AM':\n",
    "\n",
    "                # convert datetime string to year based categorical feature\n",
    "                df[v] = df[df[v].notna()][v].apply(lambda x: pd.to_datetime(x).year)\n",
    "            elif v == 'D19_LETZTER_KAUF_BRANCHE':\n",
    "\n",
    "                # change feature string to column index\n",
    "                df[v] = df[df[v].notna()][v].apply(lambda x: np.where(customers_df.columns == x)[0][0] if x != 'D19_UNBEKANNT' else 0)\n",
    "            elif v == 'CAMEO_INTL_2015':\n",
    "\n",
    "                # change '45', '25', '55', '51', '14', '54', '43', '22', '15', '24', '35', '23', '12', '44', '41', '52', '31', '13', '34', '32', '33' to integer, and 'XX' to NA\n",
    "                df[v] = df[df[v].notna()][v].apply(lambda x: int(x) if x != 'XX' else np.nan)\n",
    "            else:\n",
    "\n",
    "                if v in df:\n",
    "                    # All other attribute: convert to integer\n",
    "                    df[v] = df[df[v].notna()][v].apply(lambda x: int(x))\n",
    "\n",
    "            # Update the progress bar\n",
    "            cnter+=1 \n",
    "            update_progress(cnter / n_iters)\n",
    "    \n",
    "    update_progress(1)\n",
    "    \n",
    "    return df"
   ]
  },
  {
   "cell_type": "code",
   "execution_count": 104,
   "metadata": {},
   "outputs": [
    {
     "name": "stdout",
     "output_type": "stream",
     "text": [
      "Progress: [####################] 100.0%\n"
     ]
    }
   ],
   "source": [
    "# Change undocumented value to NA. Try to match 'DIAS Attributes - Values 2017.xlsx' Value field.\n",
    "new_azdias_df = formatit(new_azdias_df)"
   ]
  },
  {
   "cell_type": "code",
   "execution_count": 105,
   "metadata": {},
   "outputs": [
    {
     "name": "stdout",
     "output_type": "stream",
     "text": [
      "Progress: [####################] 100.0%\n"
     ]
    }
   ],
   "source": [
    "# Change undocumented value to NA. Try to match 'DIAS Attributes - Values 2017.xlsx' Value field.\n",
    "new_customers_df = formatit(new_customers_df)"
   ]
  },
  {
   "cell_type": "code",
   "execution_count": 106,
   "metadata": {},
   "outputs": [],
   "source": [
    "if DEBUG:\n",
    "    new_azdias_df.to_pickle('new_azdias_df_formatit.pickle')\n",
    "    new_customers_df.to_pickle('new_customers_df_formatit.pickle')"
   ]
  },
  {
   "cell_type": "code",
   "execution_count": 136,
   "metadata": {},
   "outputs": [],
   "source": [
    "if DEBUG:\n",
    "    new_azdias_df = pd.read_pickle(\"new_azdias_df_formatit.pickle\")\n",
    "    new_customers_df = pd.read_pickle(\"new_customers_df_formatit.pickle\")"
   ]
  },
  {
   "cell_type": "code",
   "execution_count": 137,
   "metadata": {},
   "outputs": [
    {
     "data": {
      "image/png": "[encoded data removed]",
      "text/plain": [
       "<Figure size 720x360 with 2 Axes>"
      ]
     },
     "metadata": {
      "needs_background": "light"
     },
     "output_type": "display_data"
    }
   ],
   "source": [
    "plt.figure(figsize = [10, 5])\n",
    "\n",
    "plt.subplot(1, 2, 1)\n",
    "plt.hist((new_customers_df.isnull().mean(), new_azdias_df.isnull().mean()), label=['customer', 'general population'])\n",
    "plt.xlabel('Missing value - sample %')\n",
    "plt.ylabel('feature')\n",
    "plt.legend()\n",
    "\n",
    "plt.subplot(1, 2, 2)\n",
    "plt.hist((new_customers_df.isnull().mean(axis=1), new_azdias_df.isnull().mean(axis=1)), label=['customer', 'general population'])\n",
    "plt.xlabel('Missing value - feature %')\n",
    "plt.ylabel('sample')\n",
    "plt.legend()\n",
    "\n",
    "plt.tight_layout()\n",
    "plt.show()"
   ]
  },
  {
   "cell_type": "code",
   "execution_count": 138,
   "metadata": {},
   "outputs": [
    {
     "data": {
      "image/png": "[encoded data removed]",
      "text/plain": [
       "<Figure size 720x720 with 1 Axes>"
      ]
     },
     "metadata": {
      "needs_background": "light"
     },
     "output_type": "display_data"
    }
   ],
   "source": [
    "_ = np.setdiff1d(new_azdias_df.columns[new_azdias_df.isnull().mean() > FEATURE_DROP_RATIO], annot_attr_azdias_values_dict['unused'])\n",
    "_ = np.union1d(_, np.setdiff1d(new_azdias_df.columns[new_azdias_df.isnull().mean() > FEATURE_DROP_RATIO], not_annot_attr_azdias_values_dict['unused']))\n",
    "\n",
    "plt.figure(figsize = [10, 10])\n",
    "new_customers_df[_].isnull().mean().plot.barh()\n",
    "plt.title('{} features with missing value > {}%'.format(np.setdiff1d(_, 'LNR').size, FEATURE_DROP_RATIO*100))\n",
    "plt.tight_layout()\n",
    "plt.show()"
   ]
  },
  {
   "cell_type": "markdown",
   "metadata": {},
   "source": [
    "#### Analyze categorical feature\n",
    "\n",
    "Check all category feature unique value range"
   ]
  },
  {
   "cell_type": "code",
   "execution_count": 139,
   "metadata": {},
   "outputs": [
    {
     "data": {
      "image/png": "[encoded data removed]",
      "text/plain": [
       "<Figure size 720x360 with 8 Axes>"
      ]
     },
     "metadata": {
      "needs_background": "light"
     },
     "output_type": "display_data"
    }
   ],
   "source": [
    "plt.figure(figsize = [10, 5])\n",
    "\n",
    "plt.subplot(2,4,1)\n",
    "plt.boxplot([new_azdias_df[annot_attr_azdias_values_dict['bin_cat']].nunique(), new_customers_df[annot_attr_azdias_values_dict['bin_cat']].nunique()], labels=['population', 'customer'])\n",
    "plt.title('Documented binary')\n",
    "\n",
    "plt.subplot(2,4,2)\n",
    "plt.boxplot([new_azdias_df[annot_attr_azdias_values_dict['nom_cat']].nunique(), new_customers_df[annot_attr_azdias_values_dict['nom_cat']].nunique()], labels=['population', 'customer'])\n",
    "plt.title('Documented nominal')\n",
    "\n",
    "plt.subplot(2,4,3)\n",
    "plt.boxplot([new_azdias_df[annot_attr_azdias_values_dict['ord_cat']].nunique(), new_customers_df[annot_attr_azdias_values_dict['ord_cat']].nunique()], labels=['population', 'customer'])\n",
    "plt.title('Documented ordinal')\n",
    "\n",
    "plt.subplot(2,4,4)\n",
    "plt.boxplot([new_azdias_df[annot_attr_azdias_values_dict['mix_cat']].nunique(), new_customers_df[annot_attr_azdias_values_dict['mix_cat']].nunique()], labels=['population', 'customer'])\n",
    "plt.title('Documented mix')\n",
    "\n",
    "plt.subplot(2,4,5)\n",
    "plt.boxplot([new_azdias_df[not_annot_attr_azdias_values_dict['bin_cat']].nunique(), new_customers_df[not_annot_attr_azdias_values_dict['bin_cat']].nunique()], labels=['population', 'customer'])\n",
    "plt.title('Undocumented binary')\n",
    "\n",
    "plt.subplot(2,4,6)\n",
    "plt.boxplot([new_azdias_df[not_annot_attr_azdias_values_dict['nom_cat']].nunique(), new_customers_df[not_annot_attr_azdias_values_dict['nom_cat']].nunique()], labels=['population', 'customer'])\n",
    "plt.title('Undocumented nominal')\n",
    "\n",
    "plt.subplot(2,4,7)\n",
    "plt.boxplot([new_azdias_df[not_annot_attr_azdias_values_dict['ord_cat']].nunique(), new_customers_df[not_annot_attr_azdias_values_dict['ord_cat']].nunique()], labels=['population', 'customer'])\n",
    "plt.title('Undocumented ordinal')\n",
    "\n",
    "plt.subplot(2,4,8)\n",
    "plt.boxplot([new_azdias_df[not_annot_attr_azdias_values_dict['mix_cat']].nunique(), new_customers_df[not_annot_attr_azdias_values_dict['mix_cat']].nunique()], labels=['population', 'customer'])\n",
    "plt.title('Undocumented mix')\n",
    "\n",
    "plt.tight_layout()\n",
    "plt.show()"
   ]
  },
  {
   "cell_type": "markdown",
   "metadata": {},
   "source": [
    "After browse value range of different type features, we would like to drop feature outliers.\n",
    "* **Nominal categorical feature have more than 15 values: drop**\n",
    "* **Ordinal categorical feature have more than 15 values: drop**\n",
    "\n",
    "Analyze `annot_attr_azdias_values_dict['nom_cat']`"
   ]
  },
  {
   "cell_type": "code",
   "execution_count": 140,
   "metadata": {},
   "outputs": [
    {
     "name": "stdout",
     "output_type": "stream",
     "text": [
      "CAMEO_DEU_2015 have 44 unique values (>15)\n"
     ]
    }
   ],
   "source": [
    "# scan unique value\n",
    "for v in annot_attr_azdias_values_dict['nom_cat']:\n",
    "    nunique =  new_azdias_df[v].nunique()\n",
    "    if nunique > 15:\n",
    "        print('{} have {} unique values (>15)'.format(v, new_azdias_df[v].nunique()))"
   ]
  },
  {
   "cell_type": "markdown",
   "metadata": {},
   "source": [
    "__NOTE__: drop CAMEO_DEU_2015 (44 unique value, too large)"
   ]
  },
  {
   "cell_type": "markdown",
   "metadata": {},
   "source": [
    "Analyze `annot_attr_azdias_values_dict['ord_cat']`"
   ]
  },
  {
   "cell_type": "code",
   "execution_count": 141,
   "metadata": {},
   "outputs": [
    {
     "name": "stdout",
     "output_type": "stream",
     "text": [
      "ALTER_HH have 21 unique values (>15)\n"
     ]
    }
   ],
   "source": [
    "# scan unique value\n",
    "for v in annot_attr_azdias_values_dict['ord_cat']:\n",
    "    nunique =  new_azdias_df[v].nunique()\n",
    "    if nunique > 15:\n",
    "        print('{} have {} unique values (>15)'.format(v, new_azdias_df[v].nunique()))"
   ]
  },
  {
   "cell_type": "markdown",
   "metadata": {},
   "source": [
    "__NOTE__: drop ALTER_HH (21 unique value, too large)"
   ]
  },
  {
   "cell_type": "markdown",
   "metadata": {},
   "source": [
    "Analyze `annot_attr_azdias_values_dict['mix_cat']`"
   ]
  },
  {
   "cell_type": "markdown",
   "metadata": {},
   "source": [
    "LP_LEBENSPHASE_FEIN: **contains information about life stage and fine scale. I will create two new ordinals features, one for life_stage and other for fine_scale**"
   ]
  },
  {
   "cell_type": "code",
   "execution_count": 142,
   "metadata": {
    "collapsed": true
   },
   "outputs": [],
   "source": [
    "age_dict = {'younger_age': 0, 'middle_age': 1, 'advanced_age': 2, 'retirement_age': 3}\n",
    "life_stage = {1: age_dict['younger_age'], 2: age_dict['middle_age'], 3: age_dict['younger_age'],\n",
    "              4: age_dict['middle_age'], 5: age_dict['advanced_age'], 6: age_dict['retirement_age'],\n",
    "              7: age_dict['advanced_age'], 8: age_dict['retirement_age'], 9: age_dict['middle_age'],\n",
    "              10: age_dict['middle_age'], 11: age_dict['advanced_age'], 12: age_dict['retirement_age'],\n",
    "              13: age_dict['advanced_age'], 14: age_dict['younger_age'], 15: age_dict['advanced_age'],\n",
    "              16: age_dict['advanced_age'], 17: age_dict['middle_age'], 18: age_dict['younger_age'],\n",
    "              19: age_dict['advanced_age'], 20: age_dict['advanced_age'], 21: age_dict['middle_age'],\n",
    "              22: age_dict['middle_age'], 23: age_dict['middle_age'], 24: age_dict['middle_age'],\n",
    "              25: age_dict['middle_age'], 26: age_dict['middle_age'], 27: age_dict['middle_age'],\n",
    "              28: age_dict['middle_age'], 29: age_dict['younger_age'], 30: age_dict['younger_age'],\n",
    "              31: age_dict['advanced_age'], 32: age_dict['advanced_age'], 33: age_dict['younger_age'],\n",
    "              34: age_dict['younger_age'], 35: age_dict['younger_age'], 36: age_dict['advanced_age'],\n",
    "              37: age_dict['advanced_age'], 38: age_dict['retirement_age'], 39: age_dict['middle_age'],\n",
    "              40: age_dict['retirement_age']}\n",
    "\n",
    "fine_dict = {'low': 0, 'average': 1, 'wealthy': 2, 'top': 3}                                                                                      \n",
    "fine_scale = {1: fine_dict['low'], 2: fine_dict['low'], 3: fine_dict['average'], 4: fine_dict['average'], 5: fine_dict['low'], 6: fine_dict['low'],\n",
    "              7: fine_dict['average'], 8: fine_dict['average'], 9: fine_dict['average'], 10: fine_dict['wealthy'], 11: fine_dict['average'],\n",
    "              12: fine_dict['average'], 13: fine_dict['top'], 14: fine_dict['average'], 15: fine_dict['low'], 16: fine_dict['average'],\n",
    "              17: fine_dict['average'], 18: fine_dict['wealthy'], 19: fine_dict['wealthy'], 20: fine_dict['top'], 21: fine_dict['low'],\n",
    "              22: fine_dict['average'], 23: fine_dict['wealthy'], 24: fine_dict['low'], 25: fine_dict['average'], 26: fine_dict['average'],\n",
    "              27: fine_dict['average'], 28: fine_dict['top'], 29: fine_dict['low'], 30: fine_dict['average'], 31: fine_dict['low'],\n",
    "              32: fine_dict['average'], 33: fine_dict['average'], 34: fine_dict['average'], 35: fine_dict['top'], 36: fine_dict['average'],\n",
    "              37: fine_dict['average'], 38: fine_dict['average'], 39: fine_dict['top'], 40: fine_dict['top']}\n",
    "\n",
    "# create LP_life_stage and LP_fine_scale column\n",
    "new_azdias_df['LP_life_stage'] = new_azdias_df['LP_LEBENSPHASE_FEIN'].map(life_stage)\n",
    "new_azdias_df['LP_fine_scale'] = new_azdias_df['LP_LEBENSPHASE_FEIN'].map(fine_scale)\n",
    "new_customers_df['LP_life_stage'] = new_customers_df['LP_LEBENSPHASE_FEIN'].map(life_stage)\n",
    "new_customers_df['LP_fine_scale'] = new_customers_df['LP_LEBENSPHASE_FEIN'].map(fine_scale)"
   ]
  },
  {
   "cell_type": "markdown",
   "metadata": {},
   "source": [
    "LP_LEBENSPHASE_GROB **contains the same information as LP_LEBENSPHASE_FEIN. Therefore I will drop it.**"
   ]
  },
  {
   "cell_type": "markdown",
   "metadata": {},
   "source": [
    "PRAEGENDE_JUGENDJAHRE: **combines information on three dimensions: generation by decade, movement (mainstream vs. avantgarde), and nation (east vs. west). While there aren't enough levels to disentangle east from west, I will create two new variables to capture the other two dimensions: an interval-type variable for decade, and a binary variable for movement.**"
   ]
  },
  {
   "cell_type": "code",
   "execution_count": 143,
   "metadata": {
    "collapsed": true
   },
   "outputs": [],
   "source": [
    "# Map decade\n",
    "dec_dic = {1: 40, 2: 40, 3: 50, 4: 50, 5: 60, 6: 60, 7: 60,\n",
    "           8: 70, 9: 70, 10: 80, 11: 80, 12: 80, 13: 80, 14: 90,\n",
    "           15: 90, np.nan: np.nan, -1: np.nan, 0: np.nan}\n",
    "\n",
    "# Map mouvement\n",
    "mov_dic = {1: 0, 2: 1, 3: 0, 4: 1, 5: 0, 6: 1, 7: 1, 8: 0,\n",
    "           9: 1, 10: 0, 11: 1, 12: 0, 13: 1, 14: 0, 15: 1,\n",
    "           np.nan: np.nan, -1: np.nan, 0: np.nan}\n",
    "\n",
    "# create PRAEGENDE_JUGENDJAHRE_dec and PRAEGENDE_JUGENDJAHRE_mov column\n",
    "new_azdias_df['PRAEGENDE_JUGENDJAHRE_dec'] = new_azdias_df['PRAEGENDE_JUGENDJAHRE'].map(dec_dic)\n",
    "new_azdias_df['PRAEGENDE_JUGENDJAHRE_mov'] = new_azdias_df['PRAEGENDE_JUGENDJAHRE'].map(mov_dic)\n",
    "new_customers_df['PRAEGENDE_JUGENDJAHRE_dec'] = new_customers_df['PRAEGENDE_JUGENDJAHRE'].map(dec_dic)\n",
    "new_customers_df['PRAEGENDE_JUGENDJAHRE_mov'] = new_customers_df['PRAEGENDE_JUGENDJAHRE'].map(mov_dic)"
   ]
  },
  {
   "cell_type": "markdown",
   "metadata": {},
   "source": [
    "WOHNLAGE: **We create two new features NEIGHBORHOOD_QUALITY (Ordinal, vaulues from 1 to 5) and RURAL (Binary, 0= non-rural, 1=rural)**"
   ]
  },
  {
   "cell_type": "code",
   "execution_count": 144,
   "metadata": {
    "collapsed": true
   },
   "outputs": [],
   "source": [
    "neighbor_dict = {}\n",
    "rural_dict = {0: 0, 1:0, 2:0, 3:0, 4:0, 5:0, 7:1, 8:1}\n",
    "\n",
    "# create WOHNLAGE_rural and WOHNLAGE_neighborhood_quality column\n",
    "new_azdias_df['WOHNLAGE_rural'] = new_azdias_df['WOHNLAGE'].map(rural_dict)\n",
    "new_azdias_df['WOHNLAGE_neighborhood_quality'] = new_azdias_df[(new_azdias_df['WOHNLAGE'] >= 0) & (new_azdias_df['WOHNLAGE'] < 7)]['WOHNLAGE']"
   ]
  },
  {
   "cell_type": "code",
   "execution_count": 145,
   "metadata": {
    "collapsed": true
   },
   "outputs": [],
   "source": [
    "new_customers_df['WOHNLAGE_rural'] = new_customers_df['WOHNLAGE'].map(rural_dict)\n",
    "new_customers_df['WOHNLAGE_neighborhood_quality'] = new_customers_df[(new_customers_df['WOHNLAGE'] >= 0) & (new_customers_df['WOHNLAGE'] < 7)]['WOHNLAGE']"
   ]
  },
  {
   "cell_type": "markdown",
   "metadata": {},
   "source": [
    "Analyze `not_annot_attr_azdias_values_dict['nom_cat']`"
   ]
  },
  {
   "cell_type": "code",
   "execution_count": 146,
   "metadata": {},
   "outputs": [
    {
     "name": "stdout",
     "output_type": "stream",
     "text": [
      "D19_LETZTER_KAUF_BRANCHE have 35 unique values (>15)\n",
      "EINGEFUEGT_AM have 26 unique values (>15)\n",
      "VERDICHTUNGSRAUM have 46 unique values (>15)\n"
     ]
    }
   ],
   "source": [
    "# scan unique value\n",
    "for v in not_annot_attr_azdias_values_dict['nom_cat']:\n",
    "    nunique =  new_azdias_df[v].nunique()\n",
    "    if nunique > 15:\n",
    "        print('{} have {} unique values (>15)'.format(v, new_azdias_df[v].nunique()))"
   ]
  },
  {
   "cell_type": "markdown",
   "metadata": {},
   "source": [
    "__NOTE__: drop D19_LETZTER_KAUF_BRANCHE (35 unique value, too large) ,drop EINGEFUEGT_AM (26 unique value, too large), drop VERDICHTUNGSRAUM (46 unique value, too large)"
   ]
  },
  {
   "cell_type": "markdown",
   "metadata": {},
   "source": [
    "Analyze `not_annot_attr_azdias_values_dict['ord_cat']`"
   ]
  },
  {
   "cell_type": "code",
   "execution_count": 147,
   "metadata": {},
   "outputs": [
    {
     "name": "stdout",
     "output_type": "stream",
     "text": [
      "ALTERSKATEGORIE_FEIN have 26 unique values (>15)\n",
      "EINGEZOGENAM_HH_JAHR have 37 unique values (>15)\n"
     ]
    }
   ],
   "source": [
    "# scan unique value\n",
    "for v in not_annot_attr_azdias_values_dict['ord_cat']:\n",
    "    nunique =  new_azdias_df[v].nunique()\n",
    "    if nunique > 15:\n",
    "        print('{} have {} unique values (>15)'.format(v, new_azdias_df[v].nunique()))"
   ]
  },
  {
   "cell_type": "markdown",
   "metadata": {},
   "source": [
    "__NOTE__: drop ALTERSKATEGORIE_FEIN (26 unique value, too large), drop EINGEZOGENAM_HH_JAHR (37 unique value, too large)"
   ]
  },
  {
   "cell_type": "markdown",
   "metadata": {},
   "source": [
    "Analyze `not_annot_attr_azdias_values_dict['mix_cat']`"
   ]
  },
  {
   "cell_type": "code",
   "execution_count": 148,
   "metadata": {
    "collapsed": true
   },
   "outputs": [],
   "source": [
    "# create CAMEO_INTL_2015_wealth and CAMEO_INTL_2015_family column\n",
    "new_azdias_df['CAMEO_INTL_2015_wealth'] = new_azdias_df['CAMEO_INTL_2015'].apply(lambda x: np.floor_divide(float(x), 10) if float(x) else np.nan)\n",
    "new_azdias_df['CAMEO_INTL_2015_family'] = new_azdias_df['CAMEO_INTL_2015'].apply(lambda x: np.mod(float(x), 10) if float(x) else np.nan)\n",
    "\n",
    "# create CAMEO_INTL_2015_wealth and CAMEO_INTL_2015_family column\n",
    "new_customers_df['CAMEO_INTL_2015_wealth'] = new_customers_df['CAMEO_INTL_2015'].apply(lambda x: np.floor_divide(float(x), 10) if float(x) else np.nan)\n",
    "new_customers_df['CAMEO_INTL_2015_family'] = new_customers_df['CAMEO_INTL_2015'].apply(lambda x: np.mod(float(x), 10) if float(x) else np.nan) "
   ]
  },
  {
   "cell_type": "markdown",
   "metadata": {},
   "source": [
    "#### Analyze quantitative feature"
   ]
  },
  {
   "cell_type": "code",
   "execution_count": 149,
   "metadata": {},
   "outputs": [
    {
     "data": {
      "text/plain": [
       "array(['ANZ_HAUSHALTE_AKTIV', 'ANZ_HH_TITEL', 'ANZ_PERSONEN',\n",
       "       'ANZ_STATISTISCHE_HAUSHALTE', 'ANZ_TITEL', 'GEBURTSJAHR',\n",
       "       'KBA13_ANZAHL_PKW', 'MIN_GEBAEUDEJAHR'], dtype=object)"
      ]
     },
     "execution_count": 149,
     "metadata": {},
     "output_type": "execute_result"
    }
   ],
   "source": [
    "num_cols = np.union1d(annot_attr_azdias_values_dict['num'], not_annot_attr_azdias_values_dict['num'])\n",
    "num_cols"
   ]
  },
  {
   "cell_type": "code",
   "execution_count": 150,
   "metadata": {},
   "outputs": [
    {
     "data": {
      "image/png": "[encoded data removed]",
      "text/plain": [
       "<Figure size 432x288 with 8 Axes>"
      ]
     },
     "metadata": {
      "needs_background": "light"
     },
     "output_type": "display_data"
    }
   ],
   "source": [
    "for i in range(num_cols.size):\n",
    "    ax = plt.subplot(3, 3, i+1)\n",
    "    new_azdias_df[num_cols[i]].hist(ax=ax)\n",
    "    plt.title(num_cols[i])\n",
    "\n",
    "plt.tight_layout()\n",
    "plt.show()"
   ]
  },
  {
   "cell_type": "markdown",
   "metadata": {},
   "source": [
    "__NOTE__: \n",
    "1. ANZ_HAUSHALTE_AKTIV, ANZ_HH_TITEL, ANZ_PERSONEN, ANZ_STATISTISCHE_HAUSHALTE, ANZ_TITEL: log transform"
   ]
  },
  {
   "cell_type": "markdown",
   "metadata": {},
   "source": [
    "Analyze GEBURTSJAHR (year of birth)"
   ]
  },
  {
   "cell_type": "code",
   "execution_count": 151,
   "metadata": {},
   "outputs": [
    {
     "data": {
      "image/png": "[encoded data removed]",
      "text/plain": [
       "<Figure size 720x360 with 1 Axes>"
      ]
     },
     "metadata": {},
     "output_type": "display_data"
    }
   ],
   "source": [
    "plt.figure(figsize = [10, 5])\n",
    "azdias_df['GEBURTSJAHR'].value_counts().plot.pie()\n",
    "plt.tight_layout()\n",
    "plt.show()"
   ]
  },
  {
   "cell_type": "markdown",
   "metadata": {},
   "source": [
    "__NOTE__: GEBURTSJAHR: drop (almost half are year of birth = 0, abnormal)"
   ]
  },
  {
   "cell_type": "code",
   "execution_count": 157,
   "metadata": {
    "collapsed": true
   },
   "outputs": [],
   "source": [
    "col_outlier = np.array(['ALTERSKATEGORIE_FEIN', 'ALTER_HH',\n",
    "       'CAMEO_DEU_2015', 'CAMEO_INTL_2015', 'D19_LETZTER_KAUF_BRANCHE',\n",
    "       'EINGEFUEGT_AM', 'EINGEZOGENAM_HH_JAHR', 'GEBURTSJAHR',\n",
    "       'LP_LEBENSPHASE_FEIN', 'LP_LEBENSPHASE_GROB',\n",
    "       'PRAEGENDE_JUGENDJAHRE', 'VERDICHTUNGSRAUM', 'WOHNLAGE',\n",
    "       'LP_STATUS_GROB', 'ANZ_STATISTISCHE_HAUSHALTE'])"
   ]
  },
  {
   "cell_type": "code",
   "execution_count": 158,
   "metadata": {
    "collapsed": true
   },
   "outputs": [],
   "source": [
    "# calculate all type fo documented feature\n",
    "annot_attr_azdias_values = np.union1d(annot_attr_azdias_values, ['LP_life_stage', \n",
    "                                                                 'LP_fine_scale', \n",
    "                                                                 'PRAEGENDE_JUGENDJAHRE_dec', \n",
    "                                                                 'PRAEGENDE_JUGENDJAHRE_mov',\n",
    "                                                                 'WOHNLAGE_rural',\n",
    "                                                                 'WOHNLAGE_neighborhood_quality'])\n",
    "\n",
    "annot_attr_azdias_values_dict['unused'] = np.union1d(annot_attr_azdias_values_dict['unused'], annot_attr_azdias_values_dict['mix_cat'])\n",
    "annot_attr_azdias_values_dict['unused'] = np.union1d(annot_attr_azdias_values_dict['unused'], ['CAMEO_DEU_2015', 'ALTER_HH', 'GEBURTSJAHR', 'LP_STATUS_GROB'])\n",
    "annot_attr_azdias_values_dict['mix_cat'] = np.array([])\n",
    "annot_attr_azdias_values_dict['bin_cat'] = np.union1d(annot_attr_azdias_values_dict['bin_cat'], 'WOHNLAGE_rural')\n",
    "annot_attr_azdias_values_dict['nom_cat'] = np.setdiff1d(annot_attr_azdias_values_dict['nom_cat'], 'CAMEO_DEU_2015')\n",
    "annot_attr_azdias_values_dict['ord_cat'] = np.setdiff1d(annot_attr_azdias_values_dict['ord_cat'], ['ALTER_HH', 'LP_STATUS_GROB'])\n",
    "annot_attr_azdias_values_dict['ord_cat'] = np.union1d(annot_attr_azdias_values_dict['ord_cat'], ['WOHNLAGE_neighborhood_quality'])\n",
    "annot_attr_azdias_values_dict['nom_cat'] = np.union1d(annot_attr_azdias_values_dict['nom_cat'], ['LP_life_stage', \\\n",
    "                                                                                                 'LP_fine_scale', \\\n",
    "                                                                                                 'PRAEGENDE_JUGENDJAHRE_dec', \\\n",
    "                                                                                                 'PRAEGENDE_JUGENDJAHRE_mov'])\n",
    "annot_attr_azdias_values_dict['num'] = np.setdiff1d(annot_attr_azdias_values_dict['num'], ['GEBURTSJAHR'])\n",
    "\n",
    "# calculate all type fo undocumented feature\n",
    "not_annot_attr_azdias_values = np.union1d(not_annot_attr_azdias_values, ['CAMEO_INTL_2015_wealth', 'CAMEO_INTL_2015_family'])\n",
    "\n",
    "not_annot_attr_azdias_values_dict['unused'] = np.union1d(not_annot_attr_azdias_values_dict['unused'], not_annot_attr_azdias_values_dict['mix_cat'])\n",
    "not_annot_attr_azdias_values_dict['unused'] = np.union1d(not_annot_attr_azdias_values_dict['unused'], ['D19_LETZTER_KAUF_BRANCHE', 'EINGEFUEGT_AM', 'VERDICHTUNGSRAUM', 'ANZ_STATISTISCHE_HAUSHALTE'])\n",
    "not_annot_attr_azdias_values_dict['unused'] = np.union1d(not_annot_attr_azdias_values_dict['unused'], ['ALTERSKATEGORIE_FEIN', 'EINGEZOGENAM_HH_JAHR'])                                                 \n",
    "not_annot_attr_azdias_values_dict['mix_cat'] = np.array([])\n",
    "not_annot_attr_azdias_values_dict['nom_cat'] = np.setdiff1d(not_annot_attr_azdias_values_dict['nom_cat'], ['D19_LETZTER_KAUF_BRANCHE', 'EINGEFUEGT_AM', 'VERDICHTUNGSRAUM'])\n",
    "not_annot_attr_azdias_values_dict['ord_cat'] = np.setdiff1d(not_annot_attr_azdias_values_dict['ord_cat'], ['ALTERSKATEGORIE_FEIN', 'EINGEZOGENAM_HH_JAHR'])\n",
    "not_annot_attr_azdias_values_dict['nom_cat'] = np.union1d(not_annot_attr_azdias_values_dict['nom_cat'], ['CAMEO_INTL_2015_wealth', 'CAMEO_INTL_2015_family'])\n",
    "not_annot_attr_azdias_values_dict['num'] = np.union1d(not_annot_attr_azdias_values_dict['num'], ['ANZ_STATISTISCHE_HAUSHALTE'])"
   ]
  },
  {
   "cell_type": "code",
   "execution_count": 159,
   "metadata": {},
   "outputs": [],
   "source": [
    "# calculate all type fo documented feature\n",
    "annot_attr_azdias_values_dict['unused'] = np.union1d(annot_attr_azdias_values_dict['unused'], \\\n",
    "                                np.intersect1d(np.concatenate(list(annot_attr_azdias_values_dict.values())), new_azdias_df.columns[new_azdias_df.isnull().mean() > FEATURE_DROP_RATIO]))\n",
    "annot_attr_azdias_values_dict['bin_cat'] = np.setdiff1d(annot_attr_azdias_values_dict['bin_cat'], annot_attr_azdias_values_dict['unused'])\n",
    "annot_attr_azdias_values_dict['nom_cat'] = np.setdiff1d(annot_attr_azdias_values_dict['nom_cat'], annot_attr_azdias_values_dict['unused'])\n",
    "annot_attr_azdias_values_dict['ord_cat'] = np.setdiff1d(annot_attr_azdias_values_dict['ord_cat'], annot_attr_azdias_values_dict['unused'])\n",
    "annot_attr_azdias_values_dict['mix_cat'] = np.setdiff1d(annot_attr_azdias_values_dict['mix_cat'], annot_attr_azdias_values_dict['unused'])\n",
    "annot_attr_azdias_values_dict['num'] = np.setdiff1d(annot_attr_azdias_values_dict['num'], annot_attr_azdias_values_dict['unused'])"
   ]
  },
  {
   "cell_type": "code",
   "execution_count": 160,
   "metadata": {},
   "outputs": [],
   "source": [
    "# calculate all type fo undocumented feature\n",
    "not_annot_attr_azdias_values_dict['unused'] = np.union1d(not_annot_attr_azdias_values_dict['unused'], \\\n",
    "                                np.intersect1d(np.concatenate(list(not_annot_attr_azdias_values_dict.values())), new_azdias_df.columns[new_azdias_df.isnull().mean() > FEATURE_DROP_RATIO]))\n",
    "not_annot_attr_azdias_values_dict['bin_cat'] = np.setdiff1d(not_annot_attr_azdias_values_dict['bin_cat'], not_annot_attr_azdias_values_dict['unused'])\n",
    "not_annot_attr_azdias_values_dict['nom_cat'] = np.setdiff1d(not_annot_attr_azdias_values_dict['nom_cat'], not_annot_attr_azdias_values_dict['unused'])\n",
    "not_annot_attr_azdias_values_dict['ord_cat'] = np.setdiff1d(not_annot_attr_azdias_values_dict['ord_cat'], not_annot_attr_azdias_values_dict['unused'])\n",
    "not_annot_attr_azdias_values_dict['mix_cat'] = np.setdiff1d(not_annot_attr_azdias_values_dict['mix_cat'], not_annot_attr_azdias_values_dict['unused'])\n",
    "not_annot_attr_azdias_values_dict['num'] = np.setdiff1d(not_annot_attr_azdias_values_dict['num'], not_annot_attr_azdias_values_dict['unused'])"
   ]
  },
  {
   "cell_type": "code",
   "execution_count": 161,
   "metadata": {
    "collapsed": true
   },
   "outputs": [],
   "source": [
    "assert annot_attr_azdias_values.size == annot_attr_azdias_values_dict['bin_cat'].size \\\n",
    "                                        + annot_attr_azdias_values_dict['nom_cat'].size \\\n",
    "                                        + annot_attr_azdias_values_dict['ord_cat'].size \\\n",
    "                                        + annot_attr_azdias_values_dict['mix_cat'].size \\\n",
    "                                        + annot_attr_azdias_values_dict['num'].size \\\n",
    "                                        + annot_attr_azdias_values_dict['unused'].size"
   ]
  },
  {
   "cell_type": "code",
   "execution_count": 162,
   "metadata": {
    "collapsed": true
   },
   "outputs": [],
   "source": [
    "assert not_annot_attr_azdias_values.size == not_annot_attr_azdias_values_dict['bin_cat'].size \\\n",
    "                                            + not_annot_attr_azdias_values_dict['nom_cat'].size \\\n",
    "                                            + not_annot_attr_azdias_values_dict['ord_cat'].size \\\n",
    "                                            + not_annot_attr_azdias_values_dict['mix_cat'].size \\\n",
    "                                            + not_annot_attr_azdias_values_dict['num'].size \\\n",
    "                                            + not_annot_attr_azdias_values_dict['unused'].size"
   ]
  },
  {
   "cell_type": "markdown",
   "metadata": {},
   "source": [
    "Move LNR as index to preserve information for segmentation and modeling usage"
   ]
  },
  {
   "cell_type": "code",
   "execution_count": 163,
   "metadata": {},
   "outputs": [],
   "source": [
    "new_azdias_df.set_index('LNR', inplace=True)\n",
    "new_customers_df.set_index('LNR', inplace=True)"
   ]
  },
  {
   "cell_type": "code",
   "execution_count": 164,
   "metadata": {
    "collapsed": true
   },
   "outputs": [],
   "source": [
    "def drop(df, annot_dict=annot_attr_azdias_values_dict, not_annot_dict=not_annot_attr_azdias_values_dict):\n",
    "    '''\n",
    "    INPUT:\n",
    "    df - pandas dataframe\n",
    "    annot_dict - dictionary to hold all type of annotated features\n",
    "    not_annot_dict - dictionary to hold all type of un-annotated features\n",
    "    \n",
    "    OUTPUT:\n",
    "    df - pandas dataframe\n",
    "    \n",
    "    Description: Drop unused features.\n",
    "    '''  \n",
    "    ## drop ferature\n",
    "    cols = [v for k in annot_dict.keys() for v in annot_dict[k]]\n",
    "    cols += [v for k in not_annot_dict.keys() for v in not_annot_dict[k]]\n",
    "    cols = np.setdiff1d(cols, annot_dict['unused'])\n",
    "    cols = np.setdiff1d(cols, not_annot_dict['unused'])\n",
    "    df = df[cols]\n",
    "    \n",
    "    return df"
   ]
  },
  {
   "cell_type": "code",
   "execution_count": 165,
   "metadata": {
    "collapsed": true
   },
   "outputs": [],
   "source": [
    "# Drop unused features\n",
    "new_azdias_df = drop(new_azdias_df, annot_dict=annot_attr_azdias_values_dict, not_annot_dict=not_annot_attr_azdias_values_dict)\n",
    "new_customers_df = drop(new_customers_df, annot_dict=annot_attr_azdias_values_dict, not_annot_dict=not_annot_attr_azdias_values_dict)"
   ]
  },
  {
   "cell_type": "code",
   "execution_count": 166,
   "metadata": {},
   "outputs": [
    {
     "data": {
      "image/png": "[encoded data removed]",
      "text/plain": [
       "<Figure size 720x360 with 2 Axes>"
      ]
     },
     "metadata": {
      "needs_background": "light"
     },
     "output_type": "display_data"
    }
   ],
   "source": [
    "plt.figure(figsize = [10, 5])\n",
    "\n",
    "plt.subplot(1, 2, 1)\n",
    "plt.hist((new_customers_df.isnull().mean(), new_azdias_df.isnull().mean()), label=['customer', 'general population'])\n",
    "plt.xlabel('Missing value - sample %')\n",
    "plt.ylabel('feature')\n",
    "plt.legend()\n",
    "\n",
    "plt.subplot(1, 2, 2)\n",
    "plt.hist((new_customers_df.isnull().mean(axis=1), new_azdias_df.isnull().mean(axis=1)), label=['customer', 'general population'])\n",
    "plt.xlabel('Missing value - feature %')\n",
    "plt.ylabel('sample')\n",
    "plt.legend()\n",
    "\n",
    "plt.tight_layout()\n",
    "plt.show()"
   ]
  },
  {
   "cell_type": "code",
   "execution_count": 167,
   "metadata": {},
   "outputs": [],
   "source": [
    "if DEBUG:\n",
    "    new_azdias_df.to_pickle('new_azdias_df_drop.pickle')\n",
    "    new_customers_df.to_pickle('new_customers_df_drop.pickle')"
   ]
  },
  {
   "cell_type": "code",
   "execution_count": 168,
   "metadata": {},
   "outputs": [],
   "source": [
    "if DEBUG:\n",
    "    new_azdias_df = pd.read_pickle(\"new_azdias_df_drop.pickle\")\n",
    "    new_customers_df = pd.read_pickle(\"new_customers_df_drop.pickle\")"
   ]
  },
  {
   "cell_type": "code",
   "execution_count": 169,
   "metadata": {
    "collapsed": true
   },
   "outputs": [],
   "source": [
    "def log_transform(df, cols):\n",
    "    '''\n",
    "    INPUT:\n",
    "    df - pandas dataframe\n",
    "    cols - log transfer comlumns.\n",
    "    \n",
    "    OUTPUT:\n",
    "    df - pandas dataframe\n",
    "    \n",
    "    Description: Normalize quantitative feature with log transfor.\n",
    "    '''\n",
    "    for col in cols:\n",
    "        if col == 'MIN_GEBAEUDEJAHR':\n",
    "            df[col] = np.log1p(df[col] - df[col].min())\n",
    "        else:\n",
    "            df[col] = np.log1p(df[col])\n",
    "    \n",
    "    return df"
   ]
  },
  {
   "cell_type": "code",
   "execution_count": 170,
   "metadata": {},
   "outputs": [
    {
     "data": {
      "text/plain": [
       "array(['ANZ_HAUSHALTE_AKTIV', 'ANZ_HH_TITEL', 'ANZ_PERSONEN', 'ANZ_TITEL'],\n",
       "      dtype='<U19')"
      ]
     },
     "execution_count": 170,
     "metadata": {},
     "output_type": "execute_result"
    }
   ],
   "source": [
    "log_cols = np.array(['ANZ_HAUSHALTE_AKTIV', 'ANZ_HH_TITEL', 'ANZ_PERSONEN', 'ANZ_TITEL'])\n",
    "log_cols"
   ]
  },
  {
   "cell_type": "code",
   "execution_count": 171,
   "metadata": {},
   "outputs": [
    {
     "data": {
      "image/png": "[encoded data removed]",
      "text/plain": [
       "<Figure size 432x288 with 4 Axes>"
      ]
     },
     "metadata": {
      "needs_background": "light"
     },
     "output_type": "display_data"
    }
   ],
   "source": [
    "for i in range(log_cols.size):\n",
    "    ax = plt.subplot(3, 3, i+1)\n",
    "    new_azdias_df[log_cols[i]].hist(ax=ax)\n",
    "    plt.title(log_cols[i])\n",
    "\n",
    "plt.tight_layout()\n",
    "plt.show()"
   ]
  },
  {
   "cell_type": "code",
   "execution_count": 172,
   "metadata": {
    "collapsed": true
   },
   "outputs": [
    {
     "name": "stderr",
     "output_type": "stream",
     "text": [
      "/home/fc/anaconda3/lib/python3.7/site-packages/ipykernel_launcher.py:16: RuntimeWarning: invalid value encountered in log1p\n",
      "  app.launch_new_instance()\n"
     ]
    }
   ],
   "source": [
    "# log transfer comlumns\n",
    "new_azdias_df = log_transform(new_azdias_df, log_cols)"
   ]
  },
  {
   "cell_type": "code",
   "execution_count": 173,
   "metadata": {},
   "outputs": [
    {
     "data": {
      "image/png": "[encoded data removed]",
      "text/plain": [
       "<Figure size 432x288 with 4 Axes>"
      ]
     },
     "metadata": {
      "needs_background": "light"
     },
     "output_type": "display_data"
    }
   ],
   "source": [
    "for i in range(log_cols.size):\n",
    "    ax = plt.subplot(3, 3, i+1)\n",
    "    new_azdias_df[log_cols[i]].hist(ax=ax)\n",
    "    plt.title(log_cols[i])\n",
    "\n",
    "plt.tight_layout()\n",
    "plt.show()"
   ]
  },
  {
   "cell_type": "code",
   "execution_count": 174,
   "metadata": {
    "collapsed": true
   },
   "outputs": [
    {
     "name": "stderr",
     "output_type": "stream",
     "text": [
      "/home/fc/anaconda3/lib/python3.7/site-packages/ipykernel_launcher.py:16: RuntimeWarning: invalid value encountered in log1p\n",
      "  app.launch_new_instance()\n"
     ]
    }
   ],
   "source": [
    "# log transfer comlumns\n",
    "new_customers_df = log_transform(new_customers_df, log_cols)"
   ]
  },
  {
   "cell_type": "code",
   "execution_count": 175,
   "metadata": {},
   "outputs": [],
   "source": [
    "if DEBUG:\n",
    "    new_azdias_df.to_pickle('new_azdias_df_log.pickle')\n",
    "    new_customers_df.to_pickle('new_customers_df_log.pickle')"
   ]
  },
  {
   "cell_type": "code",
   "execution_count": 176,
   "metadata": {},
   "outputs": [],
   "source": [
    "if DEBUG:\n",
    "    new_azdias_df = pd.read_pickle(\"new_azdias_df_log.pickle\")\n",
    "    new_customers_df = pd.read_pickle(\"new_customers_df_log.pickle\")"
   ]
  },
  {
   "cell_type": "code",
   "execution_count": 177,
   "metadata": {},
   "outputs": [],
   "source": [
    "def cap_outlier(df, cols):\n",
    "    '''\n",
    "    INPUT:\n",
    "    df - pandas dataframe\n",
    "    cols - find outlier columns\n",
    "    ratio - ratio feature are all outlier will be considered as true outlier\n",
    "    \n",
    "    OUTPUT:\n",
    "    df - pandas dataframe\n",
    "    \n",
    "    Description: Capping the outlier rows with Percentiles.\n",
    "    '''\n",
    "    outliers  = pd.Series([])\n",
    "    sol = []\n",
    "    \n",
    "    i = 0\n",
    "\n",
    "    # For each feature find the data points with extreme high or low values\n",
    "    for col in cols:\n",
    "        #Capping the outlier rows with Percentiles\n",
    "        upper_lim = df[col].quantile(.95)\n",
    "        lower_lim = df[col].quantile(.05)\n",
    "        \n",
    "        df.loc[(df[col] > upper_lim),col] = upper_lim\n",
    "        df.loc[(df[col] < lower_lim),col] = lower_lim\n",
    "\n",
    "    \n",
    "    return df"
   ]
  },
  {
   "cell_type": "code",
   "execution_count": 178,
   "metadata": {},
   "outputs": [
    {
     "data": {
      "text/plain": [
       "array(['ANZ_HAUSHALTE_AKTIV', 'ANZ_HH_TITEL', 'ANZ_PERSONEN', 'ANZ_TITEL',\n",
       "       'KBA13_ANZAHL_PKW', 'MIN_GEBAEUDEJAHR'], dtype=object)"
      ]
     },
     "execution_count": 178,
     "metadata": {},
     "output_type": "execute_result"
    }
   ],
   "source": [
    "num_cols = np.union1d(annot_attr_azdias_values_dict['num'], not_annot_attr_azdias_values_dict['num'])\n",
    "num_cols"
   ]
  },
  {
   "cell_type": "code",
   "execution_count": 179,
   "metadata": {},
   "outputs": [
    {
     "data": {
      "image/png": "[encoded data removed]",
      "text/plain": [
       "<Figure size 432x288 with 6 Axes>"
      ]
     },
     "metadata": {
      "needs_background": "light"
     },
     "output_type": "display_data"
    }
   ],
   "source": [
    "for i, col in enumerate(num_cols):\n",
    "    ax = plt.subplot(3, 3, i+1)\n",
    "    new_azdias_df[col].hist(ax=ax)\n",
    "    plt.title(col)\n",
    "\n",
    "plt.tight_layout()\n",
    "plt.show()"
   ]
  },
  {
   "cell_type": "code",
   "execution_count": 180,
   "metadata": {},
   "outputs": [],
   "source": [
    "# Capping the outlier rows with Percentiles\n",
    "new_azdias_df = cap_outlier(new_azdias_df, num_cols)"
   ]
  },
  {
   "cell_type": "code",
   "execution_count": 181,
   "metadata": {},
   "outputs": [
    {
     "data": {
      "image/png": "[encoded data removed]",
      "text/plain": [
       "<Figure size 432x288 with 6 Axes>"
      ]
     },
     "metadata": {
      "needs_background": "light"
     },
     "output_type": "display_data"
    }
   ],
   "source": [
    "for i, col in enumerate(num_cols):\n",
    "    ax = plt.subplot(3, 3, i+1)\n",
    "    new_azdias_df[col].hist(ax=ax)\n",
    "    plt.title(col)\n",
    "\n",
    "plt.tight_layout()\n",
    "plt.show()"
   ]
  },
  {
   "cell_type": "code",
   "execution_count": 182,
   "metadata": {},
   "outputs": [],
   "source": [
    "# Capping the outlier rows with Percentiles\n",
    "new_customers_df = cap_outlier(new_customers_df, num_cols)"
   ]
  },
  {
   "cell_type": "code",
   "execution_count": 183,
   "metadata": {},
   "outputs": [],
   "source": [
    "if DEBUG:\n",
    "    new_azdias_df.to_pickle('new_azdias_df_outlier.pickle')\n",
    "    new_customers_df.to_pickle('new_customers_df_outlier.pickle')"
   ]
  },
  {
   "cell_type": "code",
   "execution_count": 184,
   "metadata": {},
   "outputs": [],
   "source": [
    "if DEBUG:\n",
    "    new_azdias_df = pd.read_pickle(\"new_azdias_df_outlier.pickle\")\n",
    "    new_customers_df = pd.read_pickle(\"new_customers_df_outlier.pickle\")"
   ]
  },
  {
   "cell_type": "code",
   "execution_count": 185,
   "metadata": {},
   "outputs": [],
   "source": [
    "def cover(population_df, sample_df, annot_dict=annot_attr_azdias_values_dict, not_annot_dict=not_annot_attr_azdias_values_dict):\n",
    "    '''\n",
    "    INPUT:\n",
    "    population_df - pandas dataframe for general population\n",
    "    sample_df - pandas dataframe for sample\n",
    "    annot_dict - dictionary to hold all type of annotated features\n",
    "    not_annot_dict - dictionary to hold all type of un-annotated features\n",
    "    \n",
    "    Description: Scan feature overlay with population and sample.\n",
    "    '''\n",
    "    for col in population_df.columns:\n",
    "        if col in sample_df:\n",
    "            if not np.isin(col, np.union1d(annot_dict['num'], not_annot_dict['num'])):       \n",
    "                population_v = population_df[col].dropna().unique()\n",
    "                sample_v = sample_df[col].dropna().unique()\n",
    "\n",
    "                # value only in population\n",
    "                diff_population_v = np.setdiff1d(population_v, sample_v)\n",
    "                # value only in sample\n",
    "                diff_sample_v = np.setdiff1d(sample_v, population_v)\n",
    "\n",
    "                if diff_sample_v.size > 0:\n",
    "                    print('{} have value only in sample : {} -> drop'.format(col, diff_sample_v))\n",
    "                    sample_df.loc[sample_df[col].isin(diff_sample_v), col] = np.nan\n",
    "                    \n",
    "                if col in annot_dict['nom_cat'].tolist()+not_annot_dict['nom_cat'].tolist():\n",
    "                    if diff_population_v.size > 0:\n",
    "                        print('nom_cat type {} have value only in population : {} -> drop'.format(col, diff_population_v))\n",
    "                        population_df.loc[population_df[col].isin(diff_population_v), col] = np.nan\n",
    "\n",
    "            else:\n",
    "                # max value of population\n",
    "                max_population_v = population_df[col].dropna().max()\n",
    "                # min value of population\n",
    "                min_population_v = population_df[col].dropna().min()\n",
    "\n",
    "                # max value of sample\n",
    "                max_sample_v = sample_df[col].dropna().max()\n",
    "                # min value of sample\n",
    "                min_sample_v = sample_df[col].dropna().min()\n",
    "\n",
    "                if min_population_v > min_sample_v:\n",
    "                    print('{} in general population have min value: {} larger than sample: {} -> drop'.format(col, min_population_v, min_sample_v))\n",
    "                    sample_df.loc[sample_df[col] < min_population_v, col] = np.nan\n",
    "                if max_population_v < max_sample_v:\n",
    "                    print('{} in general population have max value: {} smaller than sample: {} -> drop'.format(col, max_population_v, max_sample_v))\n",
    "                    sample_df.loc[sample_df[col] > max_population_v, col] = np.nan"
   ]
  },
  {
   "cell_type": "code",
   "execution_count": 186,
   "metadata": {},
   "outputs": [
    {
     "name": "stdout",
     "output_type": "stream",
     "text": [
      "ANZ_PERSONEN in general population have max value: 1.6094379124341003 smaller than sample: 1.791759469228055 -> drop\n",
      "nom_cat type GEBAEUDETYP have value only in population : [5.] -> drop\n",
      "KBA13_ANZAHL_PKW in general population have max value: 1300.0 smaller than sample: 1400.0 -> drop\n"
     ]
    }
   ],
   "source": [
    "# Scan feature overlay with population and sample\n",
    "cover(new_azdias_df, new_customers_df)"
   ]
  },
  {
   "cell_type": "code",
   "execution_count": 187,
   "metadata": {
    "collapsed": true
   },
   "outputs": [],
   "source": [
    "def fillna(df, annot_dict=annot_attr_azdias_values_dict, not_annot_dict=not_annot_attr_azdias_values_dict):\n",
    "    '''\n",
    "    INPUT:\n",
    "    df - pandas dataframe\n",
    "    annot_dict - dictionary to hold all type of annotated features\n",
    "    not_annot_dict - dictionary to hold all type of un-annotated features\n",
    "    \n",
    "    OUTPUT:\n",
    "    df - pandas dataframe\n",
    "    \n",
    "    Description: Fill every NA field a value. Categorical feature: maximum occurred value, Quantitative feature: median\n",
    "    '''\n",
    "    cat_cols = annot_dict['bin_cat'].tolist() + not_annot_dict['bin_cat'].tolist() \\\n",
    "                + annot_dict['nom_cat'].tolist() + not_annot_dict['nom_cat'].tolist() \\\n",
    "                + annot_dict['ord_cat'].tolist() + not_annot_dict['ord_cat'].tolist()\n",
    "    for col in df.columns:\n",
    "        if col in cat_cols:\n",
    "            # cztegorical feature\n",
    "            # Max fill function for categorical\n",
    "            df[col] = df[col].fillna(df[col].value_counts().idxmax())\n",
    "            \n",
    "        else:\n",
    "            # quantitaive feature\n",
    "            # Filling missing values with medians of the columns\n",
    "            df[col] = df[col].fillna(df[col].median())\n",
    "    return df"
   ]
  },
  {
   "cell_type": "code",
   "execution_count": 188,
   "metadata": {
    "collapsed": true
   },
   "outputs": [],
   "source": [
    "# Fill every NA field a value. Categorical feature: maximum occurred value,, Quantitative feature: median\n",
    "new_azdias_df = fillna(new_azdias_df)\n",
    "\n",
    "# for clean_data cover() usage\n",
    "template_new_azdias_df = new_azdias_df.copy()"
   ]
  },
  {
   "cell_type": "code",
   "execution_count": 189,
   "metadata": {
    "collapsed": true
   },
   "outputs": [],
   "source": [
    "# Fill every NA field a value. Categorical feature: maximum occurred value,, Quantitative feature: median\n",
    "new_customers_df = fillna(new_customers_df)"
   ]
  },
  {
   "cell_type": "code",
   "execution_count": 190,
   "metadata": {
    "collapsed": true
   },
   "outputs": [],
   "source": [
    "assert new_azdias_df.isnull().mean().sum() == 0"
   ]
  },
  {
   "cell_type": "code",
   "execution_count": 191,
   "metadata": {
    "collapsed": true
   },
   "outputs": [],
   "source": [
    "def onehot(df, cols):\n",
    "    '''\n",
    "    INPUT:\n",
    "    df - pandas dataframe\n",
    "    cols - columns to perform one-hot encoding\n",
    "    \n",
    "    OUTPUT:\n",
    "    df - pandas dataframe\n",
    "    \n",
    "    Description: Apply one-hot encoding aming nominal categorical features.\n",
    "    '''\n",
    "    for col in cols:\n",
    "        dummy_df = pd.get_dummies(df[col], prefix=col, prefix_sep='_')\n",
    "        \n",
    "        # for each cat add dummy var, drop original column\n",
    "        df = pd.concat([df.drop(col, axis=1), dummy_df], axis=1)\n",
    "    \n",
    "    return df"
   ]
  },
  {
   "cell_type": "code",
   "execution_count": 192,
   "metadata": {},
   "outputs": [
    {
     "data": {
      "text/plain": [
       "array(['CAMEO_DEUG_2015', 'CAMEO_INTL_2015_family',\n",
       "       'CAMEO_INTL_2015_wealth', 'CJT_GESAMTTYP', 'D19_KONSUMTYP',\n",
       "       'FINANZTYP', 'GEBAEUDETYP', 'GEMEINDETYP', 'GFK_URLAUBERTYP',\n",
       "       'HEALTH_TYP', 'LP_FAMILIE_FEIN', 'LP_FAMILIE_GROB',\n",
       "       'LP_fine_scale', 'LP_life_stage', 'NATIONALITAET_KZ',\n",
       "       'PRAEGENDE_JUGENDJAHRE_dec', 'PRAEGENDE_JUGENDJAHRE_mov',\n",
       "       'SHOPPER_TYP', 'VK_DHT4A', 'ZABEOTYP'], dtype=object)"
      ]
     },
     "execution_count": 192,
     "metadata": {},
     "output_type": "execute_result"
    }
   ],
   "source": [
    "onehot_cols = np.union1d(annot_attr_azdias_values_dict['nom_cat'], not_annot_attr_azdias_values_dict['nom_cat'])\n",
    "onehot_cols"
   ]
  },
  {
   "cell_type": "code",
   "execution_count": 193,
   "metadata": {},
   "outputs": [
    {
     "data": {
      "text/plain": [
       "(891221, 306)"
      ]
     },
     "execution_count": 193,
     "metadata": {},
     "output_type": "execute_result"
    }
   ],
   "source": [
    "new_azdias_df.shape"
   ]
  },
  {
   "cell_type": "code",
   "execution_count": 194,
   "metadata": {
    "collapsed": true
   },
   "outputs": [],
   "source": [
    "# Apply one-hot encoding aming nominal categorical features\n",
    "new_azdias_df = onehot(new_azdias_df, onehot_cols)"
   ]
  },
  {
   "cell_type": "code",
   "execution_count": 195,
   "metadata": {},
   "outputs": [
    {
     "data": {
      "text/plain": [
       "(891221, 408)"
      ]
     },
     "execution_count": 195,
     "metadata": {},
     "output_type": "execute_result"
    }
   ],
   "source": [
    "new_azdias_df.shape"
   ]
  },
  {
   "cell_type": "code",
   "execution_count": 196,
   "metadata": {
    "collapsed": true
   },
   "outputs": [],
   "source": [
    "# Apply one-hot encoding aming nominal categorical features\n",
    "new_customers_df = onehot(new_customers_df, onehot_cols)"
   ]
  },
  {
   "cell_type": "code",
   "execution_count": 197,
   "metadata": {},
   "outputs": [],
   "source": [
    "assert new_azdias_df.shape[1] == new_customers_df.shape[1]"
   ]
  },
  {
   "cell_type": "code",
   "execution_count": 198,
   "metadata": {},
   "outputs": [],
   "source": [
    "if DEBUG:\n",
    "    new_azdias_df.to_pickle('new_azdias_df_onehot.pickle')\n",
    "    new_customers_df.to_pickle('new_customers_df_onehot.pickle')"
   ]
  },
  {
   "cell_type": "markdown",
   "metadata": {},
   "source": [
    "### Put it all together\n",
    "\n",
    "Create a `clean_data` function to apply all steps of Data Preprocessing."
   ]
  },
  {
   "cell_type": "code",
   "execution_count": 199,
   "metadata": {
    "collapsed": true
   },
   "outputs": [],
   "source": [
    "def mix_cat(df):\n",
    "    '''\n",
    "    INPUT:\n",
    "    df - pandas dataframe\n",
    "    \n",
    "    OUTPUT:\n",
    "    df - pandas dataframe\n",
    "    \n",
    "    Description: Create mixed categorical feature to binary, nominal or ordinal categorical feature.\n",
    "    '''\n",
    "    # map LP_LEBENSPHASE_FEIN to LP_life_stage and LP_fine_scale\n",
    "    age_dict = {'younger_age': 0, 'middle_age': 1, 'advanced_age': 2, 'retirement_age': 3}\n",
    "    life_stage = {1: age_dict['younger_age'], 2: age_dict['middle_age'], 3: age_dict['younger_age'],\n",
    "                  4: age_dict['middle_age'], 5: age_dict['advanced_age'], 6: age_dict['retirement_age'],\n",
    "                  7: age_dict['advanced_age'], 8: age_dict['retirement_age'], 9: age_dict['middle_age'],\n",
    "                  10: age_dict['middle_age'], 11: age_dict['advanced_age'], 12: age_dict['retirement_age'],\n",
    "                  13: age_dict['advanced_age'], 14: age_dict['younger_age'], 15: age_dict['advanced_age'],\n",
    "                  16: age_dict['advanced_age'], 17: age_dict['middle_age'], 18: age_dict['younger_age'],\n",
    "                  19: age_dict['advanced_age'], 20: age_dict['advanced_age'], 21: age_dict['middle_age'],\n",
    "                  22: age_dict['middle_age'], 23: age_dict['middle_age'], 24: age_dict['middle_age'],\n",
    "                  25: age_dict['middle_age'], 26: age_dict['middle_age'], 27: age_dict['middle_age'],\n",
    "                  28: age_dict['middle_age'], 29: age_dict['younger_age'], 30: age_dict['younger_age'],\n",
    "                  31: age_dict['advanced_age'], 32: age_dict['advanced_age'], 33: age_dict['younger_age'],\n",
    "                  34: age_dict['younger_age'], 35: age_dict['younger_age'], 36: age_dict['advanced_age'],\n",
    "                  37: age_dict['advanced_age'], 38: age_dict['retirement_age'], 39: age_dict['middle_age'],\n",
    "                  40: age_dict['retirement_age']}\n",
    "    fine_dict = {'low': 0, 'average': 1, 'wealthy': 2, 'top': 3}                                                                                      \n",
    "    fine_scale = {1: fine_dict['low'], 2: fine_dict['low'], 3: fine_dict['average'], 4: fine_dict['average'], 5: fine_dict['low'], 6: fine_dict['low'],\n",
    "                  7: fine_dict['average'], 8: fine_dict['average'], 9: fine_dict['average'], 10: fine_dict['wealthy'], 11: fine_dict['average'],\n",
    "                  12: fine_dict['average'], 13: fine_dict['top'], 14: fine_dict['average'], 15: fine_dict['low'], 16: fine_dict['average'],\n",
    "                  17: fine_dict['average'], 18: fine_dict['wealthy'], 19: fine_dict['wealthy'], 20: fine_dict['top'], 21: fine_dict['low'],\n",
    "                  22: fine_dict['average'], 23: fine_dict['wealthy'], 24: fine_dict['low'], 25: fine_dict['average'], 26: fine_dict['average'],\n",
    "                  27: fine_dict['average'], 28: fine_dict['top'], 29: fine_dict['low'], 30: fine_dict['average'], 31: fine_dict['low'],\n",
    "                  32: fine_dict['average'], 33: fine_dict['average'], 34: fine_dict['average'], 35: fine_dict['top'], 36: fine_dict['average'],\n",
    "                  37: fine_dict['average'], 38: fine_dict['average'], 39: fine_dict['top'], 40: fine_dict['top']}\n",
    "    # create LP_life_stage and LP_fine_scale column\n",
    "    df['LP_life_stage'] = df['LP_LEBENSPHASE_FEIN'].map(life_stage)\n",
    "    df['LP_fine_scale'] = df['LP_LEBENSPHASE_FEIN'].map(fine_scale)\n",
    "    \n",
    "    # map PRAEGENDE_JUGENDJAHRE to PRAEGENDE_JUGENDJAHRE_dec and PRAEGENDE_JUGENDJAHRE_mov\n",
    "    # Map decade\n",
    "    dec_dic = {1: 40, 2: 40, 3: 50, 4: 50, 5: 60, 6: 60, 7: 60,\n",
    "               8: 70, 9: 70, 10: 80, 11: 80, 12: 80, 13: 80, 14: 90,\n",
    "               15: 90, np.nan: np.nan, -1: np.nan, 0: np.nan}\n",
    "    # Map mouvement\n",
    "    mov_dic = {1: 0, 2: 1, 3: 0, 4: 1, 5: 0, 6: 1, 7: 1, 8: 0,\n",
    "               9: 1, 10: 0, 11: 1, 12: 0, 13: 1, 14: 0, 15: 1,\n",
    "               np.nan: np.nan, -1: np.nan, 0: np.nan}\n",
    "    # create PRAEGENDE_JUGENDJAHRE_dec and PRAEGENDE_JUGENDJAHRE_mov column\n",
    "    df['PRAEGENDE_JUGENDJAHRE_dec'] = df['PRAEGENDE_JUGENDJAHRE'].map(dec_dic)\n",
    "    df['PRAEGENDE_JUGENDJAHRE_mov'] = df['PRAEGENDE_JUGENDJAHRE'].map(mov_dic)\n",
    "    \n",
    "    # map WOHNLAGE\n",
    "    rural_dict = {1:0, 2:0, 3:0, 4:0, 5:0, 7:1, 8:1}\n",
    "    # create WOHNLAGE_rural and WOHNLAGE_neighborhood_quality column\n",
    "    df['WOHNLAGE_rural'] = df['WOHNLAGE'].map(rural_dict)\n",
    "    df['WOHNLAGE_neighborhood_quality'] = df[(df['WOHNLAGE'] >= 0) & (df['WOHNLAGE'] < 7)]['WOHNLAGE']\n",
    "    \n",
    "    # map CAMEO_INTL_2015 to CAMEO_INTL_2015_wealth and CAMEO_INTL_2015_family\n",
    "    # create CAMEO_INTL_2015_wealth and CAMEO_INTL_2015_family column\n",
    "    df['CAMEO_INTL_2015_wealth'] = df['CAMEO_INTL_2015'].apply(lambda x: np.floor_divide(float(x), 10) if float(x) else np.nan)\n",
    "    df['CAMEO_INTL_2015_family'] = df['CAMEO_INTL_2015'].apply(lambda x: np.mod(float(x), 10) if float(x) else np.nan)\n",
    "    \n",
    "    return df"
   ]
  },
  {
   "cell_type": "code",
   "execution_count": 200,
   "metadata": {
    "collapsed": true
   },
   "outputs": [],
   "source": [
    "def clean_data(df):\n",
    "    '''\n",
    "    INPUT:\n",
    "    df - pandas dataframe\n",
    "    \n",
    "    OUTPUT:\n",
    "    df - pandas dataframe\n",
    "    \n",
    "    Description: data preprocessing for dataframe.\n",
    "    '''\n",
    "    if 'RESPONSE' in df:\n",
    "        not_annot_attr_azdias_values_dict['bin_cat'] = np.union1d(not_annot_attr_azdias_values_dict['bin_cat'], ['RESPONSE'])\n",
    "    else:\n",
    "        not_annot_attr_azdias_values_dict['bin_cat'] = np.setdiff1d(not_annot_attr_azdias_values_dict['bin_cat'], ['RESPONSE'])\n",
    "    \n",
    "    # Convert all unknown value to NA.\n",
    "    print('unknown2na...')\n",
    "    df = unknown2na(df)\n",
    "    \n",
    "    # Change undocumented value to NA. Try to match 'DIAS Attributes - Values 2017.xlsx' Value field.\n",
    "    print('formatit...')\n",
    "    df = formatit(df)\n",
    "    \n",
    "    # Create nom_cat column from mix_cat column.\n",
    "    clear_output(wait = False)\n",
    "    print('mix_cat...')\n",
    "    df = mix_cat(df)\n",
    "    \n",
    "    # More LNR as index\n",
    "    df.set_index('LNR', inplace=True)\n",
    "    \n",
    "    # Drop unused features.\n",
    "    print('drop...')\n",
    "    df = drop(df)\n",
    "    \n",
    "    # Normalize quantitative feature with log transfor\n",
    "    print('log_transform...')\n",
    "    cols = np.array(['ANZ_HAUSHALTE_AKTIV', 'ANZ_HH_TITEL', 'ANZ_PERSONEN', 'ANZ_TITEL'])\n",
    "    df = log_transform(df, cols)\n",
    "    \n",
    "    print('cap outlier...')\n",
    "    cols = num_cols\n",
    "    df = cap_outlier(df, cols)\n",
    "    \n",
    "    # Scan feature overlay with population and sample.\n",
    "    print('cover...')\n",
    "    new_azdias_df = template_new_azdias_df\n",
    "    cover(new_azdias_df, df)\n",
    "    \n",
    "    # Fill every NA field a value. Categorical feature: maximum occurred value, Quantitative feature: median\n",
    "    print('fillna...')\n",
    "    df = fillna(df)\n",
    "    \n",
    "    # Apply one-hot encoding aming nominal categorical features.\n",
    "    print('onehot...')\n",
    "    cols = np.union1d(annot_attr_azdias_values_dict['nom_cat'], not_annot_attr_azdias_values_dict['nom_cat'])\n",
    "    df = onehot(df, cols)\n",
    "    \n",
    "    print('clean_data successfully :)')\n",
    "    \n",
    "    return df"
   ]
  },
  {
   "cell_type": "markdown",
   "metadata": {},
   "source": [
    "## Part 1: Customer Segmentation Report\n",
    "\n",
    "The main bulk of your analysis will come in this part of the project. Here, you should use unsupervised learning techniques to describe the relationship between the demographics of the company's existing customers and the general population of Germany. By the end of this part, you should be able to describe parts of the general population that are more likely to be part of the mail-order company's main customer base, and which parts of the general population are less so."
   ]
  },
  {
   "cell_type": "markdown",
   "metadata": {},
   "source": [
    "#### What we want to do here ...\n",
    "In this section, we will first scaling the data from part 0, Apply PCA to reduce dimentionality. Cluster the data, and then remap to original space. Finally, compare the feature difference between target and non-target customer.\n",
    "\n",
    "* Feature Transformation\n",
    "    - Scaling\n",
    "    - PCA\n",
    "        - PCA: Use PCA to find how many components, `N_COMPONENTS`,will best describe total feature variance.\n",
    "        - Dimensionality Reduction: User `N_COMPONENTS` to create new simplified dataframe.\n",
    "* Clustering\n",
    "    - Identidy cluster: Use `MiniBatchKMeans` to fast find `N_CLUSTERS` for K-Meana algorithm.\n",
    "    - Create cluster: Apply K-Means with `N_CLUSTERS` to customer and general population,\n",
    "* Data Recovery\n",
    "    - Map `N cluster` to original space. Then, select 2 cluster as target, the most customer like, and non-target, the least customer like. Finally, compare over and under represented features between these 2 culsters.\n",
    "* Conclusion"
   ]
  },
  {
   "cell_type": "markdown",
   "metadata": {},
   "source": [
    "### Feature Transformation"
   ]
  },
  {
   "cell_type": "code",
   "execution_count": 201,
   "metadata": {
    "collapsed": true
   },
   "outputs": [],
   "source": [
    "if DEBUG:\n",
    "    new_customers_df = pd.read_pickle(\"new_customers_df_onehot.pickle\")\n",
    "    new_azdias_df = pd.read_pickle(\"new_azdias_df_onehot.pickle\")"
   ]
  },
  {
   "cell_type": "code",
   "execution_count": 202,
   "metadata": {},
   "outputs": [],
   "source": [
    "assert new_azdias_df.shape[1] == new_customers_df.shape[1]"
   ]
  },
  {
   "cell_type": "code",
   "execution_count": 203,
   "metadata": {},
   "outputs": [
    {
     "data": {
      "image/png": "[encoded data removed]",
      "text/plain": [
       "<Figure size 432x288 with 1 Axes>"
      ]
     },
     "metadata": {
      "needs_background": "light"
     },
     "output_type": "display_data"
    }
   ],
   "source": [
    "new_azdias_df.max().hist()\n",
    "plt.show()"
   ]
  },
  {
   "cell_type": "markdown",
   "metadata": {},
   "source": [
    "#### Scaling"
   ]
  },
  {
   "cell_type": "markdown",
   "metadata": {},
   "source": [
    "Perform StandardScaler to best handle outliers."
   ]
  },
  {
   "cell_type": "code",
   "execution_count": 204,
   "metadata": {},
   "outputs": [],
   "source": [
    "scaler = StandardScaler()"
   ]
  },
  {
   "cell_type": "code",
   "execution_count": 205,
   "metadata": {
    "collapsed": true
   },
   "outputs": [],
   "source": [
    "scaler_new_azdias_df = pd.DataFrame(scaler.fit_transform(new_azdias_df.values), columns=new_azdias_df.columns, index=new_azdias_df.index)\n",
    "scaler_new_customers_df = pd.DataFrame(scaler.fit_transform(new_customers_df.values), columns=new_customers_df.columns, index=new_customers_df.index)"
   ]
  },
  {
   "cell_type": "code",
   "execution_count": 206,
   "metadata": {},
   "outputs": [
    {
     "data": {
      "image/png": "[encoded data removed]",
      "text/plain": [
       "<Figure size 432x288 with 1 Axes>"
      ]
     },
     "metadata": {
      "needs_background": "light"
     },
     "output_type": "display_data"
    }
   ],
   "source": [
    "scaler_new_azdias_df.max().hist()\n",
    "plt.show()"
   ]
  },
  {
   "cell_type": "markdown",
   "metadata": {},
   "source": [
    "#### PCA\n",
    "\n",
    "What we want to do here ...\n",
    "\n",
    "* **PCA**: Use PCA to find how many components, `N_COMPONENTS`,will best describe total feature variance.\n",
    "* **Dimensionality Reduction**: User `N_COMPONENTS` to create new simplified dataframe."
   ]
  },
  {
   "cell_type": "code",
   "execution_count": null,
   "metadata": {
    "collapsed": true
   },
   "outputs": [],
   "source": [
    "# Apply PCA by fitting the good data with the same number of dimensions as features\n",
    "new_azdias_pca = PCA().fit(scaler_new_azdias_df)"
   ]
  },
  {
   "cell_type": "code",
   "execution_count": null,
   "metadata": {},
   "outputs": [],
   "source": [
    "def show_pca(pca):\n",
    "    \"\"\"    \n",
    "    INPUT:\n",
    "        pca: an sklearn.decomposition.pca.PCA object    \n",
    "    \n",
    "    OUTPUT:\n",
    "        None (visualizes a plot)\n",
    "    \n",
    "    DESCRIPTION:\n",
    "        Visualize the curves of the explained variance ratio for each component and the cumulative ratios\n",
    "    \"\"\"\n",
    "    num_components = len(pca.explained_variance_ratio_)\n",
    "    cumulative_ratios = np.zeros(len(pca.explained_variance_ratio_))\n",
    "    vals = pca.explained_variance_ratio_\n",
    "    ind = np.arange(num_components)\n",
    "    \n",
    "    for i in range(num_components):\n",
    "        cumulative_ratios[i]=np.sum(pca.explained_variance_ratio_[:i])\n",
    "        \n",
    "    plt.figure(figsize=(10,10))\n",
    "    ax = plt.subplot(111)\n",
    "    \n",
    "    plt.bar(x=np.arange(len(pca.explained_variance_ratio_)), height=pca.explained_variance_ratio_)\n",
    "    plt.plot(cumulative_ratios)\n",
    "    \n",
    "    for i in range(num_components):\n",
    "        ax.annotate(r\"%s%%\" % ((str(vals[i]*100)[:4])), (ind[i]+0.2, vals[i]),\n",
    "                    va=\"bottom\", ha=\"center\", fontsize=12)\n",
    "    plt.xlabel(\"Components\")\n",
    "    plt.ylabel(\"Explained Variance Ratio %\")\n",
    "    plt.title(\"PCA Components Explained Variance Ratios\")\n",
    "    plt.yticks(np.arange(0, 1, step=0.05))\n",
    "    plt.xticks(np.arange(0, len(pca.explained_variance_ratio_)+2, step=(len(pca.explained_variance_ratio_) // 20)))\n",
    "    plt.tick_params(axis='x', width=0)\n",
    "    plt.tick_params(axis='y', width=2, length=12)\n",
    "    plt.grid(linewidth=0.1)\n",
    "    plt.legend(['Cumulative', 'Variance Ratio'], loc='center right')\n",
    "    \n",
    "show_pca(new_azdias_pca)"
   ]
  },
  {
   "cell_type": "markdown",
   "metadata": {},
   "source": [
    "We can use first 200 principal component to cover 90% variance."
   ]
  },
  {
   "cell_type": "code",
   "execution_count": null,
   "metadata": {},
   "outputs": [],
   "source": [
    "sum(new_azdias_pca.explained_variance_ratio_[:200])"
   ]
  },
  {
   "cell_type": "code",
   "execution_count": null,
   "metadata": {
    "collapsed": true
   },
   "outputs": [],
   "source": [
    "# Map weights for the first principal component to corresponding feature names\n",
    "# and then print the linked values, sorted by weight.\n",
    "\n",
    "# Dimension indexing\n",
    "dimensions = dimensions = ['Dimension {}'.format(i) for i in range(1,len(new_azdias_pca.components_)+1)]\n",
    "\n",
    "# PCA components\n",
    "new_azdias_components_pca_df = pd.DataFrame(np.round(new_azdias_pca.components_, 4), columns = new_azdias_df.keys())\n",
    "new_azdias_components_pca_df.index = dimensions"
   ]
  },
  {
   "cell_type": "code",
   "execution_count": null,
   "metadata": {},
   "outputs": [],
   "source": [
    "new_azdias_components_pca_df.head()"
   ]
  },
  {
   "cell_type": "markdown",
   "metadata": {},
   "source": [
    "#### First principal component\n",
    "\n",
    "top 5 positive feature"
   ]
  },
  {
   "cell_type": "code",
   "execution_count": null,
   "metadata": {},
   "outputs": [],
   "source": [
    "top5_1st_pos = new_azdias_components_pca_df.iloc[0].sort_values(ascending=False)[:5]\n",
    "top5_1st_pos"
   ]
  },
  {
   "cell_type": "markdown",
   "metadata": {},
   "source": [
    "top 5 negative feature"
   ]
  },
  {
   "cell_type": "code",
   "execution_count": null,
   "metadata": {},
   "outputs": [],
   "source": [
    "top5_1st_neg = new_azdias_components_pca_df.iloc[0].sort_values(ascending=False)[-1:-6:-1]\n",
    "top5_1st_neg"
   ]
  },
  {
   "cell_type": "code",
   "execution_count": null,
   "metadata": {},
   "outputs": [],
   "source": [
    "plt.figure(figsize=(10,5))\n",
    "\n",
    "# top 5 positive feature\n",
    "plt.subplot(1,2,1)\n",
    "top5_1st_pos.sort_values(ascending=True).plot.barh()\n",
    "plt.title('top 5 positive')\n",
    "\n",
    "# top 5 negative feature\n",
    "plt.subplot(1,2,2)\n",
    "top5_1st_neg.sort_values(ascending=False).plot.barh()\n",
    "plt.title('top 5 negative')\n",
    "\n",
    "plt.tight_layout()\n",
    "plt.show()"
   ]
  },
  {
   "cell_type": "markdown",
   "metadata": {},
   "source": [
    "#### Second principal component\n",
    "\n",
    "top 5 positive feature"
   ]
  },
  {
   "cell_type": "code",
   "execution_count": null,
   "metadata": {},
   "outputs": [],
   "source": [
    "top5_2nd_pos = new_azdias_components_pca_df.iloc[1].sort_values(ascending=False)[:5]\n",
    "top5_2nd_pos"
   ]
  },
  {
   "cell_type": "markdown",
   "metadata": {},
   "source": [
    "tope 5 negative feature"
   ]
  },
  {
   "cell_type": "code",
   "execution_count": null,
   "metadata": {},
   "outputs": [],
   "source": [
    "top5_2nd_neg = new_azdias_components_pca_df.iloc[1].sort_values(ascending=False)[-1:-6:-1]\n",
    "top5_2nd_neg"
   ]
  },
  {
   "cell_type": "code",
   "execution_count": null,
   "metadata": {},
   "outputs": [],
   "source": [
    "plt.figure(figsize=(10,5))\n",
    "\n",
    "# top 5 positive feature\n",
    "plt.subplot(1,2,1)\n",
    "top5_2nd_pos.sort_values(ascending=True).plot.barh()\n",
    "\n",
    "# top 5 negative feature\n",
    "plt.subplot(1,2,2)\n",
    "top5_2nd_neg.sort_values(ascending=False).plot.barh()\n",
    "\n",
    "plt.tight_layout()\n",
    "plt.show()"
   ]
  },
  {
   "cell_type": "markdown",
   "metadata": {},
   "source": [
    "#### Third principal component\n",
    "\n",
    "top 5 positive feature"
   ]
  },
  {
   "cell_type": "code",
   "execution_count": null,
   "metadata": {},
   "outputs": [],
   "source": [
    "top5_3rd_pos = new_azdias_components_pca_df.iloc[2].sort_values(ascending=False)[:5]\n",
    "top5_3rd_pos"
   ]
  },
  {
   "cell_type": "markdown",
   "metadata": {},
   "source": [
    "tope 5 negative feature"
   ]
  },
  {
   "cell_type": "code",
   "execution_count": null,
   "metadata": {},
   "outputs": [],
   "source": [
    "top5_3rd_neg = new_azdias_components_pca_df.iloc[2].sort_values(ascending=False)[-1:-6:-1]\n",
    "top5_3rd_neg"
   ]
  },
  {
   "cell_type": "code",
   "execution_count": null,
   "metadata": {},
   "outputs": [],
   "source": [
    "plt.figure(figsize=(10,5))\n",
    "\n",
    "# top 5 positive feature\n",
    "plt.subplot(1,2,1)\n",
    "top5_3rd_pos.sort_values(ascending=True).plot.barh()\n",
    "\n",
    "# tope 5 negative feature\n",
    "plt.subplot(1,2,2)\n",
    "top5_3rd_neg.sort_values(ascending=False).plot.barh()\n",
    "\n",
    "plt.tight_layout()\n",
    "plt.show()"
   ]
  },
  {
   "cell_type": "markdown",
   "metadata": {},
   "source": [
    "#### Dimensionality Reduction\n",
    "\n",
    "User `N_COMPONENTS` to create new simplified dataframe."
   ]
  },
  {
   "cell_type": "code",
   "execution_count": null,
   "metadata": {
    "collapsed": true
   },
   "outputs": [],
   "source": [
    "N_COMPONENTS = 200 # first 200 principal component cover 95% variance.\n",
    "\n",
    "# Apply PCA by fitting the good data with only 200 dimensions\n",
    "new_azdias_pca = PCA(n_components=N_COMPONENTS).fit(scaler_new_azdias_df)\n",
    "\n",
    "# Transform the general population using the PCA fit above\n",
    "reduced_data_new_azdias = new_azdias_pca.transform(scaler_new_azdias_df)\n",
    "\n",
    "# Transform the customer using the PCA fit above\n",
    "reduced_data_new_customers = new_azdias_pca.transform(scaler_new_customers_df)\n",
    "\n",
    "# Create a DataFrame for the reduced data\n",
    "new_azdias_reduced_data_df = pd.DataFrame(reduced_data_new_azdias, columns = ['Dimension '+str(i) for i in range(1, N_COMPONENTS+1)])\n",
    "new_customers_reduced_data_df = pd.DataFrame(reduced_data_new_customers, columns = ['Dimension '+str(i) for i in range(1, N_COMPONENTS+1)])"
   ]
  },
  {
   "cell_type": "code",
   "execution_count": null,
   "metadata": {},
   "outputs": [],
   "source": [
    "new_azdias_reduced_data_df.head()"
   ]
  },
  {
   "cell_type": "markdown",
   "metadata": {},
   "source": [
    "### Clustering\n",
    "\n",
    "What we want to do here ...\n",
    "* **Identidy cluster**: Use MiniBatchKMeans to fast find `N_CLUSTERS` for K-Meana algorithm.\n",
    "* **Create cluster**: Apply K-Means with `N_CLUSTERS` to customer and general population,\n",
    "\n",
    "#### Identify cluster\n",
    "\n",
    "Use `MiniBatchKMeans` to fast find `N_CLUSTERS` for K-Meana algorithm."
   ]
  },
  {
   "cell_type": "code",
   "execution_count": null,
   "metadata": {
    "collapsed": true
   },
   "outputs": [],
   "source": [
    "# Over a number of different cluster counts...\n",
    "scores = []\n",
    "centers = list(range(1,31))\n",
    "for center in centers:\n",
    "    \n",
    "    # run MiniBatchKMeans clustering on the data\n",
    "    kmeans = MiniBatchKMeans(n_clusters=center, random_state=27)\n",
    "    model = kmeans.fit(reduced_data_new_azdias)\n",
    "    \n",
    "    # compute the average within-cluster distances.\n",
    "    score = np.abs(model.score(reduced_data_new_azdias))\n",
    "    scores.append(score)"
   ]
  },
  {
   "cell_type": "code",
   "execution_count": null,
   "metadata": {},
   "outputs": [],
   "source": [
    "# Investigate the change in within-cluster distance across number of clusters.\n",
    "\n",
    "plt.figure(figsize=(10, 5))\n",
    "ax = plt.subplot()\n",
    "plt.plot(centers, scores, linestyle='--', marker='o', color='b');\n",
    "plt.xlabel('K');\n",
    "plt.xticks(np.arange(1, 31, step=1))\n",
    "plt.ylabel('SSE');\n",
    "plt.title('SSE vs. K');"
   ]
  },
  {
   "cell_type": "markdown",
   "metadata": {},
   "source": [
    "#### Create cluster\n",
    "\n",
    "Apply K-Means with `N_CLUSTERS` to customer and general population,"
   ]
  },
  {
   "cell_type": "code",
   "execution_count": null,
   "metadata": {},
   "outputs": [],
   "source": [
    "# Re-fit the k-means model with the selected number of clusters and obtain\n",
    "# cluster predictions for the general population demographics data.\n",
    "N_CLUSTERS = 20  # After K = 20, SSE decrease is not so obvious\n",
    "\n",
    "kmeans = KMeans(n_clusters=N_CLUSTERS, random_state=27, n_jobs=N_JOBS)\n",
    "\n",
    "# train kmeans model\n",
    "model_kmeans = kmeans.fit(reduced_data_new_azdias)"
   ]
  },
  {
   "cell_type": "code",
   "execution_count": null,
   "metadata": {},
   "outputs": [],
   "source": [
    "# predict cluster of general population\n",
    "azdias_preds = model_kmeans.predict(reduced_data_new_azdias)"
   ]
  },
  {
   "cell_type": "code",
   "execution_count": null,
   "metadata": {},
   "outputs": [],
   "source": [
    "# pca reduced data with cluster information of general population\n",
    "cluster_new_azdias_reduced_data_df = new_azdias_reduced_data_df\n",
    "cluster_new_azdias_reduced_data_df['Cluster'] = azdias_preds # add cluster column\n",
    "cluster_new_azdias_reduced_data_df.head()"
   ]
  },
  {
   "cell_type": "code",
   "execution_count": null,
   "metadata": {
    "collapsed": true
   },
   "outputs": [],
   "source": [
    "# predict cluster of customer\n",
    "customers_preds = model_kmeans.predict(reduced_data_new_customers)"
   ]
  },
  {
   "cell_type": "code",
   "execution_count": null,
   "metadata": {},
   "outputs": [],
   "source": [
    "# pca reduced data with cluster information of customer\n",
    "cluster_new_customers_reduced_data_df = new_customers_reduced_data_df\n",
    "cluster_new_customers_reduced_data_df['Cluster'] = customers_preds  # add cluster column\n",
    "cluster_new_customers_reduced_data_df.head()"
   ]
  },
  {
   "cell_type": "code",
   "execution_count": null,
   "metadata": {},
   "outputs": [],
   "source": [
    "cluster_new_azdias_reduced_data_df.shape, cluster_new_customers_reduced_data_df.shape"
   ]
  },
  {
   "cell_type": "code",
   "execution_count": null,
   "metadata": {},
   "outputs": [],
   "source": [
    "plt.figure(figsize=(10, 5))\n",
    "\n",
    "# Customer vs General polulation Cluster distribution\n",
    "ax1 = plt.subplot(121)\n",
    "pd.DataFrame({'Customer': pd.Series(customers_preds).value_counts()/customers_preds.size, 'General Population': pd.Series(azdias_preds).value_counts()/azdias_preds.size}).plot.bar(rot=0, ax=ax1)\n",
    "plt.xlabel('cluster')\n",
    "plt.ylabel('%').set_rotation(0)\n",
    "plt.title('Customer vs General polulation Cluster distribution')\n",
    "\n",
    "# Customer vs General polulation Cluster difference\n",
    "ax2 = plt.subplot(122)\n",
    "_ = (pd.Series(customers_preds).value_counts()/customers_preds.size - pd.Series(azdias_preds).value_counts()/azdias_preds.size).sort_values()\n",
    "target_cluster = _.index[-1] # the most customer like clusters\n",
    "non_target_cluster = _.index[0] # the most customer like clusters\n",
    "_.plot.barh(ax=ax2)\n",
    "plt.xlabel('% difference')\n",
    "plt.ylabel('cluster')\n",
    "plt.title('Customer vs General polulation Cluster difference')\n",
    "\n",
    "plt.tight_layout()\n",
    "plt.show()"
   ]
  },
  {
   "cell_type": "code",
   "execution_count": null,
   "metadata": {},
   "outputs": [],
   "source": [
    "target_cluster, non_target_cluster"
   ]
  },
  {
   "cell_type": "markdown",
   "metadata": {},
   "source": [
    "### Data Recovery\n",
    "\n",
    "Map N cluster to original space. Then, select 2 cluster as target, for the most customer like, and non-target, the least customer like. Finally, compare over and under represented features between these 2 culsters."
   ]
  },
  {
   "cell_type": "code",
   "execution_count": null,
   "metadata": {},
   "outputs": [],
   "source": [
    "# add cluster and LNR to original data\n",
    "inv_cluster_new_azdias_reduced_data_df = new_azdias_pca.inverse_transform(cluster_new_azdias_reduced_data_df.drop('Cluster', axis=1))\n",
    "inv_cluster_new_azdias_reduced_data_df = pd.DataFrame(scaler.inverse_transform(inv_cluster_new_azdias_reduced_data_df), columns=new_azdias_df.columns)\n",
    "inv_cluster_new_azdias_reduced_data_df.set_index(new_azdias_df.index, inplace=True)  # add LNR column\n",
    "inv_cluster_new_azdias_reduced_data_df['Cluster'] = cluster_new_azdias_reduced_data_df['Cluster'].values  # add cluster column\n",
    "inv_cluster_new_azdias_reduced_data_df.reset_index(inplace=True)\n",
    "inv_cluster_new_azdias_reduced_data_df.head()"
   ]
  },
  {
   "cell_type": "code",
   "execution_count": null,
   "metadata": {},
   "outputs": [],
   "source": [
    "# add cluster and LNR to original data\n",
    "inv_cluster_new_customers_reduced_data_df = new_azdias_pca.inverse_transform(cluster_new_customers_reduced_data_df.drop('Cluster', axis=1))\n",
    "inv_cluster_new_customers_reduced_data_df = pd.DataFrame(scaler.inverse_transform(inv_cluster_new_customers_reduced_data_df), columns=new_customers_df.columns)\n",
    "inv_cluster_new_customers_reduced_data_df.set_index(new_customers_df.index, inplace=True)  # add LNR column\n",
    "inv_cluster_new_customers_reduced_data_df['Cluster'] = cluster_new_customers_reduced_data_df['Cluster'].values  # add cluster column\n",
    "inv_cluster_new_customers_reduced_data_df.reset_index(inplace=True)\n",
    "inv_cluster_new_customers_reduced_data_df.head()"
   ]
  },
  {
   "cell_type": "code",
   "execution_count": null,
   "metadata": {},
   "outputs": [],
   "source": [
    "# select cluster\n",
    "target_cluster_new_customers_df = inv_cluster_new_customers_reduced_data_df[inv_cluster_new_customers_reduced_data_df['Cluster'] == target_cluster]\n",
    "non_target_cluster_new_customers_df = inv_cluster_new_customers_reduced_data_df[inv_cluster_new_customers_reduced_data_df['Cluster'] == non_target_cluster]\n",
    "\n",
    "target_cluster_new_customers_df.shape, non_target_cluster_new_customers_df.shape"
   ]
  },
  {
   "cell_type": "code",
   "execution_count": null,
   "metadata": {
    "collapsed": true
   },
   "outputs": [],
   "source": [
    "# select feature to compare\n",
    "TARGET_COLUMNS = np.union1d(top5_1st_pos.index, top5_1st_neg.index)\n",
    "TARGET_COLUMNS = np.union1d(TARGET_COLUMNS, top5_2nd_pos.index)\n",
    "TARGET_COLUMNS = np.union1d(TARGET_COLUMNS, top5_2nd_neg.index)\n",
    "TARGET_COLUMNS = np.union1d(TARGET_COLUMNS, top5_3rd_pos.index)\n",
    "TARGET_COLUMNS = np.union1d(TARGET_COLUMNS, top5_3rd_neg.index)\n",
    "TARGET_COLUMNS = np.intersect1d(TARGET_COLUMNS, annot_attr_azdias_values)  # only get documented feature\n",
    "TARGET_COLUMNS"
   ]
  },
  {
   "cell_type": "code",
   "execution_count": null,
   "metadata": {},
   "outputs": [],
   "source": [
    "# find mean value to compare difference of each cluster\n",
    "target = target_cluster_new_customers_df[TARGET_COLUMNS].describe().loc['mean']\n",
    "non_target = non_target_cluster_new_customers_df[TARGET_COLUMNS].describe().loc['mean']\n",
    "\n",
    "# draw distribution bar chart\n",
    "cluster_df = pd.concat([target, non_target], axis=1)\n",
    "cluster_df.columns = ['Target', 'Non-target']\n",
    "plt.figure(figsize=(10, 10))\n",
    "ax1 = plt.subplot(211)\n",
    "cluster_df.plot.barh(ax=ax1)\n",
    "plt.title('Target vs Non-target customer top {} feature distribution'.format(len(TARGET_COLUMNS)))\n",
    "\n",
    "# draw difference bar chart\n",
    "ax2 = plt.subplot(212)\n",
    "(cluster_df['Target'] - cluster_df['Non-target']).sort_values().plot.barh(ax=ax2)\n",
    "plt.title('Target vs Non-target customer top {} feature difference'.format(len(TARGET_COLUMNS)))\n",
    "\n",
    "plt.tight_layout()\n",
    "plt.show()"
   ]
  },
  {
   "cell_type": "markdown",
   "metadata": {},
   "source": [
    "### Conclusion"
   ]
  },
  {
   "cell_type": "markdown",
   "metadata": {},
   "source": [
    "* From above we can somehow come out the customer face as: less than 25 year old, small car owner, low income, no household, traditional mind, no luxury car, don't like online purchase,\n",
    "* We already include LNR information in every cluster. Compony can send advertisement to most customer like general population."
   ]
  },
  {
   "cell_type": "markdown",
   "metadata": {},
   "source": [
    "## Part 2: Supervised Learning Model\n",
    "\n",
    "Now that you've found which parts of the population are more likely to be customers of the mail-order company, it's time to build a prediction model. Each of the rows in the \"MAILOUT\" data files represents an individual that was targeted for a mailout campaign. Ideally, we should be able to use the demographic information from each individual to decide whether or not it will be worth it to include that person in the campaign.\n",
    "\n",
    "The \"MAILOUT\" data has been split into two approximately equal parts, each with almost 43 000 data rows. In this part, you can verify your model with the \"TRAIN\" partition, which includes a column, \"RESPONSE\", that states whether or not a person became a customer of the company following the campaign. In the next part, you'll need to create predictions on the \"TEST\" partition, where the \"RESPONSE\" column has been withheld."
   ]
  },
  {
   "cell_type": "code",
   "execution_count": 207,
   "metadata": {
    "collapsed": true
   },
   "outputs": [
    {
     "name": "stderr",
     "output_type": "stream",
     "text": [
      "/home/fc/anaconda3/lib/python3.7/site-packages/IPython/core/interactiveshell.py:3049: DtypeWarning: Columns (18,19) have mixed types. Specify dtype option on import or set low_memory=False.\n",
      "  interactivity=interactivity, compiler=compiler, result=result)\n"
     ]
    }
   ],
   "source": [
    "mailout_train = pd.read_csv('arvato_data/Udacity_MAILOUT_052018_TRAIN.csv', sep=';')"
   ]
  },
  {
   "cell_type": "code",
   "execution_count": 208,
   "metadata": {
    "collapsed": true
   },
   "outputs": [
    {
     "data": {
      "text/html": [
       "<div>\n",
       "<style scoped>\n",
       "    .dataframe tbody tr th:only-of-type {\n",
       "        vertical-align: middle;\n",
       "    }\n",
       "\n",
       "    .dataframe tbody tr th {\n",
       "        vertical-align: top;\n",
       "    }\n",
       "\n",
       "    .dataframe thead th {\n",
       "        text-align: right;\n",
       "    }\n",
       "</style>\n",
       "<table border=\"1\" class=\"dataframe\">\n",
       "  <thead>\n",
       "    <tr style=\"text-align: right;\">\n",
       "      <th></th>\n",
       "      <th>LNR</th>\n",
       "      <th>AGER_TYP</th>\n",
       "      <th>AKT_DAT_KL</th>\n",
       "      <th>ALTER_HH</th>\n",
       "      <th>ALTER_KIND1</th>\n",
       "      <th>ALTER_KIND2</th>\n",
       "      <th>ALTER_KIND3</th>\n",
       "      <th>ALTER_KIND4</th>\n",
       "      <th>ALTERSKATEGORIE_FEIN</th>\n",
       "      <th>ANZ_HAUSHALTE_AKTIV</th>\n",
       "      <th>...</th>\n",
       "      <th>VK_DHT4A</th>\n",
       "      <th>VK_DISTANZ</th>\n",
       "      <th>VK_ZG11</th>\n",
       "      <th>W_KEIT_KIND_HH</th>\n",
       "      <th>WOHNDAUER_2008</th>\n",
       "      <th>WOHNLAGE</th>\n",
       "      <th>ZABEOTYP</th>\n",
       "      <th>RESPONSE</th>\n",
       "      <th>ANREDE_KZ</th>\n",
       "      <th>ALTERSKATEGORIE_GROB</th>\n",
       "    </tr>\n",
       "  </thead>\n",
       "  <tbody>\n",
       "    <tr>\n",
       "      <th>0</th>\n",
       "      <td>1763</td>\n",
       "      <td>2</td>\n",
       "      <td>1.0</td>\n",
       "      <td>8.0</td>\n",
       "      <td>NaN</td>\n",
       "      <td>NaN</td>\n",
       "      <td>NaN</td>\n",
       "      <td>NaN</td>\n",
       "      <td>8.0</td>\n",
       "      <td>15.0</td>\n",
       "      <td>...</td>\n",
       "      <td>5.0</td>\n",
       "      <td>2.0</td>\n",
       "      <td>1.0</td>\n",
       "      <td>6.0</td>\n",
       "      <td>9.0</td>\n",
       "      <td>3.0</td>\n",
       "      <td>3</td>\n",
       "      <td>0</td>\n",
       "      <td>2</td>\n",
       "      <td>4</td>\n",
       "    </tr>\n",
       "    <tr>\n",
       "      <th>1</th>\n",
       "      <td>1771</td>\n",
       "      <td>1</td>\n",
       "      <td>4.0</td>\n",
       "      <td>13.0</td>\n",
       "      <td>NaN</td>\n",
       "      <td>NaN</td>\n",
       "      <td>NaN</td>\n",
       "      <td>NaN</td>\n",
       "      <td>13.0</td>\n",
       "      <td>1.0</td>\n",
       "      <td>...</td>\n",
       "      <td>1.0</td>\n",
       "      <td>2.0</td>\n",
       "      <td>1.0</td>\n",
       "      <td>4.0</td>\n",
       "      <td>9.0</td>\n",
       "      <td>7.0</td>\n",
       "      <td>1</td>\n",
       "      <td>0</td>\n",
       "      <td>2</td>\n",
       "      <td>3</td>\n",
       "    </tr>\n",
       "    <tr>\n",
       "      <th>2</th>\n",
       "      <td>1776</td>\n",
       "      <td>1</td>\n",
       "      <td>1.0</td>\n",
       "      <td>9.0</td>\n",
       "      <td>NaN</td>\n",
       "      <td>NaN</td>\n",
       "      <td>NaN</td>\n",
       "      <td>NaN</td>\n",
       "      <td>7.0</td>\n",
       "      <td>0.0</td>\n",
       "      <td>...</td>\n",
       "      <td>6.0</td>\n",
       "      <td>4.0</td>\n",
       "      <td>2.0</td>\n",
       "      <td>NaN</td>\n",
       "      <td>9.0</td>\n",
       "      <td>2.0</td>\n",
       "      <td>3</td>\n",
       "      <td>0</td>\n",
       "      <td>1</td>\n",
       "      <td>4</td>\n",
       "    </tr>\n",
       "    <tr>\n",
       "      <th>3</th>\n",
       "      <td>1460</td>\n",
       "      <td>2</td>\n",
       "      <td>1.0</td>\n",
       "      <td>6.0</td>\n",
       "      <td>NaN</td>\n",
       "      <td>NaN</td>\n",
       "      <td>NaN</td>\n",
       "      <td>NaN</td>\n",
       "      <td>6.0</td>\n",
       "      <td>4.0</td>\n",
       "      <td>...</td>\n",
       "      <td>8.0</td>\n",
       "      <td>11.0</td>\n",
       "      <td>11.0</td>\n",
       "      <td>6.0</td>\n",
       "      <td>9.0</td>\n",
       "      <td>1.0</td>\n",
       "      <td>3</td>\n",
       "      <td>0</td>\n",
       "      <td>2</td>\n",
       "      <td>4</td>\n",
       "    </tr>\n",
       "    <tr>\n",
       "      <th>4</th>\n",
       "      <td>1783</td>\n",
       "      <td>2</td>\n",
       "      <td>1.0</td>\n",
       "      <td>9.0</td>\n",
       "      <td>NaN</td>\n",
       "      <td>NaN</td>\n",
       "      <td>NaN</td>\n",
       "      <td>NaN</td>\n",
       "      <td>9.0</td>\n",
       "      <td>53.0</td>\n",
       "      <td>...</td>\n",
       "      <td>2.0</td>\n",
       "      <td>2.0</td>\n",
       "      <td>1.0</td>\n",
       "      <td>6.0</td>\n",
       "      <td>9.0</td>\n",
       "      <td>3.0</td>\n",
       "      <td>3</td>\n",
       "      <td>0</td>\n",
       "      <td>1</td>\n",
       "      <td>3</td>\n",
       "    </tr>\n",
       "  </tbody>\n",
       "</table>\n",
       "<p>5 rows × 367 columns</p>\n",
       "</div>"
      ],
      "text/plain": [
       "    LNR  AGER_TYP  AKT_DAT_KL  ALTER_HH  ALTER_KIND1  ALTER_KIND2  \\\n",
       "0  1763         2         1.0       8.0          NaN          NaN   \n",
       "1  1771         1         4.0      13.0          NaN          NaN   \n",
       "2  1776         1         1.0       9.0          NaN          NaN   \n",
       "3  1460         2         1.0       6.0          NaN          NaN   \n",
       "4  1783         2         1.0       9.0          NaN          NaN   \n",
       "\n",
       "   ALTER_KIND3  ALTER_KIND4  ALTERSKATEGORIE_FEIN  ANZ_HAUSHALTE_AKTIV  ...  \\\n",
       "0          NaN          NaN                   8.0                 15.0  ...   \n",
       "1          NaN          NaN                  13.0                  1.0  ...   \n",
       "2          NaN          NaN                   7.0                  0.0  ...   \n",
       "3          NaN          NaN                   6.0                  4.0  ...   \n",
       "4          NaN          NaN                   9.0                 53.0  ...   \n",
       "\n",
       "   VK_DHT4A  VK_DISTANZ  VK_ZG11  W_KEIT_KIND_HH  WOHNDAUER_2008  WOHNLAGE  \\\n",
       "0       5.0         2.0      1.0             6.0             9.0       3.0   \n",
       "1       1.0         2.0      1.0             4.0             9.0       7.0   \n",
       "2       6.0         4.0      2.0             NaN             9.0       2.0   \n",
       "3       8.0        11.0     11.0             6.0             9.0       1.0   \n",
       "4       2.0         2.0      1.0             6.0             9.0       3.0   \n",
       "\n",
       "   ZABEOTYP RESPONSE ANREDE_KZ ALTERSKATEGORIE_GROB  \n",
       "0         3        0         2                    4  \n",
       "1         1        0         2                    3  \n",
       "2         3        0         1                    4  \n",
       "3         3        0         2                    4  \n",
       "4         3        0         1                    3  \n",
       "\n",
       "[5 rows x 367 columns]"
      ]
     },
     "execution_count": 208,
     "metadata": {},
     "output_type": "execute_result"
    }
   ],
   "source": [
    "mailout_train.head()"
   ]
  },
  {
   "cell_type": "code",
   "execution_count": 209,
   "metadata": {},
   "outputs": [
    {
     "data": {
      "image/png": "[encoded data removed]",
      "text/plain": [
       "<Figure size 720x360 with 2 Axes>"
      ]
     },
     "metadata": {
      "needs_background": "light"
     },
     "output_type": "display_data"
    }
   ],
   "source": [
    "plt.figure(figsize=(10, 5))\n",
    "\n",
    "# RESPONSE distribution bar chart\n",
    "ax1 = plt.subplot(121)\n",
    "mailout_train['RESPONSE'].value_counts().plot.bar(rot=0, ax=ax1)\n",
    "plt.title('RESPONSE distribution')\n",
    "\n",
    "# RESPONSE distribution pie chart\n",
    "ax1 = plt.subplot(122)\n",
    "mailout_train['RESPONSE'].value_counts().plot.pie(autopct='%1.f%%')\n",
    "plt.title('RESPONSE distribution')\n",
    "\n",
    "plt.show()"
   ]
  },
  {
   "cell_type": "markdown",
   "metadata": {},
   "source": [
    "#### What we want to do here ...\n",
    "In this section, we will apply `clean_data` created in part 0 to preprocess the data, and scale it. Use it to pick a best performance model, and tune the model performance.\n",
    "\n",
    "* Data Cleaning\n",
    "    - Perform data preprocessing with `clean_data` created in Part 0. And scale the data.\n",
    "* Metrics Selection\n",
    "    - Select the best metrics to measure performance.\n",
    "* Model Selection\n",
    "    - Select the best machine learning algorithm for the dataset.\n",
    "* XGBoost Tuning\n",
    "    - Fine-tune XGBoost hyperparameters."
   ]
  },
  {
   "cell_type": "markdown",
   "metadata": {},
   "source": [
    "### Data Cleaning\n",
    "Perform data preprocessing with `clean_data` created in Part 0. And scale the data."
   ]
  },
  {
   "cell_type": "code",
   "execution_count": 210,
   "metadata": {},
   "outputs": [
    {
     "name": "stdout",
     "output_type": "stream",
     "text": [
      "mix_cat...\n",
      "drop...\n",
      "log_transform...\n"
     ]
    },
    {
     "name": "stderr",
     "output_type": "stream",
     "text": [
      "/home/fc/anaconda3/lib/python3.7/site-packages/ipykernel_launcher.py:16: RuntimeWarning: invalid value encountered in log1p\n",
      "  app.launch_new_instance()\n"
     ]
    },
    {
     "name": "stdout",
     "output_type": "stream",
     "text": [
      "cap outlier...\n"
     ]
    },
    {
     "name": "stderr",
     "output_type": "stream",
     "text": [
      "/home/fc/anaconda3/lib/python3.7/site-packages/ipykernel_launcher.py:16: SettingWithCopyWarning: \n",
      "A value is trying to be set on a copy of a slice from a DataFrame.\n",
      "Try using .loc[row_indexer,col_indexer] = value instead\n",
      "\n",
      "See the caveats in the documentation: http://pandas.pydata.org/pandas-docs/stable/indexing.html#indexing-view-versus-copy\n",
      "  app.launch_new_instance()\n",
      "/home/fc/anaconda3/lib/python3.7/site-packages/pandas/core/indexing.py:543: SettingWithCopyWarning: \n",
      "A value is trying to be set on a copy of a slice from a DataFrame.\n",
      "Try using .loc[row_indexer,col_indexer] = value instead\n",
      "\n",
      "See the caveats in the documentation: http://pandas.pydata.org/pandas-docs/stable/indexing.html#indexing-view-versus-copy\n",
      "  self.obj[item] = s\n"
     ]
    },
    {
     "name": "stdout",
     "output_type": "stream",
     "text": [
      "cover...\n",
      "ANZ_PERSONEN in general population have min value: 0.6931471805599453 larger than sample: 0.0 -> drop\n",
      "ANZ_PERSONEN in general population have max value: 1.6094379124341003 smaller than sample: 1.791759469228055 -> drop\n",
      "fillna...\n"
     ]
    },
    {
     "name": "stderr",
     "output_type": "stream",
     "text": [
      "/home/fc/anaconda3/lib/python3.7/site-packages/ipykernel_launcher.py:20: SettingWithCopyWarning: \n",
      "A value is trying to be set on a copy of a slice from a DataFrame.\n",
      "Try using .loc[row_indexer,col_indexer] = value instead\n",
      "\n",
      "See the caveats in the documentation: http://pandas.pydata.org/pandas-docs/stable/indexing.html#indexing-view-versus-copy\n",
      "/home/fc/anaconda3/lib/python3.7/site-packages/ipykernel_launcher.py:25: SettingWithCopyWarning: \n",
      "A value is trying to be set on a copy of a slice from a DataFrame.\n",
      "Try using .loc[row_indexer,col_indexer] = value instead\n",
      "\n",
      "See the caveats in the documentation: http://pandas.pydata.org/pandas-docs/stable/indexing.html#indexing-view-versus-copy\n"
     ]
    },
    {
     "name": "stdout",
     "output_type": "stream",
     "text": [
      "onehot...\n",
      "clean_data successfully :)\n"
     ]
    }
   ],
   "source": [
    "new_mailout_train_df = clean_data(mailout_train.copy())"
   ]
  },
  {
   "cell_type": "code",
   "execution_count": 211,
   "metadata": {},
   "outputs": [
    {
     "data": {
      "text/html": [
       "<div>\n",
       "<style scoped>\n",
       "    .dataframe tbody tr th:only-of-type {\n",
       "        vertical-align: middle;\n",
       "    }\n",
       "\n",
       "    .dataframe tbody tr th {\n",
       "        vertical-align: top;\n",
       "    }\n",
       "\n",
       "    .dataframe thead th {\n",
       "        text-align: right;\n",
       "    }\n",
       "</style>\n",
       "<table border=\"1\" class=\"dataframe\">\n",
       "  <thead>\n",
       "    <tr style=\"text-align: right;\">\n",
       "      <th></th>\n",
       "      <th>AKT_DAT_KL</th>\n",
       "      <th>ALTERSKATEGORIE_GROB</th>\n",
       "      <th>ANREDE_KZ</th>\n",
       "      <th>ANZ_HAUSHALTE_AKTIV</th>\n",
       "      <th>ANZ_HH_TITEL</th>\n",
       "      <th>ANZ_KINDER</th>\n",
       "      <th>ANZ_PERSONEN</th>\n",
       "      <th>ANZ_TITEL</th>\n",
       "      <th>ARBEIT</th>\n",
       "      <th>BALLRAUM</th>\n",
       "      <th>...</th>\n",
       "      <th>VK_DHT4A_8.0</th>\n",
       "      <th>VK_DHT4A_9.0</th>\n",
       "      <th>VK_DHT4A_10.0</th>\n",
       "      <th>VK_DHT4A_11.0</th>\n",
       "      <th>ZABEOTYP_1</th>\n",
       "      <th>ZABEOTYP_2</th>\n",
       "      <th>ZABEOTYP_3</th>\n",
       "      <th>ZABEOTYP_4</th>\n",
       "      <th>ZABEOTYP_5</th>\n",
       "      <th>ZABEOTYP_6</th>\n",
       "    </tr>\n",
       "    <tr>\n",
       "      <th>LNR</th>\n",
       "      <th></th>\n",
       "      <th></th>\n",
       "      <th></th>\n",
       "      <th></th>\n",
       "      <th></th>\n",
       "      <th></th>\n",
       "      <th></th>\n",
       "      <th></th>\n",
       "      <th></th>\n",
       "      <th></th>\n",
       "      <th></th>\n",
       "      <th></th>\n",
       "      <th></th>\n",
       "      <th></th>\n",
       "      <th></th>\n",
       "      <th></th>\n",
       "      <th></th>\n",
       "      <th></th>\n",
       "      <th></th>\n",
       "      <th></th>\n",
       "      <th></th>\n",
       "    </tr>\n",
       "  </thead>\n",
       "  <tbody>\n",
       "    <tr>\n",
       "      <th>1763</th>\n",
       "      <td>1.0</td>\n",
       "      <td>4</td>\n",
       "      <td>2</td>\n",
       "      <td>2.772589</td>\n",
       "      <td>0.0</td>\n",
       "      <td>0.0</td>\n",
       "      <td>0.693147</td>\n",
       "      <td>0.0</td>\n",
       "      <td>3.0</td>\n",
       "      <td>5.0</td>\n",
       "      <td>...</td>\n",
       "      <td>0</td>\n",
       "      <td>0</td>\n",
       "      <td>0</td>\n",
       "      <td>0</td>\n",
       "      <td>0</td>\n",
       "      <td>0</td>\n",
       "      <td>1</td>\n",
       "      <td>0</td>\n",
       "      <td>0</td>\n",
       "      <td>0</td>\n",
       "    </tr>\n",
       "    <tr>\n",
       "      <th>1771</th>\n",
       "      <td>4.0</td>\n",
       "      <td>3</td>\n",
       "      <td>2</td>\n",
       "      <td>0.693147</td>\n",
       "      <td>0.0</td>\n",
       "      <td>0.0</td>\n",
       "      <td>1.098612</td>\n",
       "      <td>0.0</td>\n",
       "      <td>2.0</td>\n",
       "      <td>5.0</td>\n",
       "      <td>...</td>\n",
       "      <td>0</td>\n",
       "      <td>0</td>\n",
       "      <td>0</td>\n",
       "      <td>0</td>\n",
       "      <td>1</td>\n",
       "      <td>0</td>\n",
       "      <td>0</td>\n",
       "      <td>0</td>\n",
       "      <td>0</td>\n",
       "      <td>0</td>\n",
       "    </tr>\n",
       "    <tr>\n",
       "      <th>1776</th>\n",
       "      <td>1.0</td>\n",
       "      <td>4</td>\n",
       "      <td>1</td>\n",
       "      <td>0.693147</td>\n",
       "      <td>0.0</td>\n",
       "      <td>0.0</td>\n",
       "      <td>1.098612</td>\n",
       "      <td>0.0</td>\n",
       "      <td>4.0</td>\n",
       "      <td>1.0</td>\n",
       "      <td>...</td>\n",
       "      <td>0</td>\n",
       "      <td>0</td>\n",
       "      <td>0</td>\n",
       "      <td>0</td>\n",
       "      <td>0</td>\n",
       "      <td>0</td>\n",
       "      <td>1</td>\n",
       "      <td>0</td>\n",
       "      <td>0</td>\n",
       "      <td>0</td>\n",
       "    </tr>\n",
       "    <tr>\n",
       "      <th>1460</th>\n",
       "      <td>1.0</td>\n",
       "      <td>4</td>\n",
       "      <td>2</td>\n",
       "      <td>1.609438</td>\n",
       "      <td>0.0</td>\n",
       "      <td>0.0</td>\n",
       "      <td>1.098612</td>\n",
       "      <td>0.0</td>\n",
       "      <td>4.0</td>\n",
       "      <td>2.0</td>\n",
       "      <td>...</td>\n",
       "      <td>1</td>\n",
       "      <td>0</td>\n",
       "      <td>0</td>\n",
       "      <td>0</td>\n",
       "      <td>0</td>\n",
       "      <td>0</td>\n",
       "      <td>1</td>\n",
       "      <td>0</td>\n",
       "      <td>0</td>\n",
       "      <td>0</td>\n",
       "    </tr>\n",
       "    <tr>\n",
       "      <th>1783</th>\n",
       "      <td>1.0</td>\n",
       "      <td>3</td>\n",
       "      <td>1</td>\n",
       "      <td>3.295837</td>\n",
       "      <td>0.0</td>\n",
       "      <td>0.0</td>\n",
       "      <td>0.693147</td>\n",
       "      <td>0.0</td>\n",
       "      <td>3.0</td>\n",
       "      <td>4.0</td>\n",
       "      <td>...</td>\n",
       "      <td>0</td>\n",
       "      <td>0</td>\n",
       "      <td>0</td>\n",
       "      <td>0</td>\n",
       "      <td>0</td>\n",
       "      <td>0</td>\n",
       "      <td>1</td>\n",
       "      <td>0</td>\n",
       "      <td>0</td>\n",
       "      <td>0</td>\n",
       "    </tr>\n",
       "  </tbody>\n",
       "</table>\n",
       "<p>5 rows × 409 columns</p>\n",
       "</div>"
      ],
      "text/plain": [
       "      AKT_DAT_KL  ALTERSKATEGORIE_GROB  ANREDE_KZ  ANZ_HAUSHALTE_AKTIV  \\\n",
       "LNR                                                                      \n",
       "1763         1.0                     4          2             2.772589   \n",
       "1771         4.0                     3          2             0.693147   \n",
       "1776         1.0                     4          1             0.693147   \n",
       "1460         1.0                     4          2             1.609438   \n",
       "1783         1.0                     3          1             3.295837   \n",
       "\n",
       "      ANZ_HH_TITEL  ANZ_KINDER  ANZ_PERSONEN  ANZ_TITEL  ARBEIT  BALLRAUM  \\\n",
       "LNR                                                                         \n",
       "1763           0.0         0.0      0.693147        0.0     3.0       5.0   \n",
       "1771           0.0         0.0      1.098612        0.0     2.0       5.0   \n",
       "1776           0.0         0.0      1.098612        0.0     4.0       1.0   \n",
       "1460           0.0         0.0      1.098612        0.0     4.0       2.0   \n",
       "1783           0.0         0.0      0.693147        0.0     3.0       4.0   \n",
       "\n",
       "      ...  VK_DHT4A_8.0  VK_DHT4A_9.0  VK_DHT4A_10.0  VK_DHT4A_11.0  \\\n",
       "LNR   ...                                                             \n",
       "1763  ...             0             0              0              0   \n",
       "1771  ...             0             0              0              0   \n",
       "1776  ...             0             0              0              0   \n",
       "1460  ...             1             0              0              0   \n",
       "1783  ...             0             0              0              0   \n",
       "\n",
       "      ZABEOTYP_1  ZABEOTYP_2  ZABEOTYP_3  ZABEOTYP_4  ZABEOTYP_5  ZABEOTYP_6  \n",
       "LNR                                                                           \n",
       "1763           0           0           1           0           0           0  \n",
       "1771           1           0           0           0           0           0  \n",
       "1776           0           0           1           0           0           0  \n",
       "1460           0           0           1           0           0           0  \n",
       "1783           0           0           1           0           0           0  \n",
       "\n",
       "[5 rows x 409 columns]"
      ]
     },
     "execution_count": 211,
     "metadata": {},
     "output_type": "execute_result"
    }
   ],
   "source": [
    "new_mailout_train_df.head()"
   ]
  },
  {
   "cell_type": "code",
   "execution_count": 212,
   "metadata": {},
   "outputs": [],
   "source": [
    "if DEBUG:\n",
    "    new_mailout_train_df.to_pickle('new_mailout_train_df.pickle')"
   ]
  },
  {
   "cell_type": "code",
   "execution_count": 213,
   "metadata": {},
   "outputs": [],
   "source": [
    "if DEBUG:\n",
    "    new_mailout_train_df = pd.read_pickle(\"new_mailout_train_df.pickle\")"
   ]
  },
  {
   "cell_type": "code",
   "execution_count": 214,
   "metadata": {},
   "outputs": [
    {
     "data": {
      "text/plain": [
       "((42962, 408), (42962,))"
      ]
     },
     "execution_count": 214,
     "metadata": {},
     "output_type": "execute_result"
    }
   ],
   "source": [
    "y_train = new_mailout_train_df['RESPONSE']\n",
    "X_train = new_mailout_train_df.drop(['RESPONSE'], axis=1)\n",
    "\n",
    "# scaling\n",
    "X_train = pd.DataFrame(scaler.fit_transform(X_train.values), columns=X_train.columns, index=X_train.index)  # scaling\n",
    "\n",
    "X_train.shape, y_train.shape"
   ]
  },
  {
   "cell_type": "markdown",
   "metadata": {},
   "source": [
    "### Metrics Selection\n",
    "\n",
    "* With imbalanced classes, it’s easy to get a high accuracy without actually making useful predictions. So, accuracy as an evaluation metrics makes sense only if the class labels are uniformly distributed.\n",
    "* In this case, we would like to use [AUC for the ROC curve](https://en.wikipedia.org/wiki/Receiver_operating_characteristic#Area_under_the_curve), Which is match with Kaggle model evaluation method."
   ]
  },
  {
   "cell_type": "markdown",
   "metadata": {},
   "source": [
    "### Model Selection\n",
    "Select the best machine learning algorithm for the dataset."
   ]
  },
  {
   "cell_type": "code",
   "execution_count": 215,
   "metadata": {},
   "outputs": [],
   "source": [
    "def plot_learning_curve(estimator, title, X, y, axes=None, ylim=None, cv=None,\n",
    "                        n_jobs=None, train_sizes=np.linspace(.1, 1.0, 5)):\n",
    "    \"\"\"\n",
    "    Generate a simple plot of the test and training learning curve.\n",
    "\n",
    "    Parameters\n",
    "    ----------\n",
    "    estimator : object type that implements the \"fit\" and \"predict\" methods\n",
    "        An object of that type which is cloned for each validation.\n",
    "\n",
    "    title : string\n",
    "        Title for the chart.\n",
    "\n",
    "    X : array-like, shape (n_samples, n_features)\n",
    "        Training vector, where n_samples is the number of samples and\n",
    "        n_features is the number of features.\n",
    "\n",
    "    y : array-like, shape (n_samples) or (n_samples, n_features), optional\n",
    "        Target relative to X for classification or regression;\n",
    "        None for unsupervised learning.\n",
    "        \n",
    "    axes : matplotlib.axes\n",
    "\n",
    "    ylim : tuple, shape (ymin, ymax), optional\n",
    "        Defines minimum and maximum yvalues plotted.\n",
    "\n",
    "    cv : int, cross-validation generator or an iterable, optional\n",
    "        Determines the cross-validation splitting strategy.\n",
    "        Possible inputs for cv are:\n",
    "          - None, to use the default 3-fold cross-validation,\n",
    "          - integer, to specify the number of folds.\n",
    "          - :term:`CV splitter`,\n",
    "          - An iterable yielding (train, test) splits as arrays of indices.\n",
    "\n",
    "        For integer/None inputs, if ``y`` is binary or multiclass,\n",
    "        :class:`StratifiedKFold` used. If the estimator is not a classifier\n",
    "        or if ``y`` is neither binary nor multiclass, :class:`KFold` is used.\n",
    "\n",
    "        Refer :ref:`User Guide <cross_validation>` for the various\n",
    "        cross-validators that can be used here.\n",
    "\n",
    "    n_jobs : int or None, optional (default=None)\n",
    "        Number of jobs to run in parallel.\n",
    "        ``None`` means 1 unless in a :obj:`joblib.parallel_backend` context.\n",
    "        ``-1`` means using all processors. See :term:`Glossary <n_jobs>`\n",
    "        for more details.\n",
    "\n",
    "    train_sizes : array-like, shape (n_ticks,), dtype float or int\n",
    "        Relative or absolute numbers of training examples that will be used to\n",
    "        generate the learning curve. If the dtype is float, it is regarded as a\n",
    "        fraction of the maximum size of the training set (that is determined\n",
    "        by the selected validation method), i.e. it has to be within (0, 1].\n",
    "        Otherwise it is interpreted as absolute sizes of the training sets.\n",
    "        Note that for classification the number of samples usually have to\n",
    "        be big enough to contain at least one sample from each class.\n",
    "        (default: np.linspace(0.1, 1.0, 5))\n",
    "    \"\"\"\n",
    "    if axes == None:\n",
    "        plt.figure()\n",
    "    else:\n",
    "        plt.axes = axes\n",
    "    plt.title(title)\n",
    "    if ylim is not None:\n",
    "        plt.ylim(*ylim)\n",
    "    plt.xlabel(\"Training examples\")\n",
    "    plt.ylabel(\"Score\")\n",
    "    train_sizes, train_scores, test_scores = learning_curve(\n",
    "        estimator, X, y, scoring='roc_auc', cv=cv, n_jobs=n_jobs, train_sizes=train_sizes)\n",
    "    train_scores_mean = np.mean(train_scores, axis=1)\n",
    "    train_scores_std = np.std(train_scores, axis=1)\n",
    "    test_scores_mean = np.mean(test_scores, axis=1)\n",
    "    test_scores_std = np.std(test_scores, axis=1)\n",
    "    plt.grid()\n",
    "\n",
    "    plt.fill_between(train_sizes, train_scores_mean - train_scores_std,\n",
    "                     train_scores_mean + train_scores_std, alpha=0.1,\n",
    "                     color=\"r\")\n",
    "    plt.fill_between(train_sizes, test_scores_mean - test_scores_std,\n",
    "                     test_scores_mean + test_scores_std, alpha=0.1, color=\"g\")\n",
    "    plt.plot(train_sizes, train_scores_mean, 'o-', color=\"r\",\n",
    "             label=\"Training score\")\n",
    "    plt.plot(train_sizes, test_scores_mean, 'o-', color=\"g\",\n",
    "             label=\"Cross-validation score\")\n",
    "\n",
    "    plt.legend(loc=\"best\")\n",
    "    return plt"
   ]
  },
  {
   "cell_type": "markdown",
   "metadata": {},
   "source": [
    "__NOTE__: The `plot_learning_curve` function is used to draw learning curve. Which is inspired by [Plotting Learning Curves](https://scikit-learn.org/stable/auto_examples/model_selection/plot_learning_curve.html)."
   ]
  },
  {
   "cell_type": "markdown",
   "metadata": {},
   "source": [
    "We would like to use [StratifiedShuffleSplit](https://scikit-learn.org/stable/modules/generated/sklearn.model_selection.StratifiedShuffleSplit.html) to handle inbalance data."
   ]
  },
  {
   "cell_type": "code",
   "execution_count": 216,
   "metadata": {},
   "outputs": [],
   "source": [
    "# Initialize 5 StratifiedShuffleSplit\n",
    "cv = StratifiedShuffleSplit(n_splits=5, random_state=27)"
   ]
  },
  {
   "cell_type": "markdown",
   "metadata": {},
   "source": [
    "We select below type of algorithms to compare their performance. And found XGBoost is the best one.\n",
    "* DecisionTreeClassifier\n",
    "* LinearSVC\n",
    "* AdaBoostRegressor\n",
    "* XGBRegressor"
   ]
  },
  {
   "cell_type": "code",
   "execution_count": null,
   "metadata": {},
   "outputs": [],
   "source": [
    "clf_A = DecisionTreeClassifier(random_state=27)\n",
    "clf_B = LinearSVC(random_state=27)\n",
    "clf_C = AdaBoostRegressor(random_state=27)\n",
    "clf_D = XGBRegressor(random_state=27)"
   ]
  },
  {
   "cell_type": "code",
   "execution_count": null,
   "metadata": {},
   "outputs": [],
   "source": [
    "plt.figure(figsize=(10, 5))\n",
    "\n",
    "# DecisionTreeClassifier\n",
    "ax1 = plt.subplot(2,2,1)\n",
    "plot_learning_curve(clf_A, 'DecisionTreeClassifier', X_train, y_train, axes=ax1, ylim=(0.5, 1), cv=cv, n_jobs=N_JOBS)\n",
    "\n",
    "# LinearSVC\n",
    "ax2 = plt.subplot(2,2,2)\n",
    "plot_learning_curve(clf_B, 'LinearSVC', X_train, y_train, axes=ax2, ylim=(0.5, 1), cv=cv, n_jobs=N_JOBS)\n",
    "\n",
    "#　AdaBoostRegressor\n",
    "ax3 = plt.subplot(2,2,3)\n",
    "plot_learning_curve(clf_C, 'AdaBoostRegressor', X_train, y_train, axes=ax3, ylim=(0.5, 1), cv=cv, n_jobs=N_JOBS)\n",
    "\n",
    "# XGBRegressor\n",
    "ax4 = plt.subplot(2,2,4)\n",
    "plot_learning_curve(clf_D, 'XGBRegressor', X_train, y_train, axes=ax4, ylim=(0.5, 1), cv=cv, n_jobs=N_JOBS)\n",
    "\n",
    "plt.tight_layout()\n",
    "plt.show()"
   ]
  },
  {
   "cell_type": "markdown",
   "metadata": {},
   "source": [
    "### XGBoost Tuning\n",
    "Fine-tune XGBoost hyperparameters.\n",
    "* Tune max_depth and min_child_weight\n",
    "* Tune gamma\n",
    "* Tune subsample and colsample_bytree\n",
    "* Tune Regularization Parameters\n",
    "* Reduce Learning Rate\n",
    "\n",
    "__NOTE__: The complete procedure for XGBoot tuning is inspired by [Complete Guide to Parameter Tuning in XGBoost with codes in Python](https://www.analyticsvidhya.com/blog/2016/03/complete-guide-parameter-tuning-xgboost-with-codes-python/).\n",
    "\n",
    "#### Fix learning rate and number of estimators for tuning tree-based parameters"
   ]
  },
  {
   "cell_type": "code",
   "execution_count": 217,
   "metadata": {},
   "outputs": [],
   "source": [
    "def modelfit(alg, X, y, useTrainCV=True, cv_folds=5, early_stopping_rounds=50):\n",
    "    \n",
    "    if useTrainCV:\n",
    "        xgb_param = alg.get_xgb_params()\n",
    "        xgtrain = xgb.DMatrix(X.values, label=y.values)\n",
    "        cvresult = xgb.cv(xgb_param, xgtrain, num_boost_round=alg.get_params()['n_estimators'], nfold=cv_folds,\n",
    "            metrics='auc', early_stopping_rounds=early_stopping_rounds, stratified=True, seed=27, verbose_eval=20)\n",
    "        alg.set_params(n_estimators=cvresult.shape[0])\n",
    "    \n",
    "    #Fit the algorithm on the data\n",
    "    alg.fit(X, y,eval_metric='auc')\n",
    "        \n",
    "    #Predict training set:\n",
    "    dtrain_predictions = alg.predict(X)\n",
    "    dtrain_predprob = alg.predict_proba(X)[:,1]\n",
    "        \n",
    "    #Print model report:\n",
    "    print(\"\\nModel Report\")\n",
    "    print(\"Accuracy : %.4g\" % metrics.accuracy_score(y.values, dtrain_predictions))\n",
    "    print(\"AUC Score (Train): %f\" % metrics.roc_auc_score(y, dtrain_predprob))\n",
    "    \n",
    "    feat_imp = pd.Series(alg.get_booster().get_fscore()).sort_values()[-20:]\n",
    "\n",
    "    feat_imp.plot(kind='barh', title='Top 20 Feature Importance Score')\n",
    "    plt.tight_layout()\n",
    "    plt.show()"
   ]
  },
  {
   "cell_type": "code",
   "execution_count": 278,
   "metadata": {},
   "outputs": [],
   "source": [
    "# # try to train model\n",
    "# xgb_clf = XGBClassifier(\n",
    "#     learning_rate=0.1,\n",
    "#     n_estimators=1000,\n",
    "#     max_depth=5,\n",
    "#     min_child_weight=1,\n",
    "#     gamma=0,\n",
    "#     subsample=0.8,\n",
    "#     colsample_bytree=0.8,\n",
    "#     objective='binary:logistic',\n",
    "#     n_jobs=N_JOBS,\n",
    "#     scale_pos_weight=1,\n",
    "#     seed=27)\n",
    "# modelfit(xgb_clf, X_train, y_train)"
   ]
  },
  {
   "cell_type": "code",
   "execution_count": 264,
   "metadata": {},
   "outputs": [
    {
     "name": "stdout",
     "output_type": "stream",
     "text": [
      "[0]\ttrain-auc:0.7524+0.0156115\ttest-auc:0.750546+0.029535\n",
      "[20]\ttrain-auc:0.777176+0.00614253\ttest-auc:0.757328+0.0252583\n",
      "[40]\ttrain-auc:0.818796+0.00556324\ttest-auc:0.759068+0.019706\n",
      "[60]\ttrain-auc:0.858761+0.00539265\ttest-auc:0.760427+0.0221012\n",
      "[80]\ttrain-auc:0.884174+0.00335129\ttest-auc:0.757114+0.02073\n",
      "[99]\ttrain-auc:0.903661+0.00179304\ttest-auc:0.753019+0.0197025\n",
      "\n",
      "Model Report\n",
      "Accuracy : 0.9876\n",
      "AUC Score (Train): 0.886152\n"
     ]
    },
    {
     "data": {
      "image/png": "[encoded data removed]",
      "text/plain": [
       "<Figure size 432x288 with 1 Axes>"
      ]
     },
     "metadata": {
      "needs_background": "light"
     },
     "output_type": "display_data"
    }
   ],
   "source": [
    "# try to train model\n",
    "xgb_clf = XGBClassifier(\n",
    "    learning_rate=0.12,\n",
    "    n_estimators=100,\n",
    "    max_depth=3,\n",
    "#     min_child_weight=1,\n",
    "    gamma=1,\n",
    "    subsample=0.8,\n",
    "    colsample_bytree=1,\n",
    "    objective='binary:logistic',\n",
    "    n_jobs=N_JOBS,\n",
    "    scale_pos_weight=1,\n",
    "    seed=27)\n",
    "modelfit(xgb_clf, X_train, y_train)"
   ]
  },
  {
   "cell_type": "markdown",
   "metadata": {},
   "source": [
    "#### Tune max_depth and min_child_weight####\n",
    "\n",
    "\n",
    "Tried `max_depth`: [3, 5, 7, 9], and `min_child_weight`: [1, 3, 5] combination with 2 unit step."
   ]
  },
  {
   "cell_type": "code",
   "execution_count": 277,
   "metadata": {},
   "outputs": [],
   "source": [
    "# param_test = {\n",
    "#     'max_depth':range(3,10,2),\n",
    "#     'min_child_weight':range(1,6,2)\n",
    "# }\n",
    "# gsearch = GridSearchCV(\n",
    "#     estimator=XGBClassifier(\n",
    "#         learning_rate=0.1,\n",
    "#         n_estimators=140, \n",
    "#         max_depth=5,\n",
    "#         min_child_weight=1, \n",
    "#         gamma=0, \n",
    "#         subsample=0.8, \n",
    "#         colsample_bytree=0.8,\n",
    "#         objective='binary:logistic',\n",
    "#         n_jobs=N_JOBS, \n",
    "#         scale_pos_weight=1, \n",
    "#         seed=27), \n",
    "#      param_grid=param_test, scoring='roc_auc',n_jobs=N_JOBS,iid=False, cv=cv)\n",
    "# gsearch.fit(X_train, y_train)\n",
    "# gsearch.best_params_, gsearch.best_score_"
   ]
  },
  {
   "cell_type": "markdown",
   "metadata": {},
   "source": [
    "We already find `min_child_weight`: 5. We will continue to tried `max_depth`: 1 ~ 4 with 1 unit step."
   ]
  },
  {
   "cell_type": "code",
   "execution_count": 276,
   "metadata": {},
   "outputs": [],
   "source": [
    "# param_test = {\n",
    "#     'max_depth':range(1,4,1),\n",
    "# }\n",
    "# gsearch = GridSearchCV(\n",
    "#     estimator=XGBClassifier(\n",
    "#         learning_rate =0.1,\n",
    "#         n_estimators=140, \n",
    "#         max_depth=5,\n",
    "#         min_child_weight=1,  # min_child_weight = 5\n",
    "#         gamma=0, \n",
    "#         subsample=0.8, \n",
    "#         colsample_bytree=0.8,\n",
    "#         objective='binary:logistic',\n",
    "#         n_jobs=N_JOBS, \n",
    "#         scale_pos_weight=1, \n",
    "#         seed=27), \n",
    "#     param_grid=param_test, scoring='roc_auc', n_jobs=N_JOBS, iid=False, cv=cv)\n",
    "# gsearch.fit(X_train, y_train)\n",
    "# gsearch.best_params_, gsearch.best_score_"
   ]
  },
  {
   "cell_type": "markdown",
   "metadata": {},
   "source": [
    "Find out 'max_depth': 3 is the best.\n",
    "\n",
    "Until now, we have below optimized hyperparameters.\n",
    "* max_depth: 3\n",
    "* min_child_weight: 5\n",
    "\n",
    "#### Tune gamma\n",
    "Tried gamma for .1 to .5."
   ]
  },
  {
   "cell_type": "code",
   "execution_count": 274,
   "metadata": {},
   "outputs": [],
   "source": [
    "# param_test = {\n",
    "#     'gamma':[i/10.0 for i in range(0,5)]\n",
    "# }\n",
    "# gsearch = GridSearchCV(\n",
    "#     estimator=XGBClassifier(\n",
    "#         learning_rate=0.1,\n",
    "#         n_estimators=140, \n",
    "#         max_depth=3,  # max_depth = 3\n",
    "#         min_child_weight=1,  # min_child_weight = 5 \n",
    "#         gamma=0, \n",
    "#         subsample=0.8, \n",
    "#         colsample_bytree=0.8,\n",
    "#         objective='binary:logistic',\n",
    "#         n_jobs=N_JOBS, \n",
    "#         scale_pos_weight=1, \n",
    "#         seed=27), \n",
    "#     param_grid=param_test, scoring='roc_auc', n_jobs=N_JOBS, iid=False, cv=cv)\n",
    "# gsearch.fit(X_train, y_train)\n",
    "# gsearch.best_params_, gsearch.best_score_"
   ]
  },
  {
   "cell_type": "markdown",
   "metadata": {},
   "source": [
    "Find 'gamma': .2 is the best.\n",
    "\n",
    "Until now, we have below optimized hyperparameters.\n",
    "* max_depth: 3\n",
    "* min_child_weight: 5\n",
    "* gamma: .2"
   ]
  },
  {
   "cell_type": "code",
   "execution_count": 275,
   "metadata": {},
   "outputs": [],
   "source": [
    "# # try to train model\n",
    "# xgb_clf = XGBClassifier(\n",
    "#     learning_rate=0.1,\n",
    "#     n_estimators=1000,\n",
    "#     max_depth=3,\n",
    "#     min_child_weight=1,\n",
    "#     gamma=0.2,\n",
    "#     subsample=0.8,\n",
    "#     colsample_bytree=0.8,\n",
    "#     objective='binary:logistic',\n",
    "#     n_jobs=N_JOBS,\n",
    "#     scale_pos_weight=1,\n",
    "#     seed=27)\n",
    "# modelfit(xgb_clf, X_train, y_train)"
   ]
  },
  {
   "cell_type": "markdown",
   "metadata": {},
   "source": [
    "#### Tune subsample and colsample_bytree\n",
    "Tried `subsample`: .6 ~ 1, and `colsample_bytree`: .6 ~ 1 combination."
   ]
  },
  {
   "cell_type": "code",
   "execution_count": 273,
   "metadata": {},
   "outputs": [],
   "source": [
    "# param_test = {\n",
    "#     'subsample':[i/10.0 for i in range(6,10)],\n",
    "#     'colsample_bytree':[i/10.0 for i in range(6,10)]\n",
    "# }\n",
    "# gsearch = GridSearchCV(\n",
    "#     estimator=XGBClassifier(\n",
    "#         learning_rate=0.1,\n",
    "#         n_estimators=140, \n",
    "#         max_depth=3,  # max_depth = 3\n",
    "#         min_child_weight=1,  # min_child_weight = 5 \n",
    "#         gamma=0.2,  # gamma = 0.2\n",
    "#         subsample=0.8, \n",
    "#         colsample_bytree=0.8,\n",
    "#         objective='binary:logistic',\n",
    "#         n_jobs=N_JOBS, \n",
    "#         scale_pos_weight=1, \n",
    "#         seed=27), \n",
    "#     param_grid = param_test, scoring='roc_auc',n_jobs=N_JOBS,iid=False, cv=cv)\n",
    "# gsearch.fit(X_train, y_train)\n",
    "# gsearch.best_params_, gsearch.best_score_"
   ]
  },
  {
   "cell_type": "markdown",
   "metadata": {},
   "source": [
    "Find `colsample_bytree` = .8 and `subsample` = .8 is the best.\n",
    "\n",
    "Continue to tried `subsample` from .7 to .9 and `colsample_bytree` from .7 to .9 with .05 unit step."
   ]
  },
  {
   "cell_type": "code",
   "execution_count": 272,
   "metadata": {},
   "outputs": [],
   "source": [
    "# param_test = {\n",
    "#     'subsample':[i/100.0 for i in range(50,70,5)],\n",
    "#      'colsample_bytree':[i/100.0 for i in range(70,90,5)]\n",
    "# }\n",
    "# gsearch = GridSearchCV(\n",
    "#     estimator=XGBClassifier(\n",
    "#         learning_rate=0.1,\n",
    "#         n_estimators=140, \n",
    "#         max_depth=3,  # max_depth = 3\n",
    "#         min_child_weight=1,  # min_child_weight = 5 \n",
    "#         gamma=0.2,  # gamma = 0.2\n",
    "#         subsample=0.8, \n",
    "#         colsample_bytree=0.8,\n",
    "#         objective='binary:logistic',\n",
    "#         n_jobs=N_JOBS, \n",
    "#         scale_pos_weight=1, \n",
    "#         seed=27), \n",
    "#     param_grid=param_test, scoring='roc_auc',n_jobs=N_JOBS,iid=False, cv=cv)\n",
    "# gsearch.fit(X_train, y_train)\n",
    "# gsearch.best_params_, gsearch.best_score_"
   ]
  },
  {
   "cell_type": "markdown",
   "metadata": {},
   "source": [
    "Find `colsample_bytree` = .8 and `subsample` = .8 is the best.\n",
    "\n",
    "Until now, we have below optimized hyperparameters.\n",
    "* max_depth: 3\n",
    "* min_child_weight: 5\n",
    "* gamma: 0.2\n",
    "* subsample': 0.8\n",
    "* colsample_bytree: 0.8\n",
    "\n",
    "#### Tune Regularization Parameters\n",
    "Tried `reg_alpha`: [1e-5, 1e-2, 0.1, 1, 100]"
   ]
  },
  {
   "cell_type": "code",
   "execution_count": 271,
   "metadata": {},
   "outputs": [],
   "source": [
    "# param_test = {\n",
    "#     'reg_alpha':[0, 1e-5, 1e-2, 0.1, 1, 100]\n",
    "# }\n",
    "# gsearch = GridSearchCV(\n",
    "#     estimator=XGBClassifier(\n",
    "#         learning_rate=0.1,\n",
    "#         n_estimators=140, \n",
    "#         max_depth=3,  # max_depth = 3\n",
    "#         min_child_weight=1,  # min_child_weight = 5 \n",
    "#         gamma=0.2,  # gamma = 0.2\n",
    "#         subsample=0.6,  # subsample': 0.8\n",
    "#         colsample_bytree=0.8,  # colsample_bytree = 0.8\n",
    "#         objective='binary:logistic',\n",
    "#         n_jobs=N_JOBS, \n",
    "#         scale_pos_weight=1, \n",
    "#         seed=27), \n",
    "#     param_grid=param_test, scoring='roc_auc',n_jobs=N_JOBS,iid=False, cv=cv)\n",
    "# gsearch.fit(X_train, y_train)\n",
    "# gsearch.best_params_, gsearch.best_score_"
   ]
  },
  {
   "cell_type": "markdown",
   "metadata": {},
   "source": [
    "1e-05 is the best. Continue to tried 0 and 1e-05."
   ]
  },
  {
   "cell_type": "code",
   "execution_count": 270,
   "metadata": {},
   "outputs": [],
   "source": [
    "# param_test = {\n",
    "#     'reg_alpha':[0, 1e-05]\n",
    "# }\n",
    "# gsearch = GridSearchCV(\n",
    "#     estimator=XGBClassifier(\n",
    "#         learning_rate=0.1,\n",
    "#         n_estimators=140, \n",
    "#         max_depth=3,  # max_depth = 3\n",
    "#         min_child_weight=1,  # min_child_weight = 5 \n",
    "#         gamma=0.2,  # gamma = 0.2\n",
    "#         subsample=0.6,  # subsample': 0.8\n",
    "#         colsample_bytree=0.8,  # colsample_bytree = 0.8\n",
    "#         objective='binary:logistic',\n",
    "#         n_jobs=N_JOBS, \n",
    "#         scale_pos_weight=1, \n",
    "#         seed=27), \n",
    "#     param_grid=param_test, scoring='roc_auc', n_jobs=N_JOBS,iid=False, cv=cv)\n",
    "# gsearch.fit(X_train, y_train)\n",
    "# gsearch.best_params_, gsearch.best_score_"
   ]
  },
  {
   "cell_type": "markdown",
   "metadata": {},
   "source": [
    "Find `reg_alpha`: 0 is the best.\n",
    "\n",
    "Until now, we have below optimized hyperparameters.\n",
    "* max_depth: 3\n",
    "* min_child_weight: 5\n",
    "* gamma: 0.2\n",
    "* subsample': 0.8\n",
    "* colsample_bytree: 0.8\n",
    "* reg_alpha: 0"
   ]
  },
  {
   "cell_type": "code",
   "execution_count": 269,
   "metadata": {},
   "outputs": [],
   "source": [
    "# # try to train model\n",
    "# xgb_clf = XGBClassifier(\n",
    "#     learning_rate=0.03,\n",
    "#     n_estimators=5000,\n",
    "#     max_depth=3,  # max_depth = 3\n",
    "#     min_child_weight=1,  # min_child_weight = 5 \n",
    "#     gamma=0.2,  # gamma = 0.2\n",
    "#     subsample=0.6,  # subsample': 0.8\n",
    "#     colsample_bytree=0.8,  # colsample_bytree = 0.8\n",
    "#     reg_alpha=1,  # reg_alpha = 0\n",
    "#     objective= 'binary:logistic',\n",
    "#     n_jobs=N_JOBS,\n",
    "#     scale_pos_weight=1,\n",
    "#     seed=27)\n",
    "# modelfit(xgb_clf, X_train, y_train)"
   ]
  },
  {
   "cell_type": "markdown",
   "metadata": {},
   "source": [
    "#### Reduce Learning Rate\n",
    "Manually try `learning_rate` and find .11 is the best."
   ]
  },
  {
   "cell_type": "code",
   "execution_count": 268,
   "metadata": {},
   "outputs": [],
   "source": [
    "# # try to train model\n",
    "# xgb_clf = XGBClassifier(\n",
    "#     learning_rate=0.11,\n",
    "#     n_estimators=5000,\n",
    "#     max_depth=3,  # max_depth = 3\n",
    "#     min_child_weight=1,  # min_child_weight = 5\n",
    "#     gamma=0.2,  # gamma = 0.2\n",
    "#     subsample=0.6,  # subsample': 0.8\n",
    "#     colsample_bytree=0.8,  # colsample_bytree = 0.8\n",
    "#     reg_alpha=1,  # reg_alpha = 0\n",
    "#     objective= 'binary:logistic',\n",
    "#     n_jobs=N_JOBS,\n",
    "#     scale_pos_weight=1,\n",
    "#     seed=27)\n",
    "# modelfit(xgb_clf, X_train, y_train)"
   ]
  },
  {
   "cell_type": "markdown",
   "metadata": {},
   "source": [
    "After hyperparameter tuning, the final AUC score is 0.81.\n",
    "\n",
    "The most important feature is D19_SOZIALES by a large margin over the others. Unfortunately we don't have the description of this variable. Then the second one is D19_KONSUMTYP_MAX. We also have it's information. It maybe related to consumption type. SEMIO_PFLICHT is to indicate the person have a traditional mind. FINANZ_SPARER is an indicator to money saver. HH_EINKOMMEN_SCORE is to indicator of household income. KBA05_HERST2 is Audi car owner. So, company should focus on if the customer have a traditional mind, money saver, household income, or luxury car owner."
   ]
  },
  {
   "cell_type": "markdown",
   "metadata": {},
   "source": [
    "## Part 3: Kaggle Competition\n",
    "\n",
    "Now that you've created a model to predict which individuals are most likely to respond to a mailout campaign, it's time to test that model in competition through Kaggle. If you click on the link [here](http://www.kaggle.com/t/21e6d45d4c574c7fa2d868f0e8c83140), you'll be taken to the competition page where, if you have a Kaggle account, you can enter. If you're one of the top performers, you may have the chance to be contacted by a hiring manager from Arvato or Bertelsmann for an interview!\n",
    "\n",
    "Your entry to the competition should be a CSV file with two columns. The first column should be a copy of \"LNR\", which acts as an ID number for each individual in the \"TEST\" partition. The second column, \"RESPONSE\", should be some measure of how likely each individual became a customer – this might not be a straightforward probability. As you should have found in Part 2, there is a large output class imbalance, where most individuals did not respond to the mailout. Thus, predicting individual classes and using accuracy does not seem to be an appropriate performance evaluation method. Instead, the competition will be using AUC to evaluate performance. The exact values of the \"RESPONSE\" column do not matter as much: only that the higher values try to capture as many of the actual customers as possible, early in the ROC curve sweep."
   ]
  },
  {
   "cell_type": "code",
   "execution_count": 226,
   "metadata": {
    "collapsed": true
   },
   "outputs": [
    {
     "name": "stderr",
     "output_type": "stream",
     "text": [
      "/home/fc/anaconda3/lib/python3.7/site-packages/IPython/core/interactiveshell.py:3049: DtypeWarning: Columns (18,19) have mixed types. Specify dtype option on import or set low_memory=False.\n",
      "  interactivity=interactivity, compiler=compiler, result=result)\n"
     ]
    }
   ],
   "source": [
    "mailout_test = pd.read_csv('arvato_data/Udacity_MAILOUT_052018_TEST.csv', sep=';')"
   ]
  },
  {
   "cell_type": "code",
   "execution_count": 227,
   "metadata": {
    "collapsed": true
   },
   "outputs": [
    {
     "data": {
      "text/plain": [
       "(42833, 366)"
      ]
     },
     "execution_count": 227,
     "metadata": {},
     "output_type": "execute_result"
    }
   ],
   "source": [
    "mailout_test.shape"
   ]
  },
  {
   "cell_type": "code",
   "execution_count": 228,
   "metadata": {},
   "outputs": [
    {
     "name": "stdout",
     "output_type": "stream",
     "text": [
      "mix_cat...\n",
      "drop...\n",
      "log_transform...\n"
     ]
    },
    {
     "name": "stderr",
     "output_type": "stream",
     "text": [
      "/home/fc/anaconda3/lib/python3.7/site-packages/ipykernel_launcher.py:16: RuntimeWarning: invalid value encountered in log1p\n",
      "  app.launch_new_instance()\n",
      "/home/fc/anaconda3/lib/python3.7/site-packages/ipykernel_launcher.py:16: SettingWithCopyWarning: \n",
      "A value is trying to be set on a copy of a slice from a DataFrame.\n",
      "Try using .loc[row_indexer,col_indexer] = value instead\n",
      "\n",
      "See the caveats in the documentation: http://pandas.pydata.org/pandas-docs/stable/indexing.html#indexing-view-versus-copy\n",
      "  app.launch_new_instance()\n"
     ]
    },
    {
     "name": "stdout",
     "output_type": "stream",
     "text": [
      "cap outlier...\n"
     ]
    },
    {
     "name": "stderr",
     "output_type": "stream",
     "text": [
      "/home/fc/anaconda3/lib/python3.7/site-packages/pandas/core/indexing.py:543: SettingWithCopyWarning: \n",
      "A value is trying to be set on a copy of a slice from a DataFrame.\n",
      "Try using .loc[row_indexer,col_indexer] = value instead\n",
      "\n",
      "See the caveats in the documentation: http://pandas.pydata.org/pandas-docs/stable/indexing.html#indexing-view-versus-copy\n",
      "  self.obj[item] = s\n"
     ]
    },
    {
     "name": "stdout",
     "output_type": "stream",
     "text": [
      "cover...\n",
      "ANZ_PERSONEN in general population have min value: 0.6931471805599453 larger than sample: 0.0 -> drop\n",
      "ANZ_PERSONEN in general population have max value: 1.6094379124341003 smaller than sample: 1.791759469228055 -> drop\n",
      "fillna...\n"
     ]
    },
    {
     "name": "stderr",
     "output_type": "stream",
     "text": [
      "/home/fc/anaconda3/lib/python3.7/site-packages/ipykernel_launcher.py:20: SettingWithCopyWarning: \n",
      "A value is trying to be set on a copy of a slice from a DataFrame.\n",
      "Try using .loc[row_indexer,col_indexer] = value instead\n",
      "\n",
      "See the caveats in the documentation: http://pandas.pydata.org/pandas-docs/stable/indexing.html#indexing-view-versus-copy\n",
      "/home/fc/anaconda3/lib/python3.7/site-packages/ipykernel_launcher.py:25: SettingWithCopyWarning: \n",
      "A value is trying to be set on a copy of a slice from a DataFrame.\n",
      "Try using .loc[row_indexer,col_indexer] = value instead\n",
      "\n",
      "See the caveats in the documentation: http://pandas.pydata.org/pandas-docs/stable/indexing.html#indexing-view-versus-copy\n"
     ]
    },
    {
     "name": "stdout",
     "output_type": "stream",
     "text": [
      "onehot...\n",
      "clean_data successfully :)\n"
     ]
    }
   ],
   "source": [
    "# data preprocessing\n",
    "new_mailout_test_df = clean_data(mailout_test.copy())"
   ]
  },
  {
   "cell_type": "code",
   "execution_count": 229,
   "metadata": {},
   "outputs": [
    {
     "data": {
      "text/html": [
       "<div>\n",
       "<style scoped>\n",
       "    .dataframe tbody tr th:only-of-type {\n",
       "        vertical-align: middle;\n",
       "    }\n",
       "\n",
       "    .dataframe tbody tr th {\n",
       "        vertical-align: top;\n",
       "    }\n",
       "\n",
       "    .dataframe thead th {\n",
       "        text-align: right;\n",
       "    }\n",
       "</style>\n",
       "<table border=\"1\" class=\"dataframe\">\n",
       "  <thead>\n",
       "    <tr style=\"text-align: right;\">\n",
       "      <th></th>\n",
       "      <th>AKT_DAT_KL</th>\n",
       "      <th>ALTERSKATEGORIE_GROB</th>\n",
       "      <th>ANREDE_KZ</th>\n",
       "      <th>ANZ_HAUSHALTE_AKTIV</th>\n",
       "      <th>ANZ_HH_TITEL</th>\n",
       "      <th>ANZ_KINDER</th>\n",
       "      <th>ANZ_PERSONEN</th>\n",
       "      <th>ANZ_TITEL</th>\n",
       "      <th>ARBEIT</th>\n",
       "      <th>BALLRAUM</th>\n",
       "      <th>...</th>\n",
       "      <th>VK_DHT4A_8.0</th>\n",
       "      <th>VK_DHT4A_9.0</th>\n",
       "      <th>VK_DHT4A_10.0</th>\n",
       "      <th>VK_DHT4A_11.0</th>\n",
       "      <th>ZABEOTYP_1</th>\n",
       "      <th>ZABEOTYP_2</th>\n",
       "      <th>ZABEOTYP_3</th>\n",
       "      <th>ZABEOTYP_4</th>\n",
       "      <th>ZABEOTYP_5</th>\n",
       "      <th>ZABEOTYP_6</th>\n",
       "    </tr>\n",
       "    <tr>\n",
       "      <th>LNR</th>\n",
       "      <th></th>\n",
       "      <th></th>\n",
       "      <th></th>\n",
       "      <th></th>\n",
       "      <th></th>\n",
       "      <th></th>\n",
       "      <th></th>\n",
       "      <th></th>\n",
       "      <th></th>\n",
       "      <th></th>\n",
       "      <th></th>\n",
       "      <th></th>\n",
       "      <th></th>\n",
       "      <th></th>\n",
       "      <th></th>\n",
       "      <th></th>\n",
       "      <th></th>\n",
       "      <th></th>\n",
       "      <th></th>\n",
       "      <th></th>\n",
       "      <th></th>\n",
       "    </tr>\n",
       "  </thead>\n",
       "  <tbody>\n",
       "    <tr>\n",
       "      <th>1754</th>\n",
       "      <td>1.0</td>\n",
       "      <td>4</td>\n",
       "      <td>1</td>\n",
       "      <td>1.098612</td>\n",
       "      <td>0.0</td>\n",
       "      <td>0.0</td>\n",
       "      <td>1.098612</td>\n",
       "      <td>0.0</td>\n",
       "      <td>3.0</td>\n",
       "      <td>6.0</td>\n",
       "      <td>...</td>\n",
       "      <td>0</td>\n",
       "      <td>0</td>\n",
       "      <td>0</td>\n",
       "      <td>0</td>\n",
       "      <td>0</td>\n",
       "      <td>0</td>\n",
       "      <td>1</td>\n",
       "      <td>0</td>\n",
       "      <td>0</td>\n",
       "      <td>0</td>\n",
       "    </tr>\n",
       "    <tr>\n",
       "      <th>1770</th>\n",
       "      <td>1.0</td>\n",
       "      <td>4</td>\n",
       "      <td>1</td>\n",
       "      <td>3.044522</td>\n",
       "      <td>0.0</td>\n",
       "      <td>0.0</td>\n",
       "      <td>0.693147</td>\n",
       "      <td>0.0</td>\n",
       "      <td>4.0</td>\n",
       "      <td>7.0</td>\n",
       "      <td>...</td>\n",
       "      <td>0</td>\n",
       "      <td>0</td>\n",
       "      <td>0</td>\n",
       "      <td>0</td>\n",
       "      <td>0</td>\n",
       "      <td>0</td>\n",
       "      <td>1</td>\n",
       "      <td>0</td>\n",
       "      <td>0</td>\n",
       "      <td>0</td>\n",
       "    </tr>\n",
       "    <tr>\n",
       "      <th>1465</th>\n",
       "      <td>9.0</td>\n",
       "      <td>4</td>\n",
       "      <td>2</td>\n",
       "      <td>1.098612</td>\n",
       "      <td>0.0</td>\n",
       "      <td>0.0</td>\n",
       "      <td>1.609438</td>\n",
       "      <td>0.0</td>\n",
       "      <td>4.0</td>\n",
       "      <td>1.0</td>\n",
       "      <td>...</td>\n",
       "      <td>0</td>\n",
       "      <td>1</td>\n",
       "      <td>0</td>\n",
       "      <td>0</td>\n",
       "      <td>0</td>\n",
       "      <td>0</td>\n",
       "      <td>1</td>\n",
       "      <td>0</td>\n",
       "      <td>0</td>\n",
       "      <td>0</td>\n",
       "    </tr>\n",
       "    <tr>\n",
       "      <th>1470</th>\n",
       "      <td>7.0</td>\n",
       "      <td>4</td>\n",
       "      <td>2</td>\n",
       "      <td>0.693147</td>\n",
       "      <td>0.0</td>\n",
       "      <td>0.0</td>\n",
       "      <td>1.098612</td>\n",
       "      <td>0.0</td>\n",
       "      <td>4.0</td>\n",
       "      <td>1.0</td>\n",
       "      <td>...</td>\n",
       "      <td>0</td>\n",
       "      <td>0</td>\n",
       "      <td>0</td>\n",
       "      <td>0</td>\n",
       "      <td>0</td>\n",
       "      <td>0</td>\n",
       "      <td>1</td>\n",
       "      <td>0</td>\n",
       "      <td>0</td>\n",
       "      <td>0</td>\n",
       "    </tr>\n",
       "    <tr>\n",
       "      <th>1478</th>\n",
       "      <td>1.0</td>\n",
       "      <td>4</td>\n",
       "      <td>2</td>\n",
       "      <td>0.693147</td>\n",
       "      <td>0.0</td>\n",
       "      <td>0.0</td>\n",
       "      <td>1.609438</td>\n",
       "      <td>0.0</td>\n",
       "      <td>3.0</td>\n",
       "      <td>6.0</td>\n",
       "      <td>...</td>\n",
       "      <td>0</td>\n",
       "      <td>0</td>\n",
       "      <td>0</td>\n",
       "      <td>0</td>\n",
       "      <td>0</td>\n",
       "      <td>0</td>\n",
       "      <td>0</td>\n",
       "      <td>1</td>\n",
       "      <td>0</td>\n",
       "      <td>0</td>\n",
       "    </tr>\n",
       "  </tbody>\n",
       "</table>\n",
       "<p>5 rows × 408 columns</p>\n",
       "</div>"
      ],
      "text/plain": [
       "      AKT_DAT_KL  ALTERSKATEGORIE_GROB  ANREDE_KZ  ANZ_HAUSHALTE_AKTIV  \\\n",
       "LNR                                                                      \n",
       "1754         1.0                     4          1             1.098612   \n",
       "1770         1.0                     4          1             3.044522   \n",
       "1465         9.0                     4          2             1.098612   \n",
       "1470         7.0                     4          2             0.693147   \n",
       "1478         1.0                     4          2             0.693147   \n",
       "\n",
       "      ANZ_HH_TITEL  ANZ_KINDER  ANZ_PERSONEN  ANZ_TITEL  ARBEIT  BALLRAUM  \\\n",
       "LNR                                                                         \n",
       "1754           0.0         0.0      1.098612        0.0     3.0       6.0   \n",
       "1770           0.0         0.0      0.693147        0.0     4.0       7.0   \n",
       "1465           0.0         0.0      1.609438        0.0     4.0       1.0   \n",
       "1470           0.0         0.0      1.098612        0.0     4.0       1.0   \n",
       "1478           0.0         0.0      1.609438        0.0     3.0       6.0   \n",
       "\n",
       "      ...  VK_DHT4A_8.0  VK_DHT4A_9.0  VK_DHT4A_10.0  VK_DHT4A_11.0  \\\n",
       "LNR   ...                                                             \n",
       "1754  ...             0             0              0              0   \n",
       "1770  ...             0             0              0              0   \n",
       "1465  ...             0             1              0              0   \n",
       "1470  ...             0             0              0              0   \n",
       "1478  ...             0             0              0              0   \n",
       "\n",
       "      ZABEOTYP_1  ZABEOTYP_2  ZABEOTYP_3  ZABEOTYP_4  ZABEOTYP_5  ZABEOTYP_6  \n",
       "LNR                                                                           \n",
       "1754           0           0           1           0           0           0  \n",
       "1770           0           0           1           0           0           0  \n",
       "1465           0           0           1           0           0           0  \n",
       "1470           0           0           1           0           0           0  \n",
       "1478           0           0           0           1           0           0  \n",
       "\n",
       "[5 rows x 408 columns]"
      ]
     },
     "execution_count": 229,
     "metadata": {},
     "output_type": "execute_result"
    }
   ],
   "source": [
    "new_mailout_test_df.head()"
   ]
  },
  {
   "cell_type": "code",
   "execution_count": 230,
   "metadata": {},
   "outputs": [],
   "source": [
    "if DEBUG:\n",
    "    new_mailout_test_df.to_pickle('new_mailout_test_df.pickle')"
   ]
  },
  {
   "cell_type": "code",
   "execution_count": 231,
   "metadata": {},
   "outputs": [],
   "source": [
    "if DEBUG:\n",
    "    new_mailout_test_df = pd.read_pickle(\"new_mailout_test_df.pickle\")"
   ]
  },
  {
   "cell_type": "code",
   "execution_count": 232,
   "metadata": {},
   "outputs": [
    {
     "data": {
      "text/plain": [
       "(42833, 408)"
      ]
     },
     "execution_count": 232,
     "metadata": {},
     "output_type": "execute_result"
    }
   ],
   "source": [
    "X_test = new_mailout_test_df\n",
    "\n",
    "# scaling\n",
    "X_test = pd.DataFrame(scaler.fit_transform(X_test.values), columns=X_test.columns, index=X_test.index)  # scaling\n",
    "\n",
    "X_test.shape"
   ]
  },
  {
   "cell_type": "code",
   "execution_count": 265,
   "metadata": {},
   "outputs": [
    {
     "data": {
      "text/plain": [
       "array([0.03540825, 0.02610133, 0.00680745, ..., 0.0233471 , 0.03429727,\n",
       "       0.02677177], dtype=float32)"
      ]
     },
     "execution_count": 265,
     "metadata": {},
     "output_type": "execute_result"
    }
   ],
   "source": [
    "# prediction\n",
    "y_predict = xgb_clf.predict_proba(X_test)\n",
    "y_predict[:,1]"
   ]
  },
  {
   "cell_type": "code",
   "execution_count": 266,
   "metadata": {},
   "outputs": [],
   "source": [
    "# generate prediction file: kaggle_predictions.txt\n",
    "pd.DataFrame(index=mailout_test.LNR, data=y_predict[:, 1], columns=['RESPONSE']).to_csv(\"kaggle_predictions.txt\")"
   ]
  },
  {
   "cell_type": "code",
   "execution_count": 267,
   "metadata": {},
   "outputs": [
    {
     "data": {
      "text/html": [
       "<div>\n",
       "<style scoped>\n",
       "    .dataframe tbody tr th:only-of-type {\n",
       "        vertical-align: middle;\n",
       "    }\n",
       "\n",
       "    .dataframe tbody tr th {\n",
       "        vertical-align: top;\n",
       "    }\n",
       "\n",
       "    .dataframe thead th {\n",
       "        text-align: right;\n",
       "    }\n",
       "</style>\n",
       "<table border=\"1\" class=\"dataframe\">\n",
       "  <thead>\n",
       "    <tr style=\"text-align: right;\">\n",
       "      <th></th>\n",
       "      <th>LNR</th>\n",
       "      <th>RESPONSE</th>\n",
       "    </tr>\n",
       "  </thead>\n",
       "  <tbody>\n",
       "    <tr>\n",
       "      <th>0</th>\n",
       "      <td>1754</td>\n",
       "      <td>0.035408</td>\n",
       "    </tr>\n",
       "    <tr>\n",
       "      <th>1</th>\n",
       "      <td>1770</td>\n",
       "      <td>0.026101</td>\n",
       "    </tr>\n",
       "    <tr>\n",
       "      <th>2</th>\n",
       "      <td>1465</td>\n",
       "      <td>0.006807</td>\n",
       "    </tr>\n",
       "    <tr>\n",
       "      <th>3</th>\n",
       "      <td>1470</td>\n",
       "      <td>0.003998</td>\n",
       "    </tr>\n",
       "    <tr>\n",
       "      <th>4</th>\n",
       "      <td>1478</td>\n",
       "      <td>0.001954</td>\n",
       "    </tr>\n",
       "  </tbody>\n",
       "</table>\n",
       "</div>"
      ],
      "text/plain": [
       "    LNR  RESPONSE\n",
       "0  1754  0.035408\n",
       "1  1770  0.026101\n",
       "2  1465  0.006807\n",
       "3  1470  0.003998\n",
       "4  1478  0.001954"
      ]
     },
     "execution_count": 267,
     "metadata": {},
     "output_type": "execute_result"
    }
   ],
   "source": [
    "pd.read_csv('kaggle_predictions.txt').head()"
   ]
  },
  {
   "cell_type": "code",
   "execution_count": null,
   "metadata": {},
   "outputs": [],
   "source": [
    "from subprocess import call\n",
    "call(['python', '-m', 'nbconvert', 'Arvato Project Workbook.ipynb'])"
   ]
  },
  {
   "cell_type": "code",
   "execution_count": null,
   "metadata": {},
   "outputs": [],
   "source": []
  }
 ],
 "metadata": {
  "kernelspec": {
   "display_name": "Python 3",
   "language": "python",
   "name": "python3"
  },
  "language_info": {
   "codemirror_mode": {
    "name": "ipython",
    "version": 3
   },
   "file_extension": ".py",
   "mimetype": "text/x-python",
   "name": "python",
   "nbconvert_exporter": "python",
   "pygments_lexer": "ipython3",
   "version": "3.7.3"
  }
 },
 "nbformat": 4,
 "nbformat_minor": 2
}
