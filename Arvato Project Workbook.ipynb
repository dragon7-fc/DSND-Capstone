{
 "cells": [
  {
   "cell_type": "markdown",
   "metadata": {},
   "source": [
    "# Capstone Project: Create a Customer Segmentation Report for Arvato Financial Services\n",
    "\n",
    "In this project, you will analyze demographics data for customers of a mail-order sales company in Germany, comparing it against demographics information for the general population. You'll use unsupervised learning techniques to perform customer segmentation, identifying the parts of the population that best describe the core customer base of the company. Then, you'll apply what you've learned on a third dataset with demographics information for targets of a marketing campaign for the company, and use a model to predict which individuals are most likely to convert into becoming customers for the company. The data that you will use has been provided by our partners at Bertelsmann Arvato Analytics, and represents a real-life data science task.\n",
    "\n",
    "If you completed the first term of this program, you will be familiar with the first part of this project, from the unsupervised learning project. The versions of those two datasets used in this project will include many more features and has not been pre-cleaned. You are also free to choose whatever approach you'd like to analyzing the data rather than follow pre-determined steps. In your work on this project, make sure that you carefully document your steps and decisions, since your main deliverable for this project will be a blog post reporting your findings."
   ]
  },
  {
   "cell_type": "code",
   "execution_count": 1,
   "metadata": {},
   "outputs": [],
   "source": [
    "# import libraries here; add more as necessary\n",
    "import numpy as np\n",
    "import pandas as pd\n",
    "import matplotlib.pyplot as plt\n",
    "import seaborn as sns\n",
    "\n",
    "# magic word for producing visualizations in notebook\n",
    "%matplotlib inline"
   ]
  },
  {
   "cell_type": "markdown",
   "metadata": {},
   "source": [
    "## Part 0: Get to Know the Data\n",
    "\n",
    "There are four data files associated with this project:\n",
    "\n",
    "- `Udacity_AZDIAS_052018.csv`: Demographics data for the general population of Germany; 891 211 persons (rows) x 366 features (columns).\n",
    "- `Udacity_CUSTOMERS_052018.csv`: Demographics data for customers of a mail-order company; 191 652 persons (rows) x 369 features (columns).\n",
    "- `Udacity_MAILOUT_052018_TRAIN.csv`: Demographics data for individuals who were targets of a marketing campaign; 42 982 persons (rows) x 367 (columns).\n",
    "- `Udacity_MAILOUT_052018_TEST.csv`: Demographics data for individuals who were targets of a marketing campaign; 42 833 persons (rows) x 366 (columns).\n",
    "\n",
    "Each row of the demographics files represents a single person, but also includes information outside of individuals, including information about their household, building, and neighborhood. Use the information from the first two files to figure out how customers (\"CUSTOMERS\") are similar to or differ from the general population at large (\"AZDIAS\"), then use your analysis to make predictions on the other two files (\"MAILOUT\"), predicting which recipients are most likely to become a customer for the mail-order company.\n",
    "\n",
    "The \"CUSTOMERS\" file contains three extra columns ('CUSTOMER_GROUP', 'ONLINE_PURCHASE', and 'PRODUCT_GROUP'), which provide broad information about the customers depicted in the file. The original \"MAILOUT\" file included one additional column, \"RESPONSE\", which indicated whether or not each recipient became a customer of the company. For the \"TRAIN\" subset, this column has been retained, but in the \"TEST\" subset it has been removed; it is against that withheld column that your final predictions will be assessed in the Kaggle competition.\n",
    "\n",
    "Otherwise, all of the remaining columns are the same between the three data files. For more information about the columns depicted in the files, you can refer to two Excel spreadsheets provided in the workspace. [One of them](./DIAS Information Levels - Attributes 2017.xlsx) is a top-level list of attributes and descriptions, organized by informational category. [The other](./DIAS Attributes - Values 2017.xlsx) is a detailed mapping of data values for each feature in alphabetical order.\n",
    "\n",
    "In the below cell, we've provided some initial code to load in the first two datasets. Note for all of the `.csv` data files in this project that they're semicolon (`;`) delimited, so an additional argument in the [`read_csv()`](https://pandas.pydata.org/pandas-docs/stable/generated/pandas.read_csv.html) call has been included to read in the data properly. Also, considering the size of the datasets, it may take some time for them to load completely.\n",
    "\n",
    "You'll notice when the data is loaded in that a warning message will immediately pop up. Before you really start digging into the modeling and analysis, you're going to need to perform some cleaning. Take some time to browse the structure of the data and look over the informational spreadsheets to understand the data values. Make some decisions on which features to keep, which features to drop, and if any revisions need to be made on data formats. It'll be a good idea to create a function with pre-processing steps, since you'll need to clean all of the datasets before you work with them."
   ]
  },
  {
   "cell_type": "markdown",
   "metadata": {},
   "source": [
    "### Data Exploration - general population vs. customers\n",
    "\n",
    "#### Load general population and customers dataset"
   ]
  },
  {
   "cell_type": "code",
   "execution_count": 2,
   "metadata": {},
   "outputs": [
    {
     "name": "stderr",
     "output_type": "stream",
     "text": [
      "/Users/fc/anaconda3/lib/python3.6/site-packages/IPython/core/interactiveshell.py:2698: DtypeWarning: Columns (18,19) have mixed types. Specify dtype option on import or set low_memory=False.\n",
      "  interactivity=interactivity, compiler=compiler, result=result)\n"
     ]
    }
   ],
   "source": [
    "# load in the data\n",
    "# general population dataset\n",
    "azdias_df = pd.read_csv('arvato_data/Udacity_AZDIAS_052018.csv', sep=';')\n",
    "\n",
    "# customers dataset\n",
    "customers_df = pd.read_csv('arvato_data/Udacity_CUSTOMERS_052018.csv', sep=';')"
   ]
  },
  {
   "cell_type": "code",
   "execution_count": 3,
   "metadata": {},
   "outputs": [
    {
     "name": "stdout",
     "output_type": "stream",
     "text": [
      "<class 'pandas.core.frame.DataFrame'>\n",
      "RangeIndex: 891221 entries, 0 to 891220\n",
      "Columns: 366 entries, LNR to ALTERSKATEGORIE_GROB\n",
      "dtypes: float64(267), int64(93), object(6)\n",
      "memory usage: 2.4+ GB\n"
     ]
    }
   ],
   "source": [
    "azdias_df.info()"
   ]
  },
  {
   "cell_type": "code",
   "execution_count": 4,
   "metadata": {},
   "outputs": [
    {
     "data": {
      "text/html": [
       "<div>\n",
       "<style scoped>\n",
       "    .dataframe tbody tr th:only-of-type {\n",
       "        vertical-align: middle;\n",
       "    }\n",
       "\n",
       "    .dataframe tbody tr th {\n",
       "        vertical-align: top;\n",
       "    }\n",
       "\n",
       "    .dataframe thead th {\n",
       "        text-align: right;\n",
       "    }\n",
       "</style>\n",
       "<table border=\"1\" class=\"dataframe\">\n",
       "  <thead>\n",
       "    <tr style=\"text-align: right;\">\n",
       "      <th></th>\n",
       "      <th>LNR</th>\n",
       "      <th>AGER_TYP</th>\n",
       "      <th>AKT_DAT_KL</th>\n",
       "      <th>ALTER_HH</th>\n",
       "      <th>ALTER_KIND1</th>\n",
       "      <th>ALTER_KIND2</th>\n",
       "      <th>ALTER_KIND3</th>\n",
       "      <th>ALTER_KIND4</th>\n",
       "      <th>ALTERSKATEGORIE_FEIN</th>\n",
       "      <th>ANZ_HAUSHALTE_AKTIV</th>\n",
       "      <th>...</th>\n",
       "      <th>VHN</th>\n",
       "      <th>VK_DHT4A</th>\n",
       "      <th>VK_DISTANZ</th>\n",
       "      <th>VK_ZG11</th>\n",
       "      <th>W_KEIT_KIND_HH</th>\n",
       "      <th>WOHNDAUER_2008</th>\n",
       "      <th>WOHNLAGE</th>\n",
       "      <th>ZABEOTYP</th>\n",
       "      <th>ANREDE_KZ</th>\n",
       "      <th>ALTERSKATEGORIE_GROB</th>\n",
       "    </tr>\n",
       "  </thead>\n",
       "  <tbody>\n",
       "    <tr>\n",
       "      <th>0</th>\n",
       "      <td>910215</td>\n",
       "      <td>-1</td>\n",
       "      <td>NaN</td>\n",
       "      <td>NaN</td>\n",
       "      <td>NaN</td>\n",
       "      <td>NaN</td>\n",
       "      <td>NaN</td>\n",
       "      <td>NaN</td>\n",
       "      <td>NaN</td>\n",
       "      <td>NaN</td>\n",
       "      <td>...</td>\n",
       "      <td>NaN</td>\n",
       "      <td>NaN</td>\n",
       "      <td>NaN</td>\n",
       "      <td>NaN</td>\n",
       "      <td>NaN</td>\n",
       "      <td>NaN</td>\n",
       "      <td>NaN</td>\n",
       "      <td>3</td>\n",
       "      <td>1</td>\n",
       "      <td>2</td>\n",
       "    </tr>\n",
       "    <tr>\n",
       "      <th>1</th>\n",
       "      <td>910220</td>\n",
       "      <td>-1</td>\n",
       "      <td>9.0</td>\n",
       "      <td>0.0</td>\n",
       "      <td>NaN</td>\n",
       "      <td>NaN</td>\n",
       "      <td>NaN</td>\n",
       "      <td>NaN</td>\n",
       "      <td>21.0</td>\n",
       "      <td>11.0</td>\n",
       "      <td>...</td>\n",
       "      <td>4.0</td>\n",
       "      <td>8.0</td>\n",
       "      <td>11.0</td>\n",
       "      <td>10.0</td>\n",
       "      <td>3.0</td>\n",
       "      <td>9.0</td>\n",
       "      <td>4.0</td>\n",
       "      <td>5</td>\n",
       "      <td>2</td>\n",
       "      <td>1</td>\n",
       "    </tr>\n",
       "    <tr>\n",
       "      <th>2</th>\n",
       "      <td>910225</td>\n",
       "      <td>-1</td>\n",
       "      <td>9.0</td>\n",
       "      <td>17.0</td>\n",
       "      <td>NaN</td>\n",
       "      <td>NaN</td>\n",
       "      <td>NaN</td>\n",
       "      <td>NaN</td>\n",
       "      <td>17.0</td>\n",
       "      <td>10.0</td>\n",
       "      <td>...</td>\n",
       "      <td>2.0</td>\n",
       "      <td>9.0</td>\n",
       "      <td>9.0</td>\n",
       "      <td>6.0</td>\n",
       "      <td>3.0</td>\n",
       "      <td>9.0</td>\n",
       "      <td>2.0</td>\n",
       "      <td>5</td>\n",
       "      <td>2</td>\n",
       "      <td>3</td>\n",
       "    </tr>\n",
       "    <tr>\n",
       "      <th>3</th>\n",
       "      <td>910226</td>\n",
       "      <td>2</td>\n",
       "      <td>1.0</td>\n",
       "      <td>13.0</td>\n",
       "      <td>NaN</td>\n",
       "      <td>NaN</td>\n",
       "      <td>NaN</td>\n",
       "      <td>NaN</td>\n",
       "      <td>13.0</td>\n",
       "      <td>1.0</td>\n",
       "      <td>...</td>\n",
       "      <td>0.0</td>\n",
       "      <td>7.0</td>\n",
       "      <td>10.0</td>\n",
       "      <td>11.0</td>\n",
       "      <td>NaN</td>\n",
       "      <td>9.0</td>\n",
       "      <td>7.0</td>\n",
       "      <td>3</td>\n",
       "      <td>2</td>\n",
       "      <td>4</td>\n",
       "    </tr>\n",
       "    <tr>\n",
       "      <th>4</th>\n",
       "      <td>910241</td>\n",
       "      <td>-1</td>\n",
       "      <td>1.0</td>\n",
       "      <td>20.0</td>\n",
       "      <td>NaN</td>\n",
       "      <td>NaN</td>\n",
       "      <td>NaN</td>\n",
       "      <td>NaN</td>\n",
       "      <td>14.0</td>\n",
       "      <td>3.0</td>\n",
       "      <td>...</td>\n",
       "      <td>2.0</td>\n",
       "      <td>3.0</td>\n",
       "      <td>5.0</td>\n",
       "      <td>4.0</td>\n",
       "      <td>2.0</td>\n",
       "      <td>9.0</td>\n",
       "      <td>3.0</td>\n",
       "      <td>4</td>\n",
       "      <td>1</td>\n",
       "      <td>3</td>\n",
       "    </tr>\n",
       "  </tbody>\n",
       "</table>\n",
       "<p>5 rows × 366 columns</p>\n",
       "</div>"
      ],
      "text/plain": [
       "      LNR  AGER_TYP  AKT_DAT_KL  ALTER_HH  ALTER_KIND1  ALTER_KIND2  \\\n",
       "0  910215        -1         NaN       NaN          NaN          NaN   \n",
       "1  910220        -1         9.0       0.0          NaN          NaN   \n",
       "2  910225        -1         9.0      17.0          NaN          NaN   \n",
       "3  910226         2         1.0      13.0          NaN          NaN   \n",
       "4  910241        -1         1.0      20.0          NaN          NaN   \n",
       "\n",
       "   ALTER_KIND3  ALTER_KIND4  ALTERSKATEGORIE_FEIN  ANZ_HAUSHALTE_AKTIV  ...  \\\n",
       "0          NaN          NaN                   NaN                  NaN  ...   \n",
       "1          NaN          NaN                  21.0                 11.0  ...   \n",
       "2          NaN          NaN                  17.0                 10.0  ...   \n",
       "3          NaN          NaN                  13.0                  1.0  ...   \n",
       "4          NaN          NaN                  14.0                  3.0  ...   \n",
       "\n",
       "   VHN  VK_DHT4A  VK_DISTANZ  VK_ZG11  W_KEIT_KIND_HH  WOHNDAUER_2008  \\\n",
       "0  NaN       NaN         NaN      NaN             NaN             NaN   \n",
       "1  4.0       8.0        11.0     10.0             3.0             9.0   \n",
       "2  2.0       9.0         9.0      6.0             3.0             9.0   \n",
       "3  0.0       7.0        10.0     11.0             NaN             9.0   \n",
       "4  2.0       3.0         5.0      4.0             2.0             9.0   \n",
       "\n",
       "   WOHNLAGE ZABEOTYP ANREDE_KZ ALTERSKATEGORIE_GROB  \n",
       "0       NaN        3         1                    2  \n",
       "1       4.0        5         2                    1  \n",
       "2       2.0        5         2                    3  \n",
       "3       7.0        3         2                    4  \n",
       "4       3.0        4         1                    3  \n",
       "\n",
       "[5 rows x 366 columns]"
      ]
     },
     "execution_count": 4,
     "metadata": {},
     "output_type": "execute_result"
    }
   ],
   "source": [
    "# Be sure to add in a lot more cells (both markdown and code) to document your\n",
    "# approach and findings!\n",
    "azdias_df.head()"
   ]
  },
  {
   "cell_type": "code",
   "execution_count": 5,
   "metadata": {},
   "outputs": [
    {
     "name": "stdout",
     "output_type": "stream",
     "text": [
      "<class 'pandas.core.frame.DataFrame'>\n",
      "RangeIndex: 191652 entries, 0 to 191651\n",
      "Columns: 369 entries, LNR to ALTERSKATEGORIE_GROB\n",
      "dtypes: float64(267), int64(94), object(8)\n",
      "memory usage: 539.5+ MB\n"
     ]
    }
   ],
   "source": [
    "customers_df.info()"
   ]
  },
  {
   "cell_type": "code",
   "execution_count": 6,
   "metadata": {},
   "outputs": [
    {
     "data": {
      "text/html": [
       "<div>\n",
       "<style scoped>\n",
       "    .dataframe tbody tr th:only-of-type {\n",
       "        vertical-align: middle;\n",
       "    }\n",
       "\n",
       "    .dataframe tbody tr th {\n",
       "        vertical-align: top;\n",
       "    }\n",
       "\n",
       "    .dataframe thead th {\n",
       "        text-align: right;\n",
       "    }\n",
       "</style>\n",
       "<table border=\"1\" class=\"dataframe\">\n",
       "  <thead>\n",
       "    <tr style=\"text-align: right;\">\n",
       "      <th></th>\n",
       "      <th>LNR</th>\n",
       "      <th>AGER_TYP</th>\n",
       "      <th>AKT_DAT_KL</th>\n",
       "      <th>ALTER_HH</th>\n",
       "      <th>ALTER_KIND1</th>\n",
       "      <th>ALTER_KIND2</th>\n",
       "      <th>ALTER_KIND3</th>\n",
       "      <th>ALTER_KIND4</th>\n",
       "      <th>ALTERSKATEGORIE_FEIN</th>\n",
       "      <th>ANZ_HAUSHALTE_AKTIV</th>\n",
       "      <th>...</th>\n",
       "      <th>VK_ZG11</th>\n",
       "      <th>W_KEIT_KIND_HH</th>\n",
       "      <th>WOHNDAUER_2008</th>\n",
       "      <th>WOHNLAGE</th>\n",
       "      <th>ZABEOTYP</th>\n",
       "      <th>PRODUCT_GROUP</th>\n",
       "      <th>CUSTOMER_GROUP</th>\n",
       "      <th>ONLINE_PURCHASE</th>\n",
       "      <th>ANREDE_KZ</th>\n",
       "      <th>ALTERSKATEGORIE_GROB</th>\n",
       "    </tr>\n",
       "  </thead>\n",
       "  <tbody>\n",
       "    <tr>\n",
       "      <th>0</th>\n",
       "      <td>9626</td>\n",
       "      <td>2</td>\n",
       "      <td>1.0</td>\n",
       "      <td>10.0</td>\n",
       "      <td>NaN</td>\n",
       "      <td>NaN</td>\n",
       "      <td>NaN</td>\n",
       "      <td>NaN</td>\n",
       "      <td>10.0</td>\n",
       "      <td>1.0</td>\n",
       "      <td>...</td>\n",
       "      <td>2.0</td>\n",
       "      <td>6.0</td>\n",
       "      <td>9.0</td>\n",
       "      <td>7.0</td>\n",
       "      <td>3</td>\n",
       "      <td>COSMETIC_AND_FOOD</td>\n",
       "      <td>MULTI_BUYER</td>\n",
       "      <td>0</td>\n",
       "      <td>1</td>\n",
       "      <td>4</td>\n",
       "    </tr>\n",
       "    <tr>\n",
       "      <th>1</th>\n",
       "      <td>9628</td>\n",
       "      <td>-1</td>\n",
       "      <td>9.0</td>\n",
       "      <td>11.0</td>\n",
       "      <td>NaN</td>\n",
       "      <td>NaN</td>\n",
       "      <td>NaN</td>\n",
       "      <td>NaN</td>\n",
       "      <td>NaN</td>\n",
       "      <td>NaN</td>\n",
       "      <td>...</td>\n",
       "      <td>3.0</td>\n",
       "      <td>0.0</td>\n",
       "      <td>9.0</td>\n",
       "      <td>NaN</td>\n",
       "      <td>3</td>\n",
       "      <td>FOOD</td>\n",
       "      <td>SINGLE_BUYER</td>\n",
       "      <td>0</td>\n",
       "      <td>1</td>\n",
       "      <td>4</td>\n",
       "    </tr>\n",
       "    <tr>\n",
       "      <th>2</th>\n",
       "      <td>143872</td>\n",
       "      <td>-1</td>\n",
       "      <td>1.0</td>\n",
       "      <td>6.0</td>\n",
       "      <td>NaN</td>\n",
       "      <td>NaN</td>\n",
       "      <td>NaN</td>\n",
       "      <td>NaN</td>\n",
       "      <td>0.0</td>\n",
       "      <td>1.0</td>\n",
       "      <td>...</td>\n",
       "      <td>11.0</td>\n",
       "      <td>6.0</td>\n",
       "      <td>9.0</td>\n",
       "      <td>2.0</td>\n",
       "      <td>3</td>\n",
       "      <td>COSMETIC_AND_FOOD</td>\n",
       "      <td>MULTI_BUYER</td>\n",
       "      <td>0</td>\n",
       "      <td>2</td>\n",
       "      <td>4</td>\n",
       "    </tr>\n",
       "    <tr>\n",
       "      <th>3</th>\n",
       "      <td>143873</td>\n",
       "      <td>1</td>\n",
       "      <td>1.0</td>\n",
       "      <td>8.0</td>\n",
       "      <td>NaN</td>\n",
       "      <td>NaN</td>\n",
       "      <td>NaN</td>\n",
       "      <td>NaN</td>\n",
       "      <td>8.0</td>\n",
       "      <td>0.0</td>\n",
       "      <td>...</td>\n",
       "      <td>2.0</td>\n",
       "      <td>NaN</td>\n",
       "      <td>9.0</td>\n",
       "      <td>7.0</td>\n",
       "      <td>1</td>\n",
       "      <td>COSMETIC</td>\n",
       "      <td>MULTI_BUYER</td>\n",
       "      <td>0</td>\n",
       "      <td>1</td>\n",
       "      <td>4</td>\n",
       "    </tr>\n",
       "    <tr>\n",
       "      <th>4</th>\n",
       "      <td>143874</td>\n",
       "      <td>-1</td>\n",
       "      <td>1.0</td>\n",
       "      <td>20.0</td>\n",
       "      <td>NaN</td>\n",
       "      <td>NaN</td>\n",
       "      <td>NaN</td>\n",
       "      <td>NaN</td>\n",
       "      <td>14.0</td>\n",
       "      <td>7.0</td>\n",
       "      <td>...</td>\n",
       "      <td>4.0</td>\n",
       "      <td>2.0</td>\n",
       "      <td>9.0</td>\n",
       "      <td>3.0</td>\n",
       "      <td>1</td>\n",
       "      <td>FOOD</td>\n",
       "      <td>MULTI_BUYER</td>\n",
       "      <td>0</td>\n",
       "      <td>1</td>\n",
       "      <td>3</td>\n",
       "    </tr>\n",
       "  </tbody>\n",
       "</table>\n",
       "<p>5 rows × 369 columns</p>\n",
       "</div>"
      ],
      "text/plain": [
       "      LNR  AGER_TYP  AKT_DAT_KL  ALTER_HH  ALTER_KIND1  ALTER_KIND2  \\\n",
       "0    9626         2         1.0      10.0          NaN          NaN   \n",
       "1    9628        -1         9.0      11.0          NaN          NaN   \n",
       "2  143872        -1         1.0       6.0          NaN          NaN   \n",
       "3  143873         1         1.0       8.0          NaN          NaN   \n",
       "4  143874        -1         1.0      20.0          NaN          NaN   \n",
       "\n",
       "   ALTER_KIND3  ALTER_KIND4  ALTERSKATEGORIE_FEIN  ANZ_HAUSHALTE_AKTIV  ...  \\\n",
       "0          NaN          NaN                  10.0                  1.0  ...   \n",
       "1          NaN          NaN                   NaN                  NaN  ...   \n",
       "2          NaN          NaN                   0.0                  1.0  ...   \n",
       "3          NaN          NaN                   8.0                  0.0  ...   \n",
       "4          NaN          NaN                  14.0                  7.0  ...   \n",
       "\n",
       "   VK_ZG11  W_KEIT_KIND_HH  WOHNDAUER_2008  WOHNLAGE  ZABEOTYP  \\\n",
       "0      2.0             6.0             9.0       7.0         3   \n",
       "1      3.0             0.0             9.0       NaN         3   \n",
       "2     11.0             6.0             9.0       2.0         3   \n",
       "3      2.0             NaN             9.0       7.0         1   \n",
       "4      4.0             2.0             9.0       3.0         1   \n",
       "\n",
       "       PRODUCT_GROUP  CUSTOMER_GROUP ONLINE_PURCHASE ANREDE_KZ  \\\n",
       "0  COSMETIC_AND_FOOD     MULTI_BUYER               0         1   \n",
       "1               FOOD    SINGLE_BUYER               0         1   \n",
       "2  COSMETIC_AND_FOOD     MULTI_BUYER               0         2   \n",
       "3           COSMETIC     MULTI_BUYER               0         1   \n",
       "4               FOOD     MULTI_BUYER               0         1   \n",
       "\n",
       "  ALTERSKATEGORIE_GROB  \n",
       "0                    4  \n",
       "1                    4  \n",
       "2                    4  \n",
       "3                    4  \n",
       "4                    3  \n",
       "\n",
       "[5 rows x 369 columns]"
      ]
     },
     "execution_count": 6,
     "metadata": {},
     "output_type": "execute_result"
    }
   ],
   "source": [
    "customers_df.head()"
   ]
  },
  {
   "cell_type": "markdown",
   "metadata": {},
   "source": [
    "`azdias_df` and `customers_df` have 366 common features, which is the same as `azdias_df` features."
   ]
  },
  {
   "cell_type": "code",
   "execution_count": 7,
   "metadata": {},
   "outputs": [
    {
     "data": {
      "text/plain": [
       "(366,)"
      ]
     },
     "execution_count": 7,
     "metadata": {},
     "output_type": "execute_result"
    }
   ],
   "source": [
    "np.intersect1d(azdias_df.columns.values, customers_df.columns.values).shape"
   ]
  },
  {
   "cell_type": "markdown",
   "metadata": {},
   "source": [
    "create `only_attr_customers` to hold `customer_df` only features"
   ]
  },
  {
   "cell_type": "code",
   "execution_count": 8,
   "metadata": {},
   "outputs": [
    {
     "data": {
      "text/plain": [
       "array(['CUSTOMER_GROUP', 'ONLINE_PURCHASE', 'PRODUCT_GROUP'], dtype=object)"
      ]
     },
     "execution_count": 8,
     "metadata": {},
     "output_type": "execute_result"
    }
   ],
   "source": [
    "only_attr_customers = np.setdiff1d(customers_df.columns.values, azdias_df.columns.values)\n",
    "only_attr_customers"
   ]
  },
  {
   "cell_type": "markdown",
   "metadata": {},
   "source": [
    "CUSTOMER_GROUP distribution"
   ]
  },
  {
   "cell_type": "code",
   "execution_count": 9,
   "metadata": {},
   "outputs": [
    {
     "data": {
      "image/png": "[encoded data removed]",
      "text/plain": [
       "<Figure size 864x360 with 2 Axes>"
      ]
     },
     "metadata": {},
     "output_type": "display_data"
    }
   ],
   "source": [
    "plt.subplots(1, 2, figsize = [12, 5])\n",
    "\n",
    "plt.subplot(1, 2, 1)\n",
    "customers_df.CUSTOMER_GROUP.value_counts().plot.bar(rot=0)\n",
    "\n",
    "plt.subplot(1, 2, 2)\n",
    "customers_df.CUSTOMER_GROUP.value_counts().plot.pie(autopct='%1.f%%', startangle = 90, counterclock = False).set_ylabel('')\n",
    "\n",
    "plt.suptitle('CUSTOMER_GROUP Distribution', fontsize=16)\n",
    "plt.show()"
   ]
  },
  {
   "cell_type": "markdown",
   "metadata": {},
   "source": [
    "ONLINE_PURCHASE distribution"
   ]
  },
  {
   "cell_type": "code",
   "execution_count": 10,
   "metadata": {},
   "outputs": [
    {
     "data": {
      "image/png": "[encoded data removed]",
      "text/plain": [
       "<Figure size 864x360 with 2 Axes>"
      ]
     },
     "metadata": {},
     "output_type": "display_data"
    }
   ],
   "source": [
    "plt.subplots(1, 2, figsize = [12, 5])\n",
    "\n",
    "plt.subplot(1, 2, 1)\n",
    "customers_df.ONLINE_PURCHASE.value_counts().plot.bar(rot=0)\n",
    "\n",
    "plt.subplot(1, 2, 2)\n",
    "customers_df.ONLINE_PURCHASE.value_counts().plot.pie(autopct='%1.f%%', startangle = 90, counterclock = False).set_ylabel('')\n",
    "\n",
    "plt.suptitle('ONLINE_PURCHASE Distribution', fontsize=16)\n",
    "plt.show()"
   ]
  },
  {
   "cell_type": "markdown",
   "metadata": {},
   "source": [
    "PRODUCT_GROUP distribution"
   ]
  },
  {
   "cell_type": "code",
   "execution_count": 11,
   "metadata": {},
   "outputs": [
    {
     "data": {
      "image/png": "[encoded data removed]",
      "text/plain": [
       "<Figure size 864x360 with 2 Axes>"
      ]
     },
     "metadata": {},
     "output_type": "display_data"
    }
   ],
   "source": [
    "plt.subplots(1, 2, figsize = [12, 5])\n",
    "\n",
    "plt.subplot(1, 2, 1)\n",
    "customers_df.PRODUCT_GROUP.value_counts().plot.bar(rot=0)\n",
    "\n",
    "plt.subplot(1, 2, 2)\n",
    "customers_df.PRODUCT_GROUP.value_counts().plot.pie(autopct='%1.f%%', startangle = 90, counterclock = False).set_ylabel('')\n",
    "\n",
    "plt.suptitle('PRODUCT_GROUP Distribution', fontsize=16)\n",
    "plt.show()"
   ]
  },
  {
   "cell_type": "code",
   "execution_count": 12,
   "metadata": {},
   "outputs": [
    {
     "data": {
      "image/png": "[encoded data removed]",
      "text/plain": [
       "<Figure size 864x360 with 1 Axes>"
      ]
     },
     "metadata": {},
     "output_type": "display_data"
    },
    {
     "data": {
      "image/png": "[encoded data removed]",
      "text/plain": [
       "<Figure size 864x360 with 2 Axes>"
      ]
     },
     "metadata": {},
     "output_type": "display_data"
    }
   ],
   "source": [
    "customers_df.groupby(['CUSTOMER_GROUP'])['PRODUCT_GROUP'].value_counts().unstack().plot.bar(figsize = [12, 5], rot=0).set_title('CUSTOMER_GROUP vs. PRODUCT_GROUP')\n",
    "\n",
    "customers_df.groupby(['CUSTOMER_GROUP'])['PRODUCT_GROUP'].value_counts().unstack().T.plot.pie(subplots=True, autopct='%1.f%%', figsize=[12,5], legend=False, startangle = 90, counterclock = False)\n",
    "\n",
    "plt.tight_layout()\n",
    "plt.show()"
   ]
  },
  {
   "cell_type": "code",
   "execution_count": 13,
   "metadata": {},
   "outputs": [
    {
     "data": {
      "image/png": "[encoded data removed]",
      "text/plain": [
       "<Figure size 864x360 with 1 Axes>"
      ]
     },
     "metadata": {},
     "output_type": "display_data"
    },
    {
     "data": {
      "image/png": "[encoded data removed]",
      "text/plain": [
       "<Figure size 864x360 with 2 Axes>"
      ]
     },
     "metadata": {},
     "output_type": "display_data"
    }
   ],
   "source": [
    "customers_df.groupby(['ONLINE_PURCHASE'])['PRODUCT_GROUP'].value_counts().unstack().plot.bar(figsize = [12, 5], rot=0).set_title('ONLINE_PURCHASE vs. PRODUCT_GROUP')\n",
    "\n",
    "customers_df.groupby(['ONLINE_PURCHASE'])['PRODUCT_GROUP'].value_counts().unstack().T.plot.pie(subplots=True, autopct='%1.f%%', figsize=[12,5], legend=False, startangle = 90, counterclock = False)\n",
    "\n",
    "plt.tight_layout()\n",
    "plt.show()"
   ]
  },
  {
   "cell_type": "code",
   "execution_count": 14,
   "metadata": {},
   "outputs": [
    {
     "data": {
      "image/png": "[encoded data removed]",
      "text/plain": [
       "<Figure size 864x360 with 1 Axes>"
      ]
     },
     "metadata": {},
     "output_type": "display_data"
    },
    {
     "data": {
      "image/png": "[encoded data removed]",
      "text/plain": [
       "<Figure size 864x360 with 2 Axes>"
      ]
     },
     "metadata": {},
     "output_type": "display_data"
    }
   ],
   "source": [
    "customers_df.groupby(['CUSTOMER_GROUP'])['ONLINE_PURCHASE'].value_counts().unstack().plot.bar(figsize = [12, 5], rot=0).set_title('CUSTOMER_GROUP vs. ONLINE_PURCHASE')\n",
    "\n",
    "customers_df.groupby(['CUSTOMER_GROUP'])['ONLINE_PURCHASE'].value_counts().unstack().T.plot.pie(subplots=True, autopct='%1.f%%', figsize=[12,5], legend=False, startangle = 90, counterclock = False)\n",
    "\n",
    "plt.tight_layout()\n",
    "plt.show()"
   ]
  },
  {
   "cell_type": "markdown",
   "metadata": {},
   "source": [
    "### Data Exploration - Attributes vs. Values\n",
    "\n",
    "#### Load attributes dataset"
   ]
  },
  {
   "cell_type": "code",
   "execution_count": 15,
   "metadata": {},
   "outputs": [
    {
     "data": {
      "text/html": [
       "<div>\n",
       "<style scoped>\n",
       "    .dataframe tbody tr th:only-of-type {\n",
       "        vertical-align: middle;\n",
       "    }\n",
       "\n",
       "    .dataframe tbody tr th {\n",
       "        vertical-align: top;\n",
       "    }\n",
       "\n",
       "    .dataframe thead th {\n",
       "        text-align: right;\n",
       "    }\n",
       "</style>\n",
       "<table border=\"1\" class=\"dataframe\">\n",
       "  <thead>\n",
       "    <tr style=\"text-align: right;\">\n",
       "      <th></th>\n",
       "      <th>Information level</th>\n",
       "      <th>Attribute</th>\n",
       "      <th>Description</th>\n",
       "      <th>Additional notes</th>\n",
       "    </tr>\n",
       "  </thead>\n",
       "  <tbody>\n",
       "    <tr>\n",
       "      <th>0</th>\n",
       "      <td>NaN</td>\n",
       "      <td>AGER_TYP</td>\n",
       "      <td>best-ager typology</td>\n",
       "      <td>in cooperation with Kantar TNS; the informatio...</td>\n",
       "    </tr>\n",
       "    <tr>\n",
       "      <th>1</th>\n",
       "      <td>Person</td>\n",
       "      <td>ALTERSKATEGORIE_GROB</td>\n",
       "      <td>age through prename analysis</td>\n",
       "      <td>modelled on millions of first name-age-referen...</td>\n",
       "    </tr>\n",
       "    <tr>\n",
       "      <th>2</th>\n",
       "      <td>Person</td>\n",
       "      <td>ANREDE_KZ</td>\n",
       "      <td>gender</td>\n",
       "      <td>NaN</td>\n",
       "    </tr>\n",
       "    <tr>\n",
       "      <th>3</th>\n",
       "      <td>Person</td>\n",
       "      <td>CJT_GESAMTTYP</td>\n",
       "      <td>Customer-Journey-Typology relating to the pref...</td>\n",
       "      <td>relating to the preferred information, marketi...</td>\n",
       "    </tr>\n",
       "    <tr>\n",
       "      <th>4</th>\n",
       "      <td>Person</td>\n",
       "      <td>FINANZ_MINIMALIST</td>\n",
       "      <td>financial typology: low financial interest</td>\n",
       "      <td>Gfk-Typology based on a representative househo...</td>\n",
       "    </tr>\n",
       "  </tbody>\n",
       "</table>\n",
       "</div>"
      ],
      "text/plain": [
       "  Information level             Attribute  \\\n",
       "0               NaN              AGER_TYP   \n",
       "1            Person  ALTERSKATEGORIE_GROB   \n",
       "2            Person             ANREDE_KZ   \n",
       "3            Person         CJT_GESAMTTYP   \n",
       "4            Person     FINANZ_MINIMALIST   \n",
       "\n",
       "                                         Description  \\\n",
       "0                                 best-ager typology   \n",
       "1                      age through prename analysis    \n",
       "2                                             gender   \n",
       "3  Customer-Journey-Typology relating to the pref...   \n",
       "4         financial typology: low financial interest   \n",
       "\n",
       "                                    Additional notes  \n",
       "0  in cooperation with Kantar TNS; the informatio...  \n",
       "1  modelled on millions of first name-age-referen...  \n",
       "2                                                NaN  \n",
       "3  relating to the preferred information, marketi...  \n",
       "4  Gfk-Typology based on a representative househo...  "
      ]
     },
     "execution_count": 15,
     "metadata": {},
     "output_type": "execute_result"
    }
   ],
   "source": [
    "# attributes dataset\n",
    "attributes_df = pd.read_excel('DIAS Information Levels - Attributes 2017.xlsx', header=1, index_col=[1]).reset_index()\n",
    "del attributes_df['Unnamed: 0']\n",
    "attributes_df.head()"
   ]
  },
  {
   "cell_type": "code",
   "execution_count": 16,
   "metadata": {},
   "outputs": [
    {
     "name": "stdout",
     "output_type": "stream",
     "text": [
      "<class 'pandas.core.frame.DataFrame'>\n",
      "RangeIndex: 313 entries, 0 to 312\n",
      "Data columns (total 4 columns):\n",
      "Information level    312 non-null object\n",
      "Attribute            313 non-null object\n",
      "Description          313 non-null object\n",
      "Additional notes     20 non-null object\n",
      "dtypes: object(4)\n",
      "memory usage: 9.9+ KB\n"
     ]
    }
   ],
   "source": [
    "attributes_df.info()"
   ]
  },
  {
   "cell_type": "markdown",
   "metadata": {},
   "source": [
    "#### Load values dataset"
   ]
  },
  {
   "cell_type": "code",
   "execution_count": 17,
   "metadata": {},
   "outputs": [
    {
     "data": {
      "text/html": [
       "<div>\n",
       "<style scoped>\n",
       "    .dataframe tbody tr th:only-of-type {\n",
       "        vertical-align: middle;\n",
       "    }\n",
       "\n",
       "    .dataframe tbody tr th {\n",
       "        vertical-align: top;\n",
       "    }\n",
       "\n",
       "    .dataframe thead th {\n",
       "        text-align: right;\n",
       "    }\n",
       "</style>\n",
       "<table border=\"1\" class=\"dataframe\">\n",
       "  <thead>\n",
       "    <tr style=\"text-align: right;\">\n",
       "      <th></th>\n",
       "      <th>Attribute</th>\n",
       "      <th>Description</th>\n",
       "      <th>Value</th>\n",
       "      <th>Meaning</th>\n",
       "    </tr>\n",
       "  </thead>\n",
       "  <tbody>\n",
       "    <tr>\n",
       "      <th>0</th>\n",
       "      <td>AGER_TYP</td>\n",
       "      <td>best-ager typology</td>\n",
       "      <td>-1</td>\n",
       "      <td>unknown</td>\n",
       "    </tr>\n",
       "    <tr>\n",
       "      <th>1</th>\n",
       "      <td>AGER_TYP</td>\n",
       "      <td>best-ager typology</td>\n",
       "      <td>0</td>\n",
       "      <td>no classification possible</td>\n",
       "    </tr>\n",
       "    <tr>\n",
       "      <th>2</th>\n",
       "      <td>AGER_TYP</td>\n",
       "      <td>best-ager typology</td>\n",
       "      <td>1</td>\n",
       "      <td>passive elderly</td>\n",
       "    </tr>\n",
       "    <tr>\n",
       "      <th>3</th>\n",
       "      <td>AGER_TYP</td>\n",
       "      <td>best-ager typology</td>\n",
       "      <td>2</td>\n",
       "      <td>cultural elderly</td>\n",
       "    </tr>\n",
       "    <tr>\n",
       "      <th>4</th>\n",
       "      <td>AGER_TYP</td>\n",
       "      <td>best-ager typology</td>\n",
       "      <td>3</td>\n",
       "      <td>experience-driven elderly</td>\n",
       "    </tr>\n",
       "  </tbody>\n",
       "</table>\n",
       "</div>"
      ],
      "text/plain": [
       "  Attribute         Description Value                     Meaning\n",
       "0  AGER_TYP  best-ager typology    -1                     unknown\n",
       "1  AGER_TYP  best-ager typology     0  no classification possible\n",
       "2  AGER_TYP  best-ager typology     1             passive elderly\n",
       "3  AGER_TYP  best-ager typology     2            cultural elderly\n",
       "4  AGER_TYP  best-ager typology     3   experience-driven elderly"
      ]
     },
     "execution_count": 17,
     "metadata": {},
     "output_type": "execute_result"
    }
   ],
   "source": [
    "# values dataset\n",
    "values_df = pd.read_excel('DIAS Attributes - Values 2017.xlsx', header=1, index_col=[1,2]).reset_index()\n",
    "del values_df['Unnamed: 0']\n",
    "values_df.head()"
   ]
  },
  {
   "cell_type": "code",
   "execution_count": 18,
   "metadata": {},
   "outputs": [
    {
     "name": "stdout",
     "output_type": "stream",
     "text": [
      "<class 'pandas.core.frame.DataFrame'>\n",
      "RangeIndex: 2258 entries, 0 to 2257\n",
      "Data columns (total 4 columns):\n",
      "Attribute      2258 non-null object\n",
      "Description    2258 non-null object\n",
      "Value          2258 non-null object\n",
      "Meaning        2247 non-null object\n",
      "dtypes: object(4)\n",
      "memory usage: 70.6+ KB\n"
     ]
    }
   ],
   "source": [
    "values_df.info()"
   ]
  },
  {
   "cell_type": "code",
   "execution_count": 19,
   "metadata": {},
   "outputs": [
    {
     "data": {
      "text/plain": [
       "314"
      ]
     },
     "execution_count": 19,
     "metadata": {},
     "output_type": "execute_result"
    }
   ],
   "source": [
    "values_df.Attribute.unique().size"
   ]
  },
  {
   "cell_type": "code",
   "execution_count": 20,
   "metadata": {},
   "outputs": [
    {
     "data": {
      "text/plain": [
       "313"
      ]
     },
     "execution_count": 20,
     "metadata": {},
     "output_type": "execute_result"
    }
   ],
   "source": [
    "attributes_df.Attribute.unique().size"
   ]
  },
  {
   "cell_type": "code",
   "execution_count": 21,
   "metadata": {},
   "outputs": [
    {
     "data": {
      "text/plain": [
       "array(['BIP_FLAG', 'D19_BANKEN_ANZ_12', 'D19_BANKEN_ANZ_24',\n",
       "       'D19_GESAMT_ANZ_12', 'D19_GESAMT_ANZ_24', 'D19_LOTTO_RZ',\n",
       "       'D19_TELKO_ANZ_12', 'D19_TELKO_ANZ_24', 'D19_VERSAND_ANZ_12',\n",
       "       'D19_VERSAND_ANZ_24', 'D19_VERSI_ANZ_12', 'D19_VERSI_ANZ_24',\n",
       "       'KBA13_CCM_3000', 'KBA13_CCM_3001'], dtype=object)"
      ]
     },
     "execution_count": 21,
     "metadata": {},
     "output_type": "execute_result"
    }
   ],
   "source": [
    "# values_df only\n",
    "np.setdiff1d(values_df.Attribute.unique(), attributes_df.Attribute)"
   ]
  },
  {
   "cell_type": "code",
   "execution_count": 22,
   "metadata": {},
   "outputs": [
    {
     "data": {
      "text/plain": [
       "array(['ARBEIT', 'D19_BANKEN_ ANZ_12             D19_BANKEN_ ANZ_24',\n",
       "       'D19_GESAMT_ANZ_12                                    D19_GESAMT_ANZ_24',\n",
       "       'D19_TELKO_ ANZ_12                  D19_TELKO_ ANZ_24',\n",
       "       'D19_VERSAND_ ANZ_12          D19_VERSAND_ ANZ_24',\n",
       "       'D19_VERSI_ ANZ_12                                       D19_VERSI_ ANZ_24',\n",
       "       'D19_VERSI_DATUM', 'D19_VERSI_OFFLINE_DATUM',\n",
       "       'D19_VERSI_ONLINE_DATUM', 'EINWOHNER', 'GKZ', 'PLZ', 'PLZ8'],\n",
       "      dtype=object)"
      ]
     },
     "execution_count": 22,
     "metadata": {},
     "output_type": "execute_result"
    }
   ],
   "source": [
    "# attributes_df only\n",
    "np.setdiff1d(attributes_df.Attribute, values_df.Attribute.unique())"
   ]
  },
  {
   "cell_type": "markdown",
   "metadata": {},
   "source": [
    "From above, we can find attributes dataset features not normalized. We will use values dataset to query data, and merge attributes dataset feature to values.\n",
    "\n",
    "Create `attr_only_attributes_not_values` to hold features only in `attributes_df` and not in `values_df`."
   ]
  },
  {
   "cell_type": "code",
   "execution_count": 23,
   "metadata": {},
   "outputs": [
    {
     "data": {
      "text/plain": [
       "array(['ARBEIT', 'D19_VERSI_DATUM', 'D19_VERSI_OFFLINE_DATUM',\n",
       "       'D19_VERSI_ONLINE_DATUM', 'EINWOHNER', 'GKZ', 'PLZ', 'PLZ8'],\n",
       "      dtype='<U23')"
      ]
     },
     "execution_count": 23,
     "metadata": {},
     "output_type": "execute_result"
    }
   ],
   "source": [
    "attr_only_attributes_not_values = np.array(['ARBEIT', 'D19_VERSI_DATUM', 'D19_VERSI_OFFLINE_DATUM', 'D19_VERSI_ONLINE_DATUM', 'EINWOHNER', 'GKZ', 'PLZ', 'PLZ8'])\n",
    "attr_only_attributes_not_values"
   ]
  },
  {
   "cell_type": "code",
   "execution_count": 24,
   "metadata": {},
   "outputs": [
    {
     "data": {
      "text/plain": [
       "(300,)"
      ]
     },
     "execution_count": 24,
     "metadata": {},
     "output_type": "execute_result"
    }
   ],
   "source": [
    "np.intersect1d(values_df.Attribute.unique().tolist(), attributes_df.Attribute).shape"
   ]
  },
  {
   "cell_type": "markdown",
   "metadata": {},
   "source": [
    "creqte `annot_attribute` as combined features from `vlaues_df` and `attributes_df`."
   ]
  },
  {
   "cell_type": "code",
   "execution_count": 25,
   "metadata": {},
   "outputs": [
    {
     "data": {
      "text/plain": [
       "(322,)"
      ]
     },
     "execution_count": 25,
     "metadata": {},
     "output_type": "execute_result"
    }
   ],
   "source": [
    "annot_attribute = np.union1d(values_df.Attribute.unique(), attr_only_attributes_not_values)\n",
    "annot_attribute.shape"
   ]
  },
  {
   "cell_type": "markdown",
   "metadata": {},
   "source": [
    "We found `only_attr_customers` not in `annot_attribute`"
   ]
  },
  {
   "cell_type": "code",
   "execution_count": 26,
   "metadata": {},
   "outputs": [
    {
     "data": {
      "text/plain": [
       "array([False, False, False])"
      ]
     },
     "execution_count": 26,
     "metadata": {},
     "output_type": "execute_result"
    }
   ],
   "source": [
    "np.isin(only_attr_customers, values_df.Attribute)"
   ]
  },
  {
   "cell_type": "markdown",
   "metadata": {},
   "source": [
    "#### Analyze feature type\n",
    "\n",
    "Fina all value of `values_df`"
   ]
  },
  {
   "cell_type": "code",
   "execution_count": 27,
   "metadata": {},
   "outputs": [
    {
     "data": {
      "text/plain": [
       "array([-1, 0, 1, 2, 3, '-1, 0', 4, 9, 5, 6, 7, 8, 10, 11, 12, 13, 14, 15,\n",
       "       16, 17, 18, 19, 20, 21, '…', '1A', '1B', '1C', '1D', '1E', '2A',\n",
       "       '2B', '2C', '2D', '3A', '3B', '3C', '3D', '4A', '4B', '4C', '4D',\n",
       "       '4E', '5A', '5B', '5C', '5D', '5E', '5F', '6A', '6B', '6C', '6D',\n",
       "       '6E', '6F', '7A', '7B', '7C', '7D', '7E', '8A', '8B', '8C', '8D',\n",
       "       '9A', '9B', '9C', '9D', '9E', 22, 23, 24, 25, 31, 32, 33, 34, 35,\n",
       "       41, 42, 43, 44, 45, 51, 52, 53, 54, 55, '-1, 9', 26, 27, 28, 29,\n",
       "       30, 36, 37, 38, 39, 40, '-1', 'O', 'W'], dtype=object)"
      ]
     },
     "execution_count": 27,
     "metadata": {},
     "output_type": "execute_result"
    }
   ],
   "source": [
    "values_df.Value.unique()"
   ]
  },
  {
   "cell_type": "code",
   "execution_count": 28,
   "metadata": {},
   "outputs": [
    {
     "data": {
      "text/plain": [
       "1        304\n",
       "2        300\n",
       "3        296\n",
       "4        274\n",
       "5        257\n",
       "0        198\n",
       "-1       138\n",
       "6        101\n",
       "7         83\n",
       "-1, 9     75\n",
       "8         31\n",
       "9         30\n",
       "10        24\n",
       "-1, 0     16\n",
       "11         8\n",
       "…          7\n",
       "12         6\n",
       "15         4\n",
       "14         4\n",
       "13         4\n",
       "21         3\n",
       "22         2\n",
       "20         2\n",
       "31         2\n",
       "34         2\n",
       "35         2\n",
       "25         2\n",
       "24         2\n",
       "23         2\n",
       "32         2\n",
       "        ... \n",
       "5B         1\n",
       "5F         1\n",
       "7D         1\n",
       "8C         1\n",
       "3D         1\n",
       "-1         1\n",
       "O          1\n",
       "7E         1\n",
       "7B         1\n",
       "7A         1\n",
       "52         1\n",
       "53         1\n",
       "1A         1\n",
       "55         1\n",
       "2B         1\n",
       "2A         1\n",
       "6A         1\n",
       "4A         1\n",
       "3B         1\n",
       "1D         1\n",
       "5A         1\n",
       "38         1\n",
       "6D         1\n",
       "39         1\n",
       "5D         1\n",
       "2C         1\n",
       "4C         1\n",
       "9A         1\n",
       "5C         1\n",
       "5E         1\n",
       "Name: Value, Length: 102, dtype: int64"
      ]
     },
     "execution_count": 28,
     "metadata": {},
     "output_type": "execute_result"
    }
   ],
   "source": [
    "values_df.Value.value_counts()"
   ]
  },
  {
   "cell_type": "code",
   "execution_count": 29,
   "metadata": {},
   "outputs": [
    {
     "data": {
      "text/plain": [
       "array([ 5,  6, 22,  3,  1,  8, 10, 26, 44,  7, 11,  9, 12,  2,  4, 40, 16])"
      ]
     },
     "execution_count": 29,
     "metadata": {},
     "output_type": "execute_result"
    }
   ],
   "source": [
    "values_df.groupby(['Attribute'])['Value'].count().unique()"
   ]
  },
  {
   "cell_type": "code",
   "execution_count": 30,
   "metadata": {},
   "outputs": [
    {
     "data": {
      "text/plain": [
       "array([array([-1, 0, 1, 2, 3], dtype=object),\n",
       "       array(['-1, 0', 1, 2, 3, 4, 9], dtype=object),\n",
       "       array([0, 1, 2, 3, 4, 5, 6, 7, 8, 9, 10, 11, 12, 13, 14, 15, 16, 17, 18,\n",
       "       19, 20, 21], dtype=object),\n",
       "       array(['-1, 0', 1, 2], dtype=object), array(['…'], dtype=object),\n",
       "       array(['…'], dtype=object), array(['…'], dtype=object),\n",
       "       array(['…'], dtype=object),\n",
       "       array([-1, 1, 2, 3, 4, 5, 6, 7], dtype=object),\n",
       "       array([-1, 0, 1], dtype=object),\n",
       "       array([-1, 1, 2, 3, 4, 5, 6, 7, 8, 9], dtype=object),\n",
       "       array([-1, 11, 12, 13, 14, 15, 21, 22, 23, 24, 25, 31, 32, 33, 34, 35, 41,\n",
       "       42, 43, 44, 45, 51, 52, 53, 54, 55], dtype=object),\n",
       "       array(['1A', '1B', '1C', '1D', '1E', '2A', '2B', '2C', '2D', '3A', '3B',\n",
       "       '3C', '3D', '4A', '4B', '4C', '4D', '4E', '5A', '5B', '5C', '5D',\n",
       "       '5E', '5F', '6A', '6B', '6C', '6D', '6E', '6F', '7A', '7B', '7C',\n",
       "       '7D', '7E', '8A', '8B', '8C', '8D', '9A', '9B', '9C', '9D', '9E'],\n",
       "      dtype=object),\n",
       "       array([0, 1, 2, 3, 4, 5, 6], dtype=object),\n",
       "       array([0, 1, 2, 3, 4, 5, 6], dtype=object),\n",
       "       array([0, 1, 2, 3, 4, 5, 6], dtype=object),\n",
       "       array([1, 2, 3, 4, 5, 6, 7, 8, 9, 10], dtype=object),\n",
       "       array([0, 1, 2, 3, 4, 5, 6, 7], dtype=object),\n",
       "       array([0, 1, 2, 3, 4, 5, 6, 7], dtype=object),\n",
       "       array([0, 1, 2, 3, 4, 5, 6, 7], dtype=object),\n",
       "       array([1, 2, 3, 4, 5, 6, 7, 8, 9, 10], dtype=object),\n",
       "       array([1, 2, 3, 4, 5, 6, 7, 8, 9, 10], dtype=object),\n",
       "       array([0, 1, 2, 3, 4, 5, 6, 7, 8, 9, 10], dtype=object),\n",
       "       array([0, 1, 2, 3, 4, 5, 6, 7], dtype=object),\n",
       "       array([0, 1, 2, 3, 4, 5, 6, 7], dtype=object),\n",
       "       array([0, 1, 2, 3, 4, 5, 6, 7], dtype=object),\n",
       "       array([0, 1, 2, 3, 4, 5, 6, 7], dtype=object),\n",
       "       array([0, 1, 2, 3, 4, 5, 6, 7], dtype=object),\n",
       "       array([0, 1, 2, 3, 4, 5, 6, 7], dtype=object),\n",
       "       array([0, 1, 2, 3, 4, 5, 6, 7], dtype=object),\n",
       "       array([0, 1, 2, 3, 4, 5, 6, 7], dtype=object),\n",
       "       array([0, 1, 2, 3, 4, 5, 6, 7], dtype=object),\n",
       "       array([0, 1, 2, 3, 4, 5, 6, 7], dtype=object),\n",
       "       array([0, 1, 2, 3, 4, 5, 6, 7], dtype=object),\n",
       "       array([0, 1, 2, 3, 4, 5, 6], dtype=object),\n",
       "       array([0, 1, 2, 3, 4, 5, 6], dtype=object),\n",
       "       array([1, 2, 3, 4, 5, 6, 7, 8, 9, 10], dtype=object),\n",
       "       array([1, 2, 3, 4, 5, 6, 7, 8, 9, 10], dtype=object),\n",
       "       array([1, 2, 3, 4, 5, 6, 7, 8, 9, 10], dtype=object),\n",
       "       array([0, 1, 2, 3, 4, 5, 6, 7, 8, 9, 10], dtype=object),\n",
       "       array([0, 1, 2, 3, 4, 5, 6, 7], dtype=object),\n",
       "       array([0, 1, 2, 3, 4, 5, 6, 7], dtype=object),\n",
       "       array([0, 1, 2, 3, 4, 5, 6, 7], dtype=object),\n",
       "       array([-1, 1, 2, 3, 4, 5, 6], dtype=object),\n",
       "       array([1, 2, 3, 4, 5, 6, 9], dtype=object),\n",
       "       array([0, 1, 2, 3, 4, 5, 6, 7], dtype=object),\n",
       "       array([0, 1, 2, 3, 4, 5, 6, 7], dtype=object),\n",
       "       array([0, 1, 2, 3, 4, 5, 6, 7], dtype=object),\n",
       "       array([0, 1, 2, 3, 4, 5, 6, 7], dtype=object),\n",
       "       array([0, 1, 2, 3, 4, 5, 6, 7], dtype=object),\n",
       "       array([0, 1, 2, 3, 4, 5, 6, 7], dtype=object),\n",
       "       array([0, 1, 2, 3, 4, 5, 6, 7], dtype=object),\n",
       "       array([0, 1, 2, 3, 4, 5, 6, 7], dtype=object),\n",
       "       array([0, 1, 2, 3, 4, 5, 6, 7], dtype=object),\n",
       "       array([0, 1, 2, 3, 4, 5, 6, 7], dtype=object),\n",
       "       array([0, 1, 2, 3, 4, 5, 6], dtype=object),\n",
       "       array([0, 1, 2, 3, 4, 5, 6], dtype=object),\n",
       "       array([1, 2, 3, 4, 5, 6, 7, 8, 9, 10], dtype=object),\n",
       "       array([0, 1, 2, 3, 4, 5, 6, 7], dtype=object),\n",
       "       array([1, 2, 3, 4, 5, 6, 7, 8, 9, 10], dtype=object),\n",
       "       array([1, 2, 3, 4, 5, 6, 7, 8, 9, 10], dtype=object),\n",
       "       array([0, 1, 2, 3, 4, 5, 6, 7], dtype=object),\n",
       "       array([0, 1, 2, 3, 4, 5, 6, 7], dtype=object),\n",
       "       array([0, 1, 2, 3, 4, 5, 6], dtype=object),\n",
       "       array([0, 1, 2, 3, 4, 5, 6], dtype=object),\n",
       "       array([1, 2, 3, 4, 5, 6, 7, 8, 9, 10], dtype=object),\n",
       "       array([1, 2, 3, 4, 5, 6, 7, 8, 9, 10], dtype=object),\n",
       "       array([1, 2, 3, 4, 5, 6, 7, 8, 9, 10], dtype=object),\n",
       "       array([0, 1, 2, 3, 4, 5, 6, 7, 8, 9, 10], dtype=object),\n",
       "       array([0, 1, 2, 3, 4, 5, 6, 7], dtype=object),\n",
       "       array([0, 1, 2, 3, 4, 5, 6, 7], dtype=object),\n",
       "       array([0, 1, 2, 3, 4, 5, 6], dtype=object),\n",
       "       array([0, 1, 2, 3, 4, 5, 6], dtype=object),\n",
       "       array([0, 1, 2, 3, 4, 5, 6, 7], dtype=object),\n",
       "       array([0, 1, 2, 3, 4, 5, 6, 7], dtype=object),\n",
       "       array([-1, 1, 2, 3, 4, 5, 6], dtype=object),\n",
       "       array([-1, 1, 2, 3, 4, 5, 6], dtype=object),\n",
       "       array([-1, 1, 2, 3, 4, 5], dtype=object),\n",
       "       array([-1, 1, 2, 3, 4, 5], dtype=object),\n",
       "       array([-1, 1, 2, 3, 4, 5], dtype=object),\n",
       "       array([-1, 1, 2, 3, 4, 5], dtype=object),\n",
       "       array([-1, 1, 2, 3, 4, 5], dtype=object),\n",
       "       array([-1, 1, 2, 3, 4, 5], dtype=object),\n",
       "       array(['-1, 0', 1, 2, 3, 4, 5, 6, 7, 8], dtype=object),\n",
       "       array([1, 2, 3, 4, 5], dtype=object), array(['…'], dtype=object),\n",
       "       array(['-1, 0', 1, 2, 3, 4, 5, 6, 7], dtype=object),\n",
       "       array([1, 2, 3, 4, 5, 6, 7, 8, 9, 10, 11, 12], dtype=object),\n",
       "       array([0, 1], dtype=object),\n",
       "       array(['-1, 0', 1, 2, 3, 4, 5, 6, 7, 8, 9], dtype=object),\n",
       "       array([-1, 0, 1, 2, 3], dtype=object),\n",
       "       array(['-1, 0', 1, 2, 3, 4, 5, 6], dtype=object),\n",
       "       array([-1, 1, 2, 3, 4, 5, 6, 7, 8], dtype=object),\n",
       "       array(['-1, 9', 0, 1, 2, 3, 4], dtype=object),\n",
       "       array(['-1, 9', 1, 2, 3, 4, 5], dtype=object),\n",
       "       array(['-1, 9', 1, 2, 3, 4, 5], dtype=object),\n",
       "       array(['-1, 9', 0, 1, 2, 3, 4, 5], dtype=object),\n",
       "       array(['-1, 9', 0, 1, 2, 3], dtype=object),\n",
       "       array([-1, 0, 1, 2, 3, 4], dtype=object),\n",
       "       array([-1, 0, 1, 2, 3, 4], dtype=object),\n",
       "       array([-1, 0, 1, 2, 3], dtype=object),\n",
       "       array([-1, 0, 1, 2], dtype=object),\n",
       "       array([1, 2, 3, 4, 5, '-1, 9'], dtype=object),\n",
       "       array(['-1, 0', 1, 2, 3, 4, 5], dtype=object),\n",
       "       array(['-1, 9', 1, 2, 3, 4, 5], dtype=object),\n",
       "       array(['-1, 9', 1, 2, 3, 4, 5], dtype=object),\n",
       "       array(['-1, 9', 1, 2, 3, 4, 5], dtype=object),\n",
       "       array(['-1, 9', 0, 1, 2, 3, 4], dtype=object),\n",
       "       array(['-1, 9', 0, 1, 2, 3, 4], dtype=object),\n",
       "       array(['-1, 9', 1, 2, 3, 4, 5], dtype=object),\n",
       "       array(['-1, 0', 1, 2, 3, 4, 5], dtype=object),\n",
       "       array(['-1, 9', 0, 1, 2, 3, 4, 5], dtype=object),\n",
       "       array(['-1, 9', 0, 1, 2, 3, 4, 5], dtype=object),\n",
       "       array(['-1, 9', 0, 1, 2, 3, 4, 5], dtype=object),\n",
       "       array(['-1, 9', 0, 1, 2, 3, 4, 5], dtype=object),\n",
       "       array(['-1, 9', 0, 1, 2, 3, 4, 5], dtype=object),\n",
       "       array(['-1, 9', 1, 2, 3, 4, 5], dtype=object),\n",
       "       array(['-1, 9', 1, 2, 3, 4, 5], dtype=object),\n",
       "       array(['-1, 9', 1, 2, 3, 4, 5], dtype=object),\n",
       "       array(['-1, 9', 1, 2, 3, 4, 5], dtype=object),\n",
       "       array(['-1, 9', 1, 2, 3, 4, 5], dtype=object),\n",
       "       array(['-1, 9', 1, 2, 3], dtype=object),\n",
       "       array(['-1, 9', 1, 2, 3], dtype=object),\n",
       "       array(['-1, 9', 1, 2, 3], dtype=object),\n",
       "       array(['-1, 9', 1, 2, 3], dtype=object),\n",
       "       array(['-1, 9', 1, 2, 3, 4, 5], dtype=object),\n",
       "       array(['-1, 9', 1, 2, 3, 4, 5], dtype=object),\n",
       "       array(['-1, 9', 0, 1, 2, 3, 4], dtype=object),\n",
       "       array(['-1, 9', 1, 2, 3, 4, 5], dtype=object),\n",
       "       array(['-1, 9', 1, 2, 3, 4], dtype=object),\n",
       "       array(['-1, 9', 1, 2, 3, 4, 5], dtype=object),\n",
       "       array(['-1, 9', 1, 2, 3, 4], dtype=object),\n",
       "       array(['-1, 9', 1, 2, 3], dtype=object),\n",
       "       array(['-1, 9', 0, 1, 2, 3, 4], dtype=object),\n",
       "       array(['-1, 9', 1, 2, 3, 4, 5], dtype=object),\n",
       "       array(['-1, 9', 1, 2, 3, 4, 5], dtype=object),\n",
       "       array(['-1, 9', 0, 1, 2, 3, 4, 5], dtype=object),\n",
       "       array(['-1, 9', 0, 1, 2, 3], dtype=object),\n",
       "       array(['-1, 9', 1, 2, 3, 4, 5], dtype=object),\n",
       "       array(['-1, 9', 1, 2, 3, 4], dtype=object),\n",
       "       array(['-1, 9', 0, 1, 2, 3], dtype=object),\n",
       "       array(['-1, 9', 0, 1, 2, 3], dtype=object),\n",
       "       array(['-1, 9', 0, 1, 2, 3, 4], dtype=object),\n",
       "       array(['-1, 9', 1, 2, 3, 4, 5], dtype=object),\n",
       "       array(['-1, 9', 1, 2, 3, 4, 5], dtype=object),\n",
       "       array(['-1, 9', 1, 2, 3, 4, 5], dtype=object),\n",
       "       array(['-1, 9', 0, 1, 2, 3, 4], dtype=object),\n",
       "       array(['-1, 9', 0, 1], dtype=object),\n",
       "       array(['-1, 9', 0, 1, 2, 3], dtype=object),\n",
       "       array(['-1, 9', 0, 1, 2, 3], dtype=object),\n",
       "       array(['-1, 9', 0, 1, 2, 3], dtype=object),\n",
       "       array(['-1, 9', 1, 2, 3, 4, 5], dtype=object),\n",
       "       array(['-1, 9', 1, 2, 3, 4, 5], dtype=object),\n",
       "       array(['-1, 9', 0, 1, 2, 3, 4, 5], dtype=object),\n",
       "       array(['-1, 9', 1, 2, 3, 4, 5], dtype=object),\n",
       "       array(['-1, 9', 1, 2, 3, 4, 5], dtype=object),\n",
       "       array(['-1, 9', 0, 1, 2, 3, 4, 5], dtype=object),\n",
       "       array(['-1, 9', 0, 1, 2, 3, 4, 5], dtype=object),\n",
       "       array([-1, 0, 1, 2, 3, 4, 5], dtype=object),\n",
       "       array([-1, 0, 1, 2, 3, 4, 5], dtype=object),\n",
       "       array([-1, 0, 1, 2, 3, 4, 5], dtype=object),\n",
       "       array([-1, 0, 1, 2, 3, 4, 5], dtype=object),\n",
       "       array(['…'], dtype=object),\n",
       "       array([-1, 0, 1, 2, 3, 4, 5], dtype=object),\n",
       "       array([-1, 0, 1, 2, 3, 4, 5], dtype=object),\n",
       "       array([-1, 0, 1, 2, 3, 4, 5], dtype=object),\n",
       "       array([-1, 0, 1, 2, 3, 4, 5], dtype=object),\n",
       "       array([-1, 0, 1, 2, 3, 4, 5], dtype=object),\n",
       "       array([-1, 0, 1, 2, 3, 4, 5], dtype=object),\n",
       "       array([-1, 0, 1, 2, 3, 4, 5], dtype=object),\n",
       "       array([-1, 0, 1, 2, 3, 4, 5], dtype=object),\n",
       "       array([-1, 0, 1, 2, 3, 4, 5], dtype=object),\n",
       "       array([-1, 0, 1, 2, 3, 4, 5], dtype=object),\n",
       "       array([-1, 0, 1, 2, 3, 4, 5], dtype=object),\n",
       "       array([-1, 0, 1, 2, 3, 4, 5], dtype=object),\n",
       "       array([-1, 0, 1, 2, 3, 4, 5], dtype=object),\n",
       "       array([-1, 0, 1, 2, 3, 4, 5], dtype=object),\n",
       "       array([-1, 0, 1, 2, 3, 4, 5], dtype=object),\n",
       "       array([-1, 0, 1, 2, 3, 4, 5], dtype=object),\n",
       "       array([-1, 0, 1, 2, 3, 4, 5], dtype=object),\n",
       "       array([-1, 0, 1, 2, 3, 4, 5], dtype=object),\n",
       "       array([-1, 0, 1, 2, 3, 4, 5], dtype=object),\n",
       "       array([-1, 0, 1, 2, 3, 4, 5], dtype=object),\n",
       "       array([-1, 0, 1, 2, 3, 4, 5], dtype=object),\n",
       "       array([-1, 0, 1, 2, 3, 4, 5], dtype=object),\n",
       "       array([-1, 0, 1, 2, 3, 4, 5], dtype=object),\n",
       "       array([-1, 0, 1, 2, 3, 4, 5], dtype=object),\n",
       "       array([-1, 0, 1, 2, 3, 4, 5], dtype=object),\n",
       "       array([-1, 0, 1, 2, 3, 4, 5], dtype=object),\n",
       "       array([-1, 0, 1, 2, 3, 4, 5], dtype=object),\n",
       "       array([-1, 0, 1, 2, 3, 4, 5], dtype=object),\n",
       "       array([-1, 0, 1, 2, 3, 4, 5], dtype=object),\n",
       "       array([-1, 0, 1, 2, 3, 4, 5], dtype=object),\n",
       "       array([-1, 0, 1, 2, 3, 4, 5], dtype=object),\n",
       "       array([-1, 0, 1, 2, 3, 4, 5], dtype=object),\n",
       "       array([-1, 0, 1, 2, 3, 4, 5], dtype=object),\n",
       "       array([-1, 0, 1, 2, 3, 4, 5], dtype=object),\n",
       "       array([-1, 0, 1, 2, 3, 4, 5], dtype=object),\n",
       "       array([-1, 0, 1, 2, 3, 4, 5], dtype=object),\n",
       "       array([-1, 0, 1, 2, 3, 4, 5], dtype=object),\n",
       "       array([-1, 0, 1, 2, 3, 4, 5], dtype=object),\n",
       "       array([-1, 0, 1, 2, 3, 4, 5], dtype=object),\n",
       "       array([-1, 0, 1, 2, 3, 4, 5], dtype=object),\n",
       "       array([-1, 0, 1, 2, 3, 4, 5], dtype=object),\n",
       "       array([-1, 0, 1, 2, 3, 4, 5], dtype=object),\n",
       "       array([-1, 0, 1, 2, 3, 4, 5], dtype=object),\n",
       "       array([-1, 0, 1, 2, 3, 4, 5], dtype=object),\n",
       "       array([-1, 0, 1, 2, 3, 4, 5], dtype=object),\n",
       "       array([-1, 0, 1, 2, 3, 4, 5], dtype=object),\n",
       "       array([-1, 0, 1, 2, 3, 4, 5], dtype=object),\n",
       "       array([-1, 0, 1, 2, 3, 4, 5], dtype=object),\n",
       "       array([-1, 0, 1, 2, 3, 4, 5], dtype=object),\n",
       "       array([-1, 0, 1, 2, 3, 4, 5], dtype=object),\n",
       "       array([-1, 0, 1, 2, 3, 4, 5], dtype=object),\n",
       "       array([-1, 0, 1, 2, 3, 4, 5], dtype=object),\n",
       "       array([-1, 0, 1, 2, 3, 4, 5], dtype=object),\n",
       "       array([-1, 0, 1, 2, 3, 4, 5], dtype=object),\n",
       "       array([-1, 0, 1, 2, 3, 4, 5], dtype=object),\n",
       "       array([-1, 0, 1, 2, 3], dtype=object),\n",
       "       array([-1, 0, 1, 2, 3], dtype=object),\n",
       "       array([-1, 0, 1, 2, 3], dtype=object),\n",
       "       array([-1, 0, 1, 2, 3], dtype=object),\n",
       "       array([-1, 0, 1, 2, 3, 4, 5], dtype=object),\n",
       "       array([-1, 0, 1, 2, 3, 4, 5], dtype=object),\n",
       "       array([-1, 0, 1, 2, 3, 4, 5], dtype=object),\n",
       "       array([-1, 0, 1, 2, 3, 4, 5], dtype=object),\n",
       "       array([-1, 0, 1, 2, 3, 4, 5], dtype=object),\n",
       "       array([-1, 0, 1, 2, 3, 4, 5], dtype=object),\n",
       "       array([-1, 0, 1, 2, 3, 4, 5], dtype=object),\n",
       "       array([-1, 0, 1, 2, 3, 4, 5], dtype=object),\n",
       "       array([-1, 0, 1, 2, 3, 4, 5], dtype=object),\n",
       "       array([-1, 0, 1, 2, 3, 4, 5], dtype=object),\n",
       "       array([-1, 0, 1, 2, 3, 4, 5], dtype=object),\n",
       "       array([-1, 0, 1, 2, 3, 4, 5], dtype=object),\n",
       "       array([-1, 0, 1, 2, 3, 4, 5], dtype=object),\n",
       "       array([-1, 0, 1, 2, 3, 4, 5], dtype=object),\n",
       "       array([-1, 0, 1, 2, 3, 4], dtype=object),\n",
       "       array([-1, 0, 1, 2, 3, 4, 5], dtype=object),\n",
       "       array([-1, 0, 1, 2, 3, 4, 5], dtype=object),\n",
       "       array([-1, 0, 1, 2, 3, 4, 5], dtype=object),\n",
       "       array([-1, 0, 1, 2, 3, 4, 5], dtype=object),\n",
       "       array([-1, 0, 1, 2, 3, 4, 5], dtype=object),\n",
       "       array([-1, 0, 1, 2, 3, 4, 5], dtype=object),\n",
       "       array([-1, 0, 1, 2, 3, 4, 5], dtype=object),\n",
       "       array([-1, 0, 1, 2, 3, 4, 5], dtype=object),\n",
       "       array([-1, 0, 1, 2, 3, 4, 5], dtype=object),\n",
       "       array([-1, 0, 1, 2, 3, 4, 5], dtype=object),\n",
       "       array([-1, 0, 1, 2, 3, 4, 5], dtype=object),\n",
       "       array([-1, 0, 1, 2, 3, 4, 5], dtype=object),\n",
       "       array([-1, 0, 1, 2, 3, 4, 5], dtype=object),\n",
       "       array([-1, 0, 1, 2, 3, 4, 5], dtype=object),\n",
       "       array([-1, 0, 1, 2, 3, 4, 5], dtype=object),\n",
       "       array([-1, 0, 1, 2, 3, 4, 5], dtype=object),\n",
       "       array([-1, 0, 1, 2, 3, 4, 5], dtype=object),\n",
       "       array([-1, 0, 1, 2, 3, 4, 5], dtype=object),\n",
       "       array([-1, 0, 1, 2, 3, 4, 5], dtype=object),\n",
       "       array([-1, 0, 1, 2, 3, 4, 5], dtype=object),\n",
       "       array([-1, 0, 1, 2, 3, 4, 5], dtype=object),\n",
       "       array([-1, 0, 1, 2, 3, 4, 5], dtype=object),\n",
       "       array([-1, 0, 1, 2, 3, 4, 5], dtype=object),\n",
       "       array([-1, 0, 1, 2, 3, 4, 5], dtype=object),\n",
       "       array([-1, 0, 1, 2, 3, 4, 5], dtype=object),\n",
       "       array([-1, 0, 1, 2, 3, 4, 5], dtype=object),\n",
       "       array([-1, 0, 1, 2, 3, 4, 5], dtype=object),\n",
       "       array([-1, 0, 1, 2, 3, 4, 5], dtype=object),\n",
       "       array([-1, 0, 1, 2, 3, 4, 5], dtype=object),\n",
       "       array(['-1, 0', 1, 2, 3, 4], dtype=object),\n",
       "       array([1, 2, 3, 4, 5, 6, 7], dtype=object),\n",
       "       array([1, 2, 3, 4, 5, 6, 7, 8, 9, 10, 11], dtype=object),\n",
       "       array([1, 2, 3, 4, 5, 6, 7, 8, 9, 10, 11], dtype=object),\n",
       "       array([1, 2, 3, 4, 5, 6, 7, 8, 9, 10, 11, 12, 13, 14, 15, 16, 17, 18, 19,\n",
       "       20, 21, 22, 23, 24, 25, 26, 27, 28, 29, 30, 31, 32, 33, 34, 35, 36,\n",
       "       37, 38, 39, 40], dtype=object),\n",
       "       array([1, 2, 3, 4, 5, 6, 7, 8, 9, 10, 11, 12], dtype=object),\n",
       "       array([1, 2, 3, 4, 5, 6, 7, 8, 9, 10], dtype=object),\n",
       "       array([1, 2, 3, 4, 5, 6, 7, 8, 9, 10], dtype=object),\n",
       "       array(['…'], dtype=object),\n",
       "       array([1, 2, 3, 4, 5, 6], dtype=object),\n",
       "       array(['-1, 0', 1, 2, 3], dtype=object),\n",
       "       array([0, 1, 2, 3, 4, 5], dtype=object),\n",
       "       array(['-1', 1, 2, 3, 4, 5, 6, 7, 8, 9], dtype=object),\n",
       "       array([-1, 'O', 'W'], dtype=object),\n",
       "       array([-1, 0, 1, 2, 3, 4], dtype=object),\n",
       "       array([-1, 0, 1, 2, 3, 4], dtype=object),\n",
       "       array([-1, 0, 1, 2, 3], dtype=object),\n",
       "       array([-1, 0, 1, 2], dtype=object),\n",
       "       array([1, 2, 3, 4, 5], dtype=object),\n",
       "       array([-1, 1, 2, 3, 4, 5], dtype=object),\n",
       "       array([-1, 1, 2, 3, 4, 5], dtype=object),\n",
       "       array(['-1, 0', 1, 2, 3, 4, 5, 6, 7, 8, 9, 10, 11, 12, 13, 14, 15],\n",
       "      dtype=object),\n",
       "       array(['-1, 0', 1, 2, 3, 4, 5, 6, 7], dtype=object),\n",
       "       array([1, 2, 3, 4, 5, '-1, 9'], dtype=object),\n",
       "       array([0, 1, 2, 3, 4, 5], dtype=object),\n",
       "       array(['-1, 9', 1, 2, 3, 4, 5, 6, 7], dtype=object),\n",
       "       array(['-1, 9', 1, 2, 3, 4, 5, 6, 7], dtype=object),\n",
       "       array(['-1, 9', 1, 2, 3, 4, 5, 6, 7], dtype=object),\n",
       "       array(['-1, 9', 1, 2, 3, 4, 5, 6, 7], dtype=object),\n",
       "       array(['-1, 9', 1, 2, 3, 4, 5, 6, 7], dtype=object),\n",
       "       array(['-1, 9', 1, 2, 3, 4, 5, 6, 7], dtype=object),\n",
       "       array(['-1, 9', 1, 2, 3, 4, 5, 6, 7], dtype=object),\n",
       "       array(['-1, 9', 1, 2, 3, 4, 5, 6, 7], dtype=object),\n",
       "       array(['-1, 9', 1, 2, 3, 4, 5, 6, 7], dtype=object),\n",
       "       array(['-1, 9', 1, 2, 3, 4, 5, 6, 7], dtype=object),\n",
       "       array(['-1, 9', 1, 2, 3, 4, 5, 6, 7], dtype=object),\n",
       "       array(['-1, 9', 1, 2, 3, 4, 5, 6, 7], dtype=object),\n",
       "       array(['-1, 9', 1, 2, 3, 4, 5, 6, 7], dtype=object),\n",
       "       array(['-1, 9', 1, 2, 3, 4, 5, 6, 7], dtype=object),\n",
       "       array([-1, 0, 1, 2, 3], dtype=object),\n",
       "       array([-1, 0, 1], dtype=object),\n",
       "       array(['-1, 0', 1, 2, 3, 4, 5], dtype=object),\n",
       "       array([-1, 1, 2], dtype=object),\n",
       "       array(['-1, 0', 1, 2, 3, 4, 5], dtype=object),\n",
       "       array(['-1, 0', 1, 2, 3, 4, 5, 6, 7, 8, 9], dtype=object),\n",
       "       array([-1, 0, 1, 2, 3, 4, 5, 7, 8], dtype=object),\n",
       "       array(['-1, 0', 1, 2, 3, 4, 5, 6], dtype=object),\n",
       "       array(['-1, 9', 1, 2, 3, 4, 5, 6], dtype=object)], dtype=object)"
      ]
     },
     "execution_count": 30,
     "metadata": {},
     "output_type": "execute_result"
    }
   ],
   "source": [
    "values_df.groupby(['Attribute'])['Value'].unique().values"
   ]
  },
  {
   "cell_type": "markdown",
   "metadata": {},
   "source": [
    "##### Quantitative Attribute\n",
    "\n",
    "create `num_annot_attribute` to hold numeric features"
   ]
  },
  {
   "cell_type": "code",
   "execution_count": 31,
   "metadata": {},
   "outputs": [
    {
     "data": {
      "text/plain": [
       "array(['ANZ_HAUSHALTE_AKTIV', 'ANZ_HH_TITEL', 'ANZ_PERSONEN', 'ANZ_TITEL',\n",
       "       'GEBURTSJAHR', 'KBA13_ANZAHL_PKW', 'MIN_GEBAEUDEJAHR'],\n",
       "      dtype=object)"
      ]
     },
     "execution_count": 31,
     "metadata": {},
     "output_type": "execute_result"
    }
   ],
   "source": [
    "num_annot_attribute = values_df.Attribute.unique()[np.where(values_df.groupby(['Attribute'], sort=False)['Value'].count() == 1)]\n",
    "num_annot_attribute"
   ]
  },
  {
   "cell_type": "code",
   "execution_count": 32,
   "metadata": {},
   "outputs": [
    {
     "data": {
      "text/html": [
       "<div>\n",
       "<style scoped>\n",
       "    .dataframe tbody tr th:only-of-type {\n",
       "        vertical-align: middle;\n",
       "    }\n",
       "\n",
       "    .dataframe tbody tr th {\n",
       "        vertical-align: top;\n",
       "    }\n",
       "\n",
       "    .dataframe thead th {\n",
       "        text-align: right;\n",
       "    }\n",
       "</style>\n",
       "<table border=\"1\" class=\"dataframe\">\n",
       "  <thead>\n",
       "    <tr style=\"text-align: right;\">\n",
       "      <th></th>\n",
       "      <th>Attribute</th>\n",
       "      <th>Description</th>\n",
       "      <th>Value</th>\n",
       "      <th>Meaning</th>\n",
       "    </tr>\n",
       "  </thead>\n",
       "  <tbody>\n",
       "    <tr>\n",
       "      <th>36</th>\n",
       "      <td>ANZ_HAUSHALTE_AKTIV</td>\n",
       "      <td>number of households in the building</td>\n",
       "      <td>…</td>\n",
       "      <td>numeric value (typically coded from 1-10)</td>\n",
       "    </tr>\n",
       "    <tr>\n",
       "      <th>37</th>\n",
       "      <td>ANZ_HH_TITEL</td>\n",
       "      <td>number of academic title holder in building</td>\n",
       "      <td>…</td>\n",
       "      <td>numeric value (typically coded from 1-10)</td>\n",
       "    </tr>\n",
       "    <tr>\n",
       "      <th>38</th>\n",
       "      <td>ANZ_PERSONEN</td>\n",
       "      <td>number of adult persons in the household</td>\n",
       "      <td>…</td>\n",
       "      <td>numeric value (typically coded from 1-3)</td>\n",
       "    </tr>\n",
       "    <tr>\n",
       "      <th>39</th>\n",
       "      <td>ANZ_TITEL</td>\n",
       "      <td>number of professional title holder in household</td>\n",
       "      <td>…</td>\n",
       "      <td>numeric value (typically coded from 1-10)</td>\n",
       "    </tr>\n",
       "    <tr>\n",
       "      <th>711</th>\n",
       "      <td>GEBURTSJAHR</td>\n",
       "      <td>year of birth</td>\n",
       "      <td>…</td>\n",
       "      <td>numeric value</td>\n",
       "    </tr>\n",
       "    <tr>\n",
       "      <th>1167</th>\n",
       "      <td>KBA13_ANZAHL_PKW</td>\n",
       "      <td>number of cars in the PLZ8</td>\n",
       "      <td>…</td>\n",
       "      <td>numeric value</td>\n",
       "    </tr>\n",
       "    <tr>\n",
       "      <th>1986</th>\n",
       "      <td>MIN_GEBAEUDEJAHR</td>\n",
       "      <td>year the building was first mentioned in our d...</td>\n",
       "      <td>…</td>\n",
       "      <td>numeric value</td>\n",
       "    </tr>\n",
       "  </tbody>\n",
       "</table>\n",
       "</div>"
      ],
      "text/plain": [
       "                Attribute                                        Description  \\\n",
       "36    ANZ_HAUSHALTE_AKTIV               number of households in the building   \n",
       "37           ANZ_HH_TITEL        number of academic title holder in building   \n",
       "38           ANZ_PERSONEN           number of adult persons in the household   \n",
       "39              ANZ_TITEL  number of professional title holder in household    \n",
       "711           GEBURTSJAHR                                      year of birth   \n",
       "1167     KBA13_ANZAHL_PKW                         number of cars in the PLZ8   \n",
       "1986     MIN_GEBAEUDEJAHR  year the building was first mentioned in our d...   \n",
       "\n",
       "     Value                                    Meaning  \n",
       "36       …  numeric value (typically coded from 1-10)  \n",
       "37       …  numeric value (typically coded from 1-10)  \n",
       "38       …   numeric value (typically coded from 1-3)  \n",
       "39       …  numeric value (typically coded from 1-10)  \n",
       "711      …                              numeric value  \n",
       "1167     …                              numeric value  \n",
       "1986     …                              numeric value  "
      ]
     },
     "execution_count": 32,
     "metadata": {},
     "output_type": "execute_result"
    }
   ],
   "source": [
    "values_df.loc[np.where(values_df.Attribute.isin(num_annot_attribute))]"
   ]
  },
  {
   "cell_type": "markdown",
   "metadata": {},
   "source": [
    "##### Categorical Attribute\n",
    "\n",
    "create `bin_cat_annot_attribute` to hold binary category features"
   ]
  },
  {
   "cell_type": "code",
   "execution_count": 33,
   "metadata": {},
   "outputs": [
    {
     "data": {
      "text/plain": [
       "array(['GREEN_AVANTGARDE'], dtype=object)"
      ]
     },
     "execution_count": 33,
     "metadata": {},
     "output_type": "execute_result"
    }
   ],
   "source": [
    "values_df.Attribute.unique()[np.where(values_df.groupby(['Attribute'], sort=False)['Value'].count() == 2)]"
   ]
  },
  {
   "cell_type": "code",
   "execution_count": 34,
   "metadata": {},
   "outputs": [
    {
     "data": {
      "text/plain": [
       "array(['GREEN_AVANTGARDE'], dtype=object)"
      ]
     },
     "execution_count": 34,
     "metadata": {},
     "output_type": "execute_result"
    }
   ],
   "source": [
    "bin_cat_annot_attribute = np.array(values_df.Attribute.unique()[np.where(values_df.groupby(['Attribute'])['Value'].count() == 2)])\n",
    "bin_cat_annot_attribute"
   ]
  },
  {
   "cell_type": "code",
   "execution_count": 35,
   "metadata": {},
   "outputs": [
    {
     "data": {
      "text/html": [
       "<div>\n",
       "<style scoped>\n",
       "    .dataframe tbody tr th:only-of-type {\n",
       "        vertical-align: middle;\n",
       "    }\n",
       "\n",
       "    .dataframe tbody tr th {\n",
       "        vertical-align: top;\n",
       "    }\n",
       "\n",
       "    .dataframe thead th {\n",
       "        text-align: right;\n",
       "    }\n",
       "</style>\n",
       "<table border=\"1\" class=\"dataframe\">\n",
       "  <thead>\n",
       "    <tr style=\"text-align: right;\">\n",
       "      <th></th>\n",
       "      <th>Attribute</th>\n",
       "      <th>Description</th>\n",
       "      <th>Value</th>\n",
       "      <th>Meaning</th>\n",
       "    </tr>\n",
       "  </thead>\n",
       "  <tbody>\n",
       "    <tr>\n",
       "      <th>732</th>\n",
       "      <td>GREEN_AVANTGARDE</td>\n",
       "      <td>Green avantgarde</td>\n",
       "      <td>0</td>\n",
       "      <td>doesn't belong to the green avantgarde</td>\n",
       "    </tr>\n",
       "    <tr>\n",
       "      <th>733</th>\n",
       "      <td>GREEN_AVANTGARDE</td>\n",
       "      <td>the environmental sustainability is the domina...</td>\n",
       "      <td>1</td>\n",
       "      <td>belongs to the green avantgarde</td>\n",
       "    </tr>\n",
       "  </tbody>\n",
       "</table>\n",
       "</div>"
      ],
      "text/plain": [
       "            Attribute                                        Description  \\\n",
       "732  GREEN_AVANTGARDE                                   Green avantgarde   \n",
       "733  GREEN_AVANTGARDE  the environmental sustainability is the domina...   \n",
       "\n",
       "    Value                                 Meaning  \n",
       "732     0  doesn't belong to the green avantgarde  \n",
       "733     1         belongs to the green avantgarde  "
      ]
     },
     "execution_count": 35,
     "metadata": {},
     "output_type": "execute_result"
    }
   ],
   "source": [
    "values_df.loc[np.where(values_df.Attribute.isin(bin_cat_annot_attribute))]"
   ]
  },
  {
   "cell_type": "markdown",
   "metadata": {},
   "source": [
    "create `str_cat_annot_attribute` to hold string category features"
   ]
  },
  {
   "cell_type": "code",
   "execution_count": 36,
   "metadata": {},
   "outputs": [
    {
     "data": {
      "text/html": [
       "<div>\n",
       "<style scoped>\n",
       "    .dataframe tbody tr th:only-of-type {\n",
       "        vertical-align: middle;\n",
       "    }\n",
       "\n",
       "    .dataframe tbody tr th {\n",
       "        vertical-align: top;\n",
       "    }\n",
       "\n",
       "    .dataframe thead th {\n",
       "        text-align: right;\n",
       "    }\n",
       "</style>\n",
       "<table border=\"1\" class=\"dataframe\">\n",
       "  <thead>\n",
       "    <tr style=\"text-align: right;\">\n",
       "      <th></th>\n",
       "      <th>Attribute</th>\n",
       "      <th>Description</th>\n",
       "      <th>Value</th>\n",
       "      <th>Meaning</th>\n",
       "    </tr>\n",
       "  </thead>\n",
       "  <tbody>\n",
       "    <tr>\n",
       "      <th>2014</th>\n",
       "      <td>OST_WEST_KZ</td>\n",
       "      <td>flag indicating the former GDR/FRG</td>\n",
       "      <td>O</td>\n",
       "      <td>East (GDR)</td>\n",
       "    </tr>\n",
       "    <tr>\n",
       "      <th>2015</th>\n",
       "      <td>OST_WEST_KZ</td>\n",
       "      <td>flag indicating the former GDR/FRG</td>\n",
       "      <td>W</td>\n",
       "      <td>West (FRG)</td>\n",
       "    </tr>\n",
       "  </tbody>\n",
       "</table>\n",
       "</div>"
      ],
      "text/plain": [
       "        Attribute                         Description Value     Meaning\n",
       "2014  OST_WEST_KZ  flag indicating the former GDR/FRG     O  East (GDR)\n",
       "2015  OST_WEST_KZ  flag indicating the former GDR/FRG     W  West (FRG)"
      ]
     },
     "execution_count": 36,
     "metadata": {},
     "output_type": "execute_result"
    }
   ],
   "source": [
    "values_df.loc[np.where(values_df.Value.str.contains(\"O|W\") == True)]"
   ]
  },
  {
   "cell_type": "code",
   "execution_count": 37,
   "metadata": {},
   "outputs": [
    {
     "data": {
      "text/html": [
       "<div>\n",
       "<style scoped>\n",
       "    .dataframe tbody tr th:only-of-type {\n",
       "        vertical-align: middle;\n",
       "    }\n",
       "\n",
       "    .dataframe tbody tr th {\n",
       "        vertical-align: top;\n",
       "    }\n",
       "\n",
       "    .dataframe thead th {\n",
       "        text-align: right;\n",
       "    }\n",
       "</style>\n",
       "<table border=\"1\" class=\"dataframe\">\n",
       "  <thead>\n",
       "    <tr style=\"text-align: right;\">\n",
       "      <th></th>\n",
       "      <th>Attribute</th>\n",
       "      <th>Description</th>\n",
       "      <th>Value</th>\n",
       "      <th>Meaning</th>\n",
       "    </tr>\n",
       "  </thead>\n",
       "  <tbody>\n",
       "    <tr>\n",
       "      <th>2013</th>\n",
       "      <td>OST_WEST_KZ</td>\n",
       "      <td>flag indicating the former GDR/FRG</td>\n",
       "      <td>-1</td>\n",
       "      <td>unknown</td>\n",
       "    </tr>\n",
       "    <tr>\n",
       "      <th>2014</th>\n",
       "      <td>OST_WEST_KZ</td>\n",
       "      <td>flag indicating the former GDR/FRG</td>\n",
       "      <td>O</td>\n",
       "      <td>East (GDR)</td>\n",
       "    </tr>\n",
       "    <tr>\n",
       "      <th>2015</th>\n",
       "      <td>OST_WEST_KZ</td>\n",
       "      <td>flag indicating the former GDR/FRG</td>\n",
       "      <td>W</td>\n",
       "      <td>West (FRG)</td>\n",
       "    </tr>\n",
       "  </tbody>\n",
       "</table>\n",
       "</div>"
      ],
      "text/plain": [
       "        Attribute                         Description Value     Meaning\n",
       "2013  OST_WEST_KZ  flag indicating the former GDR/FRG    -1     unknown\n",
       "2014  OST_WEST_KZ  flag indicating the former GDR/FRG     O  East (GDR)\n",
       "2015  OST_WEST_KZ  flag indicating the former GDR/FRG     W  West (FRG)"
      ]
     },
     "execution_count": 37,
     "metadata": {},
     "output_type": "execute_result"
    }
   ],
   "source": [
    "values_df[values_df.Attribute == 'OST_WEST_KZ']"
   ]
  },
  {
   "cell_type": "code",
   "execution_count": 38,
   "metadata": {},
   "outputs": [
    {
     "data": {
      "text/plain": [
       "array(['OST_WEST_KZ'], dtype='<U11')"
      ]
     },
     "execution_count": 38,
     "metadata": {},
     "output_type": "execute_result"
    }
   ],
   "source": [
    "str_cat_annot_attribute = np.array(['OST_WEST_KZ'])\n",
    "str_cat_annot_attribute"
   ]
  },
  {
   "cell_type": "code",
   "execution_count": 39,
   "metadata": {},
   "outputs": [
    {
     "data": {
      "text/html": [
       "<div>\n",
       "<style scoped>\n",
       "    .dataframe tbody tr th:only-of-type {\n",
       "        vertical-align: middle;\n",
       "    }\n",
       "\n",
       "    .dataframe tbody tr th {\n",
       "        vertical-align: top;\n",
       "    }\n",
       "\n",
       "    .dataframe thead th {\n",
       "        text-align: right;\n",
       "    }\n",
       "</style>\n",
       "<table border=\"1\" class=\"dataframe\">\n",
       "  <thead>\n",
       "    <tr style=\"text-align: right;\">\n",
       "      <th></th>\n",
       "      <th>Attribute</th>\n",
       "      <th>Description</th>\n",
       "      <th>Value</th>\n",
       "      <th>Meaning</th>\n",
       "    </tr>\n",
       "  </thead>\n",
       "  <tbody>\n",
       "    <tr>\n",
       "      <th>61</th>\n",
       "      <td>CAMEO_DEU_2015</td>\n",
       "      <td>CAMEO classification 2015 - detailled classifi...</td>\n",
       "      <td>1A</td>\n",
       "      <td>Work-Life-Balance</td>\n",
       "    </tr>\n",
       "    <tr>\n",
       "      <th>62</th>\n",
       "      <td>CAMEO_DEU_2015</td>\n",
       "      <td>CAMEO classification 2015 - detailled classifi...</td>\n",
       "      <td>1B</td>\n",
       "      <td>Wealthy Best Ager</td>\n",
       "    </tr>\n",
       "    <tr>\n",
       "      <th>63</th>\n",
       "      <td>CAMEO_DEU_2015</td>\n",
       "      <td>CAMEO classification 2015 - detailled classifi...</td>\n",
       "      <td>1C</td>\n",
       "      <td>Successful Songwriter</td>\n",
       "    </tr>\n",
       "    <tr>\n",
       "      <th>64</th>\n",
       "      <td>CAMEO_DEU_2015</td>\n",
       "      <td>CAMEO classification 2015 - detailled classifi...</td>\n",
       "      <td>1D</td>\n",
       "      <td>Old Nobility</td>\n",
       "    </tr>\n",
       "    <tr>\n",
       "      <th>65</th>\n",
       "      <td>CAMEO_DEU_2015</td>\n",
       "      <td>CAMEO classification 2015 - detailled classifi...</td>\n",
       "      <td>1E</td>\n",
       "      <td>City Nobility</td>\n",
       "    </tr>\n",
       "    <tr>\n",
       "      <th>66</th>\n",
       "      <td>CAMEO_DEU_2015</td>\n",
       "      <td>CAMEO classification 2015 - detailled classifi...</td>\n",
       "      <td>2A</td>\n",
       "      <td>Cottage Chic</td>\n",
       "    </tr>\n",
       "    <tr>\n",
       "      <th>67</th>\n",
       "      <td>CAMEO_DEU_2015</td>\n",
       "      <td>CAMEO classification 2015 - detailled classifi...</td>\n",
       "      <td>2B</td>\n",
       "      <td>Noble Jogger</td>\n",
       "    </tr>\n",
       "    <tr>\n",
       "      <th>68</th>\n",
       "      <td>CAMEO_DEU_2015</td>\n",
       "      <td>CAMEO classification 2015 - detailled classifi...</td>\n",
       "      <td>2C</td>\n",
       "      <td>Established gourmet</td>\n",
       "    </tr>\n",
       "    <tr>\n",
       "      <th>69</th>\n",
       "      <td>CAMEO_DEU_2015</td>\n",
       "      <td>CAMEO classification 2015 - detailled classifi...</td>\n",
       "      <td>2D</td>\n",
       "      <td>Fine Management</td>\n",
       "    </tr>\n",
       "    <tr>\n",
       "      <th>70</th>\n",
       "      <td>CAMEO_DEU_2015</td>\n",
       "      <td>CAMEO classification 2015 - detailled classifi...</td>\n",
       "      <td>3A</td>\n",
       "      <td>Career &amp; Family</td>\n",
       "    </tr>\n",
       "    <tr>\n",
       "      <th>71</th>\n",
       "      <td>CAMEO_DEU_2015</td>\n",
       "      <td>CAMEO classification 2015 - detailled classifi...</td>\n",
       "      <td>3B</td>\n",
       "      <td>Powershopping Families</td>\n",
       "    </tr>\n",
       "    <tr>\n",
       "      <th>72</th>\n",
       "      <td>CAMEO_DEU_2015</td>\n",
       "      <td>CAMEO classification 2015 - detailled classifi...</td>\n",
       "      <td>3C</td>\n",
       "      <td>Rural Neighborhood</td>\n",
       "    </tr>\n",
       "    <tr>\n",
       "      <th>73</th>\n",
       "      <td>CAMEO_DEU_2015</td>\n",
       "      <td>CAMEO classification 2015 - detailled classifi...</td>\n",
       "      <td>3D</td>\n",
       "      <td>Secure Retirement</td>\n",
       "    </tr>\n",
       "    <tr>\n",
       "      <th>74</th>\n",
       "      <td>CAMEO_DEU_2015</td>\n",
       "      <td>CAMEO classification 2015 - detailled classifi...</td>\n",
       "      <td>4A</td>\n",
       "      <td>Family Starter</td>\n",
       "    </tr>\n",
       "    <tr>\n",
       "      <th>75</th>\n",
       "      <td>CAMEO_DEU_2015</td>\n",
       "      <td>CAMEO classification 2015 - detailled classifi...</td>\n",
       "      <td>4B</td>\n",
       "      <td>Family Life</td>\n",
       "    </tr>\n",
       "    <tr>\n",
       "      <th>76</th>\n",
       "      <td>CAMEO_DEU_2015</td>\n",
       "      <td>CAMEO classification 2015 - detailled classifi...</td>\n",
       "      <td>4C</td>\n",
       "      <td>String Trimmer</td>\n",
       "    </tr>\n",
       "    <tr>\n",
       "      <th>77</th>\n",
       "      <td>CAMEO_DEU_2015</td>\n",
       "      <td>CAMEO classification 2015 - detailled classifi...</td>\n",
       "      <td>4D</td>\n",
       "      <td>Empty Nest</td>\n",
       "    </tr>\n",
       "    <tr>\n",
       "      <th>78</th>\n",
       "      <td>CAMEO_DEU_2015</td>\n",
       "      <td>CAMEO classification 2015 - detailled classifi...</td>\n",
       "      <td>4E</td>\n",
       "      <td>Golden Ager</td>\n",
       "    </tr>\n",
       "    <tr>\n",
       "      <th>79</th>\n",
       "      <td>CAMEO_DEU_2015</td>\n",
       "      <td>CAMEO classification 2015 - detailled classifi...</td>\n",
       "      <td>5A</td>\n",
       "      <td>Younger Employees</td>\n",
       "    </tr>\n",
       "    <tr>\n",
       "      <th>80</th>\n",
       "      <td>CAMEO_DEU_2015</td>\n",
       "      <td>CAMEO classification 2015 - detailled classifi...</td>\n",
       "      <td>5B</td>\n",
       "      <td>Suddenly Family</td>\n",
       "    </tr>\n",
       "    <tr>\n",
       "      <th>81</th>\n",
       "      <td>CAMEO_DEU_2015</td>\n",
       "      <td>CAMEO classification 2015 - detailled classifi...</td>\n",
       "      <td>5C</td>\n",
       "      <td>Family First</td>\n",
       "    </tr>\n",
       "    <tr>\n",
       "      <th>82</th>\n",
       "      <td>CAMEO_DEU_2015</td>\n",
       "      <td>CAMEO classification 2015 - detailled classifi...</td>\n",
       "      <td>5D</td>\n",
       "      <td>Stock Market Junkies</td>\n",
       "    </tr>\n",
       "    <tr>\n",
       "      <th>83</th>\n",
       "      <td>CAMEO_DEU_2015</td>\n",
       "      <td>CAMEO classification 2015 - detailled classifi...</td>\n",
       "      <td>5E</td>\n",
       "      <td>Coffee Rider</td>\n",
       "    </tr>\n",
       "    <tr>\n",
       "      <th>84</th>\n",
       "      <td>CAMEO_DEU_2015</td>\n",
       "      <td>CAMEO classification 2015 - detailled classifi...</td>\n",
       "      <td>5F</td>\n",
       "      <td>Active Retirement</td>\n",
       "    </tr>\n",
       "    <tr>\n",
       "      <th>85</th>\n",
       "      <td>CAMEO_DEU_2015</td>\n",
       "      <td>CAMEO classification 2015 - detailled classifi...</td>\n",
       "      <td>6A</td>\n",
       "      <td>Jobstarter</td>\n",
       "    </tr>\n",
       "    <tr>\n",
       "      <th>86</th>\n",
       "      <td>CAMEO_DEU_2015</td>\n",
       "      <td>CAMEO classification 2015 - detailled classifi...</td>\n",
       "      <td>6B</td>\n",
       "      <td>Petty Bourgeois</td>\n",
       "    </tr>\n",
       "    <tr>\n",
       "      <th>87</th>\n",
       "      <td>CAMEO_DEU_2015</td>\n",
       "      <td>CAMEO classification 2015 - detailled classifi...</td>\n",
       "      <td>6C</td>\n",
       "      <td>Long-established</td>\n",
       "    </tr>\n",
       "    <tr>\n",
       "      <th>88</th>\n",
       "      <td>CAMEO_DEU_2015</td>\n",
       "      <td>CAMEO classification 2015 - detailled classifi...</td>\n",
       "      <td>6D</td>\n",
       "      <td>Sportgardener</td>\n",
       "    </tr>\n",
       "    <tr>\n",
       "      <th>89</th>\n",
       "      <td>CAMEO_DEU_2015</td>\n",
       "      <td>CAMEO classification 2015 - detailled classifi...</td>\n",
       "      <td>6E</td>\n",
       "      <td>Urban Parents</td>\n",
       "    </tr>\n",
       "    <tr>\n",
       "      <th>90</th>\n",
       "      <td>CAMEO_DEU_2015</td>\n",
       "      <td>CAMEO classification 2015 - detailled classifi...</td>\n",
       "      <td>6F</td>\n",
       "      <td>Frugal Aging</td>\n",
       "    </tr>\n",
       "    <tr>\n",
       "      <th>91</th>\n",
       "      <td>CAMEO_DEU_2015</td>\n",
       "      <td>CAMEO classification 2015 - detailled classifi...</td>\n",
       "      <td>7A</td>\n",
       "      <td>Journeymen</td>\n",
       "    </tr>\n",
       "    <tr>\n",
       "      <th>92</th>\n",
       "      <td>CAMEO_DEU_2015</td>\n",
       "      <td>CAMEO classification 2015 - detailled classifi...</td>\n",
       "      <td>7B</td>\n",
       "      <td>Mantaplatte</td>\n",
       "    </tr>\n",
       "    <tr>\n",
       "      <th>93</th>\n",
       "      <td>CAMEO_DEU_2015</td>\n",
       "      <td>CAMEO classification 2015 - detailled classifi...</td>\n",
       "      <td>7C</td>\n",
       "      <td>Factory Worker</td>\n",
       "    </tr>\n",
       "    <tr>\n",
       "      <th>94</th>\n",
       "      <td>CAMEO_DEU_2015</td>\n",
       "      <td>CAMEO classification 2015 - detailled classifi...</td>\n",
       "      <td>7D</td>\n",
       "      <td>Rear Window</td>\n",
       "    </tr>\n",
       "    <tr>\n",
       "      <th>95</th>\n",
       "      <td>CAMEO_DEU_2015</td>\n",
       "      <td>CAMEO classification 2015 - detailled classifi...</td>\n",
       "      <td>7E</td>\n",
       "      <td>Interested Retirees</td>\n",
       "    </tr>\n",
       "    <tr>\n",
       "      <th>96</th>\n",
       "      <td>CAMEO_DEU_2015</td>\n",
       "      <td>CAMEO classification 2015 - detailled classifi...</td>\n",
       "      <td>8A</td>\n",
       "      <td>Multi-culteral</td>\n",
       "    </tr>\n",
       "    <tr>\n",
       "      <th>97</th>\n",
       "      <td>CAMEO_DEU_2015</td>\n",
       "      <td>CAMEO classification 2015 - detailled classifi...</td>\n",
       "      <td>8B</td>\n",
       "      <td>Young &amp; Mobile</td>\n",
       "    </tr>\n",
       "    <tr>\n",
       "      <th>98</th>\n",
       "      <td>CAMEO_DEU_2015</td>\n",
       "      <td>CAMEO classification 2015 - detailled classifi...</td>\n",
       "      <td>8C</td>\n",
       "      <td>Prefab</td>\n",
       "    </tr>\n",
       "    <tr>\n",
       "      <th>99</th>\n",
       "      <td>CAMEO_DEU_2015</td>\n",
       "      <td>CAMEO classification 2015 - detailled classifi...</td>\n",
       "      <td>8D</td>\n",
       "      <td>Town Seniors</td>\n",
       "    </tr>\n",
       "    <tr>\n",
       "      <th>100</th>\n",
       "      <td>CAMEO_DEU_2015</td>\n",
       "      <td>CAMEO classification 2015 - detailled classifi...</td>\n",
       "      <td>9A</td>\n",
       "      <td>First Shared Apartment</td>\n",
       "    </tr>\n",
       "    <tr>\n",
       "      <th>101</th>\n",
       "      <td>CAMEO_DEU_2015</td>\n",
       "      <td>CAMEO classification 2015 - detailled classifi...</td>\n",
       "      <td>9B</td>\n",
       "      <td>Temporary Workers</td>\n",
       "    </tr>\n",
       "    <tr>\n",
       "      <th>102</th>\n",
       "      <td>CAMEO_DEU_2015</td>\n",
       "      <td>CAMEO classification 2015 - detailled classifi...</td>\n",
       "      <td>9C</td>\n",
       "      <td>Afternoon Talk Show</td>\n",
       "    </tr>\n",
       "    <tr>\n",
       "      <th>103</th>\n",
       "      <td>CAMEO_DEU_2015</td>\n",
       "      <td>CAMEO classification 2015 - detailled classifi...</td>\n",
       "      <td>9D</td>\n",
       "      <td>Mini-Jobber</td>\n",
       "    </tr>\n",
       "    <tr>\n",
       "      <th>104</th>\n",
       "      <td>CAMEO_DEU_2015</td>\n",
       "      <td>CAMEO classification 2015 - detailled classifi...</td>\n",
       "      <td>9E</td>\n",
       "      <td>Socking Away</td>\n",
       "    </tr>\n",
       "  </tbody>\n",
       "</table>\n",
       "</div>"
      ],
      "text/plain": [
       "          Attribute                                        Description Value  \\\n",
       "61   CAMEO_DEU_2015  CAMEO classification 2015 - detailled classifi...    1A   \n",
       "62   CAMEO_DEU_2015  CAMEO classification 2015 - detailled classifi...    1B   \n",
       "63   CAMEO_DEU_2015  CAMEO classification 2015 - detailled classifi...    1C   \n",
       "64   CAMEO_DEU_2015  CAMEO classification 2015 - detailled classifi...    1D   \n",
       "65   CAMEO_DEU_2015  CAMEO classification 2015 - detailled classifi...    1E   \n",
       "66   CAMEO_DEU_2015  CAMEO classification 2015 - detailled classifi...    2A   \n",
       "67   CAMEO_DEU_2015  CAMEO classification 2015 - detailled classifi...    2B   \n",
       "68   CAMEO_DEU_2015  CAMEO classification 2015 - detailled classifi...    2C   \n",
       "69   CAMEO_DEU_2015  CAMEO classification 2015 - detailled classifi...    2D   \n",
       "70   CAMEO_DEU_2015  CAMEO classification 2015 - detailled classifi...    3A   \n",
       "71   CAMEO_DEU_2015  CAMEO classification 2015 - detailled classifi...    3B   \n",
       "72   CAMEO_DEU_2015  CAMEO classification 2015 - detailled classifi...    3C   \n",
       "73   CAMEO_DEU_2015  CAMEO classification 2015 - detailled classifi...    3D   \n",
       "74   CAMEO_DEU_2015  CAMEO classification 2015 - detailled classifi...    4A   \n",
       "75   CAMEO_DEU_2015  CAMEO classification 2015 - detailled classifi...    4B   \n",
       "76   CAMEO_DEU_2015  CAMEO classification 2015 - detailled classifi...    4C   \n",
       "77   CAMEO_DEU_2015  CAMEO classification 2015 - detailled classifi...    4D   \n",
       "78   CAMEO_DEU_2015  CAMEO classification 2015 - detailled classifi...    4E   \n",
       "79   CAMEO_DEU_2015  CAMEO classification 2015 - detailled classifi...    5A   \n",
       "80   CAMEO_DEU_2015  CAMEO classification 2015 - detailled classifi...    5B   \n",
       "81   CAMEO_DEU_2015  CAMEO classification 2015 - detailled classifi...    5C   \n",
       "82   CAMEO_DEU_2015  CAMEO classification 2015 - detailled classifi...    5D   \n",
       "83   CAMEO_DEU_2015  CAMEO classification 2015 - detailled classifi...    5E   \n",
       "84   CAMEO_DEU_2015  CAMEO classification 2015 - detailled classifi...    5F   \n",
       "85   CAMEO_DEU_2015  CAMEO classification 2015 - detailled classifi...    6A   \n",
       "86   CAMEO_DEU_2015  CAMEO classification 2015 - detailled classifi...    6B   \n",
       "87   CAMEO_DEU_2015  CAMEO classification 2015 - detailled classifi...    6C   \n",
       "88   CAMEO_DEU_2015  CAMEO classification 2015 - detailled classifi...    6D   \n",
       "89   CAMEO_DEU_2015  CAMEO classification 2015 - detailled classifi...    6E   \n",
       "90   CAMEO_DEU_2015  CAMEO classification 2015 - detailled classifi...    6F   \n",
       "91   CAMEO_DEU_2015  CAMEO classification 2015 - detailled classifi...    7A   \n",
       "92   CAMEO_DEU_2015  CAMEO classification 2015 - detailled classifi...    7B   \n",
       "93   CAMEO_DEU_2015  CAMEO classification 2015 - detailled classifi...    7C   \n",
       "94   CAMEO_DEU_2015  CAMEO classification 2015 - detailled classifi...    7D   \n",
       "95   CAMEO_DEU_2015  CAMEO classification 2015 - detailled classifi...    7E   \n",
       "96   CAMEO_DEU_2015  CAMEO classification 2015 - detailled classifi...    8A   \n",
       "97   CAMEO_DEU_2015  CAMEO classification 2015 - detailled classifi...    8B   \n",
       "98   CAMEO_DEU_2015  CAMEO classification 2015 - detailled classifi...    8C   \n",
       "99   CAMEO_DEU_2015  CAMEO classification 2015 - detailled classifi...    8D   \n",
       "100  CAMEO_DEU_2015  CAMEO classification 2015 - detailled classifi...    9A   \n",
       "101  CAMEO_DEU_2015  CAMEO classification 2015 - detailled classifi...    9B   \n",
       "102  CAMEO_DEU_2015  CAMEO classification 2015 - detailled classifi...    9C   \n",
       "103  CAMEO_DEU_2015  CAMEO classification 2015 - detailled classifi...    9D   \n",
       "104  CAMEO_DEU_2015  CAMEO classification 2015 - detailled classifi...    9E   \n",
       "\n",
       "                    Meaning  \n",
       "61        Work-Life-Balance  \n",
       "62        Wealthy Best Ager  \n",
       "63    Successful Songwriter  \n",
       "64             Old Nobility  \n",
       "65            City Nobility  \n",
       "66             Cottage Chic  \n",
       "67             Noble Jogger  \n",
       "68      Established gourmet  \n",
       "69          Fine Management  \n",
       "70          Career & Family  \n",
       "71   Powershopping Families  \n",
       "72       Rural Neighborhood  \n",
       "73        Secure Retirement  \n",
       "74           Family Starter  \n",
       "75              Family Life  \n",
       "76           String Trimmer  \n",
       "77               Empty Nest  \n",
       "78              Golden Ager  \n",
       "79        Younger Employees  \n",
       "80          Suddenly Family  \n",
       "81             Family First  \n",
       "82     Stock Market Junkies  \n",
       "83             Coffee Rider  \n",
       "84        Active Retirement  \n",
       "85               Jobstarter  \n",
       "86          Petty Bourgeois  \n",
       "87         Long-established  \n",
       "88            Sportgardener  \n",
       "89            Urban Parents  \n",
       "90             Frugal Aging  \n",
       "91               Journeymen  \n",
       "92              Mantaplatte  \n",
       "93           Factory Worker  \n",
       "94              Rear Window  \n",
       "95      Interested Retirees  \n",
       "96           Multi-culteral  \n",
       "97           Young & Mobile  \n",
       "98                   Prefab  \n",
       "99             Town Seniors  \n",
       "100  First Shared Apartment  \n",
       "101       Temporary Workers  \n",
       "102     Afternoon Talk Show  \n",
       "103             Mini-Jobber  \n",
       "104            Socking Away  "
      ]
     },
     "execution_count": 39,
     "metadata": {},
     "output_type": "execute_result"
    }
   ],
   "source": [
    "values_df[values_df.Attribute == 'CAMEO_DEU_2015']"
   ]
  },
  {
   "cell_type": "code",
   "execution_count": 40,
   "metadata": {},
   "outputs": [
    {
     "data": {
      "text/plain": [
       "array(['CAMEO_DEU_2015', 'OST_WEST_KZ'], dtype='<U14')"
      ]
     },
     "execution_count": 40,
     "metadata": {},
     "output_type": "execute_result"
    }
   ],
   "source": [
    "str_cat_annot_attribute = np.union1d(str_cat_annot_attribute, ['CAMEO_DEU_2015'])\n",
    "str_cat_annot_attribute"
   ]
  },
  {
   "cell_type": "markdown",
   "metadata": {},
   "source": [
    "create `num_cat_annot_attribute` to hold numerical category features"
   ]
  },
  {
   "cell_type": "code",
   "execution_count": 41,
   "metadata": {},
   "outputs": [
    {
     "data": {
      "text/plain": [
       "array(['AGER_TYP', 'ALTERSKATEGORIE_GROB', 'ALTER_HH', 'ANREDE_KZ',\n",
       "       'BALLRAUM', 'BIP_FLAG', 'CAMEO_DEUG_2015', 'CAMEO_DEUINTL_2015',\n",
       "       'CJT_GESAMTTYP', 'D19_BANKEN_ANZ_12', 'D19_BANKEN_ANZ_24',\n",
       "       'D19_BANKEN_DATUM', 'D19_BANKEN_DIREKT_RZ', 'D19_BANKEN_GROSS_RZ',\n",
       "       'D19_BANKEN_LOKAL_RZ', 'D19_BANKEN_OFFLINE_DATUM',\n",
       "       'D19_BANKEN_ONLINE_DATUM', 'D19_BANKEN_ONLINE_QUOTE_12',\n",
       "       'D19_BANKEN_REST_RZ', 'D19_BEKLEIDUNG_GEH_RZ',\n",
       "       'D19_BEKLEIDUNG_REST_RZ', 'D19_BILDUNG_RZ', 'D19_BIO_OEKO_RZ',\n",
       "       'D19_BUCH_RZ', 'D19_DIGIT_SERV_RZ', 'D19_DROGERIEARTIKEL_RZ',\n",
       "       'D19_ENERGIE_RZ', 'D19_FREIZEIT_RZ', 'D19_GARTEN_RZ',\n",
       "       'D19_GESAMT_ANZ_12', 'D19_GESAMT_ANZ_24', 'D19_GESAMT_DATUM',\n",
       "       'D19_GESAMT_OFFLINE_DATUM', 'D19_GESAMT_ONLINE_DATUM',\n",
       "       'D19_GESAMT_ONLINE_QUOTE_12', 'D19_HANDWERK_RZ',\n",
       "       'D19_HAUS_DEKO_RZ', 'D19_KINDERARTIKEL_RZ', 'D19_KK_KUNDENTYP',\n",
       "       'D19_KONSUMTYP', 'D19_KOSMETIK_RZ', 'D19_LEBENSMITTEL_RZ',\n",
       "       'D19_LOTTO_RZ', 'D19_NAHRUNGSERGAENZUNG_RZ', 'D19_RATGEBER_RZ',\n",
       "       'D19_REISEN_RZ', 'D19_SAMMELARTIKEL_RZ', 'D19_SCHUHE_RZ',\n",
       "       'D19_SONSTIGE_RZ', 'D19_TECHNIK_RZ', 'D19_TELKO_ANZ_12',\n",
       "       'D19_TELKO_ANZ_24', 'D19_TELKO_DATUM', 'D19_TELKO_MOBILE_RZ',\n",
       "       'D19_TELKO_OFFLINE_DATUM', 'D19_TELKO_ONLINE_DATUM',\n",
       "       'D19_TELKO_REST_RZ', 'D19_TIERARTIKEL_RZ', 'D19_VERSAND_ANZ_12',\n",
       "       'D19_VERSAND_ANZ_24', 'D19_VERSAND_DATUM',\n",
       "       'D19_VERSAND_OFFLINE_DATUM', 'D19_VERSAND_ONLINE_DATUM',\n",
       "       'D19_VERSAND_ONLINE_QUOTE_12', 'D19_VERSAND_REST_RZ',\n",
       "       'D19_VERSICHERUNGEN_RZ', 'D19_VERSI_ANZ_12', 'D19_VERSI_ANZ_24',\n",
       "       'D19_VOLLSORTIMENT_RZ', 'D19_WEIN_FEINKOST_RZ', 'EWDICHTE',\n",
       "       'FINANZTYP', 'FINANZ_ANLEGER', 'FINANZ_HAUSBAUER',\n",
       "       'FINANZ_MINIMALIST', 'FINANZ_SPARER', 'FINANZ_UNAUFFAELLIGER',\n",
       "       'FINANZ_VORSORGER', 'GEBAEUDETYP', 'GEBAEUDETYP_RASTER',\n",
       "       'GEOSCORE_KLS7', 'GFK_URLAUBERTYP', 'HAUSHALTSSTRUKTUR',\n",
       "       'HEALTH_TYP', 'HH_EINKOMMEN_SCORE', 'INNENSTADT', 'KBA05_ALTER1',\n",
       "       'KBA05_ALTER2', 'KBA05_ALTER3', 'KBA05_ALTER4', 'KBA05_ANHANG',\n",
       "       'KBA05_ANTG1', 'KBA05_ANTG2', 'KBA05_ANTG3', 'KBA05_ANTG4',\n",
       "       'KBA05_AUTOQUOT', 'KBA05_BAUMAX', 'KBA05_CCM1', 'KBA05_CCM2',\n",
       "       'KBA05_CCM3', 'KBA05_CCM4', 'KBA05_DIESEL', 'KBA05_FRAU',\n",
       "       'KBA05_GBZ', 'KBA05_HERST1', 'KBA05_HERST2', 'KBA05_HERST3',\n",
       "       'KBA05_HERST4', 'KBA05_HERST5', 'KBA05_HERSTTEMP',\n",
       "       'KBA05_KRSAQUOT', 'KBA05_KRSHERST1', 'KBA05_KRSHERST2',\n",
       "       'KBA05_KRSHERST3', 'KBA05_KRSKLEIN', 'KBA05_KRSOBER',\n",
       "       'KBA05_KRSVAN', 'KBA05_KRSZUL', 'KBA05_KW1', 'KBA05_KW2',\n",
       "       'KBA05_KW3', 'KBA05_MAXAH', 'KBA05_MAXBJ', 'KBA05_MAXHERST',\n",
       "       'KBA05_MAXSEG', 'KBA05_MAXVORB', 'KBA05_MOD1', 'KBA05_MOD2',\n",
       "       'KBA05_MOD3', 'KBA05_MOD4', 'KBA05_MOD8', 'KBA05_MODTEMP',\n",
       "       'KBA05_MOTOR', 'KBA05_MOTRAD', 'KBA05_SEG1', 'KBA05_SEG10',\n",
       "       'KBA05_SEG2', 'KBA05_SEG3', 'KBA05_SEG4', 'KBA05_SEG5',\n",
       "       'KBA05_SEG6', 'KBA05_SEG7', 'KBA05_SEG8', 'KBA05_SEG9',\n",
       "       'KBA05_VORB0', 'KBA05_VORB1', 'KBA05_VORB2', 'KBA05_ZUL1',\n",
       "       'KBA05_ZUL2', 'KBA05_ZUL3', 'KBA05_ZUL4', 'KBA13_ALTERHALTER_30',\n",
       "       'KBA13_ALTERHALTER_45', 'KBA13_ALTERHALTER_60',\n",
       "       'KBA13_ALTERHALTER_61', 'KBA13_AUDI', 'KBA13_AUTOQUOTE',\n",
       "       'KBA13_BJ_1999', 'KBA13_BJ_2000', 'KBA13_BJ_2004', 'KBA13_BJ_2006',\n",
       "       'KBA13_BJ_2008', 'KBA13_BJ_2009', 'KBA13_BMW', 'KBA13_CCM_0_1400',\n",
       "       'KBA13_CCM_1000', 'KBA13_CCM_1200', 'KBA13_CCM_1400',\n",
       "       'KBA13_CCM_1400_2500', 'KBA13_CCM_1500', 'KBA13_CCM_1600',\n",
       "       'KBA13_CCM_1800', 'KBA13_CCM_2000', 'KBA13_CCM_2500',\n",
       "       'KBA13_CCM_2501', 'KBA13_CCM_3000', 'KBA13_CCM_3001',\n",
       "       'KBA13_FAB_ASIEN', 'KBA13_FAB_SONSTIGE', 'KBA13_FIAT',\n",
       "       'KBA13_FORD', 'KBA13_HALTER_20', 'KBA13_HALTER_25',\n",
       "       'KBA13_HALTER_30', 'KBA13_HALTER_35', 'KBA13_HALTER_40',\n",
       "       'KBA13_HALTER_45', 'KBA13_HALTER_50', 'KBA13_HALTER_55',\n",
       "       'KBA13_HALTER_60', 'KBA13_HALTER_65', 'KBA13_HALTER_66',\n",
       "       'KBA13_HERST_ASIEN', 'KBA13_HERST_AUDI_VW', 'KBA13_HERST_BMW_BENZ',\n",
       "       'KBA13_HERST_EUROPA', 'KBA13_HERST_FORD_OPEL', 'KBA13_HERST_SONST',\n",
       "       'KBA13_KMH_0_140', 'KBA13_KMH_110', 'KBA13_KMH_140',\n",
       "       'KBA13_KMH_140_210', 'KBA13_KMH_180', 'KBA13_KMH_211',\n",
       "       'KBA13_KMH_250', 'KBA13_KMH_251', 'KBA13_KRSAQUOT',\n",
       "       'KBA13_KRSHERST_AUDI_VW', 'KBA13_KRSHERST_BMW_BENZ',\n",
       "       'KBA13_KRSHERST_FORD_OPEL', 'KBA13_KRSSEG_KLEIN',\n",
       "       'KBA13_KRSSEG_OBER', 'KBA13_KRSSEG_VAN', 'KBA13_KRSZUL_NEU',\n",
       "       'KBA13_KW_0_60', 'KBA13_KW_110', 'KBA13_KW_120', 'KBA13_KW_121',\n",
       "       'KBA13_KW_30', 'KBA13_KW_40', 'KBA13_KW_50', 'KBA13_KW_60',\n",
       "       'KBA13_KW_61_120', 'KBA13_KW_70', 'KBA13_KW_80', 'KBA13_KW_90',\n",
       "       'KBA13_MAZDA', 'KBA13_MERCEDES', 'KBA13_MOTOR', 'KBA13_NISSAN',\n",
       "       'KBA13_OPEL', 'KBA13_PEUGEOT', 'KBA13_RENAULT',\n",
       "       'KBA13_SEG_GELAENDEWAGEN', 'KBA13_SEG_GROSSRAUMVANS',\n",
       "       'KBA13_SEG_KLEINST', 'KBA13_SEG_KLEINWAGEN',\n",
       "       'KBA13_SEG_KOMPAKTKLASSE', 'KBA13_SEG_MINIVANS',\n",
       "       'KBA13_SEG_MINIWAGEN', 'KBA13_SEG_MITTELKLASSE',\n",
       "       'KBA13_SEG_OBEREMITTELKLASSE', 'KBA13_SEG_OBERKLASSE',\n",
       "       'KBA13_SEG_SONSTIGE', 'KBA13_SEG_SPORTWAGEN',\n",
       "       'KBA13_SEG_UTILITIES', 'KBA13_SEG_VAN', 'KBA13_SEG_WOHNMOBILE',\n",
       "       'KBA13_SITZE_4', 'KBA13_SITZE_5', 'KBA13_SITZE_6', 'KBA13_TOYOTA',\n",
       "       'KBA13_VORB_0', 'KBA13_VORB_1', 'KBA13_VORB_1_2', 'KBA13_VORB_2',\n",
       "       'KBA13_VORB_3', 'KBA13_VW', 'KKK', 'KONSUMNAEHE',\n",
       "       'LP_FAMILIE_FEIN', 'LP_FAMILIE_GROB', 'LP_LEBENSPHASE_FEIN',\n",
       "       'LP_LEBENSPHASE_GROB', 'LP_STATUS_FEIN', 'LP_STATUS_GROB',\n",
       "       'MOBI_REGIO', 'NATIONALITAET_KZ', 'ONLINE_AFFINITAET',\n",
       "       'ORTSGR_KLS9', 'PLZ8_ANTG1', 'PLZ8_ANTG2', 'PLZ8_ANTG3',\n",
       "       'PLZ8_ANTG4', 'PLZ8_BAUMAX', 'PLZ8_GBZ', 'PLZ8_HHZ',\n",
       "       'PRAEGENDE_JUGENDJAHRE', 'REGIOTYP', 'RELAT_AB', 'RETOURTYP_BK_S',\n",
       "       'SEMIO_DOM', 'SEMIO_ERL', 'SEMIO_FAM', 'SEMIO_KAEM', 'SEMIO_KRIT',\n",
       "       'SEMIO_KULT', 'SEMIO_LUST', 'SEMIO_MAT', 'SEMIO_PFLICHT',\n",
       "       'SEMIO_RAT', 'SEMIO_REL', 'SEMIO_SOZ', 'SEMIO_TRADV', 'SEMIO_VERT',\n",
       "       'SHOPPER_TYP', 'SOHO_FLAG', 'TITEL_KZ', 'VERS_TYP',\n",
       "       'WACHSTUMSGEBIET_NB', 'WOHNDAUER_2008', 'WOHNLAGE',\n",
       "       'W_KEIT_KIND_HH', 'ZABEOTYP'], dtype=object)"
      ]
     },
     "execution_count": 41,
     "metadata": {},
     "output_type": "execute_result"
    }
   ],
   "source": [
    "_ = np.setdiff1d(values_df.Attribute, bin_cat_annot_attribute)\n",
    "_ = np.setdiff1d(_, str_cat_annot_attribute)\n",
    "_ = np.setdiff1d(_, num_annot_attribute)\n",
    "num_cat_annot_attribute = values_df.loc[np.where(values_df.Attribute.isin(_))[0]].groupby(['Attribute'])['Value'].unique().index.values\n",
    "num_cat_annot_attribute"
   ]
  },
  {
   "cell_type": "code",
   "execution_count": 42,
   "metadata": {},
   "outputs": [
    {
     "data": {
      "text/plain": [
       "array([-1, 0, 1, 2, 3, '-1, 0', 4, 9, 5, 6, 7, 8, 10, 11, 12, 13, 14, 15,\n",
       "       16, 17, 18, 19, 20, 21, 22, 23, 24, 25, 31, 32, 33, 34, 35, 41, 42,\n",
       "       43, 44, 45, 51, 52, 53, 54, 55, '-1, 9', 26, 27, 28, 29, 30, 36,\n",
       "       37, 38, 39, 40, '-1'], dtype=object)"
      ]
     },
     "execution_count": 42,
     "metadata": {},
     "output_type": "execute_result"
    }
   ],
   "source": [
    "values_df[values_df.Attribute.isin(num_cat_annot_attribute)]['Value'].unique()"
   ]
  },
  {
   "cell_type": "code",
   "execution_count": 43,
   "metadata": {},
   "outputs": [],
   "source": [
    "assert values_df.Attribute.unique().size == num_annot_attribute.size + bin_cat_annot_attribute.size + str_cat_annot_attribute.size + num_cat_annot_attribute.size"
   ]
  },
  {
   "cell_type": "code",
   "execution_count": 44,
   "metadata": {},
   "outputs": [
    {
     "data": {
      "text/html": [
       "<div>\n",
       "<style scoped>\n",
       "    .dataframe tbody tr th:only-of-type {\n",
       "        vertical-align: middle;\n",
       "    }\n",
       "\n",
       "    .dataframe tbody tr th {\n",
       "        vertical-align: top;\n",
       "    }\n",
       "\n",
       "    .dataframe thead th {\n",
       "        text-align: right;\n",
       "    }\n",
       "</style>\n",
       "<table border=\"1\" class=\"dataframe\">\n",
       "  <thead>\n",
       "    <tr style=\"text-align: right;\">\n",
       "      <th></th>\n",
       "      <th>Information level</th>\n",
       "      <th>Attribute</th>\n",
       "      <th>Description</th>\n",
       "      <th>Additional notes</th>\n",
       "    </tr>\n",
       "  </thead>\n",
       "  <tbody>\n",
       "    <tr>\n",
       "      <th>67</th>\n",
       "      <td>Household</td>\n",
       "      <td>D19_VERSI_OFFLINE_DATUM</td>\n",
       "      <td>actuality of the last transaction for the segm...</td>\n",
       "      <td>NaN</td>\n",
       "    </tr>\n",
       "    <tr>\n",
       "      <th>68</th>\n",
       "      <td>Household</td>\n",
       "      <td>D19_VERSI_ONLINE_DATUM</td>\n",
       "      <td>actuality of the last transaction for the segm...</td>\n",
       "      <td>NaN</td>\n",
       "    </tr>\n",
       "    <tr>\n",
       "      <th>69</th>\n",
       "      <td>Household</td>\n",
       "      <td>D19_VERSI_DATUM</td>\n",
       "      <td>actuality of the last transaction for the segm...</td>\n",
       "      <td>NaN</td>\n",
       "    </tr>\n",
       "    <tr>\n",
       "      <th>188</th>\n",
       "      <td>Postcode</td>\n",
       "      <td>PLZ</td>\n",
       "      <td>postcode</td>\n",
       "      <td>NaN</td>\n",
       "    </tr>\n",
       "    <tr>\n",
       "      <th>300</th>\n",
       "      <td>PLZ8</td>\n",
       "      <td>PLZ8</td>\n",
       "      <td>sub-postcode (about 8 PLZ8 make up one PLZ) an...</td>\n",
       "      <td>NaN</td>\n",
       "    </tr>\n",
       "    <tr>\n",
       "      <th>308</th>\n",
       "      <td>Community</td>\n",
       "      <td>ARBEIT</td>\n",
       "      <td>share of unemployed person in the community</td>\n",
       "      <td>NaN</td>\n",
       "    </tr>\n",
       "    <tr>\n",
       "      <th>309</th>\n",
       "      <td>Community</td>\n",
       "      <td>EINWOHNER</td>\n",
       "      <td>inhabitants</td>\n",
       "      <td>NaN</td>\n",
       "    </tr>\n",
       "    <tr>\n",
       "      <th>310</th>\n",
       "      <td>Community</td>\n",
       "      <td>GKZ</td>\n",
       "      <td>standardized community-code</td>\n",
       "      <td>NaN</td>\n",
       "    </tr>\n",
       "  </tbody>\n",
       "</table>\n",
       "</div>"
      ],
      "text/plain": [
       "    Information level                Attribute  \\\n",
       "67          Household  D19_VERSI_OFFLINE_DATUM   \n",
       "68          Household   D19_VERSI_ONLINE_DATUM   \n",
       "69          Household          D19_VERSI_DATUM   \n",
       "188         Postcode                       PLZ   \n",
       "300              PLZ8                     PLZ8   \n",
       "308         Community                   ARBEIT   \n",
       "309         Community                EINWOHNER   \n",
       "310         Community                      GKZ   \n",
       "\n",
       "                                           Description Additional notes  \n",
       "67   actuality of the last transaction for the segm...              NaN  \n",
       "68   actuality of the last transaction for the segm...              NaN  \n",
       "69   actuality of the last transaction for the segm...              NaN  \n",
       "188                                           postcode              NaN  \n",
       "300  sub-postcode (about 8 PLZ8 make up one PLZ) an...              NaN  \n",
       "308        share of unemployed person in the community              NaN  \n",
       "309                                        inhabitants              NaN  \n",
       "310                        standardized community-code              NaN  "
      ]
     },
     "execution_count": 44,
     "metadata": {},
     "output_type": "execute_result"
    }
   ],
   "source": [
    "attributes_df[attributes_df.Attribute.isin(attr_only_attributes_not_values)]"
   ]
  },
  {
   "cell_type": "code",
   "execution_count": 45,
   "metadata": {},
   "outputs": [
    {
     "data": {
      "text/plain": [
       "(307,)"
      ]
     },
     "execution_count": 45,
     "metadata": {},
     "output_type": "execute_result"
    }
   ],
   "source": [
    "num_cat_annot_attribute = np.union1d(num_cat_annot_attribute, ['D19_VERSI_OFFLINE_DATUM', 'D19_VERSI_ONLINE_DATUM', 'D19_VERSI_DATUM'])\n",
    "num_cat_annot_attribute.shape"
   ]
  },
  {
   "cell_type": "code",
   "execution_count": 46,
   "metadata": {},
   "outputs": [
    {
     "data": {
      "text/plain": [
       "(8,)"
      ]
     },
     "execution_count": 46,
     "metadata": {},
     "output_type": "execute_result"
    }
   ],
   "source": [
    "num_annot_attribute = np.union1d(num_annot_attribute, ['ARBEIT'])\n",
    "num_annot_attribute.shape"
   ]
  },
  {
   "cell_type": "code",
   "execution_count": 47,
   "metadata": {},
   "outputs": [
    {
     "data": {
      "text/plain": [
       "(4,)"
      ]
     },
     "execution_count": 47,
     "metadata": {},
     "output_type": "execute_result"
    }
   ],
   "source": [
    "unused_annot_attribute = np.array(['PLZ', 'PLZ8', 'EINWOHNER', 'GKZ'])\n",
    "unused_annot_attribute.shape"
   ]
  },
  {
   "cell_type": "code",
   "execution_count": 48,
   "metadata": {},
   "outputs": [],
   "source": [
    "assert annot_attribute.size == num_annot_attribute.size + bin_cat_annot_attribute.size + str_cat_annot_attribute.size + num_cat_annot_attribute.size + unused_annot_attribute.size"
   ]
  },
  {
   "cell_type": "markdown",
   "metadata": {},
   "source": [
    "create `customers_bin_cat_not_annot_attribute` to hold binary category features not in `attributes_df` and `values_df`."
   ]
  },
  {
   "cell_type": "code",
   "execution_count": 49,
   "metadata": {},
   "outputs": [
    {
     "data": {
      "text/plain": [
       "array('ONLINE_PURCHASE', dtype='<U15')"
      ]
     },
     "execution_count": 49,
     "metadata": {},
     "output_type": "execute_result"
    }
   ],
   "source": [
    "customers_bin_cat_not_annot_attribute = np.array('ONLINE_PURCHASE')\n",
    "customers_bin_cat_not_annot_attribute"
   ]
  },
  {
   "cell_type": "markdown",
   "metadata": {},
   "source": [
    "create `customers_str_cat_not_annot_attribute` to hold string category features  not in `attributes_df` and `values_df`."
   ]
  },
  {
   "cell_type": "code",
   "execution_count": 50,
   "metadata": {},
   "outputs": [
    {
     "data": {
      "text/plain": [
       "array(['CUSTOMER_GROUP', 'PRODUCT_GROUP'], dtype='<U14')"
      ]
     },
     "execution_count": 50,
     "metadata": {},
     "output_type": "execute_result"
    }
   ],
   "source": [
    "customers_str_cat_not_annot_attribute = np.array(['CUSTOMER_GROUP', 'PRODUCT_GROUP'])\n",
    "customers_str_cat_not_annot_attribute"
   ]
  },
  {
   "cell_type": "code",
   "execution_count": 51,
   "metadata": {},
   "outputs": [],
   "source": [
    "assert only_attr_customers.size == customers_bin_cat_not_annot_attribute.size + customers_str_cat_not_annot_attribute.size"
   ]
  },
  {
   "cell_type": "markdown",
   "metadata": {},
   "source": [
    "### Data Exploration - customers vs. values\n",
    "\n",
    "#### COLUMN Veiewpoint"
   ]
  },
  {
   "cell_type": "markdown",
   "metadata": {},
   "source": [
    "create `annot_attr_customers_values` to hold common features of `customer_df` and `annot_attribute`"
   ]
  },
  {
   "cell_type": "code",
   "execution_count": 52,
   "metadata": {},
   "outputs": [
    {
     "data": {
      "text/plain": [
       "(276,)"
      ]
     },
     "execution_count": 52,
     "metadata": {},
     "output_type": "execute_result"
    }
   ],
   "source": [
    "annot_attr_customers_values = np.intersect1d(customers_df.columns.values, annot_attribute)\n",
    "annot_attr_customers_values.shape"
   ]
  },
  {
   "cell_type": "code",
   "execution_count": 53,
   "metadata": {},
   "outputs": [
    {
     "data": {
      "text/plain": [
       "(93,)"
      ]
     },
     "execution_count": 53,
     "metadata": {},
     "output_type": "execute_result"
    }
   ],
   "source": [
    "not_annot_attr_customers_values = np.setdiff1d(customers_df.columns.values, annot_attr_customers_values)\n",
    "not_annot_attr_customers_values.shape"
   ]
  },
  {
   "cell_type": "code",
   "execution_count": 54,
   "metadata": {},
   "outputs": [],
   "source": [
    "assert customers_df.columns.values.size == annot_attr_customers_values.size + not_annot_attr_customers_values.size"
   ]
  },
  {
   "cell_type": "code",
   "execution_count": 55,
   "metadata": {},
   "outputs": [
    {
     "name": "stdout",
     "output_type": "stream",
     "text": [
      "<class 'pandas.core.frame.DataFrame'>\n",
      "RangeIndex: 191652 entries, 0 to 191651\n",
      "Columns: 276 entries, AGER_TYP to ZABEOTYP\n",
      "dtypes: float64(216), int64(57), object(3)\n",
      "memory usage: 403.6+ MB\n"
     ]
    }
   ],
   "source": [
    "customers_df[annot_attr_customers_values].info()"
   ]
  },
  {
   "cell_type": "markdown",
   "metadata": {},
   "source": [
    "#### Check `bin_cat_annot_attribute`\n",
    "\n",
    "create `customers_bin_cat_annot_attribute` to hold `bin_cat_annot_attribute` in `customers_df`"
   ]
  },
  {
   "cell_type": "code",
   "execution_count": 56,
   "metadata": {},
   "outputs": [
    {
     "data": {
      "text/plain": [
       "array(['GREEN_AVANTGARDE'], dtype=object)"
      ]
     },
     "execution_count": 56,
     "metadata": {},
     "output_type": "execute_result"
    }
   ],
   "source": [
    "customers_bin_cat_annot_attribute = np.intersect1d(annot_attr_customers_values, bin_cat_annot_attribute)\n",
    "customers_bin_cat_annot_attribute"
   ]
  },
  {
   "cell_type": "code",
   "execution_count": 57,
   "metadata": {},
   "outputs": [],
   "source": [
    "for col in customers_bin_cat_annot_attribute:\n",
    "    v1 = customers_df[col].unique()\n",
    "    v2 = values_df[values_df.Attribute == col]['Value'].values\n",
    "    v = np.setdiff1d(v1, v2)\n",
    "    if v.size > 0:\n",
    "        print('{} feature has un-documented value: {}'.format(col, v))"
   ]
  },
  {
   "cell_type": "markdown",
   "metadata": {},
   "source": [
    "#### Check `str_cat_annot_attribute`\n",
    "\n",
    "create `customers_str_cat_annot_attribute` to hold `str_cat_annot_attribute` in `customers_df`"
   ]
  },
  {
   "cell_type": "code",
   "execution_count": 58,
   "metadata": {},
   "outputs": [
    {
     "data": {
      "text/plain": [
       "array(['CAMEO_DEU_2015', 'OST_WEST_KZ'], dtype=object)"
      ]
     },
     "execution_count": 58,
     "metadata": {},
     "output_type": "execute_result"
    }
   ],
   "source": [
    "customers_str_cat_annot_attribute = np.intersect1d(annot_attr_customers_values, str_cat_annot_attribute)\n",
    "customers_str_cat_annot_attribute"
   ]
  },
  {
   "cell_type": "code",
   "execution_count": 59,
   "metadata": {},
   "outputs": [
    {
     "name": "stdout",
     "output_type": "stream",
     "text": [
      "CAMEO_DEU_2015 feature has un-documented value: ['XX']\n"
     ]
    }
   ],
   "source": [
    "for col in customers_str_cat_annot_attribute:\n",
    "    v1 = customers_df[col].unique()[~pd.isnull(customers_df[col].unique())]\n",
    "    v2 = values_df[values_df.Attribute == col]['Value'].values.astype(str)\n",
    "    v = np.setdiff1d(v1, v2)\n",
    "    if v.size > 0:\n",
    "        print('{} feature has un-documented value: {}'.format(col, v))"
   ]
  },
  {
   "cell_type": "markdown",
   "metadata": {},
   "source": [
    "#### Check `num_cat_annot_attribute`\n",
    "\n",
    "create `customers_num_cat_annot_attribute` to hold `num_cat_annot_attribute` in `customers_df`"
   ]
  },
  {
   "cell_type": "code",
   "execution_count": 60,
   "metadata": {},
   "outputs": [
    {
     "data": {
      "text/plain": [
       "265"
      ]
     },
     "execution_count": 60,
     "metadata": {},
     "output_type": "execute_result"
    }
   ],
   "source": [
    "customers_num_cat_annot_attribute = np.intersect1d(annot_attr_customers_values, num_cat_annot_attribute)\n",
    "customers_num_cat_annot_attribute.size"
   ]
  },
  {
   "cell_type": "code",
   "execution_count": 61,
   "metadata": {},
   "outputs": [
    {
     "name": "stdout",
     "output_type": "stream",
     "text": [
      "CAMEO_DEUG_2015 feature has unknown value: ['1' '2' '3' '4' '5' '6' '7' '8' '9' 'X']\n",
      "KBA05_MODTEMP feature has un-documented value: [6.]\n",
      "LP_FAMILIE_FEIN feature has un-documented value: [0.]\n",
      "LP_FAMILIE_GROB feature has un-documented value: [0.]\n",
      "LP_LEBENSPHASE_FEIN feature has un-documented value: [0.]\n",
      "LP_LEBENSPHASE_GROB feature has un-documented value: [0.]\n"
     ]
    }
   ],
   "source": [
    "for col in customers_num_cat_annot_attribute:\n",
    "    \n",
    "    unknown_v = []\n",
    "    v1 = customers_df[col].dropna().apply(lambda x: unknown_v.append(x) if isinstance(x, str) else x).dropna().unique()\n",
    "    \n",
    "    # assue value of 'D19_VERSI_OFFLINE_DATUM', 'D19_VERSI_ONLINE_DATUM', 'D19_VERSI_DATUM' are as same as 'D19_BANKEN_DATUM'\n",
    "    if col in ['D19_VERSI_OFFLINE_DATUM', 'D19_VERSI_ONLINE_DATUM', 'D19_VERSI_DATUM']:\n",
    "        col = 'D19_BANKEN_DATUM'\n",
    "        \n",
    "    v2 = np.hstack(values_df[values_df.Attribute == col]['Value'].apply(lambda x: list(map(int, x.split(','))) if isinstance(x, str) else x).values)\n",
    "    \n",
    "    v = np.setdiff1d(v1, v2)\n",
    "    unknown_v = np.unique(np.array(unknown_v))\n",
    "    \n",
    "    if len(unknown_v) > 0:\n",
    "        print('{} feature has unknown value: {}'.format(col, unknown_v))\n",
    "    if v.size > 0:\n",
    "        print('{} feature has un-documented value: {}'.format(col, v))"
   ]
  },
  {
   "cell_type": "code",
   "execution_count": 62,
   "metadata": {},
   "outputs": [
    {
     "data": {
      "text/html": [
       "<div>\n",
       "<style scoped>\n",
       "    .dataframe tbody tr th:only-of-type {\n",
       "        vertical-align: middle;\n",
       "    }\n",
       "\n",
       "    .dataframe tbody tr th {\n",
       "        vertical-align: top;\n",
       "    }\n",
       "\n",
       "    .dataframe thead th {\n",
       "        text-align: right;\n",
       "    }\n",
       "</style>\n",
       "<table border=\"1\" class=\"dataframe\">\n",
       "  <thead>\n",
       "    <tr style=\"text-align: right;\">\n",
       "      <th></th>\n",
       "      <th>Attribute</th>\n",
       "      <th>Description</th>\n",
       "      <th>Value</th>\n",
       "      <th>Meaning</th>\n",
       "    </tr>\n",
       "  </thead>\n",
       "  <tbody>\n",
       "    <tr>\n",
       "      <th>1025</th>\n",
       "      <td>KBA05_MODTEMP</td>\n",
       "      <td>development of the most common car segment in ...</td>\n",
       "      <td>-1, 9</td>\n",
       "      <td>unknown</td>\n",
       "    </tr>\n",
       "    <tr>\n",
       "      <th>1026</th>\n",
       "      <td>KBA05_MODTEMP</td>\n",
       "      <td>development of the most common car segment in ...</td>\n",
       "      <td>1</td>\n",
       "      <td>promoted</td>\n",
       "    </tr>\n",
       "    <tr>\n",
       "      <th>1027</th>\n",
       "      <td>KBA05_MODTEMP</td>\n",
       "      <td>development of the most common car segment in ...</td>\n",
       "      <td>2</td>\n",
       "      <td>stayed upper level</td>\n",
       "    </tr>\n",
       "    <tr>\n",
       "      <th>1028</th>\n",
       "      <td>KBA05_MODTEMP</td>\n",
       "      <td>development of the most common car segment in ...</td>\n",
       "      <td>3</td>\n",
       "      <td>stayed lower/average level</td>\n",
       "    </tr>\n",
       "    <tr>\n",
       "      <th>1029</th>\n",
       "      <td>KBA05_MODTEMP</td>\n",
       "      <td>development of the most common car segment in ...</td>\n",
       "      <td>4</td>\n",
       "      <td>demoted</td>\n",
       "    </tr>\n",
       "    <tr>\n",
       "      <th>1030</th>\n",
       "      <td>KBA05_MODTEMP</td>\n",
       "      <td>development of the most common car segment in ...</td>\n",
       "      <td>5</td>\n",
       "      <td>new building</td>\n",
       "    </tr>\n",
       "  </tbody>\n",
       "</table>\n",
       "</div>"
      ],
      "text/plain": [
       "          Attribute                                        Description  Value  \\\n",
       "1025  KBA05_MODTEMP  development of the most common car segment in ...  -1, 9   \n",
       "1026  KBA05_MODTEMP  development of the most common car segment in ...      1   \n",
       "1027  KBA05_MODTEMP  development of the most common car segment in ...      2   \n",
       "1028  KBA05_MODTEMP  development of the most common car segment in ...      3   \n",
       "1029  KBA05_MODTEMP  development of the most common car segment in ...      4   \n",
       "1030  KBA05_MODTEMP  development of the most common car segment in ...      5   \n",
       "\n",
       "                         Meaning  \n",
       "1025                     unknown  \n",
       "1026                    promoted  \n",
       "1027          stayed upper level  \n",
       "1028  stayed lower/average level  \n",
       "1029                     demoted  \n",
       "1030                new building  "
      ]
     },
     "execution_count": 62,
     "metadata": {},
     "output_type": "execute_result"
    }
   ],
   "source": [
    "values_df[values_df.Attribute == 'KBA05_MODTEMP']"
   ]
  },
  {
   "cell_type": "code",
   "execution_count": 63,
   "metadata": {},
   "outputs": [
    {
     "data": {
      "text/html": [
       "<div>\n",
       "<style scoped>\n",
       "    .dataframe tbody tr th:only-of-type {\n",
       "        vertical-align: middle;\n",
       "    }\n",
       "\n",
       "    .dataframe tbody tr th {\n",
       "        vertical-align: top;\n",
       "    }\n",
       "\n",
       "    .dataframe thead th {\n",
       "        text-align: right;\n",
       "    }\n",
       "</style>\n",
       "<table border=\"1\" class=\"dataframe\">\n",
       "  <thead>\n",
       "    <tr style=\"text-align: right;\">\n",
       "      <th></th>\n",
       "      <th>Attribute</th>\n",
       "      <th>Description</th>\n",
       "      <th>Value</th>\n",
       "      <th>Meaning</th>\n",
       "    </tr>\n",
       "  </thead>\n",
       "  <tbody>\n",
       "    <tr>\n",
       "      <th>1892</th>\n",
       "      <td>LP_FAMILIE_FEIN</td>\n",
       "      <td>familytyp fine</td>\n",
       "      <td>1</td>\n",
       "      <td>single</td>\n",
       "    </tr>\n",
       "    <tr>\n",
       "      <th>1893</th>\n",
       "      <td>LP_FAMILIE_FEIN</td>\n",
       "      <td>familytyp fine</td>\n",
       "      <td>2</td>\n",
       "      <td>couple</td>\n",
       "    </tr>\n",
       "    <tr>\n",
       "      <th>1894</th>\n",
       "      <td>LP_FAMILIE_FEIN</td>\n",
       "      <td>familytyp fine</td>\n",
       "      <td>3</td>\n",
       "      <td>young single parent</td>\n",
       "    </tr>\n",
       "    <tr>\n",
       "      <th>1895</th>\n",
       "      <td>LP_FAMILIE_FEIN</td>\n",
       "      <td>familytyp fine</td>\n",
       "      <td>4</td>\n",
       "      <td>single parent with teenager</td>\n",
       "    </tr>\n",
       "    <tr>\n",
       "      <th>1896</th>\n",
       "      <td>LP_FAMILIE_FEIN</td>\n",
       "      <td>familytyp fine</td>\n",
       "      <td>5</td>\n",
       "      <td>single parent with child of full age</td>\n",
       "    </tr>\n",
       "    <tr>\n",
       "      <th>1897</th>\n",
       "      <td>LP_FAMILIE_FEIN</td>\n",
       "      <td>familytyp fine</td>\n",
       "      <td>6</td>\n",
       "      <td>young family</td>\n",
       "    </tr>\n",
       "    <tr>\n",
       "      <th>1898</th>\n",
       "      <td>LP_FAMILIE_FEIN</td>\n",
       "      <td>familytyp fine</td>\n",
       "      <td>7</td>\n",
       "      <td>family with teenager</td>\n",
       "    </tr>\n",
       "    <tr>\n",
       "      <th>1899</th>\n",
       "      <td>LP_FAMILIE_FEIN</td>\n",
       "      <td>familytyp fine</td>\n",
       "      <td>8</td>\n",
       "      <td>family with child of full age</td>\n",
       "    </tr>\n",
       "    <tr>\n",
       "      <th>1900</th>\n",
       "      <td>LP_FAMILIE_FEIN</td>\n",
       "      <td>familytyp fine</td>\n",
       "      <td>9</td>\n",
       "      <td>shared flat</td>\n",
       "    </tr>\n",
       "    <tr>\n",
       "      <th>1901</th>\n",
       "      <td>LP_FAMILIE_FEIN</td>\n",
       "      <td>familytyp fine</td>\n",
       "      <td>10</td>\n",
       "      <td>two-generational household</td>\n",
       "    </tr>\n",
       "    <tr>\n",
       "      <th>1902</th>\n",
       "      <td>LP_FAMILIE_FEIN</td>\n",
       "      <td>familytyp fine</td>\n",
       "      <td>11</td>\n",
       "      <td>multi-generational household</td>\n",
       "    </tr>\n",
       "  </tbody>\n",
       "</table>\n",
       "</div>"
      ],
      "text/plain": [
       "            Attribute     Description Value  \\\n",
       "1892  LP_FAMILIE_FEIN  familytyp fine     1   \n",
       "1893  LP_FAMILIE_FEIN  familytyp fine     2   \n",
       "1894  LP_FAMILIE_FEIN  familytyp fine     3   \n",
       "1895  LP_FAMILIE_FEIN  familytyp fine     4   \n",
       "1896  LP_FAMILIE_FEIN  familytyp fine     5   \n",
       "1897  LP_FAMILIE_FEIN  familytyp fine     6   \n",
       "1898  LP_FAMILIE_FEIN  familytyp fine     7   \n",
       "1899  LP_FAMILIE_FEIN  familytyp fine     8   \n",
       "1900  LP_FAMILIE_FEIN  familytyp fine     9   \n",
       "1901  LP_FAMILIE_FEIN  familytyp fine    10   \n",
       "1902  LP_FAMILIE_FEIN  familytyp fine    11   \n",
       "\n",
       "                                   Meaning  \n",
       "1892                               single   \n",
       "1893                                couple  \n",
       "1894                  young single parent   \n",
       "1895           single parent with teenager  \n",
       "1896  single parent with child of full age  \n",
       "1897                         young family   \n",
       "1898                 family with teenager   \n",
       "1899         family with child of full age  \n",
       "1900                           shared flat  \n",
       "1901            two-generational household  \n",
       "1902          multi-generational household  "
      ]
     },
     "execution_count": 63,
     "metadata": {},
     "output_type": "execute_result"
    }
   ],
   "source": [
    "values_df[values_df.Attribute == 'LP_FAMILIE_FEIN']"
   ]
  },
  {
   "cell_type": "code",
   "execution_count": 64,
   "metadata": {},
   "outputs": [
    {
     "data": {
      "text/html": [
       "<div>\n",
       "<style scoped>\n",
       "    .dataframe tbody tr th:only-of-type {\n",
       "        vertical-align: middle;\n",
       "    }\n",
       "\n",
       "    .dataframe tbody tr th {\n",
       "        vertical-align: top;\n",
       "    }\n",
       "\n",
       "    .dataframe thead th {\n",
       "        text-align: right;\n",
       "    }\n",
       "</style>\n",
       "<table border=\"1\" class=\"dataframe\">\n",
       "  <thead>\n",
       "    <tr style=\"text-align: right;\">\n",
       "      <th></th>\n",
       "      <th>Attribute</th>\n",
       "      <th>Description</th>\n",
       "      <th>Value</th>\n",
       "      <th>Meaning</th>\n",
       "    </tr>\n",
       "  </thead>\n",
       "  <tbody>\n",
       "    <tr>\n",
       "      <th>1903</th>\n",
       "      <td>LP_FAMILIE_GROB</td>\n",
       "      <td>familytyp rough</td>\n",
       "      <td>1</td>\n",
       "      <td>single</td>\n",
       "    </tr>\n",
       "    <tr>\n",
       "      <th>1904</th>\n",
       "      <td>LP_FAMILIE_GROB</td>\n",
       "      <td>familytyp rough</td>\n",
       "      <td>2</td>\n",
       "      <td>couple</td>\n",
       "    </tr>\n",
       "    <tr>\n",
       "      <th>1905</th>\n",
       "      <td>LP_FAMILIE_GROB</td>\n",
       "      <td>familytyp rough</td>\n",
       "      <td>3</td>\n",
       "      <td>single parent</td>\n",
       "    </tr>\n",
       "    <tr>\n",
       "      <th>1906</th>\n",
       "      <td>LP_FAMILIE_GROB</td>\n",
       "      <td>familytyp rough</td>\n",
       "      <td>4</td>\n",
       "      <td>NaN</td>\n",
       "    </tr>\n",
       "    <tr>\n",
       "      <th>1907</th>\n",
       "      <td>LP_FAMILIE_GROB</td>\n",
       "      <td>familytyp rough</td>\n",
       "      <td>5</td>\n",
       "      <td>NaN</td>\n",
       "    </tr>\n",
       "    <tr>\n",
       "      <th>1908</th>\n",
       "      <td>LP_FAMILIE_GROB</td>\n",
       "      <td>familytyp rough</td>\n",
       "      <td>6</td>\n",
       "      <td>family</td>\n",
       "    </tr>\n",
       "    <tr>\n",
       "      <th>1909</th>\n",
       "      <td>LP_FAMILIE_GROB</td>\n",
       "      <td>familytyp rough</td>\n",
       "      <td>7</td>\n",
       "      <td>NaN</td>\n",
       "    </tr>\n",
       "    <tr>\n",
       "      <th>1910</th>\n",
       "      <td>LP_FAMILIE_GROB</td>\n",
       "      <td>familytyp rough</td>\n",
       "      <td>8</td>\n",
       "      <td>NaN</td>\n",
       "    </tr>\n",
       "    <tr>\n",
       "      <th>1911</th>\n",
       "      <td>LP_FAMILIE_GROB</td>\n",
       "      <td>familytyp rough</td>\n",
       "      <td>9</td>\n",
       "      <td>multiperson household</td>\n",
       "    </tr>\n",
       "    <tr>\n",
       "      <th>1912</th>\n",
       "      <td>LP_FAMILIE_GROB</td>\n",
       "      <td>familytyp rough</td>\n",
       "      <td>10</td>\n",
       "      <td>NaN</td>\n",
       "    </tr>\n",
       "    <tr>\n",
       "      <th>1913</th>\n",
       "      <td>LP_FAMILIE_GROB</td>\n",
       "      <td>familytyp rough</td>\n",
       "      <td>11</td>\n",
       "      <td>NaN</td>\n",
       "    </tr>\n",
       "  </tbody>\n",
       "</table>\n",
       "</div>"
      ],
      "text/plain": [
       "            Attribute      Description Value                Meaning\n",
       "1903  LP_FAMILIE_GROB  familytyp rough     1                single \n",
       "1904  LP_FAMILIE_GROB  familytyp rough     2                 couple\n",
       "1905  LP_FAMILIE_GROB  familytyp rough     3          single parent\n",
       "1906  LP_FAMILIE_GROB  familytyp rough     4                    NaN\n",
       "1907  LP_FAMILIE_GROB  familytyp rough     5                    NaN\n",
       "1908  LP_FAMILIE_GROB  familytyp rough     6                 family\n",
       "1909  LP_FAMILIE_GROB  familytyp rough     7                    NaN\n",
       "1910  LP_FAMILIE_GROB  familytyp rough     8                    NaN\n",
       "1911  LP_FAMILIE_GROB  familytyp rough     9  multiperson household\n",
       "1912  LP_FAMILIE_GROB  familytyp rough    10                    NaN\n",
       "1913  LP_FAMILIE_GROB  familytyp rough    11                    NaN"
      ]
     },
     "execution_count": 64,
     "metadata": {},
     "output_type": "execute_result"
    }
   ],
   "source": [
    "values_df[values_df.Attribute == 'LP_FAMILIE_GROB']"
   ]
  },
  {
   "cell_type": "code",
   "execution_count": 65,
   "metadata": {},
   "outputs": [
    {
     "data": {
      "text/html": [
       "<div>\n",
       "<style scoped>\n",
       "    .dataframe tbody tr th:only-of-type {\n",
       "        vertical-align: middle;\n",
       "    }\n",
       "\n",
       "    .dataframe tbody tr th {\n",
       "        vertical-align: top;\n",
       "    }\n",
       "\n",
       "    .dataframe thead th {\n",
       "        text-align: right;\n",
       "    }\n",
       "</style>\n",
       "<table border=\"1\" class=\"dataframe\">\n",
       "  <thead>\n",
       "    <tr style=\"text-align: right;\">\n",
       "      <th></th>\n",
       "      <th>Attribute</th>\n",
       "      <th>Description</th>\n",
       "      <th>Value</th>\n",
       "      <th>Meaning</th>\n",
       "    </tr>\n",
       "  </thead>\n",
       "  <tbody>\n",
       "    <tr>\n",
       "      <th>1914</th>\n",
       "      <td>LP_LEBENSPHASE_FEIN</td>\n",
       "      <td>lifestage fine</td>\n",
       "      <td>1</td>\n",
       "      <td>single low-income earners of younger age</td>\n",
       "    </tr>\n",
       "    <tr>\n",
       "      <th>1915</th>\n",
       "      <td>LP_LEBENSPHASE_FEIN</td>\n",
       "      <td>lifestage fine</td>\n",
       "      <td>2</td>\n",
       "      <td>single low-income earners of middle age</td>\n",
       "    </tr>\n",
       "    <tr>\n",
       "      <th>1916</th>\n",
       "      <td>LP_LEBENSPHASE_FEIN</td>\n",
       "      <td>lifestage fine</td>\n",
       "      <td>3</td>\n",
       "      <td>single average earners of younger age</td>\n",
       "    </tr>\n",
       "    <tr>\n",
       "      <th>1917</th>\n",
       "      <td>LP_LEBENSPHASE_FEIN</td>\n",
       "      <td>lifestage fine</td>\n",
       "      <td>4</td>\n",
       "      <td>single average earners of middle age</td>\n",
       "    </tr>\n",
       "    <tr>\n",
       "      <th>1918</th>\n",
       "      <td>LP_LEBENSPHASE_FEIN</td>\n",
       "      <td>lifestage fine</td>\n",
       "      <td>5</td>\n",
       "      <td>single low-income earners of advanced age</td>\n",
       "    </tr>\n",
       "    <tr>\n",
       "      <th>1919</th>\n",
       "      <td>LP_LEBENSPHASE_FEIN</td>\n",
       "      <td>lifestage fine</td>\n",
       "      <td>6</td>\n",
       "      <td>single low-income earners at retirement age</td>\n",
       "    </tr>\n",
       "    <tr>\n",
       "      <th>1920</th>\n",
       "      <td>LP_LEBENSPHASE_FEIN</td>\n",
       "      <td>lifestage fine</td>\n",
       "      <td>7</td>\n",
       "      <td>single average earners of advanced age</td>\n",
       "    </tr>\n",
       "    <tr>\n",
       "      <th>1921</th>\n",
       "      <td>LP_LEBENSPHASE_FEIN</td>\n",
       "      <td>lifestage fine</td>\n",
       "      <td>8</td>\n",
       "      <td>single average earners at retirement age</td>\n",
       "    </tr>\n",
       "    <tr>\n",
       "      <th>1922</th>\n",
       "      <td>LP_LEBENSPHASE_FEIN</td>\n",
       "      <td>lifestage fine</td>\n",
       "      <td>9</td>\n",
       "      <td>single independant persons</td>\n",
       "    </tr>\n",
       "    <tr>\n",
       "      <th>1923</th>\n",
       "      <td>LP_LEBENSPHASE_FEIN</td>\n",
       "      <td>lifestage fine</td>\n",
       "      <td>10</td>\n",
       "      <td>wealthy single homeowners</td>\n",
       "    </tr>\n",
       "    <tr>\n",
       "      <th>1924</th>\n",
       "      <td>LP_LEBENSPHASE_FEIN</td>\n",
       "      <td>lifestage fine</td>\n",
       "      <td>11</td>\n",
       "      <td>single homeowners of advanced age</td>\n",
       "    </tr>\n",
       "    <tr>\n",
       "      <th>1925</th>\n",
       "      <td>LP_LEBENSPHASE_FEIN</td>\n",
       "      <td>lifestage fine</td>\n",
       "      <td>12</td>\n",
       "      <td>single homeowners at retirement age</td>\n",
       "    </tr>\n",
       "    <tr>\n",
       "      <th>1926</th>\n",
       "      <td>LP_LEBENSPHASE_FEIN</td>\n",
       "      <td>lifestage fine</td>\n",
       "      <td>13</td>\n",
       "      <td>single top earners of higher age</td>\n",
       "    </tr>\n",
       "    <tr>\n",
       "      <th>1927</th>\n",
       "      <td>LP_LEBENSPHASE_FEIN</td>\n",
       "      <td>lifestage fine</td>\n",
       "      <td>14</td>\n",
       "      <td>low-income- and average earner-couples of youn...</td>\n",
       "    </tr>\n",
       "    <tr>\n",
       "      <th>1928</th>\n",
       "      <td>LP_LEBENSPHASE_FEIN</td>\n",
       "      <td>lifestage fine</td>\n",
       "      <td>15</td>\n",
       "      <td>low-income earner-couples of higher age</td>\n",
       "    </tr>\n",
       "    <tr>\n",
       "      <th>1929</th>\n",
       "      <td>LP_LEBENSPHASE_FEIN</td>\n",
       "      <td>lifestage fine</td>\n",
       "      <td>16</td>\n",
       "      <td>average earner-couples of higher age</td>\n",
       "    </tr>\n",
       "    <tr>\n",
       "      <th>1930</th>\n",
       "      <td>LP_LEBENSPHASE_FEIN</td>\n",
       "      <td>lifestage fine</td>\n",
       "      <td>17</td>\n",
       "      <td>independant couples</td>\n",
       "    </tr>\n",
       "    <tr>\n",
       "      <th>1931</th>\n",
       "      <td>LP_LEBENSPHASE_FEIN</td>\n",
       "      <td>lifestage fine</td>\n",
       "      <td>18</td>\n",
       "      <td>wealthy homeowner-couples of younger age</td>\n",
       "    </tr>\n",
       "    <tr>\n",
       "      <th>1932</th>\n",
       "      <td>LP_LEBENSPHASE_FEIN</td>\n",
       "      <td>lifestage fine</td>\n",
       "      <td>19</td>\n",
       "      <td>homeowner-couples of higher age</td>\n",
       "    </tr>\n",
       "    <tr>\n",
       "      <th>1933</th>\n",
       "      <td>LP_LEBENSPHASE_FEIN</td>\n",
       "      <td>lifestage fine</td>\n",
       "      <td>20</td>\n",
       "      <td>top earner-couples of higher age</td>\n",
       "    </tr>\n",
       "    <tr>\n",
       "      <th>1934</th>\n",
       "      <td>LP_LEBENSPHASE_FEIN</td>\n",
       "      <td>lifestage fine</td>\n",
       "      <td>21</td>\n",
       "      <td>single parent low-income earners</td>\n",
       "    </tr>\n",
       "    <tr>\n",
       "      <th>1935</th>\n",
       "      <td>LP_LEBENSPHASE_FEIN</td>\n",
       "      <td>lifestage fine</td>\n",
       "      <td>22</td>\n",
       "      <td>single parent average earners</td>\n",
       "    </tr>\n",
       "    <tr>\n",
       "      <th>1936</th>\n",
       "      <td>LP_LEBENSPHASE_FEIN</td>\n",
       "      <td>lifestage fine</td>\n",
       "      <td>23</td>\n",
       "      <td>single parent high-income earners</td>\n",
       "    </tr>\n",
       "    <tr>\n",
       "      <th>1937</th>\n",
       "      <td>LP_LEBENSPHASE_FEIN</td>\n",
       "      <td>lifestage fine</td>\n",
       "      <td>24</td>\n",
       "      <td>low-income earner-families</td>\n",
       "    </tr>\n",
       "    <tr>\n",
       "      <th>1938</th>\n",
       "      <td>LP_LEBENSPHASE_FEIN</td>\n",
       "      <td>lifestage fine</td>\n",
       "      <td>25</td>\n",
       "      <td>average earner-families</td>\n",
       "    </tr>\n",
       "    <tr>\n",
       "      <th>1939</th>\n",
       "      <td>LP_LEBENSPHASE_FEIN</td>\n",
       "      <td>lifestage fine</td>\n",
       "      <td>26</td>\n",
       "      <td>independant families</td>\n",
       "    </tr>\n",
       "    <tr>\n",
       "      <th>1940</th>\n",
       "      <td>LP_LEBENSPHASE_FEIN</td>\n",
       "      <td>lifestage fine</td>\n",
       "      <td>27</td>\n",
       "      <td>homeowner-families</td>\n",
       "    </tr>\n",
       "    <tr>\n",
       "      <th>1941</th>\n",
       "      <td>LP_LEBENSPHASE_FEIN</td>\n",
       "      <td>lifestage fine</td>\n",
       "      <td>28</td>\n",
       "      <td>top earner-families</td>\n",
       "    </tr>\n",
       "    <tr>\n",
       "      <th>1942</th>\n",
       "      <td>LP_LEBENSPHASE_FEIN</td>\n",
       "      <td>lifestage fine</td>\n",
       "      <td>29</td>\n",
       "      <td>low-income earners of younger age from mulitpe...</td>\n",
       "    </tr>\n",
       "    <tr>\n",
       "      <th>1943</th>\n",
       "      <td>LP_LEBENSPHASE_FEIN</td>\n",
       "      <td>lifestage fine</td>\n",
       "      <td>30</td>\n",
       "      <td>average earners of younger age from mulitperso...</td>\n",
       "    </tr>\n",
       "    <tr>\n",
       "      <th>1944</th>\n",
       "      <td>LP_LEBENSPHASE_FEIN</td>\n",
       "      <td>lifestage fine</td>\n",
       "      <td>31</td>\n",
       "      <td>low-income earners of higher age from mulitper...</td>\n",
       "    </tr>\n",
       "    <tr>\n",
       "      <th>1945</th>\n",
       "      <td>LP_LEBENSPHASE_FEIN</td>\n",
       "      <td>lifestage fine</td>\n",
       "      <td>32</td>\n",
       "      <td>average earners of higher age from mulitperson...</td>\n",
       "    </tr>\n",
       "    <tr>\n",
       "      <th>1946</th>\n",
       "      <td>LP_LEBENSPHASE_FEIN</td>\n",
       "      <td>lifestage fine</td>\n",
       "      <td>33</td>\n",
       "      <td>independant persons of younger age from mulitp...</td>\n",
       "    </tr>\n",
       "    <tr>\n",
       "      <th>1947</th>\n",
       "      <td>LP_LEBENSPHASE_FEIN</td>\n",
       "      <td>lifestage fine</td>\n",
       "      <td>34</td>\n",
       "      <td>homeowners of younger age from mulitperson hou...</td>\n",
       "    </tr>\n",
       "    <tr>\n",
       "      <th>1948</th>\n",
       "      <td>LP_LEBENSPHASE_FEIN</td>\n",
       "      <td>lifestage fine</td>\n",
       "      <td>35</td>\n",
       "      <td>top earners of younger age from mulitperson ho...</td>\n",
       "    </tr>\n",
       "    <tr>\n",
       "      <th>1949</th>\n",
       "      <td>LP_LEBENSPHASE_FEIN</td>\n",
       "      <td>lifestage fine</td>\n",
       "      <td>36</td>\n",
       "      <td>independant persons of higher age from mulitpe...</td>\n",
       "    </tr>\n",
       "    <tr>\n",
       "      <th>1950</th>\n",
       "      <td>LP_LEBENSPHASE_FEIN</td>\n",
       "      <td>lifestage fine</td>\n",
       "      <td>37</td>\n",
       "      <td>homeowners of advanced age from mulitperson ho...</td>\n",
       "    </tr>\n",
       "    <tr>\n",
       "      <th>1951</th>\n",
       "      <td>LP_LEBENSPHASE_FEIN</td>\n",
       "      <td>lifestage fine</td>\n",
       "      <td>38</td>\n",
       "      <td>homeowners at retirement age from mulitperson ...</td>\n",
       "    </tr>\n",
       "    <tr>\n",
       "      <th>1952</th>\n",
       "      <td>LP_LEBENSPHASE_FEIN</td>\n",
       "      <td>lifestage fine</td>\n",
       "      <td>39</td>\n",
       "      <td>top earners of middle age from mulitperson hou...</td>\n",
       "    </tr>\n",
       "    <tr>\n",
       "      <th>1953</th>\n",
       "      <td>LP_LEBENSPHASE_FEIN</td>\n",
       "      <td>lifestage fine</td>\n",
       "      <td>40</td>\n",
       "      <td>top earners at retirement age from mulitperson...</td>\n",
       "    </tr>\n",
       "  </tbody>\n",
       "</table>\n",
       "</div>"
      ],
      "text/plain": [
       "                Attribute      Description Value  \\\n",
       "1914  LP_LEBENSPHASE_FEIN  lifestage fine      1   \n",
       "1915  LP_LEBENSPHASE_FEIN  lifestage fine      2   \n",
       "1916  LP_LEBENSPHASE_FEIN  lifestage fine      3   \n",
       "1917  LP_LEBENSPHASE_FEIN  lifestage fine      4   \n",
       "1918  LP_LEBENSPHASE_FEIN  lifestage fine      5   \n",
       "1919  LP_LEBENSPHASE_FEIN  lifestage fine      6   \n",
       "1920  LP_LEBENSPHASE_FEIN  lifestage fine      7   \n",
       "1921  LP_LEBENSPHASE_FEIN  lifestage fine      8   \n",
       "1922  LP_LEBENSPHASE_FEIN  lifestage fine      9   \n",
       "1923  LP_LEBENSPHASE_FEIN  lifestage fine     10   \n",
       "1924  LP_LEBENSPHASE_FEIN  lifestage fine     11   \n",
       "1925  LP_LEBENSPHASE_FEIN  lifestage fine     12   \n",
       "1926  LP_LEBENSPHASE_FEIN  lifestage fine     13   \n",
       "1927  LP_LEBENSPHASE_FEIN  lifestage fine     14   \n",
       "1928  LP_LEBENSPHASE_FEIN  lifestage fine     15   \n",
       "1929  LP_LEBENSPHASE_FEIN  lifestage fine     16   \n",
       "1930  LP_LEBENSPHASE_FEIN  lifestage fine     17   \n",
       "1931  LP_LEBENSPHASE_FEIN  lifestage fine     18   \n",
       "1932  LP_LEBENSPHASE_FEIN  lifestage fine     19   \n",
       "1933  LP_LEBENSPHASE_FEIN  lifestage fine     20   \n",
       "1934  LP_LEBENSPHASE_FEIN  lifestage fine     21   \n",
       "1935  LP_LEBENSPHASE_FEIN  lifestage fine     22   \n",
       "1936  LP_LEBENSPHASE_FEIN  lifestage fine     23   \n",
       "1937  LP_LEBENSPHASE_FEIN  lifestage fine     24   \n",
       "1938  LP_LEBENSPHASE_FEIN  lifestage fine     25   \n",
       "1939  LP_LEBENSPHASE_FEIN  lifestage fine     26   \n",
       "1940  LP_LEBENSPHASE_FEIN  lifestage fine     27   \n",
       "1941  LP_LEBENSPHASE_FEIN  lifestage fine     28   \n",
       "1942  LP_LEBENSPHASE_FEIN  lifestage fine     29   \n",
       "1943  LP_LEBENSPHASE_FEIN  lifestage fine     30   \n",
       "1944  LP_LEBENSPHASE_FEIN  lifestage fine     31   \n",
       "1945  LP_LEBENSPHASE_FEIN  lifestage fine     32   \n",
       "1946  LP_LEBENSPHASE_FEIN  lifestage fine     33   \n",
       "1947  LP_LEBENSPHASE_FEIN  lifestage fine     34   \n",
       "1948  LP_LEBENSPHASE_FEIN  lifestage fine     35   \n",
       "1949  LP_LEBENSPHASE_FEIN  lifestage fine     36   \n",
       "1950  LP_LEBENSPHASE_FEIN  lifestage fine     37   \n",
       "1951  LP_LEBENSPHASE_FEIN  lifestage fine     38   \n",
       "1952  LP_LEBENSPHASE_FEIN  lifestage fine     39   \n",
       "1953  LP_LEBENSPHASE_FEIN  lifestage fine     40   \n",
       "\n",
       "                                                Meaning  \n",
       "1914           single low-income earners of younger age  \n",
       "1915            single low-income earners of middle age  \n",
       "1916             single average earners of younger age   \n",
       "1917               single average earners of middle age  \n",
       "1918          single low-income earners of advanced age  \n",
       "1919       single low-income earners at retirement age   \n",
       "1920             single average earners of advanced age  \n",
       "1921           single average earners at retirement age  \n",
       "1922                         single independant persons  \n",
       "1923                          wealthy single homeowners  \n",
       "1924                  single homeowners of advanced age  \n",
       "1925                single homeowners at retirement age  \n",
       "1926                  single top earners of higher age   \n",
       "1927  low-income- and average earner-couples of youn...  \n",
       "1928            low-income earner-couples of higher age  \n",
       "1929              average earner-couples of higher age   \n",
       "1930                                independant couples  \n",
       "1931          wealthy homeowner-couples of younger age   \n",
       "1932                    homeowner-couples of higher age  \n",
       "1933                   top earner-couples of higher age  \n",
       "1934                   single parent low-income earners  \n",
       "1935                      single parent average earners  \n",
       "1936                  single parent high-income earners  \n",
       "1937                         low-income earner-families  \n",
       "1938                           average earner-families   \n",
       "1939                               independant families  \n",
       "1940                                 homeowner-families  \n",
       "1941                                top earner-families  \n",
       "1942  low-income earners of younger age from mulitpe...  \n",
       "1943  average earners of younger age from mulitperso...  \n",
       "1944  low-income earners of higher age from mulitper...  \n",
       "1945  average earners of higher age from mulitperson...  \n",
       "1946  independant persons of younger age from mulitp...  \n",
       "1947  homeowners of younger age from mulitperson hou...  \n",
       "1948  top earners of younger age from mulitperson ho...  \n",
       "1949  independant persons of higher age from mulitpe...  \n",
       "1950  homeowners of advanced age from mulitperson ho...  \n",
       "1951  homeowners at retirement age from mulitperson ...  \n",
       "1952  top earners of middle age from mulitperson hou...  \n",
       "1953  top earners at retirement age from mulitperson...  "
      ]
     },
     "execution_count": 65,
     "metadata": {},
     "output_type": "execute_result"
    }
   ],
   "source": [
    "values_df[values_df.Attribute == 'LP_LEBENSPHASE_FEIN']"
   ]
  },
  {
   "cell_type": "code",
   "execution_count": 66,
   "metadata": {},
   "outputs": [
    {
     "data": {
      "text/html": [
       "<div>\n",
       "<style scoped>\n",
       "    .dataframe tbody tr th:only-of-type {\n",
       "        vertical-align: middle;\n",
       "    }\n",
       "\n",
       "    .dataframe tbody tr th {\n",
       "        vertical-align: top;\n",
       "    }\n",
       "\n",
       "    .dataframe thead th {\n",
       "        text-align: right;\n",
       "    }\n",
       "</style>\n",
       "<table border=\"1\" class=\"dataframe\">\n",
       "  <thead>\n",
       "    <tr style=\"text-align: right;\">\n",
       "      <th></th>\n",
       "      <th>Attribute</th>\n",
       "      <th>Description</th>\n",
       "      <th>Value</th>\n",
       "      <th>Meaning</th>\n",
       "    </tr>\n",
       "  </thead>\n",
       "  <tbody>\n",
       "    <tr>\n",
       "      <th>1954</th>\n",
       "      <td>LP_LEBENSPHASE_GROB</td>\n",
       "      <td>lifestage rough</td>\n",
       "      <td>1</td>\n",
       "      <td>single low-income- and average earners of youn...</td>\n",
       "    </tr>\n",
       "    <tr>\n",
       "      <th>1955</th>\n",
       "      <td>LP_LEBENSPHASE_GROB</td>\n",
       "      <td>lifestage rough</td>\n",
       "      <td>2</td>\n",
       "      <td>single low-income- and average earners of high...</td>\n",
       "    </tr>\n",
       "    <tr>\n",
       "      <th>1956</th>\n",
       "      <td>LP_LEBENSPHASE_GROB</td>\n",
       "      <td>lifestage rough</td>\n",
       "      <td>3</td>\n",
       "      <td>single high-income earners</td>\n",
       "    </tr>\n",
       "    <tr>\n",
       "      <th>1957</th>\n",
       "      <td>LP_LEBENSPHASE_GROB</td>\n",
       "      <td>lifestage rough</td>\n",
       "      <td>4</td>\n",
       "      <td>single low-income- and average earner-couples</td>\n",
       "    </tr>\n",
       "    <tr>\n",
       "      <th>1958</th>\n",
       "      <td>LP_LEBENSPHASE_GROB</td>\n",
       "      <td>lifestage rough</td>\n",
       "      <td>5</td>\n",
       "      <td>single high-income earner-couples</td>\n",
       "    </tr>\n",
       "    <tr>\n",
       "      <th>1959</th>\n",
       "      <td>LP_LEBENSPHASE_GROB</td>\n",
       "      <td>lifestage rough</td>\n",
       "      <td>6</td>\n",
       "      <td>single parents</td>\n",
       "    </tr>\n",
       "    <tr>\n",
       "      <th>1960</th>\n",
       "      <td>LP_LEBENSPHASE_GROB</td>\n",
       "      <td>lifestage rough</td>\n",
       "      <td>7</td>\n",
       "      <td>single low-income- and average earner-families</td>\n",
       "    </tr>\n",
       "    <tr>\n",
       "      <th>1961</th>\n",
       "      <td>LP_LEBENSPHASE_GROB</td>\n",
       "      <td>lifestage rough</td>\n",
       "      <td>8</td>\n",
       "      <td>high-income earner-families</td>\n",
       "    </tr>\n",
       "    <tr>\n",
       "      <th>1962</th>\n",
       "      <td>LP_LEBENSPHASE_GROB</td>\n",
       "      <td>lifestage rough</td>\n",
       "      <td>9</td>\n",
       "      <td>average earners of younger age from mulitperso...</td>\n",
       "    </tr>\n",
       "    <tr>\n",
       "      <th>1963</th>\n",
       "      <td>LP_LEBENSPHASE_GROB</td>\n",
       "      <td>lifestage rough</td>\n",
       "      <td>10</td>\n",
       "      <td>low-income- and average earners of higher age ...</td>\n",
       "    </tr>\n",
       "    <tr>\n",
       "      <th>1964</th>\n",
       "      <td>LP_LEBENSPHASE_GROB</td>\n",
       "      <td>lifestage rough</td>\n",
       "      <td>11</td>\n",
       "      <td>high-income earners of younger age from multip...</td>\n",
       "    </tr>\n",
       "    <tr>\n",
       "      <th>1965</th>\n",
       "      <td>LP_LEBENSPHASE_GROB</td>\n",
       "      <td>lifestage rough</td>\n",
       "      <td>12</td>\n",
       "      <td>high-income earners of higher age from multipe...</td>\n",
       "    </tr>\n",
       "  </tbody>\n",
       "</table>\n",
       "</div>"
      ],
      "text/plain": [
       "                Attribute      Description Value  \\\n",
       "1954  LP_LEBENSPHASE_GROB  lifestage rough     1   \n",
       "1955  LP_LEBENSPHASE_GROB  lifestage rough     2   \n",
       "1956  LP_LEBENSPHASE_GROB  lifestage rough     3   \n",
       "1957  LP_LEBENSPHASE_GROB  lifestage rough     4   \n",
       "1958  LP_LEBENSPHASE_GROB  lifestage rough     5   \n",
       "1959  LP_LEBENSPHASE_GROB  lifestage rough     6   \n",
       "1960  LP_LEBENSPHASE_GROB  lifestage rough     7   \n",
       "1961  LP_LEBENSPHASE_GROB  lifestage rough     8   \n",
       "1962  LP_LEBENSPHASE_GROB  lifestage rough     9   \n",
       "1963  LP_LEBENSPHASE_GROB  lifestage rough    10   \n",
       "1964  LP_LEBENSPHASE_GROB  lifestage rough    11   \n",
       "1965  LP_LEBENSPHASE_GROB  lifestage rough    12   \n",
       "\n",
       "                                                Meaning  \n",
       "1954  single low-income- and average earners of youn...  \n",
       "1955  single low-income- and average earners of high...  \n",
       "1956                         single high-income earners  \n",
       "1957     single low-income- and average earner-couples   \n",
       "1958                  single high-income earner-couples  \n",
       "1959                                     single parents  \n",
       "1960     single low-income- and average earner-families  \n",
       "1961                        high-income earner-families  \n",
       "1962  average earners of younger age from mulitperso...  \n",
       "1963  low-income- and average earners of higher age ...  \n",
       "1964  high-income earners of younger age from multip...  \n",
       "1965  high-income earners of higher age from multipe...  "
      ]
     },
     "execution_count": 66,
     "metadata": {},
     "output_type": "execute_result"
    }
   ],
   "source": [
    "values_df[values_df.Attribute == 'LP_LEBENSPHASE_GROB']"
   ]
  },
  {
   "cell_type": "markdown",
   "metadata": {},
   "source": [
    "#### Check `num_annot_attribute`\n",
    "\n",
    "create `customers_num_annot_attribute` to hold `num_annot_attribute` in `customers_df`"
   ]
  },
  {
   "cell_type": "code",
   "execution_count": 67,
   "metadata": {},
   "outputs": [
    {
     "data": {
      "text/plain": [
       "array(['ANZ_HAUSHALTE_AKTIV', 'ANZ_HH_TITEL', 'ANZ_PERSONEN', 'ANZ_TITEL',\n",
       "       'ARBEIT', 'GEBURTSJAHR', 'KBA13_ANZAHL_PKW', 'MIN_GEBAEUDEJAHR'],\n",
       "      dtype=object)"
      ]
     },
     "execution_count": 67,
     "metadata": {},
     "output_type": "execute_result"
    }
   ],
   "source": [
    "customers_num_annot_attribute = np.intersect1d(annot_attr_customers_values, num_annot_attribute)\n",
    "customers_num_annot_attribute"
   ]
  },
  {
   "cell_type": "code",
   "execution_count": 68,
   "metadata": {},
   "outputs": [],
   "source": [
    "for col in customers_num_annot_attribute:\n",
    "    if not np.issubdtype(customers_df[col].dtype, np.number):\n",
    "        print('{} is not numberic type'.format(col))"
   ]
  },
  {
   "cell_type": "markdown",
   "metadata": {},
   "source": [
    "#### To fix the error, we will need to ...\n",
    "\n",
    "1. CAMEO_DEU_2015: **change 'XX' to NA**\n",
    "1. CAMEO_DEUG_2015: **change '1', '2', '3', '4', '5', '6', '7', '8', '9' to integer, and 'X' to NA**\n",
    "1. KBA05_MODTEMP: **change 6 to 1 for unknown**\n",
    "1. LP_FAMILIE_FEIN: **chagne 0 to NA**\n",
    "1. LP_FAMILIE_GROB: **chagne 0 to NA**\n",
    "1. LP_LEBENSPHASE_FEIN: **chagne 0 to NA**\n",
    "1. LP_LEBENSPHASE_GROB: **chagne 0 to NA**"
   ]
  },
  {
   "cell_type": "code",
   "execution_count": 69,
   "metadata": {},
   "outputs": [
    {
     "data": {
      "text/plain": [
       "array(['GREEN_AVANTGARDE'], dtype=object)"
      ]
     },
     "execution_count": 69,
     "metadata": {},
     "output_type": "execute_result"
    }
   ],
   "source": [
    "customers_bin_cat_annot_attribute"
   ]
  },
  {
   "cell_type": "code",
   "execution_count": 70,
   "metadata": {},
   "outputs": [
    {
     "data": {
      "text/plain": [
       "array(['CAMEO_DEU_2015', 'OST_WEST_KZ'], dtype=object)"
      ]
     },
     "execution_count": 70,
     "metadata": {},
     "output_type": "execute_result"
    }
   ],
   "source": [
    "customers_str_cat_annot_attribute"
   ]
  },
  {
   "cell_type": "code",
   "execution_count": 71,
   "metadata": {},
   "outputs": [
    {
     "data": {
      "text/plain": [
       "array(['AGER_TYP', 'ALTERSKATEGORIE_GROB', 'ALTER_HH', 'ANREDE_KZ',\n",
       "       'BALLRAUM', 'CAMEO_DEUG_2015', 'CJT_GESAMTTYP',\n",
       "       'D19_BANKEN_ANZ_12', 'D19_BANKEN_ANZ_24', 'D19_BANKEN_DATUM',\n",
       "       'D19_BANKEN_OFFLINE_DATUM', 'D19_BANKEN_ONLINE_DATUM',\n",
       "       'D19_BANKEN_ONLINE_QUOTE_12', 'D19_GESAMT_ANZ_12',\n",
       "       'D19_GESAMT_ANZ_24', 'D19_GESAMT_DATUM',\n",
       "       'D19_GESAMT_OFFLINE_DATUM', 'D19_GESAMT_ONLINE_DATUM',\n",
       "       'D19_GESAMT_ONLINE_QUOTE_12', 'D19_KONSUMTYP', 'D19_TELKO_ANZ_12',\n",
       "       'D19_TELKO_ANZ_24', 'D19_TELKO_DATUM', 'D19_TELKO_OFFLINE_DATUM',\n",
       "       'D19_TELKO_ONLINE_DATUM', 'D19_VERSAND_ANZ_12',\n",
       "       'D19_VERSAND_ANZ_24', 'D19_VERSAND_DATUM',\n",
       "       'D19_VERSAND_OFFLINE_DATUM', 'D19_VERSAND_ONLINE_DATUM',\n",
       "       'D19_VERSAND_ONLINE_QUOTE_12', 'D19_VERSI_ANZ_12',\n",
       "       'D19_VERSI_ANZ_24', 'D19_VERSI_DATUM', 'D19_VERSI_OFFLINE_DATUM',\n",
       "       'D19_VERSI_ONLINE_DATUM', 'EWDICHTE', 'FINANZTYP',\n",
       "       'FINANZ_ANLEGER', 'FINANZ_HAUSBAUER', 'FINANZ_MINIMALIST',\n",
       "       'FINANZ_SPARER', 'FINANZ_UNAUFFAELLIGER', 'FINANZ_VORSORGER',\n",
       "       'GEBAEUDETYP', 'GEBAEUDETYP_RASTER', 'GFK_URLAUBERTYP',\n",
       "       'HEALTH_TYP', 'HH_EINKOMMEN_SCORE', 'INNENSTADT', 'KBA05_ALTER1',\n",
       "       'KBA05_ALTER2', 'KBA05_ALTER3', 'KBA05_ALTER4', 'KBA05_ANHANG',\n",
       "       'KBA05_ANTG1', 'KBA05_ANTG2', 'KBA05_ANTG3', 'KBA05_ANTG4',\n",
       "       'KBA05_AUTOQUOT', 'KBA05_BAUMAX', 'KBA05_CCM1', 'KBA05_CCM2',\n",
       "       'KBA05_CCM3', 'KBA05_CCM4', 'KBA05_DIESEL', 'KBA05_FRAU',\n",
       "       'KBA05_GBZ', 'KBA05_HERST1', 'KBA05_HERST2', 'KBA05_HERST3',\n",
       "       'KBA05_HERST4', 'KBA05_HERST5', 'KBA05_HERSTTEMP',\n",
       "       'KBA05_KRSAQUOT', 'KBA05_KRSHERST1', 'KBA05_KRSHERST2',\n",
       "       'KBA05_KRSHERST3', 'KBA05_KRSKLEIN', 'KBA05_KRSOBER',\n",
       "       'KBA05_KRSVAN', 'KBA05_KRSZUL', 'KBA05_KW1', 'KBA05_KW2',\n",
       "       'KBA05_KW3', 'KBA05_MAXAH', 'KBA05_MAXBJ', 'KBA05_MAXHERST',\n",
       "       'KBA05_MAXSEG', 'KBA05_MAXVORB', 'KBA05_MOD1', 'KBA05_MOD2',\n",
       "       'KBA05_MOD3', 'KBA05_MOD4', 'KBA05_MOD8', 'KBA05_MODTEMP',\n",
       "       'KBA05_MOTOR', 'KBA05_MOTRAD', 'KBA05_SEG1', 'KBA05_SEG10',\n",
       "       'KBA05_SEG2', 'KBA05_SEG3', 'KBA05_SEG4', 'KBA05_SEG5',\n",
       "       'KBA05_SEG6', 'KBA05_SEG7', 'KBA05_SEG8', 'KBA05_SEG9',\n",
       "       'KBA05_VORB0', 'KBA05_VORB1', 'KBA05_VORB2', 'KBA05_ZUL1',\n",
       "       'KBA05_ZUL2', 'KBA05_ZUL3', 'KBA05_ZUL4', 'KBA13_ALTERHALTER_30',\n",
       "       'KBA13_ALTERHALTER_45', 'KBA13_ALTERHALTER_60',\n",
       "       'KBA13_ALTERHALTER_61', 'KBA13_AUDI', 'KBA13_AUTOQUOTE',\n",
       "       'KBA13_BJ_1999', 'KBA13_BJ_2000', 'KBA13_BJ_2004', 'KBA13_BJ_2006',\n",
       "       'KBA13_BJ_2008', 'KBA13_BJ_2009', 'KBA13_BMW', 'KBA13_CCM_0_1400',\n",
       "       'KBA13_CCM_1000', 'KBA13_CCM_1200', 'KBA13_CCM_1400',\n",
       "       'KBA13_CCM_1500', 'KBA13_CCM_1600', 'KBA13_CCM_1800',\n",
       "       'KBA13_CCM_2000', 'KBA13_CCM_2500', 'KBA13_CCM_2501',\n",
       "       'KBA13_CCM_3000', 'KBA13_CCM_3001', 'KBA13_FAB_ASIEN',\n",
       "       'KBA13_FAB_SONSTIGE', 'KBA13_FIAT', 'KBA13_FORD',\n",
       "       'KBA13_HALTER_20', 'KBA13_HALTER_25', 'KBA13_HALTER_30',\n",
       "       'KBA13_HALTER_35', 'KBA13_HALTER_40', 'KBA13_HALTER_45',\n",
       "       'KBA13_HALTER_50', 'KBA13_HALTER_55', 'KBA13_HALTER_60',\n",
       "       'KBA13_HALTER_65', 'KBA13_HALTER_66', 'KBA13_HERST_ASIEN',\n",
       "       'KBA13_HERST_AUDI_VW', 'KBA13_HERST_BMW_BENZ',\n",
       "       'KBA13_HERST_EUROPA', 'KBA13_HERST_FORD_OPEL', 'KBA13_HERST_SONST',\n",
       "       'KBA13_KMH_0_140', 'KBA13_KMH_110', 'KBA13_KMH_140',\n",
       "       'KBA13_KMH_140_210', 'KBA13_KMH_180', 'KBA13_KMH_211',\n",
       "       'KBA13_KMH_250', 'KBA13_KMH_251', 'KBA13_KRSAQUOT',\n",
       "       'KBA13_KRSHERST_AUDI_VW', 'KBA13_KRSHERST_BMW_BENZ',\n",
       "       'KBA13_KRSHERST_FORD_OPEL', 'KBA13_KRSSEG_KLEIN',\n",
       "       'KBA13_KRSSEG_OBER', 'KBA13_KRSSEG_VAN', 'KBA13_KRSZUL_NEU',\n",
       "       'KBA13_KW_0_60', 'KBA13_KW_110', 'KBA13_KW_120', 'KBA13_KW_121',\n",
       "       'KBA13_KW_30', 'KBA13_KW_40', 'KBA13_KW_50', 'KBA13_KW_60',\n",
       "       'KBA13_KW_61_120', 'KBA13_KW_70', 'KBA13_KW_80', 'KBA13_KW_90',\n",
       "       'KBA13_MAZDA', 'KBA13_MERCEDES', 'KBA13_MOTOR', 'KBA13_NISSAN',\n",
       "       'KBA13_OPEL', 'KBA13_PEUGEOT', 'KBA13_RENAULT',\n",
       "       'KBA13_SEG_GELAENDEWAGEN', 'KBA13_SEG_GROSSRAUMVANS',\n",
       "       'KBA13_SEG_KLEINST', 'KBA13_SEG_KLEINWAGEN',\n",
       "       'KBA13_SEG_KOMPAKTKLASSE', 'KBA13_SEG_MINIVANS',\n",
       "       'KBA13_SEG_MINIWAGEN', 'KBA13_SEG_MITTELKLASSE',\n",
       "       'KBA13_SEG_OBEREMITTELKLASSE', 'KBA13_SEG_OBERKLASSE',\n",
       "       'KBA13_SEG_SONSTIGE', 'KBA13_SEG_SPORTWAGEN',\n",
       "       'KBA13_SEG_UTILITIES', 'KBA13_SEG_VAN', 'KBA13_SEG_WOHNMOBILE',\n",
       "       'KBA13_SITZE_4', 'KBA13_SITZE_5', 'KBA13_SITZE_6', 'KBA13_TOYOTA',\n",
       "       'KBA13_VORB_0', 'KBA13_VORB_1', 'KBA13_VORB_1_2', 'KBA13_VORB_2',\n",
       "       'KBA13_VORB_3', 'KBA13_VW', 'KKK', 'KONSUMNAEHE',\n",
       "       'LP_FAMILIE_FEIN', 'LP_FAMILIE_GROB', 'LP_LEBENSPHASE_FEIN',\n",
       "       'LP_LEBENSPHASE_GROB', 'LP_STATUS_FEIN', 'LP_STATUS_GROB',\n",
       "       'MOBI_REGIO', 'NATIONALITAET_KZ', 'ONLINE_AFFINITAET',\n",
       "       'ORTSGR_KLS9', 'PLZ8_ANTG1', 'PLZ8_ANTG2', 'PLZ8_ANTG3',\n",
       "       'PLZ8_ANTG4', 'PLZ8_BAUMAX', 'PLZ8_GBZ', 'PLZ8_HHZ',\n",
       "       'PRAEGENDE_JUGENDJAHRE', 'REGIOTYP', 'RELAT_AB', 'RETOURTYP_BK_S',\n",
       "       'SEMIO_DOM', 'SEMIO_ERL', 'SEMIO_FAM', 'SEMIO_KAEM', 'SEMIO_KRIT',\n",
       "       'SEMIO_KULT', 'SEMIO_LUST', 'SEMIO_MAT', 'SEMIO_PFLICHT',\n",
       "       'SEMIO_RAT', 'SEMIO_REL', 'SEMIO_SOZ', 'SEMIO_TRADV', 'SEMIO_VERT',\n",
       "       'SHOPPER_TYP', 'TITEL_KZ', 'VERS_TYP', 'WOHNDAUER_2008',\n",
       "       'WOHNLAGE', 'W_KEIT_KIND_HH', 'ZABEOTYP'], dtype=object)"
      ]
     },
     "execution_count": 71,
     "metadata": {},
     "output_type": "execute_result"
    }
   ],
   "source": [
    "customers_num_cat_annot_attribute"
   ]
  },
  {
   "cell_type": "code",
   "execution_count": 72,
   "metadata": {},
   "outputs": [
    {
     "data": {
      "text/plain": [
       "array(['ANZ_HAUSHALTE_AKTIV', 'ANZ_HH_TITEL', 'ANZ_PERSONEN', 'ANZ_TITEL',\n",
       "       'ARBEIT', 'GEBURTSJAHR', 'KBA13_ANZAHL_PKW', 'MIN_GEBAEUDEJAHR'],\n",
       "      dtype=object)"
      ]
     },
     "execution_count": 72,
     "metadata": {},
     "output_type": "execute_result"
    }
   ],
   "source": [
    "customers_num_annot_attribute"
   ]
  },
  {
   "cell_type": "code",
   "execution_count": 73,
   "metadata": {},
   "outputs": [],
   "source": [
    "assert annot_attr_customers_values.size == customers_bin_cat_annot_attribute.size + customers_str_cat_annot_attribute.size + customers_num_cat_annot_attribute.size + customers_num_annot_attribute.size"
   ]
  },
  {
   "cell_type": "markdown",
   "metadata": {},
   "source": [
    "##### check `not_annot_attr_customers_values`"
   ]
  },
  {
   "cell_type": "code",
   "execution_count": 74,
   "metadata": {},
   "outputs": [
    {
     "name": "stdout",
     "output_type": "stream",
     "text": [
      "<class 'pandas.core.frame.DataFrame'>\n",
      "RangeIndex: 191652 entries, 0 to 191651\n",
      "Data columns (total 93 columns):\n",
      "AKT_DAT_KL                    145056 non-null float64\n",
      "ALTERSKATEGORIE_FEIN          139810 non-null float64\n",
      "ALTER_KIND1                   11766 non-null float64\n",
      "ALTER_KIND2                   5100 non-null float64\n",
      "ALTER_KIND3                   1275 non-null float64\n",
      "ALTER_KIND4                   236 non-null float64\n",
      "ANZ_KINDER                    145056 non-null float64\n",
      "ANZ_STATISTISCHE_HAUSHALTE    141725 non-null float64\n",
      "CAMEO_INTL_2015               141224 non-null object\n",
      "CJT_KATALOGNUTZER             188439 non-null float64\n",
      "CJT_TYP_1                     188439 non-null float64\n",
      "CJT_TYP_2                     188439 non-null float64\n",
      "CJT_TYP_3                     188439 non-null float64\n",
      "CJT_TYP_4                     188439 non-null float64\n",
      "CJT_TYP_5                     188439 non-null float64\n",
      "CJT_TYP_6                     188439 non-null float64\n",
      "CUSTOMER_GROUP                191652 non-null object\n",
      "D19_BANKEN_DIREKT             191652 non-null int64\n",
      "D19_BANKEN_GROSS              191652 non-null int64\n",
      "D19_BANKEN_LOKAL              191652 non-null int64\n",
      "D19_BANKEN_REST               191652 non-null int64\n",
      "D19_BEKLEIDUNG_GEH            191652 non-null int64\n",
      "D19_BEKLEIDUNG_REST           191652 non-null int64\n",
      "D19_BILDUNG                   191652 non-null int64\n",
      "D19_BIO_OEKO                  191652 non-null int64\n",
      "D19_BUCH_CD                   191652 non-null int64\n",
      "D19_DIGIT_SERV                191652 non-null int64\n",
      "D19_DROGERIEARTIKEL           191652 non-null int64\n",
      "D19_ENERGIE                   191652 non-null int64\n",
      "D19_FREIZEIT                  191652 non-null int64\n",
      "D19_GARTEN                    191652 non-null int64\n",
      "D19_HANDWERK                  191652 non-null int64\n",
      "D19_HAUS_DEKO                 191652 non-null int64\n",
      "D19_KINDERARTIKEL             191652 non-null int64\n",
      "D19_KONSUMTYP_MAX             191652 non-null int64\n",
      "D19_KOSMETIK                  191652 non-null int64\n",
      "D19_LEBENSMITTEL              191652 non-null int64\n",
      "D19_LETZTER_KAUF_BRANCHE      143955 non-null object\n",
      "D19_LOTTO                     143955 non-null float64\n",
      "D19_NAHRUNGSERGAENZUNG        191652 non-null int64\n",
      "D19_RATGEBER                  191652 non-null int64\n",
      "D19_REISEN                    191652 non-null int64\n",
      "D19_SAMMELARTIKEL             191652 non-null int64\n",
      "D19_SCHUHE                    191652 non-null int64\n",
      "D19_SONSTIGE                  191652 non-null int64\n",
      "D19_SOZIALES                  143955 non-null float64\n",
      "D19_TECHNIK                   191652 non-null int64\n",
      "D19_TELKO_MOBILE              191652 non-null int64\n",
      "D19_TELKO_ONLINE_QUOTE_12     143955 non-null float64\n",
      "D19_TELKO_REST                191652 non-null int64\n",
      "D19_TIERARTIKEL               191652 non-null int64\n",
      "D19_VERSAND_REST              191652 non-null int64\n",
      "D19_VERSICHERUNGEN            191652 non-null int64\n",
      "D19_VERSI_ONLINE_QUOTE_12     143955 non-null float64\n",
      "D19_VOLLSORTIMENT             191652 non-null int64\n",
      "D19_WEIN_FEINKOST             191652 non-null int64\n",
      "DSL_FLAG                      141725 non-null float64\n",
      "EINGEFUEGT_AM                 141725 non-null object\n",
      "EINGEZOGENAM_HH_JAHR          145056 non-null float64\n",
      "EXTSEL992                     106369 non-null float64\n",
      "FIRMENDICHTE                  141725 non-null float64\n",
      "GEMEINDETYP                   141176 non-null float64\n",
      "HH_DELTA_FLAG                 137910 non-null float64\n",
      "KBA13_ANTG1                   140371 non-null float64\n",
      "KBA13_ANTG2                   140371 non-null float64\n",
      "KBA13_ANTG3                   140371 non-null float64\n",
      "KBA13_ANTG4                   140371 non-null float64\n",
      "KBA13_BAUMAX                  140371 non-null float64\n",
      "KBA13_CCM_1401_2500           140371 non-null float64\n",
      "KBA13_GBZ                     140371 non-null float64\n",
      "KBA13_HHZ                     140371 non-null float64\n",
      "KBA13_KMH_210                 140371 non-null float64\n",
      "KK_KUNDENTYP                  79715 non-null float64\n",
      "KOMBIALTER                    191652 non-null int64\n",
      "KONSUMZELLE                   141725 non-null float64\n",
      "LNR                           191652 non-null int64\n",
      "MOBI_RASTER                   141725 non-null float64\n",
      "ONLINE_PURCHASE               191652 non-null int64\n",
      "PRODUCT_GROUP                 191652 non-null object\n",
      "RT_KEIN_ANREIZ                188439 non-null float64\n",
      "RT_SCHNAEPPCHEN               188439 non-null float64\n",
      "RT_UEBERGROESSE               147460 non-null float64\n",
      "SOHO_KZ                       145056 non-null float64\n",
      "STRUKTURTYP                   141176 non-null float64\n",
      "UMFELD_ALT                    141204 non-null float64\n",
      "UMFELD_JUNG                   141204 non-null float64\n",
      "UNGLEICHENN_FLAG              145056 non-null float64\n",
      "VERDICHTUNGSRAUM              141176 non-null float64\n",
      "VHA                           145056 non-null float64\n",
      "VHN                           137392 non-null float64\n",
      "VK_DHT4A                      143781 non-null float64\n",
      "VK_DISTANZ                    143781 non-null float64\n",
      "VK_ZG11                       143781 non-null float64\n",
      "dtypes: float64(51), int64(37), object(5)\n",
      "memory usage: 136.0+ MB\n"
     ]
    }
   ],
   "source": [
    "customers_df[not_annot_attr_customers_values].info()"
   ]
  },
  {
   "cell_type": "code",
   "execution_count": 75,
   "metadata": {},
   "outputs": [
    {
     "data": {
      "text/plain": [
       "0.998769     1\n",
       "0.993347     1\n",
       "0.973389     1\n",
       "0.938607     1\n",
       "0.584064     1\n",
       "0.444989     1\n",
       "0.283117     1\n",
       "0.280415     1\n",
       "0.270501     1\n",
       "0.267574     9\n",
       "0.263373     3\n",
       "0.263227     2\n",
       "0.263123     1\n",
       "0.260509     6\n",
       "0.249781     3\n",
       "0.248873     5\n",
       "0.243128     6\n",
       "0.230585     1\n",
       "0.016765     9\n",
       "0.000000    39\n",
       "dtype: int64"
      ]
     },
     "execution_count": 75,
     "metadata": {},
     "output_type": "execute_result"
    }
   ],
   "source": [
    "customers_df[not_annot_attr_customers_values].isnull().mean().value_counts().sort_index(ascending=False)"
   ]
  },
  {
   "cell_type": "markdown",
   "metadata": {},
   "source": [
    "#### Check null value\n",
    "\n",
    "create `customers_unused_not_annot_attribute` to hold droped attribute from `not_annot_attr_customers_values`\n",
    "\n",
    "CROP CRITERIA: __null value > 30%__"
   ]
  },
  {
   "cell_type": "code",
   "execution_count": 76,
   "metadata": {},
   "outputs": [
    {
     "data": {
      "text/plain": [
       "array(['ALTER_KIND1', 'ALTER_KIND2', 'ALTER_KIND3', 'ALTER_KIND4',\n",
       "       'EXTSEL992', 'KK_KUNDENTYP'], dtype=object)"
      ]
     },
     "execution_count": 76,
     "metadata": {},
     "output_type": "execute_result"
    }
   ],
   "source": [
    "customers_unused_not_annot_attribute = not_annot_attr_customers_values[customers_df[not_annot_attr_customers_values].isnull().mean() > .3]\n",
    "customers_unused_not_annot_attribute"
   ]
  },
  {
   "cell_type": "code",
   "execution_count": 77,
   "metadata": {},
   "outputs": [
    {
     "name": "stdout",
     "output_type": "stream",
     "text": [
      "column: CAMEO_INTL_2015\n",
      "[13.0 nan 34.0 24.0 41.0 23.0 15.0 55.0 14.0 22.0 43.0 51.0 33.0 25.0 44.0\n",
      " 54.0 32.0 12.0 35.0 31.0 45.0 52.0 '45' '25' '55' '51' '14' '54' '43'\n",
      " '22' '15' '24' '35' '23' '12' '44' '41' '52' '31' '13' '34' '32' '33'\n",
      " 'XX']\n",
      "column: CUSTOMER_GROUP\n",
      "['MULTI_BUYER' 'SINGLE_BUYER']\n",
      "column: D19_LETZTER_KAUF_BRANCHE\n",
      "['D19_UNBEKANNT' 'D19_BANKEN_GROSS' 'D19_NAHRUNGSERGAENZUNG' 'D19_SCHUHE'\n",
      " 'D19_BUCH_CD' 'D19_DROGERIEARTIKEL' 'D19_SONSTIGE' 'D19_TECHNIK'\n",
      " 'D19_VERSICHERUNGEN' 'D19_TELKO_MOBILE' 'D19_VOLLSORTIMENT' nan\n",
      " 'D19_HAUS_DEKO' 'D19_ENERGIE' 'D19_REISEN' 'D19_BANKEN_LOKAL'\n",
      " 'D19_VERSAND_REST' 'D19_BEKLEIDUNG_REST' 'D19_FREIZEIT'\n",
      " 'D19_BEKLEIDUNG_GEH' 'D19_TELKO_REST' 'D19_SAMMELARTIKEL'\n",
      " 'D19_BANKEN_DIREKT' 'D19_KINDERARTIKEL' 'D19_BANKEN_REST'\n",
      " 'D19_LEBENSMITTEL' 'D19_GARTEN' 'D19_HANDWERK' 'D19_RATGEBER'\n",
      " 'D19_DIGIT_SERV' 'D19_BIO_OEKO' 'D19_BILDUNG' 'D19_WEIN_FEINKOST'\n",
      " 'D19_TIERARTIKEL' 'D19_LOTTO' 'D19_KOSMETIK']\n",
      "column: EINGEFUEGT_AM\n",
      "['1992-02-12 00:00:00' nan '1992-02-10 00:00:00' ... '2008-04-25 00:00:00'\n",
      " '2005-03-30 00:00:00' '2008-07-14 00:00:00']\n",
      "column: PRODUCT_GROUP\n",
      "['COSMETIC_AND_FOOD' 'FOOD' 'COSMETIC']\n"
     ]
    }
   ],
   "source": [
    "for col in customers_df[not_annot_attr_customers_values].select_dtypes(include=['object']).columns:\n",
    "    print('column: {}'.format(col))\n",
    "    print(customers_df[col].unique())"
   ]
  },
  {
   "cell_type": "markdown",
   "metadata": {},
   "source": [
    "#### Ananlyze EINGEFUEGT_AM"
   ]
  },
  {
   "cell_type": "code",
   "execution_count": 78,
   "metadata": {},
   "outputs": [
    {
     "data": {
      "text/plain": [
       "0    6.978528e+08\n",
       "1   -9.223372e+09\n",
       "2    6.976800e+08\n",
       "3    6.976800e+08\n",
       "4    6.978528e+08\n",
       "Name: EINGEFUEGT_AM, dtype: float64"
      ]
     },
     "execution_count": 78,
     "metadata": {},
     "output_type": "execute_result"
    }
   ],
   "source": [
    "(pd.to_datetime(customers_df['EINGEFUEGT_AM']).astype(int)/ 10**9).head()"
   ]
  },
  {
   "cell_type": "markdown",
   "metadata": {},
   "source": [
    "create `customers_num_not_annot_attribute` to hold numeric attribute from `not_annot_attr_customers_values`"
   ]
  },
  {
   "cell_type": "code",
   "execution_count": 79,
   "metadata": {},
   "outputs": [],
   "source": [
    "customers_num_not_annot_attribute = np.array(['EINGEFUEGT_AM'])"
   ]
  },
  {
   "cell_type": "code",
   "execution_count": 80,
   "metadata": {},
   "outputs": [],
   "source": [
    "_ = (pd.to_datetime(customers_df['EINGEFUEGT_AM']).astype(int)/ 10**9).head()\n",
    "\n",
    "if not np.issubdtype(_.dtype, np.number):\n",
    "    print('{} is not numberic type'.format(EINGEFUEGT_AM))"
   ]
  },
  {
   "cell_type": "markdown",
   "metadata": {},
   "source": [
    "#### Analyze D19_LETZTER_KAUF_BRANCH"
   ]
  },
  {
   "cell_type": "code",
   "execution_count": 81,
   "metadata": {},
   "outputs": [
    {
     "data": {
      "text/plain": [
       "array(['D19_UNBEKANNT'], dtype=object)"
      ]
     },
     "execution_count": 81,
     "metadata": {},
     "output_type": "execute_result"
    }
   ],
   "source": [
    "np.setdiff1d(customers_df['D19_LETZTER_KAUF_BRANCHE'].dropna().unique(), customers_df.columns)"
   ]
  },
  {
   "cell_type": "code",
   "execution_count": 82,
   "metadata": {},
   "outputs": [
    {
     "data": {
      "text/plain": [
       "-1     79607\n",
       " 68    14540\n",
       " 93    10534\n",
       " 42    10038\n",
       " 94     8647\n",
       " 55     8129\n",
       " 67     6317\n",
       " 38     5975\n",
       " 44     5528\n",
       " 45     4454\n",
       " 39     4096\n",
       " 86     3619\n",
       " 31     3466\n",
       " 60     3053\n",
       " 78     2303\n",
       " 63     2253\n",
       " 74     2131\n",
       " 70     1836\n",
       " 32     1684\n",
       " 46     1672\n",
       " 66     1610\n",
       " 64     1519\n",
       " 56     1439\n",
       " 95     1424\n",
       " 37     1233\n",
       " 41      808\n",
       " 65      666\n",
       " 43      653\n",
       " 47      568\n",
       " 54      532\n",
       " 40      357\n",
       " 79      345\n",
       " 33      306\n",
       " 62      194\n",
       " 59      116\n",
       "Name: D19_LETZTER_KAUF_BRANCHE, dtype: int64"
      ]
     },
     "execution_count": 82,
     "metadata": {},
     "output_type": "execute_result"
    }
   ],
   "source": [
    "customers_df['D19_LETZTER_KAUF_BRANCHE'].apply(lambda x: np.where(np.isin(customers_df.columns, x))[0][0] if np.where(np.isin(customers_df.columns, x))[0].size > 0 else -1).value_counts()"
   ]
  },
  {
   "cell_type": "markdown",
   "metadata": {},
   "source": [
    "create `customers_num_cat_not_annot_attribute` to hold numeric categorical attribute from `not_annot_attr_customers_values`"
   ]
  },
  {
   "cell_type": "code",
   "execution_count": 83,
   "metadata": {},
   "outputs": [
    {
     "data": {
      "text/plain": [
       "array(['D19_LETZTER_KAUF_BRANCH'], dtype='<U23')"
      ]
     },
     "execution_count": 83,
     "metadata": {},
     "output_type": "execute_result"
    }
   ],
   "source": [
    "customers_num_cat_not_annot_attribute = np.array(['D19_LETZTER_KAUF_BRANCH'])\n",
    "customers_num_cat_not_annot_attribute"
   ]
  },
  {
   "cell_type": "code",
   "execution_count": 84,
   "metadata": {},
   "outputs": [],
   "source": [
    "_ = customers_df['D19_LETZTER_KAUF_BRANCHE'].apply(lambda x: np.where(np.isin(customers_df.columns, x))[0][0] if np.where(np.isin(customers_df.columns, x))[0].size > 0 else -1)\n",
    "\n",
    "if not np.issubdtype(_.dtype, np.number):\n",
    "    print('{} is not numberic type'.format(D19_LETZTER_KAUF_BRANCHE))"
   ]
  },
  {
   "cell_type": "markdown",
   "metadata": {},
   "source": [
    "#### Analyze CAMEO_INTL_2015"
   ]
  },
  {
   "cell_type": "code",
   "execution_count": 85,
   "metadata": {},
   "outputs": [
    {
     "data": {
      "text/plain": [
       "array([13.0, nan, 34.0, 24.0, 41.0, 23.0, 15.0, 55.0, 14.0, 22.0, 43.0,\n",
       "       51.0, 33.0, 25.0, 44.0, 54.0, 32.0, 12.0, 35.0, 31.0, 45.0, 52.0,\n",
       "       '45', '25', '55', '51', '14', '54', '43', '22', '15', '24', '35',\n",
       "       '23', '12', '44', '41', '52', '31', '13', '34', '32', '33', 'XX'],\n",
       "      dtype=object)"
      ]
     },
     "execution_count": 85,
     "metadata": {},
     "output_type": "execute_result"
    }
   ],
   "source": [
    "customers_df['CAMEO_INTL_2015'].unique()"
   ]
  },
  {
   "cell_type": "code",
   "execution_count": 86,
   "metadata": {},
   "outputs": [
    {
     "name": "stdout",
     "output_type": "stream",
     "text": [
      "CAMEO_INTL_2015 feature has float value: [12. 13. 14. 15. 22. 23. 24. 25. 31. 32. 33. 34. 35. 41. 43. 44. 45. 51.\n",
      " 52. 54. 55.]\n",
      "CAMEO_INTL_2015 feature has string value: ['12' '13' '14' '15' '22' '23' '24' '25' '31' '32' '33' '34' '35' '41'\n",
      " '43' '44' '45' '51' '52' '54' '55' 'XX']\n"
     ]
    }
   ],
   "source": [
    "int_v = []\n",
    "v1 = customers_df['CAMEO_INTL_2015'].dropna().apply(lambda x: int_v.append(x) if isinstance(x, int) else x).dropna().unique()\n",
    "\n",
    "float_v = []\n",
    "v1 = customers_df['CAMEO_INTL_2015'].dropna().apply(lambda x: float_v.append(x) if isinstance(x, float) else x).dropna().unique()\n",
    "\n",
    "str_v = []\n",
    "v1 = customers_df['CAMEO_INTL_2015'].dropna().apply(lambda x: str_v.append(x) if isinstance(x, str) else x).dropna().unique()\n",
    "\n",
    "int_v = np.unique(np.array(int_v))\n",
    "float_v = np.unique(np.array(float_v))\n",
    "str_v = np.unique(np.array(str_v))\n",
    "\n",
    "if len(int_v) > 0:\n",
    "    print('CAMEO_INTL_2015 feature has int value: {}'.format(int_v))\n",
    "if len(float_v) > 0:\n",
    "    print('CAMEO_INTL_2015 feature has float value: {}'.format(float_v))\n",
    "if len(str_v) > 0:\n",
    "    print('CAMEO_INTL_2015 feature has string value: {}'.format(str_v))"
   ]
  },
  {
   "cell_type": "code",
   "execution_count": 87,
   "metadata": {},
   "outputs": [
    {
     "data": {
      "text/plain": [
       "array(['CAMEO_INTL_2015', 'D19_LETZTER_KAUF_BRANCH'], dtype='<U23')"
      ]
     },
     "execution_count": 87,
     "metadata": {},
     "output_type": "execute_result"
    }
   ],
   "source": [
    "customers_num_cat_not_annot_attribute = np.union1d(customers_num_cat_not_annot_attribute, ['CAMEO_INTL_2015'])\n",
    "customers_num_cat_not_annot_attribute"
   ]
  },
  {
   "cell_type": "markdown",
   "metadata": {},
   "source": [
    "#### Analyze int64 dtype values"
   ]
  },
  {
   "cell_type": "code",
   "execution_count": 88,
   "metadata": {},
   "outputs": [
    {
     "name": "stdout",
     "output_type": "stream",
     "text": [
      "column: D19_BANKEN_DIREKT\n",
      "[0 5 7 3 6 1 4 2]\n",
      "column: D19_BANKEN_GROSS\n",
      "[0 5 3 6 4 2 1]\n",
      "column: D19_BANKEN_LOKAL\n",
      "[0 3 7 6 5 2 1 4]\n",
      "column: D19_BANKEN_REST\n",
      "[0 6 5 3 7 2 4 1]\n",
      "column: D19_BEKLEIDUNG_GEH\n",
      "[0 6 5 2 3 4 7 1]\n",
      "column: D19_BEKLEIDUNG_REST\n",
      "[0 6 7 3 5 1 2 4]\n",
      "column: D19_BILDUNG\n",
      "[0 6 7 2 5 4 3 1]\n",
      "column: D19_BIO_OEKO\n",
      "[0 2 7 3 6 5 4 1]\n",
      "column: D19_BUCH_CD\n",
      "[6 0 2 5 3 1 7 4]\n",
      "column: D19_DIGIT_SERV\n",
      "[0 5 6 3 2 7 1 4]\n",
      "column: D19_DROGERIEARTIKEL\n",
      "[0 6 4 3 7 5 2 1]\n",
      "column: D19_ENERGIE\n",
      "[0 5 3 6 7 2 4 1]\n",
      "column: D19_FREIZEIT\n",
      "[0 6 3 7 5 2 1 4]\n",
      "column: D19_GARTEN\n",
      "[0 6 7 3 5 1 2 4]\n",
      "column: D19_HANDWERK\n",
      "[0 6 7 5 3 2 4 1]\n",
      "column: D19_HAUS_DEKO\n",
      "[6 0 3 2 5 7 4 1]\n",
      "column: D19_KINDERARTIKEL\n",
      "[0 2 6 3 7 5 1 4]\n",
      "column: D19_KONSUMTYP_MAX\n",
      "[2 3 4 1 8 9]\n",
      "column: D19_KOSMETIK\n",
      "[0 7 6 3 4 5 2 1]\n",
      "column: D19_LEBENSMITTEL\n",
      "[6 0 5 2 3 7 4 1]\n",
      "column: D19_NAHRUNGSERGAENZUNG\n",
      "[0 5 3 6 7 4 2 1]\n",
      "column: D19_RATGEBER\n",
      "[0 6 5 2 7 3 4 1]\n",
      "column: D19_REISEN\n",
      "[0 6 7 5 3 2 1 4]\n",
      "column: D19_SAMMELARTIKEL\n",
      "[6 0 2 5 3 7 4 1]\n",
      "column: D19_SCHUHE\n",
      "[0 3 6 7 2 5 1 4]\n",
      "column: D19_SONSTIGE\n",
      "[6 0 3 7 5 4 1 2]\n",
      "column: D19_TECHNIK\n",
      "[6 0 7 2 4 3 5 1]\n",
      "column: D19_TELKO_MOBILE\n",
      "[0 5 6 3 2 7 4 1]\n",
      "column: D19_TELKO_REST\n",
      "[0 6 3 5 7 4 2 1]\n",
      "column: D19_TIERARTIKEL\n",
      "[0 6 7 5 3 2 4 1]\n",
      "column: D19_VERSAND_REST\n",
      "[0 3 6 5 2 7 4 1]\n",
      "column: D19_VERSICHERUNGEN\n",
      "[0 6 7 3 2 1 5 4]\n",
      "column: D19_VOLLSORTIMENT\n",
      "[0 6 3 7 2 4 5 1]\n",
      "column: D19_WEIN_FEINKOST\n",
      "[0 6 7 3 2 5 4 1]\n",
      "column: KOMBIALTER\n",
      "[4 3 2 9 1]\n",
      "column: LNR\n",
      "[  9626   9628 143872 ... 148813 148852 148883]\n",
      "column: ONLINE_PURCHASE\n",
      "[0 1]\n"
     ]
    }
   ],
   "source": [
    "for col in customers_df[not_annot_attr_customers_values].select_dtypes(include=['int64']).columns:\n",
    "    print('column: {}'.format(col))\n",
    "    print(customers_df[col].unique())"
   ]
  },
  {
   "cell_type": "code",
   "execution_count": 89,
   "metadata": {},
   "outputs": [
    {
     "data": {
      "text/plain": [
       "(38,)"
      ]
     },
     "execution_count": 89,
     "metadata": {},
     "output_type": "execute_result"
    }
   ],
   "source": [
    "customers_num_cat_not_annot_attribute = np.union1d(customers_num_cat_not_annot_attribute, customers_df[not_annot_attr_customers_values].select_dtypes(include=['int64']).columns)\n",
    "customers_num_cat_not_annot_attribute = np.setdiff1d(customers_num_cat_not_annot_attribute, customers_bin_cat_not_annot_attribute)\n",
    "customers_num_cat_not_annot_attribute = np.setdiff1d(customers_num_cat_not_annot_attribute, customers_unused_not_annot_attribute)\n",
    "customers_num_cat_not_annot_attribute.shape"
   ]
  },
  {
   "cell_type": "markdown",
   "metadata": {},
   "source": [
    "#### Analyze float64"
   ]
  },
  {
   "cell_type": "code",
   "execution_count": 90,
   "metadata": {},
   "outputs": [
    {
     "name": "stdout",
     "output_type": "stream",
     "text": [
      "column: AKT_DAT_KL\n",
      "[1. 9. 3. 7. 5. 2. 4. 6. 8.]\n",
      "column: ALTERSKATEGORIE_FEIN\n",
      "[10.  0.  8. 14.  9.  4. 13.  6. 12. 19. 17. 15. 11. 16.  7. 18. 21. 25.\n",
      " 20. 24.  5.  2. 22.  3. 23.]\n",
      "column: ALTER_KIND1\n",
      "[ 8. 12.  9.  7. 13. 17. 14. 18. 11. 16.  6. 10. 15.  5.  3.  4.  2.]\n",
      "column: ALTER_KIND2\n",
      "[ 9. 17. 10. 14. 13. 12. 11. 16. 18. 15.  7.  5.  8.  6.  3.  2.  4.]\n",
      "column: ALTER_KIND3\n",
      "[13. 16. 18. 15. 17. 14. 12. 11. 10.  8.  7.  9.  6.  5.]\n",
      "column: ALTER_KIND4\n",
      "[18. 12. 16. 13. 17. 11. 14. 15. 10.  8.]\n",
      "column: ANZ_KINDER\n",
      "[0. 1. 3. 2. 4. 5. 6. 8. 7.]\n",
      "column: ANZ_STATISTISCHE_HAUSHALTE\n",
      "[  1.   7.  82.   9.  17.   8.  25.   3.  41.   2.  10.  13.  14.  47.\n",
      "   0.   6.   4.  97.  12.   5.  20.  23.  39.  49.  51.  18.  16.  11.\n",
      "  15.  57.  35.  19.  26.  36. 339.  21.  48.  22.  34.  46.  32.  52.\n",
      "  27. 309.  93.  87.  29.  61.  30.  33.  40.  42.  28. 135.  37.  84.\n",
      "  43.  72.  90.  45.  81. 256.  79. 230. 111.  53.  31. 354.  38.  77.\n",
      " 152.  59.  44.  73.  98.  67.  71.  88.  54.  74. 252.  68. 102.  76.\n",
      " 143.  24. 304. 239.  89.  69.  60. 200.  75. 172. 258.  56.  70. 192.\n",
      " 103.  99. 253. 142. 108. 180. 375. 118. 222. 202. 189. 104. 101.  62.\n",
      " 149. 131.  63.  78.  91. 100. 132.  96.  58.  65.  64.  85. 186. 119.\n",
      " 209. 297. 268. 145.  50. 299.  92. 251. 167. 170.  55. 156. 322. 158.\n",
      "  66. 113. 225. 140. 183. 187. 122. 120. 144. 155. 107. 228.  95. 195.\n",
      " 269. 314. 130.  83. 193. 141.  80. 174. 248. 126. 235. 115. 199. 223.\n",
      " 137. 128.  94.  86. 160. 136. 274. 114. 218. 105. 163. 181. 289. 106.\n",
      " 168. 124. 109. 292. 161. 296. 147. 110. 184. 201. 371. 127. 284. 213.\n",
      " 153. 123. 159. 150. 134. 116. 112. 240. 129. 365. 233. 117. 146. 179.\n",
      " 125. 317. 212. 178.]\n",
      "column: CJT_KATALOGNUTZER\n",
      "[4. 5. 3. 2. 1.]\n",
      "column: CJT_TYP_1\n",
      "[1. 2. 3. 4. 5.]\n",
      "column: CJT_TYP_2\n",
      "[1. 2. 3. 5. 4.]\n",
      "column: CJT_TYP_3\n",
      "[5. 3. 4. 2. 1.]\n",
      "column: CJT_TYP_4\n",
      "[5. 4. 2. 1. 3.]\n",
      "column: CJT_TYP_5\n",
      "[5. 3. 4. 2. 1.]\n",
      "column: CJT_TYP_6\n",
      "[5. 3. 4. 2. 1.]\n",
      "column: D19_LOTTO\n",
      "[0. 7. 6. 5. 3. 2. 4. 1.]\n",
      "column: D19_SOZIALES\n",
      "[1. 0. 5. 4. 3. 2.]\n",
      "column: D19_TELKO_ONLINE_QUOTE_12\n",
      "[ 0. 10.  5.  3.]\n",
      "column: D19_VERSI_ONLINE_QUOTE_12\n",
      "[ 0. 10.  7.  5.]\n",
      "column: DSL_FLAG\n",
      "[1. 0.]\n",
      "column: EINGEZOGENAM_HH_JAHR\n",
      "[1994. 2007. 1996. 1997. 2015. 2012. 2002. 2009. 2005. 2014. 2011. 1998.\n",
      " 2008. 1999. 2004. 2001. 2000. 2003. 2016. 2013. 2006. 1995. 2010. 1993.\n",
      " 1989. 1992. 1990. 1991. 2018. 1988. 2017. 1987. 1986.]\n",
      "column: EXTSEL992\n",
      "[40. 29. 26. 10. 48. 45. 55. 35. 23. 30. 53. 36. 56. 34. 50. 41. 54.  6.\n",
      " 14. 52. 37. 33. 24. 51. 49. 27. 43. 17. 46. 18. 20.  8. 11.  3. 31.  7.\n",
      " 39. 42. 22. 32.  1. 38. 19.  4. 47. 44.  5. 21. 15. 16.  9.  2. 25. 28.\n",
      " 12. 13.]\n",
      "column: FIRMENDICHTE\n",
      "[4. 2. 3. 1. 5.]\n",
      "column: GEMEINDETYP\n",
      "[50. 22. 40. 12. 30. 21. 11.]\n",
      "column: HH_DELTA_FLAG\n",
      "[0. 1.]\n",
      "column: KBA13_ANTG1\n",
      "[3. 1. 2. 4. 0.]\n",
      "column: KBA13_ANTG2\n",
      "[3. 4. 2. 1. 0.]\n",
      "column: KBA13_ANTG3\n",
      "[1. 3. 0. 2.]\n",
      "column: KBA13_ANTG4\n",
      "[0. 1. 2.]\n",
      "column: KBA13_BAUMAX\n",
      "[1. 3. 2. 5. 4.]\n",
      "column: KBA13_CCM_1401_2500\n",
      "[4. 1. 2. 3. 5.]\n",
      "column: KBA13_GBZ\n",
      "[5. 2. 3. 4. 1.]\n",
      "column: KBA13_HHZ\n",
      "[5. 3. 4. 2. 1.]\n",
      "column: KBA13_KMH_210\n",
      "[4. 2. 3. 5. 1.]\n",
      "column: KK_KUNDENTYP\n",
      "[2. 5. 4. 1. 3. 6.]\n",
      "column: KONSUMZELLE\n",
      "[0. 1.]\n",
      "column: MOBI_RASTER\n",
      "[3. 1. 2. 4. 5. 6.]\n",
      "column: RT_KEIN_ANREIZ\n",
      "[1. 4. 3. 2. 5.]\n",
      "column: RT_SCHNAEPPCHEN\n",
      "[5. 3. 2. 1. 4.]\n",
      "column: RT_UEBERGROESSE\n",
      "[3. 1. 2. 5. 4. 0.]\n",
      "column: SOHO_KZ\n",
      "[0. 1.]\n",
      "column: STRUKTURTYP\n",
      "[3. 1. 2.]\n",
      "column: UMFELD_ALT\n",
      "[4. 1. 3. 2. 5.]\n",
      "column: UMFELD_JUNG\n",
      "[4. 5. 3. 2. 1.]\n",
      "column: UNGLEICHENN_FLAG\n",
      "[0. 1.]\n",
      "column: VERDICHTUNGSRAUM\n",
      "[ 8.  0.  1. 24.  4.  6. 31. 18. 19.  3. 42. 38.  5. 27. 26.  7. 34. 25.\n",
      " 45. 20. 32.  2. 12. 16. 44. 11. 36. 17. 13. 43. 30. 35. 10. 21. 29. 40.\n",
      " 33. 28. 22. 15. 23.  9. 39. 14. 37. 41.]\n",
      "column: VHA\n",
      "[0. 5. 1. 4. 2. 3.]\n",
      "column: VHN\n",
      "[3. 4. 2. 1. 0.]\n",
      "column: VK_DHT4A\n",
      "[ 5.  6. 10.  3.  1.  8.  4.  2.  9.  7. 11.]\n",
      "column: VK_DISTANZ\n",
      "[ 3.  6. 13.  4.  5.  2. 11.  8.  7.  1. 10.  9. 12.]\n",
      "column: VK_ZG11\n",
      "[ 2.  3. 11.  4.  1.  9.  7.  5.  6.  8. 10.]\n"
     ]
    }
   ],
   "source": [
    "for col in customers_df[not_annot_attr_customers_values].select_dtypes(include=['float64']).columns:\n",
    "    print('column: {}'.format(col))\n",
    "    _ = customers_df[col].dropna().unique()\n",
    "    print(_)\n",
    "    if (_.size == 2):\n",
    "        customers_bin_cat_not_annot_attribute = np.setdiff1d(np.union1d(customers_bin_cat_not_annot_attribute, col), customers_unused_not_annot_attribute)\n",
    "    elif (_.min() < 5):\n",
    "        customers_num_cat_not_annot_attribute = np.setdiff1d(np.union1d(customers_num_cat_not_annot_attribute, col), customers_unused_not_annot_attribute)\n",
    "    else:\n",
    "        customers_num_not_annot_attribute = np.setdiff1d(np.union1d(customers_num_not_annot_attribute, col), customers_unused_not_annot_attribute)"
   ]
  },
  {
   "cell_type": "code",
   "execution_count": 91,
   "metadata": {},
   "outputs": [
    {
     "data": {
      "text/plain": [
       "array(['DSL_FLAG', 'HH_DELTA_FLAG', 'KONSUMZELLE', 'ONLINE_PURCHASE',\n",
       "       'SOHO_KZ', 'UNGLEICHENN_FLAG'], dtype='<U16')"
      ]
     },
     "execution_count": 91,
     "metadata": {},
     "output_type": "execute_result"
    }
   ],
   "source": [
    "customers_bin_cat_not_annot_attribute"
   ]
  },
  {
   "cell_type": "code",
   "execution_count": 92,
   "metadata": {},
   "outputs": [
    {
     "data": {
      "text/plain": [
       "array(['AKT_DAT_KL', 'ALTERSKATEGORIE_FEIN', 'ANZ_KINDER',\n",
       "       'ANZ_STATISTISCHE_HAUSHALTE', 'CAMEO_INTL_2015',\n",
       "       'CJT_KATALOGNUTZER', 'CJT_TYP_1', 'CJT_TYP_2', 'CJT_TYP_3',\n",
       "       'CJT_TYP_4', 'CJT_TYP_5', 'CJT_TYP_6', 'D19_BANKEN_DIREKT',\n",
       "       'D19_BANKEN_GROSS', 'D19_BANKEN_LOKAL', 'D19_BANKEN_REST',\n",
       "       'D19_BEKLEIDUNG_GEH', 'D19_BEKLEIDUNG_REST', 'D19_BILDUNG',\n",
       "       'D19_BIO_OEKO', 'D19_BUCH_CD', 'D19_DIGIT_SERV',\n",
       "       'D19_DROGERIEARTIKEL', 'D19_ENERGIE', 'D19_FREIZEIT', 'D19_GARTEN',\n",
       "       'D19_HANDWERK', 'D19_HAUS_DEKO', 'D19_KINDERARTIKEL',\n",
       "       'D19_KONSUMTYP_MAX', 'D19_KOSMETIK', 'D19_LEBENSMITTEL',\n",
       "       'D19_LETZTER_KAUF_BRANCH', 'D19_LOTTO', 'D19_NAHRUNGSERGAENZUNG',\n",
       "       'D19_RATGEBER', 'D19_REISEN', 'D19_SAMMELARTIKEL', 'D19_SCHUHE',\n",
       "       'D19_SONSTIGE', 'D19_SOZIALES', 'D19_TECHNIK', 'D19_TELKO_MOBILE',\n",
       "       'D19_TELKO_ONLINE_QUOTE_12', 'D19_TELKO_REST', 'D19_TIERARTIKEL',\n",
       "       'D19_VERSAND_REST', 'D19_VERSICHERUNGEN',\n",
       "       'D19_VERSI_ONLINE_QUOTE_12', 'D19_VOLLSORTIMENT',\n",
       "       'D19_WEIN_FEINKOST', 'FIRMENDICHTE', 'KBA13_ANTG1', 'KBA13_ANTG2',\n",
       "       'KBA13_ANTG3', 'KBA13_ANTG4', 'KBA13_BAUMAX',\n",
       "       'KBA13_CCM_1401_2500', 'KBA13_GBZ', 'KBA13_HHZ', 'KBA13_KMH_210',\n",
       "       'KOMBIALTER', 'LNR', 'MOBI_RASTER', 'RT_KEIN_ANREIZ',\n",
       "       'RT_SCHNAEPPCHEN', 'RT_UEBERGROESSE', 'STRUKTURTYP', 'UMFELD_ALT',\n",
       "       'UMFELD_JUNG', 'VERDICHTUNGSRAUM', 'VHA', 'VHN', 'VK_DHT4A',\n",
       "       'VK_DISTANZ', 'VK_ZG11'], dtype=object)"
      ]
     },
     "execution_count": 92,
     "metadata": {},
     "output_type": "execute_result"
    }
   ],
   "source": [
    "customers_num_cat_not_annot_attribute"
   ]
  },
  {
   "cell_type": "code",
   "execution_count": 93,
   "metadata": {},
   "outputs": [
    {
     "data": {
      "text/plain": [
       "array(['EINGEFUEGT_AM', 'EINGEZOGENAM_HH_JAHR', 'GEMEINDETYP'],\n",
       "      dtype='<U20')"
      ]
     },
     "execution_count": 93,
     "metadata": {},
     "output_type": "execute_result"
    }
   ],
   "source": [
    "customers_num_not_annot_attribute"
   ]
  },
  {
   "cell_type": "markdown",
   "metadata": {},
   "source": [
    "#### To fix the error, we will need to ...\n",
    "\n",
    "1. ALTER_KIND1, ALTER_KIND2, ALTER_KIND3, ALTER_KIND4, EXTSEL992, KK_KUNDENTYP: **drop (null value > 30%)**\n",
    "1. EINGEFUEGT_AM: **convert datetime string to number of seconds to the unix epoch start**\n",
    "1. CAMEO_INTL_2015: **change '45', '25', '55', '51', '14', '54', '43', '22', '15', '24', '35', '23', '12', '44', '41', '52', '31', '13', '34', '32', '33' to integer, and 'XX' to NA**\n",
    "1. D19_LETZTER_KAUF_BRANCH: **change column string to column intex**"
   ]
  },
  {
   "cell_type": "code",
   "execution_count": 94,
   "metadata": {},
   "outputs": [
    {
     "data": {
      "text/plain": [
       "array(['EINGEFUEGT_AM', 'EINGEZOGENAM_HH_JAHR', 'GEMEINDETYP'],\n",
       "      dtype='<U20')"
      ]
     },
     "execution_count": 94,
     "metadata": {},
     "output_type": "execute_result"
    }
   ],
   "source": [
    "customers_num_not_annot_attribute"
   ]
  },
  {
   "cell_type": "code",
   "execution_count": 95,
   "metadata": {},
   "outputs": [
    {
     "data": {
      "text/plain": [
       "array(['DSL_FLAG', 'HH_DELTA_FLAG', 'KONSUMZELLE', 'ONLINE_PURCHASE',\n",
       "       'SOHO_KZ', 'UNGLEICHENN_FLAG'], dtype='<U16')"
      ]
     },
     "execution_count": 95,
     "metadata": {},
     "output_type": "execute_result"
    }
   ],
   "source": [
    "customers_bin_cat_not_annot_attribute"
   ]
  },
  {
   "cell_type": "code",
   "execution_count": 96,
   "metadata": {},
   "outputs": [
    {
     "data": {
      "text/plain": [
       "array(['AKT_DAT_KL', 'ALTERSKATEGORIE_FEIN', 'ANZ_KINDER',\n",
       "       'ANZ_STATISTISCHE_HAUSHALTE', 'CAMEO_INTL_2015',\n",
       "       'CJT_KATALOGNUTZER', 'CJT_TYP_1', 'CJT_TYP_2', 'CJT_TYP_3',\n",
       "       'CJT_TYP_4', 'CJT_TYP_5', 'CJT_TYP_6', 'D19_BANKEN_DIREKT',\n",
       "       'D19_BANKEN_GROSS', 'D19_BANKEN_LOKAL', 'D19_BANKEN_REST',\n",
       "       'D19_BEKLEIDUNG_GEH', 'D19_BEKLEIDUNG_REST', 'D19_BILDUNG',\n",
       "       'D19_BIO_OEKO', 'D19_BUCH_CD', 'D19_DIGIT_SERV',\n",
       "       'D19_DROGERIEARTIKEL', 'D19_ENERGIE', 'D19_FREIZEIT', 'D19_GARTEN',\n",
       "       'D19_HANDWERK', 'D19_HAUS_DEKO', 'D19_KINDERARTIKEL',\n",
       "       'D19_KONSUMTYP_MAX', 'D19_KOSMETIK', 'D19_LEBENSMITTEL',\n",
       "       'D19_LETZTER_KAUF_BRANCH', 'D19_LOTTO', 'D19_NAHRUNGSERGAENZUNG',\n",
       "       'D19_RATGEBER', 'D19_REISEN', 'D19_SAMMELARTIKEL', 'D19_SCHUHE',\n",
       "       'D19_SONSTIGE', 'D19_SOZIALES', 'D19_TECHNIK', 'D19_TELKO_MOBILE',\n",
       "       'D19_TELKO_ONLINE_QUOTE_12', 'D19_TELKO_REST', 'D19_TIERARTIKEL',\n",
       "       'D19_VERSAND_REST', 'D19_VERSICHERUNGEN',\n",
       "       'D19_VERSI_ONLINE_QUOTE_12', 'D19_VOLLSORTIMENT',\n",
       "       'D19_WEIN_FEINKOST', 'FIRMENDICHTE', 'KBA13_ANTG1', 'KBA13_ANTG2',\n",
       "       'KBA13_ANTG3', 'KBA13_ANTG4', 'KBA13_BAUMAX',\n",
       "       'KBA13_CCM_1401_2500', 'KBA13_GBZ', 'KBA13_HHZ', 'KBA13_KMH_210',\n",
       "       'KOMBIALTER', 'LNR', 'MOBI_RASTER', 'RT_KEIN_ANREIZ',\n",
       "       'RT_SCHNAEPPCHEN', 'RT_UEBERGROESSE', 'STRUKTURTYP', 'UMFELD_ALT',\n",
       "       'UMFELD_JUNG', 'VERDICHTUNGSRAUM', 'VHA', 'VHN', 'VK_DHT4A',\n",
       "       'VK_DISTANZ', 'VK_ZG11'], dtype=object)"
      ]
     },
     "execution_count": 96,
     "metadata": {},
     "output_type": "execute_result"
    }
   ],
   "source": [
    "customers_num_cat_not_annot_attribute"
   ]
  },
  {
   "cell_type": "code",
   "execution_count": 97,
   "metadata": {},
   "outputs": [
    {
     "data": {
      "text/plain": [
       "array(['CUSTOMER_GROUP', 'PRODUCT_GROUP'], dtype='<U14')"
      ]
     },
     "execution_count": 97,
     "metadata": {},
     "output_type": "execute_result"
    }
   ],
   "source": [
    "customers_str_cat_not_annot_attribute"
   ]
  },
  {
   "cell_type": "code",
   "execution_count": 98,
   "metadata": {},
   "outputs": [
    {
     "data": {
      "text/plain": [
       "array(['ALTER_KIND1', 'ALTER_KIND2', 'ALTER_KIND3', 'ALTER_KIND4',\n",
       "       'EXTSEL992', 'KK_KUNDENTYP'], dtype=object)"
      ]
     },
     "execution_count": 98,
     "metadata": {},
     "output_type": "execute_result"
    }
   ],
   "source": [
    "customers_unused_not_annot_attribute"
   ]
  },
  {
   "cell_type": "code",
   "execution_count": 99,
   "metadata": {},
   "outputs": [],
   "source": [
    "assert not_annot_attr_customers_values.size == customers_bin_cat_not_annot_attribute.size + customers_str_cat_not_annot_attribute.size + customers_num_cat_not_annot_attribute.size + customers_num_not_annot_attribute.size + customers_unused_not_annot_attribute.size"
   ]
  },
  {
   "cell_type": "markdown",
   "metadata": {},
   "source": [
    "#### ROW Viewpoint"
   ]
  },
  {
   "cell_type": "code",
   "execution_count": null,
   "metadata": {},
   "outputs": [],
   "source": []
  },
  {
   "cell_type": "code",
   "execution_count": null,
   "metadata": {},
   "outputs": [],
   "source": []
  },
  {
   "cell_type": "markdown",
   "metadata": {},
   "source": [
    "### Data Preprocessing"
   ]
  },
  {
   "cell_type": "code",
   "execution_count": 100,
   "metadata": {},
   "outputs": [
    {
     "ename": "SyntaxError",
     "evalue": "unexpected EOF while parsing (<ipython-input-100-782396cc3ca5>, line 3)",
     "output_type": "error",
     "traceback": [
      "\u001b[0;36m  File \u001b[0;32m\"<ipython-input-100-782396cc3ca5>\"\u001b[0;36m, line \u001b[0;32m3\u001b[0m\n\u001b[0;31m    \u001b[0m\n\u001b[0m    ^\u001b[0m\n\u001b[0;31mSyntaxError\u001b[0m\u001b[0;31m:\u001b[0m unexpected EOF while parsing\n"
     ]
    }
   ],
   "source": [
    "def preprocessing(df=df):\n",
    "    \n",
    "    fix()\n",
    "    fillna()\n",
    "    normalize()"
   ]
  },
  {
   "cell_type": "code",
   "execution_count": null,
   "metadata": {},
   "outputs": [],
   "source": [
    "pre_processing(customers_df)"
   ]
  },
  {
   "cell_type": "markdown",
   "metadata": {},
   "source": []
  },
  {
   "cell_type": "code",
   "execution_count": null,
   "metadata": {},
   "outputs": [],
   "source": [
    "customers_df[annot_attr_customers_values].isnull().mean().value_counts()"
   ]
  },
  {
   "cell_type": "markdown",
   "metadata": {},
   "source": [
    "Case1: 51281 customer all have 107 null value"
   ]
  },
  {
   "cell_type": "code",
   "execution_count": null,
   "metadata": {},
   "outputs": [],
   "source": [
    "customers_df[annot_attr_customers_values].columns[np.where((customers_df[annot_attr_customers_values].isnull().sum() == 51281).values)[0]]"
   ]
  },
  {
   "cell_type": "code",
   "execution_count": null,
   "metadata": {},
   "outputs": [],
   "source": [
    "attributes_df.loc[np.where(attributes_df.Attribute.isin(customers_df[annot_attr_customers_values].columns[np.where((customers_df[annot_attr_customers_values].isnull().sum() == 51281).values)[0]]))]"
   ]
  },
  {
   "cell_type": "code",
   "execution_count": null,
   "metadata": {},
   "outputs": [],
   "source": [
    "attributes_df[attributes_df.Attribute == 'PLZ8'].Description.tolist()"
   ]
  },
  {
   "cell_type": "code",
   "execution_count": null,
   "metadata": {},
   "outputs": [],
   "source": [
    "PLZ8_info_attributes = attributes_df[attributes_df['Information level'] == 'PLZ8']['Attribute'].values\n",
    "PLZ8_info_attributes.shape"
   ]
  },
  {
   "cell_type": "code",
   "execution_count": null,
   "metadata": {},
   "outputs": [],
   "source": [
    "np.setdiff1d(PLZ8_info_attributes, customers_df[annot_attr_customers_values].columns[np.where((customers_df[annot_attr_customers_values].isnull().sum() == 51281).values)[0]].values)"
   ]
  },
  {
   "cell_type": "code",
   "execution_count": null,
   "metadata": {},
   "outputs": [],
   "source": [
    "np.intersect1d(PLZ8_info_attributes, customers_df[annot_attr_customers_values].columns[np.where((customers_df[annot_attr_customers_values].isnull().sum() == 51281).values)[0]].values).shape"
   ]
  },
  {
   "cell_type": "code",
   "execution_count": null,
   "metadata": {},
   "outputs": [],
   "source": [
    "customers_df[np.intersect1d(PLZ8_info_attributes, customers_df[annot_attr_customers_values].columns[np.where((customers_df[annot_attr_customers_values].isnull().sum() == 51281).values)[0]].values)].isnull().sum().value_counts()"
   ]
  },
  {
   "cell_type": "code",
   "execution_count": null,
   "metadata": {},
   "outputs": [],
   "source": [
    "customers_df[np.intersect1d(PLZ8_info_attributes, customers_df[annot_attr_customers_values].columns[np.where((customers_df[annot_attr_customers_values].isnull().sum() == 51281).values)[0]].values)].isnull().sum().value_counts().index[0]/customers_df.shape[0]"
   ]
  },
  {
   "cell_type": "code",
   "execution_count": null,
   "metadata": {},
   "outputs": [],
   "source": [
    "customers.columns.isin(PLZ8_info_attributes)"
   ]
  },
  {
   "cell_type": "code",
   "execution_count": null,
   "metadata": {},
   "outputs": [],
   "source": [
    "values_df[values_df.Attribute == 'KBA13_ANZAHL_PKW']"
   ]
  },
  {
   "cell_type": "code",
   "execution_count": null,
   "metadata": {},
   "outputs": [],
   "source": [
    "values_df[values_df.Meaning.str.find('num') >= 0]"
   ]
  },
  {
   "cell_type": "code",
   "execution_count": null,
   "metadata": {},
   "outputs": [],
   "source": [
    "customers_df[np.setdiff1d(np.intersect1d(PLZ8_info_attributes, customers_df[annot_attr_customers_values].columns[np.where((customers_df[annot_attr_customers_values].isnull().sum() == 51281).values)[0]].values), num_attr)].apply(pd.value_counts).isnull().sum().value_counts()"
   ]
  },
  {
   "cell_type": "markdown",
   "metadata": {},
   "source": [
    "Case 2: 55980 customer all have 64 null value"
   ]
  },
  {
   "cell_type": "code",
   "execution_count": null,
   "metadata": {},
   "outputs": [],
   "source": [
    "customers_df[annot_attr_customers_values].columns[np.where((customers_df[annot_attr_customers_values].isnull().sum() == 55980).values)[0]]"
   ]
  },
  {
   "cell_type": "code",
   "execution_count": null,
   "metadata": {},
   "outputs": [],
   "source": [
    "attributes_df.loc[np.where(attributes_df.Attribute.isin(customers_df[annot_attr_customers_values].columns[np.where((customers_df[annot_attr_customers_values].isnull().sum() == 55980).values)[0]]))]"
   ]
  },
  {
   "cell_type": "code",
   "execution_count": null,
   "metadata": {},
   "outputs": [],
   "source": [
    "attributes_df['Information level'].value_counts()"
   ]
  },
  {
   "cell_type": "code",
   "execution_count": null,
   "metadata": {},
   "outputs": [],
   "source": [
    "attributes_df[attributes_df['Information level'].str.find('Microcell') >= 0]"
   ]
  },
  {
   "cell_type": "code",
   "execution_count": null,
   "metadata": {},
   "outputs": [],
   "source": [
    "np.setdiff1d(attributes_df[attributes_df['Information level'].str.find('Microcell') >= 0].Attribute.values, customers_df[annot_attr_customers_values].columns[np.where((customers_df[annot_attr_customers_values].isnull().sum() == 55980).values)[0]].values)"
   ]
  },
  {
   "cell_type": "code",
   "execution_count": null,
   "metadata": {},
   "outputs": [],
   "source": [
    "np.intersect1d(attributes_df[attributes_df['Information level'].str.find('Microcell') >= 0].Attribute.values, customers_df[annot_attr_customers_values].columns[np.where((customers_df[annot_attr_customers_values].isnull().sum() == 55980).values)[0]].values).shape"
   ]
  },
  {
   "cell_type": "code",
   "execution_count": null,
   "metadata": {},
   "outputs": [],
   "source": [
    "attributes_df[attributes_df.Attribute.isin(np.setdiff1d(attributes_df[attributes_df['Information level'].str.find('Microcell') >= 0].Attribute.values, customers_df[annot_attr_customers_values].columns[np.where((customers_df[annot_attr_customers_values].isnull().sum() == 55980).values)[0]].values))]"
   ]
  },
  {
   "cell_type": "code",
   "execution_count": null,
   "metadata": {},
   "outputs": [],
   "source": [
    "n_match_val_annot_attr_customers_values = 0\n",
    "for col in annot_attr_customers_values:\n",
    "    if (customers_df[col].isin(values_df[values_df['Attribute'] == col]['Value'].values).count() == customers_df.shape[0]):\n",
    "        n_match_val_annot_attr_customers_values += 1\n",
    "print(n_match_val_annot_attr_customers_values)"
   ]
  },
  {
   "cell_type": "code",
   "execution_count": null,
   "metadata": {},
   "outputs": [],
   "source": [
    "customers_df[annot_attr_customers_values].select_dtypes(include='int64').describe(include='all')"
   ]
  },
  {
   "cell_type": "code",
   "execution_count": null,
   "metadata": {},
   "outputs": [],
   "source": [
    "text_field = np.array(['OST_WEST_KZ', 'PRODUCT_GROUP', 'CUSTOMER_GROUP'])"
   ]
  },
  {
   "cell_type": "code",
   "execution_count": null,
   "metadata": {},
   "outputs": [],
   "source": [
    "time_field = "
   ]
  },
  {
   "cell_type": "markdown",
   "metadata": {},
   "source": [
    "## Part 1: Customer Segmentation Report\n",
    "\n",
    "The main bulk of your analysis will come in this part of the project. Here, you should use unsupervised learning techniques to describe the relationship between the demographics of the company's existing customers and the general population of Germany. By the end of this part, you should be able to describe parts of the general population that are more likely to be part of the mail-order company's main customer base, and which parts of the general population are less so."
   ]
  },
  {
   "cell_type": "code",
   "execution_count": null,
   "metadata": {},
   "outputs": [],
   "source": [
    "values_customers_df = customers_df[annot_attr_customers_values_2017]\n",
    "values_customers_df.info()"
   ]
  },
  {
   "cell_type": "code",
   "execution_count": null,
   "metadata": {},
   "outputs": [],
   "source": [
    "customers_df[not_attr_customers_values_2017.tolist()].info()"
   ]
  },
  {
   "cell_type": "code",
   "execution_count": null,
   "metadata": {},
   "outputs": [],
   "source": [
    "values_customers_df.isna().mean().value_counts()"
   ]
  },
  {
   "cell_type": "code",
   "execution_count": null,
   "metadata": {},
   "outputs": [],
   "source": [
    "for col in values_customers_df.columns:\n",
    "    values_customers_df[col].fillna(values_customers_df[col].median,inplace=True)"
   ]
  },
  {
   "cell_type": "code",
   "execution_count": null,
   "metadata": {},
   "outputs": [],
   "source": [
    "values_customers_df.isna().mean().value_counts()"
   ]
  },
  {
   "cell_type": "code",
   "execution_count": null,
   "metadata": {},
   "outputs": [],
   "source": [
    "values_customers_df.select_dtypes(include='object').apply(pd.value_counts)"
   ]
  },
  {
   "cell_type": "code",
   "execution_count": null,
   "metadata": {},
   "outputs": [],
   "source": [
    "values_df.loc[values_df['Attribute'] == 'CAMEO_DEUG_2015']"
   ]
  },
  {
   "cell_type": "code",
   "execution_count": null,
   "metadata": {},
   "outputs": [],
   "source": [
    "values_df.loc[values_df['Attribute'] == 'CAMEO_DEU_2015']"
   ]
  },
  {
   "cell_type": "code",
   "execution_count": null,
   "metadata": {},
   "outputs": [],
   "source": [
    "values_df.loc[values_df['Attribute'] == 'OST_WEST_KZ']"
   ]
  },
  {
   "cell_type": "code",
   "execution_count": null,
   "metadata": {},
   "outputs": [],
   "source": [
    "n_attr_customers_2_values = 0\n",
    "for col in values_customers_df.select_dtypes(include='number').columns:\n",
    "    if (values_customers_df[col].isin(values_df.loc[values_df['Attribute'] == col]['Value'].values).count() == customers_df.shape[0]):\n",
    "        n_attr_customers_2_values += 1\n",
    "print(n_attr_customers_2_values)"
   ]
  },
  {
   "cell_type": "code",
   "execution_count": null,
   "metadata": {},
   "outputs": [],
   "source": []
  },
  {
   "cell_type": "markdown",
   "metadata": {},
   "source": [
    "### Feature Transformation"
   ]
  },
  {
   "cell_type": "code",
   "execution_count": null,
   "metadata": {},
   "outputs": [],
   "source": []
  },
  {
   "cell_type": "markdown",
   "metadata": {},
   "source": [
    "### Clustering"
   ]
  },
  {
   "cell_type": "code",
   "execution_count": null,
   "metadata": {},
   "outputs": [],
   "source": []
  },
  {
   "cell_type": "markdown",
   "metadata": {},
   "source": [
    "## Part 2: Supervised Learning Model\n",
    "\n",
    "Now that you've found which parts of the population are more likely to be customers of the mail-order company, it's time to build a prediction model. Each of the rows in the \"MAILOUT\" data files represents an individual that was targeted for a mailout campaign. Ideally, we should be able to use the demographic information from each individual to decide whether or not it will be worth it to include that person in the campaign.\n",
    "\n",
    "The \"MAILOUT\" data has been split into two approximately equal parts, each with almost 43 000 data rows. In this part, you can verify your model with the \"TRAIN\" partition, which includes a column, \"RESPONSE\", that states whether or not a person became a customer of the company following the campaign. In the next part, you'll need to create predictions on the \"TEST\" partition, where the \"RESPONSE\" column has been withheld."
   ]
  },
  {
   "cell_type": "code",
   "execution_count": null,
   "metadata": {},
   "outputs": [],
   "source": [
    "mailout_train = pd.read_csv('../../data/Term2/capstone/arvato_data/Udacity_MAILOUT_052018_TRAIN.csv', sep=';')"
   ]
  },
  {
   "cell_type": "code",
   "execution_count": null,
   "metadata": {},
   "outputs": [],
   "source": []
  },
  {
   "cell_type": "markdown",
   "metadata": {},
   "source": [
    "## Part 3: Kaggle Competition\n",
    "\n",
    "Now that you've created a model to predict which individuals are most likely to respond to a mailout campaign, it's time to test that model in competition through Kaggle. If you click on the link [here](http://www.kaggle.com/t/21e6d45d4c574c7fa2d868f0e8c83140), you'll be taken to the competition page where, if you have a Kaggle account, you can enter. If you're one of the top performers, you may have the chance to be contacted by a hiring manager from Arvato or Bertelsmann for an interview!\n",
    "\n",
    "Your entry to the competition should be a CSV file with two columns. The first column should be a copy of \"LNR\", which acts as an ID number for each individual in the \"TEST\" partition. The second column, \"RESPONSE\", should be some measure of how likely each individual became a customer – this might not be a straightforward probability. As you should have found in Part 2, there is a large output class imbalance, where most individuals did not respond to the mailout. Thus, predicting individual classes and using accuracy does not seem to be an appropriate performance evaluation method. Instead, the competition will be using AUC to evaluate performance. The exact values of the \"RESPONSE\" column do not matter as much: only that the higher values try to capture as many of the actual customers as possible, early in the ROC curve sweep."
   ]
  },
  {
   "cell_type": "code",
   "execution_count": null,
   "metadata": {},
   "outputs": [],
   "source": [
    "mailout_test = pd.read_csv('../../data/Term2/capstone/arvato_data/Udacity_MAILOUT_052018_TEST.csv', sep=';')"
   ]
  },
  {
   "cell_type": "code",
   "execution_count": null,
   "metadata": {},
   "outputs": [],
   "source": []
  }
 ],
 "metadata": {
  "kernelspec": {
   "display_name": "Python 3",
   "language": "python",
   "name": "python3"
  },
  "language_info": {
   "codemirror_mode": {
    "name": "ipython",
    "version": 3
   },
   "file_extension": ".py",
   "mimetype": "text/x-python",
   "name": "python",
   "nbconvert_exporter": "python",
   "pygments_lexer": "ipython3",
   "version": "3.6.8"
  }
 },
 "nbformat": 4,
 "nbformat_minor": 2
}
