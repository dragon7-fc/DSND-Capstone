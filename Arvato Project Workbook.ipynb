{
 "cells": [
  {
   "cell_type": "markdown",
   "metadata": {},
   "source": [
    "# Capstone Project: Create a Customer Segmentation Report for Arvato Financial Services\n",
    "\n",
    "In this project, you will analyze demographics data for customers of a mail-order sales company in Germany, comparing it against demographics information for the general population. You'll use unsupervised learning techniques to perform customer segmentation, identifying the parts of the population that best describe the core customer base of the company. Then, you'll apply what you've learned on a third dataset with demographics information for targets of a marketing campaign for the company, and use a model to predict which individuals are most likely to convert into becoming customers for the company. The data that you will use has been provided by our partners at Bertelsmann Arvato Analytics, and represents a real-life data science task.\n",
    "\n",
    "If you completed the first term of this program, you will be familiar with the first part of this project, from the unsupervised learning project. The versions of those two datasets used in this project will include many more features and has not been pre-cleaned. You are also free to choose whatever approach you'd like to analyzing the data rather than follow pre-determined steps. In your work on this project, make sure that you carefully document your steps and decisions, since your main deliverable for this project will be a blog post reporting your findings."
   ]
  },
  {
   "cell_type": "code",
   "execution_count": 1,
   "metadata": {},
   "outputs": [],
   "source": [
    "# import libraries here; add more as necessary\n",
    "import numpy as np\n",
    "import pandas as pd\n",
    "import matplotlib.pyplot as plt\n",
    "import seaborn as sns\n",
    "\n",
    "# magic word for producing visualizations in notebook\n",
    "%matplotlib inline"
   ]
  },
  {
   "cell_type": "markdown",
   "metadata": {},
   "source": [
    "## Part 0: Get to Know the Data\n",
    "\n",
    "There are four data files associated with this project:\n",
    "\n",
    "- `Udacity_AZDIAS_052018.csv`: Demographics data for the general population of Germany; 891 211 persons (rows) x 366 features (columns).\n",
    "- `Udacity_CUSTOMERS_052018.csv`: Demographics data for customers of a mail-order company; 191 652 persons (rows) x 369 features (columns).\n",
    "- `Udacity_MAILOUT_052018_TRAIN.csv`: Demographics data for individuals who were targets of a marketing campaign; 42 982 persons (rows) x 367 (columns).\n",
    "- `Udacity_MAILOUT_052018_TEST.csv`: Demographics data for individuals who were targets of a marketing campaign; 42 833 persons (rows) x 366 (columns).\n",
    "\n",
    "Each row of the demographics files represents a single person, but also includes information outside of individuals, including information about their household, building, and neighborhood. Use the information from the first two files to figure out how customers (\"CUSTOMERS\") are similar to or differ from the general population at large (\"AZDIAS\"), then use your analysis to make predictions on the other two files (\"MAILOUT\"), predicting which recipients are most likely to become a customer for the mail-order company.\n",
    "\n",
    "The \"CUSTOMERS\" file contains three extra columns ('CUSTOMER_GROUP', 'ONLINE_PURCHASE', and 'PRODUCT_GROUP'), which provide broad information about the customers depicted in the file. The original \"MAILOUT\" file included one additional column, \"RESPONSE\", which indicated whether or not each recipient became a customer of the company. For the \"TRAIN\" subset, this column has been retained, but in the \"TEST\" subset it has been removed; it is against that withheld column that your final predictions will be assessed in the Kaggle competition.\n",
    "\n",
    "Otherwise, all of the remaining columns are the same between the three data files. For more information about the columns depicted in the files, you can refer to two Excel spreadsheets provided in the workspace. [One of them](./DIAS Information Levels - Attributes 2017.xlsx) is a top-level list of attributes and descriptions, organized by informational category. [The other](./DIAS Attributes - Values 2017.xlsx) is a detailed mapping of data values for each feature in alphabetical order.\n",
    "\n",
    "In the below cell, we've provided some initial code to load in the first two datasets. Note for all of the `.csv` data files in this project that they're semicolon (`;`) delimited, so an additional argument in the [`read_csv()`](https://pandas.pydata.org/pandas-docs/stable/generated/pandas.read_csv.html) call has been included to read in the data properly. Also, considering the size of the datasets, it may take some time for them to load completely.\n",
    "\n",
    "You'll notice when the data is loaded in that a warning message will immediately pop up. Before you really start digging into the modeling and analysis, you're going to need to perform some cleaning. Take some time to browse the structure of the data and look over the informational spreadsheets to understand the data values. Make some decisions on which features to keep, which features to drop, and if any revisions need to be made on data formats. It'll be a good idea to create a function with pre-processing steps, since you'll need to clean all of the datasets before you work with them."
   ]
  },
  {
   "cell_type": "markdown",
   "metadata": {},
   "source": [
    "### Data Exploration - general population vs. customers\n",
    "\n",
    "#### Load general population and customers dataset"
   ]
  },
  {
   "cell_type": "code",
   "execution_count": 2,
   "metadata": {},
   "outputs": [
    {
     "name": "stderr",
     "output_type": "stream",
     "text": [
      "/home/fc/anaconda3/lib/python3.7/site-packages/IPython/core/interactiveshell.py:3049: DtypeWarning: Columns (18,19) have mixed types. Specify dtype option on import or set low_memory=False.\n",
      "  interactivity=interactivity, compiler=compiler, result=result)\n"
     ]
    }
   ],
   "source": [
    "# load in the data\n",
    "# general population dataset\n",
    "azdias_df = pd.read_csv('arvato_data/Udacity_AZDIAS_052018.csv', sep=';')\n",
    "\n",
    "# customers dataset\n",
    "customers_df = pd.read_csv('arvato_data/Udacity_CUSTOMERS_052018.csv', sep=';')"
   ]
  },
  {
   "cell_type": "code",
   "execution_count": 3,
   "metadata": {},
   "outputs": [
    {
     "name": "stdout",
     "output_type": "stream",
     "text": [
      "<class 'pandas.core.frame.DataFrame'>\n",
      "RangeIndex: 891221 entries, 0 to 891220\n",
      "Columns: 366 entries, LNR to ALTERSKATEGORIE_GROB\n",
      "dtypes: float64(267), int64(93), object(6)\n",
      "memory usage: 2.4+ GB\n"
     ]
    }
   ],
   "source": [
    "azdias_df.info()"
   ]
  },
  {
   "cell_type": "code",
   "execution_count": 4,
   "metadata": {},
   "outputs": [
    {
     "data": {
      "text/html": [
       "<div>\n",
       "<style scoped>\n",
       "    .dataframe tbody tr th:only-of-type {\n",
       "        vertical-align: middle;\n",
       "    }\n",
       "\n",
       "    .dataframe tbody tr th {\n",
       "        vertical-align: top;\n",
       "    }\n",
       "\n",
       "    .dataframe thead th {\n",
       "        text-align: right;\n",
       "    }\n",
       "</style>\n",
       "<table border=\"1\" class=\"dataframe\">\n",
       "  <thead>\n",
       "    <tr style=\"text-align: right;\">\n",
       "      <th></th>\n",
       "      <th>LNR</th>\n",
       "      <th>AGER_TYP</th>\n",
       "      <th>AKT_DAT_KL</th>\n",
       "      <th>ALTER_HH</th>\n",
       "      <th>ALTER_KIND1</th>\n",
       "      <th>ALTER_KIND2</th>\n",
       "      <th>ALTER_KIND3</th>\n",
       "      <th>ALTER_KIND4</th>\n",
       "      <th>ALTERSKATEGORIE_FEIN</th>\n",
       "      <th>ANZ_HAUSHALTE_AKTIV</th>\n",
       "      <th>...</th>\n",
       "      <th>VHN</th>\n",
       "      <th>VK_DHT4A</th>\n",
       "      <th>VK_DISTANZ</th>\n",
       "      <th>VK_ZG11</th>\n",
       "      <th>W_KEIT_KIND_HH</th>\n",
       "      <th>WOHNDAUER_2008</th>\n",
       "      <th>WOHNLAGE</th>\n",
       "      <th>ZABEOTYP</th>\n",
       "      <th>ANREDE_KZ</th>\n",
       "      <th>ALTERSKATEGORIE_GROB</th>\n",
       "    </tr>\n",
       "  </thead>\n",
       "  <tbody>\n",
       "    <tr>\n",
       "      <th>0</th>\n",
       "      <td>910215</td>\n",
       "      <td>-1</td>\n",
       "      <td>NaN</td>\n",
       "      <td>NaN</td>\n",
       "      <td>NaN</td>\n",
       "      <td>NaN</td>\n",
       "      <td>NaN</td>\n",
       "      <td>NaN</td>\n",
       "      <td>NaN</td>\n",
       "      <td>NaN</td>\n",
       "      <td>...</td>\n",
       "      <td>NaN</td>\n",
       "      <td>NaN</td>\n",
       "      <td>NaN</td>\n",
       "      <td>NaN</td>\n",
       "      <td>NaN</td>\n",
       "      <td>NaN</td>\n",
       "      <td>NaN</td>\n",
       "      <td>3</td>\n",
       "      <td>1</td>\n",
       "      <td>2</td>\n",
       "    </tr>\n",
       "    <tr>\n",
       "      <th>1</th>\n",
       "      <td>910220</td>\n",
       "      <td>-1</td>\n",
       "      <td>9.0</td>\n",
       "      <td>0.0</td>\n",
       "      <td>NaN</td>\n",
       "      <td>NaN</td>\n",
       "      <td>NaN</td>\n",
       "      <td>NaN</td>\n",
       "      <td>21.0</td>\n",
       "      <td>11.0</td>\n",
       "      <td>...</td>\n",
       "      <td>4.0</td>\n",
       "      <td>8.0</td>\n",
       "      <td>11.0</td>\n",
       "      <td>10.0</td>\n",
       "      <td>3.0</td>\n",
       "      <td>9.0</td>\n",
       "      <td>4.0</td>\n",
       "      <td>5</td>\n",
       "      <td>2</td>\n",
       "      <td>1</td>\n",
       "    </tr>\n",
       "    <tr>\n",
       "      <th>2</th>\n",
       "      <td>910225</td>\n",
       "      <td>-1</td>\n",
       "      <td>9.0</td>\n",
       "      <td>17.0</td>\n",
       "      <td>NaN</td>\n",
       "      <td>NaN</td>\n",
       "      <td>NaN</td>\n",
       "      <td>NaN</td>\n",
       "      <td>17.0</td>\n",
       "      <td>10.0</td>\n",
       "      <td>...</td>\n",
       "      <td>2.0</td>\n",
       "      <td>9.0</td>\n",
       "      <td>9.0</td>\n",
       "      <td>6.0</td>\n",
       "      <td>3.0</td>\n",
       "      <td>9.0</td>\n",
       "      <td>2.0</td>\n",
       "      <td>5</td>\n",
       "      <td>2</td>\n",
       "      <td>3</td>\n",
       "    </tr>\n",
       "    <tr>\n",
       "      <th>3</th>\n",
       "      <td>910226</td>\n",
       "      <td>2</td>\n",
       "      <td>1.0</td>\n",
       "      <td>13.0</td>\n",
       "      <td>NaN</td>\n",
       "      <td>NaN</td>\n",
       "      <td>NaN</td>\n",
       "      <td>NaN</td>\n",
       "      <td>13.0</td>\n",
       "      <td>1.0</td>\n",
       "      <td>...</td>\n",
       "      <td>0.0</td>\n",
       "      <td>7.0</td>\n",
       "      <td>10.0</td>\n",
       "      <td>11.0</td>\n",
       "      <td>NaN</td>\n",
       "      <td>9.0</td>\n",
       "      <td>7.0</td>\n",
       "      <td>3</td>\n",
       "      <td>2</td>\n",
       "      <td>4</td>\n",
       "    </tr>\n",
       "    <tr>\n",
       "      <th>4</th>\n",
       "      <td>910241</td>\n",
       "      <td>-1</td>\n",
       "      <td>1.0</td>\n",
       "      <td>20.0</td>\n",
       "      <td>NaN</td>\n",
       "      <td>NaN</td>\n",
       "      <td>NaN</td>\n",
       "      <td>NaN</td>\n",
       "      <td>14.0</td>\n",
       "      <td>3.0</td>\n",
       "      <td>...</td>\n",
       "      <td>2.0</td>\n",
       "      <td>3.0</td>\n",
       "      <td>5.0</td>\n",
       "      <td>4.0</td>\n",
       "      <td>2.0</td>\n",
       "      <td>9.0</td>\n",
       "      <td>3.0</td>\n",
       "      <td>4</td>\n",
       "      <td>1</td>\n",
       "      <td>3</td>\n",
       "    </tr>\n",
       "  </tbody>\n",
       "</table>\n",
       "<p>5 rows × 366 columns</p>\n",
       "</div>"
      ],
      "text/plain": [
       "      LNR  AGER_TYP  AKT_DAT_KL  ALTER_HH  ALTER_KIND1  ALTER_KIND2  \\\n",
       "0  910215        -1         NaN       NaN          NaN          NaN   \n",
       "1  910220        -1         9.0       0.0          NaN          NaN   \n",
       "2  910225        -1         9.0      17.0          NaN          NaN   \n",
       "3  910226         2         1.0      13.0          NaN          NaN   \n",
       "4  910241        -1         1.0      20.0          NaN          NaN   \n",
       "\n",
       "   ALTER_KIND3  ALTER_KIND4  ALTERSKATEGORIE_FEIN  ANZ_HAUSHALTE_AKTIV  ...  \\\n",
       "0          NaN          NaN                   NaN                  NaN  ...   \n",
       "1          NaN          NaN                  21.0                 11.0  ...   \n",
       "2          NaN          NaN                  17.0                 10.0  ...   \n",
       "3          NaN          NaN                  13.0                  1.0  ...   \n",
       "4          NaN          NaN                  14.0                  3.0  ...   \n",
       "\n",
       "   VHN  VK_DHT4A  VK_DISTANZ  VK_ZG11  W_KEIT_KIND_HH  WOHNDAUER_2008  \\\n",
       "0  NaN       NaN         NaN      NaN             NaN             NaN   \n",
       "1  4.0       8.0        11.0     10.0             3.0             9.0   \n",
       "2  2.0       9.0         9.0      6.0             3.0             9.0   \n",
       "3  0.0       7.0        10.0     11.0             NaN             9.0   \n",
       "4  2.0       3.0         5.0      4.0             2.0             9.0   \n",
       "\n",
       "   WOHNLAGE ZABEOTYP ANREDE_KZ ALTERSKATEGORIE_GROB  \n",
       "0       NaN        3         1                    2  \n",
       "1       4.0        5         2                    1  \n",
       "2       2.0        5         2                    3  \n",
       "3       7.0        3         2                    4  \n",
       "4       3.0        4         1                    3  \n",
       "\n",
       "[5 rows x 366 columns]"
      ]
     },
     "execution_count": 4,
     "metadata": {},
     "output_type": "execute_result"
    }
   ],
   "source": [
    "# Be sure to add in a lot more cells (both markdown and code) to document your\n",
    "# approach and findings!\n",
    "azdias_df.head()"
   ]
  },
  {
   "cell_type": "code",
   "execution_count": 5,
   "metadata": {},
   "outputs": [
    {
     "name": "stdout",
     "output_type": "stream",
     "text": [
      "<class 'pandas.core.frame.DataFrame'>\n",
      "RangeIndex: 191652 entries, 0 to 191651\n",
      "Columns: 369 entries, LNR to ALTERSKATEGORIE_GROB\n",
      "dtypes: float64(267), int64(94), object(8)\n",
      "memory usage: 539.5+ MB\n"
     ]
    }
   ],
   "source": [
    "customers_df.info()"
   ]
  },
  {
   "cell_type": "code",
   "execution_count": 6,
   "metadata": {},
   "outputs": [
    {
     "data": {
      "text/html": [
       "<div>\n",
       "<style scoped>\n",
       "    .dataframe tbody tr th:only-of-type {\n",
       "        vertical-align: middle;\n",
       "    }\n",
       "\n",
       "    .dataframe tbody tr th {\n",
       "        vertical-align: top;\n",
       "    }\n",
       "\n",
       "    .dataframe thead th {\n",
       "        text-align: right;\n",
       "    }\n",
       "</style>\n",
       "<table border=\"1\" class=\"dataframe\">\n",
       "  <thead>\n",
       "    <tr style=\"text-align: right;\">\n",
       "      <th></th>\n",
       "      <th>LNR</th>\n",
       "      <th>AGER_TYP</th>\n",
       "      <th>AKT_DAT_KL</th>\n",
       "      <th>ALTER_HH</th>\n",
       "      <th>ALTER_KIND1</th>\n",
       "      <th>ALTER_KIND2</th>\n",
       "      <th>ALTER_KIND3</th>\n",
       "      <th>ALTER_KIND4</th>\n",
       "      <th>ALTERSKATEGORIE_FEIN</th>\n",
       "      <th>ANZ_HAUSHALTE_AKTIV</th>\n",
       "      <th>...</th>\n",
       "      <th>VK_ZG11</th>\n",
       "      <th>W_KEIT_KIND_HH</th>\n",
       "      <th>WOHNDAUER_2008</th>\n",
       "      <th>WOHNLAGE</th>\n",
       "      <th>ZABEOTYP</th>\n",
       "      <th>PRODUCT_GROUP</th>\n",
       "      <th>CUSTOMER_GROUP</th>\n",
       "      <th>ONLINE_PURCHASE</th>\n",
       "      <th>ANREDE_KZ</th>\n",
       "      <th>ALTERSKATEGORIE_GROB</th>\n",
       "    </tr>\n",
       "  </thead>\n",
       "  <tbody>\n",
       "    <tr>\n",
       "      <th>0</th>\n",
       "      <td>9626</td>\n",
       "      <td>2</td>\n",
       "      <td>1.0</td>\n",
       "      <td>10.0</td>\n",
       "      <td>NaN</td>\n",
       "      <td>NaN</td>\n",
       "      <td>NaN</td>\n",
       "      <td>NaN</td>\n",
       "      <td>10.0</td>\n",
       "      <td>1.0</td>\n",
       "      <td>...</td>\n",
       "      <td>2.0</td>\n",
       "      <td>6.0</td>\n",
       "      <td>9.0</td>\n",
       "      <td>7.0</td>\n",
       "      <td>3</td>\n",
       "      <td>COSMETIC_AND_FOOD</td>\n",
       "      <td>MULTI_BUYER</td>\n",
       "      <td>0</td>\n",
       "      <td>1</td>\n",
       "      <td>4</td>\n",
       "    </tr>\n",
       "    <tr>\n",
       "      <th>1</th>\n",
       "      <td>9628</td>\n",
       "      <td>-1</td>\n",
       "      <td>9.0</td>\n",
       "      <td>11.0</td>\n",
       "      <td>NaN</td>\n",
       "      <td>NaN</td>\n",
       "      <td>NaN</td>\n",
       "      <td>NaN</td>\n",
       "      <td>NaN</td>\n",
       "      <td>NaN</td>\n",
       "      <td>...</td>\n",
       "      <td>3.0</td>\n",
       "      <td>0.0</td>\n",
       "      <td>9.0</td>\n",
       "      <td>NaN</td>\n",
       "      <td>3</td>\n",
       "      <td>FOOD</td>\n",
       "      <td>SINGLE_BUYER</td>\n",
       "      <td>0</td>\n",
       "      <td>1</td>\n",
       "      <td>4</td>\n",
       "    </tr>\n",
       "    <tr>\n",
       "      <th>2</th>\n",
       "      <td>143872</td>\n",
       "      <td>-1</td>\n",
       "      <td>1.0</td>\n",
       "      <td>6.0</td>\n",
       "      <td>NaN</td>\n",
       "      <td>NaN</td>\n",
       "      <td>NaN</td>\n",
       "      <td>NaN</td>\n",
       "      <td>0.0</td>\n",
       "      <td>1.0</td>\n",
       "      <td>...</td>\n",
       "      <td>11.0</td>\n",
       "      <td>6.0</td>\n",
       "      <td>9.0</td>\n",
       "      <td>2.0</td>\n",
       "      <td>3</td>\n",
       "      <td>COSMETIC_AND_FOOD</td>\n",
       "      <td>MULTI_BUYER</td>\n",
       "      <td>0</td>\n",
       "      <td>2</td>\n",
       "      <td>4</td>\n",
       "    </tr>\n",
       "    <tr>\n",
       "      <th>3</th>\n",
       "      <td>143873</td>\n",
       "      <td>1</td>\n",
       "      <td>1.0</td>\n",
       "      <td>8.0</td>\n",
       "      <td>NaN</td>\n",
       "      <td>NaN</td>\n",
       "      <td>NaN</td>\n",
       "      <td>NaN</td>\n",
       "      <td>8.0</td>\n",
       "      <td>0.0</td>\n",
       "      <td>...</td>\n",
       "      <td>2.0</td>\n",
       "      <td>NaN</td>\n",
       "      <td>9.0</td>\n",
       "      <td>7.0</td>\n",
       "      <td>1</td>\n",
       "      <td>COSMETIC</td>\n",
       "      <td>MULTI_BUYER</td>\n",
       "      <td>0</td>\n",
       "      <td>1</td>\n",
       "      <td>4</td>\n",
       "    </tr>\n",
       "    <tr>\n",
       "      <th>4</th>\n",
       "      <td>143874</td>\n",
       "      <td>-1</td>\n",
       "      <td>1.0</td>\n",
       "      <td>20.0</td>\n",
       "      <td>NaN</td>\n",
       "      <td>NaN</td>\n",
       "      <td>NaN</td>\n",
       "      <td>NaN</td>\n",
       "      <td>14.0</td>\n",
       "      <td>7.0</td>\n",
       "      <td>...</td>\n",
       "      <td>4.0</td>\n",
       "      <td>2.0</td>\n",
       "      <td>9.0</td>\n",
       "      <td>3.0</td>\n",
       "      <td>1</td>\n",
       "      <td>FOOD</td>\n",
       "      <td>MULTI_BUYER</td>\n",
       "      <td>0</td>\n",
       "      <td>1</td>\n",
       "      <td>3</td>\n",
       "    </tr>\n",
       "  </tbody>\n",
       "</table>\n",
       "<p>5 rows × 369 columns</p>\n",
       "</div>"
      ],
      "text/plain": [
       "      LNR  AGER_TYP  AKT_DAT_KL  ALTER_HH  ALTER_KIND1  ALTER_KIND2  \\\n",
       "0    9626         2         1.0      10.0          NaN          NaN   \n",
       "1    9628        -1         9.0      11.0          NaN          NaN   \n",
       "2  143872        -1         1.0       6.0          NaN          NaN   \n",
       "3  143873         1         1.0       8.0          NaN          NaN   \n",
       "4  143874        -1         1.0      20.0          NaN          NaN   \n",
       "\n",
       "   ALTER_KIND3  ALTER_KIND4  ALTERSKATEGORIE_FEIN  ANZ_HAUSHALTE_AKTIV  ...  \\\n",
       "0          NaN          NaN                  10.0                  1.0  ...   \n",
       "1          NaN          NaN                   NaN                  NaN  ...   \n",
       "2          NaN          NaN                   0.0                  1.0  ...   \n",
       "3          NaN          NaN                   8.0                  0.0  ...   \n",
       "4          NaN          NaN                  14.0                  7.0  ...   \n",
       "\n",
       "   VK_ZG11  W_KEIT_KIND_HH  WOHNDAUER_2008  WOHNLAGE  ZABEOTYP  \\\n",
       "0      2.0             6.0             9.0       7.0         3   \n",
       "1      3.0             0.0             9.0       NaN         3   \n",
       "2     11.0             6.0             9.0       2.0         3   \n",
       "3      2.0             NaN             9.0       7.0         1   \n",
       "4      4.0             2.0             9.0       3.0         1   \n",
       "\n",
       "       PRODUCT_GROUP  CUSTOMER_GROUP ONLINE_PURCHASE ANREDE_KZ  \\\n",
       "0  COSMETIC_AND_FOOD     MULTI_BUYER               0         1   \n",
       "1               FOOD    SINGLE_BUYER               0         1   \n",
       "2  COSMETIC_AND_FOOD     MULTI_BUYER               0         2   \n",
       "3           COSMETIC     MULTI_BUYER               0         1   \n",
       "4               FOOD     MULTI_BUYER               0         1   \n",
       "\n",
       "  ALTERSKATEGORIE_GROB  \n",
       "0                    4  \n",
       "1                    4  \n",
       "2                    4  \n",
       "3                    4  \n",
       "4                    3  \n",
       "\n",
       "[5 rows x 369 columns]"
      ]
     },
     "execution_count": 6,
     "metadata": {},
     "output_type": "execute_result"
    }
   ],
   "source": [
    "customers_df.head()"
   ]
  },
  {
   "cell_type": "markdown",
   "metadata": {},
   "source": [
    "`azdias_df` and `customers_df` have 366 common features, which is the same as `azdias_df` features."
   ]
  },
  {
   "cell_type": "code",
   "execution_count": 7,
   "metadata": {},
   "outputs": [
    {
     "data": {
      "text/plain": [
       "(366,)"
      ]
     },
     "execution_count": 7,
     "metadata": {},
     "output_type": "execute_result"
    }
   ],
   "source": [
    "np.intersect1d(azdias_df.columns.values, customers_df.columns.values).shape"
   ]
  },
  {
   "cell_type": "markdown",
   "metadata": {},
   "source": [
    "create `only_attr_customers` to hold `customer_df` only features"
   ]
  },
  {
   "cell_type": "code",
   "execution_count": 8,
   "metadata": {},
   "outputs": [],
   "source": [
    "only_attr_customers = np.setdiff1d(customers_df.columns.values, azdias_df.columns.values)"
   ]
  },
  {
   "cell_type": "markdown",
   "metadata": {},
   "source": [
    "CUSTOMER_GROUP distribution"
   ]
  },
  {
   "cell_type": "code",
   "execution_count": 9,
   "metadata": {},
   "outputs": [
    {
     "data": {
      "image/png": "[encoded data removed]",
      "text/plain": [
       "<Figure size 864x360 with 2 Axes>"
      ]
     },
     "metadata": {
      "needs_background": "light"
     },
     "output_type": "display_data"
    }
   ],
   "source": [
    "plt.subplots(1, 2, figsize = [12, 5])\n",
    "\n",
    "plt.subplot(1, 2, 1)\n",
    "customers_df.CUSTOMER_GROUP.value_counts().plot.bar(rot=0)\n",
    "\n",
    "plt.subplot(1, 2, 2)\n",
    "customers_df.CUSTOMER_GROUP.value_counts().plot.pie(autopct='%1.f%%', startangle = 90, counterclock = False).set_ylabel('')\n",
    "\n",
    "plt.suptitle('CUSTOMER_GROUP Distribution', fontsize=16)\n",
    "plt.show()"
   ]
  },
  {
   "cell_type": "markdown",
   "metadata": {},
   "source": [
    "ONLINE_PURCHASE distribution"
   ]
  },
  {
   "cell_type": "code",
   "execution_count": 10,
   "metadata": {},
   "outputs": [
    {
     "data": {
      "image/png": "[encoded data removed]",
      "text/plain": [
       "<Figure size 864x360 with 2 Axes>"
      ]
     },
     "metadata": {
      "needs_background": "light"
     },
     "output_type": "display_data"
    }
   ],
   "source": [
    "plt.subplots(1, 2, figsize = [12, 5])\n",
    "\n",
    "plt.subplot(1, 2, 1)\n",
    "customers_df.ONLINE_PURCHASE.value_counts().plot.bar(rot=0)\n",
    "\n",
    "plt.subplot(1, 2, 2)\n",
    "customers_df.ONLINE_PURCHASE.value_counts().plot.pie(autopct='%1.f%%', startangle = 90, counterclock = False).set_ylabel('')\n",
    "\n",
    "plt.suptitle('ONLINE_PURCHASE Distribution', fontsize=16)\n",
    "plt.show()"
   ]
  },
  {
   "cell_type": "markdown",
   "metadata": {},
   "source": [
    "PRODUCT_GROUP distribution"
   ]
  },
  {
   "cell_type": "code",
   "execution_count": 11,
   "metadata": {},
   "outputs": [
    {
     "data": {
      "image/png": "[encoded data removed]",
      "text/plain": [
       "<Figure size 864x360 with 2 Axes>"
      ]
     },
     "metadata": {
      "needs_background": "light"
     },
     "output_type": "display_data"
    }
   ],
   "source": [
    "plt.subplots(1, 2, figsize = [12, 5])\n",
    "\n",
    "plt.subplot(1, 2, 1)\n",
    "customers_df.PRODUCT_GROUP.value_counts().plot.bar(rot=0)\n",
    "\n",
    "plt.subplot(1, 2, 2)\n",
    "customers_df.PRODUCT_GROUP.value_counts().plot.pie(autopct='%1.f%%', startangle = 90, counterclock = False).set_ylabel('')\n",
    "\n",
    "plt.suptitle('PRODUCT_GROUP Distribution', fontsize=16)\n",
    "plt.show()"
   ]
  },
  {
   "cell_type": "code",
   "execution_count": 12,
   "metadata": {},
   "outputs": [
    {
     "data": {
      "image/png": "[encoded data removed]",
      "text/plain": [
       "<Figure size 864x360 with 1 Axes>"
      ]
     },
     "metadata": {
      "needs_background": "light"
     },
     "output_type": "display_data"
    },
    {
     "data": {
      "image/png": "[encoded data removed]",
      "text/plain": [
       "<Figure size 864x360 with 2 Axes>"
      ]
     },
     "metadata": {},
     "output_type": "display_data"
    }
   ],
   "source": [
    "customers_df.groupby(['CUSTOMER_GROUP'])['PRODUCT_GROUP'].value_counts().unstack().plot.bar(figsize = [12, 5], rot=0).set_title('CUSTOMER_GROUP vs. PRODUCT_GROUP')\n",
    "\n",
    "customers_df.groupby(['CUSTOMER_GROUP'])['PRODUCT_GROUP'].value_counts().unstack().T.plot.pie(subplots=True, autopct='%1.f%%', figsize=[12,5], legend=False, startangle = 90, counterclock = False)\n",
    "\n",
    "plt.tight_layout()\n",
    "plt.show()"
   ]
  },
  {
   "cell_type": "code",
   "execution_count": 13,
   "metadata": {},
   "outputs": [
    {
     "data": {
      "image/png": "[encoded data removed]",
      "text/plain": [
       "<Figure size 864x360 with 1 Axes>"
      ]
     },
     "metadata": {
      "needs_background": "light"
     },
     "output_type": "display_data"
    },
    {
     "data": {
      "image/png": "[encoded data removed]",
      "text/plain": [
       "<Figure size 864x360 with 2 Axes>"
      ]
     },
     "metadata": {},
     "output_type": "display_data"
    }
   ],
   "source": [
    "customers_df.groupby(['ONLINE_PURCHASE'])['PRODUCT_GROUP'].value_counts().unstack().plot.bar(figsize = [12, 5], rot=0).set_title('ONLINE_PURCHASE vs. PRODUCT_GROUP')\n",
    "\n",
    "customers_df.groupby(['ONLINE_PURCHASE'])['PRODUCT_GROUP'].value_counts().unstack().T.plot.pie(subplots=True, autopct='%1.f%%', figsize=[12,5], legend=False, startangle = 90, counterclock = False)\n",
    "\n",
    "plt.tight_layout()\n",
    "plt.show()"
   ]
  },
  {
   "cell_type": "code",
   "execution_count": 14,
   "metadata": {},
   "outputs": [
    {
     "data": {
      "image/png": "[encoded data removed]",
      "text/plain": [
       "<Figure size 864x360 with 1 Axes>"
      ]
     },
     "metadata": {
      "needs_background": "light"
     },
     "output_type": "display_data"
    },
    {
     "data": {
      "image/png": "[encoded data removed]",
      "text/plain": [
       "<Figure size 864x360 with 2 Axes>"
      ]
     },
     "metadata": {},
     "output_type": "display_data"
    }
   ],
   "source": [
    "customers_df.groupby(['CUSTOMER_GROUP'])['ONLINE_PURCHASE'].value_counts().unstack().plot.bar(figsize = [12, 5], rot=0).set_title('CUSTOMER_GROUP vs. ONLINE_PURCHASE')\n",
    "\n",
    "customers_df.groupby(['CUSTOMER_GROUP'])['ONLINE_PURCHASE'].value_counts().unstack().T.plot.pie(subplots=True, autopct='%1.f%%', figsize=[12,5], legend=False, startangle = 90, counterclock = False)\n",
    "\n",
    "plt.tight_layout()\n",
    "plt.show()"
   ]
  },
  {
   "cell_type": "markdown",
   "metadata": {},
   "source": [
    "### Data Exploration - Attributes vs. Values\n",
    "\n",
    "#### Load attributes dataset"
   ]
  },
  {
   "cell_type": "code",
   "execution_count": 15,
   "metadata": {},
   "outputs": [
    {
     "data": {
      "text/html": [
       "<div>\n",
       "<style scoped>\n",
       "    .dataframe tbody tr th:only-of-type {\n",
       "        vertical-align: middle;\n",
       "    }\n",
       "\n",
       "    .dataframe tbody tr th {\n",
       "        vertical-align: top;\n",
       "    }\n",
       "\n",
       "    .dataframe thead th {\n",
       "        text-align: right;\n",
       "    }\n",
       "</style>\n",
       "<table border=\"1\" class=\"dataframe\">\n",
       "  <thead>\n",
       "    <tr style=\"text-align: right;\">\n",
       "      <th></th>\n",
       "      <th>Information level</th>\n",
       "      <th>Attribute</th>\n",
       "      <th>Description</th>\n",
       "      <th>Additional notes</th>\n",
       "    </tr>\n",
       "  </thead>\n",
       "  <tbody>\n",
       "    <tr>\n",
       "      <th>0</th>\n",
       "      <td>NaN</td>\n",
       "      <td>AGER_TYP</td>\n",
       "      <td>best-ager typology</td>\n",
       "      <td>in cooperation with Kantar TNS; the informatio...</td>\n",
       "    </tr>\n",
       "    <tr>\n",
       "      <th>1</th>\n",
       "      <td>Person</td>\n",
       "      <td>ALTERSKATEGORIE_GROB</td>\n",
       "      <td>age through prename analysis</td>\n",
       "      <td>modelled on millions of first name-age-referen...</td>\n",
       "    </tr>\n",
       "    <tr>\n",
       "      <th>2</th>\n",
       "      <td>Person</td>\n",
       "      <td>ANREDE_KZ</td>\n",
       "      <td>gender</td>\n",
       "      <td>NaN</td>\n",
       "    </tr>\n",
       "    <tr>\n",
       "      <th>3</th>\n",
       "      <td>Person</td>\n",
       "      <td>CJT_GESAMTTYP</td>\n",
       "      <td>Customer-Journey-Typology relating to the pref...</td>\n",
       "      <td>relating to the preferred information, marketi...</td>\n",
       "    </tr>\n",
       "    <tr>\n",
       "      <th>4</th>\n",
       "      <td>Person</td>\n",
       "      <td>FINANZ_MINIMALIST</td>\n",
       "      <td>financial typology: low financial interest</td>\n",
       "      <td>Gfk-Typology based on a representative househo...</td>\n",
       "    </tr>\n",
       "  </tbody>\n",
       "</table>\n",
       "</div>"
      ],
      "text/plain": [
       "  Information level             Attribute  \\\n",
       "0               NaN              AGER_TYP   \n",
       "1            Person  ALTERSKATEGORIE_GROB   \n",
       "2            Person             ANREDE_KZ   \n",
       "3            Person         CJT_GESAMTTYP   \n",
       "4            Person     FINANZ_MINIMALIST   \n",
       "\n",
       "                                         Description  \\\n",
       "0                                 best-ager typology   \n",
       "1                      age through prename analysis    \n",
       "2                                             gender   \n",
       "3  Customer-Journey-Typology relating to the pref...   \n",
       "4         financial typology: low financial interest   \n",
       "\n",
       "                                    Additional notes  \n",
       "0  in cooperation with Kantar TNS; the informatio...  \n",
       "1  modelled on millions of first name-age-referen...  \n",
       "2                                                NaN  \n",
       "3  relating to the preferred information, marketi...  \n",
       "4  Gfk-Typology based on a representative househo...  "
      ]
     },
     "execution_count": 15,
     "metadata": {},
     "output_type": "execute_result"
    }
   ],
   "source": [
    "# attributes dataset\n",
    "attributes_df = pd.read_excel('DIAS Information Levels - Attributes 2017.xlsx', header=1, index_col=[1]).reset_index()\n",
    "del attributes_df['Unnamed: 0']\n",
    "attributes_df.head()"
   ]
  },
  {
   "cell_type": "code",
   "execution_count": 16,
   "metadata": {},
   "outputs": [
    {
     "name": "stdout",
     "output_type": "stream",
     "text": [
      "<class 'pandas.core.frame.DataFrame'>\n",
      "RangeIndex: 313 entries, 0 to 312\n",
      "Data columns (total 4 columns):\n",
      "Information level    312 non-null object\n",
      "Attribute            313 non-null object\n",
      "Description          313 non-null object\n",
      "Additional notes     20 non-null object\n",
      "dtypes: object(4)\n",
      "memory usage: 9.9+ KB\n"
     ]
    }
   ],
   "source": [
    "attributes_df.info()"
   ]
  },
  {
   "cell_type": "markdown",
   "metadata": {},
   "source": [
    "#### Load values dataset"
   ]
  },
  {
   "cell_type": "code",
   "execution_count": 17,
   "metadata": {},
   "outputs": [
    {
     "data": {
      "text/html": [
       "<div>\n",
       "<style scoped>\n",
       "    .dataframe tbody tr th:only-of-type {\n",
       "        vertical-align: middle;\n",
       "    }\n",
       "\n",
       "    .dataframe tbody tr th {\n",
       "        vertical-align: top;\n",
       "    }\n",
       "\n",
       "    .dataframe thead th {\n",
       "        text-align: right;\n",
       "    }\n",
       "</style>\n",
       "<table border=\"1\" class=\"dataframe\">\n",
       "  <thead>\n",
       "    <tr style=\"text-align: right;\">\n",
       "      <th></th>\n",
       "      <th>Attribute</th>\n",
       "      <th>Description</th>\n",
       "      <th>Value</th>\n",
       "      <th>Meaning</th>\n",
       "    </tr>\n",
       "  </thead>\n",
       "  <tbody>\n",
       "    <tr>\n",
       "      <th>0</th>\n",
       "      <td>AGER_TYP</td>\n",
       "      <td>best-ager typology</td>\n",
       "      <td>-1</td>\n",
       "      <td>unknown</td>\n",
       "    </tr>\n",
       "    <tr>\n",
       "      <th>1</th>\n",
       "      <td>AGER_TYP</td>\n",
       "      <td>best-ager typology</td>\n",
       "      <td>0</td>\n",
       "      <td>no classification possible</td>\n",
       "    </tr>\n",
       "    <tr>\n",
       "      <th>2</th>\n",
       "      <td>AGER_TYP</td>\n",
       "      <td>best-ager typology</td>\n",
       "      <td>1</td>\n",
       "      <td>passive elderly</td>\n",
       "    </tr>\n",
       "    <tr>\n",
       "      <th>3</th>\n",
       "      <td>AGER_TYP</td>\n",
       "      <td>best-ager typology</td>\n",
       "      <td>2</td>\n",
       "      <td>cultural elderly</td>\n",
       "    </tr>\n",
       "    <tr>\n",
       "      <th>4</th>\n",
       "      <td>AGER_TYP</td>\n",
       "      <td>best-ager typology</td>\n",
       "      <td>3</td>\n",
       "      <td>experience-driven elderly</td>\n",
       "    </tr>\n",
       "  </tbody>\n",
       "</table>\n",
       "</div>"
      ],
      "text/plain": [
       "  Attribute         Description Value                     Meaning\n",
       "0  AGER_TYP  best-ager typology    -1                     unknown\n",
       "1  AGER_TYP  best-ager typology     0  no classification possible\n",
       "2  AGER_TYP  best-ager typology     1             passive elderly\n",
       "3  AGER_TYP  best-ager typology     2            cultural elderly\n",
       "4  AGER_TYP  best-ager typology     3   experience-driven elderly"
      ]
     },
     "execution_count": 17,
     "metadata": {},
     "output_type": "execute_result"
    }
   ],
   "source": [
    "# values dataset\n",
    "values_df = pd.read_excel('DIAS Attributes - Values 2017.xlsx', header=1, index_col=[1,2]).reset_index()\n",
    "del values_df['Unnamed: 0']\n",
    "values_df.head()"
   ]
  },
  {
   "cell_type": "code",
   "execution_count": 18,
   "metadata": {},
   "outputs": [
    {
     "name": "stdout",
     "output_type": "stream",
     "text": [
      "<class 'pandas.core.frame.DataFrame'>\n",
      "RangeIndex: 2258 entries, 0 to 2257\n",
      "Data columns (total 4 columns):\n",
      "Attribute      2258 non-null object\n",
      "Description    2258 non-null object\n",
      "Value          2258 non-null object\n",
      "Meaning        2247 non-null object\n",
      "dtypes: object(4)\n",
      "memory usage: 70.6+ KB\n"
     ]
    }
   ],
   "source": [
    "values_df.info()"
   ]
  },
  {
   "cell_type": "code",
   "execution_count": 19,
   "metadata": {},
   "outputs": [
    {
     "data": {
      "text/plain": [
       "array(['BIP_FLAG', 'D19_BANKEN_ANZ_12', 'D19_BANKEN_ANZ_24',\n",
       "       'D19_GESAMT_ANZ_12', 'D19_GESAMT_ANZ_24', 'D19_LOTTO_RZ',\n",
       "       'D19_TELKO_ANZ_12', 'D19_TELKO_ANZ_24', 'D19_VERSAND_ANZ_12',\n",
       "       'D19_VERSAND_ANZ_24', 'D19_VERSI_ANZ_12', 'D19_VERSI_ANZ_24',\n",
       "       'KBA13_CCM_3000', 'KBA13_CCM_3001'], dtype=object)"
      ]
     },
     "execution_count": 19,
     "metadata": {},
     "output_type": "execute_result"
    }
   ],
   "source": [
    "# values_df only\n",
    "np.setdiff1d(values_df.Attribute.unique(), attributes_df.Attribute)"
   ]
  },
  {
   "cell_type": "code",
   "execution_count": 20,
   "metadata": {},
   "outputs": [
    {
     "data": {
      "text/plain": [
       "array(['ARBEIT', 'D19_BANKEN_ ANZ_12             D19_BANKEN_ ANZ_24',\n",
       "       'D19_GESAMT_ANZ_12                                    D19_GESAMT_ANZ_24',\n",
       "       'D19_TELKO_ ANZ_12                  D19_TELKO_ ANZ_24',\n",
       "       'D19_VERSAND_ ANZ_12          D19_VERSAND_ ANZ_24',\n",
       "       'D19_VERSI_ ANZ_12                                       D19_VERSI_ ANZ_24',\n",
       "       'D19_VERSI_DATUM', 'D19_VERSI_OFFLINE_DATUM',\n",
       "       'D19_VERSI_ONLINE_DATUM', 'EINWOHNER', 'GKZ', 'PLZ', 'PLZ8'],\n",
       "      dtype=object)"
      ]
     },
     "execution_count": 20,
     "metadata": {},
     "output_type": "execute_result"
    }
   ],
   "source": [
    "# attributes_df only\n",
    "np.setdiff1d(attributes_df.Attribute, values_df.Attribute.unique())"
   ]
  },
  {
   "cell_type": "markdown",
   "metadata": {},
   "source": [
    "From above, we can find attributes dataset features not normalized. We will use values dataset to query data, and merge attributes dataset feature to values.\n",
    "\n",
    "Create `attr_only_attributes_not_values` to hold features only in `attributes_df` and not in `values_df`."
   ]
  },
  {
   "cell_type": "code",
   "execution_count": 21,
   "metadata": {},
   "outputs": [],
   "source": [
    "attr_only_attributes_not_values = np.array(['ARBEIT', 'D19_VERSI_DATUM', 'D19_VERSI_OFFLINE_DATUM', 'D19_VERSI_ONLINE_DATUM', 'EINWOHNER', 'GKZ', 'PLZ', 'PLZ8'])"
   ]
  },
  {
   "cell_type": "markdown",
   "metadata": {},
   "source": [
    "creqte `annot_attribute` as combined features from `vlaues_df` and `attributes_df`."
   ]
  },
  {
   "cell_type": "code",
   "execution_count": 22,
   "metadata": {},
   "outputs": [],
   "source": [
    "annot_attribute = np.union1d(values_df.Attribute.unique(), attr_only_attributes_not_values)"
   ]
  },
  {
   "cell_type": "code",
   "execution_count": 23,
   "metadata": {},
   "outputs": [
    {
     "data": {
      "text/plain": [
       "322"
      ]
     },
     "execution_count": 23,
     "metadata": {},
     "output_type": "execute_result"
    }
   ],
   "source": [
    "annot_attribute.size"
   ]
  },
  {
   "cell_type": "markdown",
   "metadata": {},
   "source": [
    "We found `only_attr_customers` not in `annot_attribute`"
   ]
  },
  {
   "cell_type": "code",
   "execution_count": 24,
   "metadata": {},
   "outputs": [
    {
     "data": {
      "text/plain": [
       "array([False, False, False])"
      ]
     },
     "execution_count": 24,
     "metadata": {},
     "output_type": "execute_result"
    }
   ],
   "source": [
    "np.isin(only_attr_customers, values_df.Attribute)"
   ]
  },
  {
   "cell_type": "markdown",
   "metadata": {},
   "source": [
    "#### Analyze feature type\n",
    "\n",
    "Fina all value of `values_df`\n",
    "\n",
    "We create below variable to hold different type of features.\n",
    "\n",
    "| variable                   | feature type     |\n",
    "|----------------------------|------------------|\n",
    "| `bin_cat_annot_attribute`  | binary categor   |\n",
    "| `nom_cat_annot_attribute`  | nominal category |\n",
    "| `ord_cat_annot_attribute`  | ordinal category |\n",
    "| `mix_cat_annot_attribute`  | mix caztegory    |\n",
    "| `num_annot_attribute`      | quantitative     |\n",
    "| `unused_annot_attribute`   | unused           |"
   ]
  },
  {
   "cell_type": "code",
   "execution_count": 25,
   "metadata": {},
   "outputs": [],
   "source": [
    "bin_cat_annot_attribute = np.array(['ANREDE_KZ', 'GREEN_AVANTGARDE', 'OST_WEST_KZ', 'VERS_TYP'])\n",
    "\n",
    "nom_cat_annot_attribute = np.array(['CAMEO_DEUG_2015', 'CAMEO_DEU_2015', 'CJT_GESAMTTYP', 'FINANZTYP',\n",
    "       'GEBAEUDETYP', 'GFK_URLAUBERTYP', 'LP_FAMILIE_FEIN',\n",
    "       'LP_FAMILIE_GROB', 'NATIONALITAET_KZ', 'SHOPPER_TYP', 'TITEL_KZ',\n",
    "       'ZABEOTYP'])\n",
    "\n",
    "ord_cat_annot_attribute = np.array(['AGER_TYP', 'ALTERSKATEGORIE_GROB', 'ALTER_HH', 'ARBEIT',\n",
    "       'BALLRAUM', 'D19_BANKEN_ANZ_12', 'D19_BANKEN_ANZ_24',\n",
    "       'D19_BANKEN_DATUM', 'D19_BANKEN_OFFLINE_DATUM',\n",
    "       'D19_BANKEN_ONLINE_DATUM', 'D19_BANKEN_ONLINE_QUOTE_12',\n",
    "       'D19_GESAMT_ANZ_12', 'D19_GESAMT_ANZ_24', 'D19_GESAMT_DATUM',\n",
    "       'D19_GESAMT_OFFLINE_DATUM', 'D19_GESAMT_ONLINE_DATUM',\n",
    "       'D19_GESAMT_ONLINE_QUOTE_12', 'D19_KONSUMTYP', 'D19_TELKO_ANZ_12',\n",
    "       'D19_TELKO_ANZ_24', 'D19_TELKO_DATUM', 'D19_TELKO_OFFLINE_DATUM',\n",
    "       'D19_TELKO_ONLINE_DATUM', 'D19_VERSAND_ANZ_12',\n",
    "       'D19_VERSAND_ANZ_24', 'D19_VERSAND_DATUM',\n",
    "       'D19_VERSAND_OFFLINE_DATUM', 'D19_VERSAND_ONLINE_DATUM',\n",
    "       'D19_VERSAND_ONLINE_QUOTE_12', 'D19_VERSI_ANZ_12',\n",
    "       'D19_VERSI_ANZ_24', 'D19_VERSI_DATUM', 'D19_VERSI_OFFLINE_DATUM',\n",
    "       'D19_VERSI_ONLINE_DATUM', 'EWDICHTE', 'FINANZ_ANLEGER',\n",
    "       'FINANZ_HAUSBAUER', 'FINANZ_MINIMALIST', 'FINANZ_SPARER',\n",
    "       'FINANZ_UNAUFFAELLIGER', 'FINANZ_VORSORGER', 'GEBAEUDETYP_RASTER',\n",
    "       'HEALTH_TYP', 'HH_EINKOMMEN_SCORE', 'INNENSTADT', 'KBA05_ALTER1',\n",
    "       'KBA05_ALTER2', 'KBA05_ALTER3', 'KBA05_ALTER4', 'KBA05_ANHANG',\n",
    "       'KBA05_ANTG1', 'KBA05_ANTG2', 'KBA05_ANTG3', 'KBA05_ANTG4',\n",
    "       'KBA05_AUTOQUOT', 'KBA05_BAUMAX', 'KBA05_CCM1', 'KBA05_CCM2',\n",
    "       'KBA05_CCM3', 'KBA05_CCM4', 'KBA05_DIESEL', 'KBA05_FRAU',\n",
    "       'KBA05_GBZ', 'KBA05_HERST1', 'KBA05_HERST2', 'KBA05_HERST3',\n",
    "       'KBA05_HERST4', 'KBA05_HERST5', 'KBA05_HERSTTEMP',\n",
    "       'KBA05_KRSAQUOT', 'KBA05_KRSHERST1', 'KBA05_KRSHERST2',\n",
    "       'KBA05_KRSHERST3', 'KBA05_KRSKLEIN', 'KBA05_KRSOBER',\n",
    "       'KBA05_KRSVAN', 'KBA05_KRSZUL', 'KBA05_KW1', 'KBA05_KW2',\n",
    "       'KBA05_KW3', 'KBA05_MAXAH', 'KBA05_MAXBJ', 'KBA05_MAXHERST',\n",
    "       'KBA05_MAXSEG', 'KBA05_MAXVORB', 'KBA05_MOD1', 'KBA05_MOD2',\n",
    "       'KBA05_MOD3', 'KBA05_MOD4', 'KBA05_MOD8', 'KBA05_MODTEMP',\n",
    "       'KBA05_MOTOR', 'KBA05_MOTRAD', 'KBA05_SEG1', 'KBA05_SEG10',\n",
    "       'KBA05_SEG2', 'KBA05_SEG3', 'KBA05_SEG4', 'KBA05_SEG5',\n",
    "       'KBA05_SEG6', 'KBA05_SEG7', 'KBA05_SEG8', 'KBA05_SEG9',\n",
    "       'KBA05_VORB0', 'KBA05_VORB1', 'KBA05_VORB2', 'KBA05_ZUL1',\n",
    "       'KBA05_ZUL2', 'KBA05_ZUL3', 'KBA05_ZUL4', 'KBA13_ALTERHALTER_30',\n",
    "       'KBA13_ALTERHALTER_45', 'KBA13_ALTERHALTER_60',\n",
    "       'KBA13_ALTERHALTER_61', 'KBA13_AUDI', 'KBA13_AUTOQUOTE',\n",
    "       'KBA13_BJ_1999', 'KBA13_BJ_2000', 'KBA13_BJ_2004', 'KBA13_BJ_2006',\n",
    "       'KBA13_BJ_2008', 'KBA13_BJ_2009', 'KBA13_BMW', 'KBA13_CCM_0_1400',\n",
    "       'KBA13_CCM_1000', 'KBA13_CCM_1200', 'KBA13_CCM_1400',\n",
    "       'KBA13_CCM_1500', 'KBA13_CCM_1600', 'KBA13_CCM_1800',\n",
    "       'KBA13_CCM_2000', 'KBA13_CCM_2500', 'KBA13_CCM_2501',\n",
    "       'KBA13_CCM_3000', 'KBA13_CCM_3001', 'KBA13_FAB_ASIEN',\n",
    "       'KBA13_FAB_SONSTIGE', 'KBA13_FIAT', 'KBA13_FORD',\n",
    "       'KBA13_HALTER_20', 'KBA13_HALTER_25', 'KBA13_HALTER_30',\n",
    "       'KBA13_HALTER_35', 'KBA13_HALTER_40', 'KBA13_HALTER_45',\n",
    "       'KBA13_HALTER_50', 'KBA13_HALTER_55', 'KBA13_HALTER_60',\n",
    "       'KBA13_HALTER_65', 'KBA13_HALTER_66', 'KBA13_HERST_ASIEN',\n",
    "       'KBA13_HERST_AUDI_VW', 'KBA13_HERST_BMW_BENZ',\n",
    "       'KBA13_HERST_EUROPA', 'KBA13_HERST_FORD_OPEL', 'KBA13_HERST_SONST',\n",
    "       'KBA13_KMH_0_140', 'KBA13_KMH_110', 'KBA13_KMH_140',\n",
    "       'KBA13_KMH_140_210', 'KBA13_KMH_180', 'KBA13_KMH_211',\n",
    "       'KBA13_KMH_250', 'KBA13_KMH_251', 'KBA13_KRSAQUOT',\n",
    "       'KBA13_KRSHERST_AUDI_VW', 'KBA13_KRSHERST_BMW_BENZ',\n",
    "       'KBA13_KRSHERST_FORD_OPEL', 'KBA13_KRSSEG_KLEIN',\n",
    "       'KBA13_KRSSEG_OBER', 'KBA13_KRSSEG_VAN', 'KBA13_KRSZUL_NEU',\n",
    "       'KBA13_KW_0_60', 'KBA13_KW_110', 'KBA13_KW_120', 'KBA13_KW_121',\n",
    "       'KBA13_KW_30', 'KBA13_KW_40', 'KBA13_KW_50', 'KBA13_KW_60',\n",
    "       'KBA13_KW_61_120', 'KBA13_KW_70', 'KBA13_KW_80', 'KBA13_KW_90',\n",
    "       'KBA13_MAZDA', 'KBA13_MERCEDES', 'KBA13_MOTOR', 'KBA13_NISSAN',\n",
    "       'KBA13_OPEL', 'KBA13_PEUGEOT', 'KBA13_RENAULT',\n",
    "       'KBA13_SEG_GELAENDEWAGEN', 'KBA13_SEG_GROSSRAUMVANS',\n",
    "       'KBA13_SEG_KLEINST', 'KBA13_SEG_KLEINWAGEN',\n",
    "       'KBA13_SEG_KOMPAKTKLASSE', 'KBA13_SEG_MINIVANS',\n",
    "       'KBA13_SEG_MINIWAGEN', 'KBA13_SEG_MITTELKLASSE',\n",
    "       'KBA13_SEG_OBEREMITTELKLASSE', 'KBA13_SEG_OBERKLASSE',\n",
    "       'KBA13_SEG_SONSTIGE', 'KBA13_SEG_SPORTWAGEN',\n",
    "       'KBA13_SEG_UTILITIES', 'KBA13_SEG_VAN', 'KBA13_SEG_WOHNMOBILE',\n",
    "       'KBA13_SITZE_4', 'KBA13_SITZE_5', 'KBA13_SITZE_6', 'KBA13_TOYOTA',\n",
    "       'KBA13_VORB_0', 'KBA13_VORB_1', 'KBA13_VORB_1_2', 'KBA13_VORB_2',\n",
    "       'KBA13_VORB_3', 'KBA13_VW', 'KKK', 'KONSUMNAEHE', 'LP_STATUS_FEIN',\n",
    "       'LP_STATUS_GROB', 'MOBI_REGIO', 'ONLINE_AFFINITAET', 'ORTSGR_KLS9',\n",
    "       'PLZ8_ANTG1', 'PLZ8_ANTG2', 'PLZ8_ANTG3', 'PLZ8_ANTG4',\n",
    "       'PLZ8_BAUMAX', 'PLZ8_GBZ', 'PLZ8_HHZ', 'REGIOTYP', 'RELAT_AB',\n",
    "       'RETOURTYP_BK_S', 'SEMIO_DOM', 'SEMIO_ERL', 'SEMIO_FAM',\n",
    "       'SEMIO_KAEM', 'SEMIO_KRIT', 'SEMIO_KULT', 'SEMIO_LUST',\n",
    "       'SEMIO_MAT', 'SEMIO_PFLICHT', 'SEMIO_RAT', 'SEMIO_REL',\n",
    "       'SEMIO_SOZ', 'SEMIO_TRADV', 'SEMIO_VERT', 'WOHNDAUER_2008',\n",
    "       'W_KEIT_KIND_HH'])\n",
    "\n",
    "mix_cat_annot_attribute = np.array(['LP_LEBENSPHASE_FEIN', 'LP_LEBENSPHASE_GROB',\n",
    "       'PRAEGENDE_JUGENDJAHRE', 'WOHNLAGE'])\n",
    "\n",
    "num_annot_attribute = np.array(['ANZ_HAUSHALTE_AKTIV', 'ANZ_HH_TITEL', 'ANZ_PERSONEN', 'ANZ_TITEL', 'GEBURTSJAHR', 'KBA13_ANZAHL_PKW', 'MIN_GEBAEUDEJAHR'])"
   ]
  },
  {
   "cell_type": "code",
   "execution_count": 26,
   "metadata": {},
   "outputs": [
    {
     "data": {
      "text/plain": [
       "276"
      ]
     },
     "execution_count": 26,
     "metadata": {},
     "output_type": "execute_result"
    }
   ],
   "source": [
    "num_annot_attribute.size + bin_cat_annot_attribute.size + nom_cat_annot_attribute.size + ord_cat_annot_attribute.size + mix_cat_annot_attribute.size"
   ]
  },
  {
   "cell_type": "code",
   "execution_count": 27,
   "metadata": {},
   "outputs": [],
   "source": [
    "unused_annot_attribute = np.setdiff1d(annot_attribute, np.union1d(np.union1d(np.union1d(np.union1d(num_annot_attribute, bin_cat_annot_attribute), nom_cat_annot_attribute), ord_cat_annot_attribute), mix_cat_annot_attribute))"
   ]
  },
  {
   "cell_type": "code",
   "execution_count": 28,
   "metadata": {},
   "outputs": [],
   "source": [
    "assert annot_attribute.size == num_annot_attribute.size + bin_cat_annot_attribute.size + nom_cat_annot_attribute.size + ord_cat_annot_attribute.size + mix_cat_annot_attribute.size + unused_annot_attribute.size"
   ]
  },
  {
   "cell_type": "markdown",
   "metadata": {},
   "source": [
    "#### Analyze unknown value"
   ]
  },
  {
   "cell_type": "markdown",
   "metadata": {},
   "source": [
    "list all possible unknown meaning string"
   ]
  },
  {
   "cell_type": "code",
   "execution_count": 29,
   "metadata": {},
   "outputs": [
    {
     "data": {
      "text/plain": [
       "array(['unknown', 'unknown / no main age detectable',\n",
       "       'no transactions known', 'no transaction known',\n",
       "       'residental building buildings without actually known household',\n",
       "       'mixed building without actually known household or comapny ',\n",
       "       'company building w/o known company ',\n",
       "       'mixed building without actually known household ',\n",
       "       'mixed building without actually known company ', nan],\n",
       "      dtype=object)"
      ]
     },
     "execution_count": 29,
     "metadata": {},
     "output_type": "execute_result"
    }
   ],
   "source": [
    "values_df.loc[np.where(values_df.Meaning.str.contains('know'))].Meaning.unique()"
   ]
  },
  {
   "cell_type": "markdown",
   "metadata": {},
   "source": [
    "We create below variable to hold different type of unknow value dataframe.\n",
    "\n",
    "| variable                         | meaning                          |\n",
    "|----------------------------------|----------------------------------|\n",
    "| `unknown_values_df`              | unknown                          |\n",
    "| `main_age_unknown_values_df`     | unknown / no main age detectable |\n",
    "| `transactions_unknown_values_df` | no transactions know             |\n",
    "| `transaction_unknown_values_df`  | no transaction known             |"
   ]
  },
  {
   "cell_type": "code",
   "execution_count": 30,
   "metadata": {},
   "outputs": [],
   "source": [
    "unknown_values_df = values_df[values_df.Meaning == 'unknown']\n",
    "main_age_unknown_values_df = values_df[values_df.Meaning == 'unknown / no main age detectable']\n",
    "transactions_unknown_values_df = values_df[values_df.Meaning == 'no transactions known']\n",
    "transaction_unknown_values_df = values_df[values_df.Meaning == 'no transaction known']"
   ]
  },
  {
   "cell_type": "markdown",
   "metadata": {},
   "source": [
    "### Data Exploration - customers vs. values\n",
    "\n",
    "#### COLUMN Veiewpoint\n",
    "\n",
    "We create below variable to hold common features of `customers_df` and `annot_atribute`.\n",
    "\n",
    "| variable                          |                                                          |\n",
    "|-----------------------------------|----------------------------------------------------------|\n",
    "| `annot_attr_customers_values`     | common features of `customer_df` and `annot_attribute`   |\n",
    "| `not_annot_attr_customers_values` | distinct features of `customer_df` and `annot_attribute` |"
   ]
  },
  {
   "cell_type": "code",
   "execution_count": 31,
   "metadata": {},
   "outputs": [],
   "source": [
    "annot_attr_customers_values = np.intersect1d(customers_df.columns.values, annot_attribute)\n",
    "not_annot_attr_customers_values = np.setdiff1d(customers_df.columns.values, annot_attr_customers_values)"
   ]
  },
  {
   "cell_type": "code",
   "execution_count": 32,
   "metadata": {},
   "outputs": [],
   "source": [
    "assert customers_df.columns.values.size == annot_attr_customers_values.size + not_annot_attr_customers_values.size"
   ]
  },
  {
   "cell_type": "code",
   "execution_count": 33,
   "metadata": {},
   "outputs": [
    {
     "name": "stdout",
     "output_type": "stream",
     "text": [
      "<class 'pandas.core.frame.DataFrame'>\n",
      "RangeIndex: 191652 entries, 0 to 191651\n",
      "Columns: 276 entries, AGER_TYP to ZABEOTYP\n",
      "dtypes: float64(216), int64(57), object(3)\n",
      "memory usage: 403.6+ MB\n"
     ]
    }
   ],
   "source": [
    "customers_df[annot_attr_customers_values].info()"
   ]
  },
  {
   "cell_type": "markdown",
   "metadata": {},
   "source": [
    "#### Check missing value"
   ]
  },
  {
   "cell_type": "code",
   "execution_count": 85,
   "metadata": {},
   "outputs": [
    {
     "data": {
      "image/png": "[encoded data removed]",
      "text/plain": [
       "<Figure size 432x288 with 1 Axes>"
      ]
     },
     "metadata": {
      "needs_background": "light"
     },
     "output_type": "display_data"
    }
   ],
   "source": [
    "customers_df[annot_attr_customers_values].isnull().mean().hist()\n",
    "plt.xlabel('Missing value - customer %')\n",
    "plt.ylabel('feature')\n",
    "plt.show()"
   ]
  },
  {
   "cell_type": "markdown",
   "metadata": {},
   "source": [
    "We can find all customers have missing value among documented features are less than 30%."
   ]
  },
  {
   "cell_type": "markdown",
   "metadata": {},
   "source": [
    "CUSTOMER DROP CRITERIA: __missing value customers % > 30%__"
   ]
  },
  {
   "cell_type": "code",
   "execution_count": 35,
   "metadata": {},
   "outputs": [],
   "source": [
    "FEATURE_DROP_RATIO=.3"
   ]
  },
  {
   "cell_type": "markdown",
   "metadata": {},
   "source": [
    "We create below variable to hold diffent type of feature in `customers_df`\n",
    "\n",
    "| variable                            |                                                  |\n",
    "|-------------------------------------|--------------------------------------------------|\n",
    "| `customers_bin_cat_annot_attribute` | hold `bin_cat_annot_attribute` in `values_df`    |\n",
    "| `customers_nom_cat_annot_attribute` | hold `nom_cat_annot_attribute` in `values_df`    |\n",
    "| `customers_ord_cat_annot_attribute` | hold `ord_cat_annot_attribute` in `values_df`    |\n",
    "| `customers_mix_cat_annot_attribute` | hold `mix_cat_annot_attribute` in `values_df`    |\n",
    "| `customers_num_annot_attribute`     | hold `num_annot_attribute` in `values_df`        |\n",
    "| `customers_unused_annot_attribute`  | hold unused features in `values_df`              |"
   ]
  },
  {
   "cell_type": "code",
   "execution_count": 36,
   "metadata": {},
   "outputs": [],
   "source": [
    "customers_unused_annot_attribute = annot_attr_customers_values[customers_df[annot_attr_customers_values].isnull().mean() > FEATURE_DROP_RATIO]"
   ]
  },
  {
   "cell_type": "code",
   "execution_count": 37,
   "metadata": {},
   "outputs": [
    {
     "data": {
      "text/plain": [
       "0"
      ]
     },
     "execution_count": 37,
     "metadata": {},
     "output_type": "execute_result"
    }
   ],
   "source": [
    "customers_unused_annot_attribute.size"
   ]
  },
  {
   "cell_type": "markdown",
   "metadata": {},
   "source": [
    "#### Check `customers_bin_cat_annot_attribute`"
   ]
  },
  {
   "cell_type": "code",
   "execution_count": 38,
   "metadata": {},
   "outputs": [],
   "source": [
    "customers_bin_cat_annot_attribute = np.intersect1d(annot_attr_customers_values, bin_cat_annot_attribute)\n",
    "customers_bin_cat_annot_attribute = np.setdiff1d(customers_bin_cat_annot_attribute, customers_unused_annot_attribute)"
   ]
  },
  {
   "cell_type": "code",
   "execution_count": 39,
   "metadata": {},
   "outputs": [
    {
     "data": {
      "text/plain": [
       "array(['ANREDE_KZ', 'GREEN_AVANTGARDE', 'OST_WEST_KZ', 'VERS_TYP'],\n",
       "      dtype=object)"
      ]
     },
     "execution_count": 39,
     "metadata": {},
     "output_type": "execute_result"
    }
   ],
   "source": [
    "customers_bin_cat_annot_attribute"
   ]
  },
  {
   "cell_type": "code",
   "execution_count": 40,
   "metadata": {},
   "outputs": [],
   "source": [
    "for col in customers_bin_cat_annot_attribute:\n",
    "    v1 = customers_df[col].dropna().unique()\n",
    "    if col == 'OST_WEST_KZ':\n",
    "        v2 = values_df[values_df.Attribute == col]['Value'].dropna().apply(lambda x: np.nan if x == -1 else x).dropna().values\n",
    "    else:\n",
    "        v2 = np.hstack(values_df[values_df.Attribute == col]['Value'].dropna().apply(lambda x: x if not isinstance(x, str) else x.split(','))).astype(int)\n",
    "    v = np.setdiff1d(v1, v2)\n",
    "    if v.size > 0:\n",
    "        print('{} feature has undocumented value: {}'.format(col, v))"
   ]
  },
  {
   "cell_type": "markdown",
   "metadata": {},
   "source": [
    "#### Check `customers_nom_cat_annot_attribute`"
   ]
  },
  {
   "cell_type": "code",
   "execution_count": 41,
   "metadata": {},
   "outputs": [],
   "source": [
    "customers_nom_cat_annot_attribute = np.intersect1d(annot_attr_customers_values, nom_cat_annot_attribute)\n",
    "customers_nom_cat_annot_attribute = np.setdiff1d(customers_nom_cat_annot_attribute, customers_unused_annot_attribute)"
   ]
  },
  {
   "cell_type": "code",
   "execution_count": 42,
   "metadata": {},
   "outputs": [
    {
     "data": {
      "text/plain": [
       "array(['CAMEO_DEUG_2015', 'CAMEO_DEU_2015', 'CJT_GESAMTTYP', 'FINANZTYP',\n",
       "       'GEBAEUDETYP', 'GFK_URLAUBERTYP', 'LP_FAMILIE_FEIN',\n",
       "       'LP_FAMILIE_GROB', 'NATIONALITAET_KZ', 'SHOPPER_TYP', 'TITEL_KZ',\n",
       "       'ZABEOTYP'], dtype=object)"
      ]
     },
     "execution_count": 42,
     "metadata": {},
     "output_type": "execute_result"
    }
   ],
   "source": [
    "customers_nom_cat_annot_attribute"
   ]
  },
  {
   "cell_type": "code",
   "execution_count": 45,
   "metadata": {},
   "outputs": [
    {
     "name": "stdout",
     "output_type": "stream",
     "text": [
      "CAMEO_DEUG_2015 feature has unknown value: ['1' '2' '3' '4' '5' '6' '7' '8' '9' 'X']\n",
      "CAMEO_DEU_2015 feature has undocumented value: ['XX']\n",
      "LP_FAMILIE_FEIN feature has undocumented value: [0.]\n",
      "LP_FAMILIE_GROB feature has undocumented value: [0.]\n"
     ]
    }
   ],
   "source": [
    "for col in customers_nom_cat_annot_attribute:\n",
    "    \n",
    "    unknown_v = []\n",
    "    if col == 'CAMEO_DEUG_2015':\n",
    "        v1 = customers_df[col].dropna().apply(lambda x: unknown_v.append(x) if isinstance(x, str) else int(x)).dropna().unique()\n",
    "    else:\n",
    "        v1 = customers_df[col].dropna().unique()\n",
    "\n",
    "    if col == 'CAMEO_DEUG_2015' or col == 'CAMEO_DEU_2015':\n",
    "        v2 = values_df[values_df.Attribute == col]['Value'].values\n",
    "    else:\n",
    "        v2 = np.hstack(values_df[values_df.Attribute == col]['Value'].dropna().apply(lambda x: x if not isinstance(x, str) else x.split(','))).astype(int)\n",
    "    \n",
    "    v = np.setdiff1d(v1, v2)\n",
    "    unknown_v = np.unique(np.array(unknown_v))\n",
    "    \n",
    "    if len(unknown_v) > 0:\n",
    "        print('{} feature has unknown value: {}'.format(col, unknown_v))\n",
    "    if v.size > 0:\n",
    "        print('{} feature has undocumented value: {}'.format(col, v))"
   ]
  },
  {
   "cell_type": "markdown",
   "metadata": {},
   "source": [
    "#### Check `ord_cat_annot_attribute`"
   ]
  },
  {
   "cell_type": "code",
   "execution_count": 46,
   "metadata": {},
   "outputs": [],
   "source": [
    "customers_ord_cat_annot_attribute = np.intersect1d(annot_attr_customers_values, ord_cat_annot_attribute)\n",
    "customers_ord_cat_annot_attribute = np.setdiff1d(customers_ord_cat_annot_attribute, customers_unused_annot_attribute)"
   ]
  },
  {
   "cell_type": "code",
   "execution_count": 47,
   "metadata": {},
   "outputs": [
    {
     "data": {
      "text/plain": [
       "249"
      ]
     },
     "execution_count": 47,
     "metadata": {},
     "output_type": "execute_result"
    }
   ],
   "source": [
    "customers_ord_cat_annot_attribute.size"
   ]
  },
  {
   "cell_type": "code",
   "execution_count": 48,
   "metadata": {},
   "outputs": [
    {
     "name": "stdout",
     "output_type": "stream",
     "text": [
      "ARBEIT feature has undocumented value: [1. 2. 3. 4. 5. 9.]\n",
      "KBA05_MODTEMP feature has undocumented value: [6.]\n"
     ]
    }
   ],
   "source": [
    "for col in customers_ord_cat_annot_attribute:\n",
    "\n",
    "    unknown_v = []\n",
    "    v1 = customers_df[col].dropna().apply(lambda x: unknown_v.append(x) if isinstance(x, str) else x).dropna().unique()\n",
    "\n",
    "    # assue value of 'D19_VERSI_OFFLINE_DATUM', 'D19_VERSI_ONLINE_DATUM', 'D19_VERSI_DATUM' are as same as 'D19_BANKEN_DATUM'\n",
    "    if col in ['D19_VERSI_OFFLINE_DATUM', 'D19_VERSI_ONLINE_DATUM', 'D19_VERSI_DATUM']:\n",
    "        col = 'D19_BANKEN_DATUM'\n",
    "    \n",
    "    if values_df[values_df.Attribute == col].shape[0] > 0:\n",
    "        v2 = np.hstack(values_df[values_df.Attribute == col]['Value'].apply(lambda x: list(map(int, x.split(','))) if isinstance(x, str) else x).values)\n",
    "    else:\n",
    "        v2 = np.array([])\n",
    "\n",
    "    v = np.setdiff1d(v1, v2)\n",
    "    unknown_v = np.unique(np.array(unknown_v))\n",
    "    \n",
    "    if len(unknown_v) > 0:\n",
    "        print('{} feature has unknown value: {}'.format(col, unknown_v))\n",
    "    if v.size > 0:\n",
    "        print('{} feature has undocumented value: {}'.format(col, v))"
   ]
  },
  {
   "cell_type": "markdown",
   "metadata": {},
   "source": [
    "#### Check `customers_mix_cat_annot_attribute`"
   ]
  },
  {
   "cell_type": "code",
   "execution_count": 49,
   "metadata": {},
   "outputs": [],
   "source": [
    "customers_mix_cat_annot_attribute = np.intersect1d(annot_attr_customers_values, mix_cat_annot_attribute)\n",
    "customers_mix_cat_annot_attribute = np.setdiff1d(customers_mix_cat_annot_attribute, customers_unused_annot_attribute)"
   ]
  },
  {
   "cell_type": "code",
   "execution_count": 50,
   "metadata": {},
   "outputs": [
    {
     "data": {
      "text/plain": [
       "array(['LP_LEBENSPHASE_FEIN', 'LP_LEBENSPHASE_GROB',\n",
       "       'PRAEGENDE_JUGENDJAHRE', 'WOHNLAGE'], dtype=object)"
      ]
     },
     "execution_count": 50,
     "metadata": {},
     "output_type": "execute_result"
    }
   ],
   "source": [
    "customers_mix_cat_annot_attribute"
   ]
  },
  {
   "cell_type": "code",
   "execution_count": 51,
   "metadata": {},
   "outputs": [
    {
     "name": "stdout",
     "output_type": "stream",
     "text": [
      "LP_LEBENSPHASE_FEIN feature has undocumented value: [0.]\n",
      "LP_LEBENSPHASE_GROB feature has undocumented value: [0.]\n"
     ]
    }
   ],
   "source": [
    "for col in customers_mix_cat_annot_attribute:\n",
    "    v1 = customers_df[col].dropna().unique()\n",
    "    v2 = np.hstack(values_df[values_df.Attribute == col]['Value'].dropna().apply(lambda x: x if not isinstance(x, str) else x.split(','))).astype(int)\n",
    "    v = np.setdiff1d(v1, v2)\n",
    "    if v.size > 0:\n",
    "        print('{} feature has undocumented value: {}'.format(col, v))"
   ]
  },
  {
   "cell_type": "markdown",
   "metadata": {},
   "source": [
    "#### Check `num_annot_attribute`"
   ]
  },
  {
   "cell_type": "code",
   "execution_count": 52,
   "metadata": {},
   "outputs": [],
   "source": [
    "customers_num_annot_attribute = np.intersect1d(annot_attr_customers_values, num_annot_attribute)\n",
    "customers_num_annot_attribute = np.setdiff1d(customers_num_annot_attribute, customers_unused_annot_attribute)"
   ]
  },
  {
   "cell_type": "code",
   "execution_count": 53,
   "metadata": {},
   "outputs": [
    {
     "data": {
      "text/plain": [
       "array(['ANZ_HAUSHALTE_AKTIV', 'ANZ_HH_TITEL', 'ANZ_PERSONEN', 'ANZ_TITEL',\n",
       "       'GEBURTSJAHR', 'KBA13_ANZAHL_PKW', 'MIN_GEBAEUDEJAHR'],\n",
       "      dtype=object)"
      ]
     },
     "execution_count": 53,
     "metadata": {},
     "output_type": "execute_result"
    }
   ],
   "source": [
    "customers_num_annot_attribute"
   ]
  },
  {
   "cell_type": "code",
   "execution_count": 54,
   "metadata": {},
   "outputs": [],
   "source": [
    "for col in customers_num_annot_attribute:\n",
    "    if not np.issubdtype(customers_df[col].dtype, np.number):\n",
    "        print('{} is not numberic type'.format(col))"
   ]
  },
  {
   "cell_type": "markdown",
   "metadata": {},
   "source": [
    "#### To fix the error, we will need to ...\n",
    "\n",
    "1. CAMEO_DEUG_2015: **change '1', '2', '3', '4', '5', '6', '7', '8', '9' to integer, and 'X' to NA**\n",
    "1. CAMEO_DEU_2015: **change 'XX' to NA**\n",
    "1. KBA05_MODTEMP: **change 6 to NA**\n",
    "1. LP_FAMILIE_FEIN, LP_FAMILIE_GROB, LP_LEBENSPHASE_FEIN, LP_LEBENSPHASE_GROB: **chagne 0 to NA**\n",
    "1. All other attributes: **convert to integer**"
   ]
  },
  {
   "cell_type": "code",
   "execution_count": 55,
   "metadata": {},
   "outputs": [],
   "source": [
    "assert annot_attr_customers_values.size == customers_bin_cat_annot_attribute.size \\\n",
    "                                            + customers_nom_cat_annot_attribute.size \\\n",
    "                                            + customers_ord_cat_annot_attribute.size \\\n",
    "                                            + customers_mix_cat_annot_attribute.size \\\n",
    "                                            + customers_num_annot_attribute.size \\\n",
    "                                            + customers_unused_annot_attribute.size"
   ]
  },
  {
   "cell_type": "markdown",
   "metadata": {},
   "source": [
    "#### Check unknown value"
   ]
  },
  {
   "cell_type": "markdown",
   "metadata": {},
   "source": [
    "We create below variable to hold diffent type of feature in unknown feature in `customers_df`\n",
    "\n",
    "| variable                                |                                                                           |\n",
    "|-----------------------------------------|---------------------------------------------------------------------------|\n",
    "| `customers_unknown_values_df`              | hold 'unknown' meaning feature in `customers_df`                          |\n",
    "| `customers_main_age_unknown_values_df`     | hold 'unknown / no main age detectable' meaning feature in `customers_df` |\n",
    "| `customers_transactions_unknown_values_df` | hold 'no transactions known' meaning feature in `customers_df`            |\n",
    "| `customers_transaction_unknown_values_df`  | hold 'no transaction known' meaning feature in `customers_df`             |"
   ]
  },
  {
   "cell_type": "code",
   "execution_count": 56,
   "metadata": {},
   "outputs": [
    {
     "name": "stderr",
     "output_type": "stream",
     "text": [
      "/home/fc/anaconda3/lib/python3.7/site-packages/pandas/core/generic.py:5096: SettingWithCopyWarning: \n",
      "A value is trying to be set on a copy of a slice from a DataFrame.\n",
      "Try using .loc[row_indexer,col_indexer] = value instead\n",
      "\n",
      "See the caveats in the documentation: http://pandas.pydata.org/pandas-docs/stable/indexing.html#indexing-view-versus-copy\n",
      "  self[name] = value\n"
     ]
    }
   ],
   "source": [
    "customers_unknown_values_df = unknown_values_df[np.isin(unknown_values_df.Attribute, np.setdiff1d(customers_df.columns, customers_unused_annot_attribute))]\n",
    "\n",
    "customers_main_age_unknown_values_df = main_age_unknown_values_df[np.isin(main_age_unknown_values_df.Attribute, np.setdiff1d(customers_df.columns, customers_unused_annot_attribute))]\n",
    "\n",
    "customers_transactions_unknown_values_df = transactions_unknown_values_df[np.isin(transactions_unknown_values_df.Attribute, np.setdiff1d(customers_df.columns, customers_unused_annot_attribute))]\n",
    "\n",
    "customers_transaction_unknown_values_df = transaction_unknown_values_df[np.isin(transaction_unknown_values_df.Attribute.str[:-3], np.setdiff1d(customers_df.columns, customers_unused_annot_attribute))]\n",
    "customers_transaction_unknown_values_df.Attribute = customers_transaction_unknown_values_df.Attribute.str[:-3]"
   ]
  },
  {
   "cell_type": "markdown",
   "metadata": {},
   "source": [
    "##### check `not_annot_attr_customers_values`"
   ]
  },
  {
   "cell_type": "code",
   "execution_count": 57,
   "metadata": {},
   "outputs": [
    {
     "name": "stdout",
     "output_type": "stream",
     "text": [
      "<class 'pandas.core.frame.DataFrame'>\n",
      "RangeIndex: 191652 entries, 0 to 191651\n",
      "Data columns (total 93 columns):\n",
      "AKT_DAT_KL                    145056 non-null float64\n",
      "ALTERSKATEGORIE_FEIN          139810 non-null float64\n",
      "ALTER_KIND1                   11766 non-null float64\n",
      "ALTER_KIND2                   5100 non-null float64\n",
      "ALTER_KIND3                   1275 non-null float64\n",
      "ALTER_KIND4                   236 non-null float64\n",
      "ANZ_KINDER                    145056 non-null float64\n",
      "ANZ_STATISTISCHE_HAUSHALTE    141725 non-null float64\n",
      "CAMEO_INTL_2015               141224 non-null object\n",
      "CJT_KATALOGNUTZER             188439 non-null float64\n",
      "CJT_TYP_1                     188439 non-null float64\n",
      "CJT_TYP_2                     188439 non-null float64\n",
      "CJT_TYP_3                     188439 non-null float64\n",
      "CJT_TYP_4                     188439 non-null float64\n",
      "CJT_TYP_5                     188439 non-null float64\n",
      "CJT_TYP_6                     188439 non-null float64\n",
      "CUSTOMER_GROUP                191652 non-null object\n",
      "D19_BANKEN_DIREKT             191652 non-null int64\n",
      "D19_BANKEN_GROSS              191652 non-null int64\n",
      "D19_BANKEN_LOKAL              191652 non-null int64\n",
      "D19_BANKEN_REST               191652 non-null int64\n",
      "D19_BEKLEIDUNG_GEH            191652 non-null int64\n",
      "D19_BEKLEIDUNG_REST           191652 non-null int64\n",
      "D19_BILDUNG                   191652 non-null int64\n",
      "D19_BIO_OEKO                  191652 non-null int64\n",
      "D19_BUCH_CD                   191652 non-null int64\n",
      "D19_DIGIT_SERV                191652 non-null int64\n",
      "D19_DROGERIEARTIKEL           191652 non-null int64\n",
      "D19_ENERGIE                   191652 non-null int64\n",
      "D19_FREIZEIT                  191652 non-null int64\n",
      "D19_GARTEN                    191652 non-null int64\n",
      "D19_HANDWERK                  191652 non-null int64\n",
      "D19_HAUS_DEKO                 191652 non-null int64\n",
      "D19_KINDERARTIKEL             191652 non-null int64\n",
      "D19_KONSUMTYP_MAX             191652 non-null int64\n",
      "D19_KOSMETIK                  191652 non-null int64\n",
      "D19_LEBENSMITTEL              191652 non-null int64\n",
      "D19_LETZTER_KAUF_BRANCHE      143955 non-null object\n",
      "D19_LOTTO                     143955 non-null float64\n",
      "D19_NAHRUNGSERGAENZUNG        191652 non-null int64\n",
      "D19_RATGEBER                  191652 non-null int64\n",
      "D19_REISEN                    191652 non-null int64\n",
      "D19_SAMMELARTIKEL             191652 non-null int64\n",
      "D19_SCHUHE                    191652 non-null int64\n",
      "D19_SONSTIGE                  191652 non-null int64\n",
      "D19_SOZIALES                  143955 non-null float64\n",
      "D19_TECHNIK                   191652 non-null int64\n",
      "D19_TELKO_MOBILE              191652 non-null int64\n",
      "D19_TELKO_ONLINE_QUOTE_12     143955 non-null float64\n",
      "D19_TELKO_REST                191652 non-null int64\n",
      "D19_TIERARTIKEL               191652 non-null int64\n",
      "D19_VERSAND_REST              191652 non-null int64\n",
      "D19_VERSICHERUNGEN            191652 non-null int64\n",
      "D19_VERSI_ONLINE_QUOTE_12     143955 non-null float64\n",
      "D19_VOLLSORTIMENT             191652 non-null int64\n",
      "D19_WEIN_FEINKOST             191652 non-null int64\n",
      "DSL_FLAG                      141725 non-null float64\n",
      "EINGEFUEGT_AM                 141725 non-null object\n",
      "EINGEZOGENAM_HH_JAHR          145056 non-null float64\n",
      "EXTSEL992                     106369 non-null float64\n",
      "FIRMENDICHTE                  141725 non-null float64\n",
      "GEMEINDETYP                   141176 non-null float64\n",
      "HH_DELTA_FLAG                 137910 non-null float64\n",
      "KBA13_ANTG1                   140371 non-null float64\n",
      "KBA13_ANTG2                   140371 non-null float64\n",
      "KBA13_ANTG3                   140371 non-null float64\n",
      "KBA13_ANTG4                   140371 non-null float64\n",
      "KBA13_BAUMAX                  140371 non-null float64\n",
      "KBA13_CCM_1401_2500           140371 non-null float64\n",
      "KBA13_GBZ                     140371 non-null float64\n",
      "KBA13_HHZ                     140371 non-null float64\n",
      "KBA13_KMH_210                 140371 non-null float64\n",
      "KK_KUNDENTYP                  79715 non-null float64\n",
      "KOMBIALTER                    191652 non-null int64\n",
      "KONSUMZELLE                   141725 non-null float64\n",
      "LNR                           191652 non-null int64\n",
      "MOBI_RASTER                   141725 non-null float64\n",
      "ONLINE_PURCHASE               191652 non-null int64\n",
      "PRODUCT_GROUP                 191652 non-null object\n",
      "RT_KEIN_ANREIZ                188439 non-null float64\n",
      "RT_SCHNAEPPCHEN               188439 non-null float64\n",
      "RT_UEBERGROESSE               147460 non-null float64\n",
      "SOHO_KZ                       145056 non-null float64\n",
      "STRUKTURTYP                   141176 non-null float64\n",
      "UMFELD_ALT                    141204 non-null float64\n",
      "UMFELD_JUNG                   141204 non-null float64\n",
      "UNGLEICHENN_FLAG              145056 non-null float64\n",
      "VERDICHTUNGSRAUM              141176 non-null float64\n",
      "VHA                           145056 non-null float64\n",
      "VHN                           137392 non-null float64\n",
      "VK_DHT4A                      143781 non-null float64\n",
      "VK_DISTANZ                    143781 non-null float64\n",
      "VK_ZG11                       143781 non-null float64\n",
      "dtypes: float64(51), int64(37), object(5)\n",
      "memory usage: 136.0+ MB\n"
     ]
    }
   ],
   "source": [
    "customers_df[not_annot_attr_customers_values].info()"
   ]
  },
  {
   "cell_type": "markdown",
   "metadata": {},
   "source": [
    "We create below variable to hold differennt type of undocumented features in `customers_df`.\n",
    "\n",
    "| variable                                |                                                      |\n",
    "|-----------------------------------------|------------------------------------------------------|\n",
    "| `customers_bin_cat_not_annot_attribute` | hold binary category feature in `customers_df`       |\n",
    "| `customers_nom_cat_not_annot_attribute` | hold nominal category feature in `customers_df`      |\n",
    "| `customers_ord_cat_not_annot_attribute` | hold ordinal categroy feature in `customers_df`      |\n",
    "| `customers_mix_cat_not_annot_attribute` | hold mix category feature in `customers_df`          |\n",
    "| `customers_num_not_annot_attribute`     | hold quantative feature in `customers_df`            |\n",
    "| `customers_unused_not_annot_attribute`  | hold unused features in `customers_df`               |"
   ]
  },
  {
   "cell_type": "code",
   "execution_count": 58,
   "metadata": {},
   "outputs": [],
   "source": [
    "customers_bin_cat_not_annot_attribute = np.array(['DSL_FLAG', 'HH_DELTA_FLAG', 'KONSUMZELLE', 'SOHO_KZ'])\n",
    "\n",
    "customers_nom_cat_not_annot_attribute = np.array(['ALTER_KIND1', 'ALTER_KIND2', 'ALTER_KIND3', 'ALTER_KIND4',\n",
    "       'D19_LETZTER_KAUF_BRANCHE', 'EINGEFUEGT_AM', 'EXTSEL992',\n",
    "       'GEMEINDETYP', 'VERDICHTUNGSRAUM', 'VK_DHT4A'])\n",
    "\n",
    "customers_ord_cat_not_annot_attribute = np.array(['AKT_DAT_KL', 'ALTERSKATEGORIE_FEIN', 'CJT_KATALOGNUTZER',\n",
    "       'CJT_TYP_1', 'CJT_TYP_2', 'CJT_TYP_3', 'CJT_TYP_4', 'CJT_TYP_5',\n",
    "       'CJT_TYP_6', 'D19_BANKEN_DIREKT', 'D19_BANKEN_GROSS',\n",
    "       'D19_BANKEN_LOKAL', 'D19_BANKEN_REST', 'D19_BEKLEIDUNG_GEH',\n",
    "       'D19_BEKLEIDUNG_REST', 'D19_BILDUNG', 'D19_BIO_OEKO',\n",
    "       'D19_BUCH_CD', 'D19_DIGIT_SERV', 'D19_DROGERIEARTIKEL',\n",
    "       'D19_ENERGIE', 'D19_FREIZEIT', 'D19_GARTEN', 'D19_HANDWERK',\n",
    "       'D19_HAUS_DEKO', 'D19_KINDERARTIKEL', 'D19_KONSUMTYP_MAX',\n",
    "       'D19_KOSMETIK', 'D19_LEBENSMITTEL', 'D19_LOTTO',\n",
    "       'D19_NAHRUNGSERGAENZUNG', 'D19_RATGEBER', 'D19_REISEN',\n",
    "       'D19_SAMMELARTIKEL', 'D19_SCHUHE', 'D19_SONSTIGE', 'D19_SOZIALES',\n",
    "       'D19_TECHNIK', 'D19_TELKO_MOBILE', 'D19_TELKO_ONLINE_QUOTE_12',\n",
    "       'D19_TELKO_REST', 'D19_TIERARTIKEL', 'D19_VERSAND_REST',\n",
    "       'D19_VERSICHERUNGEN', 'D19_VERSI_ONLINE_QUOTE_12',\n",
    "       'D19_VOLLSORTIMENT', 'D19_WEIN_FEINKOST', 'EINGEZOGENAM_HH_JAHR',\n",
    "       'FIRMENDICHTE', 'KBA13_ANTG1', 'KBA13_ANTG2', 'KBA13_ANTG3',\n",
    "       'KBA13_ANTG4', 'KBA13_BAUMAX', 'KBA13_CCM_1401_2500', 'KBA13_GBZ',\n",
    "       'KBA13_HHZ', 'KBA13_KMH_210', 'KK_KUNDENTYP', 'KOMBIALTER', 'LNR',\n",
    "       'MOBI_RASTER', 'RT_KEIN_ANREIZ', 'RT_SCHNAEPPCHEN',\n",
    "       'RT_UEBERGROESSE', 'STRUKTURTYP', 'UMFELD_ALT', 'UMFELD_JUNG',\n",
    "       'UNGLEICHENN_FLAG', 'VHA', 'VHN', 'VK_DISTANZ', 'VK_ZG11'])\n",
    "\n",
    "customers_mix_cat_not_annot_attribute = np.array(['CAMEO_INTL_2015'])\n",
    "\n",
    "customers_num_not_annot_attribute = np.array(['ANZ_KINDER', 'ANZ_STATISTISCHE_HAUSHALTE'])\n",
    "\n",
    "customers_unused_not_annot_attribute = only_attr_customers"
   ]
  },
  {
   "cell_type": "code",
   "execution_count": 59,
   "metadata": {},
   "outputs": [],
   "source": [
    "assert not_annot_attr_customers_values.size == customers_bin_cat_not_annot_attribute.size \\\n",
    "                                                + customers_nom_cat_not_annot_attribute.size \\\n",
    "                                                + customers_ord_cat_not_annot_attribute.size \\\n",
    "                                                + customers_mix_cat_not_annot_attribute.size \\\n",
    "                                                + customers_num_not_annot_attribute.size \\\n",
    "                                                + customers_unused_not_annot_attribute.size"
   ]
  },
  {
   "cell_type": "markdown",
   "metadata": {},
   "source": [
    "#### Check missing value"
   ]
  },
  {
   "cell_type": "code",
   "execution_count": 86,
   "metadata": {},
   "outputs": [
    {
     "data": {
      "image/png": "[encoded data removed]",
      "text/plain": [
       "<Figure size 432x288 with 1 Axes>"
      ]
     },
     "metadata": {
      "needs_background": "light"
     },
     "output_type": "display_data"
    }
   ],
   "source": [
    "customers_df[not_annot_attr_customers_values].isnull().mean().hist()\n",
    "plt.xlabel('Missing value - customers %')\n",
    "plt.ylabel('undocumented feature')\n",
    "plt.show()"
   ]
  },
  {
   "cell_type": "markdown",
   "metadata": {},
   "source": [
    "We can find over 30% csutomers still have missing value among about 6 undocumented features."
   ]
  },
  {
   "cell_type": "code",
   "execution_count": 61,
   "metadata": {},
   "outputs": [
    {
     "data": {
      "image/png": "[encoded data removed]",
      "text/plain": [
       "<Figure size 432x288 with 1 Axes>"
      ]
     },
     "metadata": {
      "needs_background": "light"
     },
     "output_type": "display_data"
    }
   ],
   "source": [
    "_ = not_annot_attr_customers_values[customers_df[not_annot_attr_customers_values].isnull().mean() > FEATURE_DROP_RATIO]\n",
    "customers_df[_].isnull().mean().plot.barh()\n",
    "plt.title('{} Undocumented features with missing value > {}%'.format(_.size, FEATURE_DROP_RATIO*100))\n",
    "plt.show()"
   ]
  },
  {
   "cell_type": "code",
   "execution_count": 62,
   "metadata": {},
   "outputs": [],
   "source": [
    "customers_unused_not_annot_attribute = np.union1d(customers_unused_not_annot_attribute, not_annot_attr_customers_values[customers_df[not_annot_attr_customers_values].isnull().mean() > FEATURE_DROP_RATIO])"
   ]
  },
  {
   "cell_type": "code",
   "execution_count": 63,
   "metadata": {},
   "outputs": [
    {
     "data": {
      "text/plain": [
       "array(['ALTER_KIND1', 'ALTER_KIND2', 'ALTER_KIND3', 'ALTER_KIND4',\n",
       "       'CUSTOMER_GROUP', 'EXTSEL992', 'KK_KUNDENTYP', 'ONLINE_PURCHASE',\n",
       "       'PRODUCT_GROUP'], dtype=object)"
      ]
     },
     "execution_count": 63,
     "metadata": {},
     "output_type": "execute_result"
    }
   ],
   "source": [
    "customers_unused_not_annot_attribute"
   ]
  },
  {
   "cell_type": "markdown",
   "metadata": {},
   "source": [
    "#### Ananlyze EINGEFUEGT_AM\n",
    "\n",
    "convert datetime string to unix second integer"
   ]
  },
  {
   "cell_type": "code",
   "execution_count": 64,
   "metadata": {},
   "outputs": [
    {
     "data": {
      "text/plain": [
       "count                  141725\n",
       "unique                   3034\n",
       "top       1992-02-10 00:00:00\n",
       "freq                    64744\n",
       "first     1992-02-10 00:00:00\n",
       "last      2016-07-05 00:00:00\n",
       "Name: EINGEFUEGT_AM, dtype: object"
      ]
     },
     "execution_count": 64,
     "metadata": {},
     "output_type": "execute_result"
    }
   ],
   "source": [
    "pd.to_datetime(customers_df['EINGEFUEGT_AM']).describe()"
   ]
  },
  {
   "cell_type": "markdown",
   "metadata": {},
   "source": [
    "__NOTE__: We will drop EINGEFUEGT_AM, because it contains thunsands of datetime."
   ]
  },
  {
   "cell_type": "code",
   "execution_count": 65,
   "metadata": {},
   "outputs": [],
   "source": [
    "customers_unused_not_annot_attribute = np.union1d(customers_unused_not_annot_attribute, 'EINGEFUEGT_AM')\n",
    "customers_nom_cat_not_annot_attribute = np.setdiff1d(customers_nom_cat_not_annot_attribute, 'EINGEFUEGT_AM')"
   ]
  },
  {
   "cell_type": "markdown",
   "metadata": {},
   "source": [
    "#### Analyze D19_LETZTER_KAUF_BRANCHE\n",
    "\n",
    "convert string to column index"
   ]
  },
  {
   "cell_type": "code",
   "execution_count": 66,
   "metadata": {},
   "outputs": [
    {
     "data": {
      "text/plain": [
       "count            143955\n",
       "unique               35\n",
       "top       D19_UNBEKANNT\n",
       "freq              31910\n",
       "Name: D19_LETZTER_KAUF_BRANCHE, dtype: object"
      ]
     },
     "execution_count": 66,
     "metadata": {},
     "output_type": "execute_result"
    }
   ],
   "source": [
    "customers_df['D19_LETZTER_KAUF_BRANCHE'].describe()"
   ]
  },
  {
   "cell_type": "markdown",
   "metadata": {},
   "source": [
    "__NOTE__: We will drop D19_LETZTER_KAUF_BRANCHE, because it contains too many feature names."
   ]
  },
  {
   "cell_type": "code",
   "execution_count": 67,
   "metadata": {},
   "outputs": [],
   "source": [
    "customers_unused_not_annot_attribute = np.union1d(customers_unused_not_annot_attribute, 'D19_LETZTER_KAUF_BRANCHE')\n",
    "customers_nom_cat_not_annot_attribute = np.setdiff1d(customers_nom_cat_not_annot_attribute, 'D19_LETZTER_KAUF_BRANCHE')"
   ]
  },
  {
   "cell_type": "markdown",
   "metadata": {},
   "source": [
    "#### Analyze CAMEO_INTL_2015"
   ]
  },
  {
   "cell_type": "code",
   "execution_count": 68,
   "metadata": {},
   "outputs": [
    {
     "name": "stdout",
     "output_type": "stream",
     "text": [
      "CAMEO_INTL_2015 feature has float value: [12. 13. 14. 15. 22. 23. 24. 25. 31. 32. 33. 34. 35. 41. 43. 44. 45. 51.\n",
      " 52. 54. 55.]\n",
      "CAMEO_INTL_2015 feature has string value: ['12' '13' '14' '15' '22' '23' '24' '25' '31' '32' '33' '34' '35' '41'\n",
      " '43' '44' '45' '51' '52' '54' '55' 'XX']\n"
     ]
    }
   ],
   "source": [
    "int_v = []\n",
    "v1 = customers_df['CAMEO_INTL_2015'].dropna().apply(lambda x: int_v.append(x) if isinstance(x, int) else x).dropna().unique()\n",
    "\n",
    "float_v = []\n",
    "v1 = customers_df['CAMEO_INTL_2015'].dropna().apply(lambda x: float_v.append(x) if isinstance(x, float) else x).dropna().unique()\n",
    "\n",
    "str_v = []\n",
    "v1 = customers_df['CAMEO_INTL_2015'].dropna().apply(lambda x: str_v.append(x) if isinstance(x, str) else x).dropna().unique()\n",
    "\n",
    "int_v = np.unique(np.array(int_v))\n",
    "float_v = np.unique(np.array(float_v))\n",
    "str_v = np.unique(np.array(str_v))\n",
    "\n",
    "if len(int_v) > 0:\n",
    "    print('CAMEO_INTL_2015 feature has int value: {}'.format(int_v))\n",
    "if len(float_v) > 0:\n",
    "    print('CAMEO_INTL_2015 feature has float value: {}'.format(float_v))\n",
    "if len(str_v) > 0:\n",
    "    print('CAMEO_INTL_2015 feature has string value: {}'.format(str_v))"
   ]
  },
  {
   "cell_type": "markdown",
   "metadata": {},
   "source": [
    "__NOTE__: CAMEO_INTL_2015 combines information on two axes: wealth and life stage. I will break up the two-digit codes by their 'tens'-place and 'ones'-place digits into two new ordinal variables."
   ]
  },
  {
   "cell_type": "markdown",
   "metadata": {},
   "source": [
    "LNR is like serial number"
   ]
  },
  {
   "cell_type": "code",
   "execution_count": 69,
   "metadata": {},
   "outputs": [
    {
     "data": {
      "text/plain": [
       "True"
      ]
     },
     "execution_count": 69,
     "metadata": {},
     "output_type": "execute_result"
    }
   ],
   "source": [
    "customers_df.shape[0] == customers_df['LNR'].unique().size"
   ]
  },
  {
   "cell_type": "code",
   "execution_count": 70,
   "metadata": {},
   "outputs": [],
   "source": [
    "customers_unused_not_annot_attribute = np.union1d(customers_unused_not_annot_attribute, 'LNR')\n",
    "customers_ord_cat_not_annot_attribute = np.setdiff1d(customers_ord_cat_not_annot_attribute, 'LNR')"
   ]
  },
  {
   "cell_type": "markdown",
   "metadata": {},
   "source": [
    "#### To fix the error, we will need to ...\n",
    "\n",
    "1. ONLINE_PURCHASE, CUSTOMER_GROUP, PRODUCT_GROUP: **drop (not exist in general population)**\n",
    "1. ALTER_KIND1, ALTER_KIND2, ALTER_KIND3, ALTER_KIND4, EXTSEL992, KK_KUNDENTYP: **drop (missing value > 30%)**\n",
    "1. EINGEFUEGT_AM: **drop (contains thunsands of datetim)**\n",
    "1. D19_LETZTER_KAUF_BRANCHE: **drop**\n",
    "1. CAMEO_INTL_2015: **change '45', '25', '55', '51', '14', '54', '43', '22', '15', '24', '35', '23', '12', '44', '41', '52', '31', '13', '34', '32', '33' to integer, and 'XX' to NA. Combines information on two axes: wealth and life stage. I will break up the two-digit codes by their 'tens'-place and 'ones'-place digits into two new ordinal variables.**\n",
    "1. LNR: **drop (like serial number)**\n",
    "1. All other attribute: **convert to integer**"
   ]
  },
  {
   "cell_type": "code",
   "execution_count": 71,
   "metadata": {},
   "outputs": [],
   "source": [
    "customers_bin_cat_not_annot_attribute = np.setdiff1d(customers_bin_cat_not_annot_attribute, customers_unused_not_annot_attribute)\n",
    "customers_nom_cat_not_annot_attribute = np.setdiff1d(customers_nom_cat_not_annot_attribute, customers_unused_not_annot_attribute)\n",
    "customers_ord_cat_not_annot_attribute = np.setdiff1d(customers_ord_cat_not_annot_attribute, customers_unused_not_annot_attribute)\n",
    "customers_mix_cat_not_annot_attribute = np.setdiff1d(customers_mix_cat_not_annot_attribute, customers_unused_not_annot_attribute)\n",
    "customers_num_not_annot_attribute = np.setdiff1d(customers_num_not_annot_attribute, customers_unused_not_annot_attribute)"
   ]
  },
  {
   "cell_type": "code",
   "execution_count": 72,
   "metadata": {},
   "outputs": [],
   "source": [
    "assert not_annot_attr_customers_values.size == customers_bin_cat_not_annot_attribute.size \\\n",
    "                                                + customers_nom_cat_not_annot_attribute.size \\\n",
    "                                                + customers_ord_cat_not_annot_attribute.size \\\n",
    "                                                + customers_mix_cat_not_annot_attribute.size \\\n",
    "                                                + customers_num_not_annot_attribute.size \\\n",
    "                                                + customers_unused_not_annot_attribute.size"
   ]
  },
  {
   "cell_type": "code",
   "execution_count": 73,
   "metadata": {},
   "outputs": [
    {
     "data": {
      "text/plain": [
       "array(['ALTER_KIND1', 'ALTER_KIND2', 'ALTER_KIND3', 'ALTER_KIND4',\n",
       "       'CUSTOMER_GROUP', 'D19_LETZTER_KAUF_BRANCHE', 'EINGEFUEGT_AM',\n",
       "       'EXTSEL992', 'KK_KUNDENTYP', 'LNR', 'ONLINE_PURCHASE',\n",
       "       'PRODUCT_GROUP'], dtype=object)"
      ]
     },
     "execution_count": 73,
     "metadata": {},
     "output_type": "execute_result"
    }
   ],
   "source": [
    "customers_unused_not_annot_attribute"
   ]
  },
  {
   "cell_type": "markdown",
   "metadata": {},
   "source": [
    "#### ROW Viewpoint"
   ]
  },
  {
   "cell_type": "markdown",
   "metadata": {},
   "source": [
    "#### Check missing value"
   ]
  },
  {
   "cell_type": "code",
   "execution_count": 87,
   "metadata": {},
   "outputs": [
    {
     "data": {
      "image/png": "[encoded data removed]",
      "text/plain": [
       "<Figure size 432x288 with 1 Axes>"
      ]
     },
     "metadata": {
      "needs_background": "light"
     },
     "output_type": "display_data"
    }
   ],
   "source": [
    "customers_df.isnull().mean(axis=1).hist()\n",
    "plt.xlabel('Missing value - feature %')\n",
    "plt.ylabel('customers')\n",
    "plt.show()"
   ]
  },
  {
   "cell_type": "markdown",
   "metadata": {},
   "source": [
    "Around 50000 customers (26.76%) have missing value over 30% feature."
   ]
  },
  {
   "cell_type": "code",
   "execution_count": 75,
   "metadata": {},
   "outputs": [
    {
     "data": {
      "text/plain": [
       "0.2675735186692547"
      ]
     },
     "execution_count": 75,
     "metadata": {},
     "output_type": "execute_result"
    }
   ],
   "source": [
    "CUSTOMER_DROP_RATIO = .3\n",
    "\n",
    "customers_df[customers_df.isnull().mean(axis=1) > CUSTOMER_DROP_RATIO].shape[0]/customers_df.shape[0]"
   ]
  },
  {
   "cell_type": "markdown",
   "metadata": {},
   "source": [
    "#### To fix the error, we will need to ...\n",
    "\n",
    "1. Drop customers with **missing value feature % > 30%**"
   ]
  },
  {
   "cell_type": "markdown",
   "metadata": {},
   "source": [
    "### Data Exploration - azdias vs. customers"
   ]
  },
  {
   "cell_type": "code",
   "execution_count": 76,
   "metadata": {},
   "outputs": [
    {
     "name": "stdout",
     "output_type": "stream",
     "text": [
      "<class 'pandas.core.frame.DataFrame'>\n",
      "RangeIndex: 891221 entries, 0 to 891220\n",
      "Columns: 366 entries, LNR to ALTERSKATEGORIE_GROB\n",
      "dtypes: float64(267), int64(93), object(6)\n",
      "memory usage: 2.4+ GB\n"
     ]
    }
   ],
   "source": [
    "azdias_df.info()"
   ]
  },
  {
   "cell_type": "markdown",
   "metadata": {},
   "source": [
    "#### Check missing value"
   ]
  },
  {
   "cell_type": "code",
   "execution_count": 89,
   "metadata": {},
   "outputs": [
    {
     "data": {
      "image/png": "[encoded data removed]",
      "text/plain": [
       "<Figure size 432x288 with 1 Axes>"
      ]
     },
     "metadata": {
      "needs_background": "light"
     },
     "output_type": "display_data"
    }
   ],
   "source": [
    "azdias_df.isnull().mean().hist()\n",
    "plt.xlabel('Missing value - general population %')\n",
    "plt.ylabel('feature')\n",
    "plt.show()"
   ]
  },
  {
   "cell_type": "markdown",
   "metadata": {},
   "source": [
    "Over 30% general population have around 10 feature have missing value.\n"
   ]
  },
  {
   "cell_type": "markdown",
   "metadata": {},
   "source": [
    "We create below variable to hold differennt type of documented features in general population.\n",
    "\n",
    "| variable                         |                                                                |\n",
    "|----------------------------------|----------------------------------------------------------------|\n",
    "| `annot_attr_azdias_values`       | to hold below all documented features in general population    |\n",
    "| `azdias_bin_cat_annot_attribute` | hold `customers_bin_cat_annot_attribute` in general population |\n",
    "| `azdias_nom_cat_annot_attribute` | hold `customers_nom_cat_annot_attribute` in general population |\n",
    "| `azdias_ord_cat_annot_attribute` | hold `customers_ord_cat_annot_attribute` in general population |\n",
    "| `azdias_mix_cat_annot_attribute` | hold `customers_mix_cat_annot_attribute` in general population |\n",
    "| `azdias_num_annot_attribute`     | hold `customers_num_annot_attribute` in general population     |\n",
    "| `azdias_unused_annot_attribute`  | hold `customers_unused_annot_attribute` in general population  |\n",
    "\n",
    "We create below variable to hold differennt type of undocumented features in general population.\n",
    "\n",
    "| variable                             |                                                                    |\n",
    "|--------------------------------------|--------------------------------------------------------------------|\n",
    "| `not_annot_attr_azdias_values`       | hold below all undocumented features in general population         |\n",
    "| `azdias_bin_cat_not_annot_attribute` | hold `customers_bin_cat_not_annot_attribute` in general population |\n",
    "| `azdias_nom_cat_not_annot_attribute` | hold `customers_nom_cat_not_annot_attribute` in general population |\n",
    "| `azdias_ord_cat_not_annot_attribute` | hold `customers_ord_cat_not_annot_attribute` in general population |\n",
    "| `azdias_mix_cat_not_annot_attribute` | hold `customers_mix_cat_not_annot_attribute` in general population |\n",
    "| `azdias_num_not_annot_attribute`     | hold `customers_num_not_annot_attribute` in general population     |\n",
    "| `azdias_unused_not_annot_attribute`  | hold `customers_unused_not_annot_attribute` in general population  |"
   ]
  },
  {
   "cell_type": "code",
   "execution_count": 78,
   "metadata": {},
   "outputs": [],
   "source": [
    "annot_attr_azdias_values = annot_attr_customers_values\n",
    "not_annot_attr_azdias_values = np.setdiff1d(not_annot_attr_customers_values, only_attr_customers)"
   ]
  },
  {
   "cell_type": "code",
   "execution_count": 79,
   "metadata": {},
   "outputs": [],
   "source": [
    "assert annot_attr_azdias_values.size + not_annot_attr_azdias_values.size == customers_df.columns.size - only_attr_customers.size"
   ]
  },
  {
   "cell_type": "code",
   "execution_count": 80,
   "metadata": {},
   "outputs": [
    {
     "data": {
      "text/plain": [
       "array([], dtype=object)"
      ]
     },
     "execution_count": 80,
     "metadata": {},
     "output_type": "execute_result"
    }
   ],
   "source": [
    "azdias_unused_annot_attribute = np.intersect1d(azdias_df.columns[azdias_df.isnull().mean() > FEATURE_DROP_RATIO].values, annot_attr_azdias_values)\n",
    "azdias_unused_annot_attribute = np.union1d(azdias_unused_annot_attribute, customers_unused_annot_attribute)\n",
    "azdias_bin_cat_annot_attribute = np.setdiff1d(customers_bin_cat_annot_attribute, azdias_unused_annot_attribute)\n",
    "azdias_nom_cat_annot_attribute = np.setdiff1d(customers_nom_cat_annot_attribute, azdias_unused_annot_attribute)\n",
    "azdias_ord_cat_annot_attribute = np.setdiff1d(customers_ord_cat_annot_attribute, azdias_unused_annot_attribute)\n",
    "azdias_mix_cat_annot_attribute = np.setdiff1d(customers_mix_cat_annot_attribute, azdias_unused_annot_attribute)\n",
    "azdias_num_annot_attribute = np.setdiff1d(customers_num_annot_attribute, azdias_unused_annot_attribute)\n",
    "azdias_unused_annot_attribute"
   ]
  },
  {
   "cell_type": "code",
   "execution_count": 81,
   "metadata": {},
   "outputs": [],
   "source": [
    "assert annot_attr_azdias_values.size == azdias_bin_cat_annot_attribute.size \\\n",
    "                                        + azdias_nom_cat_annot_attribute.size \\\n",
    "                                        + azdias_ord_cat_annot_attribute.size \\\n",
    "                                        + azdias_mix_cat_annot_attribute.size \\\n",
    "                                        + azdias_num_annot_attribute.size \\\n",
    "                                        + azdias_unused_annot_attribute.size"
   ]
  },
  {
   "cell_type": "code",
   "execution_count": 82,
   "metadata": {},
   "outputs": [
    {
     "data": {
      "text/plain": [
       "array(['ALTER_KIND1', 'ALTER_KIND2', 'ALTER_KIND3', 'ALTER_KIND4',\n",
       "       'D19_LETZTER_KAUF_BRANCHE', 'EINGEFUEGT_AM', 'EXTSEL992',\n",
       "       'KK_KUNDENTYP', 'LNR'], dtype=object)"
      ]
     },
     "execution_count": 82,
     "metadata": {},
     "output_type": "execute_result"
    }
   ],
   "source": [
    "azdias_unused_not_annot_attribute = np.intersect1d(azdias_df.columns[azdias_df.isnull().mean() > FEATURE_DROP_RATIO].values, not_annot_attr_azdias_values)\n",
    "azdias_unused_not_annot_attribute = np.union1d(azdias_unused_not_annot_attribute, customers_unused_not_annot_attribute)\n",
    "azdias_unused_not_annot_attribute = np.setdiff1d(azdias_unused_not_annot_attribute, only_attr_customers)\n",
    "azdias_bin_cat_not_annot_attribute = np.setdiff1d(customers_bin_cat_not_annot_attribute, azdias_unused_not_annot_attribute)\n",
    "azdias_nom_cat_not_annot_attribute = np.setdiff1d(customers_nom_cat_not_annot_attribute, azdias_unused_not_annot_attribute)\n",
    "azdias_ord_cat_not_annot_attribute = np.setdiff1d(customers_ord_cat_not_annot_attribute, azdias_unused_not_annot_attribute)\n",
    "azdias_mix_cat_not_annot_attribute = np.setdiff1d(customers_mix_cat_not_annot_attribute, azdias_unused_not_annot_attribute)\n",
    "azdias_num_not_annot_attribute = np.setdiff1d(customers_num_not_annot_attribute, azdias_unused_not_annot_attribute)\n",
    "azdias_unused_not_annot_attribute"
   ]
  },
  {
   "cell_type": "code",
   "execution_count": 83,
   "metadata": {},
   "outputs": [],
   "source": [
    "assert not_annot_attr_azdias_values.size == azdias_bin_cat_not_annot_attribute.size \\\n",
    "                                            + azdias_nom_cat_not_annot_attribute.size \\\n",
    "                                            + azdias_ord_cat_not_annot_attribute.size \\\n",
    "                                            + azdias_mix_cat_not_annot_attribute.size \\\n",
    "                                            + azdias_num_not_annot_attribute.size \\\n",
    "                                            + azdias_unused_not_annot_attribute.size"
   ]
  },
  {
   "cell_type": "code",
   "execution_count": 90,
   "metadata": {},
   "outputs": [
    {
     "data": {
      "image/png": "[encoded data removed]",
      "text/plain": [
       "<Figure size 432x288 with 1 Axes>"
      ]
     },
     "metadata": {
      "needs_background": "light"
     },
     "output_type": "display_data"
    }
   ],
   "source": [
    "azdias_df.isnull().mean(axis=1).hist()\n",
    "plt.xlabel('Missing value - feature %')\n",
    "plt.ylabel('general population')\n",
    "plt.show()"
   ]
  },
  {
   "cell_type": "markdown",
   "metadata": {},
   "source": [
    "Around 100000 (11.87%) general population have missing value over 30% feature."
   ]
  },
  {
   "cell_type": "code",
   "execution_count": 91,
   "metadata": {},
   "outputs": [
    {
     "data": {
      "text/plain": [
       "0.11871915046885116"
      ]
     },
     "execution_count": 91,
     "metadata": {},
     "output_type": "execute_result"
    }
   ],
   "source": [
    "azdias_df[azdias_df.isnull().mean(axis=1) > CUSTOMER_DROP_RATIO].shape[0]/azdias_df.shape[0]"
   ]
  },
  {
   "cell_type": "markdown",
   "metadata": {},
   "source": [
    "We need to **check general population value is matched with customers**.\n",
    "\n",
    "#### Ananlyze `azdias_bin_cat_annot_attribute`\n",
    "\n",
    "Every category should exist in general population."
   ]
  },
  {
   "cell_type": "code",
   "execution_count": 92,
   "metadata": {},
   "outputs": [],
   "source": [
    "for col in azdias_bin_cat_annot_attribute:\n",
    "    azdias_v = azdias_df[col].dropna().unique()\n",
    "    customers_v = customers_df[col].dropna().unique()\n",
    "    diff_azdias_v = np.setdiff1d(azdias_v, customers_v)\n",
    "    diff_customers_v = np.setdiff1d(customers_v, azdias_v)\n",
    "    \n",
    "    if diff_azdias_v.size > 0:\n",
    "        print('{} different only in azdias : {}'.format(col, diff_azdias_v))\n",
    "    if diff_customers_v.size > 0:\n",
    "        print('{} different only in customers_df : {}'.format(col, diff_customers_v))  "
   ]
  },
  {
   "cell_type": "markdown",
   "metadata": {},
   "source": [
    "#### Ananlyze `azdias_nom_cat_annot_attribute`\n",
    "\n",
    "Every category should exist in general population."
   ]
  },
  {
   "cell_type": "code",
   "execution_count": 93,
   "metadata": {},
   "outputs": [
    {
     "name": "stdout",
     "output_type": "stream",
     "text": [
      "GEBAEUDETYP only in gnneral population : [5.]\n",
      "TITEL_KZ only in gnneral population : [2.]\n"
     ]
    }
   ],
   "source": [
    "for col in azdias_nom_cat_annot_attribute:\n",
    "\n",
    "    str_azdias_v = []\n",
    "    str_customers_v = []\n",
    "    \n",
    "    if col == 'CAMEO_DEUG_2015':\n",
    "        \n",
    "        azdias_v = azdias_df[col].dropna().apply(lambda x: str_azdias_v.append(x) if isinstance(x, str) else int(x)).dropna().unique()\n",
    "        customers_v = customers_df[col].dropna().apply(lambda x: str_customers_v.append(x) if isinstance(x, str) else int(x)).dropna().unique()\n",
    "        diff_str_azdias_v = np.setdiff1d(str_azdias_v, str_customers_v)\n",
    "        diff_str_customers_v = np.setdiff1d(str_customers_v, str_azdias_v)\n",
    "        str_azdias_v = np.unique(str_azdias_v)\n",
    "        str_customers_v = np.unique(str_customers_v)\n",
    "        str_azdias_v = []\n",
    "        str_customers_v = []\n",
    "    else:\n",
    "        \n",
    "        azdias_v = azdias_df[col].dropna().unique()\n",
    "        customers_v = customers_df[col].dropna().unique()\n",
    "    \n",
    "    diff_azdias_v = np.setdiff1d(azdias_v, customers_v)\n",
    "    diff_customers_v = np.setdiff1d(customers_v, azdias_v)\n",
    "    \n",
    "    if diff_azdias_v.size > 0:\n",
    "        \n",
    "        true_v =  np.hstack(values_df[values_df.Attribute == col]['Value'].apply(lambda x: list(map(int, x.split(','))) if isinstance(x, str) else x).values)\n",
    "        diff_diff_azdias_v = np.setdiff1d(diff_azdias_v, true_v)\n",
    "        if diff_diff_azdias_v.size > 0:\n",
    "            print('{} only in gnneral population : {} <- undocumented'.format(col, diff_diff_azdias_v))\n",
    "        else:\n",
    "            print('{} only in gnneral population : {}'.format(col, diff_azdias_v))\n",
    "    if diff_customers_v.size > 0:\n",
    "        print('{} different only in customer : {}'.format(col, diff_customers_v))\n",
    "    if len(str_azdias_v) > 0:\n",
    "        print('{} only in general population : {}'.format(col, diff_str_azdias_v))\n",
    "    if len(str_customers_v) > 0:\n",
    "        print('{} only in customer : {}'.format(col, diff_str_customers_v))"
   ]
  },
  {
   "cell_type": "markdown",
   "metadata": {},
   "source": [
    "#### Ananlyze `azdias_ord_cat_annot_attribute`\n",
    "\n",
    "Every category should exist in general population."
   ]
  },
  {
   "cell_type": "code",
   "execution_count": 94,
   "metadata": {},
   "outputs": [
    {
     "name": "stdout",
     "output_type": "stream",
     "text": [
      "ALTER_HH only in gnneral population : [1.]\n",
      "D19_BANKEN_ONLINE_QUOTE_12 only in gnneral population : [1.]\n",
      "KBA05_GBZ only in customer : [0.]\n",
      "KBA13_AUTOQUOTE only in gnneral population : [0.]\n",
      "KBA13_KRSAQUOT only in gnneral population : [0.]\n",
      "KBA13_KRSHERST_AUDI_VW only in gnneral population : [0.]\n",
      "KBA13_KRSHERST_BMW_BENZ only in gnneral population : [0.]\n",
      "KBA13_KRSHERST_FORD_OPEL only in gnneral population : [0.]\n",
      "KBA13_KRSSEG_KLEIN only in gnneral population : [0.]\n",
      "ORTSGR_KLS9 only in gnneral population : [0.] <- undocumented\n"
     ]
    }
   ],
   "source": [
    "for col in azdias_ord_cat_annot_attribute:\n",
    "    \n",
    "    azdias_v = azdias_df[col].dropna().unique()\n",
    "    customers_v = customers_df[col].dropna().unique()\n",
    "    \n",
    "    diff_azdias_v = np.setdiff1d(azdias_v, customers_v)\n",
    "    diff_customers_v = np.setdiff1d(customers_v, azdias_v)\n",
    "    \n",
    "    if diff_azdias_v.size > 0:\n",
    "        \n",
    "        true_v =  np.hstack(values_df[values_df.Attribute == col]['Value'].apply(lambda x: list(map(int, x.split(','))) if isinstance(x, str) else x).values)\n",
    "        diff_diff_azdias_v = np.setdiff1d(diff_azdias_v, true_v)\n",
    "        if diff_diff_azdias_v.size > 0:\n",
    "            print('{} only in gnneral population : {} <- undocumented'.format(col, diff_diff_azdias_v))\n",
    "        else:\n",
    "            print('{} only in gnneral population : {}'.format(col, diff_azdias_v))\n",
    "    \n",
    "    if diff_customers_v.size > 0:\n",
    "        print('{} only in customer : {}'.format(col, diff_customers_v))"
   ]
  },
  {
   "cell_type": "markdown",
   "metadata": {},
   "source": [
    "__NOTE__: According to KBA05_GBZ, We need to drop below 2 customers, because 0 only exist int customer."
   ]
  },
  {
   "cell_type": "code",
   "execution_count": 95,
   "metadata": {},
   "outputs": [
    {
     "data": {
      "text/html": [
       "<div>\n",
       "<style scoped>\n",
       "    .dataframe tbody tr th:only-of-type {\n",
       "        vertical-align: middle;\n",
       "    }\n",
       "\n",
       "    .dataframe tbody tr th {\n",
       "        vertical-align: top;\n",
       "    }\n",
       "\n",
       "    .dataframe thead th {\n",
       "        text-align: right;\n",
       "    }\n",
       "</style>\n",
       "<table border=\"1\" class=\"dataframe\">\n",
       "  <thead>\n",
       "    <tr style=\"text-align: right;\">\n",
       "      <th></th>\n",
       "      <th>LNR</th>\n",
       "      <th>AGER_TYP</th>\n",
       "      <th>AKT_DAT_KL</th>\n",
       "      <th>ALTER_HH</th>\n",
       "      <th>ALTER_KIND1</th>\n",
       "      <th>ALTER_KIND2</th>\n",
       "      <th>ALTER_KIND3</th>\n",
       "      <th>ALTER_KIND4</th>\n",
       "      <th>ALTERSKATEGORIE_FEIN</th>\n",
       "      <th>ANZ_HAUSHALTE_AKTIV</th>\n",
       "      <th>...</th>\n",
       "      <th>VK_ZG11</th>\n",
       "      <th>W_KEIT_KIND_HH</th>\n",
       "      <th>WOHNDAUER_2008</th>\n",
       "      <th>WOHNLAGE</th>\n",
       "      <th>ZABEOTYP</th>\n",
       "      <th>PRODUCT_GROUP</th>\n",
       "      <th>CUSTOMER_GROUP</th>\n",
       "      <th>ONLINE_PURCHASE</th>\n",
       "      <th>ANREDE_KZ</th>\n",
       "      <th>ALTERSKATEGORIE_GROB</th>\n",
       "    </tr>\n",
       "  </thead>\n",
       "  <tbody>\n",
       "    <tr>\n",
       "      <th>57257</th>\n",
       "      <td>164783</td>\n",
       "      <td>2</td>\n",
       "      <td>1.0</td>\n",
       "      <td>5.0</td>\n",
       "      <td>NaN</td>\n",
       "      <td>NaN</td>\n",
       "      <td>NaN</td>\n",
       "      <td>NaN</td>\n",
       "      <td>5.0</td>\n",
       "      <td>79.0</td>\n",
       "      <td>...</td>\n",
       "      <td>3.0</td>\n",
       "      <td>NaN</td>\n",
       "      <td>9.0</td>\n",
       "      <td>2.0</td>\n",
       "      <td>3</td>\n",
       "      <td>COSMETIC_AND_FOOD</td>\n",
       "      <td>MULTI_BUYER</td>\n",
       "      <td>0</td>\n",
       "      <td>1</td>\n",
       "      <td>4</td>\n",
       "    </tr>\n",
       "    <tr>\n",
       "      <th>169196</th>\n",
       "      <td>101306</td>\n",
       "      <td>2</td>\n",
       "      <td>9.0</td>\n",
       "      <td>10.0</td>\n",
       "      <td>NaN</td>\n",
       "      <td>NaN</td>\n",
       "      <td>NaN</td>\n",
       "      <td>NaN</td>\n",
       "      <td>10.0</td>\n",
       "      <td>79.0</td>\n",
       "      <td>...</td>\n",
       "      <td>4.0</td>\n",
       "      <td>6.0</td>\n",
       "      <td>8.0</td>\n",
       "      <td>2.0</td>\n",
       "      <td>3</td>\n",
       "      <td>FOOD</td>\n",
       "      <td>SINGLE_BUYER</td>\n",
       "      <td>0</td>\n",
       "      <td>2</td>\n",
       "      <td>4</td>\n",
       "    </tr>\n",
       "  </tbody>\n",
       "</table>\n",
       "<p>2 rows × 369 columns</p>\n",
       "</div>"
      ],
      "text/plain": [
       "           LNR  AGER_TYP  AKT_DAT_KL  ALTER_HH  ALTER_KIND1  ALTER_KIND2  \\\n",
       "57257   164783         2         1.0       5.0          NaN          NaN   \n",
       "169196  101306         2         9.0      10.0          NaN          NaN   \n",
       "\n",
       "        ALTER_KIND3  ALTER_KIND4  ALTERSKATEGORIE_FEIN  ANZ_HAUSHALTE_AKTIV  \\\n",
       "57257           NaN          NaN                   5.0                 79.0   \n",
       "169196          NaN          NaN                  10.0                 79.0   \n",
       "\n",
       "        ...  VK_ZG11  W_KEIT_KIND_HH  WOHNDAUER_2008  WOHNLAGE  ZABEOTYP  \\\n",
       "57257   ...      3.0             NaN             9.0       2.0         3   \n",
       "169196  ...      4.0             6.0             8.0       2.0         3   \n",
       "\n",
       "            PRODUCT_GROUP  CUSTOMER_GROUP ONLINE_PURCHASE ANREDE_KZ  \\\n",
       "57257   COSMETIC_AND_FOOD     MULTI_BUYER               0         1   \n",
       "169196               FOOD    SINGLE_BUYER               0         2   \n",
       "\n",
       "       ALTERSKATEGORIE_GROB  \n",
       "57257                     4  \n",
       "169196                    4  \n",
       "\n",
       "[2 rows x 369 columns]"
      ]
     },
     "execution_count": 95,
     "metadata": {},
     "output_type": "execute_result"
    }
   ],
   "source": [
    "customers_df[customers_df['KBA05_GBZ'] == 0]"
   ]
  },
  {
   "cell_type": "code",
   "execution_count": 98,
   "metadata": {},
   "outputs": [],
   "source": [
    "customers_outlier = np.array([164783, 101306])"
   ]
  },
  {
   "cell_type": "markdown",
   "metadata": {},
   "source": [
    "#### Ananlyze `azdias_mix_cat_annot_attribute`\n",
    "\n",
    "Every category should exist in general population."
   ]
  },
  {
   "cell_type": "code",
   "execution_count": 99,
   "metadata": {},
   "outputs": [],
   "source": [
    "for col in azdias_mix_cat_annot_attribute:\n",
    "    \n",
    "    azdias_v = azdias_df[col].dropna().unique()\n",
    "    customers_v = customers_df[col].dropna().unique()\n",
    "    \n",
    "    diff_azdias_v = np.setdiff1d(azdias_v, customers_v)\n",
    "    diff_customers_v = np.setdiff1d(customers_v, azdias_v)\n",
    "    \n",
    "    if diff_azdias_v.size > 0:\n",
    "        print('{} different only in azdias : {}'.format(col, diff_azdias_v))\n",
    "    if diff_customers_v.size > 0:\n",
    "        print('{} different only in customers_df : {}'.format(col, diff_customers_v))"
   ]
  },
  {
   "cell_type": "markdown",
   "metadata": {},
   "source": [
    "#### Ananlyze `azdias_num_annot_attribute`\n",
    "\n",
    "Gnneral population range should cover customer."
   ]
  },
  {
   "cell_type": "code",
   "execution_count": 100,
   "metadata": {},
   "outputs": [],
   "source": [
    "for col in azdias_num_annot_attribute:\n",
    "\n",
    "    min_v1 = azdias_df[col].min()\n",
    "    max_v1 = azdias_df[col].max()\n",
    "    min_v2 = customers_df[col].min()\n",
    "    max_v2 = customers_df[col].max()\n",
    "    \n",
    "    if min_v1 > min_v2:\n",
    "        print('{} in azdias have min value: {} larger than customer: {}'.format(col, min_v1, min_v2))\n",
    "    if max_v1 < max_v2:\n",
    "        print('{} in azdias have max value: {} smaller than customer: {}'.format(col, min_v1, min_v2))"
   ]
  },
  {
   "cell_type": "markdown",
   "metadata": {},
   "source": [
    "#### Ananlyze `azdias_bin_cat_not_annot_attribute`\n",
    "\n",
    "Every category should exist in general population."
   ]
  },
  {
   "cell_type": "code",
   "execution_count": 101,
   "metadata": {},
   "outputs": [],
   "source": [
    "for col in azdias_bin_cat_not_annot_attribute:\n",
    "    azdias_v = azdias_df[col].dropna().unique()\n",
    "    customers_v = customers_df[col].dropna().unique()\n",
    "    diff_azdias_v = np.setdiff1d(azdias_v, customers_v)\n",
    "    diff_customers_v = np.setdiff1d(customers_v, azdias_v)\n",
    "    \n",
    "    if diff_azdias_v.size > 0:\n",
    "        print('{} different only in azdias : {}'.format(col, diff_azdias_v))\n",
    "    if diff_customers_v.size > 0:\n",
    "        print('{} different only in customers_df : {}'.format(col, diff_customers_v))  "
   ]
  },
  {
   "cell_type": "markdown",
   "metadata": {},
   "source": [
    "#### Ananlyze `azdias_nom_cat_not_annot_attribute`\n",
    "\n",
    "Every category should exist in general population."
   ]
  },
  {
   "cell_type": "code",
   "execution_count": 102,
   "metadata": {},
   "outputs": [],
   "source": [
    "for col in azdias_nom_cat_not_annot_attribute:\n",
    "        \n",
    "    azdias_v = azdias_df[col].dropna().unique()\n",
    "    customers_v = customers_df[col].dropna().unique()\n",
    "    \n",
    "    diff_azdias_v = np.setdiff1d(azdias_v, customers_v)\n",
    "    diff_customers_v = np.setdiff1d(customers_v, azdias_v)\n",
    "    \n",
    "    if diff_azdias_v.size > 0:\n",
    "        print('{} different only in azdias : {}'.format(col, diff_azdias_v))\n",
    "    if diff_customers_v.size > 0:\n",
    "        print('{} different only in customers_df : {}'.format(col, diff_customers_v))"
   ]
  },
  {
   "cell_type": "markdown",
   "metadata": {},
   "source": [
    "#### Ananlyze `azdias_ord_cat_not_annot_attribute`\n",
    "\n",
    "Every category should exist in general population."
   ]
  },
  {
   "cell_type": "code",
   "execution_count": 103,
   "metadata": {},
   "outputs": [
    {
     "name": "stdout",
     "output_type": "stream",
     "text": [
      "ALTERSKATEGORIE_FEIN only in azdias : [1.]\n",
      "D19_TELKO_ONLINE_QUOTE_12 only in azdias : [7.]\n",
      "D19_VERSI_ONLINE_QUOTE_12 only in azdias : [3. 6. 8. 9.]\n",
      "EINGEZOGENAM_HH_JAHR only in azdias : [1900. 1904. 1971. 1984.]\n"
     ]
    }
   ],
   "source": [
    "for col in azdias_ord_cat_not_annot_attribute:\n",
    "    azdias_v = azdias_df[col].dropna().unique()\n",
    "    customers_v = customers_df[col].dropna().unique()\n",
    "\n",
    "    diff_azdias_v = np.setdiff1d(azdias_v, customers_v)\n",
    "    diff_customers_v = np.setdiff1d(customers_v, azdias_v)\n",
    "    \n",
    "    if diff_azdias_v.size > 0:\n",
    "\n",
    "        print('{} only in azdias : {}'.format(col, diff_azdias_v))\n",
    "    if diff_customers_v.size > 0:\n",
    "        \n",
    "        print('{} only in customers_df : {}'.format(col, diff_customers_v))"
   ]
  },
  {
   "cell_type": "markdown",
   "metadata": {},
   "source": [
    "#### Ananlyze `azdias_mix_cat_not_annot_attribute`\n",
    "\n",
    "Every category should exist in general population."
   ]
  },
  {
   "cell_type": "code",
   "execution_count": 104,
   "metadata": {},
   "outputs": [],
   "source": [
    "for col in azdias_mix_cat_not_annot_attribute:\n",
    "    \n",
    "    str_azdias_v = []\n",
    "    str_customers_v = []\n",
    "    \n",
    "    if col == 'CAMEO_INTL_2015':\n",
    "        \n",
    "        azdias_v = azdias_df[col].dropna().apply(lambda x: str_azdias_v.append(x) if isinstance(x, str) else int(x)).dropna().unique()\n",
    "        customers_v = customers_df[col].dropna().apply(lambda x: str_customers_v.append(x) if isinstance(x, str) else int(x)).dropna().unique()\n",
    "        diff_str_azdias_v = np.setdiff1d(str_azdias_v, str_customers_v)\n",
    "        diff_str_customers_v = np.setdiff1d(str_customers_v, str_azdias_v)\n",
    "        str_azdias_v = np.unique(str_azdias_v)\n",
    "        str_customers_v = np.unique(str_customers_v)\n",
    "        str_azdias_v = []\n",
    "        str_customers_v = []\n",
    "    else:\n",
    "        \n",
    "        azdias_v = azdias_df[col].dropna().unique()\n",
    "        customers_v = customers_df[col].dropna().unique()\n",
    "    \n",
    "    \n",
    "    diff_azdias_v = np.setdiff1d(azdias_v, customers_v)\n",
    "    diff_customers_v = np.setdiff1d(customers_v, azdias_v)\n",
    "    \n",
    "    if diff_azdias_v.size > 0:\n",
    "        print('{} different only in azdias : {}'.format(col, diff_azdias_v))\n",
    "    if diff_customers_v.size > 0:\n",
    "        print('{} different only in customers_df : {}'.format(col, diff_customers_v))\n",
    "    if len(str_azdias_v) > 0:\n",
    "        print('{} different only in azdias : {}'.format(attr, diff_str_azdias_v))\n",
    "    if len(str_customers_v) > 0:\n",
    "        print('{} different only in customers : {}'.format(attr, diff_str_customers_v))"
   ]
  },
  {
   "cell_type": "markdown",
   "metadata": {},
   "source": [
    "#### Ananlyze `azdias_num_not_annot_attribute`\n",
    "\n",
    "Gnneral population range should cover customer."
   ]
  },
  {
   "cell_type": "code",
   "execution_count": 105,
   "metadata": {},
   "outputs": [],
   "source": [
    "for col in azdias_num_not_annot_attribute:\n",
    "\n",
    "    min_v1 = azdias_df[col].min()\n",
    "    max_v1 = azdias_df[col].max()\n",
    "    min_v2 = customers_df[col].min()\n",
    "    max_v2 = customers_df[col].max()\n",
    "    \n",
    "    if min_v1 > min_v2:\n",
    "        print('{} in azdias have min value: {} larger than customer: {}'.format(col, min_v1, min_v2))\n",
    "    if max_v1 < max_v2:\n",
    "        print('{} in azdias have max value: {} smaller than customer: {}'.format(col, min_v1, min_v2))"
   ]
  },
  {
   "cell_type": "markdown",
   "metadata": {},
   "source": [
    "#### To fix the error, we will need to ...\n",
    "\n",
    "1. ORTSGR_KLS9: **change 0 to NA (undocumented in values_df)**\n",
    "2. LNR(164783, 101306): **drop customer (KBA05_GBZ value 0 only in customer**"
   ]
  },
  {
   "cell_type": "code",
   "execution_count": 143,
   "metadata": {},
   "outputs": [
    {
     "data": {
      "image/png": "[encoded data removed]",
      "text/plain": [
       "<Figure size 720x360 with 2 Axes>"
      ]
     },
     "metadata": {
      "needs_background": "light"
     },
     "output_type": "display_data"
    }
   ],
   "source": [
    "plt.figure(figsize = [10, 5])\n",
    "\n",
    "plt.subplot(1, 2, 1)\n",
    "plt.hist((customers_df.isnull().mean(), azdias_df.isnull().mean()), stacked=True, label=['customer', 'general population'])\n",
    "plt.xlabel('Missing value - customer vs general population %')\n",
    "plt.ylabel('feature')\n",
    "plt.legend()\n",
    "\n",
    "plt.subplot(1, 2, 2)\n",
    "plt.hist((customers_df.isnull().mean(axis=1), azdias_df.isnull().mean(axis=1)), stacked=True, label=['customer', 'general population'])\n",
    "plt.xlabel('Missing value - feature %')\n",
    "plt.ylabel('customer vs general population')\n",
    "plt.legend()\n",
    "\n",
    "plt.tight_layout()\n",
    "plt.show()"
   ]
  },
  {
   "cell_type": "markdown",
   "metadata": {},
   "source": [
    "### Data Preprocessing"
   ]
  },
  {
   "cell_type": "markdown",
   "metadata": {},
   "source": [
    "#### What we want to do here ...\n",
    "\n",
    "1. Drop sample and feature with large missing value\n",
    "1. Convert string to number and identify NA\n",
    "1. Change possible ambiguous unknown value to one single value\n",
    "1. Fill in missing value with median\n",
    "1. Quantative feature normalization\n",
    "1. Remove outlier"
   ]
  },
  {
   "cell_type": "code",
   "execution_count": 261,
   "metadata": {},
   "outputs": [],
   "source": [
    "# dictionary to hold all type of annotated features\n",
    "annot_attr_azdias_values_dict = {\n",
    "    'bin_cat': azdias_bin_cat_annot_attribute,\n",
    "    'nom_cat': azdias_nom_cat_annot_attribute,\n",
    "    'ord_cat': azdias_ord_cat_annot_attribute,\n",
    "    'mix_cat': azdias_mix_cat_annot_attribute,\n",
    "    'num': azdias_num_annot_attribute,\n",
    "    'unused': azdias_unused_annot_attribute\n",
    "}\n",
    "\n",
    "# dictionary to hold all type of un-annotated features\n",
    "not_annot_attr_azdias_values_dict = {\n",
    "    'bin_cat': azdias_bin_cat_not_annot_attribute,\n",
    "    'nom_cat': azdias_nom_cat_not_annot_attribute,\n",
    "    'ord_cat': azdias_ord_cat_not_annot_attribute,\n",
    "    'mix_cat': azdias_mix_cat_not_annot_attribute,\n",
    "    'num': azdias_num_not_annot_attribute,\n",
    "    'unused': azdias_unused_not_annot_attribute\n",
    "}\n",
    "\n",
    "unknown_annot_attribute_dict = {\n",
    "    'unknown': customers_unknown_values_df,\n",
    "    'main_age_unknown': customers_main_age_unknown_values_df,\n",
    "    'transaction_unknown': customers_transaction_unknown_values_df,\n",
    "    'transactions_unknown': customers_transactions_unknown_values_df,\n",
    "}\n",
    "\n",
    "new_customers_df = customers_df.copy()\n",
    "new_azdias_df = azdias_df.copy()\n",
    "\n",
    "# remove outlier\n",
    "new_customers_df = new_customers_df.loc[np.where(~np.isin(new_customers_df.LNR, customers_outlier))]"
   ]
  },
  {
   "cell_type": "code",
   "execution_count": 131,
   "metadata": {},
   "outputs": [],
   "source": [
    "import time, sys\n",
    "from IPython.display import clear_output\n",
    "\n",
    "def update_progress(progress):\n",
    "    bar_length = 20\n",
    "    if isinstance(progress, int):\n",
    "        progress = float(progress)\n",
    "    if not isinstance(progress, float):\n",
    "        progress = 0\n",
    "    if progress < 0:\n",
    "        progress = 0\n",
    "    if progress >= 1:\n",
    "        progress = 1\n",
    "\n",
    "    block = int(round(bar_length * progress))\n",
    "\n",
    "    clear_output(wait = True)\n",
    "    text = \"Progress: [{0}] {1:.1f}%\".format( \"#\" * block + \"-\" * (bar_length - block), progress * 100)\n",
    "    print(text)"
   ]
  },
  {
   "cell_type": "code",
   "execution_count": 132,
   "metadata": {},
   "outputs": [],
   "source": [
    "def unknown2na(df, unknown_dict=unknown_annot_attribute_dict):\n",
    "    '''\n",
    "    INPUT:\n",
    "    df - pandas dataframe\n",
    "    unknown_dict - dictionary to hold all type of unknown string features\n",
    "    \n",
    "    OUTPUT:\n",
    "    df - pandas dataframe\n",
    "    \n",
    "    Description: Convert all unknown value to NA\n",
    "    '''\n",
    "    i = 0\n",
    "    number_of_elements = sum([unknown_dict[k].shape[0] for k in unknown_dict.keys()])\n",
    "\n",
    "    for k in unknown_dict:\n",
    "        v_df = unknown_dict[k]\n",
    "        attrs = v_df.Attribute\n",
    "\n",
    "        for attr in attrs:\n",
    "            v_unknown = v_df[v_df.Attribute == attr].Value.values[0]\n",
    "            \n",
    "            if isinstance(v_unknown, str):\n",
    "                v_unknown = list(map(int, v_unknown.split(',')))\n",
    "                df[attr] = df[attr].apply(lambda x: x if not x in v_unknown else np.nan)\n",
    "            else:\n",
    "                df[attr] = df[attr].apply(lambda x: x if not x == v_unknown else np.nan)\n",
    "                \n",
    "            update_progress(i / number_of_elements)\n",
    "            i += 1\n",
    "\n",
    "    update_progress(1)\n",
    "            \n",
    "    return df"
   ]
  },
  {
   "cell_type": "code",
   "execution_count": 133,
   "metadata": {},
   "outputs": [
    {
     "name": "stdout",
     "output_type": "stream",
     "text": [
      "Progress: [####################] 100.0%\n"
     ]
    }
   ],
   "source": [
    "new_azdias_df = unknown2na(new_azdias_df)"
   ]
  },
  {
   "cell_type": "code",
   "execution_count": 134,
   "metadata": {},
   "outputs": [
    {
     "name": "stdout",
     "output_type": "stream",
     "text": [
      "Progress: [####################] 100.0%\n"
     ]
    }
   ],
   "source": [
    "new_customers_df = unknown2na(new_customers_df)"
   ]
  },
  {
   "cell_type": "code",
   "execution_count": 135,
   "metadata": {},
   "outputs": [],
   "source": [
    "new_customers_df.to_pickle('new_customers_df_unknown2na.pickle')\n",
    "new_azdias_df.to_pickle('new_azdias_df_unknown2na.pickle')"
   ]
  },
  {
   "cell_type": "code",
   "execution_count": 136,
   "metadata": {},
   "outputs": [],
   "source": [
    "new_azdias_df = pd.read_pickle(\"new_azdias_df_unknown2na.pickle\")\n",
    "new_customers_df = pd.read_pickle(\"new_customers_df_unknown2na.pickle\")"
   ]
  },
  {
   "cell_type": "code",
   "execution_count": 137,
   "metadata": {},
   "outputs": [],
   "source": [
    "def formatit(df, annot_dict=annot_attr_azdias_values_dict, not_annot_dict=not_annot_attr_azdias_values_dict):\n",
    "    '''\n",
    "    INPUT:\n",
    "    df - pandas dataframe\n",
    "    annot_dict - dictionary to hold all type of annotated features\n",
    "    not_annot_dict - dictionary to hold all type of un-annotated features\n",
    "    \n",
    "    OUTPUT:\n",
    "    df - pandas dataframe\n",
    "    attr_dict - dictionary with feature type\n",
    "    \n",
    "    Description: Change undocumented value to NA. Try to match 'DIAS Attributes - Values 2017.xlsx' Value field.\n",
    "    '''\n",
    "    \n",
    "    \n",
    "    i = 0\n",
    "    number_of_elements = len([v for k in annot_attr_azdias_values_dict.keys() if k != 'unused' for v in annot_attr_azdias_values_dict[k]])\n",
    "    number_of_elements += len([v for k in not_annot_attr_azdias_values_dict.keys() if k != 'unused' for v in not_annot_attr_azdias_values_dict[k]])\n",
    "    \n",
    "    for k in annot_dict.keys():\n",
    "        if k != 'unused':\n",
    "            for v in annot_dict[k]:\n",
    "                if v == 'OST_WEST_KZ':\n",
    "\n",
    "                    # change 'O': 0, 'W': 1\n",
    "                    df[v] = df[v].replace({'O':0, 'W':1})\n",
    "                elif v == 'CAMEO_DEU_2015':\n",
    "\n",
    "                    # change 'XX' to NA\n",
    "                    df[v] = df[v].replace('XX', np.nan)\n",
    "                elif v == 'CAMEO_DEUG_2015':\n",
    "\n",
    "                    # change '1', '2', '3', '4', '5', '6', '7', '8', '9' to integer, and 'X' to NA\n",
    "                    df[v] = df[v].replace('X', np.nan)\n",
    "                    df[v] = df[df[v].notna()][v].apply(lambda x: (int(x)))\n",
    "                elif v == 'KBA05_MODTEMP':\n",
    "\n",
    "                    # change 6 to NA\n",
    "                    df[v] = df[v].replace(6, np.nan)\n",
    "                elif np.isin(v, ['LP_FAMILIE_FEIN',\n",
    "                                'LP_FAMILIE_GROB',\n",
    "                                'LP_LEBENSPHASE_FEIN',\n",
    "                                'LP_LEBENSPHASE_GROB']):\n",
    "\n",
    "                    # change 0 to NA\n",
    "                    df[v] = df[v].replace(0, np.nan)\n",
    "\n",
    "                elif v == 'ORTSGR_KLS9':\n",
    "\n",
    "                    # change 0 to NA\n",
    "                    df[v] = df[v].replace(0, np.nan)\n",
    "                else:\n",
    "\n",
    "                    # All other attribute: convert to integer\n",
    "                    df[v] = df[df[v].notna()][v].apply(lambda x: int(x))\n",
    "            \n",
    "                update_progress(i / number_of_elements)\n",
    "                i += 1\n",
    "    \n",
    "    for k in not_annot_dict.keys():\n",
    "        if k != 'unused':\n",
    "            for v in not_annot_dict[k]:\n",
    "                if v == 'EINGEFUEGT_AM':\n",
    "\n",
    "                    # convert datetime string to year based categorical feature\n",
    "                    df[v] = df[df[v].notna()][v].apply(lambda x: pd.to_datetime(x).year)\n",
    "                elif v == 'D19_LETZTER_KAUF_BRANCHE':\n",
    "\n",
    "                    # change feature string to column index\n",
    "                    df[v] = df[df[v].notna()][v].apply(lambda x: np.where(customers_df.columns == x)[0][0] if x != 'D19_UNBEKANNT' else 0)\n",
    "                elif v == 'CAMEO_INTL_2015':\n",
    "\n",
    "                    # change '45', '25', '55', '51', '14', '54', '43', '22', '15', '24', '35', '23', '12', '44', '41', '52', '31', '13', '34', '32', '33' to integer, and 'XX' to NA\n",
    "                    df[v] = df[df[v].notna()][v].apply(lambda x: int(x) if x != 'XX' else np.nan)\n",
    "                else:\n",
    "\n",
    "                    # All other attribute: convert to integer\n",
    "                    df[v] = df[df[v].notna()][v].apply(lambda x: int(x))\n",
    "            \n",
    "                update_progress(i / number_of_elements)\n",
    "                i += 1\n",
    "    \n",
    "    update_progress(1)\n",
    "    \n",
    "    return df"
   ]
  },
  {
   "cell_type": "code",
   "execution_count": 138,
   "metadata": {},
   "outputs": [
    {
     "name": "stdout",
     "output_type": "stream",
     "text": [
      "Progress: [####################] 100.0%\n"
     ]
    }
   ],
   "source": [
    "new_azdias_df = formatit(new_azdias_df)"
   ]
  },
  {
   "cell_type": "code",
   "execution_count": 139,
   "metadata": {},
   "outputs": [
    {
     "name": "stdout",
     "output_type": "stream",
     "text": [
      "Progress: [####################] 100.0%\n"
     ]
    }
   ],
   "source": [
    "new_customers_df = formatit(new_customers_df)"
   ]
  },
  {
   "cell_type": "code",
   "execution_count": 140,
   "metadata": {},
   "outputs": [],
   "source": [
    "new_azdias_df.to_pickle('new_azdias_df_formatit.pickle')\n",
    "new_customers_df.to_pickle('new_customers_df_formatit.pickle')"
   ]
  },
  {
   "cell_type": "code",
   "execution_count": 262,
   "metadata": {},
   "outputs": [],
   "source": [
    "new_azdias_df = pd.read_pickle(\"new_azdias_df_formatit.pickle\")\n",
    "new_customers_df = pd.read_pickle(\"new_customers_df_formatit.pickle\")"
   ]
  },
  {
   "cell_type": "code",
   "execution_count": 263,
   "metadata": {},
   "outputs": [
    {
     "data": {
      "image/png": "[encoded data removed]",
      "text/plain": [
       "<Figure size 720x360 with 2 Axes>"
      ]
     },
     "metadata": {
      "needs_background": "light"
     },
     "output_type": "display_data"
    }
   ],
   "source": [
    "plt.figure(figsize = [10, 5])\n",
    "\n",
    "plt.subplot(1, 2, 1)\n",
    "plt.hist((new_customers_df.isnull().mean(), new_azdias_df.isnull().mean()), stacked=True, label=['customer', 'general population'])\n",
    "plt.xlabel('Missing value - customer vs general population %')\n",
    "plt.ylabel('feature')\n",
    "plt.legend()\n",
    "\n",
    "plt.subplot(1, 2, 2)\n",
    "plt.hist((new_customers_df.isnull().mean(axis=1), new_azdias_df.isnull().mean(axis=1)), stacked=True, label=['customer', 'general population'])\n",
    "plt.xlabel('Missing value - feature %')\n",
    "plt.ylabel('customer vs general population')\n",
    "plt.legend()\n",
    "\n",
    "plt.tight_layout()\n",
    "plt.show()"
   ]
  },
  {
   "cell_type": "code",
   "execution_count": 264,
   "metadata": {},
   "outputs": [
    {
     "data": {
      "image/png": "[encoded data removed]",
      "text/plain": [
       "<Figure size 720x720 with 1 Axes>"
      ]
     },
     "metadata": {
      "needs_background": "light"
     },
     "output_type": "display_data"
    }
   ],
   "source": [
    "_ = np.setdiff1d(new_azdias_df.columns[new_azdias_df.isnull().mean() > FEATURE_DROP_RATIO], annot_attr_azdias_values_dict['unused'])\n",
    "_ = np.union1d(_, np.setdiff1d(new_azdias_df.columns[new_azdias_df.isnull().mean() > FEATURE_DROP_RATIO], not_annot_attr_azdias_values_dict['unused']))\n",
    "\n",
    "plt.figure(figsize = [10, 10])\n",
    "new_customers_df[_].isnull().mean().plot.barh()\n",
    "plt.title('{} features with missing value > {}%'.format(np.setdiff1d(_, 'LNR').size, FEATURE_DROP_RATIO*100))\n",
    "plt.tight_layout()\n",
    "plt.show()"
   ]
  },
  {
   "cell_type": "code",
   "execution_count": 265,
   "metadata": {},
   "outputs": [],
   "source": [
    "annot_attr_azdias_values_dict['unused'] = np.union1d(annot_attr_azdias_values_dict['unused'], \\\n",
    "                                np.intersect1d(np.concatenate(list(annot_attr_azdias_values_dict.values())), new_azdias_df.columns[new_azdias_df.isnull().mean() > FEATURE_DROP_RATIO]))\n",
    "annot_attr_azdias_values_dict['bin_cat'] = np.setdiff1d(annot_attr_azdias_values_dict['bin_cat'], annot_attr_azdias_values_dict['unused'])\n",
    "annot_attr_azdias_values_dict['nom_cat'] = np.setdiff1d(annot_attr_azdias_values_dict['nom_cat'], annot_attr_azdias_values_dict['unused'])\n",
    "annot_attr_azdias_values_dict['ord_cat'] = np.setdiff1d(annot_attr_azdias_values_dict['ord_cat'], annot_attr_azdias_values_dict['unused'])\n",
    "annot_attr_azdias_values_dict['mix_cat'] = np.setdiff1d(annot_attr_azdias_values_dict['mix_cat'], annot_attr_azdias_values_dict['unused'])\n",
    "annot_attr_azdias_values_dict['num'] = np.setdiff1d(annot_attr_azdias_values_dict['num'], annot_attr_azdias_values_dict['unused'])"
   ]
  },
  {
   "cell_type": "code",
   "execution_count": 266,
   "metadata": {},
   "outputs": [],
   "source": [
    "assert annot_attr_azdias_values.size == annot_attr_azdias_values_dict['bin_cat'].size \\\n",
    "                                        + annot_attr_azdias_values_dict['nom_cat'].size \\\n",
    "                                        + annot_attr_azdias_values_dict['ord_cat'].size \\\n",
    "                                        + annot_attr_azdias_values_dict['mix_cat'].size \\\n",
    "                                        + annot_attr_azdias_values_dict['num'].size \\\n",
    "                                        + annot_attr_azdias_values_dict['unused'].size"
   ]
  },
  {
   "cell_type": "code",
   "execution_count": 267,
   "metadata": {},
   "outputs": [],
   "source": [
    "not_annot_attr_azdias_values_dict['unused'] = np.union1d(not_annot_attr_azdias_values_dict['unused'], \\\n",
    "                                np.intersect1d(np.concatenate(list(not_annot_attr_azdias_values_dict.values())), new_azdias_df.columns[new_azdias_df.isnull().mean() > FEATURE_DROP_RATIO]))\n",
    "not_annot_attr_azdias_values_dict['bin_cat'] = np.setdiff1d(not_annot_attr_azdias_values_dict['bin_cat'], not_annot_attr_azdias_values_dict['unused'])\n",
    "not_annot_attr_azdias_values_dict['nom_cat'] = np.setdiff1d(not_annot_attr_azdias_values_dict['nom_cat'], not_annot_attr_azdias_values_dict['unused'])\n",
    "not_annot_attr_azdias_values_dict['ord_cat'] = np.setdiff1d(not_annot_attr_azdias_values_dict['ord_cat'], not_annot_attr_azdias_values_dict['unused'])\n",
    "not_annot_attr_azdias_values_dict['mix_cat'] = np.setdiff1d(not_annot_attr_azdias_values_dict['mix_cat'], not_annot_attr_azdias_values_dict['unused'])\n",
    "not_annot_attr_azdias_values_dict['num'] = np.setdiff1d(not_annot_attr_azdias_values_dict['num'], not_annot_attr_azdias_values_dict['unused'])"
   ]
  },
  {
   "cell_type": "code",
   "execution_count": 268,
   "metadata": {},
   "outputs": [],
   "source": [
    "assert not_annot_attr_azdias_values.size == not_annot_attr_azdias_values_dict['bin_cat'].size \\\n",
    "                                            + not_annot_attr_azdias_values_dict['nom_cat'].size \\\n",
    "                                            + not_annot_attr_azdias_values_dict['ord_cat'].size \\\n",
    "                                            + not_annot_attr_azdias_values_dict['mix_cat'].size \\\n",
    "                                            + not_annot_attr_azdias_values_dict['num'].size \\\n",
    "                                            + not_annot_attr_azdias_values_dict['unused'].size"
   ]
  },
  {
   "cell_type": "markdown",
   "metadata": {},
   "source": [
    "unused features"
   ]
  },
  {
   "cell_type": "code",
   "execution_count": 269,
   "metadata": {},
   "outputs": [],
   "source": [
    "def drop(df, customer_drop_ratio=CUSTOMER_DROP_RATIO, annot_dict=annot_attr_azdias_values_dict, not_annot_dict=not_annot_attr_azdias_values_dict):\n",
    "    '''\n",
    "    INPUT:\n",
    "    df - pandas dataframe\n",
    "    customer_drop_ratio - drop ratio for customer\n",
    "    annot_dict - dictionary to hold all type of annotated features\n",
    "    not_annot_dict - dictionary to hold all type of un-annotated features\n",
    "    \n",
    "    OUTPUT:\n",
    "    df - pandas dataframe\n",
    "    \n",
    "    Description: Drop customers with drop_ratio.\n",
    "    '''\n",
    "    ## drop customer\n",
    "    df = df.loc[df.isnull().mean(axis=1) < customer_drop_ratio]\n",
    "    \n",
    "    ## drop ferature\n",
    "    cols = [v for k in annot_dict.keys() for v in annot_dict[k]]\n",
    "    cols += [v for k in not_annot_dict.keys() for v in not_annot_dict[k]]\n",
    "    cols = np.setdiff1d(cols, annot_dict['unused'])\n",
    "    cols = np.setdiff1d(cols, not_annot_dict['unused'])\n",
    "    df = df[cols]\n",
    "    \n",
    "    return df"
   ]
  },
  {
   "cell_type": "code",
   "execution_count": 270,
   "metadata": {},
   "outputs": [],
   "source": [
    "new_azdias_df = drop(new_azdias_df, annot_dict=annot_attr_azdias_values_dict, not_annot_dict=not_annot_attr_azdias_values_dict)"
   ]
  },
  {
   "cell_type": "code",
   "execution_count": 271,
   "metadata": {},
   "outputs": [],
   "source": [
    "new_customers_df = drop(new_customers_df, annot_dict=annot_attr_azdias_values_dict, not_annot_dict=not_annot_attr_azdias_values_dict)"
   ]
  },
  {
   "cell_type": "code",
   "execution_count": 272,
   "metadata": {},
   "outputs": [
    {
     "data": {
      "image/png": "[encoded data removed]",
      "text/plain": [
       "<Figure size 720x360 with 2 Axes>"
      ]
     },
     "metadata": {
      "needs_background": "light"
     },
     "output_type": "display_data"
    }
   ],
   "source": [
    "plt.figure(figsize = [10, 5])\n",
    "\n",
    "plt.subplot(1, 2, 1)\n",
    "plt.hist((new_customers_df.isnull().mean(), new_azdias_df.isnull().mean()), stacked=True, label=['customer', 'general population'])\n",
    "plt.xlabel('Missing value - customer vs general population %')\n",
    "plt.ylabel('feature')\n",
    "plt.legend()\n",
    "\n",
    "plt.subplot(1, 2, 2)\n",
    "plt.hist((new_customers_df.isnull().mean(axis=1), new_azdias_df.isnull().mean(axis=1)), stacked=True, label=['customer', 'general population'])\n",
    "plt.xlabel('Missing value - feature %')\n",
    "plt.ylabel('customer vs general population')\n",
    "plt.legend()\n",
    "\n",
    "plt.tight_layout()\n",
    "plt.show()"
   ]
  },
  {
   "cell_type": "markdown",
   "metadata": {},
   "source": [
    "We can find customers missing value been bounded by generation population, which means this is a sufficient drop."
   ]
  },
  {
   "cell_type": "code",
   "execution_count": 273,
   "metadata": {},
   "outputs": [
    {
     "name": "stdout",
     "output_type": "stream",
     "text": [
      "ANZ_TITEL in general population have max value: 4.0 smaller than sample: 5.0\n",
      "D19_TELKO_ONLINE_QUOTE_12 have value only in sample : [3.]\n"
     ]
    }
   ],
   "source": [
    "def scan(population_df, sample_df, annot_dict=annot_attr_azdias_values_dict, not_annot_dict=not_annot_attr_azdias_values_dict):\n",
    "    '''\n",
    "    INPUT:\n",
    "    population_df - pandas dataframe for general population\n",
    "    sample_df - pandas dataframe for sample\n",
    "    annot_dict - dictionary to hold all type of annotated features\n",
    "    not_annot_dict - dictionary to hold all type of un-annotated features\n",
    "    \n",
    "    Description: Scan feature overlay with general population and sample.\n",
    "    '''\n",
    "    for col in population_df.columns:\n",
    "        if not np.isin(col, np.union1d(annot_dict['num'], not_annot_dict['num'])):       \n",
    "            population_v = population_df[col].dropna().unique()\n",
    "            sample_v = sample_df[col].dropna().unique()\n",
    "\n",
    "            diff_population_v = np.setdiff1d(population_v, sample_v)\n",
    "            diff_sample_v = np.setdiff1d(sample_v, population_v)\n",
    "\n",
    "            if diff_sample_v.size > 0:\n",
    "                print('{} have value only in sample : {}'.format(col, diff_sample_v))    \n",
    "                \n",
    "        else:\n",
    "            max_population_v = population_df[col].dropna().max()\n",
    "            min_population_v = population_df[col].dropna().min()\n",
    "\n",
    "            max_sample_v = sample_df[col].dropna().max()\n",
    "            min_sample_v = sample_df[col].dropna().min()\n",
    "\n",
    "            if min_population_v > min_sample_v:\n",
    "                print('{} in general population have min value: {} larger than sample: {}'.format(col, min_population_v, min_sample_v))\n",
    "            if max_population_v < max_sample_v:\n",
    "                print('{} in general population have max value: {} smaller than sample: {}'.format(col, max_population_v, max_sample_v))\n",
    "\n",
    "scan(new_azdias_df, new_customers_df)"
   ]
  },
  {
   "cell_type": "markdown",
   "metadata": {},
   "source": [
    "__NOTE__: remove 1 outlier in customer - ANZ_TITEL = 5"
   ]
  },
  {
   "cell_type": "code",
   "execution_count": 292,
   "metadata": {},
   "outputs": [],
   "source": [
    "new_customers_df = new_customers_df.iloc[np.where(new_customers_df['ANZ_TITEL'] != 5)[0]]"
   ]
  },
  {
   "cell_type": "markdown",
   "metadata": {},
   "source": [
    "__NOTE__: remove 1 outlier in customer - D19_TELKO_ONLINE_QUOTE_12 = 3"
   ]
  },
  {
   "cell_type": "code",
   "execution_count": 293,
   "metadata": {},
   "outputs": [],
   "source": [
    "new_customers_df = new_customers_df.iloc[np.where(new_customers_df['D19_TELKO_ONLINE_QUOTE_12'] != 3)[0]]"
   ]
  },
  {
   "cell_type": "code",
   "execution_count": 220,
   "metadata": {},
   "outputs": [],
   "source": [
    "def fillna(df, annot_dict=annot_attr_azdias_values_dict, not_annot_dict=not_annot_attr_azdias_values_dict):\n",
    "    '''\n",
    "    INPUT:\n",
    "    df - pandas dataframe\n",
    "    annot_dict - dictionary to hold all type of annotated features\n",
    "    not_annot_dict - dictionary to hold all type of un-annotated features\n",
    "    \n",
    "    OUTPUT:\n",
    "    df - pandas dataframe\n",
    "    \n",
    "    Description: Fill every NA field a value.\n",
    "    '''\n",
    "    for k in annot_dict.keys():\n",
    "        if k != 'unused':\n",
    "            for v in annot_dict[k]:\n",
    "                df[v] = df[v].fillna(df[v].median())\n",
    "            \n",
    "    for k in not_annot_dict.keys():\n",
    "        if k != 'unused':\n",
    "            for v in not_annot_dict[k]:\n",
    "                df[v] = df[v].fillna(df[v].median())\n",
    "    \n",
    "    return df"
   ]
  },
  {
   "cell_type": "code",
   "execution_count": null,
   "metadata": {},
   "outputs": [],
   "source": [
    "new_azdias_df = fillna(new_azdias_df)"
   ]
  },
  {
   "cell_type": "code",
   "execution_count": null,
   "metadata": {},
   "outputs": [],
   "source": [
    "new_customers_df = fillna(new_customers_df)"
   ]
  },
  {
   "cell_type": "code",
   "execution_count": null,
   "metadata": {},
   "outputs": [],
   "source": [
    "new_customers_df.to_pickle('new_customers_df_fillna.pickle')\n",
    "new_azdias_df.to_pickle('new_azdias_df_fillna.pickle')"
   ]
  },
  {
   "cell_type": "code",
   "execution_count": null,
   "metadata": {},
   "outputs": [],
   "source": [
    "new_customers_df = pd.read_pickle(\"new_customers_df_fillna.pickle\")\n",
    "new_azdias_df = pd.read_pickle(\"new_azdias_df_fillna.pickle\")"
   ]
  },
  {
   "cell_type": "markdown",
   "metadata": {},
   "source": [
    "#### Check quantative feature relationship"
   ]
  },
  {
   "cell_type": "code",
   "execution_count": null,
   "metadata": {},
   "outputs": [],
   "source": [
    "_ = new_customers_df[np.union1d(annot_attr_azdias_values_dict['num'], not_annot_attr_azdias_values_dict['num'])]\n",
    "pd.plotting.scatter_matrix(_, alpha = 0.3, figsize = (14,8), diagonal = 'kde');"
   ]
  },
  {
   "cell_type": "code",
   "execution_count": null,
   "metadata": {},
   "outputs": [],
   "source": [
    "uniform_data = _.corr()\n",
    "sns.heatmap(uniform_data, vmin=0, vmax=1, annot=True, square=True)\n",
    "plt.show()"
   ]
  },
  {
   "cell_type": "markdown",
   "metadata": {},
   "source": [
    "#### To fix the error, we will need to ..\n",
    "\n",
    "1. ANZ_HAUSHALTE_AKTIV, ANZ_STATISTISCHE_HAUSHALTE: **log transform(right skewed data)**\n",
    "3. **ANZ_HAUSHALTE_AKTIV and ANZ_STATISTISCHE_HAUSHALTE has very high corelation**\n",
    "\n",
    "__NOTE__: ANZ_HAUSHALTE_AKTIV: number of households in the building\n",
    "\n",
    "__NOTE__: ANZ_STATISTISCHE_HAUSHALTE: un-documented"
   ]
  },
  {
   "cell_type": "code",
   "execution_count": null,
   "metadata": {},
   "outputs": [],
   "source": [
    "def normalize(df):\n",
    "    '''\n",
    "    INPUT:\n",
    "    df - pandas dataframe\n",
    "    annot_dict - dictionary to hold all type of annotated features\n",
    "    not_annot_dict - dictionary to hold all type of un-annotated features\n",
    "    \n",
    "    OUTPUT:\n",
    "    df - pandas dataframe\n",
    "    \n",
    "    Description: Normalize numeric feature to a range.\n",
    "    '''\n",
    "    df['ANZ_HAUSHALTE_AKTIV'] = np.log1p(df['ANZ_HAUSHALTE_AKTIV'])\n",
    "    df['ANZ_STATISTISCHE_HAUSHALTE'] = np.log1p(df['ANZ_STATISTISCHE_HAUSHALTE'])\n",
    "    \n",
    "    return df"
   ]
  },
  {
   "cell_type": "code",
   "execution_count": null,
   "metadata": {},
   "outputs": [],
   "source": [
    "new_customers_df = normalize(new_customers_df)"
   ]
  },
  {
   "cell_type": "code",
   "execution_count": null,
   "metadata": {},
   "outputs": [],
   "source": [
    "_ = new_customers_df[np.union1d(annot_attr_azdias_values_dict['num'], not_annot_attr_azdias_values_dict['num'])]\n",
    "pd.plotting.scatter_matrix(_, alpha = 0.3, figsize = (14,8), diagonal = 'kde');"
   ]
  },
  {
   "cell_type": "code",
   "execution_count": null,
   "metadata": {},
   "outputs": [],
   "source": [
    "new_azdias_df = normalize(new_azdias_df)"
   ]
  },
  {
   "cell_type": "markdown",
   "metadata": {},
   "source": [
    "Detecting outliers in the data is extremely important in the data preprocessing step of any analysis. The presence of outliers can often skew results which take into consideration these data points. There are many \"rules of thumb\" for what constitutes an outlier in a dataset. Here, we will use [Tukey's Method for identfying outliers](http://datapigtechnologies.com/blog/index.php/highlighting-outliers-in-your-data-with-the-tukey-method/): An *outlier step* is calculated as 1.5 times the interquartile range (IQR). A data point with a feature that is beyond an outlier step outside of the IQR for that feature is considered abnormal."
   ]
  },
  {
   "cell_type": "code",
   "execution_count": null,
   "metadata": {},
   "outputs": [],
   "source": [
    "def remove_outlier(df, annot_dict=annot_attr_azdias_values_dict, not_annot_dict=not_annot_attr_azdias_values_dict, ratio=.3):\n",
    "    '''\n",
    "    INPUT:\n",
    "    df - pandas dataframe\n",
    "    annot_dict - dictionary to hold all type of annotated features\n",
    "    not_annot_dict - dictionary to hold all type of un-annotated features\n",
    "    ratio - ratio feature are all outlier will be considered as true outlier\n",
    "    \n",
    "    OUTPUT:\n",
    "    df - pandas dataframe\n",
    "    \n",
    "    Description: Remove abnormal value\n",
    "    '''\n",
    "    outliers  = []\n",
    "    \n",
    "    n_feature = np.union1d(annot_dict['num'], not_annot_dict['num']).size\n",
    "\n",
    "    # For each feature find the data points with extreme high or low values\n",
    "    for feature in np.union1d(annot_dict['num'], not_annot_dict['num']):\n",
    "    \n",
    "        # Calculate Q1 (25th percentile of the data) for the given feature\n",
    "        Q1 = np.percentile(df[feature], 25)\n",
    "\n",
    "        # Calculate Q3 (75th percentile of the data) for the given feature\n",
    "        Q3 = np.percentile(df[feature], 75)\n",
    "\n",
    "        # Use the interquartile range to calculate an outlier step (1.5 times the interquartile range)\n",
    "        step = 1.5*(Q3-Q1)\n",
    "\n",
    "        # Display the outliers\n",
    "#         print(\"Data points considered outliers for the feature '{}':\".format(feature))\n",
    "        outlier = df[~((df[feature] >= Q1 - step) & (df[feature] <= Q3 + step))]\n",
    "\n",
    "        outliers += list(outlier.index)\n",
    "\n",
    "    # Select the indices for data points you wish to remove\n",
    "    outliers  = list(set([x for x in outliers if outliers.count(x) > n_feature*ratio]))\n",
    "\n",
    "    print(\"drop {} outliers for over {} features: \".format(len(outliers), n_feature*ratio))\n",
    "    df.drop(outliers, inplace=True)\n",
    "    \n",
    "    return df"
   ]
  },
  {
   "cell_type": "code",
   "execution_count": null,
   "metadata": {},
   "outputs": [],
   "source": [
    "new_azdias_df = remove_outlier(new_azdias_df)"
   ]
  },
  {
   "cell_type": "code",
   "execution_count": null,
   "metadata": {},
   "outputs": [],
   "source": [
    "new_customers_df = remove_outlier(new_customers_df)"
   ]
  },
  {
   "cell_type": "markdown",
   "metadata": {},
   "source": [
    "## Part 1: Customer Segmentation Report\n",
    "\n",
    "The main bulk of your analysis will come in this part of the project. Here, you should use unsupervised learning techniques to describe the relationship between the demographics of the company's existing customers and the general population of Germany. By the end of this part, you should be able to describe parts of the general population that are more likely to be part of the mail-order company's main customer base, and which parts of the general population are less so."
   ]
  },
  {
   "cell_type": "markdown",
   "metadata": {},
   "source": [
    "### Feature Transformation"
   ]
  },
  {
   "cell_type": "code",
   "execution_count": null,
   "metadata": {},
   "outputs": [],
   "source": [
    "new_azdias_df = pd.read_pickle(\"new_azdias_df_fillna.pickle\")\n",
    "new_customers_df = pd.read_pickle(\"new_customers_df_fillna.pickle\")"
   ]
  },
  {
   "cell_type": "code",
   "execution_count": null,
   "metadata": {},
   "outputs": [],
   "source": [
    "np.where(new_azdias_df.columns == 'GEBURTSJAHR')"
   ]
  },
  {
   "cell_type": "code",
   "execution_count": null,
   "metadata": {},
   "outputs": [],
   "source": [
    "new_azdias_df[np.setdiff1d(annot_attr_azdias_values_dict['num_cat'], ['D19_KONSUMTYP', 'D19_GESAMT_ONLINE_QUOTE_12', 'D19_BUCH_CD'])].columns.tolist()"
   ]
  },
  {
   "cell_type": "code",
   "execution_count": null,
   "metadata": {},
   "outputs": [],
   "source": [
    "from sklearn.decomposition import PCA\n",
    "\n",
    "# Apply PCA by fitting the good data with the same number of dimensions as features\n",
    "pca = PCA().fit(new_azdias_df[np.setdiff1d(annot_attr_azdias_values_dict['num_cat'], ['D19_KONSUMTYP', 'D19_GESAMT_ONLINE_QUOTE_12', 'D19_BUCH_CD'])])"
   ]
  },
  {
   "cell_type": "code",
   "execution_count": null,
   "metadata": {},
   "outputs": [],
   "source": [
    "def show_pca(pca):\n",
    "    \"\"\"    \n",
    "    INPUT:\n",
    "        pca: an sklearn.decomposition.pca.PCA object    \n",
    "    \n",
    "    OUTPUT:\n",
    "        None (visualizes a plot)\n",
    "    \n",
    "    DESCRIPTION:\n",
    "        Visualize the curves of the explained variance ratio for each component and the cumulative ratios\n",
    "    \"\"\"\n",
    "    cumulative_ratios=np.zeros(len(pca.explained_variance_ratio_))\n",
    "    \n",
    "    for i in range(len(pca.explained_variance_ratio_)):\n",
    "        cumulative_ratios[i]=np.sum(pca.explained_variance_ratio_[:i])\n",
    "        \n",
    "    plt.figure(figsize=(10,10))\n",
    "    \n",
    "    plt.plot(pca.explained_variance_ratio_)\n",
    "    plt.plot(cumulative_ratios)\n",
    "    \n",
    "    plt.xlabel(\"Components\")\n",
    "    plt.ylabel(\"Explained Variance Ratio %\")\n",
    "    plt.title(\"PCA Components Explained Variance Ratios\")\n",
    "    plt.yticks(np.arange(0, 1, step=0.05))\n",
    "    plt.xticks(np.arange(0, len(pca.explained_variance_ratio_)+2, step= (len(pca.explained_variance_ratio_) // 20)))\n",
    "    plt.grid(linewidth=0.1)\n",
    "    plt.legend(['Variance Ratio', 'Cumulative'], loc='center right')\n",
    "    \n",
    "show_pca(pca)"
   ]
  },
  {
   "cell_type": "code",
   "execution_count": null,
   "metadata": {},
   "outputs": [],
   "source": [
    "new_azdias_df.columns[np.where(np.round(pca.components_[0], 4) < -.9)]"
   ]
  },
  {
   "cell_type": "code",
   "execution_count": null,
   "metadata": {},
   "outputs": [],
   "source": [
    "new_azdias_df['D19_BUCH_CD']"
   ]
  },
  {
   "cell_type": "code",
   "execution_count": null,
   "metadata": {},
   "outputs": [],
   "source": [
    "values_df[values_df.Attribute == 'D19_GESAMT_ONLINE_QUOTE_12']"
   ]
  },
  {
   "cell_type": "code",
   "execution_count": null,
   "metadata": {},
   "outputs": [],
   "source": [
    "new_azdias_df['D19_GESAMT_ONLINE_QUOTE_12'].value_counts()"
   ]
  },
  {
   "cell_type": "code",
   "execution_count": null,
   "metadata": {},
   "outputs": [],
   "source": [
    "new_customers_df['D19_GESAMT_ONLINE_QUOTE_12'].value_counts()"
   ]
  },
  {
   "cell_type": "code",
   "execution_count": null,
   "metadata": {},
   "outputs": [],
   "source": [
    "new_azdias_df.columns[np.where(pca.components_[0] > .8)]"
   ]
  },
  {
   "cell_type": "code",
   "execution_count": null,
   "metadata": {},
   "outputs": [],
   "source": [
    "new_azdias_df['KBA13_ANTG4']."
   ]
  },
  {
   "cell_type": "code",
   "execution_count": null,
   "metadata": {},
   "outputs": [],
   "source": [
    "np.sum(pca.explained_variance_ratio_[:3])"
   ]
  },
  {
   "cell_type": "code",
   "execution_count": null,
   "metadata": {},
   "outputs": [],
   "source": [
    "# Transform log_samples using the PCA fit above\n",
    "pca_samples = pca.transform(new_customers_df)"
   ]
  },
  {
   "cell_type": "code",
   "execution_count": null,
   "metadata": {},
   "outputs": [],
   "source": [
    "def pca_results(good_data, pca):\n",
    "    '''\n",
    "    Create a DataFrame of the PCA results\n",
    "    Includes dimension feature weights and explained variance\n",
    "    Visualizes the PCA results\n",
    "    '''\n",
    "\n",
    "    # Dimension indexing\n",
    "    dimensions = dimensions = ['Dimension {}'.format(i) for i in range(1,len(pca.components_)+1)]\n",
    "\n",
    "    # PCA components\n",
    "    components = pd.DataFrame(np.round(pca.components_, 4), columns = list(good_data.keys()))\n",
    "    \n",
    "    components.index = dimensions\n",
    "\n",
    "    # PCA explained variance\n",
    "    ratios = pca.explained_variance_ratio_.reshape(len(pca.components_), 1)\n",
    "    variance_ratios = pd.DataFrame(np.round(ratios, 4), columns = ['Explained Variance'])\n",
    "    variance_ratios.index = dimensions\n",
    "    print(variance_ratios)\n",
    "\n",
    "#     # Create a bar plot visualization\n",
    "#     fig, ax = plt.subplots(figsize = (14,8))\n",
    "\n",
    "#     # Plot the feature weights as a function of the components\n",
    "#     components.plot(ax = ax, kind = 'bar');\n",
    "#     ax.set_ylabel(\"Feature Weights\")\n",
    "#     ax.set_xticklabels(dimensions, rotation=0)\n",
    "\n",
    "\n",
    "#     # Display the explained variance ratios\n",
    "#     for i, ev in enumerate(pca.explained_variance_ratio_):\n",
    "#         ax.text(i-0.40, ax.get_ylim()[1] + 0.05, \"Explained Variance\\n          %.4f\"%(ev))\n",
    "\n",
    "    # Return a concatenated DataFrame\n",
    "#     return pd.concat([variance_ratios, components], axis = 1)\n",
    "    return good_data"
   ]
  },
  {
   "cell_type": "code",
   "execution_count": null,
   "metadata": {},
   "outputs": [],
   "source": [
    "# Generate PCA results plot\n",
    "pca_results = pca_results(new_azdias_df, pca)"
   ]
  },
  {
   "cell_type": "markdown",
   "metadata": {},
   "source": [
    "### Clustering"
   ]
  },
  {
   "cell_type": "code",
   "execution_count": null,
   "metadata": {},
   "outputs": [],
   "source": []
  },
  {
   "cell_type": "markdown",
   "metadata": {},
   "source": [
    "## Part 2: Supervised Learning Model\n",
    "\n",
    "Now that you've found which parts of the population are more likely to be customers of the mail-order company, it's time to build a prediction model. Each of the rows in the \"MAILOUT\" data files represents an individual that was targeted for a mailout campaign. Ideally, we should be able to use the demographic information from each individual to decide whether or not it will be worth it to include that person in the campaign.\n",
    "\n",
    "The \"MAILOUT\" data has been split into two approximately equal parts, each with almost 43 000 data rows. In this part, you can verify your model with the \"TRAIN\" partition, which includes a column, \"RESPONSE\", that states whether or not a person became a customer of the company following the campaign. In the next part, you'll need to create predictions on the \"TEST\" partition, where the \"RESPONSE\" column has been withheld."
   ]
  },
  {
   "cell_type": "code",
   "execution_count": null,
   "metadata": {},
   "outputs": [],
   "source": [
    "mailout_train = pd.read_csv('../../data/Term2/capstone/arvato_data/Udacity_MAILOUT_052018_TRAIN.csv', sep=';')"
   ]
  },
  {
   "cell_type": "code",
   "execution_count": null,
   "metadata": {},
   "outputs": [],
   "source": []
  },
  {
   "cell_type": "markdown",
   "metadata": {},
   "source": [
    "## Part 3: Kaggle Competition\n",
    "\n",
    "Now that you've created a model to predict which individuals are most likely to respond to a mailout campaign, it's time to test that model in competition through Kaggle. If you click on the link [here](http://www.kaggle.com/t/21e6d45d4c574c7fa2d868f0e8c83140), you'll be taken to the competition page where, if you have a Kaggle account, you can enter. If you're one of the top performers, you may have the chance to be contacted by a hiring manager from Arvato or Bertelsmann for an interview!\n",
    "\n",
    "Your entry to the competition should be a CSV file with two columns. The first column should be a copy of \"LNR\", which acts as an ID number for each individual in the \"TEST\" partition. The second column, \"RESPONSE\", should be some measure of how likely each individual became a customer – this might not be a straightforward probability. As you should have found in Part 2, there is a large output class imbalance, where most individuals did not respond to the mailout. Thus, predicting individual classes and using accuracy does not seem to be an appropriate performance evaluation method. Instead, the competition will be using AUC to evaluate performance. The exact values of the \"RESPONSE\" column do not matter as much: only that the higher values try to capture as many of the actual customers as possible, early in the ROC curve sweep."
   ]
  },
  {
   "cell_type": "code",
   "execution_count": null,
   "metadata": {},
   "outputs": [],
   "source": [
    "mailout_test = pd.read_csv('../../data/Term2/capstone/arvato_data/Udacity_MAILOUT_052018_TEST.csv', sep=';')"
   ]
  },
  {
   "cell_type": "code",
   "execution_count": null,
   "metadata": {},
   "outputs": [],
   "source": []
  }
 ],
 "metadata": {
  "kernelspec": {
   "display_name": "Python 3",
   "language": "python",
   "name": "python3"
  },
  "language_info": {
   "codemirror_mode": {
    "name": "ipython",
    "version": 3
   },
   "file_extension": ".py",
   "mimetype": "text/x-python",
   "name": "python",
   "nbconvert_exporter": "python",
   "pygments_lexer": "ipython3",
   "version": "3.7.3"
  }
 },
 "nbformat": 4,
 "nbformat_minor": 2
}
